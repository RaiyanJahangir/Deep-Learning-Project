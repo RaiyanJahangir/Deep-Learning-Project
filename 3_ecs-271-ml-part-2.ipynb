{
 "cells": [
  {
   "cell_type": "code",
   "execution_count": 1,
   "id": "78ec2d50",
   "metadata": {
    "_cell_guid": "b1076dfc-b9ad-4769-8c92-a6c4dae69d19",
    "_uuid": "8f2839f25d086af736a60e9eeb907d3b93b6e0e5",
    "collapsed": true,
    "execution": {
     "iopub.execute_input": "2024-11-27T05:24:17.417513Z",
     "iopub.status.busy": "2024-11-27T05:24:17.417121Z",
     "iopub.status.idle": "2024-11-27T05:24:17.427513Z",
     "shell.execute_reply": "2024-11-27T05:24:17.426287Z"
    },
    "jupyter": {
     "outputs_hidden": true
    },
    "papermill": {
     "duration": 0.022008,
     "end_time": "2024-11-27T05:24:17.429910",
     "exception": false,
     "start_time": "2024-11-27T05:24:17.407902",
     "status": "completed"
    },
    "tags": []
   },
   "outputs": [],
   "source": [
    "# This Python 3 environment comes with many helpful analytics libraries installed\n",
    "# It is defined by the kaggle/python Docker image: https://github.com/kaggle/docker-python\n",
    "# For example, here's several helpful packages to load\n",
    "\n",
    "import numpy as np # linear algebra\n",
    "import pandas as pd # data processing, CSV file I/O (e.g. pd.read_csv)\n",
    "\n",
    "# Input data files are available in the read-only \"../input/\" directory\n",
    "# For example, running this (by clicking run or pressing Shift+Enter) will list all files under the input directory\n",
    "\n",
    "# import os\n",
    "# for dirname, _, filenames in os.walk('/kaggle/input'):\n",
    "#     for filename in filenames:\n",
    "#         print(os.path.join(dirname, filename))\n",
    "\n",
    "# You can write up to 20GB to the current directory (/kaggle/working/) that gets preserved as output when you create a version using \"Save & Run All\" \n",
    "# You can also write temporary files to /kaggle/temp/, but they won't be saved outside of the current session"
   ]
  },
  {
   "cell_type": "code",
   "execution_count": 2,
   "id": "3ca1f1c0",
   "metadata": {
    "execution": {
     "iopub.execute_input": "2024-11-27T05:24:17.446667Z",
     "iopub.status.busy": "2024-11-27T05:24:17.445585Z",
     "iopub.status.idle": "2024-11-27T05:24:29.726132Z",
     "shell.execute_reply": "2024-11-27T05:24:29.725050Z"
    },
    "papermill": {
     "duration": 12.291853,
     "end_time": "2024-11-27T05:24:29.729132",
     "exception": false,
     "start_time": "2024-11-27T05:24:17.437279",
     "status": "completed"
    },
    "tags": []
   },
   "outputs": [
    {
     "name": "stderr",
     "output_type": "stream",
     "text": [
      "/opt/conda/lib/python3.10/site-packages/scipy/__init__.py:146: UserWarning: A NumPy version >=1.16.5 and <1.23.0 is required for this version of SciPy (detected version 1.23.5\n",
      "  warnings.warn(f\"A NumPy version >={np_minversion} and <{np_maxversion}\"\n",
      "/opt/conda/lib/python3.10/site-packages/tensorflow_io/python/ops/__init__.py:98: UserWarning: unable to load libtensorflow_io_plugins.so: unable to open file: libtensorflow_io_plugins.so, from paths: ['/opt/conda/lib/python3.10/site-packages/tensorflow_io/python/ops/libtensorflow_io_plugins.so']\n",
      "caused by: ['/opt/conda/lib/python3.10/site-packages/tensorflow_io/python/ops/libtensorflow_io_plugins.so: undefined symbol: _ZN3tsl6StatusC1EN10tensorflow5error4CodeESt17basic_string_viewIcSt11char_traitsIcEENS_14SourceLocationE']\n",
      "  warnings.warn(f\"unable to load libtensorflow_io_plugins.so: {e}\")\n",
      "/opt/conda/lib/python3.10/site-packages/tensorflow_io/python/ops/__init__.py:104: UserWarning: file system plugins are not loaded: unable to open file: libtensorflow_io.so, from paths: ['/opt/conda/lib/python3.10/site-packages/tensorflow_io/python/ops/libtensorflow_io.so']\n",
      "caused by: ['/opt/conda/lib/python3.10/site-packages/tensorflow_io/python/ops/libtensorflow_io.so: undefined symbol: _ZTVN10tensorflow13GcsFileSystemE']\n",
      "  warnings.warn(f\"file system plugins are not loaded: {e}\")\n"
     ]
    }
   ],
   "source": [
    "import matplotlib.pyplot as plt\n",
    "import numpy as np\n",
    "import pandas as pd\n",
    "import seaborn as sns\n",
    "import cv2\n",
    "import tensorflow as tf\n",
    "from tensorflow.keras.preprocessing.image import ImageDataGenerator\n",
    "from tqdm import tqdm\n",
    "import os\n",
    "from sklearn.utils import shuffle\n",
    "from sklearn.model_selection import train_test_split\n",
    "from tensorflow.keras.applications import EfficientNetB0, DenseNet201\n",
    "from tensorflow.keras.callbacks import EarlyStopping, ReduceLROnPlateau, TensorBoard, ModelCheckpoint\n",
    "from sklearn.metrics import classification_report,confusion_matrix, accuracy_score, precision_score, recall_score, f1_score\n",
    "import ipywidgets as widgets\n",
    "import io\n",
    "from PIL import Image\n",
    "from IPython.display import display,clear_output\n",
    "from warnings import filterwarnings\n",
    "from keras.models import Sequential\n",
    "from keras.layers import Dense, Flatten, Dropout\n",
    "import time\n",
    "import psutil"
   ]
  },
  {
   "cell_type": "code",
   "execution_count": 3,
   "id": "5f90e062",
   "metadata": {
    "execution": {
     "iopub.execute_input": "2024-11-27T05:24:29.746049Z",
     "iopub.status.busy": "2024-11-27T05:24:29.745187Z",
     "iopub.status.idle": "2024-11-27T05:24:29.750945Z",
     "shell.execute_reply": "2024-11-27T05:24:29.749707Z"
    },
    "papermill": {
     "duration": 0.016358,
     "end_time": "2024-11-27T05:24:29.753059",
     "exception": false,
     "start_time": "2024-11-27T05:24:29.736701",
     "status": "completed"
    },
    "tags": []
   },
   "outputs": [],
   "source": [
    "labels = ['Early_Blight','Healthy','Late_Blight']"
   ]
  },
  {
   "cell_type": "code",
   "execution_count": 4,
   "id": "0289b973",
   "metadata": {
    "execution": {
     "iopub.execute_input": "2024-11-27T05:24:29.769365Z",
     "iopub.status.busy": "2024-11-27T05:24:29.768993Z",
     "iopub.status.idle": "2024-11-27T05:25:29.918654Z",
     "shell.execute_reply": "2024-11-27T05:25:29.917312Z"
    },
    "papermill": {
     "duration": 60.160772,
     "end_time": "2024-11-27T05:25:29.921159",
     "exception": false,
     "start_time": "2024-11-27T05:24:29.760387",
     "status": "completed"
    },
    "tags": []
   },
   "outputs": [
    {
     "name": "stderr",
     "output_type": "stream",
     "text": [
      "100%|██████████| 1303/1303 [00:16<00:00, 79.53it/s]\n",
      "100%|██████████| 1303/1303 [00:15<00:00, 85.82it/s]\n",
      "100%|██████████| 1303/1303 [00:16<00:00, 79.74it/s]\n",
      "100%|██████████| 162/162 [00:01<00:00, 82.35it/s]\n",
      "100%|██████████| 162/162 [00:01<00:00, 83.75it/s]\n",
      "100%|██████████| 162/162 [00:01<00:00, 83.34it/s]\n",
      "100%|██████████| 163/163 [00:01<00:00, 82.48it/s]\n",
      "100%|██████████| 163/163 [00:01<00:00, 85.44it/s]\n",
      "100%|██████████| 163/163 [00:01<00:00, 83.35it/s]\n"
     ]
    }
   ],
   "source": [
    "X_train = []\n",
    "y_train = []\n",
    "X_test = []\n",
    "y_test = []\n",
    "image_size = 128\n",
    "for i in labels:\n",
    "    folderPath = os.path.join('/kaggle/input/balanced-data/balanced_data','Training',i)\n",
    "    for j in tqdm(os.listdir(folderPath)):\n",
    "        img = cv2.imread(os.path.join(folderPath,j))\n",
    "        img = cv2.resize(img,(image_size, image_size))\n",
    "        X_train.append(img)\n",
    "        y_train.append(i)\n",
    "        \n",
    "for i in labels:\n",
    "    folderPath = os.path.join('/kaggle/input/balanced-data/balanced_data','Testing',i)\n",
    "    for j in tqdm(os.listdir(folderPath)):\n",
    "        img = cv2.imread(os.path.join(folderPath,j))\n",
    "        img = cv2.resize(img,(image_size,image_size))\n",
    "        X_test.append(img)\n",
    "        y_test.append(i)\n",
    "        \n",
    "for i in labels:\n",
    "    folderPath = os.path.join('/kaggle/input/balanced-data/balanced_data','Validation',i)\n",
    "    for j in tqdm(os.listdir(folderPath)):\n",
    "        img = cv2.imread(os.path.join(folderPath,j))\n",
    "        img = cv2.resize(img,(image_size,image_size))\n",
    "        X_train.append(img)\n",
    "        y_train.append(i)\n",
    "        \n",
    "X_train = np.array(X_train)\n",
    "y_train = np.array(y_train)\n",
    "X_test = np.array(X_test)\n",
    "y_test = np.array(y_test)"
   ]
  },
  {
   "cell_type": "code",
   "execution_count": 5,
   "id": "e39cf507",
   "metadata": {
    "execution": {
     "iopub.execute_input": "2024-11-27T05:25:29.993113Z",
     "iopub.status.busy": "2024-11-27T05:25:29.992670Z",
     "iopub.status.idle": "2024-11-27T05:25:29.998588Z",
     "shell.execute_reply": "2024-11-27T05:25:29.997481Z"
    },
    "papermill": {
     "duration": 0.044599,
     "end_time": "2024-11-27T05:25:30.001075",
     "exception": false,
     "start_time": "2024-11-27T05:25:29.956476",
     "status": "completed"
    },
    "tags": []
   },
   "outputs": [
    {
     "name": "stdout",
     "output_type": "stream",
     "text": [
      "(4398, 128, 128, 3)\n",
      "(4398,)\n",
      "(486, 128, 128, 3)\n",
      "(486,)\n"
     ]
    }
   ],
   "source": [
    "print(X_train.shape)\n",
    "print(y_train.shape)\n",
    "print(X_test.shape)\n",
    "print(y_test.shape)"
   ]
  },
  {
   "cell_type": "code",
   "execution_count": 6,
   "id": "6480a6ff",
   "metadata": {
    "execution": {
     "iopub.execute_input": "2024-11-27T05:25:30.075185Z",
     "iopub.status.busy": "2024-11-27T05:25:30.074797Z",
     "iopub.status.idle": "2024-11-27T05:25:30.080743Z",
     "shell.execute_reply": "2024-11-27T05:25:30.079572Z"
    },
    "papermill": {
     "duration": 0.045906,
     "end_time": "2024-11-27T05:25:30.083190",
     "exception": false,
     "start_time": "2024-11-27T05:25:30.037284",
     "status": "completed"
    },
    "tags": []
   },
   "outputs": [],
   "source": [
    "# Reshape X_train\n",
    "nsamples, nx, ny, nrgb = X_train.shape\n",
    "X_train = X_train.reshape((nsamples,nx*ny*nrgb))\n",
    "\n",
    "# Reshape X_test\n",
    "nsamples, nx, ny, nrgb= X_test.shape\n",
    "X_test = X_test.reshape(nsamples, nx*ny*nrgb)"
   ]
  },
  {
   "cell_type": "code",
   "execution_count": 7,
   "id": "5d0edf5d",
   "metadata": {
    "execution": {
     "iopub.execute_input": "2024-11-27T05:25:30.155537Z",
     "iopub.status.busy": "2024-11-27T05:25:30.155151Z",
     "iopub.status.idle": "2024-11-27T05:25:30.161008Z",
     "shell.execute_reply": "2024-11-27T05:25:30.159810Z"
    },
    "papermill": {
     "duration": 0.045386,
     "end_time": "2024-11-27T05:25:30.163793",
     "exception": false,
     "start_time": "2024-11-27T05:25:30.118407",
     "status": "completed"
    },
    "tags": []
   },
   "outputs": [
    {
     "name": "stdout",
     "output_type": "stream",
     "text": [
      "(4398, 49152)\n",
      "(4398,)\n",
      "(486, 49152)\n",
      "(486,)\n"
     ]
    }
   ],
   "source": [
    "print(X_train.shape)\n",
    "print(y_train.shape)\n",
    "print(X_test.shape)\n",
    "print(y_test.shape)"
   ]
  },
  {
   "cell_type": "code",
   "execution_count": 8,
   "id": "452938dd",
   "metadata": {
    "execution": {
     "iopub.execute_input": "2024-11-27T05:25:30.238250Z",
     "iopub.status.busy": "2024-11-27T05:25:30.237869Z",
     "iopub.status.idle": "2024-11-27T05:25:30.257206Z",
     "shell.execute_reply": "2024-11-27T05:25:30.255992Z"
    },
    "papermill": {
     "duration": 0.05988,
     "end_time": "2024-11-27T05:25:30.259847",
     "exception": false,
     "start_time": "2024-11-27T05:25:30.199967",
     "status": "completed"
    },
    "tags": []
   },
   "outputs": [],
   "source": [
    "all_model = pd.DataFrame(columns=['Model', 'Accuracy (Train)', 'Precision (Train)', 'Recall (Train)', 'F1 Score (Train)', 'Accuracy (Test)', 'Precision (Test)', 'Recall (Test)', 'F1 Score (Test)', 'Training Time (s)', 'Testing Time (s)','Memory (MB)'])"
   ]
  },
  {
   "cell_type": "code",
   "execution_count": 9,
   "id": "e1070695",
   "metadata": {
    "execution": {
     "iopub.execute_input": "2024-11-27T05:25:30.335105Z",
     "iopub.status.busy": "2024-11-27T05:25:30.334587Z",
     "iopub.status.idle": "2024-11-27T05:25:30.358088Z",
     "shell.execute_reply": "2024-11-27T05:25:30.356583Z"
    },
    "papermill": {
     "duration": 0.064385,
     "end_time": "2024-11-27T05:25:30.360942",
     "exception": false,
     "start_time": "2024-11-27T05:25:30.296557",
     "status": "completed"
    },
    "tags": []
   },
   "outputs": [
    {
     "data": {
      "text/html": [
       "<div>\n",
       "<style scoped>\n",
       "    .dataframe tbody tr th:only-of-type {\n",
       "        vertical-align: middle;\n",
       "    }\n",
       "\n",
       "    .dataframe tbody tr th {\n",
       "        vertical-align: top;\n",
       "    }\n",
       "\n",
       "    .dataframe thead th {\n",
       "        text-align: right;\n",
       "    }\n",
       "</style>\n",
       "<table border=\"1\" class=\"dataframe\">\n",
       "  <thead>\n",
       "    <tr style=\"text-align: right;\">\n",
       "      <th></th>\n",
       "      <th>Model</th>\n",
       "      <th>Accuracy (Train)</th>\n",
       "      <th>Precision (Train)</th>\n",
       "      <th>Recall (Train)</th>\n",
       "      <th>F1 Score (Train)</th>\n",
       "      <th>Accuracy (Test)</th>\n",
       "      <th>Precision (Test)</th>\n",
       "      <th>Recall (Test)</th>\n",
       "      <th>F1 Score (Test)</th>\n",
       "      <th>Training Time (s)</th>\n",
       "      <th>Testing Time (s)</th>\n",
       "      <th>Memory (MB)</th>\n",
       "    </tr>\n",
       "  </thead>\n",
       "  <tbody>\n",
       "  </tbody>\n",
       "</table>\n",
       "</div>"
      ],
      "text/plain": [
       "Empty DataFrame\n",
       "Columns: [Model, Accuracy (Train), Precision (Train), Recall (Train), F1 Score (Train), Accuracy (Test), Precision (Test), Recall (Test), F1 Score (Test), Training Time (s), Testing Time (s), Memory (MB)]\n",
       "Index: []"
      ]
     },
     "execution_count": 9,
     "metadata": {},
     "output_type": "execute_result"
    }
   ],
   "source": [
    "all_model"
   ]
  },
  {
   "cell_type": "markdown",
   "id": "4d707fbc",
   "metadata": {
    "papermill": {
     "duration": 0.03521,
     "end_time": "2024-11-27T05:25:30.433211",
     "exception": false,
     "start_time": "2024-11-27T05:25:30.398001",
     "status": "completed"
    },
    "tags": []
   },
   "source": [
    "**Machine Learning**"
   ]
  },
  {
   "cell_type": "markdown",
   "id": "7546def6",
   "metadata": {
    "papermill": {
     "duration": 0.035637,
     "end_time": "2024-11-27T05:25:30.504525",
     "exception": false,
     "start_time": "2024-11-27T05:25:30.468888",
     "status": "completed"
    },
    "tags": []
   },
   "source": [
    "**Random Forest**"
   ]
  },
  {
   "cell_type": "code",
   "execution_count": 10,
   "id": "ca5cd89f",
   "metadata": {
    "execution": {
     "iopub.execute_input": "2024-11-27T05:25:30.581319Z",
     "iopub.status.busy": "2024-11-27T05:25:30.580954Z",
     "iopub.status.idle": "2024-11-27T05:29:03.568057Z",
     "shell.execute_reply": "2024-11-27T05:29:03.566922Z"
    },
    "papermill": {
     "duration": 213.029424,
     "end_time": "2024-11-27T05:29:03.571247",
     "exception": false,
     "start_time": "2024-11-27T05:25:30.541823",
     "status": "completed"
    },
    "tags": []
   },
   "outputs": [],
   "source": [
    "from sklearn.ensemble import RandomForestClassifier\n",
    "\n",
    "# define the RF model\n",
    "rf = RandomForestClassifier(\n",
    "    n_estimators=300,           \n",
    "    criterion='gini',           \n",
    "    max_depth=20,               \n",
    "    min_samples_split=5,        \n",
    "    min_samples_leaf=3,         \n",
    "    max_features='sqrt',        \n",
    "    bootstrap=True,             \n",
    "    oob_score=True,             \n",
    "    random_state=42             \n",
    ")\n",
    "\n",
    "# fit the model on the training data\n",
    "start_time = time.time()\n",
    "rf.fit(X_train, y_train)\n",
    "training_time = time.time() - start_time\n",
    "memory_usage = psutil.Process().memory_info().rss / 1024 / 1024"
   ]
  },
  {
   "cell_type": "code",
   "execution_count": 11,
   "id": "55941c99",
   "metadata": {
    "execution": {
     "iopub.execute_input": "2024-11-27T05:29:03.649577Z",
     "iopub.status.busy": "2024-11-27T05:29:03.649178Z",
     "iopub.status.idle": "2024-11-27T05:29:03.795688Z",
     "shell.execute_reply": "2024-11-27T05:29:03.794647Z"
    },
    "papermill": {
     "duration": 0.189164,
     "end_time": "2024-11-27T05:29:03.798602",
     "exception": false,
     "start_time": "2024-11-27T05:29:03.609438",
     "status": "completed"
    },
    "tags": []
   },
   "outputs": [],
   "source": [
    "# make predictions on the test data\n",
    "start_time = time.time()\n",
    "y_pred = rf.predict(X_test)\n",
    "testing_time = time.time() - start_time"
   ]
  },
  {
   "cell_type": "code",
   "execution_count": 12,
   "id": "ea8a8e53",
   "metadata": {
    "execution": {
     "iopub.execute_input": "2024-11-27T05:29:03.873417Z",
     "iopub.status.busy": "2024-11-27T05:29:03.873017Z",
     "iopub.status.idle": "2024-11-27T05:29:04.254015Z",
     "shell.execute_reply": "2024-11-27T05:29:04.252776Z"
    },
    "papermill": {
     "duration": 0.420726,
     "end_time": "2024-11-27T05:29:04.256417",
     "exception": false,
     "start_time": "2024-11-27T05:29:03.835691",
     "status": "completed"
    },
    "tags": []
   },
   "outputs": [
    {
     "data": {
      "image/png": "[encoded data removed]",
      "text/plain": [
       "<Figure size 640x480 with 2 Axes>"
      ]
     },
     "metadata": {},
     "output_type": "display_data"
    }
   ],
   "source": [
    "classes=['EB','H','LB']\n",
    "# Compute the confusion matrix\n",
    "cm = confusion_matrix(y_test, y_pred)\n",
    "\n",
    "# Plot the confusion matrix\n",
    "fig, ax = plt.subplots()\n",
    "im = ax.imshow(cm, interpolation='nearest', cmap=plt.cm.Greens)\n",
    "ax.figure.colorbar(im, ax=ax)\n",
    "ax.set(xticks=np.arange(cm.shape[1]),\n",
    "       yticks=np.arange(cm.shape[0]),\n",
    "       xticklabels=classes,\n",
    "       yticklabels=classes,\n",
    "       xlabel='Predicted label',\n",
    "       ylabel='True label',\n",
    "       aspect='equal',\n",
    "       )\n",
    "plt.xticks(np.arange(cm.shape[1]),  rotation=45, fontweight='bold', color='black',fontsize=10)\n",
    "plt.yticks(np.arange(cm.shape[0]),  fontweight='bold', color='black',fontsize=10)\n",
    "plt.ylabel('True label', fontweight='bold', color='black',fontsize=10)\n",
    "plt.xlabel('Predicted label', fontweight='bold', color='black',fontsize=10)\n",
    "plt.setp(ax.get_xticklabels(), rotation=45, ha=\"right\",rotation_mode=\"anchor\")\n",
    "\n",
    "for i in range(cm.shape[0]):\n",
    "    for j in range(cm.shape[1]):\n",
    "        ax.text(j, i, format(cm[i, j], 'd'),\n",
    "                ha=\"center\", va=\"center\", fontweight='bold',\n",
    "                color=\"white\" if cm[i, j] > cm.max() / 2. else \"black\")\n",
    "fig.tight_layout()\n",
    "plt.show()"
   ]
  },
  {
   "cell_type": "code",
   "execution_count": 13,
   "id": "86e9a50e",
   "metadata": {
    "execution": {
     "iopub.execute_input": "2024-11-27T05:29:04.329694Z",
     "iopub.status.busy": "2024-11-27T05:29:04.329297Z",
     "iopub.status.idle": "2024-11-27T05:29:04.347183Z",
     "shell.execute_reply": "2024-11-27T05:29:04.345822Z"
    },
    "papermill": {
     "duration": 0.057333,
     "end_time": "2024-11-27T05:29:04.349505",
     "exception": false,
     "start_time": "2024-11-27T05:29:04.292172",
     "status": "completed"
    },
    "tags": []
   },
   "outputs": [
    {
     "name": "stdout",
     "output_type": "stream",
     "text": [
      "Accuracy (Test): 81.8930\n",
      "Precision (Test): 82.7718\n",
      "Recall (Test): 81.8930\n",
      "F1 score (Test): 82.0509\n"
     ]
    }
   ],
   "source": [
    "accuracy_test = accuracy_score(y_test, y_pred)*100\n",
    "precision_test = precision_score(y_test, y_pred, average='macro')*100\n",
    "recall_test = recall_score(y_test, y_pred, average='macro')*100\n",
    "f1_test = f1_score(y_test, y_pred, average='macro')*100\n",
    "\n",
    "print(\"Accuracy (Test): {:.4f}\".format(accuracy_test))\n",
    "print(\"Precision (Test): {:.4f}\".format(precision_test))\n",
    "print(\"Recall (Test): {:.4f}\".format(recall_test))\n",
    "print(\"F1 score (Test): {:.4f}\".format(f1_test))"
   ]
  },
  {
   "cell_type": "code",
   "execution_count": 14,
   "id": "f7246bc0",
   "metadata": {
    "execution": {
     "iopub.execute_input": "2024-11-27T05:29:04.424158Z",
     "iopub.status.busy": "2024-11-27T05:29:04.423704Z",
     "iopub.status.idle": "2024-11-27T05:29:05.257805Z",
     "shell.execute_reply": "2024-11-27T05:29:05.256769Z"
    },
    "papermill": {
     "duration": 0.874061,
     "end_time": "2024-11-27T05:29:05.260406",
     "exception": false,
     "start_time": "2024-11-27T05:29:04.386345",
     "status": "completed"
    },
    "tags": []
   },
   "outputs": [],
   "source": [
    "# make predictions on the train data\n",
    "y_pred = rf.predict(X_train)"
   ]
  },
  {
   "cell_type": "code",
   "execution_count": 15,
   "id": "82fac831",
   "metadata": {
    "execution": {
     "iopub.execute_input": "2024-11-27T05:29:05.334279Z",
     "iopub.status.busy": "2024-11-27T05:29:05.333874Z",
     "iopub.status.idle": "2024-11-27T05:29:05.664794Z",
     "shell.execute_reply": "2024-11-27T05:29:05.663306Z"
    },
    "papermill": {
     "duration": 0.371193,
     "end_time": "2024-11-27T05:29:05.667763",
     "exception": false,
     "start_time": "2024-11-27T05:29:05.296570",
     "status": "completed"
    },
    "tags": []
   },
   "outputs": [
    {
     "data": {
      "image/png": "[encoded data removed]",
      "text/plain": [
       "<Figure size 640x480 with 2 Axes>"
      ]
     },
     "metadata": {},
     "output_type": "display_data"
    }
   ],
   "source": [
    "classes=['EB','H','LB']\n",
    "# Compute the confusion matrix\n",
    "cm = confusion_matrix(y_train, y_pred)\n",
    "\n",
    "# Plot the confusion matrix\n",
    "fig, ax = plt.subplots()\n",
    "im = ax.imshow(cm, interpolation='nearest', cmap=plt.cm.Greens)\n",
    "ax.figure.colorbar(im, ax=ax)\n",
    "ax.set(xticks=np.arange(cm.shape[1]),\n",
    "       yticks=np.arange(cm.shape[0]),\n",
    "       xticklabels=classes,\n",
    "       yticklabels=classes,\n",
    "       xlabel='Predicted label',\n",
    "       ylabel='True label',\n",
    "       aspect='equal',\n",
    "       )\n",
    "plt.xticks(np.arange(cm.shape[1]),  rotation=45, fontweight='bold', color='black',fontsize=10)\n",
    "plt.yticks(np.arange(cm.shape[0]),  fontweight='bold', color='black',fontsize=10)\n",
    "plt.ylabel('True label', fontweight='bold', color='black',fontsize=10)\n",
    "plt.xlabel('Predicted label', fontweight='bold', color='black',fontsize=10)\n",
    "plt.setp(ax.get_xticklabels(), rotation=45, ha=\"right\",rotation_mode=\"anchor\")\n",
    "\n",
    "for i in range(cm.shape[0]):\n",
    "    for j in range(cm.shape[1]):\n",
    "        ax.text(j, i, format(cm[i, j], 'd'),\n",
    "                ha=\"center\", va=\"center\", fontweight='bold',\n",
    "                color=\"white\" if cm[i, j] > cm.max() / 2. else \"black\")\n",
    "fig.tight_layout()\n",
    "plt.show()"
   ]
  },
  {
   "cell_type": "code",
   "execution_count": 16,
   "id": "4b525372",
   "metadata": {
    "execution": {
     "iopub.execute_input": "2024-11-27T05:29:05.745012Z",
     "iopub.status.busy": "2024-11-27T05:29:05.744591Z",
     "iopub.status.idle": "2024-11-27T05:29:05.790584Z",
     "shell.execute_reply": "2024-11-27T05:29:05.789425Z"
    },
    "papermill": {
     "duration": 0.086728,
     "end_time": "2024-11-27T05:29:05.793109",
     "exception": false,
     "start_time": "2024-11-27T05:29:05.706381",
     "status": "completed"
    },
    "tags": []
   },
   "outputs": [
    {
     "name": "stdout",
     "output_type": "stream",
     "text": [
      "Accuracy (Train): 99.7044\n",
      "Precision (Train): 99.7044\n",
      "Recall (Train): 99.7044\n",
      "F1 score (Train): 99.7044\n"
     ]
    }
   ],
   "source": [
    "accuracy_train = accuracy_score(y_train, y_pred)*100\n",
    "precision_train = precision_score(y_train, y_pred, average='macro')*100\n",
    "recall_train = recall_score(y_train, y_pred, average='macro')*100\n",
    "f1_train = f1_score(y_train, y_pred, average='macro')*100\n",
    "\n",
    "print(\"Accuracy (Train): {:.4f}\".format(accuracy_train))\n",
    "print(\"Precision (Train): {:.4f}\".format(precision_train))\n",
    "print(\"Recall (Train): {:.4f}\".format(recall_train))\n",
    "print(\"F1 score (Train): {:.4f}\".format(f1_train))"
   ]
  },
  {
   "cell_type": "code",
   "execution_count": 17,
   "id": "57a3e517",
   "metadata": {
    "execution": {
     "iopub.execute_input": "2024-11-27T05:29:05.869406Z",
     "iopub.status.busy": "2024-11-27T05:29:05.869018Z",
     "iopub.status.idle": "2024-11-27T05:29:05.878236Z",
     "shell.execute_reply": "2024-11-27T05:29:05.877010Z"
    },
    "papermill": {
     "duration": 0.049966,
     "end_time": "2024-11-27T05:29:05.880751",
     "exception": false,
     "start_time": "2024-11-27T05:29:05.830785",
     "status": "completed"
    },
    "tags": []
   },
   "outputs": [],
   "source": [
    "model_name='RF'\n",
    "all_model.loc[len(all_model)] = [model_name, accuracy_train, precision_train, recall_train, f1_train, accuracy_test, precision_test, recall_test, f1_test, training_time, testing_time, memory_usage]"
   ]
  },
  {
   "cell_type": "code",
   "execution_count": 18,
   "id": "882330ae",
   "metadata": {
    "execution": {
     "iopub.execute_input": "2024-11-27T05:29:05.957776Z",
     "iopub.status.busy": "2024-11-27T05:29:05.957352Z",
     "iopub.status.idle": "2024-11-27T05:29:05.973409Z",
     "shell.execute_reply": "2024-11-27T05:29:05.972313Z"
    },
    "papermill": {
     "duration": 0.05643,
     "end_time": "2024-11-27T05:29:05.975555",
     "exception": false,
     "start_time": "2024-11-27T05:29:05.919125",
     "status": "completed"
    },
    "tags": []
   },
   "outputs": [
    {
     "data": {
      "text/html": [
       "<div>\n",
       "<style scoped>\n",
       "    .dataframe tbody tr th:only-of-type {\n",
       "        vertical-align: middle;\n",
       "    }\n",
       "\n",
       "    .dataframe tbody tr th {\n",
       "        vertical-align: top;\n",
       "    }\n",
       "\n",
       "    .dataframe thead th {\n",
       "        text-align: right;\n",
       "    }\n",
       "</style>\n",
       "<table border=\"1\" class=\"dataframe\">\n",
       "  <thead>\n",
       "    <tr style=\"text-align: right;\">\n",
       "      <th></th>\n",
       "      <th>Model</th>\n",
       "      <th>Accuracy (Train)</th>\n",
       "      <th>Precision (Train)</th>\n",
       "      <th>Recall (Train)</th>\n",
       "      <th>F1 Score (Train)</th>\n",
       "      <th>Accuracy (Test)</th>\n",
       "      <th>Precision (Test)</th>\n",
       "      <th>Recall (Test)</th>\n",
       "      <th>F1 Score (Test)</th>\n",
       "      <th>Training Time (s)</th>\n",
       "      <th>Testing Time (s)</th>\n",
       "      <th>Memory (MB)</th>\n",
       "    </tr>\n",
       "  </thead>\n",
       "  <tbody>\n",
       "    <tr>\n",
       "      <th>0</th>\n",
       "      <td>RF</td>\n",
       "      <td>99.704411</td>\n",
       "      <td>99.704442</td>\n",
       "      <td>99.704411</td>\n",
       "      <td>99.704396</td>\n",
       "      <td>81.893004</td>\n",
       "      <td>82.771758</td>\n",
       "      <td>81.893004</td>\n",
       "      <td>82.050924</td>\n",
       "      <td>212.524751</td>\n",
       "      <td>0.141997</td>\n",
       "      <td>1072.394531</td>\n",
       "    </tr>\n",
       "  </tbody>\n",
       "</table>\n",
       "</div>"
      ],
      "text/plain": [
       "  Model  Accuracy (Train)  Precision (Train)  Recall (Train)  \\\n",
       "0    RF         99.704411          99.704442       99.704411   \n",
       "\n",
       "   F1 Score (Train)  Accuracy (Test)  Precision (Test)  Recall (Test)  \\\n",
       "0         99.704396        81.893004         82.771758      81.893004   \n",
       "\n",
       "   F1 Score (Test)  Training Time (s)  Testing Time (s)  Memory (MB)  \n",
       "0        82.050924         212.524751          0.141997  1072.394531  "
      ]
     },
     "execution_count": 18,
     "metadata": {},
     "output_type": "execute_result"
    }
   ],
   "source": [
    "all_model"
   ]
  },
  {
   "cell_type": "markdown",
   "id": "67721bdb",
   "metadata": {
    "papermill": {
     "duration": 0.037182,
     "end_time": "2024-11-27T05:29:06.050001",
     "exception": false,
     "start_time": "2024-11-27T05:29:06.012819",
     "status": "completed"
    },
    "tags": []
   },
   "source": [
    "**Adaboost**"
   ]
  },
  {
   "cell_type": "code",
   "execution_count": 19,
   "id": "a8c24f1f",
   "metadata": {
    "execution": {
     "iopub.execute_input": "2024-11-27T05:29:06.127585Z",
     "iopub.status.busy": "2024-11-27T05:29:06.127183Z",
     "iopub.status.idle": "2024-11-27T08:02:10.742351Z",
     "shell.execute_reply": "2024-11-27T08:02:10.740876Z"
    },
    "papermill": {
     "duration": 9184.65786,
     "end_time": "2024-11-27T08:02:10.746022",
     "exception": false,
     "start_time": "2024-11-27T05:29:06.088162",
     "status": "completed"
    },
    "tags": []
   },
   "outputs": [
    {
     "name": "stderr",
     "output_type": "stream",
     "text": [
      "/opt/conda/lib/python3.10/site-packages/sklearn/ensemble/_base.py:166: FutureWarning: `base_estimator` was renamed to `estimator` in version 1.2 and will be removed in 1.4.\n",
      "  warnings.warn(\n"
     ]
    }
   ],
   "source": [
    "from sklearn.ensemble import AdaBoostClassifier\n",
    "from sklearn.tree import DecisionTreeClassifier\n",
    "\n",
    "# define the AB model\n",
    "ab = AdaBoostClassifier(\n",
    "    base_estimator=DecisionTreeClassifier(max_depth=3), \n",
    "    n_estimators=200,                                    \n",
    "    learning_rate=0.5,                                   \n",
    "    algorithm='SAMME.R',                                 \n",
    "    random_state=42                                      \n",
    ")\n",
    "\n",
    "# fit the model on the training data\n",
    "start_time = time.time()\n",
    "ab.fit(X_train, y_train)\n",
    "training_time = time.time() - start_time\n",
    "memory_usage = psutil.Process().memory_info().rss / 1024 / 1024"
   ]
  },
  {
   "cell_type": "code",
   "execution_count": 20,
   "id": "e15d0984",
   "metadata": {
    "execution": {
     "iopub.execute_input": "2024-11-27T08:02:10.826042Z",
     "iopub.status.busy": "2024-11-27T08:02:10.825581Z",
     "iopub.status.idle": "2024-11-27T08:02:18.591844Z",
     "shell.execute_reply": "2024-11-27T08:02:18.590574Z"
    },
    "papermill": {
     "duration": 7.809073,
     "end_time": "2024-11-27T08:02:18.594633",
     "exception": false,
     "start_time": "2024-11-27T08:02:10.785560",
     "status": "completed"
    },
    "tags": []
   },
   "outputs": [],
   "source": [
    "# make predictions on the test data\n",
    "start_time = time.time()\n",
    "y_pred = ab.predict(X_test)\n",
    "testing_time = time.time() - start_time"
   ]
  },
  {
   "cell_type": "code",
   "execution_count": 21,
   "id": "bf252c04",
   "metadata": {
    "execution": {
     "iopub.execute_input": "2024-11-27T08:02:18.672038Z",
     "iopub.status.busy": "2024-11-27T08:02:18.671546Z",
     "iopub.status.idle": "2024-11-27T08:02:19.024664Z",
     "shell.execute_reply": "2024-11-27T08:02:19.023381Z"
    },
    "papermill": {
     "duration": 0.394959,
     "end_time": "2024-11-27T08:02:19.027432",
     "exception": false,
     "start_time": "2024-11-27T08:02:18.632473",
     "status": "completed"
    },
    "tags": []
   },
   "outputs": [
    {
     "data": {
      "image/png": "[encoded data removed]",
      "text/plain": [
       "<Figure size 640x480 with 2 Axes>"
      ]
     },
     "metadata": {},
     "output_type": "display_data"
    }
   ],
   "source": [
    "classes=['EB','H','LB']\n",
    "# Compute the confusion matrix\n",
    "cm = confusion_matrix(y_test, y_pred)\n",
    "\n",
    "# Plot the confusion matrix\n",
    "fig, ax = plt.subplots()\n",
    "im = ax.imshow(cm, interpolation='nearest', cmap=plt.cm.Greens)\n",
    "ax.figure.colorbar(im, ax=ax)\n",
    "ax.set(xticks=np.arange(cm.shape[1]),\n",
    "       yticks=np.arange(cm.shape[0]),\n",
    "       xticklabels=classes,\n",
    "       yticklabels=classes,\n",
    "       xlabel='Predicted label',\n",
    "       ylabel='True label',\n",
    "       aspect='equal',\n",
    "       )\n",
    "plt.xticks(np.arange(cm.shape[1]),  rotation=45, fontweight='bold', color='black',fontsize=10)\n",
    "plt.yticks(np.arange(cm.shape[0]),  fontweight='bold', color='black',fontsize=10)\n",
    "plt.ylabel('True label', fontweight='bold', color='black',fontsize=10)\n",
    "plt.xlabel('Predicted label', fontweight='bold', color='black',fontsize=10)\n",
    "plt.setp(ax.get_xticklabels(), rotation=45, ha=\"right\",rotation_mode=\"anchor\")\n",
    "\n",
    "for i in range(cm.shape[0]):\n",
    "    for j in range(cm.shape[1]):\n",
    "        ax.text(j, i, format(cm[i, j], 'd'),\n",
    "                ha=\"center\", va=\"center\", fontweight='bold',\n",
    "                color=\"white\" if cm[i, j] > cm.max() / 2. else \"black\")\n",
    "fig.tight_layout()\n",
    "plt.show()"
   ]
  },
  {
   "cell_type": "code",
   "execution_count": 22,
   "id": "bd93bbe0",
   "metadata": {
    "execution": {
     "iopub.execute_input": "2024-11-27T08:02:19.108875Z",
     "iopub.status.busy": "2024-11-27T08:02:19.108441Z",
     "iopub.status.idle": "2024-11-27T08:02:19.126109Z",
     "shell.execute_reply": "2024-11-27T08:02:19.124574Z"
    },
    "papermill": {
     "duration": 0.061811,
     "end_time": "2024-11-27T08:02:19.129071",
     "exception": false,
     "start_time": "2024-11-27T08:02:19.067260",
     "status": "completed"
    },
    "tags": []
   },
   "outputs": [
    {
     "name": "stdout",
     "output_type": "stream",
     "text": [
      "Accuracy (Test): 77.5720\n",
      "Precision (Test): 78.8610\n",
      "Recall (Test): 77.5720\n",
      "F1 score (Test): 77.8455\n"
     ]
    }
   ],
   "source": [
    "accuracy_test = accuracy_score(y_test, y_pred)*100\n",
    "precision_test = precision_score(y_test, y_pred, average='macro')*100\n",
    "recall_test = recall_score(y_test, y_pred, average='macro')*100\n",
    "f1_test = f1_score(y_test, y_pred, average='macro')*100\n",
    "\n",
    "print(\"Accuracy (Test): {:.4f}\".format(accuracy_test))\n",
    "print(\"Precision (Test): {:.4f}\".format(precision_test))\n",
    "print(\"Recall (Test): {:.4f}\".format(recall_test))\n",
    "print(\"F1 score (Test): {:.4f}\".format(f1_test))"
   ]
  },
  {
   "cell_type": "code",
   "execution_count": 23,
   "id": "21e0e4c8",
   "metadata": {
    "execution": {
     "iopub.execute_input": "2024-11-27T08:02:19.230340Z",
     "iopub.status.busy": "2024-11-27T08:02:19.229445Z",
     "iopub.status.idle": "2024-11-27T08:03:24.022212Z",
     "shell.execute_reply": "2024-11-27T08:03:24.021061Z"
    },
    "papermill": {
     "duration": 64.846272,
     "end_time": "2024-11-27T08:03:24.024823",
     "exception": false,
     "start_time": "2024-11-27T08:02:19.178551",
     "status": "completed"
    },
    "tags": []
   },
   "outputs": [],
   "source": [
    "# make predictions on the train data\n",
    "y_pred = ab.predict(X_train)"
   ]
  },
  {
   "cell_type": "code",
   "execution_count": 24,
   "id": "5883abda",
   "metadata": {
    "execution": {
     "iopub.execute_input": "2024-11-27T08:03:24.102450Z",
     "iopub.status.busy": "2024-11-27T08:03:24.102080Z",
     "iopub.status.idle": "2024-11-27T08:03:24.433073Z",
     "shell.execute_reply": "2024-11-27T08:03:24.431956Z"
    },
    "papermill": {
     "duration": 0.372367,
     "end_time": "2024-11-27T08:03:24.435463",
     "exception": false,
     "start_time": "2024-11-27T08:03:24.063096",
     "status": "completed"
    },
    "tags": []
   },
   "outputs": [
    {
     "data": {
      "image/png": "[encoded data removed]",
      "text/plain": [
       "<Figure size 640x480 with 2 Axes>"
      ]
     },
     "metadata": {},
     "output_type": "display_data"
    }
   ],
   "source": [
    "classes=['EB','H','LB']\n",
    "# Compute the confusion matrix\n",
    "cm = confusion_matrix(y_train, y_pred)\n",
    "\n",
    "# Plot the confusion matrix\n",
    "fig, ax = plt.subplots()\n",
    "im = ax.imshow(cm, interpolation='nearest', cmap=plt.cm.Greens)\n",
    "ax.figure.colorbar(im, ax=ax)\n",
    "ax.set(xticks=np.arange(cm.shape[1]),\n",
    "       yticks=np.arange(cm.shape[0]),\n",
    "       xticklabels=classes,\n",
    "       yticklabels=classes,\n",
    "       xlabel='Predicted label',\n",
    "       ylabel='True label',\n",
    "       aspect='equal',\n",
    "       )\n",
    "plt.xticks(np.arange(cm.shape[1]),  rotation=45, fontweight='bold', color='black',fontsize=10)\n",
    "plt.yticks(np.arange(cm.shape[0]),  fontweight='bold', color='black',fontsize=10)\n",
    "plt.ylabel('True label', fontweight='bold', color='black',fontsize=10)\n",
    "plt.xlabel('Predicted label', fontweight='bold', color='black',fontsize=10)\n",
    "plt.setp(ax.get_xticklabels(), rotation=45, ha=\"right\",rotation_mode=\"anchor\")\n",
    "\n",
    "for i in range(cm.shape[0]):\n",
    "    for j in range(cm.shape[1]):\n",
    "        ax.text(j, i, format(cm[i, j], 'd'),\n",
    "                ha=\"center\", va=\"center\", fontweight='bold',\n",
    "                color=\"white\" if cm[i, j] > cm.max() / 2. else \"black\")\n",
    "fig.tight_layout()\n",
    "plt.show()"
   ]
  },
  {
   "cell_type": "code",
   "execution_count": 25,
   "id": "9fe8e57d",
   "metadata": {
    "execution": {
     "iopub.execute_input": "2024-11-27T08:03:24.513684Z",
     "iopub.status.busy": "2024-11-27T08:03:24.513324Z",
     "iopub.status.idle": "2024-11-27T08:03:24.559086Z",
     "shell.execute_reply": "2024-11-27T08:03:24.557775Z"
    },
    "papermill": {
     "duration": 0.087871,
     "end_time": "2024-11-27T08:03:24.561466",
     "exception": false,
     "start_time": "2024-11-27T08:03:24.473595",
     "status": "completed"
    },
    "tags": []
   },
   "outputs": [
    {
     "name": "stdout",
     "output_type": "stream",
     "text": [
      "Accuracy (Train): 97.7945\n",
      "Precision (Train): 97.7964\n",
      "Recall (Train): 97.7945\n",
      "F1 score (Train): 97.7944\n"
     ]
    }
   ],
   "source": [
    "accuracy_train = accuracy_score(y_train, y_pred)*100\n",
    "precision_train = precision_score(y_train, y_pred, average='macro')*100\n",
    "recall_train = recall_score(y_train, y_pred, average='macro')*100\n",
    "f1_train = f1_score(y_train, y_pred, average='macro')*100\n",
    "\n",
    "print(\"Accuracy (Train): {:.4f}\".format(accuracy_train))\n",
    "print(\"Precision (Train): {:.4f}\".format(precision_train))\n",
    "print(\"Recall (Train): {:.4f}\".format(recall_train))\n",
    "print(\"F1 score (Train): {:.4f}\".format(f1_train))"
   ]
  },
  {
   "cell_type": "code",
   "execution_count": 26,
   "id": "43a90625",
   "metadata": {
    "execution": {
     "iopub.execute_input": "2024-11-27T08:03:24.642015Z",
     "iopub.status.busy": "2024-11-27T08:03:24.640774Z",
     "iopub.status.idle": "2024-11-27T08:03:24.660026Z",
     "shell.execute_reply": "2024-11-27T08:03:24.658820Z"
    },
    "papermill": {
     "duration": 0.061512,
     "end_time": "2024-11-27T08:03:24.662638",
     "exception": false,
     "start_time": "2024-11-27T08:03:24.601126",
     "status": "completed"
    },
    "tags": []
   },
   "outputs": [],
   "source": [
    "model_name='AB'\n",
    "all_model.loc[len(all_model)] = [model_name, accuracy_train, precision_train, recall_train, f1_train, accuracy_test, precision_test, recall_test, f1_test, training_time, testing_time, memory_usage]"
   ]
  },
  {
   "cell_type": "code",
   "execution_count": 27,
   "id": "399733a2",
   "metadata": {
    "execution": {
     "iopub.execute_input": "2024-11-27T08:03:24.741098Z",
     "iopub.status.busy": "2024-11-27T08:03:24.740662Z",
     "iopub.status.idle": "2024-11-27T08:03:24.759235Z",
     "shell.execute_reply": "2024-11-27T08:03:24.758076Z"
    },
    "papermill": {
     "duration": 0.06013,
     "end_time": "2024-11-27T08:03:24.761381",
     "exception": false,
     "start_time": "2024-11-27T08:03:24.701251",
     "status": "completed"
    },
    "tags": []
   },
   "outputs": [
    {
     "data": {
      "text/html": [
       "<div>\n",
       "<style scoped>\n",
       "    .dataframe tbody tr th:only-of-type {\n",
       "        vertical-align: middle;\n",
       "    }\n",
       "\n",
       "    .dataframe tbody tr th {\n",
       "        vertical-align: top;\n",
       "    }\n",
       "\n",
       "    .dataframe thead th {\n",
       "        text-align: right;\n",
       "    }\n",
       "</style>\n",
       "<table border=\"1\" class=\"dataframe\">\n",
       "  <thead>\n",
       "    <tr style=\"text-align: right;\">\n",
       "      <th></th>\n",
       "      <th>Model</th>\n",
       "      <th>Accuracy (Train)</th>\n",
       "      <th>Precision (Train)</th>\n",
       "      <th>Recall (Train)</th>\n",
       "      <th>F1 Score (Train)</th>\n",
       "      <th>Accuracy (Test)</th>\n",
       "      <th>Precision (Test)</th>\n",
       "      <th>Recall (Test)</th>\n",
       "      <th>F1 Score (Test)</th>\n",
       "      <th>Training Time (s)</th>\n",
       "      <th>Testing Time (s)</th>\n",
       "      <th>Memory (MB)</th>\n",
       "    </tr>\n",
       "  </thead>\n",
       "  <tbody>\n",
       "    <tr>\n",
       "      <th>0</th>\n",
       "      <td>RF</td>\n",
       "      <td>99.704411</td>\n",
       "      <td>99.704442</td>\n",
       "      <td>99.704411</td>\n",
       "      <td>99.704396</td>\n",
       "      <td>81.893004</td>\n",
       "      <td>82.771758</td>\n",
       "      <td>81.893004</td>\n",
       "      <td>82.050924</td>\n",
       "      <td>212.524751</td>\n",
       "      <td>0.141997</td>\n",
       "      <td>1072.394531</td>\n",
       "    </tr>\n",
       "    <tr>\n",
       "      <th>1</th>\n",
       "      <td>AB</td>\n",
       "      <td>97.794452</td>\n",
       "      <td>97.796350</td>\n",
       "      <td>97.794452</td>\n",
       "      <td>97.794386</td>\n",
       "      <td>77.572016</td>\n",
       "      <td>78.861016</td>\n",
       "      <td>77.572016</td>\n",
       "      <td>77.845480</td>\n",
       "      <td>9184.608026</td>\n",
       "      <td>7.761094</td>\n",
       "      <td>1076.027344</td>\n",
       "    </tr>\n",
       "  </tbody>\n",
       "</table>\n",
       "</div>"
      ],
      "text/plain": [
       "  Model  Accuracy (Train)  Precision (Train)  Recall (Train)  \\\n",
       "0    RF         99.704411          99.704442       99.704411   \n",
       "1    AB         97.794452          97.796350       97.794452   \n",
       "\n",
       "   F1 Score (Train)  Accuracy (Test)  Precision (Test)  Recall (Test)  \\\n",
       "0         99.704396        81.893004         82.771758      81.893004   \n",
       "1         97.794386        77.572016         78.861016      77.572016   \n",
       "\n",
       "   F1 Score (Test)  Training Time (s)  Testing Time (s)  Memory (MB)  \n",
       "0        82.050924         212.524751          0.141997  1072.394531  \n",
       "1        77.845480        9184.608026          7.761094  1076.027344  "
      ]
     },
     "execution_count": 27,
     "metadata": {},
     "output_type": "execute_result"
    }
   ],
   "source": [
    "all_model"
   ]
  },
  {
   "cell_type": "markdown",
   "id": "3c4616ca",
   "metadata": {
    "papermill": {
     "duration": 0.038681,
     "end_time": "2024-11-27T08:03:24.839636",
     "exception": false,
     "start_time": "2024-11-27T08:03:24.800955",
     "status": "completed"
    },
    "tags": []
   },
   "source": [
    "**Gradient Boosting**"
   ]
  },
  {
   "cell_type": "code",
   "execution_count": 28,
   "id": "ffa852e7",
   "metadata": {
    "execution": {
     "iopub.execute_input": "2024-11-27T08:03:24.935555Z",
     "iopub.status.busy": "2024-11-27T08:03:24.935182Z",
     "iopub.status.idle": "2024-11-27T08:08:04.396034Z",
     "shell.execute_reply": "2024-11-27T08:08:04.394873Z"
    },
    "papermill": {
     "duration": 279.512772,
     "end_time": "2024-11-27T08:08:04.399050",
     "exception": false,
     "start_time": "2024-11-27T08:03:24.886278",
     "status": "completed"
    },
    "tags": []
   },
   "outputs": [],
   "source": [
    "from sklearn.ensemble import GradientBoostingClassifier\n",
    "\n",
    "# define the GB model\n",
    "gb = GradientBoostingClassifier(\n",
    "    n_estimators=300,            \n",
    "    learning_rate=0.05,          \n",
    "    max_depth=5,                 \n",
    "    min_samples_split=5,         \n",
    "    min_samples_leaf=3,          \n",
    "    max_features='sqrt',         \n",
    "    subsample=0.9,               \n",
    "    random_state=42              \n",
    ")\n",
    "\n",
    "# fit the model on the training data\n",
    "start_time = time.time()\n",
    "gb.fit(X_train, y_train)\n",
    "training_time = time.time() - start_time\n",
    "memory_usage = psutil.Process().memory_info().rss / 1024 / 1024"
   ]
  },
  {
   "cell_type": "code",
   "execution_count": 29,
   "id": "2f4f364e",
   "metadata": {
    "execution": {
     "iopub.execute_input": "2024-11-27T08:08:04.582073Z",
     "iopub.status.busy": "2024-11-27T08:08:04.581572Z",
     "iopub.status.idle": "2024-11-27T08:08:04.687444Z",
     "shell.execute_reply": "2024-11-27T08:08:04.686260Z"
    },
    "papermill": {
     "duration": 0.250822,
     "end_time": "2024-11-27T08:08:04.690128",
     "exception": false,
     "start_time": "2024-11-27T08:08:04.439306",
     "status": "completed"
    },
    "tags": []
   },
   "outputs": [],
   "source": [
    "# make predictions on the test data\n",
    "start_time = time.time()\n",
    "y_pred = gb.predict(X_test)\n",
    "testing_time = time.time() - start_time"
   ]
  },
  {
   "cell_type": "code",
   "execution_count": 30,
   "id": "18352013",
   "metadata": {
    "execution": {
     "iopub.execute_input": "2024-11-27T08:08:04.772189Z",
     "iopub.status.busy": "2024-11-27T08:08:04.771071Z",
     "iopub.status.idle": "2024-11-27T08:08:05.050447Z",
     "shell.execute_reply": "2024-11-27T08:08:05.049342Z"
    },
    "papermill": {
     "duration": 0.32374,
     "end_time": "2024-11-27T08:08:05.052942",
     "exception": false,
     "start_time": "2024-11-27T08:08:04.729202",
     "status": "completed"
    },
    "tags": []
   },
   "outputs": [
    {
     "data": {
      "image/png": "[encoded data removed]",
      "text/plain": [
       "<Figure size 640x480 with 2 Axes>"
      ]
     },
     "metadata": {},
     "output_type": "display_data"
    }
   ],
   "source": [
    "classes=['EB','H','LB']\n",
    "# Compute the confusion matrix\n",
    "cm = confusion_matrix(y_test, y_pred)\n",
    "\n",
    "# Plot the confusion matrix\n",
    "fig, ax = plt.subplots()\n",
    "im = ax.imshow(cm, interpolation='nearest', cmap=plt.cm.Greens)\n",
    "ax.figure.colorbar(im, ax=ax)\n",
    "ax.set(xticks=np.arange(cm.shape[1]),\n",
    "       yticks=np.arange(cm.shape[0]),\n",
    "       xticklabels=classes,\n",
    "       yticklabels=classes,\n",
    "       xlabel='Predicted label',\n",
    "       ylabel='True label',\n",
    "       aspect='equal',\n",
    "       )\n",
    "plt.xticks(np.arange(cm.shape[1]),  rotation=45, fontweight='bold', color='black',fontsize=10)\n",
    "plt.yticks(np.arange(cm.shape[0]),  fontweight='bold', color='black',fontsize=10)\n",
    "plt.ylabel('True label', fontweight='bold', color='black',fontsize=10)\n",
    "plt.xlabel('Predicted label', fontweight='bold', color='black',fontsize=10)\n",
    "plt.setp(ax.get_xticklabels(), rotation=45, ha=\"right\",rotation_mode=\"anchor\")\n",
    "\n",
    "for i in range(cm.shape[0]):\n",
    "    for j in range(cm.shape[1]):\n",
    "        ax.text(j, i, format(cm[i, j], 'd'),\n",
    "                ha=\"center\", va=\"center\", fontweight='bold',\n",
    "                color=\"white\" if cm[i, j] > cm.max() / 2. else \"black\")\n",
    "fig.tight_layout()\n",
    "plt.show()"
   ]
  },
  {
   "cell_type": "code",
   "execution_count": 31,
   "id": "13aa286d",
   "metadata": {
    "execution": {
     "iopub.execute_input": "2024-11-27T08:08:05.135375Z",
     "iopub.status.busy": "2024-11-27T08:08:05.134990Z",
     "iopub.status.idle": "2024-11-27T08:08:05.151562Z",
     "shell.execute_reply": "2024-11-27T08:08:05.150119Z"
    },
    "papermill": {
     "duration": 0.060056,
     "end_time": "2024-11-27T08:08:05.154266",
     "exception": false,
     "start_time": "2024-11-27T08:08:05.094210",
     "status": "completed"
    },
    "tags": []
   },
   "outputs": [
    {
     "name": "stdout",
     "output_type": "stream",
     "text": [
      "Accuracy (Test): 84.7737\n",
      "Precision (Test): 84.9488\n",
      "Recall (Test): 84.7737\n",
      "F1 score (Test): 84.8143\n"
     ]
    }
   ],
   "source": [
    "accuracy_test = accuracy_score(y_test, y_pred)*100\n",
    "precision_test = precision_score(y_test, y_pred, average='macro')*100\n",
    "recall_test = recall_score(y_test, y_pred, average='macro')*100\n",
    "f1_test = f1_score(y_test, y_pred, average='macro')*100\n",
    "\n",
    "print(\"Accuracy (Test): {:.4f}\".format(accuracy_test))\n",
    "print(\"Precision (Test): {:.4f}\".format(precision_test))\n",
    "print(\"Recall (Test): {:.4f}\".format(recall_test))\n",
    "print(\"F1 score (Test): {:.4f}\".format(f1_test))"
   ]
  },
  {
   "cell_type": "code",
   "execution_count": 32,
   "id": "12cf7a21",
   "metadata": {
    "execution": {
     "iopub.execute_input": "2024-11-27T08:08:05.235186Z",
     "iopub.status.busy": "2024-11-27T08:08:05.234784Z",
     "iopub.status.idle": "2024-11-27T08:08:06.073888Z",
     "shell.execute_reply": "2024-11-27T08:08:06.072859Z"
    },
    "papermill": {
     "duration": 0.882478,
     "end_time": "2024-11-27T08:08:06.076878",
     "exception": false,
     "start_time": "2024-11-27T08:08:05.194400",
     "status": "completed"
    },
    "tags": []
   },
   "outputs": [],
   "source": [
    "# make predictions on the train data\n",
    "y_pred = gb.predict(X_train)"
   ]
  },
  {
   "cell_type": "code",
   "execution_count": 33,
   "id": "3663e166",
   "metadata": {
    "execution": {
     "iopub.execute_input": "2024-11-27T08:08:06.158827Z",
     "iopub.status.busy": "2024-11-27T08:08:06.158415Z",
     "iopub.status.idle": "2024-11-27T08:08:06.393424Z",
     "shell.execute_reply": "2024-11-27T08:08:06.392161Z"
    },
    "papermill": {
     "duration": 0.277856,
     "end_time": "2024-11-27T08:08:06.396006",
     "exception": false,
     "start_time": "2024-11-27T08:08:06.118150",
     "status": "completed"
    },
    "tags": []
   },
   "outputs": [
    {
     "data": {
      "image/png": "[encoded data removed]",
      "text/plain": [
       "<Figure size 640x480 with 2 Axes>"
      ]
     },
     "metadata": {},
     "output_type": "display_data"
    }
   ],
   "source": [
    "classes=['EB','H','LB']\n",
    "# Compute the confusion matrix\n",
    "cm = confusion_matrix(y_train, y_pred)\n",
    "\n",
    "# Plot the confusion matrix\n",
    "fig, ax = plt.subplots()\n",
    "im = ax.imshow(cm, interpolation='nearest', cmap=plt.cm.Greens)\n",
    "ax.figure.colorbar(im, ax=ax)\n",
    "ax.set(xticks=np.arange(cm.shape[1]),\n",
    "       yticks=np.arange(cm.shape[0]),\n",
    "       xticklabels=classes,\n",
    "       yticklabels=classes,\n",
    "       xlabel='Predicted label',\n",
    "       ylabel='True label',\n",
    "       aspect='equal',\n",
    "       )\n",
    "plt.xticks(np.arange(cm.shape[1]),  rotation=45, fontweight='bold', color='black',fontsize=10)\n",
    "plt.yticks(np.arange(cm.shape[0]),  fontweight='bold', color='black',fontsize=10)\n",
    "plt.ylabel('True label', fontweight='bold', color='black',fontsize=10)\n",
    "plt.xlabel('Predicted label', fontweight='bold', color='black',fontsize=10)\n",
    "plt.setp(ax.get_xticklabels(), rotation=45, ha=\"right\",rotation_mode=\"anchor\")\n",
    "\n",
    "for i in range(cm.shape[0]):\n",
    "    for j in range(cm.shape[1]):\n",
    "        ax.text(j, i, format(cm[i, j], 'd'),\n",
    "                ha=\"center\", va=\"center\", fontweight='bold',\n",
    "                color=\"white\" if cm[i, j] > cm.max() / 2. else \"black\")\n",
    "fig.tight_layout()\n",
    "plt.show()"
   ]
  },
  {
   "cell_type": "code",
   "execution_count": 34,
   "id": "0a3767ec",
   "metadata": {
    "execution": {
     "iopub.execute_input": "2024-11-27T08:08:06.480195Z",
     "iopub.status.busy": "2024-11-27T08:08:06.479820Z",
     "iopub.status.idle": "2024-11-27T08:08:06.524951Z",
     "shell.execute_reply": "2024-11-27T08:08:06.523499Z"
    },
    "papermill": {
     "duration": 0.09038,
     "end_time": "2024-11-27T08:08:06.527390",
     "exception": false,
     "start_time": "2024-11-27T08:08:06.437010",
     "status": "completed"
    },
    "tags": []
   },
   "outputs": [
    {
     "name": "stdout",
     "output_type": "stream",
     "text": [
      "Accuracy (Train): 100.0000\n",
      "Precision (Train): 100.0000\n",
      "Recall (Train): 100.0000\n",
      "F1 score (Train): 100.0000\n"
     ]
    }
   ],
   "source": [
    "accuracy_train = accuracy_score(y_train, y_pred)*100\n",
    "precision_train = precision_score(y_train, y_pred, average='macro')*100\n",
    "recall_train = recall_score(y_train, y_pred, average='macro')*100\n",
    "f1_train = f1_score(y_train, y_pred, average='macro')*100\n",
    "\n",
    "print(\"Accuracy (Train): {:.4f}\".format(accuracy_train))\n",
    "print(\"Precision (Train): {:.4f}\".format(precision_train))\n",
    "print(\"Recall (Train): {:.4f}\".format(recall_train))\n",
    "print(\"F1 score (Train): {:.4f}\".format(f1_train))"
   ]
  },
  {
   "cell_type": "code",
   "execution_count": 35,
   "id": "6381c502",
   "metadata": {
    "execution": {
     "iopub.execute_input": "2024-11-27T08:08:06.610651Z",
     "iopub.status.busy": "2024-11-27T08:08:06.610302Z",
     "iopub.status.idle": "2024-11-27T08:08:06.619176Z",
     "shell.execute_reply": "2024-11-27T08:08:06.617857Z"
    },
    "papermill": {
     "duration": 0.053303,
     "end_time": "2024-11-27T08:08:06.621458",
     "exception": false,
     "start_time": "2024-11-27T08:08:06.568155",
     "status": "completed"
    },
    "tags": []
   },
   "outputs": [],
   "source": [
    "model_name='GB'\n",
    "all_model.loc[len(all_model)] = [model_name, accuracy_train, precision_train, recall_train, f1_train, accuracy_test, precision_test, recall_test, f1_test, training_time, testing_time, memory_usage]"
   ]
  },
  {
   "cell_type": "code",
   "execution_count": 36,
   "id": "f0c7ffa3",
   "metadata": {
    "execution": {
     "iopub.execute_input": "2024-11-27T08:08:06.703011Z",
     "iopub.status.busy": "2024-11-27T08:08:06.702608Z",
     "iopub.status.idle": "2024-11-27T08:08:06.720590Z",
     "shell.execute_reply": "2024-11-27T08:08:06.719530Z"
    },
    "papermill": {
     "duration": 0.061378,
     "end_time": "2024-11-27T08:08:06.722877",
     "exception": false,
     "start_time": "2024-11-27T08:08:06.661499",
     "status": "completed"
    },
    "tags": []
   },
   "outputs": [
    {
     "data": {
      "text/html": [
       "<div>\n",
       "<style scoped>\n",
       "    .dataframe tbody tr th:only-of-type {\n",
       "        vertical-align: middle;\n",
       "    }\n",
       "\n",
       "    .dataframe tbody tr th {\n",
       "        vertical-align: top;\n",
       "    }\n",
       "\n",
       "    .dataframe thead th {\n",
       "        text-align: right;\n",
       "    }\n",
       "</style>\n",
       "<table border=\"1\" class=\"dataframe\">\n",
       "  <thead>\n",
       "    <tr style=\"text-align: right;\">\n",
       "      <th></th>\n",
       "      <th>Model</th>\n",
       "      <th>Accuracy (Train)</th>\n",
       "      <th>Precision (Train)</th>\n",
       "      <th>Recall (Train)</th>\n",
       "      <th>F1 Score (Train)</th>\n",
       "      <th>Accuracy (Test)</th>\n",
       "      <th>Precision (Test)</th>\n",
       "      <th>Recall (Test)</th>\n",
       "      <th>F1 Score (Test)</th>\n",
       "      <th>Training Time (s)</th>\n",
       "      <th>Testing Time (s)</th>\n",
       "      <th>Memory (MB)</th>\n",
       "    </tr>\n",
       "  </thead>\n",
       "  <tbody>\n",
       "    <tr>\n",
       "      <th>0</th>\n",
       "      <td>RF</td>\n",
       "      <td>99.704411</td>\n",
       "      <td>99.704442</td>\n",
       "      <td>99.704411</td>\n",
       "      <td>99.704396</td>\n",
       "      <td>81.893004</td>\n",
       "      <td>82.771758</td>\n",
       "      <td>81.893004</td>\n",
       "      <td>82.050924</td>\n",
       "      <td>212.524751</td>\n",
       "      <td>0.141997</td>\n",
       "      <td>1072.394531</td>\n",
       "    </tr>\n",
       "    <tr>\n",
       "      <th>1</th>\n",
       "      <td>AB</td>\n",
       "      <td>97.794452</td>\n",
       "      <td>97.796350</td>\n",
       "      <td>97.794452</td>\n",
       "      <td>97.794386</td>\n",
       "      <td>77.572016</td>\n",
       "      <td>78.861016</td>\n",
       "      <td>77.572016</td>\n",
       "      <td>77.845480</td>\n",
       "      <td>9184.608026</td>\n",
       "      <td>7.761094</td>\n",
       "      <td>1076.027344</td>\n",
       "    </tr>\n",
       "    <tr>\n",
       "      <th>2</th>\n",
       "      <td>GB</td>\n",
       "      <td>100.000000</td>\n",
       "      <td>100.000000</td>\n",
       "      <td>100.000000</td>\n",
       "      <td>100.000000</td>\n",
       "      <td>84.773663</td>\n",
       "      <td>84.948787</td>\n",
       "      <td>84.773663</td>\n",
       "      <td>84.814342</td>\n",
       "      <td>279.454274</td>\n",
       "      <td>0.101175</td>\n",
       "      <td>1078.414062</td>\n",
       "    </tr>\n",
       "  </tbody>\n",
       "</table>\n",
       "</div>"
      ],
      "text/plain": [
       "  Model  Accuracy (Train)  Precision (Train)  Recall (Train)  \\\n",
       "0    RF         99.704411          99.704442       99.704411   \n",
       "1    AB         97.794452          97.796350       97.794452   \n",
       "2    GB        100.000000         100.000000      100.000000   \n",
       "\n",
       "   F1 Score (Train)  Accuracy (Test)  Precision (Test)  Recall (Test)  \\\n",
       "0         99.704396        81.893004         82.771758      81.893004   \n",
       "1         97.794386        77.572016         78.861016      77.572016   \n",
       "2        100.000000        84.773663         84.948787      84.773663   \n",
       "\n",
       "   F1 Score (Test)  Training Time (s)  Testing Time (s)  Memory (MB)  \n",
       "0        82.050924         212.524751          0.141997  1072.394531  \n",
       "1        77.845480        9184.608026          7.761094  1076.027344  \n",
       "2        84.814342         279.454274          0.101175  1078.414062  "
      ]
     },
     "execution_count": 36,
     "metadata": {},
     "output_type": "execute_result"
    }
   ],
   "source": [
    "all_model"
   ]
  }
 ],
 "metadata": {
  "kaggle": {
   "accelerator": "none",
   "dataSources": [
    {
     "datasetId": 1562973,
     "sourceId": 2574068,
     "sourceType": "datasetVersion"
    },
    {
     "datasetId": 6161628,
     "sourceId": 10008956,
     "sourceType": "datasetVersion"
    }
   ],
   "dockerImageVersionId": 30527,
   "isGpuEnabled": false,
   "isInternetEnabled": true,
   "language": "python",
   "sourceType": "notebook"
  },
  "kernelspec": {
   "display_name": "Python 3",
   "language": "python",
   "name": "python3"
  },
  "language_info": {
   "codemirror_mode": {
    "name": "ipython",
    "version": 3
   },
   "file_extension": ".py",
   "mimetype": "text/x-python",
   "name": "python",
   "nbconvert_exporter": "python",
   "pygments_lexer": "ipython3",
   "version": "3.10.12"
  },
  "papermill": {
   "default_parameters": {},
   "duration": 9844.37047,
   "end_time": "2024-11-27T08:08:10.091056",
   "environment_variables": {},
   "exception": null,
   "input_path": "__notebook__.ipynb",
   "output_path": "__notebook__.ipynb",
   "parameters": {},
   "start_time": "2024-11-27T05:24:05.720586",
   "version": "2.4.0"
  }
 },
 "nbformat": 4,
 "nbformat_minor": 5
}
