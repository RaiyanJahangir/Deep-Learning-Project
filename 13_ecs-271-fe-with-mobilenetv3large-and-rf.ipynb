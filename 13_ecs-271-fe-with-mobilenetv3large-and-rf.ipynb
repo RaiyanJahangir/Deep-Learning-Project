{
 "cells": [
  {
   "cell_type": "code",
   "execution_count": 1,
   "id": "5f4d5fa2",
   "metadata": {
    "_cell_guid": "b1076dfc-b9ad-4769-8c92-a6c4dae69d19",
    "_uuid": "8f2839f25d086af736a60e9eeb907d3b93b6e0e5",
    "execution": {
     "iopub.execute_input": "2024-12-01T23:53:42.106237Z",
     "iopub.status.busy": "2024-12-01T23:53:42.105290Z",
     "iopub.status.idle": "2024-12-01T23:53:42.114551Z",
     "shell.execute_reply": "2024-12-01T23:53:42.113920Z"
    },
    "papermill": {
     "duration": 0.017532,
     "end_time": "2024-12-01T23:53:42.116217",
     "exception": false,
     "start_time": "2024-12-01T23:53:42.098685",
     "status": "completed"
    },
    "tags": []
   },
   "outputs": [],
   "source": [
    "# This Python 3 environment comes with many helpful analytics libraries installed\n",
    "# It is defined by the kaggle/python Docker image: https://github.com/kaggle/docker-python\n",
    "# For example, here's several helpful packages to load\n",
    "\n",
    "import numpy as np # linear algebra\n",
    "import pandas as pd # data processing, CSV file I/O (e.g. pd.read_csv)\n",
    "\n",
    "# Input data files are available in the read-only \"../input/\" directory\n",
    "# For example, running this (by clicking run or pressing Shift+Enter) will list all files under the input directory\n",
    "\n",
    "# import os\n",
    "# for dirname, _, filenames in os.walk('/kaggle/input'):\n",
    "#     for filename in filenames:\n",
    "#         print(os.path.join(dirname, filename))\n",
    "\n",
    "# You can write up to 20GB to the current directory (/kaggle/working/) that gets preserved as output when you create a version using \"Save & Run All\" \n",
    "# You can also write temporary files to /kaggle/temp/, but they won't be saved outside of the current session"
   ]
  },
  {
   "cell_type": "code",
   "execution_count": 2,
   "id": "abdd1ff9",
   "metadata": {
    "execution": {
     "iopub.execute_input": "2024-12-01T23:53:42.126597Z",
     "iopub.status.busy": "2024-12-01T23:53:42.126133Z",
     "iopub.status.idle": "2024-12-01T23:53:51.684316Z",
     "shell.execute_reply": "2024-12-01T23:53:51.683573Z"
    },
    "papermill": {
     "duration": 9.565307,
     "end_time": "2024-12-01T23:53:51.686324",
     "exception": false,
     "start_time": "2024-12-01T23:53:42.121017",
     "status": "completed"
    },
    "tags": []
   },
   "outputs": [
    {
     "name": "stderr",
     "output_type": "stream",
     "text": [
      "/opt/conda/lib/python3.10/site-packages/scipy/__init__.py:146: UserWarning: A NumPy version >=1.16.5 and <1.23.0 is required for this version of SciPy (detected version 1.23.5\n",
      "  warnings.warn(f\"A NumPy version >={np_minversion} and <{np_maxversion}\"\n",
      "/opt/conda/lib/python3.10/site-packages/tensorflow_io/python/ops/__init__.py:98: UserWarning: unable to load libtensorflow_io_plugins.so: unable to open file: libtensorflow_io_plugins.so, from paths: ['/opt/conda/lib/python3.10/site-packages/tensorflow_io/python/ops/libtensorflow_io_plugins.so']\n",
      "caused by: ['/opt/conda/lib/python3.10/site-packages/tensorflow_io/python/ops/libtensorflow_io_plugins.so: undefined symbol: _ZN3tsl6StatusC1EN10tensorflow5error4CodeESt17basic_string_viewIcSt11char_traitsIcEENS_14SourceLocationE']\n",
      "  warnings.warn(f\"unable to load libtensorflow_io_plugins.so: {e}\")\n",
      "/opt/conda/lib/python3.10/site-packages/tensorflow_io/python/ops/__init__.py:104: UserWarning: file system plugins are not loaded: unable to open file: libtensorflow_io.so, from paths: ['/opt/conda/lib/python3.10/site-packages/tensorflow_io/python/ops/libtensorflow_io.so']\n",
      "caused by: ['/opt/conda/lib/python3.10/site-packages/tensorflow_io/python/ops/libtensorflow_io.so: undefined symbol: _ZTVN10tensorflow13GcsFileSystemE']\n",
      "  warnings.warn(f\"file system plugins are not loaded: {e}\")\n"
     ]
    }
   ],
   "source": [
    "import matplotlib.pyplot as plt\n",
    "import numpy as np\n",
    "import pandas as pd\n",
    "import seaborn as sns\n",
    "import cv2\n",
    "import tensorflow as tf\n",
    "from tensorflow.keras.preprocessing.image import ImageDataGenerator\n",
    "from tqdm import tqdm\n",
    "import os\n",
    "from sklearn.utils import shuffle\n",
    "from sklearn.model_selection import train_test_split\n",
    "from tensorflow.keras.applications import EfficientNetB0, DenseNet201\n",
    "from tensorflow.keras.callbacks import EarlyStopping, ReduceLROnPlateau, TensorBoard, ModelCheckpoint\n",
    "from sklearn.metrics import classification_report,confusion_matrix\n",
    "import ipywidgets as widgets\n",
    "import io\n",
    "from PIL import Image\n",
    "from IPython.display import display,clear_output\n",
    "from warnings import filterwarnings\n",
    "from keras.models import Sequential\n",
    "from keras.layers import Dense, Flatten, Dropout\n",
    "import time\n",
    "import psutil\n",
    "from sklearn.metrics import accuracy_score, precision_score, recall_score, f1_score"
   ]
  },
  {
   "cell_type": "code",
   "execution_count": 3,
   "id": "8dc0b6ba",
   "metadata": {
    "execution": {
     "iopub.execute_input": "2024-12-01T23:53:51.697477Z",
     "iopub.status.busy": "2024-12-01T23:53:51.696862Z",
     "iopub.status.idle": "2024-12-01T23:53:51.701344Z",
     "shell.execute_reply": "2024-12-01T23:53:51.700531Z"
    },
    "papermill": {
     "duration": 0.011783,
     "end_time": "2024-12-01T23:53:51.703053",
     "exception": false,
     "start_time": "2024-12-01T23:53:51.691270",
     "status": "completed"
    },
    "tags": []
   },
   "outputs": [],
   "source": [
    "labels = ['Early_Blight','Healthy','Late_Blight']"
   ]
  },
  {
   "cell_type": "code",
   "execution_count": 4,
   "id": "c4351007",
   "metadata": {
    "execution": {
     "iopub.execute_input": "2024-12-01T23:53:51.713401Z",
     "iopub.status.busy": "2024-12-01T23:53:51.713160Z",
     "iopub.status.idle": "2024-12-01T23:54:27.572299Z",
     "shell.execute_reply": "2024-12-01T23:54:27.571585Z"
    },
    "papermill": {
     "duration": 35.866695,
     "end_time": "2024-12-01T23:54:27.574395",
     "exception": false,
     "start_time": "2024-12-01T23:53:51.707700",
     "status": "completed"
    },
    "tags": []
   },
   "outputs": [
    {
     "name": "stderr",
     "output_type": "stream",
     "text": [
      "100%|██████████| 1303/1303 [00:09<00:00, 135.10it/s]\n",
      "100%|██████████| 1303/1303 [00:09<00:00, 143.71it/s]\n",
      "100%|██████████| 1303/1303 [00:09<00:00, 137.33it/s]\n",
      "100%|██████████| 162/162 [00:01<00:00, 122.94it/s]\n",
      "100%|██████████| 162/162 [00:01<00:00, 133.92it/s]\n",
      "100%|██████████| 162/162 [00:01<00:00, 136.36it/s]\n",
      "100%|██████████| 163/163 [00:01<00:00, 137.64it/s]\n",
      "100%|██████████| 163/163 [00:01<00:00, 143.50it/s]\n",
      "100%|██████████| 163/163 [00:01<00:00, 128.26it/s]\n"
     ]
    }
   ],
   "source": [
    "X_train = []\n",
    "y_train = []\n",
    "X_test = []\n",
    "y_test = []\n",
    "image_size = 224\n",
    "for i in labels:\n",
    "    folderPath = os.path.join('/kaggle/input/balanced-data/balanced_data','Training',i)\n",
    "    for j in tqdm(os.listdir(folderPath)):\n",
    "        img = cv2.imread(os.path.join(folderPath,j))\n",
    "        img = cv2.resize(img,(image_size, image_size))\n",
    "        X_train.append(img)\n",
    "        y_train.append(i)\n",
    "        \n",
    "for i in labels:\n",
    "    folderPath = os.path.join('/kaggle/input/balanced-data/balanced_data','Testing',i)\n",
    "    for j in tqdm(os.listdir(folderPath)):\n",
    "        img = cv2.imread(os.path.join(folderPath,j))\n",
    "        img = cv2.resize(img,(image_size,image_size))\n",
    "        X_test.append(img)\n",
    "        y_test.append(i)\n",
    "        \n",
    "for i in labels:\n",
    "    folderPath = os.path.join('/kaggle/input/balanced-data/balanced_data','Validation',i)\n",
    "    for j in tqdm(os.listdir(folderPath)):\n",
    "        img = cv2.imread(os.path.join(folderPath,j))\n",
    "        img = cv2.resize(img,(image_size,image_size))\n",
    "        X_train.append(img)\n",
    "        y_train.append(i)\n",
    "        \n",
    "X_train = np.array(X_train)\n",
    "y_train = np.array(y_train)\n",
    "X_test = np.array(X_test)\n",
    "y_test = np.array(y_test)"
   ]
  },
  {
   "cell_type": "code",
   "execution_count": 5,
   "id": "a1173b15",
   "metadata": {
    "execution": {
     "iopub.execute_input": "2024-12-01T23:54:27.614635Z",
     "iopub.status.busy": "2024-12-01T23:54:27.614352Z",
     "iopub.status.idle": "2024-12-01T23:54:27.619076Z",
     "shell.execute_reply": "2024-12-01T23:54:27.618171Z"
    },
    "papermill": {
     "duration": 0.02658,
     "end_time": "2024-12-01T23:54:27.620610",
     "exception": false,
     "start_time": "2024-12-01T23:54:27.594030",
     "status": "completed"
    },
    "tags": []
   },
   "outputs": [
    {
     "name": "stdout",
     "output_type": "stream",
     "text": [
      "(4398, 224, 224, 3)\n",
      "(4398,)\n",
      "(486, 224, 224, 3)\n",
      "(486,)\n"
     ]
    }
   ],
   "source": [
    "print(X_train.shape)\n",
    "print(y_train.shape)\n",
    "print(X_test.shape)\n",
    "print(y_test.shape)"
   ]
  },
  {
   "cell_type": "code",
   "execution_count": 6,
   "id": "9e8fdb69",
   "metadata": {
    "execution": {
     "iopub.execute_input": "2024-12-01T23:54:27.661178Z",
     "iopub.status.busy": "2024-12-01T23:54:27.660832Z",
     "iopub.status.idle": "2024-12-01T23:54:27.667530Z",
     "shell.execute_reply": "2024-12-01T23:54:27.666659Z"
    },
    "papermill": {
     "duration": 0.028648,
     "end_time": "2024-12-01T23:54:27.669192",
     "exception": false,
     "start_time": "2024-12-01T23:54:27.640544",
     "status": "completed"
    },
    "tags": []
   },
   "outputs": [
    {
     "name": "stdout",
     "output_type": "stream",
     "text": [
      "['Early_Blight' 'Healthy' 'Late_Blight']\n",
      "['Early_Blight' 'Healthy' 'Late_Blight']\n"
     ]
    }
   ],
   "source": [
    "print(np.unique(y_test))\n",
    "print(np.unique(y_train))"
   ]
  },
  {
   "cell_type": "code",
   "execution_count": 7,
   "id": "06ff7846",
   "metadata": {
    "execution": {
     "iopub.execute_input": "2024-12-01T23:54:27.709428Z",
     "iopub.status.busy": "2024-12-01T23:54:27.709196Z",
     "iopub.status.idle": "2024-12-01T23:54:27.716137Z",
     "shell.execute_reply": "2024-12-01T23:54:27.715405Z"
    },
    "papermill": {
     "duration": 0.029549,
     "end_time": "2024-12-01T23:54:27.717687",
     "exception": false,
     "start_time": "2024-12-01T23:54:27.688138",
     "status": "completed"
    },
    "tags": []
   },
   "outputs": [],
   "source": [
    "y_train_new = []\n",
    "for i in y_train:\n",
    "    y_train_new.append(labels.index(i))\n",
    "y_train = y_train_new\n",
    "y_train = tf.keras.utils.to_categorical(y_train)\n",
    "\n",
    "\n",
    "y_test_new = []\n",
    "for i in y_test:\n",
    "    y_test_new.append(labels.index(i))\n",
    "y_test = y_test_new\n",
    "y_test = tf.keras.utils.to_categorical(y_test)"
   ]
  },
  {
   "cell_type": "code",
   "execution_count": 8,
   "id": "8115cd41",
   "metadata": {
    "execution": {
     "iopub.execute_input": "2024-12-01T23:54:27.756669Z",
     "iopub.status.busy": "2024-12-01T23:54:27.756451Z",
     "iopub.status.idle": "2024-12-01T23:54:27.766537Z",
     "shell.execute_reply": "2024-12-01T23:54:27.765852Z"
    },
    "papermill": {
     "duration": 0.031694,
     "end_time": "2024-12-01T23:54:27.768214",
     "exception": false,
     "start_time": "2024-12-01T23:54:27.736520",
     "status": "completed"
    },
    "tags": []
   },
   "outputs": [],
   "source": [
    "all_model = pd.DataFrame(columns=['Model', 'Accuracy (Train)', 'Precision (Train)', 'Recall (Train)', 'F1 Score (Train)', 'Accuracy (Test)', 'Precision (Test)', 'Recall (Test)', 'F1 Score (Test)', 'Training Time (s)', 'Testing Time (s)','Memory (MB)'])"
   ]
  },
  {
   "cell_type": "code",
   "execution_count": 9,
   "id": "9868ce16",
   "metadata": {
    "execution": {
     "iopub.execute_input": "2024-12-01T23:54:27.807714Z",
     "iopub.status.busy": "2024-12-01T23:54:27.807111Z",
     "iopub.status.idle": "2024-12-01T23:54:27.820698Z",
     "shell.execute_reply": "2024-12-01T23:54:27.819949Z"
    },
    "papermill": {
     "duration": 0.035111,
     "end_time": "2024-12-01T23:54:27.822414",
     "exception": false,
     "start_time": "2024-12-01T23:54:27.787303",
     "status": "completed"
    },
    "tags": []
   },
   "outputs": [
    {
     "data": {
      "text/html": [
       "<div>\n",
       "<style scoped>\n",
       "    .dataframe tbody tr th:only-of-type {\n",
       "        vertical-align: middle;\n",
       "    }\n",
       "\n",
       "    .dataframe tbody tr th {\n",
       "        vertical-align: top;\n",
       "    }\n",
       "\n",
       "    .dataframe thead th {\n",
       "        text-align: right;\n",
       "    }\n",
       "</style>\n",
       "<table border=\"1\" class=\"dataframe\">\n",
       "  <thead>\n",
       "    <tr style=\"text-align: right;\">\n",
       "      <th></th>\n",
       "      <th>Model</th>\n",
       "      <th>Accuracy (Train)</th>\n",
       "      <th>Precision (Train)</th>\n",
       "      <th>Recall (Train)</th>\n",
       "      <th>F1 Score (Train)</th>\n",
       "      <th>Accuracy (Test)</th>\n",
       "      <th>Precision (Test)</th>\n",
       "      <th>Recall (Test)</th>\n",
       "      <th>F1 Score (Test)</th>\n",
       "      <th>Training Time (s)</th>\n",
       "      <th>Testing Time (s)</th>\n",
       "      <th>Memory (MB)</th>\n",
       "    </tr>\n",
       "  </thead>\n",
       "  <tbody>\n",
       "  </tbody>\n",
       "</table>\n",
       "</div>"
      ],
      "text/plain": [
       "Empty DataFrame\n",
       "Columns: [Model, Accuracy (Train), Precision (Train), Recall (Train), F1 Score (Train), Accuracy (Test), Precision (Test), Recall (Test), F1 Score (Test), Training Time (s), Testing Time (s), Memory (MB)]\n",
       "Index: []"
      ]
     },
     "execution_count": 9,
     "metadata": {},
     "output_type": "execute_result"
    }
   ],
   "source": [
    "all_model"
   ]
  },
  {
   "cell_type": "markdown",
   "id": "72b7f0ad",
   "metadata": {
    "papermill": {
     "duration": 0.019396,
     "end_time": "2024-12-01T23:54:27.861020",
     "exception": false,
     "start_time": "2024-12-01T23:54:27.841624",
     "status": "completed"
    },
    "tags": []
   },
   "source": [
    "**Feature Extraction from MobileNetV3Large**"
   ]
  },
  {
   "cell_type": "code",
   "execution_count": 10,
   "id": "24255113",
   "metadata": {
    "execution": {
     "iopub.execute_input": "2024-12-01T23:54:27.899490Z",
     "iopub.status.busy": "2024-12-01T23:54:27.899263Z",
     "iopub.status.idle": "2024-12-01T23:54:34.437098Z",
     "shell.execute_reply": "2024-12-01T23:54:34.436044Z"
    },
    "papermill": {
     "duration": 6.55923,
     "end_time": "2024-12-01T23:54:34.439058",
     "exception": false,
     "start_time": "2024-12-01T23:54:27.879828",
     "status": "completed"
    },
    "tags": []
   },
   "outputs": [
    {
     "name": "stdout",
     "output_type": "stream",
     "text": [
      "Downloading data from https://storage.googleapis.com/tensorflow/keras-applications/mobilenet_v3/weights_mobilenet_v3_large_224_1.0_float_no_top_v2.h5\n",
      "12683000/12683000 [==============================] - 1s 0us/step\n"
     ]
    }
   ],
   "source": [
    "# Define the base model for feature extraction\n",
    "model = tf.keras.applications.MobileNetV3Large(\n",
    "    include_top=False,  # Exclude fully connected layers\n",
    "    weights=\"imagenet\",  # Pretrained weights from ImageNet\n",
    "    input_shape=(image_size, image_size, 3),  # Input image size\n",
    "    pooling=\"avg\"  # Global average pooling layer to get feature vector\n",
    ")\n",
    "\n",
    "# Freeze the base model to prevent updates during feature extraction\n",
    "model.trainable = False\n"
   ]
  },
  {
   "cell_type": "code",
   "execution_count": 11,
   "id": "1c4f8b13",
   "metadata": {
    "execution": {
     "iopub.execute_input": "2024-12-01T23:54:34.481791Z",
     "iopub.status.busy": "2024-12-01T23:54:34.481524Z",
     "iopub.status.idle": "2024-12-01T23:54:43.164555Z",
     "shell.execute_reply": "2024-12-01T23:54:43.163811Z"
    },
    "papermill": {
     "duration": 8.705872,
     "end_time": "2024-12-01T23:54:43.166544",
     "exception": false,
     "start_time": "2024-12-01T23:54:34.460672",
     "status": "completed"
    },
    "tags": []
   },
   "outputs": [
    {
     "name": "stdout",
     "output_type": "stream",
     "text": [
      "138/138 [==============================] - 7s 21ms/step\n"
     ]
    }
   ],
   "source": [
    "# Use the base model to extract features\n",
    "X_train = model.predict(X_train, batch_size=32, verbose=1)"
   ]
  },
  {
   "cell_type": "code",
   "execution_count": 12,
   "id": "66cd4305",
   "metadata": {
    "execution": {
     "iopub.execute_input": "2024-12-01T23:54:43.212002Z",
     "iopub.status.busy": "2024-12-01T23:54:43.211691Z",
     "iopub.status.idle": "2024-12-01T23:54:43.216237Z",
     "shell.execute_reply": "2024-12-01T23:54:43.215394Z"
    },
    "papermill": {
     "duration": 0.028786,
     "end_time": "2024-12-01T23:54:43.217965",
     "exception": false,
     "start_time": "2024-12-01T23:54:43.189179",
     "status": "completed"
    },
    "tags": []
   },
   "outputs": [],
   "source": [
    "# If labels are one-hot encoded, convert to class indices\n",
    "if y_train.shape[-1] > 1:\n",
    "    y_train = np.argmax(y_train, axis=1)"
   ]
  },
  {
   "cell_type": "code",
   "execution_count": 13,
   "id": "a32e67b1",
   "metadata": {
    "execution": {
     "iopub.execute_input": "2024-12-01T23:54:43.262173Z",
     "iopub.status.busy": "2024-12-01T23:54:43.261941Z",
     "iopub.status.idle": "2024-12-01T23:54:43.266101Z",
     "shell.execute_reply": "2024-12-01T23:54:43.265308Z"
    },
    "papermill": {
     "duration": 0.028119,
     "end_time": "2024-12-01T23:54:43.267672",
     "exception": false,
     "start_time": "2024-12-01T23:54:43.239553",
     "status": "completed"
    },
    "tags": []
   },
   "outputs": [
    {
     "name": "stdout",
     "output_type": "stream",
     "text": [
      "Extracted features shape: (4398, 960)\n",
      "Labels shape: (4398,)\n"
     ]
    }
   ],
   "source": [
    "# X_train now contains the extracted features, and y_train contains the labels\n",
    "print(\"Extracted features shape:\", X_train.shape)\n",
    "print(\"Labels shape:\", y_train.shape)"
   ]
  },
  {
   "cell_type": "code",
   "execution_count": 14,
   "id": "59ae7458",
   "metadata": {
    "execution": {
     "iopub.execute_input": "2024-12-01T23:54:43.312588Z",
     "iopub.status.busy": "2024-12-01T23:54:43.312341Z",
     "iopub.status.idle": "2024-12-01T23:54:44.082770Z",
     "shell.execute_reply": "2024-12-01T23:54:44.081930Z"
    },
    "papermill": {
     "duration": 0.794451,
     "end_time": "2024-12-01T23:54:44.084530",
     "exception": false,
     "start_time": "2024-12-01T23:54:43.290079",
     "status": "completed"
    },
    "tags": []
   },
   "outputs": [
    {
     "name": "stdout",
     "output_type": "stream",
     "text": [
      "16/16 [==============================] - 1s 43ms/step\n"
     ]
    }
   ],
   "source": [
    "# Use the base model to extract features from test data\n",
    "X_test = model.predict(X_test, batch_size=32, verbose=1)"
   ]
  },
  {
   "cell_type": "code",
   "execution_count": 15,
   "id": "4bad0cc3",
   "metadata": {
    "execution": {
     "iopub.execute_input": "2024-12-01T23:54:44.131502Z",
     "iopub.status.busy": "2024-12-01T23:54:44.130710Z",
     "iopub.status.idle": "2024-12-01T23:54:44.135088Z",
     "shell.execute_reply": "2024-12-01T23:54:44.134378Z"
    },
    "papermill": {
     "duration": 0.029314,
     "end_time": "2024-12-01T23:54:44.136628",
     "exception": false,
     "start_time": "2024-12-01T23:54:44.107314",
     "status": "completed"
    },
    "tags": []
   },
   "outputs": [],
   "source": [
    "# If labels are one-hot encoded, convert to class indices\n",
    "if y_test.shape[-1] > 1:\n",
    "    y_test = np.argmax(y_test, axis=1)"
   ]
  },
  {
   "cell_type": "code",
   "execution_count": 16,
   "id": "aa8910e0",
   "metadata": {
    "execution": {
     "iopub.execute_input": "2024-12-01T23:54:44.182992Z",
     "iopub.status.busy": "2024-12-01T23:54:44.182624Z",
     "iopub.status.idle": "2024-12-01T23:54:44.187604Z",
     "shell.execute_reply": "2024-12-01T23:54:44.186615Z"
    },
    "papermill": {
     "duration": 0.03,
     "end_time": "2024-12-01T23:54:44.189096",
     "exception": false,
     "start_time": "2024-12-01T23:54:44.159096",
     "status": "completed"
    },
    "tags": []
   },
   "outputs": [
    {
     "name": "stdout",
     "output_type": "stream",
     "text": [
      "Extracted features shape: (486, 960)\n",
      "Labels shape: (486,)\n"
     ]
    }
   ],
   "source": [
    "# X_test now contains the extracted features, and y_test contains the labels\n",
    "print(\"Extracted features shape:\", X_test.shape)\n",
    "print(\"Labels shape:\", y_test.shape)"
   ]
  },
  {
   "cell_type": "code",
   "execution_count": 17,
   "id": "16ea5267",
   "metadata": {
    "execution": {
     "iopub.execute_input": "2024-12-01T23:54:44.237966Z",
     "iopub.status.busy": "2024-12-01T23:54:44.237711Z",
     "iopub.status.idle": "2024-12-01T23:54:44.562745Z",
     "shell.execute_reply": "2024-12-01T23:54:44.562083Z"
    },
    "papermill": {
     "duration": 0.351802,
     "end_time": "2024-12-01T23:54:44.564753",
     "exception": false,
     "start_time": "2024-12-01T23:54:44.212951",
     "status": "completed"
    },
    "tags": []
   },
   "outputs": [],
   "source": [
    "from sklearn.ensemble import StackingClassifier\n",
    "from sklearn.ensemble import RandomForestClassifier\n",
    "from sklearn.svm import SVC\n",
    "from sklearn.neighbors import KNeighborsClassifier\n",
    "from sklearn.linear_model import LogisticRegression\n",
    "from sklearn.neural_network import MLPClassifier\n",
    "from sklearn.tree import DecisionTreeClassifier\n",
    "from sklearn.naive_bayes import GaussianNB\n",
    "from sklearn.model_selection import train_test_split\n",
    "from sklearn.metrics import accuracy_score\n",
    "\n",
    "# Define the Level 0 classifiers\n",
    "level_0_estimators = [\n",
    "    ('svm', SVC(kernel='rbf',C=1.0,gamma='scale',decision_function_shape='ovr')),\n",
    "    ('knn', KNeighborsClassifier()),\n",
    "    ('logistic', LogisticRegression(multi_class='multinomial',solver='lbfgs',C=1.0,max_iter=1000,random_state=42 )),\n",
    "    ('mlp', MLPClassifier(random_state=42)),\n",
    "    ('decision_tree', DecisionTreeClassifier(criterion='gini',max_depth=20,min_samples_split=5,min_samples_leaf=3,max_features='sqrt',random_state=42)),\n",
    "    ('naive_bayes', GaussianNB(var_smoothing=1e-8))\n",
    "]\n",
    "\n",
    "# Define the Level 1 classifier (meta-classifier)\n",
    "level_1_meta_classifier = RandomForestClassifier(n_estimators=300,           \n",
    "    criterion='gini',           \n",
    "    max_depth=20,               \n",
    "    min_samples_split=5,        \n",
    "    min_samples_leaf=3,         \n",
    "    max_features='sqrt',        \n",
    "    bootstrap=True,             \n",
    "    oob_score=True,             \n",
    "    random_state=42\n",
    ")\n",
    "\n",
    "# Create the Stacking Classifier\n",
    "stacking_clf = StackingClassifier(\n",
    "    estimators=level_0_estimators,\n",
    "    final_estimator=level_1_meta_classifier,\n",
    "    cv=5\n",
    ")"
   ]
  },
  {
   "cell_type": "code",
   "execution_count": 18,
   "id": "ff4353c9",
   "metadata": {
    "execution": {
     "iopub.execute_input": "2024-12-01T23:54:44.611570Z",
     "iopub.status.busy": "2024-12-01T23:54:44.611303Z",
     "iopub.status.idle": "2024-12-01T23:55:56.031397Z",
     "shell.execute_reply": "2024-12-01T23:55:56.030490Z"
    },
    "papermill": {
     "duration": 71.469645,
     "end_time": "2024-12-01T23:55:56.057571",
     "exception": false,
     "start_time": "2024-12-01T23:54:44.587926",
     "status": "completed"
    },
    "tags": []
   },
   "outputs": [
    {
     "name": "stdout",
     "output_type": "stream",
     "text": [
      "Training Time: 71.41 seconds\n",
      "Memory Usage: 3518.99 MB\n"
     ]
    }
   ],
   "source": [
    "import time\n",
    "\n",
    "# Start timer\n",
    "start_time = time.time()\n",
    "\n",
    "# Train the stacking classifier\n",
    "stacking_clf.fit(X_train, y_train)\n",
    "\n",
    "# Measure training time\n",
    "training_time = time.time() - start_time\n",
    "print(f\"Training Time: {training_time:.2f} seconds\")\n",
    "\n",
    "# Evaluate memory usage (optional, requires `psutil` library)\n",
    "import psutil\n",
    "memory_usage = psutil.Process().memory_info().rss / 1024 / 1024\n",
    "print(f\"Memory Usage: {memory_usage:.2f} MB\")"
   ]
  },
  {
   "cell_type": "code",
   "execution_count": 19,
   "id": "bbda33bc",
   "metadata": {
    "execution": {
     "iopub.execute_input": "2024-12-01T23:55:56.104426Z",
     "iopub.status.busy": "2024-12-01T23:55:56.104139Z",
     "iopub.status.idle": "2024-12-01T23:55:56.651539Z",
     "shell.execute_reply": "2024-12-01T23:55:56.650276Z"
    },
    "papermill": {
     "duration": 0.574334,
     "end_time": "2024-12-01T23:55:56.655003",
     "exception": false,
     "start_time": "2024-12-01T23:55:56.080669",
     "status": "completed"
    },
    "tags": []
   },
   "outputs": [],
   "source": [
    "# make predictions on the test data\n",
    "start_time = time.time()\n",
    "y_pred = stacking_clf.predict(X_test)\n",
    "testing_time = time.time() - start_time"
   ]
  },
  {
   "cell_type": "code",
   "execution_count": 20,
   "id": "513104e0",
   "metadata": {
    "execution": {
     "iopub.execute_input": "2024-12-01T23:55:56.748759Z",
     "iopub.status.busy": "2024-12-01T23:55:56.748453Z",
     "iopub.status.idle": "2024-12-01T23:55:57.084609Z",
     "shell.execute_reply": "2024-12-01T23:55:57.083725Z"
    },
    "papermill": {
     "duration": 0.361539,
     "end_time": "2024-12-01T23:55:57.086469",
     "exception": false,
     "start_time": "2024-12-01T23:55:56.724930",
     "status": "completed"
    },
    "tags": []
   },
   "outputs": [
    {
     "name": "stdout",
     "output_type": "stream",
     "text": [
      "Confusion matrix, without normalization\n"
     ]
    },
    {
     "data": {
      "image/png": "[encoded data removed]",
      "text/plain": [
       "<Figure size 500x500 with 2 Axes>"
      ]
     },
     "metadata": {},
     "output_type": "display_data"
    }
   ],
   "source": [
    "import itertools\n",
    "def plot_confusion_matrix(cm, classes,\n",
    "                          normalize=False,\n",
    "                          title='',\n",
    "                          cmap=plt.cm.Greens):\n",
    "    \"\"\"\n",
    "    This function prints and plots the confusion matrix.\n",
    "    Normalization can be applied by setting `normalize=True`.\n",
    "    \"\"\"\n",
    "    if normalize:\n",
    "        cm = cm.astype('float') / cm.sum(axis=1)[:, np.newaxis]\n",
    "        print(\"Normalized confusion matrix\")\n",
    "    else:\n",
    "        print('Confusion matrix, without normalization')\n",
    "\n",
    "    plt.imshow(cm, interpolation='nearest', cmap=cmap)\n",
    "    plt.title(title)\n",
    "    plt.colorbar()\n",
    "    tick_marks = np.arange(len(classes))\n",
    "    plt.xticks(tick_marks, classes, rotation=45,fontweight='bold')\n",
    "    plt.yticks(tick_marks, classes, fontweight='bold')\n",
    "\n",
    "    for i in range(cm.shape[0]):\n",
    "        for j in range(cm.shape[1]):\n",
    "            plt.text(j, i, format(cm[i, j], 'd'),\n",
    "                    ha=\"center\", va=\"center\", fontweight='bold',\n",
    "                    color=\"white\" if cm[i, j] > cm.max() / 2. else \"black\")\n",
    "\n",
    "    plt.tight_layout()\n",
    "    plt.ylabel('True label',fontweight='bold')\n",
    "    plt.xlabel('Predicted label',fontweight='bold')\n",
    "\n",
    "# Compute confusion matrix\n",
    "cnf_matrix = confusion_matrix(y_test, y_pred)\n",
    "np.set_printoptions(precision=2)\n",
    "\n",
    "# Plot non-normalized confusion matrix\n",
    "plt.figure(figsize=(5,5))\n",
    "plot_confusion_matrix(cnf_matrix, classes=['EB','H','LB']\n",
    "                      )\n",
    "plt.show()"
   ]
  },
  {
   "cell_type": "code",
   "execution_count": 21,
   "id": "bb8f00ce",
   "metadata": {
    "execution": {
     "iopub.execute_input": "2024-12-01T23:55:57.137306Z",
     "iopub.status.busy": "2024-12-01T23:55:57.136492Z",
     "iopub.status.idle": "2024-12-01T23:55:57.142650Z",
     "shell.execute_reply": "2024-12-01T23:55:57.141674Z"
    },
    "papermill": {
     "duration": 0.033968,
     "end_time": "2024-12-01T23:55:57.144630",
     "exception": false,
     "start_time": "2024-12-01T23:55:57.110662",
     "status": "completed"
    },
    "tags": []
   },
   "outputs": [
    {
     "data": {
      "text/plain": [
       "(486,)"
      ]
     },
     "execution_count": 21,
     "metadata": {},
     "output_type": "execute_result"
    }
   ],
   "source": [
    "y_pred.shape"
   ]
  },
  {
   "cell_type": "code",
   "execution_count": 22,
   "id": "6caa2ced",
   "metadata": {
    "execution": {
     "iopub.execute_input": "2024-12-01T23:55:57.199649Z",
     "iopub.status.busy": "2024-12-01T23:55:57.199311Z",
     "iopub.status.idle": "2024-12-01T23:55:57.211793Z",
     "shell.execute_reply": "2024-12-01T23:55:57.210694Z"
    },
    "papermill": {
     "duration": 0.041826,
     "end_time": "2024-12-01T23:55:57.213735",
     "exception": false,
     "start_time": "2024-12-01T23:55:57.171909",
     "status": "completed"
    },
    "tags": []
   },
   "outputs": [
    {
     "name": "stdout",
     "output_type": "stream",
     "text": [
      "Accuracy (Test): 98.7654\n",
      "Precision (Test): 98.7878\n",
      "Recall (Test): 98.7654\n",
      "F1 score (Test): 98.7633\n"
     ]
    }
   ],
   "source": [
    "accuracy_test = accuracy_score(y_test, y_pred)*100\n",
    "precision_test = precision_score(y_test, y_pred, average='macro')*100\n",
    "recall_test = recall_score(y_test, y_pred, average='macro')*100\n",
    "f1_test = f1_score(y_test, y_pred, average='macro')*100\n",
    "\n",
    "print(\"Accuracy (Test): {:.4f}\".format(accuracy_test))\n",
    "print(\"Precision (Test): {:.4f}\".format(precision_test))\n",
    "print(\"Recall (Test): {:.4f}\".format(recall_test))\n",
    "print(\"F1 score (Test): {:.4f}\".format(f1_test))"
   ]
  },
  {
   "cell_type": "code",
   "execution_count": 23,
   "id": "f9f93645",
   "metadata": {
    "execution": {
     "iopub.execute_input": "2024-12-01T23:55:57.272211Z",
     "iopub.status.busy": "2024-12-01T23:55:57.271810Z",
     "iopub.status.idle": "2024-12-01T23:56:01.292076Z",
     "shell.execute_reply": "2024-12-01T23:56:01.291321Z"
    },
    "papermill": {
     "duration": 4.050626,
     "end_time": "2024-12-01T23:56:01.294160",
     "exception": false,
     "start_time": "2024-12-01T23:55:57.243534",
     "status": "completed"
    },
    "tags": []
   },
   "outputs": [],
   "source": [
    "# make predictions on the train data\n",
    "y_pred = stacking_clf.predict(X_train)"
   ]
  },
  {
   "cell_type": "code",
   "execution_count": 24,
   "id": "ca4136f5",
   "metadata": {
    "execution": {
     "iopub.execute_input": "2024-12-01T23:56:01.344061Z",
     "iopub.status.busy": "2024-12-01T23:56:01.343345Z",
     "iopub.status.idle": "2024-12-01T23:56:01.632560Z",
     "shell.execute_reply": "2024-12-01T23:56:01.631692Z"
    },
    "papermill": {
     "duration": 0.315674,
     "end_time": "2024-12-01T23:56:01.634411",
     "exception": false,
     "start_time": "2024-12-01T23:56:01.318737",
     "status": "completed"
    },
    "tags": []
   },
   "outputs": [
    {
     "name": "stdout",
     "output_type": "stream",
     "text": [
      "Confusion matrix, without normalization\n"
     ]
    },
    {
     "data": {
      "image/png": "[encoded data removed]",
      "text/plain": [
       "<Figure size 500x500 with 2 Axes>"
      ]
     },
     "metadata": {},
     "output_type": "display_data"
    }
   ],
   "source": [
    "def plot_confusion_matrix(cm, classes,\n",
    "                          normalize=False,\n",
    "                          title='',\n",
    "                          cmap=plt.cm.Greens):\n",
    "    \"\"\"\n",
    "    This function prints and plots the confusion matrix.\n",
    "    Normalization can be applied by setting `normalize=True`.\n",
    "    \"\"\"\n",
    "    if normalize:\n",
    "        cm = cm.astype('float') / cm.sum(axis=1)[:, np.newaxis]\n",
    "        print(\"Normalized confusion matrix\")\n",
    "    else:\n",
    "        print('Confusion matrix, without normalization')\n",
    "\n",
    "    plt.imshow(cm, interpolation='nearest', cmap=cmap)\n",
    "    plt.title(title)\n",
    "    plt.colorbar()\n",
    "    tick_marks = np.arange(len(classes))\n",
    "    plt.xticks(tick_marks, classes, rotation=45,fontweight='bold')\n",
    "    plt.yticks(tick_marks, classes, fontweight='bold')\n",
    "\n",
    "    for i in range(cm.shape[0]):\n",
    "        for j in range(cm.shape[1]):\n",
    "            plt.text(j, i, format(cm[i, j], 'd'),\n",
    "                    ha=\"center\", va=\"center\", fontweight='bold',\n",
    "                    color=\"white\" if cm[i, j] > cm.max() / 2. else \"black\")\n",
    "\n",
    "    plt.tight_layout()\n",
    "    plt.ylabel('True label',fontweight='bold')\n",
    "    plt.xlabel('Predicted label',fontweight='bold')\n",
    "\n",
    "# Compute confusion matrix\n",
    "cnf_matrix = confusion_matrix(y_train, y_pred)\n",
    "np.set_printoptions(precision=2)\n",
    "\n",
    "# Plot non-normalized confusion matrix\n",
    "plt.figure(figsize=(5,5))\n",
    "plot_confusion_matrix(cnf_matrix, classes=['EB','H','LB']\n",
    "                      )\n",
    "plt.show()"
   ]
  },
  {
   "cell_type": "code",
   "execution_count": 25,
   "id": "94ffe243",
   "metadata": {
    "execution": {
     "iopub.execute_input": "2024-12-01T23:56:01.683542Z",
     "iopub.status.busy": "2024-12-01T23:56:01.683294Z",
     "iopub.status.idle": "2024-12-01T23:56:01.695281Z",
     "shell.execute_reply": "2024-12-01T23:56:01.694412Z"
    },
    "papermill": {
     "duration": 0.037728,
     "end_time": "2024-12-01T23:56:01.696820",
     "exception": false,
     "start_time": "2024-12-01T23:56:01.659092",
     "status": "completed"
    },
    "tags": []
   },
   "outputs": [
    {
     "name": "stdout",
     "output_type": "stream",
     "text": [
      "Accuracy (Train): 100.0000\n",
      "Precision (Train): 100.0000\n",
      "Recall (Train): 100.0000\n",
      "F1 score (Train): 100.0000\n"
     ]
    }
   ],
   "source": [
    "accuracy_train = accuracy_score(y_train, y_pred)*100\n",
    "precision_train = precision_score(y_train, y_pred, average='macro')*100\n",
    "recall_train = recall_score(y_train, y_pred, average='macro')*100\n",
    "f1_train = f1_score(y_train, y_pred, average='macro')*100\n",
    "\n",
    "print(\"Accuracy (Train): {:.4f}\".format(accuracy_train))\n",
    "print(\"Precision (Train): {:.4f}\".format(precision_train))\n",
    "print(\"Recall (Train): {:.4f}\".format(recall_train))\n",
    "print(\"F1 score (Train): {:.4f}\".format(f1_train))"
   ]
  },
  {
   "cell_type": "code",
   "execution_count": 26,
   "id": "e6b7fd05",
   "metadata": {
    "execution": {
     "iopub.execute_input": "2024-12-01T23:56:01.747098Z",
     "iopub.status.busy": "2024-12-01T23:56:01.746247Z",
     "iopub.status.idle": "2024-12-01T23:56:01.753709Z",
     "shell.execute_reply": "2024-12-01T23:56:01.752948Z"
    },
    "papermill": {
     "duration": 0.033806,
     "end_time": "2024-12-01T23:56:01.755294",
     "exception": false,
     "start_time": "2024-12-01T23:56:01.721488",
     "status": "completed"
    },
    "tags": []
   },
   "outputs": [],
   "source": [
    "model_name='MobileNetV3Large-RF'\n",
    "all_model.loc[len(all_model)] = [model_name, accuracy_train, precision_train, recall_train, f1_train, accuracy_test, precision_test, recall_test, f1_test, training_time, testing_time, memory_usage]"
   ]
  },
  {
   "cell_type": "code",
   "execution_count": 27,
   "id": "779aeeb2",
   "metadata": {
    "execution": {
     "iopub.execute_input": "2024-12-01T23:56:01.803431Z",
     "iopub.status.busy": "2024-12-01T23:56:01.803162Z",
     "iopub.status.idle": "2024-12-01T23:56:01.815978Z",
     "shell.execute_reply": "2024-12-01T23:56:01.815278Z"
    },
    "papermill": {
     "duration": 0.038541,
     "end_time": "2024-12-01T23:56:01.817625",
     "exception": false,
     "start_time": "2024-12-01T23:56:01.779084",
     "status": "completed"
    },
    "tags": []
   },
   "outputs": [
    {
     "data": {
      "text/html": [
       "<div>\n",
       "<style scoped>\n",
       "    .dataframe tbody tr th:only-of-type {\n",
       "        vertical-align: middle;\n",
       "    }\n",
       "\n",
       "    .dataframe tbody tr th {\n",
       "        vertical-align: top;\n",
       "    }\n",
       "\n",
       "    .dataframe thead th {\n",
       "        text-align: right;\n",
       "    }\n",
       "</style>\n",
       "<table border=\"1\" class=\"dataframe\">\n",
       "  <thead>\n",
       "    <tr style=\"text-align: right;\">\n",
       "      <th></th>\n",
       "      <th>Model</th>\n",
       "      <th>Accuracy (Train)</th>\n",
       "      <th>Precision (Train)</th>\n",
       "      <th>Recall (Train)</th>\n",
       "      <th>F1 Score (Train)</th>\n",
       "      <th>Accuracy (Test)</th>\n",
       "      <th>Precision (Test)</th>\n",
       "      <th>Recall (Test)</th>\n",
       "      <th>F1 Score (Test)</th>\n",
       "      <th>Training Time (s)</th>\n",
       "      <th>Testing Time (s)</th>\n",
       "      <th>Memory (MB)</th>\n",
       "    </tr>\n",
       "  </thead>\n",
       "  <tbody>\n",
       "    <tr>\n",
       "      <th>0</th>\n",
       "      <td>MobileNetV3Large-RF</td>\n",
       "      <td>100.0</td>\n",
       "      <td>100.0</td>\n",
       "      <td>100.0</td>\n",
       "      <td>100.0</td>\n",
       "      <td>98.765432</td>\n",
       "      <td>98.787789</td>\n",
       "      <td>98.765432</td>\n",
       "      <td>98.763338</td>\n",
       "      <td>71.414814</td>\n",
       "      <td>0.543074</td>\n",
       "      <td>3518.988281</td>\n",
       "    </tr>\n",
       "  </tbody>\n",
       "</table>\n",
       "</div>"
      ],
      "text/plain": [
       "                 Model  Accuracy (Train)  Precision (Train)  Recall (Train)  \\\n",
       "0  MobileNetV3Large-RF             100.0              100.0           100.0   \n",
       "\n",
       "   F1 Score (Train)  Accuracy (Test)  Precision (Test)  Recall (Test)  \\\n",
       "0             100.0        98.765432         98.787789      98.765432   \n",
       "\n",
       "   F1 Score (Test)  Training Time (s)  Testing Time (s)  Memory (MB)  \n",
       "0        98.763338          71.414814          0.543074  3518.988281  "
      ]
     },
     "execution_count": 27,
     "metadata": {},
     "output_type": "execute_result"
    }
   ],
   "source": [
    "all_model"
   ]
  }
 ],
 "metadata": {
  "kaggle": {
   "accelerator": "gpu",
   "dataSources": [
    {
     "datasetId": 1562973,
     "sourceId": 2574068,
     "sourceType": "datasetVersion"
    },
    {
     "datasetId": 6161628,
     "sourceId": 10008956,
     "sourceType": "datasetVersion"
    }
   ],
   "dockerImageVersionId": 30528,
   "isGpuEnabled": true,
   "isInternetEnabled": true,
   "language": "python",
   "sourceType": "notebook"
  },
  "kernelspec": {
   "display_name": "Python 3",
   "language": "python",
   "name": "python3"
  },
  "language_info": {
   "codemirror_mode": {
    "name": "ipython",
    "version": 3
   },
   "file_extension": ".py",
   "mimetype": "text/x-python",
   "name": "python",
   "nbconvert_exporter": "python",
   "pygments_lexer": "ipython3",
   "version": "3.10.12"
  },
  "papermill": {
   "default_parameters": {},
   "duration": 151.676872,
   "end_time": "2024-12-01T23:56:05.565720",
   "environment_variables": {},
   "exception": null,
   "input_path": "__notebook__.ipynb",
   "output_path": "__notebook__.ipynb",
   "parameters": {},
   "start_time": "2024-12-01T23:53:33.888848",
   "version": "2.4.0"
  }
 },
 "nbformat": 4,
 "nbformat_minor": 5
}
