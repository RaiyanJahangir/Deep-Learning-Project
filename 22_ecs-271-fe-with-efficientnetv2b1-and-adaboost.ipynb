{
 "cells": [
  {
   "cell_type": "code",
   "execution_count": 1,
   "id": "67b8dcc6",
   "metadata": {
    "_cell_guid": "b1076dfc-b9ad-4769-8c92-a6c4dae69d19",
    "_uuid": "8f2839f25d086af736a60e9eeb907d3b93b6e0e5",
    "execution": {
     "iopub.execute_input": "2024-12-06T03:52:37.778090Z",
     "iopub.status.busy": "2024-12-06T03:52:37.777757Z",
     "iopub.status.idle": "2024-12-06T03:52:37.785447Z",
     "shell.execute_reply": "2024-12-06T03:52:37.784820Z"
    },
    "papermill": {
     "duration": 0.015874,
     "end_time": "2024-12-06T03:52:37.786972",
     "exception": false,
     "start_time": "2024-12-06T03:52:37.771098",
     "status": "completed"
    },
    "tags": []
   },
   "outputs": [],
   "source": [
    "# This Python 3 environment comes with many helpful analytics libraries installed\n",
    "# It is defined by the kaggle/python Docker image: https://github.com/kaggle/docker-python\n",
    "# For example, here's several helpful packages to load\n",
    "\n",
    "import numpy as np # linear algebra\n",
    "import pandas as pd # data processing, CSV file I/O (e.g. pd.read_csv)\n",
    "\n",
    "# Input data files are available in the read-only \"../input/\" directory\n",
    "# For example, running this (by clicking run or pressing Shift+Enter) will list all files under the input directory\n",
    "\n",
    "# import os\n",
    "# for dirname, _, filenames in os.walk('/kaggle/input'):\n",
    "#     for filename in filenames:\n",
    "#         print(os.path.join(dirname, filename))\n",
    "\n",
    "# You can write up to 20GB to the current directory (/kaggle/working/) that gets preserved as output when you create a version using \"Save & Run All\" \n",
    "# You can also write temporary files to /kaggle/temp/, but they won't be saved outside of the current session"
   ]
  },
  {
   "cell_type": "code",
   "execution_count": 2,
   "id": "51db9f28",
   "metadata": {
    "execution": {
     "iopub.execute_input": "2024-12-06T03:52:37.797306Z",
     "iopub.status.busy": "2024-12-06T03:52:37.797040Z",
     "iopub.status.idle": "2024-12-06T03:52:46.826593Z",
     "shell.execute_reply": "2024-12-06T03:52:46.825865Z"
    },
    "papermill": {
     "duration": 9.036849,
     "end_time": "2024-12-06T03:52:46.828650",
     "exception": false,
     "start_time": "2024-12-06T03:52:37.791801",
     "status": "completed"
    },
    "tags": []
   },
   "outputs": [
    {
     "name": "stderr",
     "output_type": "stream",
     "text": [
      "/opt/conda/lib/python3.10/site-packages/scipy/__init__.py:146: UserWarning: A NumPy version >=1.16.5 and <1.23.0 is required for this version of SciPy (detected version 1.23.5\n",
      "  warnings.warn(f\"A NumPy version >={np_minversion} and <{np_maxversion}\"\n",
      "/opt/conda/lib/python3.10/site-packages/tensorflow_io/python/ops/__init__.py:98: UserWarning: unable to load libtensorflow_io_plugins.so: unable to open file: libtensorflow_io_plugins.so, from paths: ['/opt/conda/lib/python3.10/site-packages/tensorflow_io/python/ops/libtensorflow_io_plugins.so']\n",
      "caused by: ['/opt/conda/lib/python3.10/site-packages/tensorflow_io/python/ops/libtensorflow_io_plugins.so: undefined symbol: _ZN3tsl6StatusC1EN10tensorflow5error4CodeESt17basic_string_viewIcSt11char_traitsIcEENS_14SourceLocationE']\n",
      "  warnings.warn(f\"unable to load libtensorflow_io_plugins.so: {e}\")\n",
      "/opt/conda/lib/python3.10/site-packages/tensorflow_io/python/ops/__init__.py:104: UserWarning: file system plugins are not loaded: unable to open file: libtensorflow_io.so, from paths: ['/opt/conda/lib/python3.10/site-packages/tensorflow_io/python/ops/libtensorflow_io.so']\n",
      "caused by: ['/opt/conda/lib/python3.10/site-packages/tensorflow_io/python/ops/libtensorflow_io.so: undefined symbol: _ZTVN10tensorflow13GcsFileSystemE']\n",
      "  warnings.warn(f\"file system plugins are not loaded: {e}\")\n"
     ]
    }
   ],
   "source": [
    "import matplotlib.pyplot as plt\n",
    "import numpy as np\n",
    "import pandas as pd\n",
    "import seaborn as sns\n",
    "import cv2\n",
    "import tensorflow as tf\n",
    "from tensorflow.keras.preprocessing.image import ImageDataGenerator\n",
    "from tqdm import tqdm\n",
    "import os\n",
    "from sklearn.utils import shuffle\n",
    "from sklearn.model_selection import train_test_split\n",
    "from tensorflow.keras.applications import EfficientNetB0, DenseNet201\n",
    "from tensorflow.keras.callbacks import EarlyStopping, ReduceLROnPlateau, TensorBoard, ModelCheckpoint\n",
    "from sklearn.metrics import classification_report,confusion_matrix\n",
    "import ipywidgets as widgets\n",
    "import io\n",
    "from PIL import Image\n",
    "from IPython.display import display,clear_output\n",
    "from warnings import filterwarnings\n",
    "from keras.models import Sequential\n",
    "from keras.layers import Dense, Flatten, Dropout\n",
    "from sklearn.metrics import accuracy_score, precision_score, recall_score, f1_score\n",
    "import time\n",
    "import psutil"
   ]
  },
  {
   "cell_type": "code",
   "execution_count": 3,
   "id": "16f4dff9",
   "metadata": {
    "execution": {
     "iopub.execute_input": "2024-12-06T03:52:46.839739Z",
     "iopub.status.busy": "2024-12-06T03:52:46.839196Z",
     "iopub.status.idle": "2024-12-06T03:52:46.843238Z",
     "shell.execute_reply": "2024-12-06T03:52:46.842556Z"
    },
    "papermill": {
     "duration": 0.011142,
     "end_time": "2024-12-06T03:52:46.844830",
     "exception": false,
     "start_time": "2024-12-06T03:52:46.833688",
     "status": "completed"
    },
    "tags": []
   },
   "outputs": [],
   "source": [
    "labels = ['Early_Blight','Healthy','Late_Blight']"
   ]
  },
  {
   "cell_type": "code",
   "execution_count": 4,
   "id": "691750f1",
   "metadata": {
    "execution": {
     "iopub.execute_input": "2024-12-06T03:52:46.854986Z",
     "iopub.status.busy": "2024-12-06T03:52:46.854752Z",
     "iopub.status.idle": "2024-12-06T03:53:18.417227Z",
     "shell.execute_reply": "2024-12-06T03:53:18.416277Z"
    },
    "papermill": {
     "duration": 31.569899,
     "end_time": "2024-12-06T03:53:18.419306",
     "exception": false,
     "start_time": "2024-12-06T03:52:46.849407",
     "status": "completed"
    },
    "tags": []
   },
   "outputs": [
    {
     "name": "stderr",
     "output_type": "stream",
     "text": [
      "100%|██████████| 1303/1303 [00:08<00:00, 155.19it/s]\n",
      "100%|██████████| 1303/1303 [00:08<00:00, 160.47it/s]\n",
      "100%|██████████| 1303/1303 [00:08<00:00, 156.25it/s]\n",
      "100%|██████████| 162/162 [00:01<00:00, 151.18it/s]\n",
      "100%|██████████| 162/162 [00:01<00:00, 155.10it/s]\n",
      "100%|██████████| 162/162 [00:01<00:00, 152.62it/s]\n",
      "100%|██████████| 163/163 [00:01<00:00, 146.87it/s]\n",
      "100%|██████████| 163/163 [00:00<00:00, 163.06it/s]\n",
      "100%|██████████| 163/163 [00:01<00:00, 151.45it/s]\n"
     ]
    }
   ],
   "source": [
    "X_train = []\n",
    "y_train = []\n",
    "X_test = []\n",
    "y_test = []\n",
    "image_size = 224\n",
    "for i in labels:\n",
    "    folderPath = os.path.join('/kaggle/input/balanced-data/balanced_data','Training',i)\n",
    "    for j in tqdm(os.listdir(folderPath)):\n",
    "        img = cv2.imread(os.path.join(folderPath,j))\n",
    "        img = cv2.resize(img,(image_size, image_size))\n",
    "        X_train.append(img)\n",
    "        y_train.append(i)\n",
    "        \n",
    "for i in labels:\n",
    "    folderPath = os.path.join('/kaggle/input/balanced-data/balanced_data','Testing',i)\n",
    "    for j in tqdm(os.listdir(folderPath)):\n",
    "        img = cv2.imread(os.path.join(folderPath,j))\n",
    "        img = cv2.resize(img,(image_size,image_size))\n",
    "        X_test.append(img)\n",
    "        y_test.append(i)\n",
    "        \n",
    "for i in labels:\n",
    "    folderPath = os.path.join('/kaggle/input/balanced-data/balanced_data','Validation',i)\n",
    "    for j in tqdm(os.listdir(folderPath)):\n",
    "        img = cv2.imread(os.path.join(folderPath,j))\n",
    "        img = cv2.resize(img,(image_size,image_size))\n",
    "        X_train.append(img)\n",
    "        y_train.append(i)\n",
    "        \n",
    "X_train = np.array(X_train)\n",
    "y_train = np.array(y_train)\n",
    "X_test = np.array(X_test)\n",
    "y_test = np.array(y_test)"
   ]
  },
  {
   "cell_type": "code",
   "execution_count": 5,
   "id": "341b2885",
   "metadata": {
    "execution": {
     "iopub.execute_input": "2024-12-06T03:53:18.456356Z",
     "iopub.status.busy": "2024-12-06T03:53:18.455535Z",
     "iopub.status.idle": "2024-12-06T03:53:18.460418Z",
     "shell.execute_reply": "2024-12-06T03:53:18.459529Z"
    },
    "papermill": {
     "duration": 0.025014,
     "end_time": "2024-12-06T03:53:18.462035",
     "exception": false,
     "start_time": "2024-12-06T03:53:18.437021",
     "status": "completed"
    },
    "tags": []
   },
   "outputs": [
    {
     "name": "stdout",
     "output_type": "stream",
     "text": [
      "(4398, 224, 224, 3)\n",
      "(4398,)\n",
      "(486, 224, 224, 3)\n",
      "(486,)\n"
     ]
    }
   ],
   "source": [
    "print(X_train.shape)\n",
    "print(y_train.shape)\n",
    "print(X_test.shape)\n",
    "print(y_test.shape)"
   ]
  },
  {
   "cell_type": "code",
   "execution_count": 6,
   "id": "dc70bd41",
   "metadata": {
    "execution": {
     "iopub.execute_input": "2024-12-06T03:53:18.498477Z",
     "iopub.status.busy": "2024-12-06T03:53:18.497694Z",
     "iopub.status.idle": "2024-12-06T03:53:18.504252Z",
     "shell.execute_reply": "2024-12-06T03:53:18.503378Z"
    },
    "papermill": {
     "duration": 0.026482,
     "end_time": "2024-12-06T03:53:18.505958",
     "exception": false,
     "start_time": "2024-12-06T03:53:18.479476",
     "status": "completed"
    },
    "tags": []
   },
   "outputs": [
    {
     "name": "stdout",
     "output_type": "stream",
     "text": [
      "['Early_Blight' 'Healthy' 'Late_Blight']\n",
      "['Early_Blight' 'Healthy' 'Late_Blight']\n"
     ]
    }
   ],
   "source": [
    "print(np.unique(y_test))\n",
    "print(np.unique(y_train))"
   ]
  },
  {
   "cell_type": "code",
   "execution_count": 7,
   "id": "43f12bb7",
   "metadata": {
    "execution": {
     "iopub.execute_input": "2024-12-06T03:53:18.541467Z",
     "iopub.status.busy": "2024-12-06T03:53:18.541189Z",
     "iopub.status.idle": "2024-12-06T03:53:18.548921Z",
     "shell.execute_reply": "2024-12-06T03:53:18.548094Z"
    },
    "papermill": {
     "duration": 0.027373,
     "end_time": "2024-12-06T03:53:18.550590",
     "exception": false,
     "start_time": "2024-12-06T03:53:18.523217",
     "status": "completed"
    },
    "tags": []
   },
   "outputs": [],
   "source": [
    "y_train_new = []\n",
    "for i in y_train:\n",
    "    y_train_new.append(labels.index(i))\n",
    "y_train = y_train_new\n",
    "y_train = tf.keras.utils.to_categorical(y_train)\n",
    "\n",
    "\n",
    "y_test_new = []\n",
    "for i in y_test:\n",
    "    y_test_new.append(labels.index(i))\n",
    "y_test = y_test_new\n",
    "y_test = tf.keras.utils.to_categorical(y_test)"
   ]
  },
  {
   "cell_type": "code",
   "execution_count": 8,
   "id": "504a496a",
   "metadata": {
    "execution": {
     "iopub.execute_input": "2024-12-06T03:53:18.586305Z",
     "iopub.status.busy": "2024-12-06T03:53:18.585975Z",
     "iopub.status.idle": "2024-12-06T03:53:18.596777Z",
     "shell.execute_reply": "2024-12-06T03:53:18.596189Z"
    },
    "papermill": {
     "duration": 0.030537,
     "end_time": "2024-12-06T03:53:18.598418",
     "exception": false,
     "start_time": "2024-12-06T03:53:18.567881",
     "status": "completed"
    },
    "tags": []
   },
   "outputs": [],
   "source": [
    "all_model = pd.DataFrame(columns=['Model', 'Accuracy (Train)', 'Precision (Train)', 'Recall (Train)', 'F1 Score (Train)', 'Accuracy (Test)', 'Precision (Test)', 'Recall (Test)', 'F1 Score (Test)', 'Training Time (s)', 'Testing Time (s)','Memory (MB)'])"
   ]
  },
  {
   "cell_type": "code",
   "execution_count": 9,
   "id": "f4425a46",
   "metadata": {
    "execution": {
     "iopub.execute_input": "2024-12-06T03:53:18.634024Z",
     "iopub.status.busy": "2024-12-06T03:53:18.633744Z",
     "iopub.status.idle": "2024-12-06T03:53:18.648449Z",
     "shell.execute_reply": "2024-12-06T03:53:18.647699Z"
    },
    "papermill": {
     "duration": 0.034515,
     "end_time": "2024-12-06T03:53:18.650001",
     "exception": false,
     "start_time": "2024-12-06T03:53:18.615486",
     "status": "completed"
    },
    "tags": []
   },
   "outputs": [
    {
     "data": {
      "text/html": [
       "<div>\n",
       "<style scoped>\n",
       "    .dataframe tbody tr th:only-of-type {\n",
       "        vertical-align: middle;\n",
       "    }\n",
       "\n",
       "    .dataframe tbody tr th {\n",
       "        vertical-align: top;\n",
       "    }\n",
       "\n",
       "    .dataframe thead th {\n",
       "        text-align: right;\n",
       "    }\n",
       "</style>\n",
       "<table border=\"1\" class=\"dataframe\">\n",
       "  <thead>\n",
       "    <tr style=\"text-align: right;\">\n",
       "      <th></th>\n",
       "      <th>Model</th>\n",
       "      <th>Accuracy (Train)</th>\n",
       "      <th>Precision (Train)</th>\n",
       "      <th>Recall (Train)</th>\n",
       "      <th>F1 Score (Train)</th>\n",
       "      <th>Accuracy (Test)</th>\n",
       "      <th>Precision (Test)</th>\n",
       "      <th>Recall (Test)</th>\n",
       "      <th>F1 Score (Test)</th>\n",
       "      <th>Training Time (s)</th>\n",
       "      <th>Testing Time (s)</th>\n",
       "      <th>Memory (MB)</th>\n",
       "    </tr>\n",
       "  </thead>\n",
       "  <tbody>\n",
       "  </tbody>\n",
       "</table>\n",
       "</div>"
      ],
      "text/plain": [
       "Empty DataFrame\n",
       "Columns: [Model, Accuracy (Train), Precision (Train), Recall (Train), F1 Score (Train), Accuracy (Test), Precision (Test), Recall (Test), F1 Score (Test), Training Time (s), Testing Time (s), Memory (MB)]\n",
       "Index: []"
      ]
     },
     "execution_count": 9,
     "metadata": {},
     "output_type": "execute_result"
    }
   ],
   "source": [
    "all_model"
   ]
  },
  {
   "cell_type": "markdown",
   "id": "8cbffd26",
   "metadata": {
    "papermill": {
     "duration": 0.017179,
     "end_time": "2024-12-06T03:53:18.684578",
     "exception": false,
     "start_time": "2024-12-06T03:53:18.667399",
     "status": "completed"
    },
    "tags": []
   },
   "source": [
    "**Feature Extraction from MobileNetV3Large**"
   ]
  },
  {
   "cell_type": "code",
   "execution_count": 10,
   "id": "b93211f9",
   "metadata": {
    "execution": {
     "iopub.execute_input": "2024-12-06T03:53:18.720588Z",
     "iopub.status.busy": "2024-12-06T03:53:18.720282Z",
     "iopub.status.idle": "2024-12-06T03:53:23.976101Z",
     "shell.execute_reply": "2024-12-06T03:53:23.975286Z"
    },
    "papermill": {
     "duration": 5.276415,
     "end_time": "2024-12-06T03:53:23.978177",
     "exception": false,
     "start_time": "2024-12-06T03:53:18.701762",
     "status": "completed"
    },
    "tags": []
   },
   "outputs": [
    {
     "name": "stdout",
     "output_type": "stream",
     "text": [
      "Downloading data from https://storage.googleapis.com/tensorflow/keras-applications/efficientnet_v2/efficientnetv2-b1_notop.h5\n",
      "28456008/28456008 [==============================] - 0s 0us/step\n"
     ]
    }
   ],
   "source": [
    "# Define the base model for feature extraction\n",
    "model = tf.keras.applications.EfficientNetV2B1(\n",
    "    include_top=False,  # Exclude fully connected layers\n",
    "    weights=\"imagenet\",  # Pretrained weights from ImageNet\n",
    "    input_shape=(image_size, image_size, 3),  # Input image size\n",
    "    pooling=\"avg\"  # Global average pooling layer to get feature vector\n",
    ")\n",
    "\n",
    "# Freeze the base model to prevent updates during feature extraction\n",
    "model.trainable = False\n"
   ]
  },
  {
   "cell_type": "code",
   "execution_count": 11,
   "id": "dc84df64",
   "metadata": {
    "execution": {
     "iopub.execute_input": "2024-12-06T03:53:24.017028Z",
     "iopub.status.busy": "2024-12-06T03:53:24.016295Z",
     "iopub.status.idle": "2024-12-06T03:53:34.922357Z",
     "shell.execute_reply": "2024-12-06T03:53:34.921403Z"
    },
    "papermill": {
     "duration": 10.927153,
     "end_time": "2024-12-06T03:53:34.924393",
     "exception": false,
     "start_time": "2024-12-06T03:53:23.997240",
     "status": "completed"
    },
    "tags": []
   },
   "outputs": [
    {
     "name": "stdout",
     "output_type": "stream",
     "text": [
      "138/138 [==============================] - 9s 32ms/step\n"
     ]
    }
   ],
   "source": [
    "# Use the base model to extract features\n",
    "X_train = model.predict(X_train, batch_size=32, verbose=1)"
   ]
  },
  {
   "cell_type": "code",
   "execution_count": 12,
   "id": "2e9290eb",
   "metadata": {
    "execution": {
     "iopub.execute_input": "2024-12-06T03:53:34.968094Z",
     "iopub.status.busy": "2024-12-06T03:53:34.967810Z",
     "iopub.status.idle": "2024-12-06T03:53:34.972188Z",
     "shell.execute_reply": "2024-12-06T03:53:34.971421Z"
    },
    "papermill": {
     "duration": 0.027231,
     "end_time": "2024-12-06T03:53:34.973722",
     "exception": false,
     "start_time": "2024-12-06T03:53:34.946491",
     "status": "completed"
    },
    "tags": []
   },
   "outputs": [],
   "source": [
    "# If labels are one-hot encoded, convert to class indices\n",
    "if y_train.shape[-1] > 1:\n",
    "    y_train = np.argmax(y_train, axis=1)"
   ]
  },
  {
   "cell_type": "code",
   "execution_count": 13,
   "id": "448e7e22",
   "metadata": {
    "execution": {
     "iopub.execute_input": "2024-12-06T03:53:35.016052Z",
     "iopub.status.busy": "2024-12-06T03:53:35.015805Z",
     "iopub.status.idle": "2024-12-06T03:53:35.020441Z",
     "shell.execute_reply": "2024-12-06T03:53:35.019537Z"
    },
    "papermill": {
     "duration": 0.027844,
     "end_time": "2024-12-06T03:53:35.022202",
     "exception": false,
     "start_time": "2024-12-06T03:53:34.994358",
     "status": "completed"
    },
    "tags": []
   },
   "outputs": [
    {
     "name": "stdout",
     "output_type": "stream",
     "text": [
      "Extracted features shape: (4398, 1280)\n",
      "Labels shape: (4398,)\n"
     ]
    }
   ],
   "source": [
    "# X_train now contains the extracted features, and y_train contains the labels\n",
    "print(\"Extracted features shape:\", X_train.shape)\n",
    "print(\"Labels shape:\", y_train.shape)"
   ]
  },
  {
   "cell_type": "code",
   "execution_count": 14,
   "id": "83cc63b9",
   "metadata": {
    "execution": {
     "iopub.execute_input": "2024-12-06T03:53:35.066412Z",
     "iopub.status.busy": "2024-12-06T03:53:35.066071Z",
     "iopub.status.idle": "2024-12-06T03:53:36.041565Z",
     "shell.execute_reply": "2024-12-06T03:53:36.040675Z"
    },
    "papermill": {
     "duration": 1.000737,
     "end_time": "2024-12-06T03:53:36.043540",
     "exception": false,
     "start_time": "2024-12-06T03:53:35.042803",
     "status": "completed"
    },
    "tags": []
   },
   "outputs": [
    {
     "name": "stdout",
     "output_type": "stream",
     "text": [
      "16/16 [==============================] - 1s 56ms/step\n"
     ]
    }
   ],
   "source": [
    "# Use the base model to extract features from test data\n",
    "X_test = model.predict(X_test, batch_size=32, verbose=1)"
   ]
  },
  {
   "cell_type": "code",
   "execution_count": 15,
   "id": "d8071c30",
   "metadata": {
    "execution": {
     "iopub.execute_input": "2024-12-06T03:53:36.089584Z",
     "iopub.status.busy": "2024-12-06T03:53:36.088878Z",
     "iopub.status.idle": "2024-12-06T03:53:36.093288Z",
     "shell.execute_reply": "2024-12-06T03:53:36.092383Z"
    },
    "papermill": {
     "duration": 0.027903,
     "end_time": "2024-12-06T03:53:36.094879",
     "exception": false,
     "start_time": "2024-12-06T03:53:36.066976",
     "status": "completed"
    },
    "tags": []
   },
   "outputs": [],
   "source": [
    "# If labels are one-hot encoded, convert to class indices\n",
    "if y_test.shape[-1] > 1:\n",
    "    y_test = np.argmax(y_test, axis=1)"
   ]
  },
  {
   "cell_type": "code",
   "execution_count": 16,
   "id": "4316cb37",
   "metadata": {
    "execution": {
     "iopub.execute_input": "2024-12-06T03:53:36.137547Z",
     "iopub.status.busy": "2024-12-06T03:53:36.137252Z",
     "iopub.status.idle": "2024-12-06T03:53:36.141840Z",
     "shell.execute_reply": "2024-12-06T03:53:36.140986Z"
    },
    "papermill": {
     "duration": 0.027786,
     "end_time": "2024-12-06T03:53:36.143535",
     "exception": false,
     "start_time": "2024-12-06T03:53:36.115749",
     "status": "completed"
    },
    "tags": []
   },
   "outputs": [
    {
     "name": "stdout",
     "output_type": "stream",
     "text": [
      "Extracted features shape: (486, 1280)\n",
      "Labels shape: (486,)\n"
     ]
    }
   ],
   "source": [
    "# X_test now contains the extracted features, and y_test contains the labels\n",
    "print(\"Extracted features shape:\", X_test.shape)\n",
    "print(\"Labels shape:\", y_test.shape)"
   ]
  },
  {
   "cell_type": "code",
   "execution_count": 17,
   "id": "eb0522af",
   "metadata": {
    "execution": {
     "iopub.execute_input": "2024-12-06T03:53:36.187189Z",
     "iopub.status.busy": "2024-12-06T03:53:36.186876Z",
     "iopub.status.idle": "2024-12-06T03:53:36.514474Z",
     "shell.execute_reply": "2024-12-06T03:53:36.513784Z"
    },
    "papermill": {
     "duration": 0.351523,
     "end_time": "2024-12-06T03:53:36.516511",
     "exception": false,
     "start_time": "2024-12-06T03:53:36.164988",
     "status": "completed"
    },
    "tags": []
   },
   "outputs": [],
   "source": [
    "from sklearn.ensemble import StackingClassifier\n",
    "from sklearn.ensemble import RandomForestClassifier\n",
    "from sklearn.svm import SVC\n",
    "from sklearn.neighbors import KNeighborsClassifier\n",
    "from sklearn.linear_model import LogisticRegression\n",
    "from sklearn.neural_network import MLPClassifier\n",
    "from sklearn.tree import DecisionTreeClassifier\n",
    "from sklearn.naive_bayes import GaussianNB\n",
    "from sklearn.model_selection import train_test_split\n",
    "from sklearn.metrics import accuracy_score\n",
    "from sklearn.ensemble import AdaBoostClassifier\n",
    "\n",
    "# Define the Level 0 classifiers\n",
    "level_0_estimators = [\n",
    "    ('svm', SVC(kernel='rbf',C=1.0,gamma='scale',decision_function_shape='ovr')),\n",
    "    ('knn', KNeighborsClassifier()),\n",
    "    ('logistic', LogisticRegression(multi_class='multinomial',solver='lbfgs',C=1.0,max_iter=1000,random_state=42 )),\n",
    "    ('mlp', MLPClassifier(random_state=42)),\n",
    "    ('decision_tree', DecisionTreeClassifier(criterion='gini',max_depth=20,min_samples_split=5,min_samples_leaf=3,max_features='sqrt',random_state=42)),\n",
    "    ('naive_bayes', GaussianNB(var_smoothing=1e-8))\n",
    "]\n",
    "\n",
    "# Define the Level 1 classifier (meta-classifier)\n",
    "level_1_meta_classifier = AdaBoostClassifier(       \n",
    "    base_estimator=DecisionTreeClassifier(max_depth=3), \n",
    "    n_estimators=200,                                    \n",
    "    learning_rate=0.5,                                   \n",
    "    algorithm='SAMME.R',                                 \n",
    "    random_state=42  \n",
    ")\n",
    "\n",
    "# Create the Stacking Classifier\n",
    "stacking_clf = StackingClassifier(\n",
    "    estimators=level_0_estimators,\n",
    "    final_estimator=level_1_meta_classifier,\n",
    "    cv=5\n",
    ")"
   ]
  },
  {
   "cell_type": "code",
   "execution_count": 18,
   "id": "ac186568",
   "metadata": {
    "execution": {
     "iopub.execute_input": "2024-12-06T03:53:36.560212Z",
     "iopub.status.busy": "2024-12-06T03:53:36.559886Z",
     "iopub.status.idle": "2024-12-06T03:54:51.005987Z",
     "shell.execute_reply": "2024-12-06T03:54:51.004981Z"
    },
    "papermill": {
     "duration": 74.469852,
     "end_time": "2024-12-06T03:54:51.007779",
     "exception": false,
     "start_time": "2024-12-06T03:53:36.537927",
     "status": "completed"
    },
    "tags": []
   },
   "outputs": [
    {
     "name": "stderr",
     "output_type": "stream",
     "text": [
      "/opt/conda/lib/python3.10/site-packages/sklearn/ensemble/_base.py:166: FutureWarning: `base_estimator` was renamed to `estimator` in version 1.2 and will be removed in 1.4.\n",
      "  warnings.warn(\n"
     ]
    },
    {
     "name": "stdout",
     "output_type": "stream",
     "text": [
      "Training Time: 74.44 seconds\n",
      "Memory Usage: 3513.68 MB\n"
     ]
    }
   ],
   "source": [
    "import time\n",
    "\n",
    "# Start timer\n",
    "start_time = time.time()\n",
    "\n",
    "# Train the stacking classifier\n",
    "stacking_clf.fit(X_train, y_train)\n",
    "\n",
    "# Measure training time\n",
    "training_time = time.time() - start_time\n",
    "print(f\"Training Time: {training_time:.2f} seconds\")\n",
    "\n",
    "# Evaluate memory usage (optional, requires `psutil` library)\n",
    "import psutil\n",
    "memory_usage = psutil.Process().memory_info().rss / 1024 / 1024\n",
    "print(f\"Memory Usage: {memory_usage:.2f} MB\")"
   ]
  },
  {
   "cell_type": "code",
   "execution_count": 19,
   "id": "bca9f266",
   "metadata": {
    "execution": {
     "iopub.execute_input": "2024-12-06T03:54:51.051276Z",
     "iopub.status.busy": "2024-12-06T03:54:51.050964Z",
     "iopub.status.idle": "2024-12-06T03:54:51.770442Z",
     "shell.execute_reply": "2024-12-06T03:54:51.769305Z"
    },
    "papermill": {
     "duration": 0.745161,
     "end_time": "2024-12-06T03:54:51.774351",
     "exception": false,
     "start_time": "2024-12-06T03:54:51.029190",
     "status": "completed"
    },
    "tags": []
   },
   "outputs": [],
   "source": [
    "# make predictions on the test data\n",
    "start_time = time.time()\n",
    "y_pred = stacking_clf.predict(X_test)\n",
    "testing_time = time.time() - start_time"
   ]
  },
  {
   "cell_type": "code",
   "execution_count": 20,
   "id": "7ac39300",
   "metadata": {
    "execution": {
     "iopub.execute_input": "2024-12-06T03:54:51.837509Z",
     "iopub.status.busy": "2024-12-06T03:54:51.836980Z",
     "iopub.status.idle": "2024-12-06T03:54:52.157739Z",
     "shell.execute_reply": "2024-12-06T03:54:52.156828Z"
    },
    "papermill": {
     "duration": 0.344421,
     "end_time": "2024-12-06T03:54:52.159625",
     "exception": false,
     "start_time": "2024-12-06T03:54:51.815204",
     "status": "completed"
    },
    "tags": []
   },
   "outputs": [
    {
     "name": "stdout",
     "output_type": "stream",
     "text": [
      "Confusion matrix, without normalization\n"
     ]
    },
    {
     "data": {
      "image/png": "[encoded data removed]",
      "text/plain": [
       "<Figure size 500x500 with 2 Axes>"
      ]
     },
     "metadata": {},
     "output_type": "display_data"
    }
   ],
   "source": [
    "import itertools\n",
    "def plot_confusion_matrix(cm, classes,\n",
    "                          normalize=False,\n",
    "                          title='',\n",
    "                          cmap=plt.cm.Greens):\n",
    "    \"\"\"\n",
    "    This function prints and plots the confusion matrix.\n",
    "    Normalization can be applied by setting `normalize=True`.\n",
    "    \"\"\"\n",
    "    if normalize:\n",
    "        cm = cm.astype('float') / cm.sum(axis=1)[:, np.newaxis]\n",
    "        print(\"Normalized confusion matrix\")\n",
    "    else:\n",
    "        print('Confusion matrix, without normalization')\n",
    "\n",
    "    plt.imshow(cm, interpolation='nearest', cmap=cmap)\n",
    "    plt.title(title)\n",
    "    plt.colorbar()\n",
    "    tick_marks = np.arange(len(classes))\n",
    "    plt.xticks(tick_marks, classes, rotation=45,fontweight='bold')\n",
    "    plt.yticks(tick_marks, classes, fontweight='bold')\n",
    "\n",
    "    for i in range(cm.shape[0]):\n",
    "        for j in range(cm.shape[1]):\n",
    "            plt.text(j, i, format(cm[i, j], 'd'),\n",
    "                    ha=\"center\", va=\"center\", fontweight='bold',\n",
    "                    color=\"white\" if cm[i, j] > cm.max() / 2. else \"black\")\n",
    "\n",
    "    plt.tight_layout()\n",
    "    plt.ylabel('True label',fontweight='bold')\n",
    "    plt.xlabel('Predicted label',fontweight='bold')\n",
    "\n",
    "# Compute confusion matrix\n",
    "cnf_matrix = confusion_matrix(y_test, y_pred)\n",
    "np.set_printoptions(precision=2)\n",
    "\n",
    "# Plot non-normalized confusion matrix\n",
    "plt.figure(figsize=(5,5))\n",
    "plot_confusion_matrix(cnf_matrix, classes=['EB','H','LB']\n",
    "                      )\n",
    "plt.show()"
   ]
  },
  {
   "cell_type": "code",
   "execution_count": 21,
   "id": "d82cbc45",
   "metadata": {
    "execution": {
     "iopub.execute_input": "2024-12-06T03:54:52.205770Z",
     "iopub.status.busy": "2024-12-06T03:54:52.205495Z",
     "iopub.status.idle": "2024-12-06T03:54:52.210689Z",
     "shell.execute_reply": "2024-12-06T03:54:52.209881Z"
    },
    "papermill": {
     "duration": 0.029586,
     "end_time": "2024-12-06T03:54:52.212301",
     "exception": false,
     "start_time": "2024-12-06T03:54:52.182715",
     "status": "completed"
    },
    "tags": []
   },
   "outputs": [
    {
     "data": {
      "text/plain": [
       "(486,)"
      ]
     },
     "execution_count": 21,
     "metadata": {},
     "output_type": "execute_result"
    }
   ],
   "source": [
    "y_pred.shape"
   ]
  },
  {
   "cell_type": "code",
   "execution_count": 22,
   "id": "25ed2dfb",
   "metadata": {
    "execution": {
     "iopub.execute_input": "2024-12-06T03:54:52.256824Z",
     "iopub.status.busy": "2024-12-06T03:54:52.256307Z",
     "iopub.status.idle": "2024-12-06T03:54:52.267476Z",
     "shell.execute_reply": "2024-12-06T03:54:52.266514Z"
    },
    "papermill": {
     "duration": 0.03518,
     "end_time": "2024-12-06T03:54:52.269038",
     "exception": false,
     "start_time": "2024-12-06T03:54:52.233858",
     "status": "completed"
    },
    "tags": []
   },
   "outputs": [
    {
     "name": "stdout",
     "output_type": "stream",
     "text": [
      "Accuracy (Test): 96.7078\n",
      "Precision (Test): 96.7202\n",
      "Recall (Test): 96.7078\n",
      "F1 score (Test): 96.7116\n"
     ]
    }
   ],
   "source": [
    "accuracy_test = accuracy_score(y_test, y_pred)*100\n",
    "precision_test = precision_score(y_test, y_pred, average='macro')*100\n",
    "recall_test = recall_score(y_test, y_pred, average='macro')*100\n",
    "f1_test = f1_score(y_test, y_pred, average='macro')*100\n",
    "\n",
    "print(\"Accuracy (Test): {:.4f}\".format(accuracy_test))\n",
    "print(\"Precision (Test): {:.4f}\".format(precision_test))\n",
    "print(\"Recall (Test): {:.4f}\".format(recall_test))\n",
    "print(\"F1 score (Test): {:.4f}\".format(f1_test))"
   ]
  },
  {
   "cell_type": "code",
   "execution_count": 23,
   "id": "dcf736bc",
   "metadata": {
    "execution": {
     "iopub.execute_input": "2024-12-06T03:54:52.313546Z",
     "iopub.status.busy": "2024-12-06T03:54:52.312783Z",
     "iopub.status.idle": "2024-12-06T03:54:58.054859Z",
     "shell.execute_reply": "2024-12-06T03:54:58.054174Z"
    },
    "papermill": {
     "duration": 5.766143,
     "end_time": "2024-12-06T03:54:58.056806",
     "exception": false,
     "start_time": "2024-12-06T03:54:52.290663",
     "status": "completed"
    },
    "tags": []
   },
   "outputs": [],
   "source": [
    "# make predictions on the train data\n",
    "y_pred = stacking_clf.predict(X_train)"
   ]
  },
  {
   "cell_type": "code",
   "execution_count": 24,
   "id": "466a1e50",
   "metadata": {
    "execution": {
     "iopub.execute_input": "2024-12-06T03:54:58.102090Z",
     "iopub.status.busy": "2024-12-06T03:54:58.101277Z",
     "iopub.status.idle": "2024-12-06T03:54:58.382590Z",
     "shell.execute_reply": "2024-12-06T03:54:58.381757Z"
    },
    "papermill": {
     "duration": 0.305363,
     "end_time": "2024-12-06T03:54:58.384338",
     "exception": false,
     "start_time": "2024-12-06T03:54:58.078975",
     "status": "completed"
    },
    "tags": []
   },
   "outputs": [
    {
     "name": "stdout",
     "output_type": "stream",
     "text": [
      "Confusion matrix, without normalization\n"
     ]
    },
    {
     "data": {
      "image/png": "[encoded data removed]",
      "text/plain": [
       "<Figure size 500x500 with 2 Axes>"
      ]
     },
     "metadata": {},
     "output_type": "display_data"
    }
   ],
   "source": [
    "def plot_confusion_matrix(cm, classes,\n",
    "                          normalize=False,\n",
    "                          title='',\n",
    "                          cmap=plt.cm.Greens):\n",
    "    \"\"\"\n",
    "    This function prints and plots the confusion matrix.\n",
    "    Normalization can be applied by setting `normalize=True`.\n",
    "    \"\"\"\n",
    "    if normalize:\n",
    "        cm = cm.astype('float') / cm.sum(axis=1)[:, np.newaxis]\n",
    "        print(\"Normalized confusion matrix\")\n",
    "    else:\n",
    "        print('Confusion matrix, without normalization')\n",
    "\n",
    "    plt.imshow(cm, interpolation='nearest', cmap=cmap)\n",
    "    plt.title(title)\n",
    "    plt.colorbar()\n",
    "    tick_marks = np.arange(len(classes))\n",
    "    plt.xticks(tick_marks, classes, rotation=45,fontweight='bold')\n",
    "    plt.yticks(tick_marks, classes, fontweight='bold')\n",
    "\n",
    "    for i in range(cm.shape[0]):\n",
    "        for j in range(cm.shape[1]):\n",
    "            plt.text(j, i, format(cm[i, j], 'd'),\n",
    "                    ha=\"center\", va=\"center\", fontweight='bold',\n",
    "                    color=\"white\" if cm[i, j] > cm.max() / 2. else \"black\")\n",
    "\n",
    "    plt.tight_layout()\n",
    "    plt.ylabel('True label',fontweight='bold')\n",
    "    plt.xlabel('Predicted label',fontweight='bold')\n",
    "\n",
    "# Compute confusion matrix\n",
    "cnf_matrix = confusion_matrix(y_train, y_pred)\n",
    "np.set_printoptions(precision=2)\n",
    "\n",
    "# Plot non-normalized confusion matrix\n",
    "plt.figure(figsize=(5,5))\n",
    "plot_confusion_matrix(cnf_matrix, classes=['EB','H','LB']\n",
    "                      )\n",
    "plt.show()"
   ]
  },
  {
   "cell_type": "code",
   "execution_count": 25,
   "id": "c3314a84",
   "metadata": {
    "execution": {
     "iopub.execute_input": "2024-12-06T03:54:58.429510Z",
     "iopub.status.busy": "2024-12-06T03:54:58.429230Z",
     "iopub.status.idle": "2024-12-06T03:54:58.440963Z",
     "shell.execute_reply": "2024-12-06T03:54:58.440135Z"
    },
    "papermill": {
     "duration": 0.036094,
     "end_time": "2024-12-06T03:54:58.442581",
     "exception": false,
     "start_time": "2024-12-06T03:54:58.406487",
     "status": "completed"
    },
    "tags": []
   },
   "outputs": [
    {
     "name": "stdout",
     "output_type": "stream",
     "text": [
      "Accuracy (Train): 99.7954\n",
      "Precision (Train): 99.7956\n",
      "Recall (Train): 99.7954\n",
      "F1 score (Train): 99.7954\n"
     ]
    }
   ],
   "source": [
    "accuracy_train = accuracy_score(y_train, y_pred)*100\n",
    "precision_train = precision_score(y_train, y_pred, average='macro')*100\n",
    "recall_train = recall_score(y_train, y_pred, average='macro')*100\n",
    "f1_train = f1_score(y_train, y_pred, average='macro')*100\n",
    "\n",
    "print(\"Accuracy (Train): {:.4f}\".format(accuracy_train))\n",
    "print(\"Precision (Train): {:.4f}\".format(precision_train))\n",
    "print(\"Recall (Train): {:.4f}\".format(recall_train))\n",
    "print(\"F1 score (Train): {:.4f}\".format(f1_train))"
   ]
  },
  {
   "cell_type": "code",
   "execution_count": 26,
   "id": "d561405a",
   "metadata": {
    "execution": {
     "iopub.execute_input": "2024-12-06T03:54:58.488778Z",
     "iopub.status.busy": "2024-12-06T03:54:58.488492Z",
     "iopub.status.idle": "2024-12-06T03:54:58.495473Z",
     "shell.execute_reply": "2024-12-06T03:54:58.494813Z"
    },
    "papermill": {
     "duration": 0.031601,
     "end_time": "2024-12-06T03:54:58.496914",
     "exception": false,
     "start_time": "2024-12-06T03:54:58.465313",
     "status": "completed"
    },
    "tags": []
   },
   "outputs": [],
   "source": [
    "model_name='EfficientNetV2B1-AB'\n",
    "all_model.loc[len(all_model)] = [model_name, accuracy_train, precision_train, recall_train, f1_train, accuracy_test, precision_test, recall_test, f1_test, training_time, testing_time, memory_usage]"
   ]
  },
  {
   "cell_type": "code",
   "execution_count": 27,
   "id": "d175494e",
   "metadata": {
    "execution": {
     "iopub.execute_input": "2024-12-06T03:54:58.542449Z",
     "iopub.status.busy": "2024-12-06T03:54:58.541697Z",
     "iopub.status.idle": "2024-12-06T03:54:58.555005Z",
     "shell.execute_reply": "2024-12-06T03:54:58.554157Z"
    },
    "papermill": {
     "duration": 0.037909,
     "end_time": "2024-12-06T03:54:58.556697",
     "exception": false,
     "start_time": "2024-12-06T03:54:58.518788",
     "status": "completed"
    },
    "tags": []
   },
   "outputs": [
    {
     "data": {
      "text/html": [
       "<div>\n",
       "<style scoped>\n",
       "    .dataframe tbody tr th:only-of-type {\n",
       "        vertical-align: middle;\n",
       "    }\n",
       "\n",
       "    .dataframe tbody tr th {\n",
       "        vertical-align: top;\n",
       "    }\n",
       "\n",
       "    .dataframe thead th {\n",
       "        text-align: right;\n",
       "    }\n",
       "</style>\n",
       "<table border=\"1\" class=\"dataframe\">\n",
       "  <thead>\n",
       "    <tr style=\"text-align: right;\">\n",
       "      <th></th>\n",
       "      <th>Model</th>\n",
       "      <th>Accuracy (Train)</th>\n",
       "      <th>Precision (Train)</th>\n",
       "      <th>Recall (Train)</th>\n",
       "      <th>F1 Score (Train)</th>\n",
       "      <th>Accuracy (Test)</th>\n",
       "      <th>Precision (Test)</th>\n",
       "      <th>Recall (Test)</th>\n",
       "      <th>F1 Score (Test)</th>\n",
       "      <th>Training Time (s)</th>\n",
       "      <th>Testing Time (s)</th>\n",
       "      <th>Memory (MB)</th>\n",
       "    </tr>\n",
       "  </thead>\n",
       "  <tbody>\n",
       "    <tr>\n",
       "      <th>0</th>\n",
       "      <td>EfficientNetV2B1-AB</td>\n",
       "      <td>99.795362</td>\n",
       "      <td>99.79564</td>\n",
       "      <td>99.795362</td>\n",
       "      <td>99.795408</td>\n",
       "      <td>96.707819</td>\n",
       "      <td>96.72024</td>\n",
       "      <td>96.707819</td>\n",
       "      <td>96.711559</td>\n",
       "      <td>74.440608</td>\n",
       "      <td>0.715248</td>\n",
       "      <td>3513.679688</td>\n",
       "    </tr>\n",
       "  </tbody>\n",
       "</table>\n",
       "</div>"
      ],
      "text/plain": [
       "                 Model  Accuracy (Train)  Precision (Train)  Recall (Train)  \\\n",
       "0  EfficientNetV2B1-AB         99.795362           99.79564       99.795362   \n",
       "\n",
       "   F1 Score (Train)  Accuracy (Test)  Precision (Test)  Recall (Test)  \\\n",
       "0         99.795408        96.707819          96.72024      96.707819   \n",
       "\n",
       "   F1 Score (Test)  Training Time (s)  Testing Time (s)  Memory (MB)  \n",
       "0        96.711559          74.440608          0.715248  3513.679688  "
      ]
     },
     "execution_count": 27,
     "metadata": {},
     "output_type": "execute_result"
    }
   ],
   "source": [
    "all_model"
   ]
  }
 ],
 "metadata": {
  "kaggle": {
   "accelerator": "gpu",
   "dataSources": [
    {
     "datasetId": 1562973,
     "sourceId": 2574068,
     "sourceType": "datasetVersion"
    },
    {
     "datasetId": 6161628,
     "sourceId": 10008956,
     "sourceType": "datasetVersion"
    }
   ],
   "dockerImageVersionId": 30528,
   "isGpuEnabled": true,
   "isInternetEnabled": true,
   "language": "python",
   "sourceType": "notebook"
  },
  "kernelspec": {
   "display_name": "Python 3",
   "language": "python",
   "name": "python3"
  },
  "language_info": {
   "codemirror_mode": {
    "name": "ipython",
    "version": 3
   },
   "file_extension": ".py",
   "mimetype": "text/x-python",
   "name": "python",
   "nbconvert_exporter": "python",
   "pygments_lexer": "ipython3",
   "version": "3.10.12"
  },
  "papermill": {
   "default_parameters": {},
   "duration": 151.648539,
   "end_time": "2024-12-06T03:55:01.429673",
   "environment_variables": {},
   "exception": null,
   "input_path": "__notebook__.ipynb",
   "output_path": "__notebook__.ipynb",
   "parameters": {},
   "start_time": "2024-12-06T03:52:29.781134",
   "version": "2.4.0"
  }
 },
 "nbformat": 4,
 "nbformat_minor": 5
}
