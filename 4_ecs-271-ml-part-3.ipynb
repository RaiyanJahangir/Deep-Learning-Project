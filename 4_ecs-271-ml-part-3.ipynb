{
 "cells": [
  {
   "cell_type": "code",
   "execution_count": 1,
   "id": "d4f8d589",
   "metadata": {
    "_cell_guid": "b1076dfc-b9ad-4769-8c92-a6c4dae69d19",
    "_uuid": "8f2839f25d086af736a60e9eeb907d3b93b6e0e5",
    "collapsed": true,
    "execution": {
     "iopub.execute_input": "2024-11-27T05:25:43.221262Z",
     "iopub.status.busy": "2024-11-27T05:25:43.220833Z",
     "iopub.status.idle": "2024-11-27T05:25:43.230939Z",
     "shell.execute_reply": "2024-11-27T05:25:43.229653Z"
    },
    "jupyter": {
     "outputs_hidden": true
    },
    "papermill": {
     "duration": 0.0196,
     "end_time": "2024-11-27T05:25:43.233356",
     "exception": false,
     "start_time": "2024-11-27T05:25:43.213756",
     "status": "completed"
    },
    "tags": []
   },
   "outputs": [],
   "source": [
    "# This Python 3 environment comes with many helpful analytics libraries installed\n",
    "# It is defined by the kaggle/python Docker image: https://github.com/kaggle/docker-python\n",
    "# For example, here's several helpful packages to load\n",
    "\n",
    "import numpy as np # linear algebra\n",
    "import pandas as pd # data processing, CSV file I/O (e.g. pd.read_csv)\n",
    "\n",
    "# Input data files are available in the read-only \"../input/\" directory\n",
    "# For example, running this (by clicking run or pressing Shift+Enter) will list all files under the input directory\n",
    "\n",
    "# import os\n",
    "# for dirname, _, filenames in os.walk('/kaggle/input'):\n",
    "#     for filename in filenames:\n",
    "#         print(os.path.join(dirname, filename))\n",
    "\n",
    "# You can write up to 20GB to the current directory (/kaggle/working/) that gets preserved as output when you create a version using \"Save & Run All\" \n",
    "# You can also write temporary files to /kaggle/temp/, but they won't be saved outside of the current session"
   ]
  },
  {
   "cell_type": "code",
   "execution_count": 2,
   "id": "7a837dc0",
   "metadata": {
    "execution": {
     "iopub.execute_input": "2024-11-27T05:25:43.245071Z",
     "iopub.status.busy": "2024-11-27T05:25:43.244644Z",
     "iopub.status.idle": "2024-11-27T05:25:54.480244Z",
     "shell.execute_reply": "2024-11-27T05:25:54.479247Z"
    },
    "papermill": {
     "duration": 11.244631,
     "end_time": "2024-11-27T05:25:54.483073",
     "exception": false,
     "start_time": "2024-11-27T05:25:43.238442",
     "status": "completed"
    },
    "tags": []
   },
   "outputs": [
    {
     "name": "stderr",
     "output_type": "stream",
     "text": [
      "/opt/conda/lib/python3.10/site-packages/scipy/__init__.py:146: UserWarning: A NumPy version >=1.16.5 and <1.23.0 is required for this version of SciPy (detected version 1.23.5\n",
      "  warnings.warn(f\"A NumPy version >={np_minversion} and <{np_maxversion}\"\n",
      "/opt/conda/lib/python3.10/site-packages/tensorflow_io/python/ops/__init__.py:98: UserWarning: unable to load libtensorflow_io_plugins.so: unable to open file: libtensorflow_io_plugins.so, from paths: ['/opt/conda/lib/python3.10/site-packages/tensorflow_io/python/ops/libtensorflow_io_plugins.so']\n",
      "caused by: ['/opt/conda/lib/python3.10/site-packages/tensorflow_io/python/ops/libtensorflow_io_plugins.so: undefined symbol: _ZN3tsl6StatusC1EN10tensorflow5error4CodeESt17basic_string_viewIcSt11char_traitsIcEENS_14SourceLocationE']\n",
      "  warnings.warn(f\"unable to load libtensorflow_io_plugins.so: {e}\")\n",
      "/opt/conda/lib/python3.10/site-packages/tensorflow_io/python/ops/__init__.py:104: UserWarning: file system plugins are not loaded: unable to open file: libtensorflow_io.so, from paths: ['/opt/conda/lib/python3.10/site-packages/tensorflow_io/python/ops/libtensorflow_io.so']\n",
      "caused by: ['/opt/conda/lib/python3.10/site-packages/tensorflow_io/python/ops/libtensorflow_io.so: undefined symbol: _ZTVN10tensorflow13GcsFileSystemE']\n",
      "  warnings.warn(f\"file system plugins are not loaded: {e}\")\n"
     ]
    }
   ],
   "source": [
    "import matplotlib.pyplot as plt\n",
    "import numpy as np\n",
    "import pandas as pd\n",
    "import seaborn as sns\n",
    "import cv2\n",
    "import tensorflow as tf\n",
    "from tensorflow.keras.preprocessing.image import ImageDataGenerator\n",
    "from tqdm import tqdm\n",
    "import os\n",
    "from sklearn.utils import shuffle\n",
    "from sklearn.model_selection import train_test_split\n",
    "from tensorflow.keras.applications import EfficientNetB0, DenseNet201\n",
    "from tensorflow.keras.callbacks import EarlyStopping, ReduceLROnPlateau, TensorBoard, ModelCheckpoint\n",
    "from sklearn.metrics import classification_report,confusion_matrix, accuracy_score, precision_score, recall_score, f1_score\n",
    "import ipywidgets as widgets\n",
    "import io\n",
    "from PIL import Image\n",
    "from IPython.display import display,clear_output\n",
    "from warnings import filterwarnings\n",
    "from keras.models import Sequential\n",
    "from keras.layers import Dense, Flatten, Dropout\n",
    "import time\n",
    "import psutil"
   ]
  },
  {
   "cell_type": "code",
   "execution_count": 3,
   "id": "728aeddc",
   "metadata": {
    "execution": {
     "iopub.execute_input": "2024-11-27T05:25:54.496203Z",
     "iopub.status.busy": "2024-11-27T05:25:54.494532Z",
     "iopub.status.idle": "2024-11-27T05:25:54.501003Z",
     "shell.execute_reply": "2024-11-27T05:25:54.499655Z"
    },
    "papermill": {
     "duration": 0.015242,
     "end_time": "2024-11-27T05:25:54.503465",
     "exception": false,
     "start_time": "2024-11-27T05:25:54.488223",
     "status": "completed"
    },
    "tags": []
   },
   "outputs": [],
   "source": [
    "labels = ['Early_Blight','Healthy','Late_Blight']"
   ]
  },
  {
   "cell_type": "code",
   "execution_count": 4,
   "id": "7623167b",
   "metadata": {
    "execution": {
     "iopub.execute_input": "2024-11-27T05:25:54.515481Z",
     "iopub.status.busy": "2024-11-27T05:25:54.515112Z",
     "iopub.status.idle": "2024-11-27T05:26:51.249709Z",
     "shell.execute_reply": "2024-11-27T05:26:51.248386Z"
    },
    "papermill": {
     "duration": 56.74381,
     "end_time": "2024-11-27T05:26:51.252471",
     "exception": false,
     "start_time": "2024-11-27T05:25:54.508661",
     "status": "completed"
    },
    "tags": []
   },
   "outputs": [
    {
     "name": "stderr",
     "output_type": "stream",
     "text": [
      "100%|██████████| 1303/1303 [00:14<00:00, 87.60it/s]\n",
      "100%|██████████| 1303/1303 [00:14<00:00, 90.95it/s]\n",
      "100%|██████████| 1303/1303 [00:15<00:00, 84.30it/s]\n",
      "100%|██████████| 162/162 [00:01<00:00, 82.06it/s]\n",
      "100%|██████████| 162/162 [00:01<00:00, 87.45it/s]\n",
      "100%|██████████| 162/162 [00:01<00:00, 91.54it/s]\n",
      "100%|██████████| 163/163 [00:01<00:00, 89.65it/s]\n",
      "100%|██████████| 163/163 [00:01<00:00, 90.01it/s]\n",
      "100%|██████████| 163/163 [00:02<00:00, 70.55it/s]\n"
     ]
    }
   ],
   "source": [
    "X_train = []\n",
    "y_train = []\n",
    "X_test = []\n",
    "y_test = []\n",
    "image_size = 128\n",
    "for i in labels:\n",
    "    folderPath = os.path.join('/kaggle/input/balanced-data/balanced_data','Training',i)\n",
    "    for j in tqdm(os.listdir(folderPath)):\n",
    "        img = cv2.imread(os.path.join(folderPath,j))\n",
    "        img = cv2.resize(img,(image_size, image_size))\n",
    "        X_train.append(img)\n",
    "        y_train.append(i)\n",
    "        \n",
    "for i in labels:\n",
    "    folderPath = os.path.join('/kaggle/input/balanced-data/balanced_data','Testing',i)\n",
    "    for j in tqdm(os.listdir(folderPath)):\n",
    "        img = cv2.imread(os.path.join(folderPath,j))\n",
    "        img = cv2.resize(img,(image_size,image_size))\n",
    "        X_test.append(img)\n",
    "        y_test.append(i)\n",
    "        \n",
    "for i in labels:\n",
    "    folderPath = os.path.join('/kaggle/input/balanced-data/balanced_data','Validation',i)\n",
    "    for j in tqdm(os.listdir(folderPath)):\n",
    "        img = cv2.imread(os.path.join(folderPath,j))\n",
    "        img = cv2.resize(img,(image_size,image_size))\n",
    "        X_train.append(img)\n",
    "        y_train.append(i)\n",
    "        \n",
    "X_train = np.array(X_train)\n",
    "y_train = np.array(y_train)\n",
    "X_test = np.array(X_test)\n",
    "y_test = np.array(y_test)"
   ]
  },
  {
   "cell_type": "code",
   "execution_count": 5,
   "id": "6414cbcc",
   "metadata": {
    "execution": {
     "iopub.execute_input": "2024-11-27T05:26:51.319091Z",
     "iopub.status.busy": "2024-11-27T05:26:51.318236Z",
     "iopub.status.idle": "2024-11-27T05:26:51.324373Z",
     "shell.execute_reply": "2024-11-27T05:26:51.323124Z"
    },
    "papermill": {
     "duration": 0.040876,
     "end_time": "2024-11-27T05:26:51.326524",
     "exception": false,
     "start_time": "2024-11-27T05:26:51.285648",
     "status": "completed"
    },
    "tags": []
   },
   "outputs": [
    {
     "name": "stdout",
     "output_type": "stream",
     "text": [
      "(4398, 128, 128, 3)\n",
      "(4398,)\n",
      "(486, 128, 128, 3)\n",
      "(486,)\n"
     ]
    }
   ],
   "source": [
    "print(X_train.shape)\n",
    "print(y_train.shape)\n",
    "print(X_test.shape)\n",
    "print(y_test.shape)"
   ]
  },
  {
   "cell_type": "code",
   "execution_count": 6,
   "id": "bd854915",
   "metadata": {
    "execution": {
     "iopub.execute_input": "2024-11-27T05:26:51.390802Z",
     "iopub.status.busy": "2024-11-27T05:26:51.389817Z",
     "iopub.status.idle": "2024-11-27T05:26:51.395718Z",
     "shell.execute_reply": "2024-11-27T05:26:51.394622Z"
    },
    "papermill": {
     "duration": 0.040045,
     "end_time": "2024-11-27T05:26:51.398145",
     "exception": false,
     "start_time": "2024-11-27T05:26:51.358100",
     "status": "completed"
    },
    "tags": []
   },
   "outputs": [],
   "source": [
    "# Reshape X_train\n",
    "nsamples, nx, ny, nrgb = X_train.shape\n",
    "X_train = X_train.reshape((nsamples,nx*ny*nrgb))\n",
    "\n",
    "# Reshape X_test\n",
    "nsamples, nx, ny, nrgb= X_test.shape\n",
    "X_test = X_test.reshape(nsamples, nx*ny*nrgb)"
   ]
  },
  {
   "cell_type": "code",
   "execution_count": 7,
   "id": "515a0e7d",
   "metadata": {
    "execution": {
     "iopub.execute_input": "2024-11-27T05:26:51.461975Z",
     "iopub.status.busy": "2024-11-27T05:26:51.461577Z",
     "iopub.status.idle": "2024-11-27T05:26:51.467604Z",
     "shell.execute_reply": "2024-11-27T05:26:51.466368Z"
    },
    "papermill": {
     "duration": 0.039995,
     "end_time": "2024-11-27T05:26:51.469759",
     "exception": false,
     "start_time": "2024-11-27T05:26:51.429764",
     "status": "completed"
    },
    "tags": []
   },
   "outputs": [
    {
     "name": "stdout",
     "output_type": "stream",
     "text": [
      "(4398, 49152)\n",
      "(4398,)\n",
      "(486, 49152)\n",
      "(486,)\n"
     ]
    }
   ],
   "source": [
    "print(X_train.shape)\n",
    "print(y_train.shape)\n",
    "print(X_test.shape)\n",
    "print(y_test.shape)"
   ]
  },
  {
   "cell_type": "code",
   "execution_count": 8,
   "id": "025d5a71",
   "metadata": {
    "execution": {
     "iopub.execute_input": "2024-11-27T05:26:51.533681Z",
     "iopub.status.busy": "2024-11-27T05:26:51.533295Z",
     "iopub.status.idle": "2024-11-27T05:26:51.548104Z",
     "shell.execute_reply": "2024-11-27T05:26:51.547124Z"
    },
    "papermill": {
     "duration": 0.049778,
     "end_time": "2024-11-27T05:26:51.550403",
     "exception": false,
     "start_time": "2024-11-27T05:26:51.500625",
     "status": "completed"
    },
    "tags": []
   },
   "outputs": [],
   "source": [
    "all_model = pd.DataFrame(columns=['Model', 'Accuracy (Train)', 'Precision (Train)', 'Recall (Train)', 'F1 Score (Train)', 'Accuracy (Test)', 'Precision (Test)', 'Recall (Test)', 'F1 Score (Test)', 'Training Time (s)', 'Testing Time (s)','Memory (MB)'])"
   ]
  },
  {
   "cell_type": "code",
   "execution_count": 9,
   "id": "3c480216",
   "metadata": {
    "execution": {
     "iopub.execute_input": "2024-11-27T05:26:51.613479Z",
     "iopub.status.busy": "2024-11-27T05:26:51.613098Z",
     "iopub.status.idle": "2024-11-27T05:26:51.632337Z",
     "shell.execute_reply": "2024-11-27T05:26:51.631311Z"
    },
    "papermill": {
     "duration": 0.053668,
     "end_time": "2024-11-27T05:26:51.634692",
     "exception": false,
     "start_time": "2024-11-27T05:26:51.581024",
     "status": "completed"
    },
    "tags": []
   },
   "outputs": [
    {
     "data": {
      "text/html": [
       "<div>\n",
       "<style scoped>\n",
       "    .dataframe tbody tr th:only-of-type {\n",
       "        vertical-align: middle;\n",
       "    }\n",
       "\n",
       "    .dataframe tbody tr th {\n",
       "        vertical-align: top;\n",
       "    }\n",
       "\n",
       "    .dataframe thead th {\n",
       "        text-align: right;\n",
       "    }\n",
       "</style>\n",
       "<table border=\"1\" class=\"dataframe\">\n",
       "  <thead>\n",
       "    <tr style=\"text-align: right;\">\n",
       "      <th></th>\n",
       "      <th>Model</th>\n",
       "      <th>Accuracy (Train)</th>\n",
       "      <th>Precision (Train)</th>\n",
       "      <th>Recall (Train)</th>\n",
       "      <th>F1 Score (Train)</th>\n",
       "      <th>Accuracy (Test)</th>\n",
       "      <th>Precision (Test)</th>\n",
       "      <th>Recall (Test)</th>\n",
       "      <th>F1 Score (Test)</th>\n",
       "      <th>Training Time (s)</th>\n",
       "      <th>Testing Time (s)</th>\n",
       "      <th>Memory (MB)</th>\n",
       "    </tr>\n",
       "  </thead>\n",
       "  <tbody>\n",
       "  </tbody>\n",
       "</table>\n",
       "</div>"
      ],
      "text/plain": [
       "Empty DataFrame\n",
       "Columns: [Model, Accuracy (Train), Precision (Train), Recall (Train), F1 Score (Train), Accuracy (Test), Precision (Test), Recall (Test), F1 Score (Test), Training Time (s), Testing Time (s), Memory (MB)]\n",
       "Index: []"
      ]
     },
     "execution_count": 9,
     "metadata": {},
     "output_type": "execute_result"
    }
   ],
   "source": [
    "all_model"
   ]
  },
  {
   "cell_type": "markdown",
   "id": "5d580551",
   "metadata": {
    "papermill": {
     "duration": 0.030717,
     "end_time": "2024-11-27T05:26:51.696774",
     "exception": false,
     "start_time": "2024-11-27T05:26:51.666057",
     "status": "completed"
    },
    "tags": []
   },
   "source": [
    "**Machine Learning**"
   ]
  },
  {
   "cell_type": "code",
   "execution_count": 10,
   "id": "bd89c5ec",
   "metadata": {
    "execution": {
     "iopub.execute_input": "2024-11-27T05:26:51.760117Z",
     "iopub.status.busy": "2024-11-27T05:26:51.759703Z",
     "iopub.status.idle": "2024-11-27T05:26:51.766120Z",
     "shell.execute_reply": "2024-11-27T05:26:51.765140Z"
    },
    "papermill": {
     "duration": 0.040737,
     "end_time": "2024-11-27T05:26:51.768481",
     "exception": false,
     "start_time": "2024-11-27T05:26:51.727744",
     "status": "completed"
    },
    "tags": []
   },
   "outputs": [],
   "source": [
    "from sklearn.preprocessing import LabelEncoder\n",
    "le = LabelEncoder()\n",
    "y_train = le.fit_transform(y_train)"
   ]
  },
  {
   "cell_type": "code",
   "execution_count": 11,
   "id": "95627f66",
   "metadata": {
    "execution": {
     "iopub.execute_input": "2024-11-27T05:26:51.832514Z",
     "iopub.status.busy": "2024-11-27T05:26:51.831789Z",
     "iopub.status.idle": "2024-11-27T05:26:51.839475Z",
     "shell.execute_reply": "2024-11-27T05:26:51.838468Z"
    },
    "papermill": {
     "duration": 0.042124,
     "end_time": "2024-11-27T05:26:51.841614",
     "exception": false,
     "start_time": "2024-11-27T05:26:51.799490",
     "status": "completed"
    },
    "tags": []
   },
   "outputs": [
    {
     "data": {
      "text/plain": [
       "array([0, 0, 0, ..., 2, 2, 2])"
      ]
     },
     "execution_count": 11,
     "metadata": {},
     "output_type": "execute_result"
    }
   ],
   "source": [
    "y_train"
   ]
  },
  {
   "cell_type": "code",
   "execution_count": 12,
   "id": "24d79c5b",
   "metadata": {
    "execution": {
     "iopub.execute_input": "2024-11-27T05:26:51.904779Z",
     "iopub.status.busy": "2024-11-27T05:26:51.904432Z",
     "iopub.status.idle": "2024-11-27T05:26:51.910108Z",
     "shell.execute_reply": "2024-11-27T05:26:51.908990Z"
    },
    "papermill": {
     "duration": 0.039541,
     "end_time": "2024-11-27T05:26:51.912168",
     "exception": false,
     "start_time": "2024-11-27T05:26:51.872627",
     "status": "completed"
    },
    "tags": []
   },
   "outputs": [],
   "source": [
    "from sklearn.preprocessing import LabelEncoder\n",
    "le = LabelEncoder()\n",
    "y_test = le.fit_transform(y_test)"
   ]
  },
  {
   "cell_type": "code",
   "execution_count": 13,
   "id": "c3604b22",
   "metadata": {
    "collapsed": true,
    "execution": {
     "iopub.execute_input": "2024-11-27T05:26:51.977137Z",
     "iopub.status.busy": "2024-11-27T05:26:51.976180Z",
     "iopub.status.idle": "2024-11-27T05:26:51.984357Z",
     "shell.execute_reply": "2024-11-27T05:26:51.983170Z"
    },
    "jupyter": {
     "outputs_hidden": true
    },
    "papermill": {
     "duration": 0.042667,
     "end_time": "2024-11-27T05:26:51.986480",
     "exception": false,
     "start_time": "2024-11-27T05:26:51.943813",
     "status": "completed"
    },
    "tags": []
   },
   "outputs": [
    {
     "data": {
      "text/plain": [
       "array([0, 0, 0, 0, 0, 0, 0, 0, 0, 0, 0, 0, 0, 0, 0, 0, 0, 0, 0, 0, 0, 0,\n",
       "       0, 0, 0, 0, 0, 0, 0, 0, 0, 0, 0, 0, 0, 0, 0, 0, 0, 0, 0, 0, 0, 0,\n",
       "       0, 0, 0, 0, 0, 0, 0, 0, 0, 0, 0, 0, 0, 0, 0, 0, 0, 0, 0, 0, 0, 0,\n",
       "       0, 0, 0, 0, 0, 0, 0, 0, 0, 0, 0, 0, 0, 0, 0, 0, 0, 0, 0, 0, 0, 0,\n",
       "       0, 0, 0, 0, 0, 0, 0, 0, 0, 0, 0, 0, 0, 0, 0, 0, 0, 0, 0, 0, 0, 0,\n",
       "       0, 0, 0, 0, 0, 0, 0, 0, 0, 0, 0, 0, 0, 0, 0, 0, 0, 0, 0, 0, 0, 0,\n",
       "       0, 0, 0, 0, 0, 0, 0, 0, 0, 0, 0, 0, 0, 0, 0, 0, 0, 0, 0, 0, 0, 0,\n",
       "       0, 0, 0, 0, 0, 0, 0, 0, 1, 1, 1, 1, 1, 1, 1, 1, 1, 1, 1, 1, 1, 1,\n",
       "       1, 1, 1, 1, 1, 1, 1, 1, 1, 1, 1, 1, 1, 1, 1, 1, 1, 1, 1, 1, 1, 1,\n",
       "       1, 1, 1, 1, 1, 1, 1, 1, 1, 1, 1, 1, 1, 1, 1, 1, 1, 1, 1, 1, 1, 1,\n",
       "       1, 1, 1, 1, 1, 1, 1, 1, 1, 1, 1, 1, 1, 1, 1, 1, 1, 1, 1, 1, 1, 1,\n",
       "       1, 1, 1, 1, 1, 1, 1, 1, 1, 1, 1, 1, 1, 1, 1, 1, 1, 1, 1, 1, 1, 1,\n",
       "       1, 1, 1, 1, 1, 1, 1, 1, 1, 1, 1, 1, 1, 1, 1, 1, 1, 1, 1, 1, 1, 1,\n",
       "       1, 1, 1, 1, 1, 1, 1, 1, 1, 1, 1, 1, 1, 1, 1, 1, 1, 1, 1, 1, 1, 1,\n",
       "       1, 1, 1, 1, 1, 1, 1, 1, 1, 1, 1, 1, 1, 1, 1, 1, 2, 2, 2, 2, 2, 2,\n",
       "       2, 2, 2, 2, 2, 2, 2, 2, 2, 2, 2, 2, 2, 2, 2, 2, 2, 2, 2, 2, 2, 2,\n",
       "       2, 2, 2, 2, 2, 2, 2, 2, 2, 2, 2, 2, 2, 2, 2, 2, 2, 2, 2, 2, 2, 2,\n",
       "       2, 2, 2, 2, 2, 2, 2, 2, 2, 2, 2, 2, 2, 2, 2, 2, 2, 2, 2, 2, 2, 2,\n",
       "       2, 2, 2, 2, 2, 2, 2, 2, 2, 2, 2, 2, 2, 2, 2, 2, 2, 2, 2, 2, 2, 2,\n",
       "       2, 2, 2, 2, 2, 2, 2, 2, 2, 2, 2, 2, 2, 2, 2, 2, 2, 2, 2, 2, 2, 2,\n",
       "       2, 2, 2, 2, 2, 2, 2, 2, 2, 2, 2, 2, 2, 2, 2, 2, 2, 2, 2, 2, 2, 2,\n",
       "       2, 2, 2, 2, 2, 2, 2, 2, 2, 2, 2, 2, 2, 2, 2, 2, 2, 2, 2, 2, 2, 2,\n",
       "       2, 2])"
      ]
     },
     "execution_count": 13,
     "metadata": {},
     "output_type": "execute_result"
    }
   ],
   "source": [
    "y_test"
   ]
  },
  {
   "cell_type": "markdown",
   "id": "912f6423",
   "metadata": {
    "papermill": {
     "duration": 0.030544,
     "end_time": "2024-11-27T05:26:52.048977",
     "exception": false,
     "start_time": "2024-11-27T05:26:52.018433",
     "status": "completed"
    },
    "tags": []
   },
   "source": [
    "**XGBoost**"
   ]
  },
  {
   "cell_type": "code",
   "execution_count": 14,
   "id": "d0832f71",
   "metadata": {
    "execution": {
     "iopub.execute_input": "2024-11-27T05:26:52.113676Z",
     "iopub.status.busy": "2024-11-27T05:26:52.113332Z",
     "iopub.status.idle": "2024-11-27T06:50:21.398562Z",
     "shell.execute_reply": "2024-11-27T06:50:21.396727Z"
    },
    "papermill": {
     "duration": 5009.321539,
     "end_time": "2024-11-27T06:50:21.402116",
     "exception": false,
     "start_time": "2024-11-27T05:26:52.080577",
     "status": "completed"
    },
    "tags": []
   },
   "outputs": [],
   "source": [
    "from xgboost import XGBClassifier\n",
    "\n",
    "# define the XGB model\n",
    "xgb = XGBClassifier(\n",
    "    n_estimators=300,            \n",
    "    learning_rate=0.05,          \n",
    "    max_depth=6,                 \n",
    "    objective='multi:softprob',  \n",
    "    num_class=3,                \n",
    "    subsample=0.8,               \n",
    "    colsample_bytree=0.8,        \n",
    "    gamma=1,                     \n",
    "    min_child_weight=3,          \n",
    "    random_state=42              \n",
    ")\n",
    "\n",
    "# fit the model on the training data\n",
    "start_time = time.time()\n",
    "xgb.fit(X_train, y_train)\n",
    "training_time = time.time() - start_time\n",
    "memory_usage = psutil.Process().memory_info().rss / 1024 / 1024"
   ]
  },
  {
   "cell_type": "code",
   "execution_count": 15,
   "id": "9480644a",
   "metadata": {
    "execution": {
     "iopub.execute_input": "2024-11-27T06:50:21.474538Z",
     "iopub.status.busy": "2024-11-27T06:50:21.474171Z",
     "iopub.status.idle": "2024-11-27T06:50:21.625209Z",
     "shell.execute_reply": "2024-11-27T06:50:21.624264Z"
    },
    "papermill": {
     "duration": 0.190395,
     "end_time": "2024-11-27T06:50:21.627868",
     "exception": false,
     "start_time": "2024-11-27T06:50:21.437473",
     "status": "completed"
    },
    "tags": []
   },
   "outputs": [],
   "source": [
    "# make predictions on the test data\n",
    "start_time = time.time()\n",
    "y_pred = xgb.predict(X_test)\n",
    "testing_time = time.time() - start_time"
   ]
  },
  {
   "cell_type": "code",
   "execution_count": 16,
   "id": "4327d09d",
   "metadata": {
    "execution": {
     "iopub.execute_input": "2024-11-27T06:50:21.769742Z",
     "iopub.status.busy": "2024-11-27T06:50:21.769394Z",
     "iopub.status.idle": "2024-11-27T06:50:22.148603Z",
     "shell.execute_reply": "2024-11-27T06:50:22.147278Z"
    },
    "papermill": {
     "duration": 0.491172,
     "end_time": "2024-11-27T06:50:22.151364",
     "exception": false,
     "start_time": "2024-11-27T06:50:21.660192",
     "status": "completed"
    },
    "tags": []
   },
   "outputs": [
    {
     "data": {
      "image/png": "[encoded data removed]",
      "text/plain": [
       "<Figure size 640x480 with 2 Axes>"
      ]
     },
     "metadata": {},
     "output_type": "display_data"
    }
   ],
   "source": [
    "classes=['EB','H','LB']\n",
    "# Compute the confusion matrix\n",
    "cm = confusion_matrix(y_test, y_pred)\n",
    "\n",
    "# Plot the confusion matrix\n",
    "fig, ax = plt.subplots()\n",
    "im = ax.imshow(cm, interpolation='nearest', cmap=plt.cm.Greens)\n",
    "ax.figure.colorbar(im, ax=ax)\n",
    "ax.set(xticks=np.arange(cm.shape[1]),\n",
    "       yticks=np.arange(cm.shape[0]),\n",
    "       xticklabels=classes,\n",
    "       yticklabels=classes,\n",
    "       xlabel='Predicted label',\n",
    "       ylabel='True label',\n",
    "       aspect='equal',\n",
    "       )\n",
    "plt.xticks(np.arange(cm.shape[1]),  rotation=45, fontweight='bold', color='black',fontsize=10)\n",
    "plt.yticks(np.arange(cm.shape[0]),  fontweight='bold', color='black',fontsize=10)\n",
    "plt.ylabel('True label', fontweight='bold', color='black',fontsize=10)\n",
    "plt.xlabel('Predicted label', fontweight='bold', color='black',fontsize=10)\n",
    "plt.setp(ax.get_xticklabels(), rotation=45, ha=\"right\",rotation_mode=\"anchor\")\n",
    "\n",
    "for i in range(cm.shape[0]):\n",
    "    for j in range(cm.shape[1]):\n",
    "        ax.text(j, i, format(cm[i, j], 'd'),\n",
    "                ha=\"center\", va=\"center\", fontweight='bold',\n",
    "                color=\"white\" if cm[i, j] > cm.max() / 2. else \"black\")\n",
    "fig.tight_layout()\n",
    "plt.show()"
   ]
  },
  {
   "cell_type": "code",
   "execution_count": 17,
   "id": "367a55c4",
   "metadata": {
    "execution": {
     "iopub.execute_input": "2024-11-27T06:50:22.225313Z",
     "iopub.status.busy": "2024-11-27T06:50:22.224931Z",
     "iopub.status.idle": "2024-11-27T06:50:22.240756Z",
     "shell.execute_reply": "2024-11-27T06:50:22.239113Z"
    },
    "papermill": {
     "duration": 0.057059,
     "end_time": "2024-11-27T06:50:22.243332",
     "exception": false,
     "start_time": "2024-11-27T06:50:22.186273",
     "status": "completed"
    },
    "tags": []
   },
   "outputs": [
    {
     "name": "stdout",
     "output_type": "stream",
     "text": [
      "Accuracy (Test): 83.3333\n",
      "Precision (Test): 83.7948\n",
      "Recall (Test): 83.3333\n",
      "F1 score (Test): 83.4432\n"
     ]
    }
   ],
   "source": [
    "accuracy_test = accuracy_score(y_test, y_pred)*100\n",
    "precision_test = precision_score(y_test, y_pred, average='macro')*100\n",
    "recall_test = recall_score(y_test, y_pred, average='macro')*100\n",
    "f1_test = f1_score(y_test, y_pred, average='macro')*100\n",
    "\n",
    "print(\"Accuracy (Test): {:.4f}\".format(accuracy_test))\n",
    "print(\"Precision (Test): {:.4f}\".format(precision_test))\n",
    "print(\"Recall (Test): {:.4f}\".format(recall_test))\n",
    "print(\"F1 score (Test): {:.4f}\".format(f1_test))"
   ]
  },
  {
   "cell_type": "code",
   "execution_count": 18,
   "id": "1aca87a4",
   "metadata": {
    "execution": {
     "iopub.execute_input": "2024-11-27T06:50:22.313357Z",
     "iopub.status.busy": "2024-11-27T06:50:22.312981Z",
     "iopub.status.idle": "2024-11-27T06:50:23.398674Z",
     "shell.execute_reply": "2024-11-27T06:50:23.397792Z"
    },
    "papermill": {
     "duration": 1.123019,
     "end_time": "2024-11-27T06:50:23.401199",
     "exception": false,
     "start_time": "2024-11-27T06:50:22.278180",
     "status": "completed"
    },
    "tags": []
   },
   "outputs": [],
   "source": [
    "# make predictions on the train data\n",
    "y_pred = xgb.predict(X_train)"
   ]
  },
  {
   "cell_type": "code",
   "execution_count": 19,
   "id": "dfb1439b",
   "metadata": {
    "execution": {
     "iopub.execute_input": "2024-11-27T06:50:23.472780Z",
     "iopub.status.busy": "2024-11-27T06:50:23.471818Z",
     "iopub.status.idle": "2024-11-27T06:50:23.817247Z",
     "shell.execute_reply": "2024-11-27T06:50:23.815592Z"
    },
    "papermill": {
     "duration": 0.385224,
     "end_time": "2024-11-27T06:50:23.820201",
     "exception": false,
     "start_time": "2024-11-27T06:50:23.434977",
     "status": "completed"
    },
    "tags": []
   },
   "outputs": [
    {
     "data": {
      "image/png": "[encoded data removed]",
      "text/plain": [
       "<Figure size 640x480 with 2 Axes>"
      ]
     },
     "metadata": {},
     "output_type": "display_data"
    }
   ],
   "source": [
    "classes=['EB','H','LB']\n",
    "# Compute the confusion matrix\n",
    "cm = confusion_matrix(y_train, y_pred)\n",
    "\n",
    "# Plot the confusion matrix\n",
    "fig, ax = plt.subplots()\n",
    "im = ax.imshow(cm, interpolation='nearest', cmap=plt.cm.Greens)\n",
    "ax.figure.colorbar(im, ax=ax)\n",
    "ax.set(xticks=np.arange(cm.shape[1]),\n",
    "       yticks=np.arange(cm.shape[0]),\n",
    "       xticklabels=classes,\n",
    "       yticklabels=classes,\n",
    "       xlabel='Predicted label',\n",
    "       ylabel='True label',\n",
    "       aspect='equal',\n",
    "       )\n",
    "plt.xticks(np.arange(cm.shape[1]),  rotation=45, fontweight='bold', color='black',fontsize=10)\n",
    "plt.yticks(np.arange(cm.shape[0]),  fontweight='bold', color='black',fontsize=10)\n",
    "plt.ylabel('True label', fontweight='bold', color='black',fontsize=10)\n",
    "plt.xlabel('Predicted label', fontweight='bold', color='black',fontsize=10)\n",
    "plt.setp(ax.get_xticklabels(), rotation=45, ha=\"right\",rotation_mode=\"anchor\")\n",
    "\n",
    "for i in range(cm.shape[0]):\n",
    "    for j in range(cm.shape[1]):\n",
    "        ax.text(j, i, format(cm[i, j], 'd'),\n",
    "                ha=\"center\", va=\"center\", fontweight='bold',\n",
    "                color=\"white\" if cm[i, j] > cm.max() / 2. else \"black\")\n",
    "fig.tight_layout()\n",
    "plt.show()"
   ]
  },
  {
   "cell_type": "code",
   "execution_count": 20,
   "id": "d17cdf96",
   "metadata": {
    "execution": {
     "iopub.execute_input": "2024-11-27T06:50:23.901069Z",
     "iopub.status.busy": "2024-11-27T06:50:23.899769Z",
     "iopub.status.idle": "2024-11-27T06:50:23.918546Z",
     "shell.execute_reply": "2024-11-27T06:50:23.917067Z"
    },
    "papermill": {
     "duration": 0.060153,
     "end_time": "2024-11-27T06:50:23.921163",
     "exception": false,
     "start_time": "2024-11-27T06:50:23.861010",
     "status": "completed"
    },
    "tags": []
   },
   "outputs": [
    {
     "name": "stdout",
     "output_type": "stream",
     "text": [
      "Accuracy (Train): 100.0000\n",
      "Precision (Train): 100.0000\n",
      "Recall (Train): 100.0000\n",
      "F1 score (Train): 100.0000\n"
     ]
    }
   ],
   "source": [
    "accuracy_train = accuracy_score(y_train, y_pred)*100\n",
    "precision_train = precision_score(y_train, y_pred, average='macro')*100\n",
    "recall_train = recall_score(y_train, y_pred, average='macro')*100\n",
    "f1_train = f1_score(y_train, y_pred, average='macro')*100\n",
    "\n",
    "print(\"Accuracy (Train): {:.4f}\".format(accuracy_train))\n",
    "print(\"Precision (Train): {:.4f}\".format(precision_train))\n",
    "print(\"Recall (Train): {:.4f}\".format(recall_train))\n",
    "print(\"F1 score (Train): {:.4f}\".format(f1_train))"
   ]
  },
  {
   "cell_type": "code",
   "execution_count": 21,
   "id": "b00e4a9e",
   "metadata": {
    "execution": {
     "iopub.execute_input": "2024-11-27T06:50:23.992774Z",
     "iopub.status.busy": "2024-11-27T06:50:23.992403Z",
     "iopub.status.idle": "2024-11-27T06:50:24.002159Z",
     "shell.execute_reply": "2024-11-27T06:50:24.000909Z"
    },
    "papermill": {
     "duration": 0.048576,
     "end_time": "2024-11-27T06:50:24.004618",
     "exception": false,
     "start_time": "2024-11-27T06:50:23.956042",
     "status": "completed"
    },
    "tags": []
   },
   "outputs": [],
   "source": [
    "model_name='XGB'\n",
    "all_model.loc[len(all_model)] = [model_name, accuracy_train, precision_train, recall_train, f1_train, accuracy_test, precision_test, recall_test, f1_test, training_time, testing_time, memory_usage]"
   ]
  },
  {
   "cell_type": "code",
   "execution_count": 22,
   "id": "b976360c",
   "metadata": {
    "execution": {
     "iopub.execute_input": "2024-11-27T06:50:24.075663Z",
     "iopub.status.busy": "2024-11-27T06:50:24.075112Z",
     "iopub.status.idle": "2024-11-27T06:50:24.096643Z",
     "shell.execute_reply": "2024-11-27T06:50:24.094732Z"
    },
    "papermill": {
     "duration": 0.06236,
     "end_time": "2024-11-27T06:50:24.100340",
     "exception": false,
     "start_time": "2024-11-27T06:50:24.037980",
     "status": "completed"
    },
    "tags": []
   },
   "outputs": [
    {
     "data": {
      "text/html": [
       "<div>\n",
       "<style scoped>\n",
       "    .dataframe tbody tr th:only-of-type {\n",
       "        vertical-align: middle;\n",
       "    }\n",
       "\n",
       "    .dataframe tbody tr th {\n",
       "        vertical-align: top;\n",
       "    }\n",
       "\n",
       "    .dataframe thead th {\n",
       "        text-align: right;\n",
       "    }\n",
       "</style>\n",
       "<table border=\"1\" class=\"dataframe\">\n",
       "  <thead>\n",
       "    <tr style=\"text-align: right;\">\n",
       "      <th></th>\n",
       "      <th>Model</th>\n",
       "      <th>Accuracy (Train)</th>\n",
       "      <th>Precision (Train)</th>\n",
       "      <th>Recall (Train)</th>\n",
       "      <th>F1 Score (Train)</th>\n",
       "      <th>Accuracy (Test)</th>\n",
       "      <th>Precision (Test)</th>\n",
       "      <th>Recall (Test)</th>\n",
       "      <th>F1 Score (Test)</th>\n",
       "      <th>Training Time (s)</th>\n",
       "      <th>Testing Time (s)</th>\n",
       "      <th>Memory (MB)</th>\n",
       "    </tr>\n",
       "  </thead>\n",
       "  <tbody>\n",
       "    <tr>\n",
       "      <th>0</th>\n",
       "      <td>XGB</td>\n",
       "      <td>100.0</td>\n",
       "      <td>100.0</td>\n",
       "      <td>100.0</td>\n",
       "      <td>100.0</td>\n",
       "      <td>83.333333</td>\n",
       "      <td>83.794777</td>\n",
       "      <td>83.333333</td>\n",
       "      <td>83.443184</td>\n",
       "      <td>5009.10393</td>\n",
       "      <td>0.147002</td>\n",
       "      <td>1081.632812</td>\n",
       "    </tr>\n",
       "  </tbody>\n",
       "</table>\n",
       "</div>"
      ],
      "text/plain": [
       "  Model  Accuracy (Train)  Precision (Train)  Recall (Train)  \\\n",
       "0   XGB             100.0              100.0           100.0   \n",
       "\n",
       "   F1 Score (Train)  Accuracy (Test)  Precision (Test)  Recall (Test)  \\\n",
       "0             100.0        83.333333         83.794777      83.333333   \n",
       "\n",
       "   F1 Score (Test)  Training Time (s)  Testing Time (s)  Memory (MB)  \n",
       "0        83.443184         5009.10393          0.147002  1081.632812  "
      ]
     },
     "execution_count": 22,
     "metadata": {},
     "output_type": "execute_result"
    }
   ],
   "source": [
    "all_model"
   ]
  }
 ],
 "metadata": {
  "kaggle": {
   "accelerator": "none",
   "dataSources": [
    {
     "datasetId": 1562973,
     "sourceId": 2574068,
     "sourceType": "datasetVersion"
    },
    {
     "datasetId": 6161628,
     "sourceId": 10008956,
     "sourceType": "datasetVersion"
    }
   ],
   "dockerImageVersionId": 30527,
   "isGpuEnabled": false,
   "isInternetEnabled": true,
   "language": "python",
   "sourceType": "notebook"
  },
  "kernelspec": {
   "display_name": "Python 3",
   "language": "python",
   "name": "python3"
  },
  "language_info": {
   "codemirror_mode": {
    "name": "ipython",
    "version": 3
   },
   "file_extension": ".py",
   "mimetype": "text/x-python",
   "name": "python",
   "nbconvert_exporter": "python",
   "pygments_lexer": "ipython3",
   "version": "3.10.12"
  },
  "papermill": {
   "default_parameters": {},
   "duration": 5094.590562,
   "end_time": "2024-11-27T06:50:26.851045",
   "environment_variables": {},
   "exception": null,
   "input_path": "__notebook__.ipynb",
   "output_path": "__notebook__.ipynb",
   "parameters": {},
   "start_time": "2024-11-27T05:25:32.260483",
   "version": "2.4.0"
  }
 },
 "nbformat": 4,
 "nbformat_minor": 5
}
