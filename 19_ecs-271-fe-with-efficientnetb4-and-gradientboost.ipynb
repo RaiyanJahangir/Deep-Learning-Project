{
 "cells": [
  {
   "cell_type": "code",
   "execution_count": 1,
   "id": "f9da588c",
   "metadata": {
    "_cell_guid": "b1076dfc-b9ad-4769-8c92-a6c4dae69d19",
    "_uuid": "8f2839f25d086af736a60e9eeb907d3b93b6e0e5",
    "execution": {
     "iopub.execute_input": "2024-12-06T19:45:08.662508Z",
     "iopub.status.busy": "2024-12-06T19:45:08.661394Z",
     "iopub.status.idle": "2024-12-06T19:45:08.669215Z",
     "shell.execute_reply": "2024-12-06T19:45:08.668617Z"
    },
    "papermill": {
     "duration": 0.016007,
     "end_time": "2024-12-06T19:45:08.670759",
     "exception": false,
     "start_time": "2024-12-06T19:45:08.654752",
     "status": "completed"
    },
    "tags": []
   },
   "outputs": [],
   "source": [
    "# This Python 3 environment comes with many helpful analytics libraries installed\n",
    "# It is defined by the kaggle/python Docker image: https://github.com/kaggle/docker-python\n",
    "# For example, here's several helpful packages to load\n",
    "\n",
    "import numpy as np # linear algebra\n",
    "import pandas as pd # data processing, CSV file I/O (e.g. pd.read_csv)\n",
    "\n",
    "# Input data files are available in the read-only \"../input/\" directory\n",
    "# For example, running this (by clicking run or pressing Shift+Enter) will list all files under the input directory\n",
    "\n",
    "# import os\n",
    "# for dirname, _, filenames in os.walk('/kaggle/input'):\n",
    "#     for filename in filenames:\n",
    "#         print(os.path.join(dirname, filename))\n",
    "\n",
    "# You can write up to 20GB to the current directory (/kaggle/working/) that gets preserved as output when you create a version using \"Save & Run All\" \n",
    "# You can also write temporary files to /kaggle/temp/, but they won't be saved outside of the current session"
   ]
  },
  {
   "cell_type": "code",
   "execution_count": 2,
   "id": "df137015",
   "metadata": {
    "execution": {
     "iopub.execute_input": "2024-12-06T19:45:08.681096Z",
     "iopub.status.busy": "2024-12-06T19:45:08.680884Z",
     "iopub.status.idle": "2024-12-06T19:45:17.657334Z",
     "shell.execute_reply": "2024-12-06T19:45:17.656292Z"
    },
    "papermill": {
     "duration": 8.984087,
     "end_time": "2024-12-06T19:45:17.659525",
     "exception": false,
     "start_time": "2024-12-06T19:45:08.675438",
     "status": "completed"
    },
    "tags": []
   },
   "outputs": [
    {
     "name": "stderr",
     "output_type": "stream",
     "text": [
      "/opt/conda/lib/python3.10/site-packages/scipy/__init__.py:146: UserWarning: A NumPy version >=1.16.5 and <1.23.0 is required for this version of SciPy (detected version 1.23.5\n",
      "  warnings.warn(f\"A NumPy version >={np_minversion} and <{np_maxversion}\"\n",
      "/opt/conda/lib/python3.10/site-packages/tensorflow_io/python/ops/__init__.py:98: UserWarning: unable to load libtensorflow_io_plugins.so: unable to open file: libtensorflow_io_plugins.so, from paths: ['/opt/conda/lib/python3.10/site-packages/tensorflow_io/python/ops/libtensorflow_io_plugins.so']\n",
      "caused by: ['/opt/conda/lib/python3.10/site-packages/tensorflow_io/python/ops/libtensorflow_io_plugins.so: undefined symbol: _ZN3tsl6StatusC1EN10tensorflow5error4CodeESt17basic_string_viewIcSt11char_traitsIcEENS_14SourceLocationE']\n",
      "  warnings.warn(f\"unable to load libtensorflow_io_plugins.so: {e}\")\n",
      "/opt/conda/lib/python3.10/site-packages/tensorflow_io/python/ops/__init__.py:104: UserWarning: file system plugins are not loaded: unable to open file: libtensorflow_io.so, from paths: ['/opt/conda/lib/python3.10/site-packages/tensorflow_io/python/ops/libtensorflow_io.so']\n",
      "caused by: ['/opt/conda/lib/python3.10/site-packages/tensorflow_io/python/ops/libtensorflow_io.so: undefined symbol: _ZTVN10tensorflow13GcsFileSystemE']\n",
      "  warnings.warn(f\"file system plugins are not loaded: {e}\")\n"
     ]
    }
   ],
   "source": [
    "import matplotlib.pyplot as plt\n",
    "import numpy as np\n",
    "import pandas as pd\n",
    "import seaborn as sns\n",
    "import cv2\n",
    "import tensorflow as tf\n",
    "from tensorflow.keras.preprocessing.image import ImageDataGenerator\n",
    "from tqdm import tqdm\n",
    "import os\n",
    "from sklearn.utils import shuffle\n",
    "from sklearn.model_selection import train_test_split\n",
    "from tensorflow.keras.applications import EfficientNetB0, DenseNet201\n",
    "from tensorflow.keras.callbacks import EarlyStopping, ReduceLROnPlateau, TensorBoard, ModelCheckpoint\n",
    "from sklearn.metrics import classification_report,confusion_matrix\n",
    "import ipywidgets as widgets\n",
    "import io\n",
    "from PIL import Image\n",
    "from IPython.display import display,clear_output\n",
    "from warnings import filterwarnings\n",
    "from keras.models import Sequential\n",
    "from keras.layers import Dense, Flatten, Dropout\n",
    "from sklearn.metrics import accuracy_score, precision_score, recall_score, f1_score\n",
    "import time\n",
    "import psutil"
   ]
  },
  {
   "cell_type": "code",
   "execution_count": 3,
   "id": "733bf2df",
   "metadata": {
    "execution": {
     "iopub.execute_input": "2024-12-06T19:45:17.670545Z",
     "iopub.status.busy": "2024-12-06T19:45:17.670001Z",
     "iopub.status.idle": "2024-12-06T19:45:17.674047Z",
     "shell.execute_reply": "2024-12-06T19:45:17.673301Z"
    },
    "papermill": {
     "duration": 0.01123,
     "end_time": "2024-12-06T19:45:17.675662",
     "exception": false,
     "start_time": "2024-12-06T19:45:17.664432",
     "status": "completed"
    },
    "tags": []
   },
   "outputs": [],
   "source": [
    "labels = ['Early_Blight','Healthy','Late_Blight']"
   ]
  },
  {
   "cell_type": "code",
   "execution_count": 4,
   "id": "995ade15",
   "metadata": {
    "execution": {
     "iopub.execute_input": "2024-12-06T19:45:17.685828Z",
     "iopub.status.busy": "2024-12-06T19:45:17.685603Z",
     "iopub.status.idle": "2024-12-06T19:46:09.438389Z",
     "shell.execute_reply": "2024-12-06T19:46:09.437621Z"
    },
    "papermill": {
     "duration": 51.760366,
     "end_time": "2024-12-06T19:46:09.440700",
     "exception": false,
     "start_time": "2024-12-06T19:45:17.680334",
     "status": "completed"
    },
    "tags": []
   },
   "outputs": [
    {
     "name": "stderr",
     "output_type": "stream",
     "text": [
      "100%|██████████| 1303/1303 [00:13<00:00, 94.46it/s]\n",
      "100%|██████████| 1303/1303 [00:13<00:00, 94.44it/s]\n",
      "100%|██████████| 1303/1303 [00:13<00:00, 97.87it/s]\n",
      "100%|██████████| 162/162 [00:01<00:00, 96.87it/s]\n",
      "100%|██████████| 162/162 [00:01<00:00, 105.78it/s]\n",
      "100%|██████████| 162/162 [00:01<00:00, 100.20it/s]\n",
      "100%|██████████| 163/163 [00:01<00:00, 87.43it/s]\n",
      "100%|██████████| 163/163 [00:01<00:00, 97.24it/s]\n",
      "100%|██████████| 163/163 [00:01<00:00, 99.74it/s] \n"
     ]
    }
   ],
   "source": [
    "X_train = []\n",
    "y_train = []\n",
    "X_test = []\n",
    "y_test = []\n",
    "image_size = 380\n",
    "for i in labels:\n",
    "    folderPath = os.path.join('/kaggle/input/balanced-data/balanced_data','Training',i)\n",
    "    for j in tqdm(os.listdir(folderPath)):\n",
    "        img = cv2.imread(os.path.join(folderPath,j))\n",
    "        img = cv2.resize(img,(image_size, image_size))\n",
    "        X_train.append(img)\n",
    "        y_train.append(i)\n",
    "        \n",
    "for i in labels:\n",
    "    folderPath = os.path.join('/kaggle/input/balanced-data/balanced_data','Testing',i)\n",
    "    for j in tqdm(os.listdir(folderPath)):\n",
    "        img = cv2.imread(os.path.join(folderPath,j))\n",
    "        img = cv2.resize(img,(image_size,image_size))\n",
    "        X_test.append(img)\n",
    "        y_test.append(i)\n",
    "        \n",
    "for i in labels:\n",
    "    folderPath = os.path.join('/kaggle/input/balanced-data/balanced_data','Validation',i)\n",
    "    for j in tqdm(os.listdir(folderPath)):\n",
    "        img = cv2.imread(os.path.join(folderPath,j))\n",
    "        img = cv2.resize(img,(image_size,image_size))\n",
    "        X_train.append(img)\n",
    "        y_train.append(i)\n",
    "        \n",
    "X_train = np.array(X_train)\n",
    "y_train = np.array(y_train)\n",
    "X_test = np.array(X_test)\n",
    "y_test = np.array(y_test)"
   ]
  },
  {
   "cell_type": "code",
   "execution_count": 5,
   "id": "3780e4cc",
   "metadata": {
    "execution": {
     "iopub.execute_input": "2024-12-06T19:46:09.497610Z",
     "iopub.status.busy": "2024-12-06T19:46:09.497260Z",
     "iopub.status.idle": "2024-12-06T19:46:09.502201Z",
     "shell.execute_reply": "2024-12-06T19:46:09.501380Z"
    },
    "papermill": {
     "duration": 0.035217,
     "end_time": "2024-12-06T19:46:09.504192",
     "exception": false,
     "start_time": "2024-12-06T19:46:09.468975",
     "status": "completed"
    },
    "tags": []
   },
   "outputs": [
    {
     "name": "stdout",
     "output_type": "stream",
     "text": [
      "(4398, 380, 380, 3)\n",
      "(4398,)\n",
      "(486, 380, 380, 3)\n",
      "(486,)\n"
     ]
    }
   ],
   "source": [
    "print(X_train.shape)\n",
    "print(y_train.shape)\n",
    "print(X_test.shape)\n",
    "print(y_test.shape)"
   ]
  },
  {
   "cell_type": "code",
   "execution_count": 6,
   "id": "c0297a88",
   "metadata": {
    "execution": {
     "iopub.execute_input": "2024-12-06T19:46:09.557412Z",
     "iopub.status.busy": "2024-12-06T19:46:09.557097Z",
     "iopub.status.idle": "2024-12-06T19:46:09.563455Z",
     "shell.execute_reply": "2024-12-06T19:46:09.562447Z"
    },
    "papermill": {
     "duration": 0.034843,
     "end_time": "2024-12-06T19:46:09.565196",
     "exception": false,
     "start_time": "2024-12-06T19:46:09.530353",
     "status": "completed"
    },
    "tags": []
   },
   "outputs": [
    {
     "name": "stdout",
     "output_type": "stream",
     "text": [
      "['Early_Blight' 'Healthy' 'Late_Blight']\n",
      "['Early_Blight' 'Healthy' 'Late_Blight']\n"
     ]
    }
   ],
   "source": [
    "print(np.unique(y_test))\n",
    "print(np.unique(y_train))"
   ]
  },
  {
   "cell_type": "code",
   "execution_count": 7,
   "id": "f09f74bd",
   "metadata": {
    "execution": {
     "iopub.execute_input": "2024-12-06T19:46:09.616698Z",
     "iopub.status.busy": "2024-12-06T19:46:09.616387Z",
     "iopub.status.idle": "2024-12-06T19:46:09.623755Z",
     "shell.execute_reply": "2024-12-06T19:46:09.623083Z"
    },
    "papermill": {
     "duration": 0.035164,
     "end_time": "2024-12-06T19:46:09.625368",
     "exception": false,
     "start_time": "2024-12-06T19:46:09.590204",
     "status": "completed"
    },
    "tags": []
   },
   "outputs": [],
   "source": [
    "y_train_new = []\n",
    "for i in y_train:\n",
    "    y_train_new.append(labels.index(i))\n",
    "y_train = y_train_new\n",
    "y_train = tf.keras.utils.to_categorical(y_train)\n",
    "\n",
    "\n",
    "y_test_new = []\n",
    "for i in y_test:\n",
    "    y_test_new.append(labels.index(i))\n",
    "y_test = y_test_new\n",
    "y_test = tf.keras.utils.to_categorical(y_test)"
   ]
  },
  {
   "cell_type": "code",
   "execution_count": 8,
   "id": "ec778d11",
   "metadata": {
    "execution": {
     "iopub.execute_input": "2024-12-06T19:46:09.677257Z",
     "iopub.status.busy": "2024-12-06T19:46:09.676970Z",
     "iopub.status.idle": "2024-12-06T19:46:09.687664Z",
     "shell.execute_reply": "2024-12-06T19:46:09.686803Z"
    },
    "papermill": {
     "duration": 0.038715,
     "end_time": "2024-12-06T19:46:09.689358",
     "exception": false,
     "start_time": "2024-12-06T19:46:09.650643",
     "status": "completed"
    },
    "tags": []
   },
   "outputs": [],
   "source": [
    "all_model = pd.DataFrame(columns=['Model', 'Accuracy (Train)', 'Precision (Train)', 'Recall (Train)', 'F1 Score (Train)', 'Accuracy (Test)', 'Precision (Test)', 'Recall (Test)', 'F1 Score (Test)', 'Training Time (s)', 'Testing Time (s)','Memory (MB)'])"
   ]
  },
  {
   "cell_type": "code",
   "execution_count": 9,
   "id": "fc0aeeb0",
   "metadata": {
    "execution": {
     "iopub.execute_input": "2024-12-06T19:46:09.740705Z",
     "iopub.status.busy": "2024-12-06T19:46:09.740403Z",
     "iopub.status.idle": "2024-12-06T19:46:09.755343Z",
     "shell.execute_reply": "2024-12-06T19:46:09.754459Z"
    },
    "papermill": {
     "duration": 0.042656,
     "end_time": "2024-12-06T19:46:09.757057",
     "exception": false,
     "start_time": "2024-12-06T19:46:09.714401",
     "status": "completed"
    },
    "tags": []
   },
   "outputs": [
    {
     "data": {
      "text/html": [
       "<div>\n",
       "<style scoped>\n",
       "    .dataframe tbody tr th:only-of-type {\n",
       "        vertical-align: middle;\n",
       "    }\n",
       "\n",
       "    .dataframe tbody tr th {\n",
       "        vertical-align: top;\n",
       "    }\n",
       "\n",
       "    .dataframe thead th {\n",
       "        text-align: right;\n",
       "    }\n",
       "</style>\n",
       "<table border=\"1\" class=\"dataframe\">\n",
       "  <thead>\n",
       "    <tr style=\"text-align: right;\">\n",
       "      <th></th>\n",
       "      <th>Model</th>\n",
       "      <th>Accuracy (Train)</th>\n",
       "      <th>Precision (Train)</th>\n",
       "      <th>Recall (Train)</th>\n",
       "      <th>F1 Score (Train)</th>\n",
       "      <th>Accuracy (Test)</th>\n",
       "      <th>Precision (Test)</th>\n",
       "      <th>Recall (Test)</th>\n",
       "      <th>F1 Score (Test)</th>\n",
       "      <th>Training Time (s)</th>\n",
       "      <th>Testing Time (s)</th>\n",
       "      <th>Memory (MB)</th>\n",
       "    </tr>\n",
       "  </thead>\n",
       "  <tbody>\n",
       "  </tbody>\n",
       "</table>\n",
       "</div>"
      ],
      "text/plain": [
       "Empty DataFrame\n",
       "Columns: [Model, Accuracy (Train), Precision (Train), Recall (Train), F1 Score (Train), Accuracy (Test), Precision (Test), Recall (Test), F1 Score (Test), Training Time (s), Testing Time (s), Memory (MB)]\n",
       "Index: []"
      ]
     },
     "execution_count": 9,
     "metadata": {},
     "output_type": "execute_result"
    }
   ],
   "source": [
    "all_model"
   ]
  },
  {
   "cell_type": "markdown",
   "id": "c2d345e7",
   "metadata": {
    "papermill": {
     "duration": 0.024948,
     "end_time": "2024-12-06T19:46:09.807140",
     "exception": false,
     "start_time": "2024-12-06T19:46:09.782192",
     "status": "completed"
    },
    "tags": []
   },
   "source": [
    "**Feature Extraction from MobileNetV3Large**"
   ]
  },
  {
   "cell_type": "code",
   "execution_count": 10,
   "id": "0289b24a",
   "metadata": {
    "execution": {
     "iopub.execute_input": "2024-12-06T19:46:09.859154Z",
     "iopub.status.busy": "2024-12-06T19:46:09.858833Z",
     "iopub.status.idle": "2024-12-06T19:46:19.190844Z",
     "shell.execute_reply": "2024-12-06T19:46:19.190064Z"
    },
    "papermill": {
     "duration": 9.360529,
     "end_time": "2024-12-06T19:46:19.192943",
     "exception": false,
     "start_time": "2024-12-06T19:46:09.832414",
     "status": "completed"
    },
    "tags": []
   },
   "outputs": [
    {
     "name": "stdout",
     "output_type": "stream",
     "text": [
      "Downloading data from https://storage.googleapis.com/keras-applications/efficientnetb4_notop.h5\n",
      "71686520/71686520 [==============================] - 3s 0us/step\n"
     ]
    }
   ],
   "source": [
    "# Define the base model for feature extraction\n",
    "model = tf.keras.applications.EfficientNetB4(\n",
    "    include_top=False,  # Exclude fully connected layers\n",
    "    weights=\"imagenet\",  # Pretrained weights from ImageNet\n",
    "    input_shape=(image_size, image_size, 3),  # Input image size\n",
    "    pooling=\"avg\"  # Global average pooling layer to get feature vector\n",
    ")\n",
    "\n",
    "# Freeze the base model to prevent updates during feature extraction\n",
    "model.trainable = False\n"
   ]
  },
  {
   "cell_type": "code",
   "execution_count": 11,
   "id": "41defa4e",
   "metadata": {
    "execution": {
     "iopub.execute_input": "2024-12-06T19:46:19.247776Z",
     "iopub.status.busy": "2024-12-06T19:46:19.247445Z",
     "iopub.status.idle": "2024-12-06T19:46:59.799891Z",
     "shell.execute_reply": "2024-12-06T19:46:59.798963Z"
    },
    "papermill": {
     "duration": 40.581832,
     "end_time": "2024-12-06T19:46:59.802028",
     "exception": false,
     "start_time": "2024-12-06T19:46:19.220196",
     "status": "completed"
    },
    "tags": []
   },
   "outputs": [
    {
     "name": "stdout",
     "output_type": "stream",
     "text": [
      "138/138 [==============================] - 36s 219ms/step\n"
     ]
    }
   ],
   "source": [
    "# Use the base model to extract features\n",
    "X_train = model.predict(X_train, batch_size=32, verbose=1)"
   ]
  },
  {
   "cell_type": "code",
   "execution_count": 12,
   "id": "41993b96",
   "metadata": {
    "execution": {
     "iopub.execute_input": "2024-12-06T19:46:59.868216Z",
     "iopub.status.busy": "2024-12-06T19:46:59.867932Z",
     "iopub.status.idle": "2024-12-06T19:46:59.872753Z",
     "shell.execute_reply": "2024-12-06T19:46:59.871792Z"
    },
    "papermill": {
     "duration": 0.039503,
     "end_time": "2024-12-06T19:46:59.874420",
     "exception": false,
     "start_time": "2024-12-06T19:46:59.834917",
     "status": "completed"
    },
    "tags": []
   },
   "outputs": [],
   "source": [
    "# If labels are one-hot encoded, convert to class indices\n",
    "if y_train.shape[-1] > 1:\n",
    "    y_train = np.argmax(y_train, axis=1)"
   ]
  },
  {
   "cell_type": "code",
   "execution_count": 13,
   "id": "7284cbe1",
   "metadata": {
    "execution": {
     "iopub.execute_input": "2024-12-06T19:46:59.940705Z",
     "iopub.status.busy": "2024-12-06T19:46:59.940116Z",
     "iopub.status.idle": "2024-12-06T19:46:59.944803Z",
     "shell.execute_reply": "2024-12-06T19:46:59.943846Z"
    },
    "papermill": {
     "duration": 0.040382,
     "end_time": "2024-12-06T19:46:59.946619",
     "exception": false,
     "start_time": "2024-12-06T19:46:59.906237",
     "status": "completed"
    },
    "tags": []
   },
   "outputs": [
    {
     "name": "stdout",
     "output_type": "stream",
     "text": [
      "Extracted features shape: (4398, 1792)\n",
      "Labels shape: (4398,)\n"
     ]
    }
   ],
   "source": [
    "# X_train now contains the extracted features, and y_train contains the labels\n",
    "print(\"Extracted features shape:\", X_train.shape)\n",
    "print(\"Labels shape:\", y_train.shape)"
   ]
  },
  {
   "cell_type": "code",
   "execution_count": 14,
   "id": "88a16b84",
   "metadata": {
    "execution": {
     "iopub.execute_input": "2024-12-06T19:47:00.013302Z",
     "iopub.status.busy": "2024-12-06T19:47:00.012454Z",
     "iopub.status.idle": "2024-12-06T19:47:04.049451Z",
     "shell.execute_reply": "2024-12-06T19:47:04.048753Z"
    },
    "papermill": {
     "duration": 4.071613,
     "end_time": "2024-12-06T19:47:04.051298",
     "exception": false,
     "start_time": "2024-12-06T19:46:59.979685",
     "status": "completed"
    },
    "tags": []
   },
   "outputs": [
    {
     "name": "stdout",
     "output_type": "stream",
     "text": [
      "16/16 [==============================] - 4s 252ms/step\n"
     ]
    }
   ],
   "source": [
    "# Use the base model to extract features from test data\n",
    "X_test = model.predict(X_test, batch_size=32, verbose=1)"
   ]
  },
  {
   "cell_type": "code",
   "execution_count": 15,
   "id": "f83a7443",
   "metadata": {
    "execution": {
     "iopub.execute_input": "2024-12-06T19:47:04.122485Z",
     "iopub.status.busy": "2024-12-06T19:47:04.121801Z",
     "iopub.status.idle": "2024-12-06T19:47:04.126249Z",
     "shell.execute_reply": "2024-12-06T19:47:04.125294Z"
    },
    "papermill": {
     "duration": 0.041304,
     "end_time": "2024-12-06T19:47:04.128002",
     "exception": false,
     "start_time": "2024-12-06T19:47:04.086698",
     "status": "completed"
    },
    "tags": []
   },
   "outputs": [],
   "source": [
    "# If labels are one-hot encoded, convert to class indices\n",
    "if y_test.shape[-1] > 1:\n",
    "    y_test = np.argmax(y_test, axis=1)"
   ]
  },
  {
   "cell_type": "code",
   "execution_count": 16,
   "id": "6d100d69",
   "metadata": {
    "execution": {
     "iopub.execute_input": "2024-12-06T19:47:04.194201Z",
     "iopub.status.busy": "2024-12-06T19:47:04.193937Z",
     "iopub.status.idle": "2024-12-06T19:47:04.198349Z",
     "shell.execute_reply": "2024-12-06T19:47:04.197533Z"
    },
    "papermill": {
     "duration": 0.039144,
     "end_time": "2024-12-06T19:47:04.199969",
     "exception": false,
     "start_time": "2024-12-06T19:47:04.160825",
     "status": "completed"
    },
    "tags": []
   },
   "outputs": [
    {
     "name": "stdout",
     "output_type": "stream",
     "text": [
      "Extracted features shape: (486, 1792)\n",
      "Labels shape: (486,)\n"
     ]
    }
   ],
   "source": [
    "# X_test now contains the extracted features, and y_test contains the labels\n",
    "print(\"Extracted features shape:\", X_test.shape)\n",
    "print(\"Labels shape:\", y_test.shape)"
   ]
  },
  {
   "cell_type": "code",
   "execution_count": 17,
   "id": "22ff9367",
   "metadata": {
    "execution": {
     "iopub.execute_input": "2024-12-06T19:47:04.268185Z",
     "iopub.status.busy": "2024-12-06T19:47:04.267904Z",
     "iopub.status.idle": "2024-12-06T19:47:04.580961Z",
     "shell.execute_reply": "2024-12-06T19:47:04.580236Z"
    },
    "papermill": {
     "duration": 0.350583,
     "end_time": "2024-12-06T19:47:04.582996",
     "exception": false,
     "start_time": "2024-12-06T19:47:04.232413",
     "status": "completed"
    },
    "tags": []
   },
   "outputs": [],
   "source": [
    "from sklearn.ensemble import StackingClassifier\n",
    "from sklearn.ensemble import RandomForestClassifier\n",
    "from sklearn.svm import SVC\n",
    "from sklearn.neighbors import KNeighborsClassifier\n",
    "from sklearn.linear_model import LogisticRegression\n",
    "from sklearn.neural_network import MLPClassifier\n",
    "from sklearn.tree import DecisionTreeClassifier\n",
    "from sklearn.naive_bayes import GaussianNB\n",
    "from sklearn.model_selection import train_test_split\n",
    "from sklearn.metrics import accuracy_score\n",
    "from sklearn.ensemble import GradientBoostingClassifier\n",
    "\n",
    "# Define the Level 0 classifiers\n",
    "level_0_estimators = [\n",
    "    ('svm', SVC(kernel='rbf',C=1.0,gamma='scale',decision_function_shape='ovr')),\n",
    "    ('knn', KNeighborsClassifier()),\n",
    "    ('logistic', LogisticRegression(multi_class='multinomial',solver='lbfgs',C=1.0,max_iter=1000,random_state=42 )),\n",
    "    ('mlp', MLPClassifier(random_state=42)),\n",
    "    ('decision_tree', DecisionTreeClassifier(criterion='gini',max_depth=20,min_samples_split=5,min_samples_leaf=3,max_features='sqrt',random_state=42)),\n",
    "    ('naive_bayes', GaussianNB(var_smoothing=1e-8))\n",
    "]\n",
    "\n",
    "# Define the Level 1 classifier (meta-classifier)\n",
    "level_1_meta_classifier = GradientBoostingClassifier(\n",
    "    n_estimators=300,            \n",
    "    learning_rate=0.05,          \n",
    "    max_depth=5,                 \n",
    "    min_samples_split=5,         \n",
    "    min_samples_leaf=3,          \n",
    "    max_features='sqrt',         \n",
    "    subsample=0.9,               \n",
    "    random_state=42              \n",
    ")\n",
    "\n",
    "# Create the Stacking Classifier\n",
    "stacking_clf = StackingClassifier(\n",
    "    estimators=level_0_estimators,\n",
    "    final_estimator=level_1_meta_classifier,\n",
    "    cv=5\n",
    ")"
   ]
  },
  {
   "cell_type": "code",
   "execution_count": 18,
   "id": "31b31319",
   "metadata": {
    "execution": {
     "iopub.execute_input": "2024-12-06T19:47:04.652301Z",
     "iopub.status.busy": "2024-12-06T19:47:04.651980Z",
     "iopub.status.idle": "2024-12-06T19:48:49.294010Z",
     "shell.execute_reply": "2024-12-06T19:48:49.293051Z"
    },
    "papermill": {
     "duration": 104.71326,
     "end_time": "2024-12-06T19:48:49.330511",
     "exception": false,
     "start_time": "2024-12-06T19:47:04.617251",
     "status": "completed"
    },
    "tags": []
   },
   "outputs": [
    {
     "name": "stdout",
     "output_type": "stream",
     "text": [
      "Training Time: 104.64 seconds\n",
      "Memory Usage: 3683.55 MB\n"
     ]
    }
   ],
   "source": [
    "import time\n",
    "\n",
    "# Start timer\n",
    "start_time = time.time()\n",
    "\n",
    "# Train the stacking classifier\n",
    "stacking_clf.fit(X_train, y_train)\n",
    "\n",
    "# Measure training time\n",
    "training_time = time.time() - start_time\n",
    "print(f\"Training Time: {training_time:.2f} seconds\")\n",
    "\n",
    "# Evaluate memory usage (optional, requires `psutil` library)\n",
    "import psutil\n",
    "memory_usage = psutil.Process().memory_info().rss / 1024 / 1024\n",
    "print(f\"Memory Usage: {memory_usage:.2f} MB\")"
   ]
  },
  {
   "cell_type": "code",
   "execution_count": 19,
   "id": "02f66882",
   "metadata": {
    "execution": {
     "iopub.execute_input": "2024-12-06T19:48:49.403294Z",
     "iopub.status.busy": "2024-12-06T19:48:49.402806Z",
     "iopub.status.idle": "2024-12-06T19:48:50.272485Z",
     "shell.execute_reply": "2024-12-06T19:48:50.271325Z"
    },
    "papermill": {
     "duration": 0.9106,
     "end_time": "2024-12-06T19:48:50.275817",
     "exception": false,
     "start_time": "2024-12-06T19:48:49.365217",
     "status": "completed"
    },
    "tags": []
   },
   "outputs": [],
   "source": [
    "# make predictions on the test data\n",
    "start_time = time.time()\n",
    "y_pred = stacking_clf.predict(X_test)\n",
    "testing_time = time.time() - start_time"
   ]
  },
  {
   "cell_type": "code",
   "execution_count": 20,
   "id": "e6096546",
   "metadata": {
    "execution": {
     "iopub.execute_input": "2024-12-06T19:48:50.420734Z",
     "iopub.status.busy": "2024-12-06T19:48:50.420388Z",
     "iopub.status.idle": "2024-12-06T19:48:50.731533Z",
     "shell.execute_reply": "2024-12-06T19:48:50.730683Z"
    },
    "papermill": {
     "duration": 0.351971,
     "end_time": "2024-12-06T19:48:50.733384",
     "exception": false,
     "start_time": "2024-12-06T19:48:50.381413",
     "status": "completed"
    },
    "tags": []
   },
   "outputs": [
    {
     "name": "stdout",
     "output_type": "stream",
     "text": [
      "Confusion matrix, without normalization\n"
     ]
    },
    {
     "data": {
      "image/png": "[encoded data removed]",
      "text/plain": [
       "<Figure size 500x500 with 2 Axes>"
      ]
     },
     "metadata": {},
     "output_type": "display_data"
    }
   ],
   "source": [
    "import itertools\n",
    "def plot_confusion_matrix(cm, classes,\n",
    "                          normalize=False,\n",
    "                          title='',\n",
    "                          cmap=plt.cm.Greens):\n",
    "    \"\"\"\n",
    "    This function prints and plots the confusion matrix.\n",
    "    Normalization can be applied by setting `normalize=True`.\n",
    "    \"\"\"\n",
    "    if normalize:\n",
    "        cm = cm.astype('float') / cm.sum(axis=1)[:, np.newaxis]\n",
    "        print(\"Normalized confusion matrix\")\n",
    "    else:\n",
    "        print('Confusion matrix, without normalization')\n",
    "\n",
    "    plt.imshow(cm, interpolation='nearest', cmap=cmap)\n",
    "    plt.title(title)\n",
    "    plt.colorbar()\n",
    "    tick_marks = np.arange(len(classes))\n",
    "    plt.xticks(tick_marks, classes, rotation=45,fontweight='bold')\n",
    "    plt.yticks(tick_marks, classes, fontweight='bold')\n",
    "\n",
    "    for i in range(cm.shape[0]):\n",
    "        for j in range(cm.shape[1]):\n",
    "            plt.text(j, i, format(cm[i, j], 'd'),\n",
    "                    ha=\"center\", va=\"center\", fontweight='bold',\n",
    "                    color=\"white\" if cm[i, j] > cm.max() / 2. else \"black\")\n",
    "\n",
    "    plt.tight_layout()\n",
    "    plt.ylabel('True label',fontweight='bold')\n",
    "    plt.xlabel('Predicted label',fontweight='bold')\n",
    "\n",
    "# Compute confusion matrix\n",
    "cnf_matrix = confusion_matrix(y_test, y_pred)\n",
    "np.set_printoptions(precision=2)\n",
    "\n",
    "# Plot non-normalized confusion matrix\n",
    "plt.figure(figsize=(5,5))\n",
    "plot_confusion_matrix(cnf_matrix, classes=['EB','H','LB']\n",
    "                      )\n",
    "plt.show()"
   ]
  },
  {
   "cell_type": "code",
   "execution_count": 21,
   "id": "ddd63583",
   "metadata": {
    "execution": {
     "iopub.execute_input": "2024-12-06T19:48:50.800699Z",
     "iopub.status.busy": "2024-12-06T19:48:50.800392Z",
     "iopub.status.idle": "2024-12-06T19:48:50.805447Z",
     "shell.execute_reply": "2024-12-06T19:48:50.804764Z"
    },
    "papermill": {
     "duration": 0.040269,
     "end_time": "2024-12-06T19:48:50.807104",
     "exception": false,
     "start_time": "2024-12-06T19:48:50.766835",
     "status": "completed"
    },
    "tags": []
   },
   "outputs": [
    {
     "data": {
      "text/plain": [
       "(486,)"
      ]
     },
     "execution_count": 21,
     "metadata": {},
     "output_type": "execute_result"
    }
   ],
   "source": [
    "y_pred.shape"
   ]
  },
  {
   "cell_type": "code",
   "execution_count": 22,
   "id": "494204b0",
   "metadata": {
    "execution": {
     "iopub.execute_input": "2024-12-06T19:48:50.873684Z",
     "iopub.status.busy": "2024-12-06T19:48:50.873392Z",
     "iopub.status.idle": "2024-12-06T19:48:50.883423Z",
     "shell.execute_reply": "2024-12-06T19:48:50.882702Z"
    },
    "papermill": {
     "duration": 0.044996,
     "end_time": "2024-12-06T19:48:50.884970",
     "exception": false,
     "start_time": "2024-12-06T19:48:50.839974",
     "status": "completed"
    },
    "tags": []
   },
   "outputs": [
    {
     "name": "stdout",
     "output_type": "stream",
     "text": [
      "Accuracy (Test): 97.7366\n",
      "Precision (Test): 97.7707\n",
      "Recall (Test): 97.7366\n",
      "F1 score (Test): 97.7343\n"
     ]
    }
   ],
   "source": [
    "accuracy_test = accuracy_score(y_test, y_pred)*100\n",
    "precision_test = precision_score(y_test, y_pred, average='macro')*100\n",
    "recall_test = recall_score(y_test, y_pred, average='macro')*100\n",
    "f1_test = f1_score(y_test, y_pred, average='macro')*100\n",
    "\n",
    "print(\"Accuracy (Test): {:.4f}\".format(accuracy_test))\n",
    "print(\"Precision (Test): {:.4f}\".format(precision_test))\n",
    "print(\"Recall (Test): {:.4f}\".format(recall_test))\n",
    "print(\"F1 score (Test): {:.4f}\".format(f1_test))"
   ]
  },
  {
   "cell_type": "code",
   "execution_count": 23,
   "id": "9a9fc9f4",
   "metadata": {
    "execution": {
     "iopub.execute_input": "2024-12-06T19:48:50.951391Z",
     "iopub.status.busy": "2024-12-06T19:48:50.951145Z",
     "iopub.status.idle": "2024-12-06T19:48:58.937426Z",
     "shell.execute_reply": "2024-12-06T19:48:58.936427Z"
    },
    "papermill": {
     "duration": 8.022627,
     "end_time": "2024-12-06T19:48:58.940102",
     "exception": false,
     "start_time": "2024-12-06T19:48:50.917475",
     "status": "completed"
    },
    "tags": []
   },
   "outputs": [],
   "source": [
    "# make predictions on the train data\n",
    "y_pred = stacking_clf.predict(X_train)"
   ]
  },
  {
   "cell_type": "code",
   "execution_count": 24,
   "id": "f843f3d5",
   "metadata": {
    "execution": {
     "iopub.execute_input": "2024-12-06T19:48:59.017217Z",
     "iopub.status.busy": "2024-12-06T19:48:59.016404Z",
     "iopub.status.idle": "2024-12-06T19:48:59.321173Z",
     "shell.execute_reply": "2024-12-06T19:48:59.320219Z"
    },
    "papermill": {
     "duration": 0.341348,
     "end_time": "2024-12-06T19:48:59.322948",
     "exception": false,
     "start_time": "2024-12-06T19:48:58.981600",
     "status": "completed"
    },
    "tags": []
   },
   "outputs": [
    {
     "name": "stdout",
     "output_type": "stream",
     "text": [
      "Confusion matrix, without normalization\n"
     ]
    },
    {
     "data": {
      "image/png": "[encoded data removed]",
      "text/plain": [
       "<Figure size 500x500 with 2 Axes>"
      ]
     },
     "metadata": {},
     "output_type": "display_data"
    }
   ],
   "source": [
    "def plot_confusion_matrix(cm, classes,\n",
    "                          normalize=False,\n",
    "                          title='',\n",
    "                          cmap=plt.cm.Greens):\n",
    "    \"\"\"\n",
    "    This function prints and plots the confusion matrix.\n",
    "    Normalization can be applied by setting `normalize=True`.\n",
    "    \"\"\"\n",
    "    if normalize:\n",
    "        cm = cm.astype('float') / cm.sum(axis=1)[:, np.newaxis]\n",
    "        print(\"Normalized confusion matrix\")\n",
    "    else:\n",
    "        print('Confusion matrix, without normalization')\n",
    "\n",
    "    plt.imshow(cm, interpolation='nearest', cmap=cmap)\n",
    "    plt.title(title)\n",
    "    plt.colorbar()\n",
    "    tick_marks = np.arange(len(classes))\n",
    "    plt.xticks(tick_marks, classes, rotation=45,fontweight='bold')\n",
    "    plt.yticks(tick_marks, classes, fontweight='bold')\n",
    "\n",
    "    for i in range(cm.shape[0]):\n",
    "        for j in range(cm.shape[1]):\n",
    "            plt.text(j, i, format(cm[i, j], 'd'),\n",
    "                    ha=\"center\", va=\"center\", fontweight='bold',\n",
    "                    color=\"white\" if cm[i, j] > cm.max() / 2. else \"black\")\n",
    "\n",
    "    plt.tight_layout()\n",
    "    plt.ylabel('True label',fontweight='bold')\n",
    "    plt.xlabel('Predicted label',fontweight='bold')\n",
    "\n",
    "# Compute confusion matrix\n",
    "cnf_matrix = confusion_matrix(y_train, y_pred)\n",
    "np.set_printoptions(precision=2)\n",
    "\n",
    "# Plot non-normalized confusion matrix\n",
    "plt.figure(figsize=(5,5))\n",
    "plot_confusion_matrix(cnf_matrix, classes=['EB','H','LB']\n",
    "                      )\n",
    "plt.show()"
   ]
  },
  {
   "cell_type": "code",
   "execution_count": 25,
   "id": "fea16fa8",
   "metadata": {
    "execution": {
     "iopub.execute_input": "2024-12-06T19:48:59.393666Z",
     "iopub.status.busy": "2024-12-06T19:48:59.393307Z",
     "iopub.status.idle": "2024-12-06T19:48:59.405442Z",
     "shell.execute_reply": "2024-12-06T19:48:59.404633Z"
    },
    "papermill": {
     "duration": 0.049648,
     "end_time": "2024-12-06T19:48:59.407138",
     "exception": false,
     "start_time": "2024-12-06T19:48:59.357490",
     "status": "completed"
    },
    "tags": []
   },
   "outputs": [
    {
     "name": "stdout",
     "output_type": "stream",
     "text": [
      "Accuracy (Train): 99.9773\n",
      "Precision (Train): 99.9773\n",
      "Recall (Train): 99.9773\n",
      "F1 score (Train): 99.9773\n"
     ]
    }
   ],
   "source": [
    "accuracy_train = accuracy_score(y_train, y_pred)*100\n",
    "precision_train = precision_score(y_train, y_pred, average='macro')*100\n",
    "recall_train = recall_score(y_train, y_pred, average='macro')*100\n",
    "f1_train = f1_score(y_train, y_pred, average='macro')*100\n",
    "\n",
    "print(\"Accuracy (Train): {:.4f}\".format(accuracy_train))\n",
    "print(\"Precision (Train): {:.4f}\".format(precision_train))\n",
    "print(\"Recall (Train): {:.4f}\".format(recall_train))\n",
    "print(\"F1 score (Train): {:.4f}\".format(f1_train))"
   ]
  },
  {
   "cell_type": "code",
   "execution_count": 26,
   "id": "5cfb9553",
   "metadata": {
    "execution": {
     "iopub.execute_input": "2024-12-06T19:48:59.476941Z",
     "iopub.status.busy": "2024-12-06T19:48:59.476623Z",
     "iopub.status.idle": "2024-12-06T19:48:59.484582Z",
     "shell.execute_reply": "2024-12-06T19:48:59.483766Z"
    },
    "papermill": {
     "duration": 0.044779,
     "end_time": "2024-12-06T19:48:59.486178",
     "exception": false,
     "start_time": "2024-12-06T19:48:59.441399",
     "status": "completed"
    },
    "tags": []
   },
   "outputs": [],
   "source": [
    "model_name='EfficientNetB4-GB'\n",
    "all_model.loc[len(all_model)] = [model_name, accuracy_train, precision_train, recall_train, f1_train, accuracy_test, precision_test, recall_test, f1_test, training_time, testing_time, memory_usage]"
   ]
  },
  {
   "cell_type": "code",
   "execution_count": 27,
   "id": "e5d55c9f",
   "metadata": {
    "execution": {
     "iopub.execute_input": "2024-12-06T19:48:59.555759Z",
     "iopub.status.busy": "2024-12-06T19:48:59.555221Z",
     "iopub.status.idle": "2024-12-06T19:48:59.567905Z",
     "shell.execute_reply": "2024-12-06T19:48:59.567049Z"
    },
    "papermill": {
     "duration": 0.049179,
     "end_time": "2024-12-06T19:48:59.569497",
     "exception": false,
     "start_time": "2024-12-06T19:48:59.520318",
     "status": "completed"
    },
    "tags": []
   },
   "outputs": [
    {
     "data": {
      "text/html": [
       "<div>\n",
       "<style scoped>\n",
       "    .dataframe tbody tr th:only-of-type {\n",
       "        vertical-align: middle;\n",
       "    }\n",
       "\n",
       "    .dataframe tbody tr th {\n",
       "        vertical-align: top;\n",
       "    }\n",
       "\n",
       "    .dataframe thead th {\n",
       "        text-align: right;\n",
       "    }\n",
       "</style>\n",
       "<table border=\"1\" class=\"dataframe\">\n",
       "  <thead>\n",
       "    <tr style=\"text-align: right;\">\n",
       "      <th></th>\n",
       "      <th>Model</th>\n",
       "      <th>Accuracy (Train)</th>\n",
       "      <th>Precision (Train)</th>\n",
       "      <th>Recall (Train)</th>\n",
       "      <th>F1 Score (Train)</th>\n",
       "      <th>Accuracy (Test)</th>\n",
       "      <th>Precision (Test)</th>\n",
       "      <th>Recall (Test)</th>\n",
       "      <th>F1 Score (Test)</th>\n",
       "      <th>Training Time (s)</th>\n",
       "      <th>Testing Time (s)</th>\n",
       "      <th>Memory (MB)</th>\n",
       "    </tr>\n",
       "  </thead>\n",
       "  <tbody>\n",
       "    <tr>\n",
       "      <th>0</th>\n",
       "      <td>EfficientNetB4-GB</td>\n",
       "      <td>99.977262</td>\n",
       "      <td>99.977278</td>\n",
       "      <td>99.977262</td>\n",
       "      <td>99.977262</td>\n",
       "      <td>97.736626</td>\n",
       "      <td>97.770724</td>\n",
       "      <td>97.736626</td>\n",
       "      <td>97.734257</td>\n",
       "      <td>104.63617</td>\n",
       "      <td>0.865254</td>\n",
       "      <td>3683.546875</td>\n",
       "    </tr>\n",
       "  </tbody>\n",
       "</table>\n",
       "</div>"
      ],
      "text/plain": [
       "               Model  Accuracy (Train)  Precision (Train)  Recall (Train)  \\\n",
       "0  EfficientNetB4-GB         99.977262          99.977278       99.977262   \n",
       "\n",
       "   F1 Score (Train)  Accuracy (Test)  Precision (Test)  Recall (Test)  \\\n",
       "0         99.977262        97.736626         97.770724      97.736626   \n",
       "\n",
       "   F1 Score (Test)  Training Time (s)  Testing Time (s)  Memory (MB)  \n",
       "0        97.734257          104.63617          0.865254  3683.546875  "
      ]
     },
     "execution_count": 27,
     "metadata": {},
     "output_type": "execute_result"
    }
   ],
   "source": [
    "all_model"
   ]
  }
 ],
 "metadata": {
  "kaggle": {
   "accelerator": "gpu",
   "dataSources": [
    {
     "datasetId": 1562973,
     "sourceId": 2574068,
     "sourceType": "datasetVersion"
    },
    {
     "datasetId": 6161628,
     "sourceId": 10008956,
     "sourceType": "datasetVersion"
    }
   ],
   "dockerImageVersionId": 30528,
   "isGpuEnabled": true,
   "isInternetEnabled": true,
   "language": "python",
   "sourceType": "notebook"
  },
  "kernelspec": {
   "display_name": "Python 3",
   "language": "python",
   "name": "python3"
  },
  "language_info": {
   "codemirror_mode": {
    "name": "ipython",
    "version": 3
   },
   "file_extension": ".py",
   "mimetype": "text/x-python",
   "name": "python",
   "nbconvert_exporter": "python",
   "pygments_lexer": "ipython3",
   "version": "3.10.12"
  },
  "papermill": {
   "default_parameters": {},
   "duration": 242.700985,
   "end_time": "2024-12-06T19:49:03.380539",
   "environment_variables": {},
   "exception": null,
   "input_path": "__notebook__.ipynb",
   "output_path": "__notebook__.ipynb",
   "parameters": {},
   "start_time": "2024-12-06T19:45:00.679554",
   "version": "2.4.0"
  }
 },
 "nbformat": 4,
 "nbformat_minor": 5
}
