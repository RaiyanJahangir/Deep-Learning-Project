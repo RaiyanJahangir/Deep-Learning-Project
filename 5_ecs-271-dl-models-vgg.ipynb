{
 "cells": [
  {
   "cell_type": "code",
   "execution_count": 1,
   "id": "7cb472a2",
   "metadata": {
    "_cell_guid": "b1076dfc-b9ad-4769-8c92-a6c4dae69d19",
    "_uuid": "8f2839f25d086af736a60e9eeb907d3b93b6e0e5",
    "collapsed": true,
    "execution": {
     "iopub.execute_input": "2024-11-27T06:11:15.533257Z",
     "iopub.status.busy": "2024-11-27T06:11:15.532320Z",
     "iopub.status.idle": "2024-11-27T06:11:15.541574Z",
     "shell.execute_reply": "2024-11-27T06:11:15.540921Z"
    },
    "jupyter": {
     "outputs_hidden": true
    },
    "papermill": {
     "duration": 0.018842,
     "end_time": "2024-11-27T06:11:15.543301",
     "exception": false,
     "start_time": "2024-11-27T06:11:15.524459",
     "status": "completed"
    },
    "tags": []
   },
   "outputs": [],
   "source": [
    "# This Python 3 environment comes with many helpful analytics libraries installed\n",
    "# It is defined by the kaggle/python Docker image: https://github.com/kaggle/docker-python\n",
    "# For example, here's several helpful packages to load\n",
    "\n",
    "import numpy as np # linear algebra\n",
    "import pandas as pd # data processing, CSV file I/O (e.g. pd.read_csv)\n",
    "\n",
    "# Input data files are available in the read-only \"../input/\" directory\n",
    "# For example, running this (by clicking run or pressing Shift+Enter) will list all files under the input directory\n",
    "\n",
    "# import os\n",
    "# for dirname, _, filenames in os.walk('/kaggle/input'):\n",
    "#     for filename in filenames:\n",
    "#         print(os.path.join(dirname, filename))\n",
    "\n",
    "# You can write up to 20GB to the current directory (/kaggle/working/) that gets preserved as output when you create a version using \"Save & Run All\" \n",
    "# You can also write temporary files to /kaggle/temp/, but they won't be saved outside of the current session"
   ]
  },
  {
   "cell_type": "code",
   "execution_count": 2,
   "id": "0ba236aa",
   "metadata": {
    "execution": {
     "iopub.execute_input": "2024-11-27T06:11:15.555947Z",
     "iopub.status.busy": "2024-11-27T06:11:15.555620Z",
     "iopub.status.idle": "2024-11-27T06:11:24.686034Z",
     "shell.execute_reply": "2024-11-27T06:11:24.685234Z"
    },
    "papermill": {
     "duration": 9.139043,
     "end_time": "2024-11-27T06:11:24.688190",
     "exception": false,
     "start_time": "2024-11-27T06:11:15.549147",
     "status": "completed"
    },
    "tags": []
   },
   "outputs": [
    {
     "name": "stderr",
     "output_type": "stream",
     "text": [
      "/opt/conda/lib/python3.10/site-packages/scipy/__init__.py:146: UserWarning: A NumPy version >=1.16.5 and <1.23.0 is required for this version of SciPy (detected version 1.23.5\n",
      "  warnings.warn(f\"A NumPy version >={np_minversion} and <{np_maxversion}\"\n",
      "/opt/conda/lib/python3.10/site-packages/tensorflow_io/python/ops/__init__.py:98: UserWarning: unable to load libtensorflow_io_plugins.so: unable to open file: libtensorflow_io_plugins.so, from paths: ['/opt/conda/lib/python3.10/site-packages/tensorflow_io/python/ops/libtensorflow_io_plugins.so']\n",
      "caused by: ['/opt/conda/lib/python3.10/site-packages/tensorflow_io/python/ops/libtensorflow_io_plugins.so: undefined symbol: _ZN3tsl6StatusC1EN10tensorflow5error4CodeESt17basic_string_viewIcSt11char_traitsIcEENS_14SourceLocationE']\n",
      "  warnings.warn(f\"unable to load libtensorflow_io_plugins.so: {e}\")\n",
      "/opt/conda/lib/python3.10/site-packages/tensorflow_io/python/ops/__init__.py:104: UserWarning: file system plugins are not loaded: unable to open file: libtensorflow_io.so, from paths: ['/opt/conda/lib/python3.10/site-packages/tensorflow_io/python/ops/libtensorflow_io.so']\n",
      "caused by: ['/opt/conda/lib/python3.10/site-packages/tensorflow_io/python/ops/libtensorflow_io.so: undefined symbol: _ZTVN10tensorflow13GcsFileSystemE']\n",
      "  warnings.warn(f\"file system plugins are not loaded: {e}\")\n"
     ]
    }
   ],
   "source": [
    "import matplotlib.pyplot as plt\n",
    "import numpy as np\n",
    "import pandas as pd\n",
    "import seaborn as sns\n",
    "import cv2\n",
    "import tensorflow as tf\n",
    "from tensorflow.keras.preprocessing.image import ImageDataGenerator\n",
    "from tqdm import tqdm\n",
    "import os\n",
    "from sklearn.utils import shuffle\n",
    "from sklearn.model_selection import train_test_split\n",
    "from tensorflow.keras.applications import EfficientNetB0, DenseNet201\n",
    "from tensorflow.keras.callbacks import EarlyStopping, ReduceLROnPlateau, TensorBoard, ModelCheckpoint\n",
    "from sklearn.metrics import classification_report,confusion_matrix\n",
    "import ipywidgets as widgets\n",
    "import io\n",
    "from PIL import Image\n",
    "from IPython.display import display,clear_output\n",
    "from warnings import filterwarnings\n",
    "from keras.models import Sequential\n",
    "from keras.layers import Dense, Flatten, Dropout\n",
    "import time\n",
    "import psutil"
   ]
  },
  {
   "cell_type": "code",
   "execution_count": 3,
   "id": "09d34eaf",
   "metadata": {
    "execution": {
     "iopub.execute_input": "2024-11-27T06:11:24.702007Z",
     "iopub.status.busy": "2024-11-27T06:11:24.701399Z",
     "iopub.status.idle": "2024-11-27T06:11:24.705620Z",
     "shell.execute_reply": "2024-11-27T06:11:24.704875Z"
    },
    "papermill": {
     "duration": 0.012359,
     "end_time": "2024-11-27T06:11:24.707142",
     "exception": false,
     "start_time": "2024-11-27T06:11:24.694783",
     "status": "completed"
    },
    "tags": []
   },
   "outputs": [],
   "source": [
    "labels = ['Early_Blight','Healthy','Late_Blight']"
   ]
  },
  {
   "cell_type": "code",
   "execution_count": 4,
   "id": "82c959a0",
   "metadata": {
    "execution": {
     "iopub.execute_input": "2024-11-27T06:11:24.719498Z",
     "iopub.status.busy": "2024-11-27T06:11:24.719247Z",
     "iopub.status.idle": "2024-11-27T06:12:06.473072Z",
     "shell.execute_reply": "2024-11-27T06:12:06.472332Z"
    },
    "papermill": {
     "duration": 41.762229,
     "end_time": "2024-11-27T06:12:06.474993",
     "exception": false,
     "start_time": "2024-11-27T06:11:24.712764",
     "status": "completed"
    },
    "tags": []
   },
   "outputs": [
    {
     "name": "stderr",
     "output_type": "stream",
     "text": [
      "100%|██████████| 1303/1303 [00:12<00:00, 106.92it/s]\n",
      "100%|██████████| 1303/1303 [00:09<00:00, 144.41it/s]\n",
      "100%|██████████| 1303/1303 [00:13<00:00, 96.45it/s] \n",
      "100%|██████████| 162/162 [00:01<00:00, 143.59it/s]\n",
      "100%|██████████| 162/162 [00:01<00:00, 154.10it/s]\n",
      "100%|██████████| 162/162 [00:01<00:00, 142.53it/s]\n",
      "100%|██████████| 163/163 [00:01<00:00, 139.99it/s]\n",
      "100%|██████████| 163/163 [00:01<00:00, 147.57it/s]\n",
      "100%|██████████| 163/163 [00:01<00:00, 148.67it/s]\n"
     ]
    }
   ],
   "source": [
    "X_train = []\n",
    "y_train = []\n",
    "X_test = []\n",
    "y_test = []\n",
    "image_size = 224\n",
    "for i in labels:\n",
    "    folderPath = os.path.join('/kaggle/input/balanced-data/balanced_data','Training',i)\n",
    "    for j in tqdm(os.listdir(folderPath)):\n",
    "        img = cv2.imread(os.path.join(folderPath,j))\n",
    "        img = cv2.resize(img,(image_size, image_size))\n",
    "        X_train.append(img)\n",
    "        y_train.append(i)\n",
    "        \n",
    "for i in labels:\n",
    "    folderPath = os.path.join('/kaggle/input/balanced-data/balanced_data','Testing',i)\n",
    "    for j in tqdm(os.listdir(folderPath)):\n",
    "        img = cv2.imread(os.path.join(folderPath,j))\n",
    "        img = cv2.resize(img,(image_size,image_size))\n",
    "        X_test.append(img)\n",
    "        y_test.append(i)\n",
    "        \n",
    "for i in labels:\n",
    "    folderPath = os.path.join('/kaggle/input/balanced-data/balanced_data','Validation',i)\n",
    "    for j in tqdm(os.listdir(folderPath)):\n",
    "        img = cv2.imread(os.path.join(folderPath,j))\n",
    "        img = cv2.resize(img,(image_size,image_size))\n",
    "        X_train.append(img)\n",
    "        y_train.append(i)\n",
    "        \n",
    "X_train = np.array(X_train)\n",
    "y_train = np.array(y_train)\n",
    "X_test = np.array(X_test)\n",
    "y_test = np.array(y_test)"
   ]
  },
  {
   "cell_type": "code",
   "execution_count": 5,
   "id": "0f4adaba",
   "metadata": {
    "execution": {
     "iopub.execute_input": "2024-11-27T06:12:06.520403Z",
     "iopub.status.busy": "2024-11-27T06:12:06.519714Z",
     "iopub.status.idle": "2024-11-27T06:12:06.524535Z",
     "shell.execute_reply": "2024-11-27T06:12:06.523703Z"
    },
    "papermill": {
     "duration": 0.029487,
     "end_time": "2024-11-27T06:12:06.526190",
     "exception": false,
     "start_time": "2024-11-27T06:12:06.496703",
     "status": "completed"
    },
    "tags": []
   },
   "outputs": [
    {
     "name": "stdout",
     "output_type": "stream",
     "text": [
      "(4398, 224, 224, 3)\n",
      "(4398,)\n",
      "(486, 224, 224, 3)\n",
      "(486,)\n"
     ]
    }
   ],
   "source": [
    "print(X_train.shape)\n",
    "print(y_train.shape)\n",
    "print(X_test.shape)\n",
    "print(y_test.shape)"
   ]
  },
  {
   "cell_type": "code",
   "execution_count": 6,
   "id": "6fb40a04",
   "metadata": {
    "execution": {
     "iopub.execute_input": "2024-11-27T06:12:06.570636Z",
     "iopub.status.busy": "2024-11-27T06:12:06.569934Z",
     "iopub.status.idle": "2024-11-27T06:12:06.576506Z",
     "shell.execute_reply": "2024-11-27T06:12:06.575697Z"
    },
    "papermill": {
     "duration": 0.030597,
     "end_time": "2024-11-27T06:12:06.578086",
     "exception": false,
     "start_time": "2024-11-27T06:12:06.547489",
     "status": "completed"
    },
    "tags": []
   },
   "outputs": [
    {
     "name": "stdout",
     "output_type": "stream",
     "text": [
      "['Early_Blight' 'Healthy' 'Late_Blight']\n",
      "['Early_Blight' 'Healthy' 'Late_Blight']\n"
     ]
    }
   ],
   "source": [
    "print(np.unique(y_test))\n",
    "print(np.unique(y_train))"
   ]
  },
  {
   "cell_type": "code",
   "execution_count": 7,
   "id": "20ce166f",
   "metadata": {
    "execution": {
     "iopub.execute_input": "2024-11-27T06:12:06.623707Z",
     "iopub.status.busy": "2024-11-27T06:12:06.622936Z",
     "iopub.status.idle": "2024-11-27T06:12:06.630674Z",
     "shell.execute_reply": "2024-11-27T06:12:06.629738Z"
    },
    "papermill": {
     "duration": 0.032593,
     "end_time": "2024-11-27T06:12:06.632619",
     "exception": false,
     "start_time": "2024-11-27T06:12:06.600026",
     "status": "completed"
    },
    "tags": []
   },
   "outputs": [],
   "source": [
    "y_train_new = []\n",
    "for i in y_train:\n",
    "    y_train_new.append(labels.index(i))\n",
    "y_train = y_train_new\n",
    "y_train = tf.keras.utils.to_categorical(y_train)\n",
    "\n",
    "\n",
    "y_test_new = []\n",
    "for i in y_test:\n",
    "    y_test_new.append(labels.index(i))\n",
    "y_test = y_test_new\n",
    "y_test = tf.keras.utils.to_categorical(y_test)"
   ]
  },
  {
   "cell_type": "code",
   "execution_count": 8,
   "id": "fcf1a841",
   "metadata": {
    "execution": {
     "iopub.execute_input": "2024-11-27T06:12:06.678247Z",
     "iopub.status.busy": "2024-11-27T06:12:06.677916Z",
     "iopub.status.idle": "2024-11-27T06:12:06.688757Z",
     "shell.execute_reply": "2024-11-27T06:12:06.687909Z"
    },
    "papermill": {
     "duration": 0.035438,
     "end_time": "2024-11-27T06:12:06.690518",
     "exception": false,
     "start_time": "2024-11-27T06:12:06.655080",
     "status": "completed"
    },
    "tags": []
   },
   "outputs": [],
   "source": [
    "all_model = pd.DataFrame(columns=['Model', 'Accuracy (Train)', 'Precision (Train)', 'Recall (Train)', 'F1 Score (Train)', 'Accuracy (Test)', 'Precision (Test)', 'Recall (Test)', 'F1 Score (Test)', 'Training Time (s)', 'Testing Time (s)','Memory (MB)'])"
   ]
  },
  {
   "cell_type": "code",
   "execution_count": 9,
   "id": "5d4e20e8",
   "metadata": {
    "execution": {
     "iopub.execute_input": "2024-11-27T06:12:06.735433Z",
     "iopub.status.busy": "2024-11-27T06:12:06.735127Z",
     "iopub.status.idle": "2024-11-27T06:12:06.748534Z",
     "shell.execute_reply": "2024-11-27T06:12:06.747717Z"
    },
    "papermill": {
     "duration": 0.037768,
     "end_time": "2024-11-27T06:12:06.750159",
     "exception": false,
     "start_time": "2024-11-27T06:12:06.712391",
     "status": "completed"
    },
    "tags": []
   },
   "outputs": [
    {
     "data": {
      "text/html": [
       "<div>\n",
       "<style scoped>\n",
       "    .dataframe tbody tr th:only-of-type {\n",
       "        vertical-align: middle;\n",
       "    }\n",
       "\n",
       "    .dataframe tbody tr th {\n",
       "        vertical-align: top;\n",
       "    }\n",
       "\n",
       "    .dataframe thead th {\n",
       "        text-align: right;\n",
       "    }\n",
       "</style>\n",
       "<table border=\"1\" class=\"dataframe\">\n",
       "  <thead>\n",
       "    <tr style=\"text-align: right;\">\n",
       "      <th></th>\n",
       "      <th>Model</th>\n",
       "      <th>Accuracy (Train)</th>\n",
       "      <th>Precision (Train)</th>\n",
       "      <th>Recall (Train)</th>\n",
       "      <th>F1 Score (Train)</th>\n",
       "      <th>Accuracy (Test)</th>\n",
       "      <th>Precision (Test)</th>\n",
       "      <th>Recall (Test)</th>\n",
       "      <th>F1 Score (Test)</th>\n",
       "      <th>Training Time (s)</th>\n",
       "      <th>Testing Time (s)</th>\n",
       "      <th>Memory (MB)</th>\n",
       "    </tr>\n",
       "  </thead>\n",
       "  <tbody>\n",
       "  </tbody>\n",
       "</table>\n",
       "</div>"
      ],
      "text/plain": [
       "Empty DataFrame\n",
       "Columns: [Model, Accuracy (Train), Precision (Train), Recall (Train), F1 Score (Train), Accuracy (Test), Precision (Test), Recall (Test), F1 Score (Test), Training Time (s), Testing Time (s), Memory (MB)]\n",
       "Index: []"
      ]
     },
     "execution_count": 9,
     "metadata": {},
     "output_type": "execute_result"
    }
   ],
   "source": [
    "all_model"
   ]
  },
  {
   "cell_type": "markdown",
   "id": "7f58ff82",
   "metadata": {
    "papermill": {
     "duration": 0.021322,
     "end_time": "2024-11-27T06:12:06.793339",
     "exception": false,
     "start_time": "2024-11-27T06:12:06.772017",
     "status": "completed"
    },
    "tags": []
   },
   "source": [
    "**VGG16**"
   ]
  },
  {
   "cell_type": "code",
   "execution_count": 10,
   "id": "b6740465",
   "metadata": {
    "execution": {
     "iopub.execute_input": "2024-11-27T06:12:06.838598Z",
     "iopub.status.busy": "2024-11-27T06:12:06.837743Z",
     "iopub.status.idle": "2024-11-27T06:12:14.006200Z",
     "shell.execute_reply": "2024-11-27T06:12:14.005153Z"
    },
    "papermill": {
     "duration": 7.199904,
     "end_time": "2024-11-27T06:12:14.015132",
     "exception": false,
     "start_time": "2024-11-27T06:12:06.815228",
     "status": "completed"
    },
    "tags": []
   },
   "outputs": [
    {
     "name": "stdout",
     "output_type": "stream",
     "text": [
      "Downloading data from https://storage.googleapis.com/tensorflow/keras-applications/vgg16/vgg16_weights_tf_dim_ordering_tf_kernels.h5\n",
      "553467096/553467096 [==============================] - 2s 0us/step\n",
      "Model: \"model\"\n",
      "_________________________________________________________________\n",
      " Layer (type)                Output Shape              Param #   \n",
      "=================================================================\n",
      " input_1 (InputLayer)        [(None, 224, 224, 3)]     0         \n",
      "                                                                 \n",
      " block1_conv1 (Conv2D)       (None, 224, 224, 64)      1792      \n",
      "                                                                 \n",
      " block1_conv2 (Conv2D)       (None, 224, 224, 64)      36928     \n",
      "                                                                 \n",
      " block1_pool (MaxPooling2D)  (None, 112, 112, 64)      0         \n",
      "                                                                 \n",
      " block2_conv1 (Conv2D)       (None, 112, 112, 128)     73856     \n",
      "                                                                 \n",
      " block2_conv2 (Conv2D)       (None, 112, 112, 128)     147584    \n",
      "                                                                 \n",
      " block2_pool (MaxPooling2D)  (None, 56, 56, 128)       0         \n",
      "                                                                 \n",
      " block3_conv1 (Conv2D)       (None, 56, 56, 256)       295168    \n",
      "                                                                 \n",
      " block3_conv2 (Conv2D)       (None, 56, 56, 256)       590080    \n",
      "                                                                 \n",
      " block3_conv3 (Conv2D)       (None, 56, 56, 256)       590080    \n",
      "                                                                 \n",
      " block3_pool (MaxPooling2D)  (None, 28, 28, 256)       0         \n",
      "                                                                 \n",
      " block4_conv1 (Conv2D)       (None, 28, 28, 512)       1180160   \n",
      "                                                                 \n",
      " block4_conv2 (Conv2D)       (None, 28, 28, 512)       2359808   \n",
      "                                                                 \n",
      " block4_conv3 (Conv2D)       (None, 28, 28, 512)       2359808   \n",
      "                                                                 \n",
      " block4_pool (MaxPooling2D)  (None, 14, 14, 512)       0         \n",
      "                                                                 \n",
      " block5_conv1 (Conv2D)       (None, 14, 14, 512)       2359808   \n",
      "                                                                 \n",
      " block5_conv2 (Conv2D)       (None, 14, 14, 512)       2359808   \n",
      "                                                                 \n",
      " block5_conv3 (Conv2D)       (None, 14, 14, 512)       2359808   \n",
      "                                                                 \n",
      " block5_pool (MaxPooling2D)  (None, 7, 7, 512)         0         \n",
      "                                                                 \n",
      " flatten (Flatten)           (None, 25088)             0         \n",
      "                                                                 \n",
      " fc1 (Dense)                 (None, 4096)              102764544 \n",
      "                                                                 \n",
      " fc2 (Dense)                 (None, 4096)              16781312  \n",
      "                                                                 \n",
      " dense (Dense)               (None, 3)                 12291     \n",
      "                                                                 \n",
      "=================================================================\n",
      "Total params: 134,272,835\n",
      "Trainable params: 134,272,835\n",
      "Non-trainable params: 0\n",
      "_________________________________________________________________\n"
     ]
    }
   ],
   "source": [
    "# Define the model\n",
    "base_model = tf.keras.applications.VGG16(\n",
    "    include_top=True,  # Include the fully connected layers (classifier)\n",
    "    weights=\"imagenet\",  # Use pretrained weights from ImageNet\n",
    "    input_shape=(image_size, image_size, 3),  # Input size of the images\n",
    "    classifier_activation=\"softmax\",  # Activation for the output layer\n",
    ")\n",
    "\n",
    "# Modify the final dense layer for 3-class classification\n",
    "model = tf.keras.models.Model(\n",
    "    inputs=base_model.input,  # Use the input of the VGG16 model\n",
    "    outputs=tf.keras.layers.Dense(3, activation='softmax')(base_model.layers[-2].output)  # Replace the last dense layer\n",
    ")\n",
    "\n",
    "# Compile the model\n",
    "model.compile(\n",
    "    loss=\"categorical_crossentropy\",  # Loss function for multi-class classification\n",
    "    optimizer=\"Adam\",  # Optimization algorithm\n",
    "    metrics=[\"accuracy\"],  # Track accuracy during training\n",
    ")\n",
    "\n",
    "# Summary of the model\n",
    "model.summary()\n"
   ]
  },
  {
   "cell_type": "code",
   "execution_count": 11,
   "id": "909fcd1c",
   "metadata": {
    "execution": {
     "iopub.execute_input": "2024-11-27T06:12:14.070096Z",
     "iopub.status.busy": "2024-11-27T06:12:14.069196Z",
     "iopub.status.idle": "2024-11-27T06:17:37.020807Z",
     "shell.execute_reply": "2024-11-27T06:17:37.019980Z"
    },
    "papermill": {
     "duration": 322.980567,
     "end_time": "2024-11-27T06:17:37.022494",
     "exception": false,
     "start_time": "2024-11-27T06:12:14.041927",
     "status": "completed"
    },
    "tags": []
   },
   "outputs": [
    {
     "name": "stdout",
     "output_type": "stream",
     "text": [
      "Epoch 1/30\n",
      "110/110 [==============================] - 46s 293ms/step - loss: 53.9472 - accuracy: 0.3761 - val_loss: 1.0791 - val_accuracy: 0.4307\n",
      "Epoch 2/30\n",
      "110/110 [==============================] - 25s 226ms/step - loss: 0.9335 - accuracy: 0.5529 - val_loss: 1.1261 - val_accuracy: 0.3523\n",
      "Epoch 3/30\n",
      "110/110 [==============================] - 26s 232ms/step - loss: 0.8317 - accuracy: 0.6364 - val_loss: 0.7227 - val_accuracy: 0.7011\n",
      "Epoch 4/30\n",
      "110/110 [==============================] - 25s 226ms/step - loss: 0.7652 - accuracy: 0.6734 - val_loss: 0.8069 - val_accuracy: 0.6216\n",
      "Epoch 5/30\n",
      "110/110 [==============================] - 25s 226ms/step - loss: 0.7110 - accuracy: 0.6964 - val_loss: 0.9087 - val_accuracy: 0.5750\n",
      "Epoch 6/30\n",
      "110/110 [==============================] - 26s 232ms/step - loss: 0.6621 - accuracy: 0.7177 - val_loss: 0.6832 - val_accuracy: 0.7352\n",
      "Epoch 7/30\n",
      "110/110 [==============================] - 26s 232ms/step - loss: 0.6123 - accuracy: 0.7348 - val_loss: 0.5977 - val_accuracy: 0.7818\n",
      "Epoch 8/30\n",
      "110/110 [==============================] - 25s 226ms/step - loss: 0.6826 - accuracy: 0.7132 - val_loss: 0.7527 - val_accuracy: 0.7091\n",
      "Epoch 9/30\n",
      "110/110 [==============================] - 25s 226ms/step - loss: 1363.4962 - accuracy: 0.5949 - val_loss: 436.0811 - val_accuracy: 0.1852\n",
      "Epoch 10/30\n",
      "110/110 [==============================] - 25s 226ms/step - loss: 58429.7812 - accuracy: 0.3496 - val_loss: 5761.4038 - val_accuracy: 0.2489\n",
      "Epoch 11/30\n",
      "110/110 [==============================] - 25s 226ms/step - loss: 31165.3164 - accuracy: 0.3624 - val_loss: 1.2813 - val_accuracy: 0.1852\n",
      "Epoch 12/30\n",
      "110/110 [==============================] - 25s 231ms/step - loss: 3.1999 - accuracy: 0.3715 - val_loss: 1.1421 - val_accuracy: 0.1852\n",
      "Training Time: 322.94 seconds\n",
      "Memory Usage: 5252.92 MB\n"
     ]
    }
   ],
   "source": [
    "import time\n",
    "\n",
    "# Start timer\n",
    "start_time = time.time()\n",
    "\n",
    "# EarlyStopping callback\n",
    "early_stopping = EarlyStopping(\n",
    "    monitor='val_loss',        # Metric to monitor ('val_loss' or 'val_accuracy')\n",
    "    patience=5,                # Number of epochs with no improvement before stopping\n",
    "    restore_best_weights=True  # Restore the best weights after stopping\n",
    ")\n",
    "\n",
    "# Train the model\n",
    "history = model.fit(\n",
    "    X_train,             # Training images\n",
    "    y_train,             # One-hot encoded labels\n",
    "    validation_split=0.2,  # Use 20% of training data for validation\n",
    "    epochs=30,           # Number of epochs\n",
    "    batch_size=32,       # Batch size for training\n",
    "    verbose=1,            # Show detailed logs during training\n",
    "    callbacks=[early_stopping] # Add EarlyStopping callback\n",
    ")\n",
    "\n",
    "# Measure training time\n",
    "training_time = time.time() - start_time\n",
    "print(f\"Training Time: {training_time:.2f} seconds\")\n",
    "\n",
    "# Evaluate memory usage (optional, requires `psutil` library)\n",
    "import psutil\n",
    "memory_usage = psutil.Process().memory_info().rss / 1024 / 1024\n",
    "print(f\"Memory Usage: {memory_usage:.2f} MB\")"
   ]
  },
  {
   "cell_type": "code",
   "execution_count": 12,
   "id": "a10c047f",
   "metadata": {
    "execution": {
     "iopub.execute_input": "2024-11-27T06:17:37.189079Z",
     "iopub.status.busy": "2024-11-27T06:17:37.188759Z",
     "iopub.status.idle": "2024-11-27T06:17:39.106754Z",
     "shell.execute_reply": "2024-11-27T06:17:39.106038Z"
    },
    "papermill": {
     "duration": 2.003764,
     "end_time": "2024-11-27T06:17:39.108737",
     "exception": false,
     "start_time": "2024-11-27T06:17:37.104973",
     "status": "completed"
    },
    "tags": []
   },
   "outputs": [
    {
     "name": "stdout",
     "output_type": "stream",
     "text": [
      "16/16 [==============================] - 2s 101ms/step\n"
     ]
    }
   ],
   "source": [
    "# make predictions on the test data\n",
    "start_time = time.time()\n",
    "y_pred = model.predict(X_test)\n",
    "testing_time = time.time() - start_time"
   ]
  },
  {
   "cell_type": "code",
   "execution_count": 13,
   "id": "b41ec5c2",
   "metadata": {
    "execution": {
     "iopub.execute_input": "2024-11-27T06:17:39.280701Z",
     "iopub.status.busy": "2024-11-27T06:17:39.279836Z",
     "iopub.status.idle": "2024-11-27T06:17:39.609782Z",
     "shell.execute_reply": "2024-11-27T06:17:39.608826Z"
    },
    "papermill": {
     "duration": 0.418448,
     "end_time": "2024-11-27T06:17:39.611493",
     "exception": false,
     "start_time": "2024-11-27T06:17:39.193045",
     "status": "completed"
    },
    "tags": []
   },
   "outputs": [
    {
     "name": "stdout",
     "output_type": "stream",
     "text": [
      "Confusion matrix, without normalization\n"
     ]
    },
    {
     "data": {
      "image/png": "[encoded data removed]",
      "text/plain": [
       "<Figure size 500x500 with 2 Axes>"
      ]
     },
     "metadata": {},
     "output_type": "display_data"
    }
   ],
   "source": [
    "import itertools\n",
    "def plot_confusion_matrix(cm, classes,\n",
    "                          normalize=False,\n",
    "                          title='',\n",
    "                          cmap=plt.cm.Greens):\n",
    "    \"\"\"\n",
    "    This function prints and plots the confusion matrix.\n",
    "    Normalization can be applied by setting `normalize=True`.\n",
    "    \"\"\"\n",
    "    if normalize:\n",
    "        cm = cm.astype('float') / cm.sum(axis=1)[:, np.newaxis]\n",
    "        print(\"Normalized confusion matrix\")\n",
    "    else:\n",
    "        print('Confusion matrix, without normalization')\n",
    "\n",
    "    plt.imshow(cm, interpolation='nearest', cmap=cmap)\n",
    "    plt.title(title)\n",
    "    plt.colorbar()\n",
    "    tick_marks = np.arange(len(classes))\n",
    "    plt.xticks(tick_marks, classes, rotation=45,fontweight='bold')\n",
    "    plt.yticks(tick_marks, classes, fontweight='bold')\n",
    "\n",
    "    for i in range(cm.shape[0]):\n",
    "        for j in range(cm.shape[1]):\n",
    "            plt.text(j, i, format(cm[i, j], 'd'),\n",
    "                    ha=\"center\", va=\"center\", fontweight='bold',\n",
    "                    color=\"white\" if cm[i, j] > cm.max() / 2. else \"black\")\n",
    "\n",
    "    plt.tight_layout()\n",
    "    plt.ylabel('True label',fontweight='bold')\n",
    "    plt.xlabel('Predicted label',fontweight='bold')\n",
    "\n",
    "# Compute confusion matrix\n",
    "cnf_matrix = confusion_matrix(y_test.argmax(axis=1), y_pred.argmax(axis=1))\n",
    "np.set_printoptions(precision=2)\n",
    "\n",
    "# Plot non-normalized confusion matrix\n",
    "plt.figure(figsize=(5,5))\n",
    "plot_confusion_matrix(cnf_matrix, classes=['EB','H','LB']\n",
    "                      )\n",
    "plt.show()"
   ]
  },
  {
   "cell_type": "code",
   "execution_count": 14,
   "id": "5610795d",
   "metadata": {
    "execution": {
     "iopub.execute_input": "2024-11-27T06:17:39.780142Z",
     "iopub.status.busy": "2024-11-27T06:17:39.779778Z",
     "iopub.status.idle": "2024-11-27T06:17:39.784133Z",
     "shell.execute_reply": "2024-11-27T06:17:39.783392Z"
    },
    "papermill": {
     "duration": 0.09073,
     "end_time": "2024-11-27T06:17:39.785764",
     "exception": false,
     "start_time": "2024-11-27T06:17:39.695034",
     "status": "completed"
    },
    "tags": []
   },
   "outputs": [],
   "source": [
    "test_predict_class = np.argmax(y_pred, axis=1)\n",
    "test_true = np.argmax(y_test, axis=1)"
   ]
  },
  {
   "cell_type": "code",
   "execution_count": 15,
   "id": "77f9bbf7",
   "metadata": {
    "execution": {
     "iopub.execute_input": "2024-11-27T06:17:40.006106Z",
     "iopub.status.busy": "2024-11-27T06:17:40.005768Z",
     "iopub.status.idle": "2024-11-27T06:17:40.015517Z",
     "shell.execute_reply": "2024-11-27T06:17:40.014906Z"
    },
    "papermill": {
     "duration": 0.147695,
     "end_time": "2024-11-27T06:17:40.017095",
     "exception": false,
     "start_time": "2024-11-27T06:17:39.869400",
     "status": "completed"
    },
    "tags": []
   },
   "outputs": [],
   "source": [
    "from sklearn.metrics import accuracy_score, precision_score, recall_score, f1_score\n",
    "\n",
    "accuracy_test = format(accuracy_score(test_true, test_predict_class)*100,'.3f')\n",
    "precision_test = format( precision_score(test_true, test_predict_class, average='macro')*100,'.3f')\n",
    "recall_test = format(recall_score(test_true, test_predict_class, average='macro')*100,'.3f')\n",
    "f1_test = format(f1_score(test_true, test_predict_class, average='macro')*100,'.3f')"
   ]
  },
  {
   "cell_type": "code",
   "execution_count": 16,
   "id": "2f2b47c2",
   "metadata": {
    "execution": {
     "iopub.execute_input": "2024-11-27T06:17:40.186416Z",
     "iopub.status.busy": "2024-11-27T06:17:40.186080Z",
     "iopub.status.idle": "2024-11-27T06:17:51.021807Z",
     "shell.execute_reply": "2024-11-27T06:17:51.021082Z"
    },
    "papermill": {
     "duration": 10.92335,
     "end_time": "2024-11-27T06:17:51.023776",
     "exception": false,
     "start_time": "2024-11-27T06:17:40.100426",
     "status": "completed"
    },
    "tags": []
   },
   "outputs": [
    {
     "name": "stdout",
     "output_type": "stream",
     "text": [
      "138/138 [==============================] - 9s 68ms/step\n"
     ]
    }
   ],
   "source": [
    "# make predictions on the train data\n",
    "y_pred = model.predict(X_train)"
   ]
  },
  {
   "cell_type": "code",
   "execution_count": 17,
   "id": "6bbcccc0",
   "metadata": {
    "execution": {
     "iopub.execute_input": "2024-11-27T06:17:51.206968Z",
     "iopub.status.busy": "2024-11-27T06:17:51.206601Z",
     "iopub.status.idle": "2024-11-27T06:17:51.393724Z",
     "shell.execute_reply": "2024-11-27T06:17:51.392653Z"
    },
    "papermill": {
     "duration": 0.284044,
     "end_time": "2024-11-27T06:17:51.397350",
     "exception": false,
     "start_time": "2024-11-27T06:17:51.113306",
     "status": "completed"
    },
    "tags": []
   },
   "outputs": [
    {
     "name": "stdout",
     "output_type": "stream",
     "text": [
      "Confusion matrix, without normalization\n"
     ]
    },
    {
     "data": {
      "image/png": "[encoded data removed]",
      "text/plain": [
       "<Figure size 500x500 with 2 Axes>"
      ]
     },
     "metadata": {},
     "output_type": "display_data"
    }
   ],
   "source": [
    "def plot_confusion_matrix(cm, classes,\n",
    "                          normalize=False,\n",
    "                          title='',\n",
    "                          cmap=plt.cm.Greens):\n",
    "    \"\"\"\n",
    "    This function prints and plots the confusion matrix.\n",
    "    Normalization can be applied by setting `normalize=True`.\n",
    "    \"\"\"\n",
    "    if normalize:\n",
    "        cm = cm.astype('float') / cm.sum(axis=1)[:, np.newaxis]\n",
    "        print(\"Normalized confusion matrix\")\n",
    "    else:\n",
    "        print('Confusion matrix, without normalization')\n",
    "\n",
    "    plt.imshow(cm, interpolation='nearest', cmap=cmap)\n",
    "    plt.title(title)\n",
    "    plt.colorbar()\n",
    "    tick_marks = np.arange(len(classes))\n",
    "    plt.xticks(tick_marks, classes, rotation=45,fontweight='bold')\n",
    "    plt.yticks(tick_marks, classes, fontweight='bold')\n",
    "\n",
    "    for i in range(cm.shape[0]):\n",
    "        for j in range(cm.shape[1]):\n",
    "            plt.text(j, i, format(cm[i, j], 'd'),\n",
    "                    ha=\"center\", va=\"center\", fontweight='bold',\n",
    "                    color=\"white\" if cm[i, j] > cm.max() / 2. else \"black\")\n",
    "\n",
    "    plt.tight_layout()\n",
    "    plt.ylabel('True label',fontweight='bold')\n",
    "    plt.xlabel('Predicted label',fontweight='bold')\n",
    "\n",
    "# Compute confusion matrix\n",
    "cnf_matrix = confusion_matrix(y_train.argmax(axis=1), y_pred.argmax(axis=1))\n",
    "np.set_printoptions(precision=2)\n",
    "\n",
    "# Plot non-normalized confusion matrix\n",
    "plt.figure(figsize=(5,5))\n",
    "plot_confusion_matrix(cnf_matrix, classes=['EB','H','LB']\n",
    "                      )\n",
    "plt.show()"
   ]
  },
  {
   "cell_type": "code",
   "execution_count": 18,
   "id": "14ac3ac8",
   "metadata": {
    "execution": {
     "iopub.execute_input": "2024-11-27T06:17:51.590817Z",
     "iopub.status.busy": "2024-11-27T06:17:51.590162Z",
     "iopub.status.idle": "2024-11-27T06:17:51.594380Z",
     "shell.execute_reply": "2024-11-27T06:17:51.593615Z"
    },
    "papermill": {
     "duration": 0.097836,
     "end_time": "2024-11-27T06:17:51.595988",
     "exception": false,
     "start_time": "2024-11-27T06:17:51.498152",
     "status": "completed"
    },
    "tags": []
   },
   "outputs": [],
   "source": [
    "train_predict_class = np.argmax(y_pred, axis=1)\n",
    "train_true = np.argmax(y_train, axis=1)"
   ]
  },
  {
   "cell_type": "code",
   "execution_count": 19,
   "id": "112dcf62",
   "metadata": {
    "execution": {
     "iopub.execute_input": "2024-11-27T06:17:51.778486Z",
     "iopub.status.busy": "2024-11-27T06:17:51.778164Z",
     "iopub.status.idle": "2024-11-27T06:17:51.790324Z",
     "shell.execute_reply": "2024-11-27T06:17:51.789687Z"
    },
    "papermill": {
     "duration": 0.104958,
     "end_time": "2024-11-27T06:17:51.791962",
     "exception": false,
     "start_time": "2024-11-27T06:17:51.687004",
     "status": "completed"
    },
    "tags": []
   },
   "outputs": [],
   "source": [
    "accuracy_train = format(accuracy_score(train_true, train_predict_class)*100,'.3f')\n",
    "precision_train = format( precision_score(train_true, train_predict_class, average='macro')*100,'.3f')\n",
    "recall_train = format(recall_score(train_true, train_predict_class, average='macro')*100,'.3f')\n",
    "f1_train = format(f1_score(train_true, train_predict_class, average='macro')*100,'.3f')"
   ]
  },
  {
   "cell_type": "code",
   "execution_count": 20,
   "id": "8afebb4a",
   "metadata": {
    "execution": {
     "iopub.execute_input": "2024-11-27T06:17:51.974948Z",
     "iopub.status.busy": "2024-11-27T06:17:51.974307Z",
     "iopub.status.idle": "2024-11-27T06:17:51.981626Z",
     "shell.execute_reply": "2024-11-27T06:17:51.980907Z"
    },
    "papermill": {
     "duration": 0.100006,
     "end_time": "2024-11-27T06:17:51.983271",
     "exception": false,
     "start_time": "2024-11-27T06:17:51.883265",
     "status": "completed"
    },
    "tags": []
   },
   "outputs": [],
   "source": [
    "model_name='VGG16'\n",
    "all_model.loc[len(all_model)] = [model_name, accuracy_train, precision_train, recall_train, f1_train, accuracy_test, precision_test, recall_test, f1_test, training_time, testing_time, memory_usage]"
   ]
  },
  {
   "cell_type": "code",
   "execution_count": 21,
   "id": "1ba74421",
   "metadata": {
    "execution": {
     "iopub.execute_input": "2024-11-27T06:17:52.167023Z",
     "iopub.status.busy": "2024-11-27T06:17:52.166226Z",
     "iopub.status.idle": "2024-11-27T06:17:52.179214Z",
     "shell.execute_reply": "2024-11-27T06:17:52.178360Z"
    },
    "papermill": {
     "duration": 0.107377,
     "end_time": "2024-11-27T06:17:52.180838",
     "exception": false,
     "start_time": "2024-11-27T06:17:52.073461",
     "status": "completed"
    },
    "tags": []
   },
   "outputs": [
    {
     "data": {
      "text/html": [
       "<div>\n",
       "<style scoped>\n",
       "    .dataframe tbody tr th:only-of-type {\n",
       "        vertical-align: middle;\n",
       "    }\n",
       "\n",
       "    .dataframe tbody tr th {\n",
       "        vertical-align: top;\n",
       "    }\n",
       "\n",
       "    .dataframe thead th {\n",
       "        text-align: right;\n",
       "    }\n",
       "</style>\n",
       "<table border=\"1\" class=\"dataframe\">\n",
       "  <thead>\n",
       "    <tr style=\"text-align: right;\">\n",
       "      <th></th>\n",
       "      <th>Model</th>\n",
       "      <th>Accuracy (Train)</th>\n",
       "      <th>Precision (Train)</th>\n",
       "      <th>Recall (Train)</th>\n",
       "      <th>F1 Score (Train)</th>\n",
       "      <th>Accuracy (Test)</th>\n",
       "      <th>Precision (Test)</th>\n",
       "      <th>Recall (Test)</th>\n",
       "      <th>F1 Score (Test)</th>\n",
       "      <th>Training Time (s)</th>\n",
       "      <th>Testing Time (s)</th>\n",
       "      <th>Memory (MB)</th>\n",
       "    </tr>\n",
       "  </thead>\n",
       "  <tbody>\n",
       "    <tr>\n",
       "      <th>0</th>\n",
       "      <td>VGG16</td>\n",
       "      <td>75.261</td>\n",
       "      <td>77.476</td>\n",
       "      <td>75.261</td>\n",
       "      <td>75.343</td>\n",
       "      <td>76.337</td>\n",
       "      <td>79.392</td>\n",
       "      <td>76.337</td>\n",
       "      <td>76.435</td>\n",
       "      <td>322.942508</td>\n",
       "      <td>1.9145</td>\n",
       "      <td>5252.921875</td>\n",
       "    </tr>\n",
       "  </tbody>\n",
       "</table>\n",
       "</div>"
      ],
      "text/plain": [
       "   Model Accuracy (Train) Precision (Train) Recall (Train) F1 Score (Train)  \\\n",
       "0  VGG16           75.261            77.476         75.261           75.343   \n",
       "\n",
       "  Accuracy (Test) Precision (Test) Recall (Test) F1 Score (Test)  \\\n",
       "0          76.337           79.392        76.337          76.435   \n",
       "\n",
       "   Training Time (s)  Testing Time (s)  Memory (MB)  \n",
       "0         322.942508            1.9145  5252.921875  "
      ]
     },
     "execution_count": 21,
     "metadata": {},
     "output_type": "execute_result"
    }
   ],
   "source": [
    "all_model"
   ]
  },
  {
   "cell_type": "markdown",
   "id": "591feb9f",
   "metadata": {
    "papermill": {
     "duration": 0.092453,
     "end_time": "2024-11-27T06:17:52.369679",
     "exception": false,
     "start_time": "2024-11-27T06:17:52.277226",
     "status": "completed"
    },
    "tags": []
   },
   "source": [
    "**VGG19**"
   ]
  },
  {
   "cell_type": "code",
   "execution_count": 22,
   "id": "4292a685",
   "metadata": {
    "execution": {
     "iopub.execute_input": "2024-11-27T06:17:52.559137Z",
     "iopub.status.busy": "2024-11-27T06:17:52.558792Z",
     "iopub.status.idle": "2024-11-27T06:17:57.515521Z",
     "shell.execute_reply": "2024-11-27T06:17:57.514622Z"
    },
    "papermill": {
     "duration": 5.062747,
     "end_time": "2024-11-27T06:17:57.527087",
     "exception": false,
     "start_time": "2024-11-27T06:17:52.464340",
     "status": "completed"
    },
    "tags": []
   },
   "outputs": [
    {
     "name": "stdout",
     "output_type": "stream",
     "text": [
      "Downloading data from https://storage.googleapis.com/tensorflow/keras-applications/vgg19/vgg19_weights_tf_dim_ordering_tf_kernels.h5\n",
      "574710816/574710816 [==============================] - 2s 0us/step\n",
      "Model: \"model_1\"\n",
      "_________________________________________________________________\n",
      " Layer (type)                Output Shape              Param #   \n",
      "=================================================================\n",
      " input_2 (InputLayer)        [(None, 224, 224, 3)]     0         \n",
      "                                                                 \n",
      " block1_conv1 (Conv2D)       (None, 224, 224, 64)      1792      \n",
      "                                                                 \n",
      " block1_conv2 (Conv2D)       (None, 224, 224, 64)      36928     \n",
      "                                                                 \n",
      " block1_pool (MaxPooling2D)  (None, 112, 112, 64)      0         \n",
      "                                                                 \n",
      " block2_conv1 (Conv2D)       (None, 112, 112, 128)     73856     \n",
      "                                                                 \n",
      " block2_conv2 (Conv2D)       (None, 112, 112, 128)     147584    \n",
      "                                                                 \n",
      " block2_pool (MaxPooling2D)  (None, 56, 56, 128)       0         \n",
      "                                                                 \n",
      " block3_conv1 (Conv2D)       (None, 56, 56, 256)       295168    \n",
      "                                                                 \n",
      " block3_conv2 (Conv2D)       (None, 56, 56, 256)       590080    \n",
      "                                                                 \n",
      " block3_conv3 (Conv2D)       (None, 56, 56, 256)       590080    \n",
      "                                                                 \n",
      " block3_conv4 (Conv2D)       (None, 56, 56, 256)       590080    \n",
      "                                                                 \n",
      " block3_pool (MaxPooling2D)  (None, 28, 28, 256)       0         \n",
      "                                                                 \n",
      " block4_conv1 (Conv2D)       (None, 28, 28, 512)       1180160   \n",
      "                                                                 \n",
      " block4_conv2 (Conv2D)       (None, 28, 28, 512)       2359808   \n",
      "                                                                 \n",
      " block4_conv3 (Conv2D)       (None, 28, 28, 512)       2359808   \n",
      "                                                                 \n",
      " block4_conv4 (Conv2D)       (None, 28, 28, 512)       2359808   \n",
      "                                                                 \n",
      " block4_pool (MaxPooling2D)  (None, 14, 14, 512)       0         \n",
      "                                                                 \n",
      " block5_conv1 (Conv2D)       (None, 14, 14, 512)       2359808   \n",
      "                                                                 \n",
      " block5_conv2 (Conv2D)       (None, 14, 14, 512)       2359808   \n",
      "                                                                 \n",
      " block5_conv3 (Conv2D)       (None, 14, 14, 512)       2359808   \n",
      "                                                                 \n",
      " block5_conv4 (Conv2D)       (None, 14, 14, 512)       2359808   \n",
      "                                                                 \n",
      " block5_pool (MaxPooling2D)  (None, 7, 7, 512)         0         \n",
      "                                                                 \n",
      " flatten (Flatten)           (None, 25088)             0         \n",
      "                                                                 \n",
      " fc1 (Dense)                 (None, 4096)              102764544 \n",
      "                                                                 \n",
      " fc2 (Dense)                 (None, 4096)              16781312  \n",
      "                                                                 \n",
      " dense_1 (Dense)             (None, 3)                 12291     \n",
      "                                                                 \n",
      "=================================================================\n",
      "Total params: 139,582,531\n",
      "Trainable params: 139,582,531\n",
      "Non-trainable params: 0\n",
      "_________________________________________________________________\n"
     ]
    }
   ],
   "source": [
    "# Define the model\n",
    "base_model = tf.keras.applications.VGG19(\n",
    "    include_top=True,  # Include the fully connected layers (classifier)\n",
    "    weights=\"imagenet\",  # Use pretrained weights from ImageNet\n",
    "    input_shape=(image_size, image_size, 3),  # Input size of the images\n",
    "    classifier_activation=\"softmax\",  # Activation for the output layer\n",
    ")\n",
    "\n",
    "# Modify the final dense layer for 3-class classification\n",
    "model = tf.keras.models.Model(\n",
    "    inputs=base_model.input,  # Use the input of the VGG19 model\n",
    "    outputs=tf.keras.layers.Dense(3, activation='softmax')(base_model.layers[-2].output)  # Replace the last dense layer\n",
    ")\n",
    "\n",
    "# Compile the model\n",
    "model.compile(\n",
    "    loss=\"categorical_crossentropy\",  # Loss function for multi-class classification\n",
    "    optimizer=\"Adam\",  # Optimization algorithm\n",
    "    metrics=[\"accuracy\"],  # Track accuracy during training\n",
    ")\n",
    "\n",
    "# Summary of the model\n",
    "model.summary()"
   ]
  },
  {
   "cell_type": "code",
   "execution_count": 23,
   "id": "6ae8f464",
   "metadata": {
    "execution": {
     "iopub.execute_input": "2024-11-27T06:17:57.719306Z",
     "iopub.status.busy": "2024-11-27T06:17:57.718982Z",
     "iopub.status.idle": "2024-11-27T06:22:33.825564Z",
     "shell.execute_reply": "2024-11-27T06:22:33.824702Z"
    },
    "papermill": {
     "duration": 276.205356,
     "end_time": "2024-11-27T06:22:33.827332",
     "exception": false,
     "start_time": "2024-11-27T06:17:57.621976",
     "status": "completed"
    },
    "tags": []
   },
   "outputs": [
    {
     "name": "stdout",
     "output_type": "stream",
     "text": [
      "Epoch 1/30\n",
      "110/110 [==============================] - 37s 285ms/step - loss: 409.1269 - accuracy: 0.4204 - val_loss: 1.7269 - val_accuracy: 0.2443\n",
      "Epoch 2/30\n",
      "110/110 [==============================] - 30s 274ms/step - loss: 1.0641 - accuracy: 0.4622 - val_loss: 1.1254 - val_accuracy: 0.2648\n",
      "Epoch 3/30\n",
      "110/110 [==============================] - 29s 268ms/step - loss: 1.0072 - accuracy: 0.5034 - val_loss: 1.3185 - val_accuracy: 0.2023\n",
      "Epoch 4/30\n",
      "110/110 [==============================] - 30s 274ms/step - loss: 1.0080 - accuracy: 0.5102 - val_loss: 1.0154 - val_accuracy: 0.3159\n",
      "Epoch 5/30\n",
      "110/110 [==============================] - 29s 268ms/step - loss: 5.2879 - accuracy: 0.4210 - val_loss: 1.2357 - val_accuracy: 0.1841\n",
      "Epoch 6/30\n",
      "110/110 [==============================] - 29s 268ms/step - loss: 1.0683 - accuracy: 0.4278 - val_loss: 1.2412 - val_accuracy: 0.1932\n",
      "Epoch 7/30\n",
      "110/110 [==============================] - 29s 268ms/step - loss: 3.6360 - accuracy: 0.3599 - val_loss: 1.1107 - val_accuracy: 0.1852\n",
      "Epoch 8/30\n",
      "110/110 [==============================] - 29s 268ms/step - loss: 1.1011 - accuracy: 0.3866 - val_loss: 1.1995 - val_accuracy: 0.1852\n",
      "Epoch 9/30\n",
      "110/110 [==============================] - 30s 273ms/step - loss: 1.0961 - accuracy: 0.3783 - val_loss: 1.3063 - val_accuracy: 0.1852\n",
      "Training Time: 276.10 seconds\n",
      "Memory Usage: 6983.88 MB\n"
     ]
    }
   ],
   "source": [
    "import time\n",
    "\n",
    "# Start timer\n",
    "start_time = time.time()\n",
    "\n",
    "# EarlyStopping callback\n",
    "early_stopping = EarlyStopping(\n",
    "    monitor='val_loss',        # Metric to monitor ('val_loss' or 'val_accuracy')\n",
    "    patience=5,                # Number of epochs with no improvement before stopping\n",
    "    restore_best_weights=True  # Restore the best weights after stopping\n",
    ")\n",
    "\n",
    "# Train the model\n",
    "history = model.fit(\n",
    "    X_train,             # Training images\n",
    "    y_train,             # One-hot encoded labels\n",
    "    validation_split=0.2,  # Use 20% of training data for validation\n",
    "    epochs=30,           # Number of epochs\n",
    "    batch_size=32,       # Batch size for training\n",
    "    verbose=1,            # Show detailed logs during training\n",
    "    callbacks=[early_stopping] # Add EarlyStopping callback\n",
    ")\n",
    "\n",
    "# Measure training time\n",
    "training_time = time.time() - start_time\n",
    "print(f\"Training Time: {training_time:.2f} seconds\")\n",
    "\n",
    "# Evaluate memory usage (optional, requires `psutil` library)\n",
    "import psutil\n",
    "memory_usage = psutil.Process().memory_info().rss / 1024 / 1024\n",
    "print(f\"Memory Usage: {memory_usage:.2f} MB\")"
   ]
  },
  {
   "cell_type": "code",
   "execution_count": 24,
   "id": "bda9811e",
   "metadata": {
    "execution": {
     "iopub.execute_input": "2024-11-27T06:22:34.125254Z",
     "iopub.status.busy": "2024-11-27T06:22:34.124914Z",
     "iopub.status.idle": "2024-11-27T06:22:35.617796Z",
     "shell.execute_reply": "2024-11-27T06:22:35.617059Z"
    },
    "papermill": {
     "duration": 1.637774,
     "end_time": "2024-11-27T06:22:35.619796",
     "exception": false,
     "start_time": "2024-11-27T06:22:33.982022",
     "status": "completed"
    },
    "tags": []
   },
   "outputs": [
    {
     "name": "stdout",
     "output_type": "stream",
     "text": [
      "16/16 [==============================] - 1s 73ms/step\n"
     ]
    }
   ],
   "source": [
    "# make predictions on the test data\n",
    "start_time = time.time()\n",
    "y_pred = model.predict(X_test)\n",
    "testing_time = time.time() - start_time"
   ]
  },
  {
   "cell_type": "code",
   "execution_count": 25,
   "id": "1609a216",
   "metadata": {
    "execution": {
     "iopub.execute_input": "2024-11-27T06:22:35.903575Z",
     "iopub.status.busy": "2024-11-27T06:22:35.903235Z",
     "iopub.status.idle": "2024-11-27T06:22:36.197582Z",
     "shell.execute_reply": "2024-11-27T06:22:36.196628Z"
    },
    "papermill": {
     "duration": 0.437847,
     "end_time": "2024-11-27T06:22:36.199307",
     "exception": false,
     "start_time": "2024-11-27T06:22:35.761460",
     "status": "completed"
    },
    "tags": []
   },
   "outputs": [
    {
     "name": "stdout",
     "output_type": "stream",
     "text": [
      "Confusion matrix, without normalization\n"
     ]
    },
    {
     "data": {
      "image/png": "[encoded data removed]",
      "text/plain": [
       "<Figure size 500x500 with 2 Axes>"
      ]
     },
     "metadata": {},
     "output_type": "display_data"
    }
   ],
   "source": [
    "import itertools\n",
    "def plot_confusion_matrix(cm, classes,\n",
    "                          normalize=False,\n",
    "                          title='',\n",
    "                          cmap=plt.cm.Greens):\n",
    "    \"\"\"\n",
    "    This function prints and plots the confusion matrix.\n",
    "    Normalization can be applied by setting `normalize=True`.\n",
    "    \"\"\"\n",
    "    if normalize:\n",
    "        cm = cm.astype('float') / cm.sum(axis=1)[:, np.newaxis]\n",
    "        print(\"Normalized confusion matrix\")\n",
    "    else:\n",
    "        print('Confusion matrix, without normalization')\n",
    "\n",
    "    plt.imshow(cm, interpolation='nearest', cmap=cmap)\n",
    "    plt.title(title)\n",
    "    plt.colorbar()\n",
    "    tick_marks = np.arange(len(classes))\n",
    "    plt.xticks(tick_marks, classes, rotation=45,fontweight='bold')\n",
    "    plt.yticks(tick_marks, classes, fontweight='bold')\n",
    "\n",
    "    for i in range(cm.shape[0]):\n",
    "        for j in range(cm.shape[1]):\n",
    "            plt.text(j, i, format(cm[i, j], 'd'),\n",
    "                    ha=\"center\", va=\"center\", fontweight='bold',\n",
    "                    color=\"white\" if cm[i, j] > cm.max() / 2. else \"black\")\n",
    "\n",
    "    plt.tight_layout()\n",
    "    plt.ylabel('True label',fontweight='bold')\n",
    "    plt.xlabel('Predicted label',fontweight='bold')\n",
    "\n",
    "# Compute confusion matrix\n",
    "cnf_matrix = confusion_matrix(y_test.argmax(axis=1), y_pred.argmax(axis=1))\n",
    "np.set_printoptions(precision=2)\n",
    "\n",
    "# Plot non-normalized confusion matrix\n",
    "plt.figure(figsize=(5,5))\n",
    "plot_confusion_matrix(cnf_matrix, classes=['EB','H','LB']\n",
    "                      )\n",
    "plt.show()"
   ]
  },
  {
   "cell_type": "code",
   "execution_count": 26,
   "id": "2a1b542f",
   "metadata": {
    "execution": {
     "iopub.execute_input": "2024-11-27T06:22:36.483334Z",
     "iopub.status.busy": "2024-11-27T06:22:36.482635Z",
     "iopub.status.idle": "2024-11-27T06:22:36.486823Z",
     "shell.execute_reply": "2024-11-27T06:22:36.486095Z"
    },
    "papermill": {
     "duration": 0.148761,
     "end_time": "2024-11-27T06:22:36.488398",
     "exception": false,
     "start_time": "2024-11-27T06:22:36.339637",
     "status": "completed"
    },
    "tags": []
   },
   "outputs": [],
   "source": [
    "test_predict_class = np.argmax(y_pred, axis=1)\n",
    "test_true = np.argmax(y_test, axis=1)"
   ]
  },
  {
   "cell_type": "code",
   "execution_count": 27,
   "id": "e1841e57",
   "metadata": {
    "execution": {
     "iopub.execute_input": "2024-11-27T06:22:36.830823Z",
     "iopub.status.busy": "2024-11-27T06:22:36.830090Z",
     "iopub.status.idle": "2024-11-27T06:22:36.840195Z",
     "shell.execute_reply": "2024-11-27T06:22:36.839294Z"
    },
    "papermill": {
     "duration": 0.213641,
     "end_time": "2024-11-27T06:22:36.842088",
     "exception": false,
     "start_time": "2024-11-27T06:22:36.628447",
     "status": "completed"
    },
    "tags": []
   },
   "outputs": [],
   "source": [
    "from sklearn.metrics import accuracy_score, precision_score, recall_score, f1_score\n",
    "\n",
    "accuracy_test = format(accuracy_score(test_true, test_predict_class)*100,'.3f')\n",
    "precision_test = format( precision_score(test_true, test_predict_class, average='macro')*100,'.3f')\n",
    "recall_test = format(recall_score(test_true, test_predict_class, average='macro')*100,'.3f')\n",
    "f1_test = format(f1_score(test_true, test_predict_class, average='macro')*100,'.3f')"
   ]
  },
  {
   "cell_type": "code",
   "execution_count": 28,
   "id": "a3b47b72",
   "metadata": {
    "execution": {
     "iopub.execute_input": "2024-11-27T06:22:37.130423Z",
     "iopub.status.busy": "2024-11-27T06:22:37.130096Z",
     "iopub.status.idle": "2024-11-27T06:22:48.647336Z",
     "shell.execute_reply": "2024-11-27T06:22:48.646379Z"
    },
    "papermill": {
     "duration": 11.663193,
     "end_time": "2024-11-27T06:22:48.649607",
     "exception": false,
     "start_time": "2024-11-27T06:22:36.986414",
     "status": "completed"
    },
    "tags": []
   },
   "outputs": [
    {
     "name": "stdout",
     "output_type": "stream",
     "text": [
      "138/138 [==============================] - 10s 73ms/step\n"
     ]
    }
   ],
   "source": [
    "# make predictions on the train data\n",
    "y_pred = model.predict(X_train)"
   ]
  },
  {
   "cell_type": "code",
   "execution_count": 29,
   "id": "23c2adb0",
   "metadata": {
    "execution": {
     "iopub.execute_input": "2024-11-27T06:22:48.949021Z",
     "iopub.status.busy": "2024-11-27T06:22:48.948683Z",
     "iopub.status.idle": "2024-11-27T06:22:49.338070Z",
     "shell.execute_reply": "2024-11-27T06:22:49.336909Z"
    },
    "papermill": {
     "duration": 0.538891,
     "end_time": "2024-11-27T06:22:49.339938",
     "exception": false,
     "start_time": "2024-11-27T06:22:48.801047",
     "status": "completed"
    },
    "tags": []
   },
   "outputs": [
    {
     "name": "stdout",
     "output_type": "stream",
     "text": [
      "Confusion matrix, without normalization\n"
     ]
    },
    {
     "data": {
      "image/png": "[encoded data removed]",
      "text/plain": [
       "<Figure size 500x500 with 2 Axes>"
      ]
     },
     "metadata": {},
     "output_type": "display_data"
    }
   ],
   "source": [
    "def plot_confusion_matrix(cm, classes,\n",
    "                          normalize=False,\n",
    "                          title='',\n",
    "                          cmap=plt.cm.Greens):\n",
    "    \"\"\"\n",
    "    This function prints and plots the confusion matrix.\n",
    "    Normalization can be applied by setting `normalize=True`.\n",
    "    \"\"\"\n",
    "    if normalize:\n",
    "        cm = cm.astype('float') / cm.sum(axis=1)[:, np.newaxis]\n",
    "        print(\"Normalized confusion matrix\")\n",
    "    else:\n",
    "        print('Confusion matrix, without normalization')\n",
    "\n",
    "    plt.imshow(cm, interpolation='nearest', cmap=cmap)\n",
    "    plt.title(title)\n",
    "    plt.colorbar()\n",
    "    tick_marks = np.arange(len(classes))\n",
    "    plt.xticks(tick_marks, classes, rotation=45,fontweight='bold')\n",
    "    plt.yticks(tick_marks, classes, fontweight='bold')\n",
    "\n",
    "    for i in range(cm.shape[0]):\n",
    "        for j in range(cm.shape[1]):\n",
    "            plt.text(j, i, format(cm[i, j], 'd'),\n",
    "                    ha=\"center\", va=\"center\", fontweight='bold',\n",
    "                    color=\"white\" if cm[i, j] > cm.max() / 2. else \"black\")\n",
    "\n",
    "    plt.tight_layout()\n",
    "    plt.ylabel('True label',fontweight='bold')\n",
    "    plt.xlabel('Predicted label',fontweight='bold')\n",
    "\n",
    "# Compute confusion matrix\n",
    "cnf_matrix = confusion_matrix(y_train.argmax(axis=1), y_pred.argmax(axis=1))\n",
    "np.set_printoptions(precision=2)\n",
    "\n",
    "# Plot non-normalized confusion matrix\n",
    "plt.figure(figsize=(5,5))\n",
    "plot_confusion_matrix(cnf_matrix, classes=['EB','H','LB']\n",
    "                      )\n",
    "plt.show()"
   ]
  },
  {
   "cell_type": "code",
   "execution_count": 30,
   "id": "3727d08b",
   "metadata": {
    "execution": {
     "iopub.execute_input": "2024-11-27T06:22:49.635549Z",
     "iopub.status.busy": "2024-11-27T06:22:49.634920Z",
     "iopub.status.idle": "2024-11-27T06:22:49.639517Z",
     "shell.execute_reply": "2024-11-27T06:22:49.638732Z"
    },
    "papermill": {
     "duration": 0.154569,
     "end_time": "2024-11-27T06:22:49.641163",
     "exception": false,
     "start_time": "2024-11-27T06:22:49.486594",
     "status": "completed"
    },
    "tags": []
   },
   "outputs": [],
   "source": [
    "train_predict_class = np.argmax(y_pred, axis=1)\n",
    "train_true = np.argmax(y_train, axis=1)"
   ]
  },
  {
   "cell_type": "code",
   "execution_count": 31,
   "id": "460cc087",
   "metadata": {
    "execution": {
     "iopub.execute_input": "2024-11-27T06:22:49.943635Z",
     "iopub.status.busy": "2024-11-27T06:22:49.942769Z",
     "iopub.status.idle": "2024-11-27T06:22:49.954886Z",
     "shell.execute_reply": "2024-11-27T06:22:49.954185Z"
    },
    "papermill": {
     "duration": 0.16418,
     "end_time": "2024-11-27T06:22:49.956698",
     "exception": false,
     "start_time": "2024-11-27T06:22:49.792518",
     "status": "completed"
    },
    "tags": []
   },
   "outputs": [],
   "source": [
    "accuracy_train = format(accuracy_score(train_true, train_predict_class)*100,'.3f')\n",
    "precision_train = format( precision_score(train_true, train_predict_class, average='macro')*100,'.3f')\n",
    "recall_train = format(recall_score(train_true, train_predict_class, average='macro')*100,'.3f')\n",
    "f1_train = format(f1_score(train_true, train_predict_class, average='macro')*100,'.3f')"
   ]
  },
  {
   "cell_type": "code",
   "execution_count": 32,
   "id": "ff0e7a9b",
   "metadata": {
    "execution": {
     "iopub.execute_input": "2024-11-27T06:22:50.257640Z",
     "iopub.status.busy": "2024-11-27T06:22:50.257295Z",
     "iopub.status.idle": "2024-11-27T06:22:50.266494Z",
     "shell.execute_reply": "2024-11-27T06:22:50.265774Z"
    },
    "papermill": {
     "duration": 0.16067,
     "end_time": "2024-11-27T06:22:50.268246",
     "exception": false,
     "start_time": "2024-11-27T06:22:50.107576",
     "status": "completed"
    },
    "tags": []
   },
   "outputs": [],
   "source": [
    "model_name='VGG19'\n",
    "all_model.loc[len(all_model)] = [model_name, accuracy_train, precision_train, recall_train, f1_train, accuracy_test, precision_test, recall_test, f1_test, training_time, testing_time, memory_usage]"
   ]
  },
  {
   "cell_type": "code",
   "execution_count": 33,
   "id": "dbb239d7",
   "metadata": {
    "execution": {
     "iopub.execute_input": "2024-11-27T06:22:50.623961Z",
     "iopub.status.busy": "2024-11-27T06:22:50.623620Z",
     "iopub.status.idle": "2024-11-27T06:22:50.635967Z",
     "shell.execute_reply": "2024-11-27T06:22:50.635254Z"
    },
    "papermill": {
     "duration": 0.222514,
     "end_time": "2024-11-27T06:22:50.637595",
     "exception": false,
     "start_time": "2024-11-27T06:22:50.415081",
     "status": "completed"
    },
    "tags": []
   },
   "outputs": [
    {
     "data": {
      "text/html": [
       "<div>\n",
       "<style scoped>\n",
       "    .dataframe tbody tr th:only-of-type {\n",
       "        vertical-align: middle;\n",
       "    }\n",
       "\n",
       "    .dataframe tbody tr th {\n",
       "        vertical-align: top;\n",
       "    }\n",
       "\n",
       "    .dataframe thead th {\n",
       "        text-align: right;\n",
       "    }\n",
       "</style>\n",
       "<table border=\"1\" class=\"dataframe\">\n",
       "  <thead>\n",
       "    <tr style=\"text-align: right;\">\n",
       "      <th></th>\n",
       "      <th>Model</th>\n",
       "      <th>Accuracy (Train)</th>\n",
       "      <th>Precision (Train)</th>\n",
       "      <th>Recall (Train)</th>\n",
       "      <th>F1 Score (Train)</th>\n",
       "      <th>Accuracy (Test)</th>\n",
       "      <th>Precision (Test)</th>\n",
       "      <th>Recall (Test)</th>\n",
       "      <th>F1 Score (Test)</th>\n",
       "      <th>Training Time (s)</th>\n",
       "      <th>Testing Time (s)</th>\n",
       "      <th>Memory (MB)</th>\n",
       "    </tr>\n",
       "  </thead>\n",
       "  <tbody>\n",
       "    <tr>\n",
       "      <th>0</th>\n",
       "      <td>VGG16</td>\n",
       "      <td>75.261</td>\n",
       "      <td>77.476</td>\n",
       "      <td>75.261</td>\n",
       "      <td>75.343</td>\n",
       "      <td>76.337</td>\n",
       "      <td>79.392</td>\n",
       "      <td>76.337</td>\n",
       "      <td>76.435</td>\n",
       "      <td>322.942508</td>\n",
       "      <td>1.914500</td>\n",
       "      <td>5252.921875</td>\n",
       "    </tr>\n",
       "    <tr>\n",
       "      <th>1</th>\n",
       "      <td>VGG19</td>\n",
       "      <td>50.841</td>\n",
       "      <td>52.163</td>\n",
       "      <td>50.841</td>\n",
       "      <td>45.039</td>\n",
       "      <td>51.852</td>\n",
       "      <td>55.656</td>\n",
       "      <td>51.852</td>\n",
       "      <td>46.635</td>\n",
       "      <td>276.100009</td>\n",
       "      <td>1.489265</td>\n",
       "      <td>6983.875000</td>\n",
       "    </tr>\n",
       "  </tbody>\n",
       "</table>\n",
       "</div>"
      ],
      "text/plain": [
       "   Model Accuracy (Train) Precision (Train) Recall (Train) F1 Score (Train)  \\\n",
       "0  VGG16           75.261            77.476         75.261           75.343   \n",
       "1  VGG19           50.841            52.163         50.841           45.039   \n",
       "\n",
       "  Accuracy (Test) Precision (Test) Recall (Test) F1 Score (Test)  \\\n",
       "0          76.337           79.392        76.337          76.435   \n",
       "1          51.852           55.656        51.852          46.635   \n",
       "\n",
       "   Training Time (s)  Testing Time (s)  Memory (MB)  \n",
       "0         322.942508          1.914500  5252.921875  \n",
       "1         276.100009          1.489265  6983.875000  "
      ]
     },
     "execution_count": 33,
     "metadata": {},
     "output_type": "execute_result"
    }
   ],
   "source": [
    "all_model"
   ]
  }
 ],
 "metadata": {
  "kaggle": {
   "accelerator": "gpu",
   "dataSources": [
    {
     "datasetId": 1562973,
     "sourceId": 2574068,
     "sourceType": "datasetVersion"
    },
    {
     "datasetId": 6161628,
     "sourceId": 10008956,
     "sourceType": "datasetVersion"
    }
   ],
   "dockerImageVersionId": 30528,
   "isGpuEnabled": true,
   "isInternetEnabled": true,
   "language": "python",
   "sourceType": "notebook"
  },
  "kernelspec": {
   "display_name": "Python 3",
   "language": "python",
   "name": "python3"
  },
  "language_info": {
   "codemirror_mode": {
    "name": "ipython",
    "version": 3
   },
   "file_extension": ".py",
   "mimetype": "text/x-python",
   "name": "python",
   "nbconvert_exporter": "python",
   "pygments_lexer": "ipython3",
   "version": "3.10.12"
  },
  "papermill": {
   "default_parameters": {},
   "duration": 707.010145,
   "end_time": "2024-11-27T06:22:54.160693",
   "environment_variables": {},
   "exception": null,
   "input_path": "__notebook__.ipynb",
   "output_path": "__notebook__.ipynb",
   "parameters": {},
   "start_time": "2024-11-27T06:11:07.150548",
   "version": "2.4.0"
  }
 },
 "nbformat": 4,
 "nbformat_minor": 5
}
