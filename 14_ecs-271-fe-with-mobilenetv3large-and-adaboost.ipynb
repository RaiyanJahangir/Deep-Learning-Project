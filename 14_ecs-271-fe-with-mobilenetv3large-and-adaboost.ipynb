{
 "cells": [
  {
   "cell_type": "code",
   "execution_count": 1,
   "id": "47353bb8",
   "metadata": {
    "_cell_guid": "b1076dfc-b9ad-4769-8c92-a6c4dae69d19",
    "_uuid": "8f2839f25d086af736a60e9eeb907d3b93b6e0e5",
    "execution": {
     "iopub.execute_input": "2024-12-01T23:55:19.775673Z",
     "iopub.status.busy": "2024-12-01T23:55:19.775336Z",
     "iopub.status.idle": "2024-12-01T23:55:19.783347Z",
     "shell.execute_reply": "2024-12-01T23:55:19.782670Z"
    },
    "papermill": {
     "duration": 0.016151,
     "end_time": "2024-12-01T23:55:19.785078",
     "exception": false,
     "start_time": "2024-12-01T23:55:19.768927",
     "status": "completed"
    },
    "tags": []
   },
   "outputs": [],
   "source": [
    "# This Python 3 environment comes with many helpful analytics libraries installed\n",
    "# It is defined by the kaggle/python Docker image: https://github.com/kaggle/docker-python\n",
    "# For example, here's several helpful packages to load\n",
    "\n",
    "import numpy as np # linear algebra\n",
    "import pandas as pd # data processing, CSV file I/O (e.g. pd.read_csv)\n",
    "\n",
    "# Input data files are available in the read-only \"../input/\" directory\n",
    "# For example, running this (by clicking run or pressing Shift+Enter) will list all files under the input directory\n",
    "\n",
    "# import os\n",
    "# for dirname, _, filenames in os.walk('/kaggle/input'):\n",
    "#     for filename in filenames:\n",
    "#         print(os.path.join(dirname, filename))\n",
    "\n",
    "# You can write up to 20GB to the current directory (/kaggle/working/) that gets preserved as output when you create a version using \"Save & Run All\" \n",
    "# You can also write temporary files to /kaggle/temp/, but they won't be saved outside of the current session"
   ]
  },
  {
   "cell_type": "code",
   "execution_count": 2,
   "id": "0d8d9e82",
   "metadata": {
    "execution": {
     "iopub.execute_input": "2024-12-01T23:55:19.796273Z",
     "iopub.status.busy": "2024-12-01T23:55:19.795992Z",
     "iopub.status.idle": "2024-12-01T23:55:28.733165Z",
     "shell.execute_reply": "2024-12-01T23:55:28.732156Z"
    },
    "papermill": {
     "duration": 8.94541,
     "end_time": "2024-12-01T23:55:28.735585",
     "exception": false,
     "start_time": "2024-12-01T23:55:19.790175",
     "status": "completed"
    },
    "tags": []
   },
   "outputs": [
    {
     "name": "stderr",
     "output_type": "stream",
     "text": [
      "/opt/conda/lib/python3.10/site-packages/scipy/__init__.py:146: UserWarning: A NumPy version >=1.16.5 and <1.23.0 is required for this version of SciPy (detected version 1.23.5\n",
      "  warnings.warn(f\"A NumPy version >={np_minversion} and <{np_maxversion}\"\n",
      "/opt/conda/lib/python3.10/site-packages/tensorflow_io/python/ops/__init__.py:98: UserWarning: unable to load libtensorflow_io_plugins.so: unable to open file: libtensorflow_io_plugins.so, from paths: ['/opt/conda/lib/python3.10/site-packages/tensorflow_io/python/ops/libtensorflow_io_plugins.so']\n",
      "caused by: ['/opt/conda/lib/python3.10/site-packages/tensorflow_io/python/ops/libtensorflow_io_plugins.so: undefined symbol: _ZN3tsl6StatusC1EN10tensorflow5error4CodeESt17basic_string_viewIcSt11char_traitsIcEENS_14SourceLocationE']\n",
      "  warnings.warn(f\"unable to load libtensorflow_io_plugins.so: {e}\")\n",
      "/opt/conda/lib/python3.10/site-packages/tensorflow_io/python/ops/__init__.py:104: UserWarning: file system plugins are not loaded: unable to open file: libtensorflow_io.so, from paths: ['/opt/conda/lib/python3.10/site-packages/tensorflow_io/python/ops/libtensorflow_io.so']\n",
      "caused by: ['/opt/conda/lib/python3.10/site-packages/tensorflow_io/python/ops/libtensorflow_io.so: undefined symbol: _ZTVN10tensorflow13GcsFileSystemE']\n",
      "  warnings.warn(f\"file system plugins are not loaded: {e}\")\n"
     ]
    }
   ],
   "source": [
    "import matplotlib.pyplot as plt\n",
    "import numpy as np\n",
    "import pandas as pd\n",
    "import seaborn as sns\n",
    "import cv2\n",
    "import tensorflow as tf\n",
    "from tensorflow.keras.preprocessing.image import ImageDataGenerator\n",
    "from tqdm import tqdm\n",
    "import os\n",
    "from sklearn.utils import shuffle\n",
    "from sklearn.model_selection import train_test_split\n",
    "from tensorflow.keras.applications import EfficientNetB0, DenseNet201\n",
    "from tensorflow.keras.callbacks import EarlyStopping, ReduceLROnPlateau, TensorBoard, ModelCheckpoint\n",
    "from sklearn.metrics import classification_report,confusion_matrix\n",
    "import ipywidgets as widgets\n",
    "import io\n",
    "from PIL import Image\n",
    "from IPython.display import display,clear_output\n",
    "from warnings import filterwarnings\n",
    "from keras.models import Sequential\n",
    "from keras.layers import Dense, Flatten, Dropout\n",
    "from sklearn.metrics import accuracy_score, precision_score, recall_score, f1_score\n",
    "import time\n",
    "import psutil"
   ]
  },
  {
   "cell_type": "code",
   "execution_count": 3,
   "id": "98b44965",
   "metadata": {
    "execution": {
     "iopub.execute_input": "2024-12-01T23:55:28.747811Z",
     "iopub.status.busy": "2024-12-01T23:55:28.746826Z",
     "iopub.status.idle": "2024-12-01T23:55:28.751227Z",
     "shell.execute_reply": "2024-12-01T23:55:28.750394Z"
    },
    "papermill": {
     "duration": 0.012033,
     "end_time": "2024-12-01T23:55:28.752804",
     "exception": false,
     "start_time": "2024-12-01T23:55:28.740771",
     "status": "completed"
    },
    "tags": []
   },
   "outputs": [],
   "source": [
    "labels = ['Early_Blight','Healthy','Late_Blight']"
   ]
  },
  {
   "cell_type": "code",
   "execution_count": 4,
   "id": "f91c35d9",
   "metadata": {
    "execution": {
     "iopub.execute_input": "2024-12-01T23:55:28.763040Z",
     "iopub.status.busy": "2024-12-01T23:55:28.762802Z",
     "iopub.status.idle": "2024-12-01T23:56:26.999250Z",
     "shell.execute_reply": "2024-12-01T23:56:26.998573Z"
    },
    "papermill": {
     "duration": 58.243879,
     "end_time": "2024-12-01T23:56:27.001323",
     "exception": false,
     "start_time": "2024-12-01T23:55:28.757444",
     "status": "completed"
    },
    "tags": []
   },
   "outputs": [
    {
     "name": "stderr",
     "output_type": "stream",
     "text": [
      "100%|██████████| 1303/1303 [00:16<00:00, 79.44it/s]\n",
      "100%|██████████| 1303/1303 [00:16<00:00, 81.24it/s]\n",
      "100%|██████████| 1303/1303 [00:14<00:00, 89.38it/s]\n",
      "100%|██████████| 162/162 [00:01<00:00, 86.28it/s]\n",
      "100%|██████████| 162/162 [00:01<00:00, 93.01it/s]\n",
      "100%|██████████| 162/162 [00:01<00:00, 93.82it/s]\n",
      "100%|██████████| 163/163 [00:01<00:00, 89.39it/s]\n",
      "100%|██████████| 163/163 [00:01<00:00, 98.29it/s]\n",
      "100%|██████████| 163/163 [00:01<00:00, 96.92it/s]\n"
     ]
    }
   ],
   "source": [
    "X_train = []\n",
    "y_train = []\n",
    "X_test = []\n",
    "y_test = []\n",
    "image_size = 224\n",
    "for i in labels:\n",
    "    folderPath = os.path.join('/kaggle/input/balanced-data/balanced_data','Training',i)\n",
    "    for j in tqdm(os.listdir(folderPath)):\n",
    "        img = cv2.imread(os.path.join(folderPath,j))\n",
    "        img = cv2.resize(img,(image_size, image_size))\n",
    "        X_train.append(img)\n",
    "        y_train.append(i)\n",
    "        \n",
    "for i in labels:\n",
    "    folderPath = os.path.join('/kaggle/input/balanced-data/balanced_data','Testing',i)\n",
    "    for j in tqdm(os.listdir(folderPath)):\n",
    "        img = cv2.imread(os.path.join(folderPath,j))\n",
    "        img = cv2.resize(img,(image_size,image_size))\n",
    "        X_test.append(img)\n",
    "        y_test.append(i)\n",
    "        \n",
    "for i in labels:\n",
    "    folderPath = os.path.join('/kaggle/input/balanced-data/balanced_data','Validation',i)\n",
    "    for j in tqdm(os.listdir(folderPath)):\n",
    "        img = cv2.imread(os.path.join(folderPath,j))\n",
    "        img = cv2.resize(img,(image_size,image_size))\n",
    "        X_train.append(img)\n",
    "        y_train.append(i)\n",
    "        \n",
    "X_train = np.array(X_train)\n",
    "y_train = np.array(y_train)\n",
    "X_test = np.array(X_test)\n",
    "y_test = np.array(y_test)"
   ]
  },
  {
   "cell_type": "code",
   "execution_count": 5,
   "id": "970b9ede",
   "metadata": {
    "execution": {
     "iopub.execute_input": "2024-12-01T23:56:27.057221Z",
     "iopub.status.busy": "2024-12-01T23:56:27.056974Z",
     "iopub.status.idle": "2024-12-01T23:56:27.061500Z",
     "shell.execute_reply": "2024-12-01T23:56:27.060605Z"
    },
    "papermill": {
     "duration": 0.033146,
     "end_time": "2024-12-01T23:56:27.063162",
     "exception": false,
     "start_time": "2024-12-01T23:56:27.030016",
     "status": "completed"
    },
    "tags": []
   },
   "outputs": [
    {
     "name": "stdout",
     "output_type": "stream",
     "text": [
      "(4398, 224, 224, 3)\n",
      "(4398,)\n",
      "(486, 224, 224, 3)\n",
      "(486,)\n"
     ]
    }
   ],
   "source": [
    "print(X_train.shape)\n",
    "print(y_train.shape)\n",
    "print(X_test.shape)\n",
    "print(y_test.shape)"
   ]
  },
  {
   "cell_type": "code",
   "execution_count": 6,
   "id": "7908afe0",
   "metadata": {
    "execution": {
     "iopub.execute_input": "2024-12-01T23:56:27.115591Z",
     "iopub.status.busy": "2024-12-01T23:56:27.115048Z",
     "iopub.status.idle": "2024-12-01T23:56:27.121543Z",
     "shell.execute_reply": "2024-12-01T23:56:27.120604Z"
    },
    "papermill": {
     "duration": 0.034244,
     "end_time": "2024-12-01T23:56:27.123010",
     "exception": false,
     "start_time": "2024-12-01T23:56:27.088766",
     "status": "completed"
    },
    "tags": []
   },
   "outputs": [
    {
     "name": "stdout",
     "output_type": "stream",
     "text": [
      "['Early_Blight' 'Healthy' 'Late_Blight']\n",
      "['Early_Blight' 'Healthy' 'Late_Blight']\n"
     ]
    }
   ],
   "source": [
    "print(np.unique(y_test))\n",
    "print(np.unique(y_train))"
   ]
  },
  {
   "cell_type": "code",
   "execution_count": 7,
   "id": "8db5d5ab",
   "metadata": {
    "execution": {
     "iopub.execute_input": "2024-12-01T23:56:27.176027Z",
     "iopub.status.busy": "2024-12-01T23:56:27.175806Z",
     "iopub.status.idle": "2024-12-01T23:56:27.182936Z",
     "shell.execute_reply": "2024-12-01T23:56:27.182286Z"
    },
    "papermill": {
     "duration": 0.035534,
     "end_time": "2024-12-01T23:56:27.184531",
     "exception": false,
     "start_time": "2024-12-01T23:56:27.148997",
     "status": "completed"
    },
    "tags": []
   },
   "outputs": [],
   "source": [
    "y_train_new = []\n",
    "for i in y_train:\n",
    "    y_train_new.append(labels.index(i))\n",
    "y_train = y_train_new\n",
    "y_train = tf.keras.utils.to_categorical(y_train)\n",
    "\n",
    "\n",
    "y_test_new = []\n",
    "for i in y_test:\n",
    "    y_test_new.append(labels.index(i))\n",
    "y_test = y_test_new\n",
    "y_test = tf.keras.utils.to_categorical(y_test)"
   ]
  },
  {
   "cell_type": "code",
   "execution_count": 8,
   "id": "3120a1c8",
   "metadata": {
    "execution": {
     "iopub.execute_input": "2024-12-01T23:56:27.238597Z",
     "iopub.status.busy": "2024-12-01T23:56:27.238305Z",
     "iopub.status.idle": "2024-12-01T23:56:27.248015Z",
     "shell.execute_reply": "2024-12-01T23:56:27.247370Z"
    },
    "papermill": {
     "duration": 0.03765,
     "end_time": "2024-12-01T23:56:27.249592",
     "exception": false,
     "start_time": "2024-12-01T23:56:27.211942",
     "status": "completed"
    },
    "tags": []
   },
   "outputs": [],
   "source": [
    "all_model = pd.DataFrame(columns=['Model', 'Accuracy (Train)', 'Precision (Train)', 'Recall (Train)', 'F1 Score (Train)', 'Accuracy (Test)', 'Precision (Test)', 'Recall (Test)', 'F1 Score (Test)', 'Training Time (s)', 'Testing Time (s)','Memory (MB)'])"
   ]
  },
  {
   "cell_type": "code",
   "execution_count": 9,
   "id": "fe5d8b86",
   "metadata": {
    "execution": {
     "iopub.execute_input": "2024-12-01T23:56:27.302065Z",
     "iopub.status.busy": "2024-12-01T23:56:27.301832Z",
     "iopub.status.idle": "2024-12-01T23:56:27.315243Z",
     "shell.execute_reply": "2024-12-01T23:56:27.314491Z"
    },
    "papermill": {
     "duration": 0.041353,
     "end_time": "2024-12-01T23:56:27.316944",
     "exception": false,
     "start_time": "2024-12-01T23:56:27.275591",
     "status": "completed"
    },
    "tags": []
   },
   "outputs": [
    {
     "data": {
      "text/html": [
       "<div>\n",
       "<style scoped>\n",
       "    .dataframe tbody tr th:only-of-type {\n",
       "        vertical-align: middle;\n",
       "    }\n",
       "\n",
       "    .dataframe tbody tr th {\n",
       "        vertical-align: top;\n",
       "    }\n",
       "\n",
       "    .dataframe thead th {\n",
       "        text-align: right;\n",
       "    }\n",
       "</style>\n",
       "<table border=\"1\" class=\"dataframe\">\n",
       "  <thead>\n",
       "    <tr style=\"text-align: right;\">\n",
       "      <th></th>\n",
       "      <th>Model</th>\n",
       "      <th>Accuracy (Train)</th>\n",
       "      <th>Precision (Train)</th>\n",
       "      <th>Recall (Train)</th>\n",
       "      <th>F1 Score (Train)</th>\n",
       "      <th>Accuracy (Test)</th>\n",
       "      <th>Precision (Test)</th>\n",
       "      <th>Recall (Test)</th>\n",
       "      <th>F1 Score (Test)</th>\n",
       "      <th>Training Time (s)</th>\n",
       "      <th>Testing Time (s)</th>\n",
       "      <th>Memory (MB)</th>\n",
       "    </tr>\n",
       "  </thead>\n",
       "  <tbody>\n",
       "  </tbody>\n",
       "</table>\n",
       "</div>"
      ],
      "text/plain": [
       "Empty DataFrame\n",
       "Columns: [Model, Accuracy (Train), Precision (Train), Recall (Train), F1 Score (Train), Accuracy (Test), Precision (Test), Recall (Test), F1 Score (Test), Training Time (s), Testing Time (s), Memory (MB)]\n",
       "Index: []"
      ]
     },
     "execution_count": 9,
     "metadata": {},
     "output_type": "execute_result"
    }
   ],
   "source": [
    "all_model"
   ]
  },
  {
   "cell_type": "markdown",
   "id": "93c67252",
   "metadata": {
    "papermill": {
     "duration": 0.025521,
     "end_time": "2024-12-01T23:56:27.368574",
     "exception": false,
     "start_time": "2024-12-01T23:56:27.343053",
     "status": "completed"
    },
    "tags": []
   },
   "source": [
    "**Feature Extraction from MobileNetV3Large**"
   ]
  },
  {
   "cell_type": "code",
   "execution_count": 10,
   "id": "54563b63",
   "metadata": {
    "execution": {
     "iopub.execute_input": "2024-12-01T23:56:27.421733Z",
     "iopub.status.busy": "2024-12-01T23:56:27.420918Z",
     "iopub.status.idle": "2024-12-01T23:56:31.570636Z",
     "shell.execute_reply": "2024-12-01T23:56:31.569936Z"
    },
    "papermill": {
     "duration": 4.178456,
     "end_time": "2024-12-01T23:56:31.572665",
     "exception": false,
     "start_time": "2024-12-01T23:56:27.394209",
     "status": "completed"
    },
    "tags": []
   },
   "outputs": [
    {
     "name": "stdout",
     "output_type": "stream",
     "text": [
      "Downloading data from https://storage.googleapis.com/tensorflow/keras-applications/mobilenet_v3/weights_mobilenet_v3_large_224_1.0_float_no_top_v2.h5\n",
      "12683000/12683000 [==============================] - 0s 0us/step\n"
     ]
    }
   ],
   "source": [
    "# Define the base model for feature extraction\n",
    "model = tf.keras.applications.MobileNetV3Large(\n",
    "    include_top=False,  # Exclude fully connected layers\n",
    "    weights=\"imagenet\",  # Pretrained weights from ImageNet\n",
    "    input_shape=(image_size, image_size, 3),  # Input image size\n",
    "    pooling=\"avg\"  # Global average pooling layer to get feature vector\n",
    ")\n",
    "\n",
    "# Freeze the base model to prevent updates during feature extraction\n",
    "model.trainable = False\n"
   ]
  },
  {
   "cell_type": "code",
   "execution_count": 11,
   "id": "036dc6e7",
   "metadata": {
    "execution": {
     "iopub.execute_input": "2024-12-01T23:56:31.628413Z",
     "iopub.status.busy": "2024-12-01T23:56:31.628073Z",
     "iopub.status.idle": "2024-12-01T23:56:40.022518Z",
     "shell.execute_reply": "2024-12-01T23:56:40.021546Z"
    },
    "papermill": {
     "duration": 8.425333,
     "end_time": "2024-12-01T23:56:40.025157",
     "exception": false,
     "start_time": "2024-12-01T23:56:31.599824",
     "status": "completed"
    },
    "tags": []
   },
   "outputs": [
    {
     "name": "stdout",
     "output_type": "stream",
     "text": [
      "138/138 [==============================] - 7s 21ms/step\n"
     ]
    }
   ],
   "source": [
    "# Use the base model to extract features\n",
    "X_train = model.predict(X_train, batch_size=32, verbose=1)"
   ]
  },
  {
   "cell_type": "code",
   "execution_count": 12,
   "id": "d36f5d2c",
   "metadata": {
    "execution": {
     "iopub.execute_input": "2024-12-01T23:56:40.099016Z",
     "iopub.status.busy": "2024-12-01T23:56:40.098611Z",
     "iopub.status.idle": "2024-12-01T23:56:40.104684Z",
     "shell.execute_reply": "2024-12-01T23:56:40.103839Z"
    },
    "papermill": {
     "duration": 0.037792,
     "end_time": "2024-12-01T23:56:40.106297",
     "exception": false,
     "start_time": "2024-12-01T23:56:40.068505",
     "status": "completed"
    },
    "tags": []
   },
   "outputs": [],
   "source": [
    "# If labels are one-hot encoded, convert to class indices\n",
    "if y_train.shape[-1] > 1:\n",
    "    y_train = np.argmax(y_train, axis=1)"
   ]
  },
  {
   "cell_type": "code",
   "execution_count": 13,
   "id": "9e1b1a2b",
   "metadata": {
    "execution": {
     "iopub.execute_input": "2024-12-01T23:56:40.165806Z",
     "iopub.status.busy": "2024-12-01T23:56:40.165516Z",
     "iopub.status.idle": "2024-12-01T23:56:40.170301Z",
     "shell.execute_reply": "2024-12-01T23:56:40.169501Z"
    },
    "papermill": {
     "duration": 0.035767,
     "end_time": "2024-12-01T23:56:40.172083",
     "exception": false,
     "start_time": "2024-12-01T23:56:40.136316",
     "status": "completed"
    },
    "tags": []
   },
   "outputs": [
    {
     "name": "stdout",
     "output_type": "stream",
     "text": [
      "Extracted features shape: (4398, 960)\n",
      "Labels shape: (4398,)\n"
     ]
    }
   ],
   "source": [
    "# X_train now contains the extracted features, and y_train contains the labels\n",
    "print(\"Extracted features shape:\", X_train.shape)\n",
    "print(\"Labels shape:\", y_train.shape)"
   ]
  },
  {
   "cell_type": "code",
   "execution_count": 14,
   "id": "2e1ea439",
   "metadata": {
    "execution": {
     "iopub.execute_input": "2024-12-01T23:56:40.246699Z",
     "iopub.status.busy": "2024-12-01T23:56:40.246346Z",
     "iopub.status.idle": "2024-12-01T23:56:41.027609Z",
     "shell.execute_reply": "2024-12-01T23:56:41.026802Z"
    },
    "papermill": {
     "duration": 0.813431,
     "end_time": "2024-12-01T23:56:41.029568",
     "exception": false,
     "start_time": "2024-12-01T23:56:40.216137",
     "status": "completed"
    },
    "tags": []
   },
   "outputs": [
    {
     "name": "stdout",
     "output_type": "stream",
     "text": [
      "16/16 [==============================] - 1s 43ms/step\n"
     ]
    }
   ],
   "source": [
    "# Use the base model to extract features from test data\n",
    "X_test = model.predict(X_test, batch_size=32, verbose=1)"
   ]
  },
  {
   "cell_type": "code",
   "execution_count": 15,
   "id": "e7edf454",
   "metadata": {
    "execution": {
     "iopub.execute_input": "2024-12-01T23:56:41.093035Z",
     "iopub.status.busy": "2024-12-01T23:56:41.092226Z",
     "iopub.status.idle": "2024-12-01T23:56:41.097168Z",
     "shell.execute_reply": "2024-12-01T23:56:41.096332Z"
    },
    "papermill": {
     "duration": 0.036614,
     "end_time": "2024-12-01T23:56:41.098745",
     "exception": false,
     "start_time": "2024-12-01T23:56:41.062131",
     "status": "completed"
    },
    "tags": []
   },
   "outputs": [],
   "source": [
    "# If labels are one-hot encoded, convert to class indices\n",
    "if y_test.shape[-1] > 1:\n",
    "    y_test = np.argmax(y_test, axis=1)"
   ]
  },
  {
   "cell_type": "code",
   "execution_count": 16,
   "id": "ec370adb",
   "metadata": {
    "execution": {
     "iopub.execute_input": "2024-12-01T23:56:41.158111Z",
     "iopub.status.busy": "2024-12-01T23:56:41.157776Z",
     "iopub.status.idle": "2024-12-01T23:56:41.162866Z",
     "shell.execute_reply": "2024-12-01T23:56:41.161930Z"
    },
    "papermill": {
     "duration": 0.037204,
     "end_time": "2024-12-01T23:56:41.164951",
     "exception": false,
     "start_time": "2024-12-01T23:56:41.127747",
     "status": "completed"
    },
    "tags": []
   },
   "outputs": [
    {
     "name": "stdout",
     "output_type": "stream",
     "text": [
      "Extracted features shape: (486, 960)\n",
      "Labels shape: (486,)\n"
     ]
    }
   ],
   "source": [
    "# X_test now contains the extracted features, and y_test contains the labels\n",
    "print(\"Extracted features shape:\", X_test.shape)\n",
    "print(\"Labels shape:\", y_test.shape)"
   ]
  },
  {
   "cell_type": "code",
   "execution_count": 17,
   "id": "e7d60e18",
   "metadata": {
    "execution": {
     "iopub.execute_input": "2024-12-01T23:56:41.231761Z",
     "iopub.status.busy": "2024-12-01T23:56:41.231484Z",
     "iopub.status.idle": "2024-12-01T23:56:41.534094Z",
     "shell.execute_reply": "2024-12-01T23:56:41.533361Z"
    },
    "papermill": {
     "duration": 0.333996,
     "end_time": "2024-12-01T23:56:41.536061",
     "exception": false,
     "start_time": "2024-12-01T23:56:41.202065",
     "status": "completed"
    },
    "tags": []
   },
   "outputs": [],
   "source": [
    "from sklearn.ensemble import StackingClassifier\n",
    "from sklearn.ensemble import RandomForestClassifier\n",
    "from sklearn.svm import SVC\n",
    "from sklearn.neighbors import KNeighborsClassifier\n",
    "from sklearn.linear_model import LogisticRegression\n",
    "from sklearn.neural_network import MLPClassifier\n",
    "from sklearn.tree import DecisionTreeClassifier\n",
    "from sklearn.naive_bayes import GaussianNB\n",
    "from sklearn.model_selection import train_test_split\n",
    "from sklearn.metrics import accuracy_score\n",
    "from sklearn.ensemble import AdaBoostClassifier\n",
    "\n",
    "# Define the Level 0 classifiers\n",
    "level_0_estimators = [\n",
    "    ('svm', SVC(kernel='rbf',C=1.0,gamma='scale',decision_function_shape='ovr')),\n",
    "    ('knn', KNeighborsClassifier()),\n",
    "    ('logistic', LogisticRegression(multi_class='multinomial',solver='lbfgs',C=1.0,max_iter=1000,random_state=42 )),\n",
    "    ('mlp', MLPClassifier(random_state=42)),\n",
    "    ('decision_tree', DecisionTreeClassifier(criterion='gini',max_depth=20,min_samples_split=5,min_samples_leaf=3,max_features='sqrt',random_state=42)),\n",
    "    ('naive_bayes', GaussianNB(var_smoothing=1e-8))\n",
    "]\n",
    "\n",
    "# Define the Level 1 classifier (meta-classifier)\n",
    "level_1_meta_classifier = AdaBoostClassifier(       \n",
    "    base_estimator=DecisionTreeClassifier(max_depth=3), \n",
    "    n_estimators=200,                                    \n",
    "    learning_rate=0.5,                                   \n",
    "    algorithm='SAMME.R',                                 \n",
    "    random_state=42  \n",
    ")\n",
    "\n",
    "# Create the Stacking Classifier\n",
    "stacking_clf = StackingClassifier(\n",
    "    estimators=level_0_estimators,\n",
    "    final_estimator=level_1_meta_classifier,\n",
    "    cv=5\n",
    ")"
   ]
  },
  {
   "cell_type": "code",
   "execution_count": 18,
   "id": "ff7d4366",
   "metadata": {
    "execution": {
     "iopub.execute_input": "2024-12-01T23:56:41.596999Z",
     "iopub.status.busy": "2024-12-01T23:56:41.596674Z",
     "iopub.status.idle": "2024-12-01T23:57:57.107850Z",
     "shell.execute_reply": "2024-12-01T23:57:57.106910Z"
    },
    "papermill": {
     "duration": 75.54399,
     "end_time": "2024-12-01T23:57:57.109825",
     "exception": false,
     "start_time": "2024-12-01T23:56:41.565835",
     "status": "completed"
    },
    "tags": []
   },
   "outputs": [
    {
     "name": "stderr",
     "output_type": "stream",
     "text": [
      "/opt/conda/lib/python3.10/site-packages/sklearn/ensemble/_base.py:166: FutureWarning: `base_estimator` was renamed to `estimator` in version 1.2 and will be removed in 1.4.\n",
      "  warnings.warn(\n"
     ]
    },
    {
     "name": "stdout",
     "output_type": "stream",
     "text": [
      "Training Time: 75.51 seconds\n",
      "Memory Usage: 3487.88 MB\n"
     ]
    }
   ],
   "source": [
    "import time\n",
    "\n",
    "# Start timer\n",
    "start_time = time.time()\n",
    "\n",
    "# Train the stacking classifier\n",
    "stacking_clf.fit(X_train, y_train)\n",
    "\n",
    "# Measure training time\n",
    "training_time = time.time() - start_time\n",
    "print(f\"Training Time: {training_time:.2f} seconds\")\n",
    "\n",
    "# Evaluate memory usage (optional, requires `psutil` library)\n",
    "import psutil\n",
    "memory_usage = psutil.Process().memory_info().rss / 1024 / 1024\n",
    "print(f\"Memory Usage: {memory_usage:.2f} MB\")"
   ]
  },
  {
   "cell_type": "code",
   "execution_count": 19,
   "id": "259d5dc6",
   "metadata": {
    "execution": {
     "iopub.execute_input": "2024-12-01T23:57:57.169635Z",
     "iopub.status.busy": "2024-12-01T23:57:57.169322Z",
     "iopub.status.idle": "2024-12-01T23:57:57.690097Z",
     "shell.execute_reply": "2024-12-01T23:57:57.688916Z"
    },
    "papermill": {
     "duration": 0.55361,
     "end_time": "2024-12-01T23:57:57.693407",
     "exception": false,
     "start_time": "2024-12-01T23:57:57.139797",
     "status": "completed"
    },
    "tags": []
   },
   "outputs": [],
   "source": [
    "# make predictions on the test data\n",
    "start_time = time.time()\n",
    "y_pred = stacking_clf.predict(X_test)\n",
    "testing_time = time.time() - start_time"
   ]
  },
  {
   "cell_type": "code",
   "execution_count": 20,
   "id": "46567c6d",
   "metadata": {
    "execution": {
     "iopub.execute_input": "2024-12-01T23:57:57.773852Z",
     "iopub.status.busy": "2024-12-01T23:57:57.773554Z",
     "iopub.status.idle": "2024-12-01T23:57:57.993706Z",
     "shell.execute_reply": "2024-12-01T23:57:57.992796Z"
    },
    "papermill": {
     "duration": 0.251197,
     "end_time": "2024-12-01T23:57:57.995576",
     "exception": false,
     "start_time": "2024-12-01T23:57:57.744379",
     "status": "completed"
    },
    "tags": []
   },
   "outputs": [
    {
     "name": "stdout",
     "output_type": "stream",
     "text": [
      "Confusion matrix, without normalization\n"
     ]
    },
    {
     "data": {
      "image/png": "[encoded data removed]",
      "text/plain": [
       "<Figure size 500x500 with 2 Axes>"
      ]
     },
     "metadata": {},
     "output_type": "display_data"
    }
   ],
   "source": [
    "import itertools\n",
    "def plot_confusion_matrix(cm, classes,\n",
    "                          normalize=False,\n",
    "                          title='',\n",
    "                          cmap=plt.cm.Greens):\n",
    "    \"\"\"\n",
    "    This function prints and plots the confusion matrix.\n",
    "    Normalization can be applied by setting `normalize=True`.\n",
    "    \"\"\"\n",
    "    if normalize:\n",
    "        cm = cm.astype('float') / cm.sum(axis=1)[:, np.newaxis]\n",
    "        print(\"Normalized confusion matrix\")\n",
    "    else:\n",
    "        print('Confusion matrix, without normalization')\n",
    "\n",
    "    plt.imshow(cm, interpolation='nearest', cmap=cmap)\n",
    "    plt.title(title)\n",
    "    plt.colorbar()\n",
    "    tick_marks = np.arange(len(classes))\n",
    "    plt.xticks(tick_marks, classes, rotation=45,fontweight='bold')\n",
    "    plt.yticks(tick_marks, classes, fontweight='bold')\n",
    "\n",
    "    for i in range(cm.shape[0]):\n",
    "        for j in range(cm.shape[1]):\n",
    "            plt.text(j, i, format(cm[i, j], 'd'),\n",
    "                    ha=\"center\", va=\"center\", fontweight='bold',\n",
    "                    color=\"white\" if cm[i, j] > cm.max() / 2. else \"black\")\n",
    "\n",
    "    plt.tight_layout()\n",
    "    plt.ylabel('True label',fontweight='bold')\n",
    "    plt.xlabel('Predicted label',fontweight='bold')\n",
    "\n",
    "# Compute confusion matrix\n",
    "cnf_matrix = confusion_matrix(y_test, y_pred)\n",
    "np.set_printoptions(precision=2)\n",
    "\n",
    "# Plot non-normalized confusion matrix\n",
    "plt.figure(figsize=(5,5))\n",
    "plot_confusion_matrix(cnf_matrix, classes=['EB','H','LB']\n",
    "                      )\n",
    "plt.show()"
   ]
  },
  {
   "cell_type": "code",
   "execution_count": 21,
   "id": "30731c5c",
   "metadata": {
    "execution": {
     "iopub.execute_input": "2024-12-01T23:57:58.054818Z",
     "iopub.status.busy": "2024-12-01T23:57:58.054534Z",
     "iopub.status.idle": "2024-12-01T23:57:58.059659Z",
     "shell.execute_reply": "2024-12-01T23:57:58.058829Z"
    },
    "papermill": {
     "duration": 0.036398,
     "end_time": "2024-12-01T23:57:58.061220",
     "exception": false,
     "start_time": "2024-12-01T23:57:58.024822",
     "status": "completed"
    },
    "tags": []
   },
   "outputs": [
    {
     "data": {
      "text/plain": [
       "(486,)"
      ]
     },
     "execution_count": 21,
     "metadata": {},
     "output_type": "execute_result"
    }
   ],
   "source": [
    "y_pred.shape"
   ]
  },
  {
   "cell_type": "code",
   "execution_count": 22,
   "id": "46a4d9ef",
   "metadata": {
    "execution": {
     "iopub.execute_input": "2024-12-01T23:57:58.119893Z",
     "iopub.status.busy": "2024-12-01T23:57:58.119634Z",
     "iopub.status.idle": "2024-12-01T23:57:58.130293Z",
     "shell.execute_reply": "2024-12-01T23:57:58.129278Z"
    },
    "papermill": {
     "duration": 0.042036,
     "end_time": "2024-12-01T23:57:58.132045",
     "exception": false,
     "start_time": "2024-12-01T23:57:58.090009",
     "status": "completed"
    },
    "tags": []
   },
   "outputs": [
    {
     "name": "stdout",
     "output_type": "stream",
     "text": [
      "Accuracy (Test): 98.7654\n",
      "Precision (Test): 98.7804\n",
      "Recall (Test): 98.7654\n",
      "F1 score (Test): 98.7673\n"
     ]
    }
   ],
   "source": [
    "accuracy_test = accuracy_score(y_test, y_pred)*100\n",
    "precision_test = precision_score(y_test, y_pred, average='macro')*100\n",
    "recall_test = recall_score(y_test, y_pred, average='macro')*100\n",
    "f1_test = f1_score(y_test, y_pred, average='macro')*100\n",
    "\n",
    "print(\"Accuracy (Test): {:.4f}\".format(accuracy_test))\n",
    "print(\"Precision (Test): {:.4f}\".format(precision_test))\n",
    "print(\"Recall (Test): {:.4f}\".format(recall_test))\n",
    "print(\"F1 score (Test): {:.4f}\".format(f1_test))"
   ]
  },
  {
   "cell_type": "code",
   "execution_count": 23,
   "id": "716edbbf",
   "metadata": {
    "execution": {
     "iopub.execute_input": "2024-12-01T23:57:58.190131Z",
     "iopub.status.busy": "2024-12-01T23:57:58.189912Z",
     "iopub.status.idle": "2024-12-01T23:58:02.292975Z",
     "shell.execute_reply": "2024-12-01T23:58:02.292238Z"
    },
    "papermill": {
     "duration": 4.134203,
     "end_time": "2024-12-01T23:58:02.295001",
     "exception": false,
     "start_time": "2024-12-01T23:57:58.160798",
     "status": "completed"
    },
    "tags": []
   },
   "outputs": [],
   "source": [
    "# make predictions on the train data\n",
    "y_pred = stacking_clf.predict(X_train)"
   ]
  },
  {
   "cell_type": "code",
   "execution_count": 24,
   "id": "feab44a0",
   "metadata": {
    "execution": {
     "iopub.execute_input": "2024-12-01T23:58:02.356001Z",
     "iopub.status.busy": "2024-12-01T23:58:02.355724Z",
     "iopub.status.idle": "2024-12-01T23:58:02.546315Z",
     "shell.execute_reply": "2024-12-01T23:58:02.545234Z"
    },
    "papermill": {
     "duration": 0.224898,
     "end_time": "2024-12-01T23:58:02.549528",
     "exception": false,
     "start_time": "2024-12-01T23:58:02.324630",
     "status": "completed"
    },
    "tags": []
   },
   "outputs": [
    {
     "name": "stdout",
     "output_type": "stream",
     "text": [
      "Confusion matrix, without normalization\n"
     ]
    },
    {
     "data": {
      "image/png": "[encoded data removed]",
      "text/plain": [
       "<Figure size 500x500 with 2 Axes>"
      ]
     },
     "metadata": {},
     "output_type": "display_data"
    }
   ],
   "source": [
    "def plot_confusion_matrix(cm, classes,\n",
    "                          normalize=False,\n",
    "                          title='',\n",
    "                          cmap=plt.cm.Greens):\n",
    "    \"\"\"\n",
    "    This function prints and plots the confusion matrix.\n",
    "    Normalization can be applied by setting `normalize=True`.\n",
    "    \"\"\"\n",
    "    if normalize:\n",
    "        cm = cm.astype('float') / cm.sum(axis=1)[:, np.newaxis]\n",
    "        print(\"Normalized confusion matrix\")\n",
    "    else:\n",
    "        print('Confusion matrix, without normalization')\n",
    "\n",
    "    plt.imshow(cm, interpolation='nearest', cmap=cmap)\n",
    "    plt.title(title)\n",
    "    plt.colorbar()\n",
    "    tick_marks = np.arange(len(classes))\n",
    "    plt.xticks(tick_marks, classes, rotation=45,fontweight='bold')\n",
    "    plt.yticks(tick_marks, classes, fontweight='bold')\n",
    "\n",
    "    for i in range(cm.shape[0]):\n",
    "        for j in range(cm.shape[1]):\n",
    "            plt.text(j, i, format(cm[i, j], 'd'),\n",
    "                    ha=\"center\", va=\"center\", fontweight='bold',\n",
    "                    color=\"white\" if cm[i, j] > cm.max() / 2. else \"black\")\n",
    "\n",
    "    plt.tight_layout()\n",
    "    plt.ylabel('True label',fontweight='bold')\n",
    "    plt.xlabel('Predicted label',fontweight='bold')\n",
    "\n",
    "# Compute confusion matrix\n",
    "cnf_matrix = confusion_matrix(y_train, y_pred)\n",
    "np.set_printoptions(precision=2)\n",
    "\n",
    "# Plot non-normalized confusion matrix\n",
    "plt.figure(figsize=(5,5))\n",
    "plot_confusion_matrix(cnf_matrix, classes=['EB','H','LB']\n",
    "                      )\n",
    "plt.show()"
   ]
  },
  {
   "cell_type": "code",
   "execution_count": 25,
   "id": "43a15432",
   "metadata": {
    "execution": {
     "iopub.execute_input": "2024-12-01T23:58:02.618663Z",
     "iopub.status.busy": "2024-12-01T23:58:02.618377Z",
     "iopub.status.idle": "2024-12-01T23:58:02.630520Z",
     "shell.execute_reply": "2024-12-01T23:58:02.629512Z"
    },
    "papermill": {
     "duration": 0.043776,
     "end_time": "2024-12-01T23:58:02.632151",
     "exception": false,
     "start_time": "2024-12-01T23:58:02.588375",
     "status": "completed"
    },
    "tags": []
   },
   "outputs": [
    {
     "name": "stdout",
     "output_type": "stream",
     "text": [
      "Accuracy (Train): 99.7499\n",
      "Precision (Train): 99.7507\n",
      "Recall (Train): 99.7499\n",
      "F1 score (Train): 99.7500\n"
     ]
    }
   ],
   "source": [
    "accuracy_train = accuracy_score(y_train, y_pred)*100\n",
    "precision_train = precision_score(y_train, y_pred, average='macro')*100\n",
    "recall_train = recall_score(y_train, y_pred, average='macro')*100\n",
    "f1_train = f1_score(y_train, y_pred, average='macro')*100\n",
    "\n",
    "print(\"Accuracy (Train): {:.4f}\".format(accuracy_train))\n",
    "print(\"Precision (Train): {:.4f}\".format(precision_train))\n",
    "print(\"Recall (Train): {:.4f}\".format(recall_train))\n",
    "print(\"F1 score (Train): {:.4f}\".format(f1_train))"
   ]
  },
  {
   "cell_type": "code",
   "execution_count": 26,
   "id": "26b5b330",
   "metadata": {
    "execution": {
     "iopub.execute_input": "2024-12-01T23:58:02.692036Z",
     "iopub.status.busy": "2024-12-01T23:58:02.691789Z",
     "iopub.status.idle": "2024-12-01T23:58:02.699118Z",
     "shell.execute_reply": "2024-12-01T23:58:02.698276Z"
    },
    "papermill": {
     "duration": 0.038772,
     "end_time": "2024-12-01T23:58:02.700767",
     "exception": false,
     "start_time": "2024-12-01T23:58:02.661995",
     "status": "completed"
    },
    "tags": []
   },
   "outputs": [],
   "source": [
    "model_name='MobileNetV3Large-AB'\n",
    "all_model.loc[len(all_model)] = [model_name, accuracy_train, precision_train, recall_train, f1_train, accuracy_test, precision_test, recall_test, f1_test, training_time, testing_time, memory_usage]"
   ]
  },
  {
   "cell_type": "code",
   "execution_count": 27,
   "id": "2d97781d",
   "metadata": {
    "execution": {
     "iopub.execute_input": "2024-12-01T23:58:02.759947Z",
     "iopub.status.busy": "2024-12-01T23:58:02.759723Z",
     "iopub.status.idle": "2024-12-01T23:58:02.772241Z",
     "shell.execute_reply": "2024-12-01T23:58:02.771442Z"
    },
    "papermill": {
     "duration": 0.044301,
     "end_time": "2024-12-01T23:58:02.774138",
     "exception": false,
     "start_time": "2024-12-01T23:58:02.729837",
     "status": "completed"
    },
    "tags": []
   },
   "outputs": [
    {
     "data": {
      "text/html": [
       "<div>\n",
       "<style scoped>\n",
       "    .dataframe tbody tr th:only-of-type {\n",
       "        vertical-align: middle;\n",
       "    }\n",
       "\n",
       "    .dataframe tbody tr th {\n",
       "        vertical-align: top;\n",
       "    }\n",
       "\n",
       "    .dataframe thead th {\n",
       "        text-align: right;\n",
       "    }\n",
       "</style>\n",
       "<table border=\"1\" class=\"dataframe\">\n",
       "  <thead>\n",
       "    <tr style=\"text-align: right;\">\n",
       "      <th></th>\n",
       "      <th>Model</th>\n",
       "      <th>Accuracy (Train)</th>\n",
       "      <th>Precision (Train)</th>\n",
       "      <th>Recall (Train)</th>\n",
       "      <th>F1 Score (Train)</th>\n",
       "      <th>Accuracy (Test)</th>\n",
       "      <th>Precision (Test)</th>\n",
       "      <th>Recall (Test)</th>\n",
       "      <th>F1 Score (Test)</th>\n",
       "      <th>Training Time (s)</th>\n",
       "      <th>Testing Time (s)</th>\n",
       "      <th>Memory (MB)</th>\n",
       "    </tr>\n",
       "  </thead>\n",
       "  <tbody>\n",
       "    <tr>\n",
       "      <th>0</th>\n",
       "      <td>MobileNetV3Large-AB</td>\n",
       "      <td>99.749886</td>\n",
       "      <td>99.75075</td>\n",
       "      <td>99.749886</td>\n",
       "      <td>99.750033</td>\n",
       "      <td>98.765432</td>\n",
       "      <td>98.780397</td>\n",
       "      <td>98.765432</td>\n",
       "      <td>98.767267</td>\n",
       "      <td>75.505569</td>\n",
       "      <td>0.516502</td>\n",
       "      <td>3487.882812</td>\n",
       "    </tr>\n",
       "  </tbody>\n",
       "</table>\n",
       "</div>"
      ],
      "text/plain": [
       "                 Model  Accuracy (Train)  Precision (Train)  Recall (Train)  \\\n",
       "0  MobileNetV3Large-AB         99.749886           99.75075       99.749886   \n",
       "\n",
       "   F1 Score (Train)  Accuracy (Test)  Precision (Test)  Recall (Test)  \\\n",
       "0         99.750033        98.765432         98.780397      98.765432   \n",
       "\n",
       "   F1 Score (Test)  Training Time (s)  Testing Time (s)  Memory (MB)  \n",
       "0        98.767267          75.505569          0.516502  3487.882812  "
      ]
     },
     "execution_count": 27,
     "metadata": {},
     "output_type": "execute_result"
    }
   ],
   "source": [
    "all_model"
   ]
  }
 ],
 "metadata": {
  "kaggle": {
   "accelerator": "gpu",
   "dataSources": [
    {
     "datasetId": 1562973,
     "sourceId": 2574068,
     "sourceType": "datasetVersion"
    },
    {
     "datasetId": 6161628,
     "sourceId": 10008956,
     "sourceType": "datasetVersion"
    }
   ],
   "dockerImageVersionId": 30528,
   "isGpuEnabled": true,
   "isInternetEnabled": true,
   "language": "python",
   "sourceType": "notebook"
  },
  "kernelspec": {
   "display_name": "Python 3",
   "language": "python",
   "name": "python3"
  },
  "language_info": {
   "codemirror_mode": {
    "name": "ipython",
    "version": 3
   },
   "file_extension": ".py",
   "mimetype": "text/x-python",
   "name": "python",
   "nbconvert_exporter": "python",
   "pygments_lexer": "ipython3",
   "version": "3.10.12"
  },
  "papermill": {
   "default_parameters": {},
   "duration": 174.6138,
   "end_time": "2024-12-01T23:58:06.355661",
   "environment_variables": {},
   "exception": null,
   "input_path": "__notebook__.ipynb",
   "output_path": "__notebook__.ipynb",
   "parameters": {},
   "start_time": "2024-12-01T23:55:11.741861",
   "version": "2.4.0"
  }
 },
 "nbformat": 4,
 "nbformat_minor": 5
}
