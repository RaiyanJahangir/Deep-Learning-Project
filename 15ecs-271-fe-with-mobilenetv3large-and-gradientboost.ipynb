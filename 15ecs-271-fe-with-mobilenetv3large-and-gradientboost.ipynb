{
 "cells": [
  {
   "cell_type": "code",
   "execution_count": 1,
   "id": "e6d83edc",
   "metadata": {
    "_cell_guid": "b1076dfc-b9ad-4769-8c92-a6c4dae69d19",
    "_uuid": "8f2839f25d086af736a60e9eeb907d3b93b6e0e5",
    "execution": {
     "iopub.execute_input": "2024-12-01T23:56:49.461839Z",
     "iopub.status.busy": "2024-12-01T23:56:49.461523Z",
     "iopub.status.idle": "2024-12-01T23:56:49.469251Z",
     "shell.execute_reply": "2024-12-01T23:56:49.468448Z"
    },
    "papermill": {
     "duration": 0.015559,
     "end_time": "2024-12-01T23:56:49.470821",
     "exception": false,
     "start_time": "2024-12-01T23:56:49.455262",
     "status": "completed"
    },
    "tags": []
   },
   "outputs": [],
   "source": [
    "# This Python 3 environment comes with many helpful analytics libraries installed\n",
    "# It is defined by the kaggle/python Docker image: https://github.com/kaggle/docker-python\n",
    "# For example, here's several helpful packages to load\n",
    "\n",
    "import numpy as np # linear algebra\n",
    "import pandas as pd # data processing, CSV file I/O (e.g. pd.read_csv)\n",
    "\n",
    "# Input data files are available in the read-only \"../input/\" directory\n",
    "# For example, running this (by clicking run or pressing Shift+Enter) will list all files under the input directory\n",
    "\n",
    "# import os\n",
    "# for dirname, _, filenames in os.walk('/kaggle/input'):\n",
    "#     for filename in filenames:\n",
    "#         print(os.path.join(dirname, filename))\n",
    "\n",
    "# You can write up to 20GB to the current directory (/kaggle/working/) that gets preserved as output when you create a version using \"Save & Run All\" \n",
    "# You can also write temporary files to /kaggle/temp/, but they won't be saved outside of the current session"
   ]
  },
  {
   "cell_type": "code",
   "execution_count": 2,
   "id": "c20e7005",
   "metadata": {
    "execution": {
     "iopub.execute_input": "2024-12-01T23:56:49.480994Z",
     "iopub.status.busy": "2024-12-01T23:56:49.480766Z",
     "iopub.status.idle": "2024-12-01T23:56:58.145636Z",
     "shell.execute_reply": "2024-12-01T23:56:58.144718Z"
    },
    "papermill": {
     "duration": 8.6722,
     "end_time": "2024-12-01T23:56:58.147739",
     "exception": false,
     "start_time": "2024-12-01T23:56:49.475539",
     "status": "completed"
    },
    "tags": []
   },
   "outputs": [
    {
     "name": "stderr",
     "output_type": "stream",
     "text": [
      "/opt/conda/lib/python3.10/site-packages/scipy/__init__.py:146: UserWarning: A NumPy version >=1.16.5 and <1.23.0 is required for this version of SciPy (detected version 1.23.5\n",
      "  warnings.warn(f\"A NumPy version >={np_minversion} and <{np_maxversion}\"\n",
      "/opt/conda/lib/python3.10/site-packages/tensorflow_io/python/ops/__init__.py:98: UserWarning: unable to load libtensorflow_io_plugins.so: unable to open file: libtensorflow_io_plugins.so, from paths: ['/opt/conda/lib/python3.10/site-packages/tensorflow_io/python/ops/libtensorflow_io_plugins.so']\n",
      "caused by: ['/opt/conda/lib/python3.10/site-packages/tensorflow_io/python/ops/libtensorflow_io_plugins.so: undefined symbol: _ZN3tsl6StatusC1EN10tensorflow5error4CodeESt17basic_string_viewIcSt11char_traitsIcEENS_14SourceLocationE']\n",
      "  warnings.warn(f\"unable to load libtensorflow_io_plugins.so: {e}\")\n",
      "/opt/conda/lib/python3.10/site-packages/tensorflow_io/python/ops/__init__.py:104: UserWarning: file system plugins are not loaded: unable to open file: libtensorflow_io.so, from paths: ['/opt/conda/lib/python3.10/site-packages/tensorflow_io/python/ops/libtensorflow_io.so']\n",
      "caused by: ['/opt/conda/lib/python3.10/site-packages/tensorflow_io/python/ops/libtensorflow_io.so: undefined symbol: _ZTVN10tensorflow13GcsFileSystemE']\n",
      "  warnings.warn(f\"file system plugins are not loaded: {e}\")\n"
     ]
    }
   ],
   "source": [
    "import matplotlib.pyplot as plt\n",
    "import numpy as np\n",
    "import pandas as pd\n",
    "import seaborn as sns\n",
    "import cv2\n",
    "import tensorflow as tf\n",
    "from tensorflow.keras.preprocessing.image import ImageDataGenerator\n",
    "from tqdm import tqdm\n",
    "import os\n",
    "from sklearn.utils import shuffle\n",
    "from sklearn.model_selection import train_test_split\n",
    "from tensorflow.keras.applications import EfficientNetB0, DenseNet201\n",
    "from tensorflow.keras.callbacks import EarlyStopping, ReduceLROnPlateau, TensorBoard, ModelCheckpoint\n",
    "from sklearn.metrics import classification_report,confusion_matrix\n",
    "import ipywidgets as widgets\n",
    "import io\n",
    "from PIL import Image\n",
    "from IPython.display import display,clear_output\n",
    "from warnings import filterwarnings\n",
    "from keras.models import Sequential\n",
    "from keras.layers import Dense, Flatten, Dropout\n",
    "from sklearn.metrics import accuracy_score, precision_score, recall_score, f1_score\n",
    "import time\n",
    "import psutil"
   ]
  },
  {
   "cell_type": "code",
   "execution_count": 3,
   "id": "541ec14b",
   "metadata": {
    "execution": {
     "iopub.execute_input": "2024-12-01T23:56:58.158779Z",
     "iopub.status.busy": "2024-12-01T23:56:58.158258Z",
     "iopub.status.idle": "2024-12-01T23:56:58.162259Z",
     "shell.execute_reply": "2024-12-01T23:56:58.161525Z"
    },
    "papermill": {
     "duration": 0.011099,
     "end_time": "2024-12-01T23:56:58.163818",
     "exception": false,
     "start_time": "2024-12-01T23:56:58.152719",
     "status": "completed"
    },
    "tags": []
   },
   "outputs": [],
   "source": [
    "labels = ['Early_Blight','Healthy','Late_Blight']"
   ]
  },
  {
   "cell_type": "code",
   "execution_count": 4,
   "id": "88359a2d",
   "metadata": {
    "execution": {
     "iopub.execute_input": "2024-12-01T23:56:58.173879Z",
     "iopub.status.busy": "2024-12-01T23:56:58.173667Z",
     "iopub.status.idle": "2024-12-01T23:57:28.008746Z",
     "shell.execute_reply": "2024-12-01T23:57:28.008062Z"
    },
    "papermill": {
     "duration": 29.842346,
     "end_time": "2024-12-01T23:57:28.010732",
     "exception": false,
     "start_time": "2024-12-01T23:56:58.168386",
     "status": "completed"
    },
    "tags": []
   },
   "outputs": [
    {
     "name": "stderr",
     "output_type": "stream",
     "text": [
      "100%|██████████| 1303/1303 [00:07<00:00, 165.40it/s]\n",
      "100%|██████████| 1303/1303 [00:08<00:00, 160.04it/s]\n",
      "100%|██████████| 1303/1303 [00:07<00:00, 166.76it/s]\n",
      "100%|██████████| 162/162 [00:01<00:00, 161.98it/s]\n",
      "100%|██████████| 162/162 [00:00<00:00, 169.94it/s]\n",
      "100%|██████████| 162/162 [00:00<00:00, 174.77it/s]\n",
      "100%|██████████| 163/163 [00:00<00:00, 170.82it/s]\n",
      "100%|██████████| 163/163 [00:00<00:00, 176.28it/s]\n",
      "100%|██████████| 163/163 [00:00<00:00, 180.43it/s]\n"
     ]
    }
   ],
   "source": [
    "X_train = []\n",
    "y_train = []\n",
    "X_test = []\n",
    "y_test = []\n",
    "image_size = 224\n",
    "for i in labels:\n",
    "    folderPath = os.path.join('/kaggle/input/balanced-data/balanced_data','Training',i)\n",
    "    for j in tqdm(os.listdir(folderPath)):\n",
    "        img = cv2.imread(os.path.join(folderPath,j))\n",
    "        img = cv2.resize(img,(image_size, image_size))\n",
    "        X_train.append(img)\n",
    "        y_train.append(i)\n",
    "        \n",
    "for i in labels:\n",
    "    folderPath = os.path.join('/kaggle/input/balanced-data/balanced_data','Testing',i)\n",
    "    for j in tqdm(os.listdir(folderPath)):\n",
    "        img = cv2.imread(os.path.join(folderPath,j))\n",
    "        img = cv2.resize(img,(image_size,image_size))\n",
    "        X_test.append(img)\n",
    "        y_test.append(i)\n",
    "        \n",
    "for i in labels:\n",
    "    folderPath = os.path.join('/kaggle/input/balanced-data/balanced_data','Validation',i)\n",
    "    for j in tqdm(os.listdir(folderPath)):\n",
    "        img = cv2.imread(os.path.join(folderPath,j))\n",
    "        img = cv2.resize(img,(image_size,image_size))\n",
    "        X_train.append(img)\n",
    "        y_train.append(i)\n",
    "        \n",
    "X_train = np.array(X_train)\n",
    "y_train = np.array(y_train)\n",
    "X_test = np.array(X_test)\n",
    "y_test = np.array(y_test)"
   ]
  },
  {
   "cell_type": "code",
   "execution_count": 5,
   "id": "54c1f3c8",
   "metadata": {
    "execution": {
     "iopub.execute_input": "2024-12-01T23:57:28.045614Z",
     "iopub.status.busy": "2024-12-01T23:57:28.044904Z",
     "iopub.status.idle": "2024-12-01T23:57:28.049809Z",
     "shell.execute_reply": "2024-12-01T23:57:28.048839Z"
    },
    "papermill": {
     "duration": 0.023732,
     "end_time": "2024-12-01T23:57:28.051450",
     "exception": false,
     "start_time": "2024-12-01T23:57:28.027718",
     "status": "completed"
    },
    "tags": []
   },
   "outputs": [
    {
     "name": "stdout",
     "output_type": "stream",
     "text": [
      "(4398, 224, 224, 3)\n",
      "(4398,)\n",
      "(486, 224, 224, 3)\n",
      "(486,)\n"
     ]
    }
   ],
   "source": [
    "print(X_train.shape)\n",
    "print(y_train.shape)\n",
    "print(X_test.shape)\n",
    "print(y_test.shape)"
   ]
  },
  {
   "cell_type": "code",
   "execution_count": 6,
   "id": "5262e23b",
   "metadata": {
    "execution": {
     "iopub.execute_input": "2024-12-01T23:57:28.085374Z",
     "iopub.status.busy": "2024-12-01T23:57:28.085136Z",
     "iopub.status.idle": "2024-12-01T23:57:28.091331Z",
     "shell.execute_reply": "2024-12-01T23:57:28.090428Z"
    },
    "papermill": {
     "duration": 0.025349,
     "end_time": "2024-12-01T23:57:28.093092",
     "exception": false,
     "start_time": "2024-12-01T23:57:28.067743",
     "status": "completed"
    },
    "tags": []
   },
   "outputs": [
    {
     "name": "stdout",
     "output_type": "stream",
     "text": [
      "['Early_Blight' 'Healthy' 'Late_Blight']\n",
      "['Early_Blight' 'Healthy' 'Late_Blight']\n"
     ]
    }
   ],
   "source": [
    "print(np.unique(y_test))\n",
    "print(np.unique(y_train))"
   ]
  },
  {
   "cell_type": "code",
   "execution_count": 7,
   "id": "55692b2d",
   "metadata": {
    "execution": {
     "iopub.execute_input": "2024-12-01T23:57:28.127371Z",
     "iopub.status.busy": "2024-12-01T23:57:28.127151Z",
     "iopub.status.idle": "2024-12-01T23:57:28.134025Z",
     "shell.execute_reply": "2024-12-01T23:57:28.133375Z"
    },
    "papermill": {
     "duration": 0.025431,
     "end_time": "2024-12-01T23:57:28.135634",
     "exception": false,
     "start_time": "2024-12-01T23:57:28.110203",
     "status": "completed"
    },
    "tags": []
   },
   "outputs": [],
   "source": [
    "y_train_new = []\n",
    "for i in y_train:\n",
    "    y_train_new.append(labels.index(i))\n",
    "y_train = y_train_new\n",
    "y_train = tf.keras.utils.to_categorical(y_train)\n",
    "\n",
    "\n",
    "y_test_new = []\n",
    "for i in y_test:\n",
    "    y_test_new.append(labels.index(i))\n",
    "y_test = y_test_new\n",
    "y_test = tf.keras.utils.to_categorical(y_test)"
   ]
  },
  {
   "cell_type": "code",
   "execution_count": 8,
   "id": "6abfd00e",
   "metadata": {
    "execution": {
     "iopub.execute_input": "2024-12-01T23:57:28.168949Z",
     "iopub.status.busy": "2024-12-01T23:57:28.168742Z",
     "iopub.status.idle": "2024-12-01T23:57:28.178518Z",
     "shell.execute_reply": "2024-12-01T23:57:28.177783Z"
    },
    "papermill": {
     "duration": 0.028213,
     "end_time": "2024-12-01T23:57:28.180054",
     "exception": false,
     "start_time": "2024-12-01T23:57:28.151841",
     "status": "completed"
    },
    "tags": []
   },
   "outputs": [],
   "source": [
    "all_model = pd.DataFrame(columns=['Model', 'Accuracy (Train)', 'Precision (Train)', 'Recall (Train)', 'F1 Score (Train)', 'Accuracy (Test)', 'Precision (Test)', 'Recall (Test)', 'F1 Score (Test)', 'Training Time (s)', 'Testing Time (s)','Memory (MB)'])"
   ]
  },
  {
   "cell_type": "code",
   "execution_count": 9,
   "id": "83055494",
   "metadata": {
    "execution": {
     "iopub.execute_input": "2024-12-01T23:57:28.213738Z",
     "iopub.status.busy": "2024-12-01T23:57:28.213496Z",
     "iopub.status.idle": "2024-12-01T23:57:28.226709Z",
     "shell.execute_reply": "2024-12-01T23:57:28.225885Z"
    },
    "papermill": {
     "duration": 0.031883,
     "end_time": "2024-12-01T23:57:28.228274",
     "exception": false,
     "start_time": "2024-12-01T23:57:28.196391",
     "status": "completed"
    },
    "tags": []
   },
   "outputs": [
    {
     "data": {
      "text/html": [
       "<div>\n",
       "<style scoped>\n",
       "    .dataframe tbody tr th:only-of-type {\n",
       "        vertical-align: middle;\n",
       "    }\n",
       "\n",
       "    .dataframe tbody tr th {\n",
       "        vertical-align: top;\n",
       "    }\n",
       "\n",
       "    .dataframe thead th {\n",
       "        text-align: right;\n",
       "    }\n",
       "</style>\n",
       "<table border=\"1\" class=\"dataframe\">\n",
       "  <thead>\n",
       "    <tr style=\"text-align: right;\">\n",
       "      <th></th>\n",
       "      <th>Model</th>\n",
       "      <th>Accuracy (Train)</th>\n",
       "      <th>Precision (Train)</th>\n",
       "      <th>Recall (Train)</th>\n",
       "      <th>F1 Score (Train)</th>\n",
       "      <th>Accuracy (Test)</th>\n",
       "      <th>Precision (Test)</th>\n",
       "      <th>Recall (Test)</th>\n",
       "      <th>F1 Score (Test)</th>\n",
       "      <th>Training Time (s)</th>\n",
       "      <th>Testing Time (s)</th>\n",
       "      <th>Memory (MB)</th>\n",
       "    </tr>\n",
       "  </thead>\n",
       "  <tbody>\n",
       "  </tbody>\n",
       "</table>\n",
       "</div>"
      ],
      "text/plain": [
       "Empty DataFrame\n",
       "Columns: [Model, Accuracy (Train), Precision (Train), Recall (Train), F1 Score (Train), Accuracy (Test), Precision (Test), Recall (Test), F1 Score (Test), Training Time (s), Testing Time (s), Memory (MB)]\n",
       "Index: []"
      ]
     },
     "execution_count": 9,
     "metadata": {},
     "output_type": "execute_result"
    }
   ],
   "source": [
    "all_model"
   ]
  },
  {
   "cell_type": "markdown",
   "id": "5e3dc87d",
   "metadata": {
    "papermill": {
     "duration": 0.01611,
     "end_time": "2024-12-01T23:57:28.260767",
     "exception": false,
     "start_time": "2024-12-01T23:57:28.244657",
     "status": "completed"
    },
    "tags": []
   },
   "source": [
    "**Feature Extraction from MobileNetV3Large**"
   ]
  },
  {
   "cell_type": "code",
   "execution_count": 10,
   "id": "83e4267a",
   "metadata": {
    "execution": {
     "iopub.execute_input": "2024-12-01T23:57:28.294377Z",
     "iopub.status.busy": "2024-12-01T23:57:28.294167Z",
     "iopub.status.idle": "2024-12-01T23:57:32.446346Z",
     "shell.execute_reply": "2024-12-01T23:57:32.445327Z"
    },
    "papermill": {
     "duration": 4.172128,
     "end_time": "2024-12-01T23:57:32.449196",
     "exception": false,
     "start_time": "2024-12-01T23:57:28.277068",
     "status": "completed"
    },
    "tags": []
   },
   "outputs": [
    {
     "name": "stdout",
     "output_type": "stream",
     "text": [
      "Downloading data from https://storage.googleapis.com/tensorflow/keras-applications/mobilenet_v3/weights_mobilenet_v3_large_224_1.0_float_no_top_v2.h5\n",
      "12683000/12683000 [==============================] - 0s 0us/step\n"
     ]
    }
   ],
   "source": [
    "# Define the base model for feature extraction\n",
    "model = tf.keras.applications.MobileNetV3Large(\n",
    "    include_top=False,  # Exclude fully connected layers\n",
    "    weights=\"imagenet\",  # Pretrained weights from ImageNet\n",
    "    input_shape=(image_size, image_size, 3),  # Input image size\n",
    "    pooling=\"avg\"  # Global average pooling layer to get feature vector\n",
    ")\n",
    "\n",
    "# Freeze the base model to prevent updates during feature extraction\n",
    "model.trainable = False\n"
   ]
  },
  {
   "cell_type": "code",
   "execution_count": 11,
   "id": "5572e688",
   "metadata": {
    "execution": {
     "iopub.execute_input": "2024-12-01T23:57:32.493136Z",
     "iopub.status.busy": "2024-12-01T23:57:32.492819Z",
     "iopub.status.idle": "2024-12-01T23:57:40.880952Z",
     "shell.execute_reply": "2024-12-01T23:57:40.880063Z"
    },
    "papermill": {
     "duration": 8.40808,
     "end_time": "2024-12-01T23:57:40.882854",
     "exception": false,
     "start_time": "2024-12-01T23:57:32.474774",
     "status": "completed"
    },
    "tags": []
   },
   "outputs": [
    {
     "name": "stdout",
     "output_type": "stream",
     "text": [
      "138/138 [==============================] - 7s 21ms/step\n"
     ]
    }
   ],
   "source": [
    "# Use the base model to extract features\n",
    "X_train = model.predict(X_train, batch_size=32, verbose=1)"
   ]
  },
  {
   "cell_type": "code",
   "execution_count": 12,
   "id": "1ce6249d",
   "metadata": {
    "execution": {
     "iopub.execute_input": "2024-12-01T23:57:40.922639Z",
     "iopub.status.busy": "2024-12-01T23:57:40.922086Z",
     "iopub.status.idle": "2024-12-01T23:57:40.926227Z",
     "shell.execute_reply": "2024-12-01T23:57:40.925557Z"
    },
    "papermill": {
     "duration": 0.025172,
     "end_time": "2024-12-01T23:57:40.927774",
     "exception": false,
     "start_time": "2024-12-01T23:57:40.902602",
     "status": "completed"
    },
    "tags": []
   },
   "outputs": [],
   "source": [
    "# If labels are one-hot encoded, convert to class indices\n",
    "if y_train.shape[-1] > 1:\n",
    "    y_train = np.argmax(y_train, axis=1)"
   ]
  },
  {
   "cell_type": "code",
   "execution_count": 13,
   "id": "326476ec",
   "metadata": {
    "execution": {
     "iopub.execute_input": "2024-12-01T23:57:40.967659Z",
     "iopub.status.busy": "2024-12-01T23:57:40.967065Z",
     "iopub.status.idle": "2024-12-01T23:57:40.971390Z",
     "shell.execute_reply": "2024-12-01T23:57:40.970578Z"
    },
    "papermill": {
     "duration": 0.025144,
     "end_time": "2024-12-01T23:57:40.972872",
     "exception": false,
     "start_time": "2024-12-01T23:57:40.947728",
     "status": "completed"
    },
    "tags": []
   },
   "outputs": [
    {
     "name": "stdout",
     "output_type": "stream",
     "text": [
      "Extracted features shape: (4398, 960)\n",
      "Labels shape: (4398,)\n"
     ]
    }
   ],
   "source": [
    "# X_train now contains the extracted features, and y_train contains the labels\n",
    "print(\"Extracted features shape:\", X_train.shape)\n",
    "print(\"Labels shape:\", y_train.shape)"
   ]
  },
  {
   "cell_type": "code",
   "execution_count": 14,
   "id": "e9d3713f",
   "metadata": {
    "execution": {
     "iopub.execute_input": "2024-12-01T23:57:41.011157Z",
     "iopub.status.busy": "2024-12-01T23:57:41.010909Z",
     "iopub.status.idle": "2024-12-01T23:57:41.778218Z",
     "shell.execute_reply": "2024-12-01T23:57:41.777516Z"
    },
    "papermill": {
     "duration": 0.788249,
     "end_time": "2024-12-01T23:57:41.779856",
     "exception": false,
     "start_time": "2024-12-01T23:57:40.991607",
     "status": "completed"
    },
    "tags": []
   },
   "outputs": [
    {
     "name": "stdout",
     "output_type": "stream",
     "text": [
      "16/16 [==============================] - 1s 43ms/step\n"
     ]
    }
   ],
   "source": [
    "# Use the base model to extract features from test data\n",
    "X_test = model.predict(X_test, batch_size=32, verbose=1)"
   ]
  },
  {
   "cell_type": "code",
   "execution_count": 15,
   "id": "6f24c5be",
   "metadata": {
    "execution": {
     "iopub.execute_input": "2024-12-01T23:57:41.819520Z",
     "iopub.status.busy": "2024-12-01T23:57:41.819244Z",
     "iopub.status.idle": "2024-12-01T23:57:41.823184Z",
     "shell.execute_reply": "2024-12-01T23:57:41.822502Z"
    },
    "papermill": {
     "duration": 0.025272,
     "end_time": "2024-12-01T23:57:41.824709",
     "exception": false,
     "start_time": "2024-12-01T23:57:41.799437",
     "status": "completed"
    },
    "tags": []
   },
   "outputs": [],
   "source": [
    "# If labels are one-hot encoded, convert to class indices\n",
    "if y_test.shape[-1] > 1:\n",
    "    y_test = np.argmax(y_test, axis=1)"
   ]
  },
  {
   "cell_type": "code",
   "execution_count": 16,
   "id": "e0163e88",
   "metadata": {
    "execution": {
     "iopub.execute_input": "2024-12-01T23:57:41.863178Z",
     "iopub.status.busy": "2024-12-01T23:57:41.862938Z",
     "iopub.status.idle": "2024-12-01T23:57:41.867092Z",
     "shell.execute_reply": "2024-12-01T23:57:41.866368Z"
    },
    "papermill": {
     "duration": 0.025367,
     "end_time": "2024-12-01T23:57:41.868792",
     "exception": false,
     "start_time": "2024-12-01T23:57:41.843425",
     "status": "completed"
    },
    "tags": []
   },
   "outputs": [
    {
     "name": "stdout",
     "output_type": "stream",
     "text": [
      "Extracted features shape: (486, 960)\n",
      "Labels shape: (486,)\n"
     ]
    }
   ],
   "source": [
    "# X_test now contains the extracted features, and y_test contains the labels\n",
    "print(\"Extracted features shape:\", X_test.shape)\n",
    "print(\"Labels shape:\", y_test.shape)"
   ]
  },
  {
   "cell_type": "code",
   "execution_count": 17,
   "id": "d0494789",
   "metadata": {
    "execution": {
     "iopub.execute_input": "2024-12-01T23:57:41.907558Z",
     "iopub.status.busy": "2024-12-01T23:57:41.907306Z",
     "iopub.status.idle": "2024-12-01T23:57:42.219530Z",
     "shell.execute_reply": "2024-12-01T23:57:42.218849Z"
    },
    "papermill": {
     "duration": 0.333949,
     "end_time": "2024-12-01T23:57:42.221413",
     "exception": false,
     "start_time": "2024-12-01T23:57:41.887464",
     "status": "completed"
    },
    "tags": []
   },
   "outputs": [],
   "source": [
    "from sklearn.ensemble import StackingClassifier\n",
    "from sklearn.ensemble import RandomForestClassifier\n",
    "from sklearn.svm import SVC\n",
    "from sklearn.neighbors import KNeighborsClassifier\n",
    "from sklearn.linear_model import LogisticRegression\n",
    "from sklearn.neural_network import MLPClassifier\n",
    "from sklearn.tree import DecisionTreeClassifier\n",
    "from sklearn.naive_bayes import GaussianNB\n",
    "from sklearn.model_selection import train_test_split\n",
    "from sklearn.metrics import accuracy_score\n",
    "from sklearn.ensemble import GradientBoostingClassifier\n",
    "\n",
    "# Define the Level 0 classifiers\n",
    "level_0_estimators = [\n",
    "    ('svm', SVC(kernel='rbf',C=1.0,gamma='scale',decision_function_shape='ovr')),\n",
    "    ('knn', KNeighborsClassifier()),\n",
    "    ('logistic', LogisticRegression(multi_class='multinomial',solver='lbfgs',C=1.0,max_iter=1000,random_state=42 )),\n",
    "    ('mlp', MLPClassifier(random_state=42)),\n",
    "    ('decision_tree', DecisionTreeClassifier(criterion='gini',max_depth=20,min_samples_split=5,min_samples_leaf=3,max_features='sqrt',random_state=42)),\n",
    "    ('naive_bayes', GaussianNB(var_smoothing=1e-8))\n",
    "]\n",
    "\n",
    "# Define the Level 1 classifier (meta-classifier)\n",
    "level_1_meta_classifier = GradientBoostingClassifier(\n",
    "    n_estimators=300,            \n",
    "    learning_rate=0.05,          \n",
    "    max_depth=5,                 \n",
    "    min_samples_split=5,         \n",
    "    min_samples_leaf=3,          \n",
    "    max_features='sqrt',         \n",
    "    subsample=0.9,               \n",
    "    random_state=42              \n",
    ")\n",
    "\n",
    "# Create the Stacking Classifier\n",
    "stacking_clf = StackingClassifier(\n",
    "    estimators=level_0_estimators,\n",
    "    final_estimator=level_1_meta_classifier,\n",
    "    cv=5\n",
    ")"
   ]
  },
  {
   "cell_type": "code",
   "execution_count": 18,
   "id": "7432099c",
   "metadata": {
    "execution": {
     "iopub.execute_input": "2024-12-01T23:57:42.261272Z",
     "iopub.status.busy": "2024-12-01T23:57:42.260499Z",
     "iopub.status.idle": "2024-12-01T23:58:53.582846Z",
     "shell.execute_reply": "2024-12-01T23:58:53.581932Z"
    },
    "papermill": {
     "duration": 71.363163,
     "end_time": "2024-12-01T23:58:53.604104",
     "exception": false,
     "start_time": "2024-12-01T23:57:42.240941",
     "status": "completed"
    },
    "tags": []
   },
   "outputs": [
    {
     "name": "stdout",
     "output_type": "stream",
     "text": [
      "Training Time: 71.32 seconds\n",
      "Memory Usage: 3471.48 MB\n"
     ]
    }
   ],
   "source": [
    "import time\n",
    "\n",
    "# Start timer\n",
    "start_time = time.time()\n",
    "\n",
    "# Train the stacking classifier\n",
    "stacking_clf.fit(X_train, y_train)\n",
    "\n",
    "# Measure training time\n",
    "training_time = time.time() - start_time\n",
    "print(f\"Training Time: {training_time:.2f} seconds\")\n",
    "\n",
    "# Evaluate memory usage (optional, requires `psutil` library)\n",
    "import psutil\n",
    "memory_usage = psutil.Process().memory_info().rss / 1024 / 1024\n",
    "print(f\"Memory Usage: {memory_usage:.2f} MB\")"
   ]
  },
  {
   "cell_type": "code",
   "execution_count": 19,
   "id": "efad0f12",
   "metadata": {
    "execution": {
     "iopub.execute_input": "2024-12-01T23:58:53.643296Z",
     "iopub.status.busy": "2024-12-01T23:58:53.643052Z",
     "iopub.status.idle": "2024-12-01T23:58:54.086350Z",
     "shell.execute_reply": "2024-12-01T23:58:54.082906Z"
    },
    "papermill": {
     "duration": 0.466994,
     "end_time": "2024-12-01T23:58:54.090214",
     "exception": false,
     "start_time": "2024-12-01T23:58:53.623220",
     "status": "completed"
    },
    "tags": []
   },
   "outputs": [],
   "source": [
    "# make predictions on the test data\n",
    "start_time = time.time()\n",
    "y_pred = stacking_clf.predict(X_test)\n",
    "testing_time = time.time() - start_time"
   ]
  },
  {
   "cell_type": "code",
   "execution_count": 20,
   "id": "fff70f78",
   "metadata": {
    "execution": {
     "iopub.execute_input": "2024-12-01T23:58:54.204175Z",
     "iopub.status.busy": "2024-12-01T23:58:54.203870Z",
     "iopub.status.idle": "2024-12-01T23:58:54.516743Z",
     "shell.execute_reply": "2024-12-01T23:58:54.515979Z"
    },
    "papermill": {
     "duration": 0.364841,
     "end_time": "2024-12-01T23:58:54.518428",
     "exception": false,
     "start_time": "2024-12-01T23:58:54.153587",
     "status": "completed"
    },
    "tags": []
   },
   "outputs": [
    {
     "name": "stdout",
     "output_type": "stream",
     "text": [
      "Confusion matrix, without normalization\n"
     ]
    },
    {
     "data": {
      "image/png": "[encoded data removed]",
      "text/plain": [
       "<Figure size 500x500 with 2 Axes>"
      ]
     },
     "metadata": {},
     "output_type": "display_data"
    }
   ],
   "source": [
    "import itertools\n",
    "def plot_confusion_matrix(cm, classes,\n",
    "                          normalize=False,\n",
    "                          title='',\n",
    "                          cmap=plt.cm.Greens):\n",
    "    \"\"\"\n",
    "    This function prints and plots the confusion matrix.\n",
    "    Normalization can be applied by setting `normalize=True`.\n",
    "    \"\"\"\n",
    "    if normalize:\n",
    "        cm = cm.astype('float') / cm.sum(axis=1)[:, np.newaxis]\n",
    "        print(\"Normalized confusion matrix\")\n",
    "    else:\n",
    "        print('Confusion matrix, without normalization')\n",
    "\n",
    "    plt.imshow(cm, interpolation='nearest', cmap=cmap)\n",
    "    plt.title(title)\n",
    "    plt.colorbar()\n",
    "    tick_marks = np.arange(len(classes))\n",
    "    plt.xticks(tick_marks, classes, rotation=45,fontweight='bold')\n",
    "    plt.yticks(tick_marks, classes, fontweight='bold')\n",
    "\n",
    "    for i in range(cm.shape[0]):\n",
    "        for j in range(cm.shape[1]):\n",
    "            plt.text(j, i, format(cm[i, j], 'd'),\n",
    "                    ha=\"center\", va=\"center\", fontweight='bold',\n",
    "                    color=\"white\" if cm[i, j] > cm.max() / 2. else \"black\")\n",
    "\n",
    "    plt.tight_layout()\n",
    "    plt.ylabel('True label',fontweight='bold')\n",
    "    plt.xlabel('Predicted label',fontweight='bold')\n",
    "\n",
    "# Compute confusion matrix\n",
    "cnf_matrix = confusion_matrix(y_test, y_pred)\n",
    "np.set_printoptions(precision=2)\n",
    "\n",
    "# Plot non-normalized confusion matrix\n",
    "plt.figure(figsize=(5,5))\n",
    "plot_confusion_matrix(cnf_matrix, classes=['EB','H','LB']\n",
    "                      )\n",
    "plt.show()"
   ]
  },
  {
   "cell_type": "code",
   "execution_count": 21,
   "id": "b9b2e8dc",
   "metadata": {
    "execution": {
     "iopub.execute_input": "2024-12-01T23:58:54.558618Z",
     "iopub.status.busy": "2024-12-01T23:58:54.558360Z",
     "iopub.status.idle": "2024-12-01T23:58:54.563450Z",
     "shell.execute_reply": "2024-12-01T23:58:54.562768Z"
    },
    "papermill": {
     "duration": 0.026837,
     "end_time": "2024-12-01T23:58:54.564948",
     "exception": false,
     "start_time": "2024-12-01T23:58:54.538111",
     "status": "completed"
    },
    "tags": []
   },
   "outputs": [
    {
     "data": {
      "text/plain": [
       "(486,)"
      ]
     },
     "execution_count": 21,
     "metadata": {},
     "output_type": "execute_result"
    }
   ],
   "source": [
    "y_pred.shape"
   ]
  },
  {
   "cell_type": "code",
   "execution_count": 22,
   "id": "f34573ff",
   "metadata": {
    "execution": {
     "iopub.execute_input": "2024-12-01T23:58:54.604717Z",
     "iopub.status.busy": "2024-12-01T23:58:54.604465Z",
     "iopub.status.idle": "2024-12-01T23:58:54.615172Z",
     "shell.execute_reply": "2024-12-01T23:58:54.614329Z"
    },
    "papermill": {
     "duration": 0.032244,
     "end_time": "2024-12-01T23:58:54.616736",
     "exception": false,
     "start_time": "2024-12-01T23:58:54.584492",
     "status": "completed"
    },
    "tags": []
   },
   "outputs": [
    {
     "name": "stdout",
     "output_type": "stream",
     "text": [
      "Accuracy (Test): 98.9712\n",
      "Precision (Test): 98.9849\n",
      "Recall (Test): 98.9712\n",
      "F1 score (Test): 98.9698\n"
     ]
    }
   ],
   "source": [
    "accuracy_test = accuracy_score(y_test, y_pred)*100\n",
    "precision_test = precision_score(y_test, y_pred, average='macro')*100\n",
    "recall_test = recall_score(y_test, y_pred, average='macro')*100\n",
    "f1_test = f1_score(y_test, y_pred, average='macro')*100\n",
    "\n",
    "print(\"Accuracy (Test): {:.4f}\".format(accuracy_test))\n",
    "print(\"Precision (Test): {:.4f}\".format(precision_test))\n",
    "print(\"Recall (Test): {:.4f}\".format(recall_test))\n",
    "print(\"F1 score (Test): {:.4f}\".format(f1_test))"
   ]
  },
  {
   "cell_type": "code",
   "execution_count": 23,
   "id": "6da96d34",
   "metadata": {
    "execution": {
     "iopub.execute_input": "2024-12-01T23:58:54.656733Z",
     "iopub.status.busy": "2024-12-01T23:58:54.656521Z",
     "iopub.status.idle": "2024-12-01T23:58:58.469687Z",
     "shell.execute_reply": "2024-12-01T23:58:58.468940Z"
    },
    "papermill": {
     "duration": 3.835479,
     "end_time": "2024-12-01T23:58:58.471766",
     "exception": false,
     "start_time": "2024-12-01T23:58:54.636287",
     "status": "completed"
    },
    "tags": []
   },
   "outputs": [],
   "source": [
    "# make predictions on the train data\n",
    "y_pred = stacking_clf.predict(X_train)"
   ]
  },
  {
   "cell_type": "code",
   "execution_count": 24,
   "id": "ea31f2bc",
   "metadata": {
    "execution": {
     "iopub.execute_input": "2024-12-01T23:58:58.512922Z",
     "iopub.status.busy": "2024-12-01T23:58:58.512656Z",
     "iopub.status.idle": "2024-12-01T23:58:58.692858Z",
     "shell.execute_reply": "2024-12-01T23:58:58.691785Z"
    },
    "papermill": {
     "duration": 0.204479,
     "end_time": "2024-12-01T23:58:58.696660",
     "exception": false,
     "start_time": "2024-12-01T23:58:58.492181",
     "status": "completed"
    },
    "tags": []
   },
   "outputs": [
    {
     "name": "stdout",
     "output_type": "stream",
     "text": [
      "Confusion matrix, without normalization\n"
     ]
    },
    {
     "data": {
      "image/png": "[encoded data removed]",
      "text/plain": [
       "<Figure size 500x500 with 2 Axes>"
      ]
     },
     "metadata": {},
     "output_type": "display_data"
    }
   ],
   "source": [
    "def plot_confusion_matrix(cm, classes,\n",
    "                          normalize=False,\n",
    "                          title='',\n",
    "                          cmap=plt.cm.Greens):\n",
    "    \"\"\"\n",
    "    This function prints and plots the confusion matrix.\n",
    "    Normalization can be applied by setting `normalize=True`.\n",
    "    \"\"\"\n",
    "    if normalize:\n",
    "        cm = cm.astype('float') / cm.sum(axis=1)[:, np.newaxis]\n",
    "        print(\"Normalized confusion matrix\")\n",
    "    else:\n",
    "        print('Confusion matrix, without normalization')\n",
    "\n",
    "    plt.imshow(cm, interpolation='nearest', cmap=cmap)\n",
    "    plt.title(title)\n",
    "    plt.colorbar()\n",
    "    tick_marks = np.arange(len(classes))\n",
    "    plt.xticks(tick_marks, classes, rotation=45,fontweight='bold')\n",
    "    plt.yticks(tick_marks, classes, fontweight='bold')\n",
    "\n",
    "    for i in range(cm.shape[0]):\n",
    "        for j in range(cm.shape[1]):\n",
    "            plt.text(j, i, format(cm[i, j], 'd'),\n",
    "                    ha=\"center\", va=\"center\", fontweight='bold',\n",
    "                    color=\"white\" if cm[i, j] > cm.max() / 2. else \"black\")\n",
    "\n",
    "    plt.tight_layout()\n",
    "    plt.ylabel('True label',fontweight='bold')\n",
    "    plt.xlabel('Predicted label',fontweight='bold')\n",
    "\n",
    "# Compute confusion matrix\n",
    "cnf_matrix = confusion_matrix(y_train, y_pred)\n",
    "np.set_printoptions(precision=2)\n",
    "\n",
    "# Plot non-normalized confusion matrix\n",
    "plt.figure(figsize=(5,5))\n",
    "plot_confusion_matrix(cnf_matrix, classes=['EB','H','LB']\n",
    "                      )\n",
    "plt.show()"
   ]
  },
  {
   "cell_type": "code",
   "execution_count": 25,
   "id": "71c45d7c",
   "metadata": {
    "execution": {
     "iopub.execute_input": "2024-12-01T23:58:58.752688Z",
     "iopub.status.busy": "2024-12-01T23:58:58.752424Z",
     "iopub.status.idle": "2024-12-01T23:58:58.763907Z",
     "shell.execute_reply": "2024-12-01T23:58:58.763074Z"
    },
    "papermill": {
     "duration": 0.034886,
     "end_time": "2024-12-01T23:58:58.765555",
     "exception": false,
     "start_time": "2024-12-01T23:58:58.730669",
     "status": "completed"
    },
    "tags": []
   },
   "outputs": [
    {
     "name": "stdout",
     "output_type": "stream",
     "text": [
      "Accuracy (Train): 99.9545\n",
      "Precision (Train): 99.9546\n",
      "Recall (Train): 99.9545\n",
      "F1 score (Train): 99.9545\n"
     ]
    }
   ],
   "source": [
    "accuracy_train = accuracy_score(y_train, y_pred)*100\n",
    "precision_train = precision_score(y_train, y_pred, average='macro')*100\n",
    "recall_train = recall_score(y_train, y_pred, average='macro')*100\n",
    "f1_train = f1_score(y_train, y_pred, average='macro')*100\n",
    "\n",
    "print(\"Accuracy (Train): {:.4f}\".format(accuracy_train))\n",
    "print(\"Precision (Train): {:.4f}\".format(precision_train))\n",
    "print(\"Recall (Train): {:.4f}\".format(recall_train))\n",
    "print(\"F1 score (Train): {:.4f}\".format(f1_train))"
   ]
  },
  {
   "cell_type": "code",
   "execution_count": 26,
   "id": "00610637",
   "metadata": {
    "execution": {
     "iopub.execute_input": "2024-12-01T23:58:58.809342Z",
     "iopub.status.busy": "2024-12-01T23:58:58.809064Z",
     "iopub.status.idle": "2024-12-01T23:58:58.815985Z",
     "shell.execute_reply": "2024-12-01T23:58:58.815261Z"
    },
    "papermill": {
     "duration": 0.029685,
     "end_time": "2024-12-01T23:58:58.817611",
     "exception": false,
     "start_time": "2024-12-01T23:58:58.787926",
     "status": "completed"
    },
    "tags": []
   },
   "outputs": [],
   "source": [
    "model_name='MobileNetV3Large-GB'\n",
    "all_model.loc[len(all_model)] = [model_name, accuracy_train, precision_train, recall_train, f1_train, accuracy_test, precision_test, recall_test, f1_test, training_time, testing_time, memory_usage]"
   ]
  },
  {
   "cell_type": "code",
   "execution_count": 27,
   "id": "68b8aa5d",
   "metadata": {
    "execution": {
     "iopub.execute_input": "2024-12-01T23:58:58.858742Z",
     "iopub.status.busy": "2024-12-01T23:58:58.858510Z",
     "iopub.status.idle": "2024-12-01T23:58:58.871220Z",
     "shell.execute_reply": "2024-12-01T23:58:58.870198Z"
    },
    "papermill": {
     "duration": 0.035058,
     "end_time": "2024-12-01T23:58:58.872914",
     "exception": false,
     "start_time": "2024-12-01T23:58:58.837856",
     "status": "completed"
    },
    "tags": []
   },
   "outputs": [
    {
     "data": {
      "text/html": [
       "<div>\n",
       "<style scoped>\n",
       "    .dataframe tbody tr th:only-of-type {\n",
       "        vertical-align: middle;\n",
       "    }\n",
       "\n",
       "    .dataframe tbody tr th {\n",
       "        vertical-align: top;\n",
       "    }\n",
       "\n",
       "    .dataframe thead th {\n",
       "        text-align: right;\n",
       "    }\n",
       "</style>\n",
       "<table border=\"1\" class=\"dataframe\">\n",
       "  <thead>\n",
       "    <tr style=\"text-align: right;\">\n",
       "      <th></th>\n",
       "      <th>Model</th>\n",
       "      <th>Accuracy (Train)</th>\n",
       "      <th>Precision (Train)</th>\n",
       "      <th>Recall (Train)</th>\n",
       "      <th>F1 Score (Train)</th>\n",
       "      <th>Accuracy (Test)</th>\n",
       "      <th>Precision (Test)</th>\n",
       "      <th>Recall (Test)</th>\n",
       "      <th>F1 Score (Test)</th>\n",
       "      <th>Training Time (s)</th>\n",
       "      <th>Testing Time (s)</th>\n",
       "      <th>Memory (MB)</th>\n",
       "    </tr>\n",
       "  </thead>\n",
       "  <tbody>\n",
       "    <tr>\n",
       "      <th>0</th>\n",
       "      <td>MobileNetV3Large-GB</td>\n",
       "      <td>99.954525</td>\n",
       "      <td>99.954556</td>\n",
       "      <td>99.954525</td>\n",
       "      <td>99.954517</td>\n",
       "      <td>98.971193</td>\n",
       "      <td>98.984941</td>\n",
       "      <td>98.971193</td>\n",
       "      <td>98.969831</td>\n",
       "      <td>71.316072</td>\n",
       "      <td>0.436987</td>\n",
       "      <td>3471.476562</td>\n",
       "    </tr>\n",
       "  </tbody>\n",
       "</table>\n",
       "</div>"
      ],
      "text/plain": [
       "                 Model  Accuracy (Train)  Precision (Train)  Recall (Train)  \\\n",
       "0  MobileNetV3Large-GB         99.954525          99.954556       99.954525   \n",
       "\n",
       "   F1 Score (Train)  Accuracy (Test)  Precision (Test)  Recall (Test)  \\\n",
       "0         99.954517        98.971193         98.984941      98.971193   \n",
       "\n",
       "   F1 Score (Test)  Training Time (s)  Testing Time (s)  Memory (MB)  \n",
       "0        98.969831          71.316072          0.436987  3471.476562  "
      ]
     },
     "execution_count": 27,
     "metadata": {},
     "output_type": "execute_result"
    }
   ],
   "source": [
    "all_model"
   ]
  }
 ],
 "metadata": {
  "kaggle": {
   "accelerator": "gpu",
   "dataSources": [
    {
     "datasetId": 1562973,
     "sourceId": 2574068,
     "sourceType": "datasetVersion"
    },
    {
     "datasetId": 6161628,
     "sourceId": 10008956,
     "sourceType": "datasetVersion"
    }
   ],
   "dockerImageVersionId": 30528,
   "isGpuEnabled": true,
   "isInternetEnabled": true,
   "language": "python",
   "sourceType": "notebook"
  },
  "kernelspec": {
   "display_name": "Python 3",
   "language": "python",
   "name": "python3"
  },
  "language_info": {
   "codemirror_mode": {
    "name": "ipython",
    "version": 3
   },
   "file_extension": ".py",
   "mimetype": "text/x-python",
   "name": "python",
   "nbconvert_exporter": "python",
   "pygments_lexer": "ipython3",
   "version": "3.10.12"
  },
  "papermill": {
   "default_parameters": {},
   "duration": 140.572032,
   "end_time": "2024-12-01T23:59:02.179425",
   "environment_variables": {},
   "exception": null,
   "input_path": "__notebook__.ipynb",
   "output_path": "__notebook__.ipynb",
   "parameters": {},
   "start_time": "2024-12-01T23:56:41.607393",
   "version": "2.4.0"
  }
 },
 "nbformat": 4,
 "nbformat_minor": 5
}
