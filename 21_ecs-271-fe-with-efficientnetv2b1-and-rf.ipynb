{
 "cells": [
  {
   "cell_type": "code",
   "execution_count": 1,
   "id": "fe4e4b56",
   "metadata": {
    "_cell_guid": "b1076dfc-b9ad-4769-8c92-a6c4dae69d19",
    "_uuid": "8f2839f25d086af736a60e9eeb907d3b93b6e0e5",
    "execution": {
     "iopub.execute_input": "2024-12-06T03:57:11.902262Z",
     "iopub.status.busy": "2024-12-06T03:57:11.901190Z",
     "iopub.status.idle": "2024-12-06T03:57:11.911805Z",
     "shell.execute_reply": "2024-12-06T03:57:11.910864Z"
    },
    "papermill": {
     "duration": 0.019955,
     "end_time": "2024-12-06T03:57:11.913768",
     "exception": false,
     "start_time": "2024-12-06T03:57:11.893813",
     "status": "completed"
    },
    "tags": []
   },
   "outputs": [],
   "source": [
    "# This Python 3 environment comes with many helpful analytics libraries installed\n",
    "# It is defined by the kaggle/python Docker image: https://github.com/kaggle/docker-python\n",
    "# For example, here's several helpful packages to load\n",
    "\n",
    "import numpy as np # linear algebra\n",
    "import pandas as pd # data processing, CSV file I/O (e.g. pd.read_csv)\n",
    "\n",
    "# Input data files are available in the read-only \"../input/\" directory\n",
    "# For example, running this (by clicking run or pressing Shift+Enter) will list all files under the input directory\n",
    "\n",
    "# import os\n",
    "# for dirname, _, filenames in os.walk('/kaggle/input'):\n",
    "#     for filename in filenames:\n",
    "#         print(os.path.join(dirname, filename))\n",
    "\n",
    "# You can write up to 20GB to the current directory (/kaggle/working/) that gets preserved as output when you create a version using \"Save & Run All\" \n",
    "# You can also write temporary files to /kaggle/temp/, but they won't be saved outside of the current session"
   ]
  },
  {
   "cell_type": "code",
   "execution_count": 2,
   "id": "09ab2732",
   "metadata": {
    "execution": {
     "iopub.execute_input": "2024-12-06T03:57:11.926995Z",
     "iopub.status.busy": "2024-12-06T03:57:11.926345Z",
     "iopub.status.idle": "2024-12-06T03:57:21.609828Z",
     "shell.execute_reply": "2024-12-06T03:57:21.608776Z"
    },
    "papermill": {
     "duration": 9.692257,
     "end_time": "2024-12-06T03:57:21.612208",
     "exception": false,
     "start_time": "2024-12-06T03:57:11.919951",
     "status": "completed"
    },
    "tags": []
   },
   "outputs": [
    {
     "name": "stderr",
     "output_type": "stream",
     "text": [
      "/opt/conda/lib/python3.10/site-packages/scipy/__init__.py:146: UserWarning: A NumPy version >=1.16.5 and <1.23.0 is required for this version of SciPy (detected version 1.23.5\n",
      "  warnings.warn(f\"A NumPy version >={np_minversion} and <{np_maxversion}\"\n",
      "/opt/conda/lib/python3.10/site-packages/tensorflow_io/python/ops/__init__.py:98: UserWarning: unable to load libtensorflow_io_plugins.so: unable to open file: libtensorflow_io_plugins.so, from paths: ['/opt/conda/lib/python3.10/site-packages/tensorflow_io/python/ops/libtensorflow_io_plugins.so']\n",
      "caused by: ['/opt/conda/lib/python3.10/site-packages/tensorflow_io/python/ops/libtensorflow_io_plugins.so: undefined symbol: _ZN3tsl6StatusC1EN10tensorflow5error4CodeESt17basic_string_viewIcSt11char_traitsIcEENS_14SourceLocationE']\n",
      "  warnings.warn(f\"unable to load libtensorflow_io_plugins.so: {e}\")\n",
      "/opt/conda/lib/python3.10/site-packages/tensorflow_io/python/ops/__init__.py:104: UserWarning: file system plugins are not loaded: unable to open file: libtensorflow_io.so, from paths: ['/opt/conda/lib/python3.10/site-packages/tensorflow_io/python/ops/libtensorflow_io.so']\n",
      "caused by: ['/opt/conda/lib/python3.10/site-packages/tensorflow_io/python/ops/libtensorflow_io.so: undefined symbol: _ZTVN10tensorflow13GcsFileSystemE']\n",
      "  warnings.warn(f\"file system plugins are not loaded: {e}\")\n"
     ]
    }
   ],
   "source": [
    "import matplotlib.pyplot as plt\n",
    "import numpy as np\n",
    "import pandas as pd\n",
    "import seaborn as sns\n",
    "import cv2\n",
    "import tensorflow as tf\n",
    "from tensorflow.keras.preprocessing.image import ImageDataGenerator\n",
    "from tqdm import tqdm\n",
    "import os\n",
    "from sklearn.utils import shuffle\n",
    "from sklearn.model_selection import train_test_split\n",
    "from tensorflow.keras.applications import EfficientNetB0, DenseNet201\n",
    "from tensorflow.keras.callbacks import EarlyStopping, ReduceLROnPlateau, TensorBoard, ModelCheckpoint\n",
    "from sklearn.metrics import classification_report,confusion_matrix\n",
    "import ipywidgets as widgets\n",
    "import io\n",
    "from PIL import Image\n",
    "from IPython.display import display,clear_output\n",
    "from warnings import filterwarnings\n",
    "from keras.models import Sequential\n",
    "from keras.layers import Dense, Flatten, Dropout\n",
    "import time\n",
    "import psutil\n",
    "from sklearn.metrics import accuracy_score, precision_score, recall_score, f1_score"
   ]
  },
  {
   "cell_type": "code",
   "execution_count": 3,
   "id": "5af3d8d4",
   "metadata": {
    "execution": {
     "iopub.execute_input": "2024-12-06T03:57:21.625114Z",
     "iopub.status.busy": "2024-12-06T03:57:21.624050Z",
     "iopub.status.idle": "2024-12-06T03:57:21.628433Z",
     "shell.execute_reply": "2024-12-06T03:57:21.627627Z"
    },
    "papermill": {
     "duration": 0.011911,
     "end_time": "2024-12-06T03:57:21.630069",
     "exception": false,
     "start_time": "2024-12-06T03:57:21.618158",
     "status": "completed"
    },
    "tags": []
   },
   "outputs": [],
   "source": [
    "labels = ['Early_Blight','Healthy','Late_Blight']"
   ]
  },
  {
   "cell_type": "code",
   "execution_count": 4,
   "id": "4e6f24ef",
   "metadata": {
    "execution": {
     "iopub.execute_input": "2024-12-06T03:57:21.641033Z",
     "iopub.status.busy": "2024-12-06T03:57:21.640776Z",
     "iopub.status.idle": "2024-12-06T03:58:11.893876Z",
     "shell.execute_reply": "2024-12-06T03:58:11.893069Z"
    },
    "papermill": {
     "duration": 50.260924,
     "end_time": "2024-12-06T03:58:11.895958",
     "exception": false,
     "start_time": "2024-12-06T03:57:21.635034",
     "status": "completed"
    },
    "tags": []
   },
   "outputs": [
    {
     "name": "stderr",
     "output_type": "stream",
     "text": [
      "100%|██████████| 1303/1303 [00:12<00:00, 107.99it/s]\n",
      "100%|██████████| 1303/1303 [00:13<00:00, 99.52it/s]\n",
      "100%|██████████| 1303/1303 [00:14<00:00, 92.65it/s]\n",
      "100%|██████████| 162/162 [00:01<00:00, 91.07it/s]\n",
      "100%|██████████| 162/162 [00:01<00:00, 95.35it/s]\n",
      "100%|██████████| 162/162 [00:01<00:00, 89.38it/s]\n",
      "100%|██████████| 163/163 [00:01<00:00, 91.45it/s]\n",
      "100%|██████████| 163/163 [00:01<00:00, 96.09it/s]\n",
      "100%|██████████| 163/163 [00:01<00:00, 97.12it/s]\n"
     ]
    }
   ],
   "source": [
    "X_train = []\n",
    "y_train = []\n",
    "X_test = []\n",
    "y_test = []\n",
    "image_size = 224\n",
    "for i in labels:\n",
    "    folderPath = os.path.join('/kaggle/input/balanced-data/balanced_data','Training',i)\n",
    "    for j in tqdm(os.listdir(folderPath)):\n",
    "        img = cv2.imread(os.path.join(folderPath,j))\n",
    "        img = cv2.resize(img,(image_size, image_size))\n",
    "        X_train.append(img)\n",
    "        y_train.append(i)\n",
    "        \n",
    "for i in labels:\n",
    "    folderPath = os.path.join('/kaggle/input/balanced-data/balanced_data','Testing',i)\n",
    "    for j in tqdm(os.listdir(folderPath)):\n",
    "        img = cv2.imread(os.path.join(folderPath,j))\n",
    "        img = cv2.resize(img,(image_size,image_size))\n",
    "        X_test.append(img)\n",
    "        y_test.append(i)\n",
    "        \n",
    "for i in labels:\n",
    "    folderPath = os.path.join('/kaggle/input/balanced-data/balanced_data','Validation',i)\n",
    "    for j in tqdm(os.listdir(folderPath)):\n",
    "        img = cv2.imread(os.path.join(folderPath,j))\n",
    "        img = cv2.resize(img,(image_size,image_size))\n",
    "        X_train.append(img)\n",
    "        y_train.append(i)\n",
    "        \n",
    "X_train = np.array(X_train)\n",
    "y_train = np.array(y_train)\n",
    "X_test = np.array(X_test)\n",
    "y_test = np.array(y_test)"
   ]
  },
  {
   "cell_type": "code",
   "execution_count": 5,
   "id": "041b79d7",
   "metadata": {
    "execution": {
     "iopub.execute_input": "2024-12-06T03:58:11.953575Z",
     "iopub.status.busy": "2024-12-06T03:58:11.952815Z",
     "iopub.status.idle": "2024-12-06T03:58:11.957784Z",
     "shell.execute_reply": "2024-12-06T03:58:11.956917Z"
    },
    "papermill": {
     "duration": 0.036463,
     "end_time": "2024-12-06T03:58:11.960045",
     "exception": false,
     "start_time": "2024-12-06T03:58:11.923582",
     "status": "completed"
    },
    "tags": []
   },
   "outputs": [
    {
     "name": "stdout",
     "output_type": "stream",
     "text": [
      "(4398, 224, 224, 3)\n",
      "(4398,)\n",
      "(486, 224, 224, 3)\n",
      "(486,)\n"
     ]
    }
   ],
   "source": [
    "print(X_train.shape)\n",
    "print(y_train.shape)\n",
    "print(X_test.shape)\n",
    "print(y_test.shape)"
   ]
  },
  {
   "cell_type": "code",
   "execution_count": 6,
   "id": "d48f72eb",
   "metadata": {
    "execution": {
     "iopub.execute_input": "2024-12-06T03:58:12.016148Z",
     "iopub.status.busy": "2024-12-06T03:58:12.015813Z",
     "iopub.status.idle": "2024-12-06T03:58:12.022930Z",
     "shell.execute_reply": "2024-12-06T03:58:12.021923Z"
    },
    "papermill": {
     "duration": 0.03742,
     "end_time": "2024-12-06T03:58:12.024796",
     "exception": false,
     "start_time": "2024-12-06T03:58:11.987376",
     "status": "completed"
    },
    "tags": []
   },
   "outputs": [
    {
     "name": "stdout",
     "output_type": "stream",
     "text": [
      "['Early_Blight' 'Healthy' 'Late_Blight']\n",
      "['Early_Blight' 'Healthy' 'Late_Blight']\n"
     ]
    }
   ],
   "source": [
    "print(np.unique(y_test))\n",
    "print(np.unique(y_train))"
   ]
  },
  {
   "cell_type": "code",
   "execution_count": 7,
   "id": "cc8b2f83",
   "metadata": {
    "execution": {
     "iopub.execute_input": "2024-12-06T03:58:12.081850Z",
     "iopub.status.busy": "2024-12-06T03:58:12.081512Z",
     "iopub.status.idle": "2024-12-06T03:58:12.090481Z",
     "shell.execute_reply": "2024-12-06T03:58:12.089595Z"
    },
    "papermill": {
     "duration": 0.040991,
     "end_time": "2024-12-06T03:58:12.092622",
     "exception": false,
     "start_time": "2024-12-06T03:58:12.051631",
     "status": "completed"
    },
    "tags": []
   },
   "outputs": [],
   "source": [
    "y_train_new = []\n",
    "for i in y_train:\n",
    "    y_train_new.append(labels.index(i))\n",
    "y_train = y_train_new\n",
    "y_train = tf.keras.utils.to_categorical(y_train)\n",
    "\n",
    "\n",
    "y_test_new = []\n",
    "for i in y_test:\n",
    "    y_test_new.append(labels.index(i))\n",
    "y_test = y_test_new\n",
    "y_test = tf.keras.utils.to_categorical(y_test)"
   ]
  },
  {
   "cell_type": "code",
   "execution_count": 8,
   "id": "32a87ae7",
   "metadata": {
    "execution": {
     "iopub.execute_input": "2024-12-06T03:58:12.152155Z",
     "iopub.status.busy": "2024-12-06T03:58:12.151795Z",
     "iopub.status.idle": "2024-12-06T03:58:12.163037Z",
     "shell.execute_reply": "2024-12-06T03:58:12.162068Z"
    },
    "papermill": {
     "duration": 0.043081,
     "end_time": "2024-12-06T03:58:12.164920",
     "exception": false,
     "start_time": "2024-12-06T03:58:12.121839",
     "status": "completed"
    },
    "tags": []
   },
   "outputs": [],
   "source": [
    "all_model = pd.DataFrame(columns=['Model', 'Accuracy (Train)', 'Precision (Train)', 'Recall (Train)', 'F1 Score (Train)', 'Accuracy (Test)', 'Precision (Test)', 'Recall (Test)', 'F1 Score (Test)', 'Training Time (s)', 'Testing Time (s)','Memory (MB)'])"
   ]
  },
  {
   "cell_type": "code",
   "execution_count": 9,
   "id": "337ec277",
   "metadata": {
    "execution": {
     "iopub.execute_input": "2024-12-06T03:58:12.219635Z",
     "iopub.status.busy": "2024-12-06T03:58:12.219004Z",
     "iopub.status.idle": "2024-12-06T03:58:12.234265Z",
     "shell.execute_reply": "2024-12-06T03:58:12.233271Z"
    },
    "papermill": {
     "duration": 0.044573,
     "end_time": "2024-12-06T03:58:12.236040",
     "exception": false,
     "start_time": "2024-12-06T03:58:12.191467",
     "status": "completed"
    },
    "tags": []
   },
   "outputs": [
    {
     "data": {
      "text/html": [
       "<div>\n",
       "<style scoped>\n",
       "    .dataframe tbody tr th:only-of-type {\n",
       "        vertical-align: middle;\n",
       "    }\n",
       "\n",
       "    .dataframe tbody tr th {\n",
       "        vertical-align: top;\n",
       "    }\n",
       "\n",
       "    .dataframe thead th {\n",
       "        text-align: right;\n",
       "    }\n",
       "</style>\n",
       "<table border=\"1\" class=\"dataframe\">\n",
       "  <thead>\n",
       "    <tr style=\"text-align: right;\">\n",
       "      <th></th>\n",
       "      <th>Model</th>\n",
       "      <th>Accuracy (Train)</th>\n",
       "      <th>Precision (Train)</th>\n",
       "      <th>Recall (Train)</th>\n",
       "      <th>F1 Score (Train)</th>\n",
       "      <th>Accuracy (Test)</th>\n",
       "      <th>Precision (Test)</th>\n",
       "      <th>Recall (Test)</th>\n",
       "      <th>F1 Score (Test)</th>\n",
       "      <th>Training Time (s)</th>\n",
       "      <th>Testing Time (s)</th>\n",
       "      <th>Memory (MB)</th>\n",
       "    </tr>\n",
       "  </thead>\n",
       "  <tbody>\n",
       "  </tbody>\n",
       "</table>\n",
       "</div>"
      ],
      "text/plain": [
       "Empty DataFrame\n",
       "Columns: [Model, Accuracy (Train), Precision (Train), Recall (Train), F1 Score (Train), Accuracy (Test), Precision (Test), Recall (Test), F1 Score (Test), Training Time (s), Testing Time (s), Memory (MB)]\n",
       "Index: []"
      ]
     },
     "execution_count": 9,
     "metadata": {},
     "output_type": "execute_result"
    }
   ],
   "source": [
    "all_model"
   ]
  },
  {
   "cell_type": "markdown",
   "id": "e94282eb",
   "metadata": {
    "papermill": {
     "duration": 0.026028,
     "end_time": "2024-12-06T03:58:12.289311",
     "exception": false,
     "start_time": "2024-12-06T03:58:12.263283",
     "status": "completed"
    },
    "tags": []
   },
   "source": [
    "**Feature Extraction from MobileNetV3Large**"
   ]
  },
  {
   "cell_type": "code",
   "execution_count": 10,
   "id": "00a8c64a",
   "metadata": {
    "execution": {
     "iopub.execute_input": "2024-12-06T03:58:12.345624Z",
     "iopub.status.busy": "2024-12-06T03:58:12.345187Z",
     "iopub.status.idle": "2024-12-06T03:58:17.932033Z",
     "shell.execute_reply": "2024-12-06T03:58:17.930981Z"
    },
    "papermill": {
     "duration": 5.617955,
     "end_time": "2024-12-06T03:58:17.934451",
     "exception": false,
     "start_time": "2024-12-06T03:58:12.316496",
     "status": "completed"
    },
    "tags": []
   },
   "outputs": [
    {
     "name": "stdout",
     "output_type": "stream",
     "text": [
      "Downloading data from https://storage.googleapis.com/tensorflow/keras-applications/efficientnet_v2/efficientnetv2-b1_notop.h5\n",
      "28456008/28456008 [==============================] - 0s 0us/step\n"
     ]
    }
   ],
   "source": [
    "# Define the base model for feature extraction\n",
    "model = tf.keras.applications.EfficientNetV2B1(\n",
    "    include_top=False,  # Exclude fully connected layers\n",
    "    weights=\"imagenet\",  # Pretrained weights from ImageNet\n",
    "    input_shape=(image_size, image_size, 3),  # Input image size\n",
    "    pooling=\"avg\"  # Global average pooling layer to get feature vector\n",
    ")\n",
    "\n",
    "# Freeze the base model to prevent updates during feature extraction\n",
    "model.trainable = False\n"
   ]
  },
  {
   "cell_type": "code",
   "execution_count": 11,
   "id": "9f6ab619",
   "metadata": {
    "execution": {
     "iopub.execute_input": "2024-12-06T03:58:17.989475Z",
     "iopub.status.busy": "2024-12-06T03:58:17.989120Z",
     "iopub.status.idle": "2024-12-06T03:58:29.660533Z",
     "shell.execute_reply": "2024-12-06T03:58:29.659440Z"
    },
    "papermill": {
     "duration": 11.701253,
     "end_time": "2024-12-06T03:58:29.662707",
     "exception": false,
     "start_time": "2024-12-06T03:58:17.961454",
     "status": "completed"
    },
    "tags": []
   },
   "outputs": [
    {
     "name": "stdout",
     "output_type": "stream",
     "text": [
      "138/138 [==============================] - 10s 33ms/step\n"
     ]
    }
   ],
   "source": [
    "# Use the base model to extract features\n",
    "X_train = model.predict(X_train, batch_size=32, verbose=1)"
   ]
  },
  {
   "cell_type": "code",
   "execution_count": 12,
   "id": "e425dd41",
   "metadata": {
    "execution": {
     "iopub.execute_input": "2024-12-06T03:58:29.725011Z",
     "iopub.status.busy": "2024-12-06T03:58:29.724685Z",
     "iopub.status.idle": "2024-12-06T03:58:29.729611Z",
     "shell.execute_reply": "2024-12-06T03:58:29.728612Z"
    },
    "papermill": {
     "duration": 0.038205,
     "end_time": "2024-12-06T03:58:29.731551",
     "exception": false,
     "start_time": "2024-12-06T03:58:29.693346",
     "status": "completed"
    },
    "tags": []
   },
   "outputs": [],
   "source": [
    "# If labels are one-hot encoded, convert to class indices\n",
    "if y_train.shape[-1] > 1:\n",
    "    y_train = np.argmax(y_train, axis=1)"
   ]
  },
  {
   "cell_type": "code",
   "execution_count": 13,
   "id": "39ad18b2",
   "metadata": {
    "execution": {
     "iopub.execute_input": "2024-12-06T03:58:29.795067Z",
     "iopub.status.busy": "2024-12-06T03:58:29.794007Z",
     "iopub.status.idle": "2024-12-06T03:58:29.799819Z",
     "shell.execute_reply": "2024-12-06T03:58:29.798720Z"
    },
    "papermill": {
     "duration": 0.039364,
     "end_time": "2024-12-06T03:58:29.801680",
     "exception": false,
     "start_time": "2024-12-06T03:58:29.762316",
     "status": "completed"
    },
    "tags": []
   },
   "outputs": [
    {
     "name": "stdout",
     "output_type": "stream",
     "text": [
      "Extracted features shape: (4398, 1280)\n",
      "Labels shape: (4398,)\n"
     ]
    }
   ],
   "source": [
    "# X_train now contains the extracted features, and y_train contains the labels\n",
    "print(\"Extracted features shape:\", X_train.shape)\n",
    "print(\"Labels shape:\", y_train.shape)"
   ]
  },
  {
   "cell_type": "code",
   "execution_count": 14,
   "id": "0a83b336",
   "metadata": {
    "execution": {
     "iopub.execute_input": "2024-12-06T03:58:29.863461Z",
     "iopub.status.busy": "2024-12-06T03:58:29.862611Z",
     "iopub.status.idle": "2024-12-06T03:58:30.886001Z",
     "shell.execute_reply": "2024-12-06T03:58:30.885192Z"
    },
    "papermill": {
     "duration": 1.056868,
     "end_time": "2024-12-06T03:58:30.888309",
     "exception": false,
     "start_time": "2024-12-06T03:58:29.831441",
     "status": "completed"
    },
    "tags": []
   },
   "outputs": [
    {
     "name": "stdout",
     "output_type": "stream",
     "text": [
      "16/16 [==============================] - 1s 58ms/step\n"
     ]
    }
   ],
   "source": [
    "# Use the base model to extract features from test data\n",
    "X_test = model.predict(X_test, batch_size=32, verbose=1)"
   ]
  },
  {
   "cell_type": "code",
   "execution_count": 15,
   "id": "e5397ec7",
   "metadata": {
    "execution": {
     "iopub.execute_input": "2024-12-06T03:58:30.955099Z",
     "iopub.status.busy": "2024-12-06T03:58:30.954217Z",
     "iopub.status.idle": "2024-12-06T03:58:30.959042Z",
     "shell.execute_reply": "2024-12-06T03:58:30.958076Z"
    },
    "papermill": {
     "duration": 0.039761,
     "end_time": "2024-12-06T03:58:30.960888",
     "exception": false,
     "start_time": "2024-12-06T03:58:30.921127",
     "status": "completed"
    },
    "tags": []
   },
   "outputs": [],
   "source": [
    "# If labels are one-hot encoded, convert to class indices\n",
    "if y_test.shape[-1] > 1:\n",
    "    y_test = np.argmax(y_test, axis=1)"
   ]
  },
  {
   "cell_type": "code",
   "execution_count": 16,
   "id": "e58fec7e",
   "metadata": {
    "execution": {
     "iopub.execute_input": "2024-12-06T03:58:31.025420Z",
     "iopub.status.busy": "2024-12-06T03:58:31.025064Z",
     "iopub.status.idle": "2024-12-06T03:58:31.030057Z",
     "shell.execute_reply": "2024-12-06T03:58:31.029106Z"
    },
    "papermill": {
     "duration": 0.039311,
     "end_time": "2024-12-06T03:58:31.032025",
     "exception": false,
     "start_time": "2024-12-06T03:58:30.992714",
     "status": "completed"
    },
    "tags": []
   },
   "outputs": [
    {
     "name": "stdout",
     "output_type": "stream",
     "text": [
      "Extracted features shape: (486, 1280)\n",
      "Labels shape: (486,)\n"
     ]
    }
   ],
   "source": [
    "# X_test now contains the extracted features, and y_test contains the labels\n",
    "print(\"Extracted features shape:\", X_test.shape)\n",
    "print(\"Labels shape:\", y_test.shape)"
   ]
  },
  {
   "cell_type": "code",
   "execution_count": 17,
   "id": "cf9d9ec0",
   "metadata": {
    "execution": {
     "iopub.execute_input": "2024-12-06T03:58:31.097773Z",
     "iopub.status.busy": "2024-12-06T03:58:31.097414Z",
     "iopub.status.idle": "2024-12-06T03:58:31.436001Z",
     "shell.execute_reply": "2024-12-06T03:58:31.435248Z"
    },
    "papermill": {
     "duration": 0.373434,
     "end_time": "2024-12-06T03:58:31.438279",
     "exception": false,
     "start_time": "2024-12-06T03:58:31.064845",
     "status": "completed"
    },
    "tags": []
   },
   "outputs": [],
   "source": [
    "from sklearn.ensemble import StackingClassifier\n",
    "from sklearn.ensemble import RandomForestClassifier\n",
    "from sklearn.svm import SVC\n",
    "from sklearn.neighbors import KNeighborsClassifier\n",
    "from sklearn.linear_model import LogisticRegression\n",
    "from sklearn.neural_network import MLPClassifier\n",
    "from sklearn.tree import DecisionTreeClassifier\n",
    "from sklearn.naive_bayes import GaussianNB\n",
    "from sklearn.model_selection import train_test_split\n",
    "from sklearn.metrics import accuracy_score\n",
    "\n",
    "# Define the Level 0 classifiers\n",
    "level_0_estimators = [\n",
    "    ('svm', SVC(kernel='rbf',C=1.0,gamma='scale',decision_function_shape='ovr')),\n",
    "    ('knn', KNeighborsClassifier()),\n",
    "    ('logistic', LogisticRegression(multi_class='multinomial',solver='lbfgs',C=1.0,max_iter=1000,random_state=42 )),\n",
    "    ('mlp', MLPClassifier(random_state=42)),\n",
    "    ('decision_tree', DecisionTreeClassifier(criterion='gini',max_depth=20,min_samples_split=5,min_samples_leaf=3,max_features='sqrt',random_state=42)),\n",
    "    ('naive_bayes', GaussianNB(var_smoothing=1e-8))\n",
    "]\n",
    "\n",
    "# Define the Level 1 classifier (meta-classifier)\n",
    "level_1_meta_classifier = RandomForestClassifier(n_estimators=300,           \n",
    "    criterion='gini',           \n",
    "    max_depth=20,               \n",
    "    min_samples_split=5,        \n",
    "    min_samples_leaf=3,         \n",
    "    max_features='sqrt',        \n",
    "    bootstrap=True,             \n",
    "    oob_score=True,             \n",
    "    random_state=42\n",
    ")\n",
    "\n",
    "# Create the Stacking Classifier\n",
    "stacking_clf = StackingClassifier(\n",
    "    estimators=level_0_estimators,\n",
    "    final_estimator=level_1_meta_classifier,\n",
    "    cv=5\n",
    ")"
   ]
  },
  {
   "cell_type": "code",
   "execution_count": 18,
   "id": "62e4bac9",
   "metadata": {
    "execution": {
     "iopub.execute_input": "2024-12-06T03:58:31.501974Z",
     "iopub.status.busy": "2024-12-06T03:58:31.501635Z",
     "iopub.status.idle": "2024-12-06T03:59:56.048799Z",
     "shell.execute_reply": "2024-12-06T03:59:56.047848Z"
    },
    "papermill": {
     "duration": 84.610836,
     "end_time": "2024-12-06T03:59:56.080760",
     "exception": false,
     "start_time": "2024-12-06T03:58:31.469924",
     "status": "completed"
    },
    "tags": []
   },
   "outputs": [
    {
     "name": "stdout",
     "output_type": "stream",
     "text": [
      "Training Time: 84.54 seconds\n",
      "Memory Usage: 3561.68 MB\n"
     ]
    }
   ],
   "source": [
    "import time\n",
    "\n",
    "# Start timer\n",
    "start_time = time.time()\n",
    "\n",
    "# Train the stacking classifier\n",
    "stacking_clf.fit(X_train, y_train)\n",
    "\n",
    "# Measure training time\n",
    "training_time = time.time() - start_time\n",
    "print(f\"Training Time: {training_time:.2f} seconds\")\n",
    "\n",
    "# Evaluate memory usage (optional, requires `psutil` library)\n",
    "import psutil\n",
    "memory_usage = psutil.Process().memory_info().rss / 1024 / 1024\n",
    "print(f\"Memory Usage: {memory_usage:.2f} MB\")"
   ]
  },
  {
   "cell_type": "code",
   "execution_count": 19,
   "id": "9ffba495",
   "metadata": {
    "execution": {
     "iopub.execute_input": "2024-12-06T03:59:56.142827Z",
     "iopub.status.busy": "2024-12-06T03:59:56.142484Z",
     "iopub.status.idle": "2024-12-06T03:59:56.927299Z",
     "shell.execute_reply": "2024-12-06T03:59:56.925972Z"
    },
    "papermill": {
     "duration": 0.820735,
     "end_time": "2024-12-06T03:59:56.931075",
     "exception": false,
     "start_time": "2024-12-06T03:59:56.110340",
     "status": "completed"
    },
    "tags": []
   },
   "outputs": [],
   "source": [
    "# make predictions on the test data\n",
    "start_time = time.time()\n",
    "y_pred = stacking_clf.predict(X_test)\n",
    "testing_time = time.time() - start_time"
   ]
  },
  {
   "cell_type": "code",
   "execution_count": 20,
   "id": "65988743",
   "metadata": {
    "execution": {
     "iopub.execute_input": "2024-12-06T03:59:57.034340Z",
     "iopub.status.busy": "2024-12-06T03:59:57.033929Z",
     "iopub.status.idle": "2024-12-06T03:59:57.390328Z",
     "shell.execute_reply": "2024-12-06T03:59:57.389355Z"
    },
    "papermill": {
     "duration": 0.388865,
     "end_time": "2024-12-06T03:59:57.392331",
     "exception": false,
     "start_time": "2024-12-06T03:59:57.003466",
     "status": "completed"
    },
    "tags": []
   },
   "outputs": [
    {
     "name": "stdout",
     "output_type": "stream",
     "text": [
      "Confusion matrix, without normalization\n"
     ]
    },
    {
     "data": {
      "image/png": "[encoded data removed]",
      "text/plain": [
       "<Figure size 500x500 with 2 Axes>"
      ]
     },
     "metadata": {},
     "output_type": "display_data"
    }
   ],
   "source": [
    "import itertools\n",
    "def plot_confusion_matrix(cm, classes,\n",
    "                          normalize=False,\n",
    "                          title='',\n",
    "                          cmap=plt.cm.Greens):\n",
    "    \"\"\"\n",
    "    This function prints and plots the confusion matrix.\n",
    "    Normalization can be applied by setting `normalize=True`.\n",
    "    \"\"\"\n",
    "    if normalize:\n",
    "        cm = cm.astype('float') / cm.sum(axis=1)[:, np.newaxis]\n",
    "        print(\"Normalized confusion matrix\")\n",
    "    else:\n",
    "        print('Confusion matrix, without normalization')\n",
    "\n",
    "    plt.imshow(cm, interpolation='nearest', cmap=cmap)\n",
    "    plt.title(title)\n",
    "    plt.colorbar()\n",
    "    tick_marks = np.arange(len(classes))\n",
    "    plt.xticks(tick_marks, classes, rotation=45,fontweight='bold')\n",
    "    plt.yticks(tick_marks, classes, fontweight='bold')\n",
    "\n",
    "    for i in range(cm.shape[0]):\n",
    "        for j in range(cm.shape[1]):\n",
    "            plt.text(j, i, format(cm[i, j], 'd'),\n",
    "                    ha=\"center\", va=\"center\", fontweight='bold',\n",
    "                    color=\"white\" if cm[i, j] > cm.max() / 2. else \"black\")\n",
    "\n",
    "    plt.tight_layout()\n",
    "    plt.ylabel('True label',fontweight='bold')\n",
    "    plt.xlabel('Predicted label',fontweight='bold')\n",
    "\n",
    "# Compute confusion matrix\n",
    "cnf_matrix = confusion_matrix(y_test, y_pred)\n",
    "np.set_printoptions(precision=2)\n",
    "\n",
    "# Plot non-normalized confusion matrix\n",
    "plt.figure(figsize=(5,5))\n",
    "plot_confusion_matrix(cnf_matrix, classes=['EB','H','LB']\n",
    "                      )\n",
    "plt.show()"
   ]
  },
  {
   "cell_type": "code",
   "execution_count": 21,
   "id": "54966599",
   "metadata": {
    "execution": {
     "iopub.execute_input": "2024-12-06T03:59:57.452864Z",
     "iopub.status.busy": "2024-12-06T03:59:57.452170Z",
     "iopub.status.idle": "2024-12-06T03:59:57.457845Z",
     "shell.execute_reply": "2024-12-06T03:59:57.457048Z"
    },
    "papermill": {
     "duration": 0.038087,
     "end_time": "2024-12-06T03:59:57.459801",
     "exception": false,
     "start_time": "2024-12-06T03:59:57.421714",
     "status": "completed"
    },
    "tags": []
   },
   "outputs": [
    {
     "data": {
      "text/plain": [
       "(486,)"
      ]
     },
     "execution_count": 21,
     "metadata": {},
     "output_type": "execute_result"
    }
   ],
   "source": [
    "y_pred.shape"
   ]
  },
  {
   "cell_type": "code",
   "execution_count": 22,
   "id": "8398f243",
   "metadata": {
    "execution": {
     "iopub.execute_input": "2024-12-06T03:59:57.523564Z",
     "iopub.status.busy": "2024-12-06T03:59:57.522749Z",
     "iopub.status.idle": "2024-12-06T03:59:57.535115Z",
     "shell.execute_reply": "2024-12-06T03:59:57.533896Z"
    },
    "papermill": {
     "duration": 0.045856,
     "end_time": "2024-12-06T03:59:57.537053",
     "exception": false,
     "start_time": "2024-12-06T03:59:57.491197",
     "status": "completed"
    },
    "tags": []
   },
   "outputs": [
    {
     "name": "stdout",
     "output_type": "stream",
     "text": [
      "Accuracy (Test): 97.9424\n",
      "Precision (Test): 97.9651\n",
      "Recall (Test): 97.9424\n",
      "F1 score (Test): 97.9421\n"
     ]
    }
   ],
   "source": [
    "accuracy_test = accuracy_score(y_test, y_pred)*100\n",
    "precision_test = precision_score(y_test, y_pred, average='macro')*100\n",
    "recall_test = recall_score(y_test, y_pred, average='macro')*100\n",
    "f1_test = f1_score(y_test, y_pred, average='macro')*100\n",
    "\n",
    "print(\"Accuracy (Test): {:.4f}\".format(accuracy_test))\n",
    "print(\"Precision (Test): {:.4f}\".format(precision_test))\n",
    "print(\"Recall (Test): {:.4f}\".format(recall_test))\n",
    "print(\"F1 score (Test): {:.4f}\".format(f1_test))"
   ]
  },
  {
   "cell_type": "code",
   "execution_count": 23,
   "id": "ce668bfc",
   "metadata": {
    "execution": {
     "iopub.execute_input": "2024-12-06T03:59:57.602064Z",
     "iopub.status.busy": "2024-12-06T03:59:57.601483Z",
     "iopub.status.idle": "2024-12-06T04:00:04.067562Z",
     "shell.execute_reply": "2024-12-06T04:00:04.066779Z"
    },
    "papermill": {
     "duration": 6.499255,
     "end_time": "2024-12-06T04:00:04.069548",
     "exception": false,
     "start_time": "2024-12-06T03:59:57.570293",
     "status": "completed"
    },
    "tags": []
   },
   "outputs": [],
   "source": [
    "# make predictions on the train data\n",
    "y_pred = stacking_clf.predict(X_train)"
   ]
  },
  {
   "cell_type": "code",
   "execution_count": 24,
   "id": "31789fae",
   "metadata": {
    "execution": {
     "iopub.execute_input": "2024-12-06T04:00:04.133825Z",
     "iopub.status.busy": "2024-12-06T04:00:04.133481Z",
     "iopub.status.idle": "2024-12-06T04:00:04.354388Z",
     "shell.execute_reply": "2024-12-06T04:00:04.353105Z"
    },
    "papermill": {
     "duration": 0.254922,
     "end_time": "2024-12-06T04:00:04.356212",
     "exception": false,
     "start_time": "2024-12-06T04:00:04.101290",
     "status": "completed"
    },
    "tags": []
   },
   "outputs": [
    {
     "name": "stdout",
     "output_type": "stream",
     "text": [
      "Confusion matrix, without normalization\n"
     ]
    },
    {
     "data": {
      "image/png": "[encoded data removed]",
      "text/plain": [
       "<Figure size 500x500 with 2 Axes>"
      ]
     },
     "metadata": {},
     "output_type": "display_data"
    }
   ],
   "source": [
    "def plot_confusion_matrix(cm, classes,\n",
    "                          normalize=False,\n",
    "                          title='',\n",
    "                          cmap=plt.cm.Greens):\n",
    "    \"\"\"\n",
    "    This function prints and plots the confusion matrix.\n",
    "    Normalization can be applied by setting `normalize=True`.\n",
    "    \"\"\"\n",
    "    if normalize:\n",
    "        cm = cm.astype('float') / cm.sum(axis=1)[:, np.newaxis]\n",
    "        print(\"Normalized confusion matrix\")\n",
    "    else:\n",
    "        print('Confusion matrix, without normalization')\n",
    "\n",
    "    plt.imshow(cm, interpolation='nearest', cmap=cmap)\n",
    "    plt.title(title)\n",
    "    plt.colorbar()\n",
    "    tick_marks = np.arange(len(classes))\n",
    "    plt.xticks(tick_marks, classes, rotation=45,fontweight='bold')\n",
    "    plt.yticks(tick_marks, classes, fontweight='bold')\n",
    "\n",
    "    for i in range(cm.shape[0]):\n",
    "        for j in range(cm.shape[1]):\n",
    "            plt.text(j, i, format(cm[i, j], 'd'),\n",
    "                    ha=\"center\", va=\"center\", fontweight='bold',\n",
    "                    color=\"white\" if cm[i, j] > cm.max() / 2. else \"black\")\n",
    "\n",
    "    plt.tight_layout()\n",
    "    plt.ylabel('True label',fontweight='bold')\n",
    "    plt.xlabel('Predicted label',fontweight='bold')\n",
    "\n",
    "# Compute confusion matrix\n",
    "cnf_matrix = confusion_matrix(y_train, y_pred)\n",
    "np.set_printoptions(precision=2)\n",
    "\n",
    "# Plot non-normalized confusion matrix\n",
    "plt.figure(figsize=(5,5))\n",
    "plot_confusion_matrix(cnf_matrix, classes=['EB','H','LB']\n",
    "                      )\n",
    "plt.show()"
   ]
  },
  {
   "cell_type": "code",
   "execution_count": 25,
   "id": "a4ce4e0f",
   "metadata": {
    "execution": {
     "iopub.execute_input": "2024-12-06T04:00:04.418668Z",
     "iopub.status.busy": "2024-12-06T04:00:04.418321Z",
     "iopub.status.idle": "2024-12-06T04:00:04.431330Z",
     "shell.execute_reply": "2024-12-06T04:00:04.430343Z"
    },
    "papermill": {
     "duration": 0.046094,
     "end_time": "2024-12-06T04:00:04.433123",
     "exception": false,
     "start_time": "2024-12-06T04:00:04.387029",
     "status": "completed"
    },
    "tags": []
   },
   "outputs": [
    {
     "name": "stdout",
     "output_type": "stream",
     "text": [
      "Accuracy (Train): 99.7954\n",
      "Precision (Train): 99.7966\n",
      "Recall (Train): 99.7954\n",
      "F1 score (Train): 99.7954\n"
     ]
    }
   ],
   "source": [
    "accuracy_train = accuracy_score(y_train, y_pred)*100\n",
    "precision_train = precision_score(y_train, y_pred, average='macro')*100\n",
    "recall_train = recall_score(y_train, y_pred, average='macro')*100\n",
    "f1_train = f1_score(y_train, y_pred, average='macro')*100\n",
    "\n",
    "print(\"Accuracy (Train): {:.4f}\".format(accuracy_train))\n",
    "print(\"Precision (Train): {:.4f}\".format(precision_train))\n",
    "print(\"Recall (Train): {:.4f}\".format(recall_train))\n",
    "print(\"F1 score (Train): {:.4f}\".format(f1_train))"
   ]
  },
  {
   "cell_type": "code",
   "execution_count": 26,
   "id": "beaf09b9",
   "metadata": {
    "execution": {
     "iopub.execute_input": "2024-12-06T04:00:04.503043Z",
     "iopub.status.busy": "2024-12-06T04:00:04.502202Z",
     "iopub.status.idle": "2024-12-06T04:00:04.510142Z",
     "shell.execute_reply": "2024-12-06T04:00:04.509345Z"
    },
    "papermill": {
     "duration": 0.044676,
     "end_time": "2024-12-06T04:00:04.511965",
     "exception": false,
     "start_time": "2024-12-06T04:00:04.467289",
     "status": "completed"
    },
    "tags": []
   },
   "outputs": [],
   "source": [
    "model_name='EfficientNetV2B1-RF'\n",
    "all_model.loc[len(all_model)] = [model_name, accuracy_train, precision_train, recall_train, f1_train, accuracy_test, precision_test, recall_test, f1_test, training_time, testing_time, memory_usage]"
   ]
  },
  {
   "cell_type": "code",
   "execution_count": 27,
   "id": "0c7e81b7",
   "metadata": {
    "execution": {
     "iopub.execute_input": "2024-12-06T04:00:04.575083Z",
     "iopub.status.busy": "2024-12-06T04:00:04.574404Z",
     "iopub.status.idle": "2024-12-06T04:00:04.588431Z",
     "shell.execute_reply": "2024-12-06T04:00:04.587436Z"
    },
    "papermill": {
     "duration": 0.047843,
     "end_time": "2024-12-06T04:00:04.590385",
     "exception": false,
     "start_time": "2024-12-06T04:00:04.542542",
     "status": "completed"
    },
    "tags": []
   },
   "outputs": [
    {
     "data": {
      "text/html": [
       "<div>\n",
       "<style scoped>\n",
       "    .dataframe tbody tr th:only-of-type {\n",
       "        vertical-align: middle;\n",
       "    }\n",
       "\n",
       "    .dataframe tbody tr th {\n",
       "        vertical-align: top;\n",
       "    }\n",
       "\n",
       "    .dataframe thead th {\n",
       "        text-align: right;\n",
       "    }\n",
       "</style>\n",
       "<table border=\"1\" class=\"dataframe\">\n",
       "  <thead>\n",
       "    <tr style=\"text-align: right;\">\n",
       "      <th></th>\n",
       "      <th>Model</th>\n",
       "      <th>Accuracy (Train)</th>\n",
       "      <th>Precision (Train)</th>\n",
       "      <th>Recall (Train)</th>\n",
       "      <th>F1 Score (Train)</th>\n",
       "      <th>Accuracy (Test)</th>\n",
       "      <th>Precision (Test)</th>\n",
       "      <th>Recall (Test)</th>\n",
       "      <th>F1 Score (Test)</th>\n",
       "      <th>Training Time (s)</th>\n",
       "      <th>Testing Time (s)</th>\n",
       "      <th>Memory (MB)</th>\n",
       "    </tr>\n",
       "  </thead>\n",
       "  <tbody>\n",
       "    <tr>\n",
       "      <th>0</th>\n",
       "      <td>EfficientNetV2B1-RF</td>\n",
       "      <td>99.795362</td>\n",
       "      <td>99.79661</td>\n",
       "      <td>99.795362</td>\n",
       "      <td>99.79536</td>\n",
       "      <td>97.942387</td>\n",
       "      <td>97.965131</td>\n",
       "      <td>97.942387</td>\n",
       "      <td>97.942122</td>\n",
       "      <td>84.541341</td>\n",
       "      <td>0.780168</td>\n",
       "      <td>3561.675781</td>\n",
       "    </tr>\n",
       "  </tbody>\n",
       "</table>\n",
       "</div>"
      ],
      "text/plain": [
       "                 Model  Accuracy (Train)  Precision (Train)  Recall (Train)  \\\n",
       "0  EfficientNetV2B1-RF         99.795362           99.79661       99.795362   \n",
       "\n",
       "   F1 Score (Train)  Accuracy (Test)  Precision (Test)  Recall (Test)  \\\n",
       "0          99.79536        97.942387         97.965131      97.942387   \n",
       "\n",
       "   F1 Score (Test)  Training Time (s)  Testing Time (s)  Memory (MB)  \n",
       "0        97.942122          84.541341          0.780168  3561.675781  "
      ]
     },
     "execution_count": 27,
     "metadata": {},
     "output_type": "execute_result"
    }
   ],
   "source": [
    "all_model"
   ]
  }
 ],
 "metadata": {
  "kaggle": {
   "accelerator": "gpu",
   "dataSources": [
    {
     "datasetId": 1562973,
     "sourceId": 2574068,
     "sourceType": "datasetVersion"
    },
    {
     "datasetId": 6161628,
     "sourceId": 10008956,
     "sourceType": "datasetVersion"
    }
   ],
   "dockerImageVersionId": 30528,
   "isGpuEnabled": true,
   "isInternetEnabled": true,
   "language": "python",
   "sourceType": "notebook"
  },
  "kernelspec": {
   "display_name": "Python 3",
   "language": "python",
   "name": "python3"
  },
  "language_info": {
   "codemirror_mode": {
    "name": "ipython",
    "version": 3
   },
   "file_extension": ".py",
   "mimetype": "text/x-python",
   "name": "python",
   "nbconvert_exporter": "python",
   "pygments_lexer": "ipython3",
   "version": "3.10.12"
  },
  "papermill": {
   "default_parameters": {},
   "duration": 184.835465,
   "end_time": "2024-12-06T04:00:08.009925",
   "environment_variables": {},
   "exception": null,
   "input_path": "__notebook__.ipynb",
   "output_path": "__notebook__.ipynb",
   "parameters": {},
   "start_time": "2024-12-06T03:57:03.174460",
   "version": "2.4.0"
  }
 },
 "nbformat": 4,
 "nbformat_minor": 5
}
