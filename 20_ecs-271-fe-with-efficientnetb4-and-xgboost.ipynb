{
 "cells": [
  {
   "cell_type": "code",
   "execution_count": 1,
   "id": "83bb8197",
   "metadata": {
    "_cell_guid": "b1076dfc-b9ad-4769-8c92-a6c4dae69d19",
    "_uuid": "8f2839f25d086af736a60e9eeb907d3b93b6e0e5",
    "execution": {
     "iopub.execute_input": "2024-12-06T19:46:11.794807Z",
     "iopub.status.busy": "2024-12-06T19:46:11.794489Z",
     "iopub.status.idle": "2024-12-06T19:46:11.802600Z",
     "shell.execute_reply": "2024-12-06T19:46:11.801734Z"
    },
    "papermill": {
     "duration": 0.016544,
     "end_time": "2024-12-06T19:46:11.804356",
     "exception": false,
     "start_time": "2024-12-06T19:46:11.787812",
     "status": "completed"
    },
    "tags": []
   },
   "outputs": [],
   "source": [
    "# This Python 3 environment comes with many helpful analytics libraries installed\n",
    "# It is defined by the kaggle/python Docker image: https://github.com/kaggle/docker-python\n",
    "# For example, here's several helpful packages to load\n",
    "\n",
    "import numpy as np # linear algebra\n",
    "import pandas as pd # data processing, CSV file I/O (e.g. pd.read_csv)\n",
    "\n",
    "# Input data files are available in the read-only \"../input/\" directory\n",
    "# For example, running this (by clicking run or pressing Shift+Enter) will list all files under the input directory\n",
    "\n",
    "# import os\n",
    "# for dirname, _, filenames in os.walk('/kaggle/input'):\n",
    "#     for filename in filenames:\n",
    "#         print(os.path.join(dirname, filename))\n",
    "\n",
    "# You can write up to 20GB to the current directory (/kaggle/working/) that gets preserved as output when you create a version using \"Save & Run All\" \n",
    "# You can also write temporary files to /kaggle/temp/, but they won't be saved outside of the current session"
   ]
  },
  {
   "cell_type": "code",
   "execution_count": 2,
   "id": "04efc4b6",
   "metadata": {
    "execution": {
     "iopub.execute_input": "2024-12-06T19:46:11.815758Z",
     "iopub.status.busy": "2024-12-06T19:46:11.815162Z",
     "iopub.status.idle": "2024-12-06T19:46:20.958767Z",
     "shell.execute_reply": "2024-12-06T19:46:20.958054Z"
    },
    "papermill": {
     "duration": 9.151366,
     "end_time": "2024-12-06T19:46:20.960731",
     "exception": false,
     "start_time": "2024-12-06T19:46:11.809365",
     "status": "completed"
    },
    "tags": []
   },
   "outputs": [
    {
     "name": "stderr",
     "output_type": "stream",
     "text": [
      "/opt/conda/lib/python3.10/site-packages/scipy/__init__.py:146: UserWarning: A NumPy version >=1.16.5 and <1.23.0 is required for this version of SciPy (detected version 1.23.5\n",
      "  warnings.warn(f\"A NumPy version >={np_minversion} and <{np_maxversion}\"\n",
      "/opt/conda/lib/python3.10/site-packages/tensorflow_io/python/ops/__init__.py:98: UserWarning: unable to load libtensorflow_io_plugins.so: unable to open file: libtensorflow_io_plugins.so, from paths: ['/opt/conda/lib/python3.10/site-packages/tensorflow_io/python/ops/libtensorflow_io_plugins.so']\n",
      "caused by: ['/opt/conda/lib/python3.10/site-packages/tensorflow_io/python/ops/libtensorflow_io_plugins.so: undefined symbol: _ZN3tsl6StatusC1EN10tensorflow5error4CodeESt17basic_string_viewIcSt11char_traitsIcEENS_14SourceLocationE']\n",
      "  warnings.warn(f\"unable to load libtensorflow_io_plugins.so: {e}\")\n",
      "/opt/conda/lib/python3.10/site-packages/tensorflow_io/python/ops/__init__.py:104: UserWarning: file system plugins are not loaded: unable to open file: libtensorflow_io.so, from paths: ['/opt/conda/lib/python3.10/site-packages/tensorflow_io/python/ops/libtensorflow_io.so']\n",
      "caused by: ['/opt/conda/lib/python3.10/site-packages/tensorflow_io/python/ops/libtensorflow_io.so: undefined symbol: _ZTVN10tensorflow13GcsFileSystemE']\n",
      "  warnings.warn(f\"file system plugins are not loaded: {e}\")\n"
     ]
    }
   ],
   "source": [
    "import matplotlib.pyplot as plt\n",
    "import numpy as np\n",
    "import pandas as pd\n",
    "import seaborn as sns\n",
    "import cv2\n",
    "import tensorflow as tf\n",
    "from tensorflow.keras.preprocessing.image import ImageDataGenerator\n",
    "from tqdm import tqdm\n",
    "import os\n",
    "from sklearn.utils import shuffle\n",
    "from sklearn.model_selection import train_test_split\n",
    "from tensorflow.keras.applications import EfficientNetB0, DenseNet201\n",
    "from tensorflow.keras.callbacks import EarlyStopping, ReduceLROnPlateau, TensorBoard, ModelCheckpoint\n",
    "from sklearn.metrics import classification_report,confusion_matrix\n",
    "import ipywidgets as widgets\n",
    "import io\n",
    "from PIL import Image\n",
    "from IPython.display import display,clear_output\n",
    "from warnings import filterwarnings\n",
    "from keras.models import Sequential\n",
    "from keras.layers import Dense, Flatten, Dropout\n",
    "from sklearn.metrics import accuracy_score, precision_score, recall_score, f1_score\n",
    "import time\n",
    "import psutil"
   ]
  },
  {
   "cell_type": "code",
   "execution_count": 3,
   "id": "bb57a998",
   "metadata": {
    "execution": {
     "iopub.execute_input": "2024-12-06T19:46:20.972735Z",
     "iopub.status.busy": "2024-12-06T19:46:20.971684Z",
     "iopub.status.idle": "2024-12-06T19:46:20.975981Z",
     "shell.execute_reply": "2024-12-06T19:46:20.975299Z"
    },
    "papermill": {
     "duration": 0.01187,
     "end_time": "2024-12-06T19:46:20.977605",
     "exception": false,
     "start_time": "2024-12-06T19:46:20.965735",
     "status": "completed"
    },
    "tags": []
   },
   "outputs": [],
   "source": [
    "labels = ['Early_Blight','Healthy','Late_Blight']"
   ]
  },
  {
   "cell_type": "code",
   "execution_count": 4,
   "id": "fe73017e",
   "metadata": {
    "execution": {
     "iopub.execute_input": "2024-12-06T19:46:20.988931Z",
     "iopub.status.busy": "2024-12-06T19:46:20.988395Z",
     "iopub.status.idle": "2024-12-06T19:46:52.027111Z",
     "shell.execute_reply": "2024-12-06T19:46:52.025978Z"
    },
    "papermill": {
     "duration": 31.047828,
     "end_time": "2024-12-06T19:46:52.030347",
     "exception": false,
     "start_time": "2024-12-06T19:46:20.982519",
     "status": "completed"
    },
    "tags": []
   },
   "outputs": [
    {
     "name": "stderr",
     "output_type": "stream",
     "text": [
      "100%|██████████| 1303/1303 [00:08<00:00, 161.97it/s]\n",
      "100%|██████████| 1303/1303 [00:08<00:00, 153.92it/s]\n",
      "100%|██████████| 1303/1303 [00:08<00:00, 161.32it/s]\n",
      "100%|██████████| 162/162 [00:01<00:00, 153.50it/s]\n",
      "100%|██████████| 162/162 [00:00<00:00, 169.98it/s]\n",
      "100%|██████████| 162/162 [00:00<00:00, 174.97it/s]\n",
      "100%|██████████| 163/163 [00:00<00:00, 171.55it/s]\n",
      "100%|██████████| 163/163 [00:00<00:00, 184.13it/s]\n",
      "100%|██████████| 163/163 [00:00<00:00, 170.67it/s]\n"
     ]
    }
   ],
   "source": [
    "X_train = []\n",
    "y_train = []\n",
    "X_test = []\n",
    "y_test = []\n",
    "image_size = 380\n",
    "for i in labels:\n",
    "    folderPath = os.path.join('/kaggle/input/balanced-data/balanced_data','Training',i)\n",
    "    for j in tqdm(os.listdir(folderPath)):\n",
    "        img = cv2.imread(os.path.join(folderPath,j))\n",
    "        img = cv2.resize(img,(image_size, image_size))\n",
    "        X_train.append(img)\n",
    "        y_train.append(i)\n",
    "        \n",
    "for i in labels:\n",
    "    folderPath = os.path.join('/kaggle/input/balanced-data/balanced_data','Testing',i)\n",
    "    for j in tqdm(os.listdir(folderPath)):\n",
    "        img = cv2.imread(os.path.join(folderPath,j))\n",
    "        img = cv2.resize(img,(image_size,image_size))\n",
    "        X_test.append(img)\n",
    "        y_test.append(i)\n",
    "        \n",
    "for i in labels:\n",
    "    folderPath = os.path.join('/kaggle/input/balanced-data/balanced_data','Validation',i)\n",
    "    for j in tqdm(os.listdir(folderPath)):\n",
    "        img = cv2.imread(os.path.join(folderPath,j))\n",
    "        img = cv2.resize(img,(image_size,image_size))\n",
    "        X_train.append(img)\n",
    "        y_train.append(i)\n",
    "        \n",
    "X_train = np.array(X_train)\n",
    "y_train = np.array(y_train)\n",
    "X_test = np.array(X_test)\n",
    "y_test = np.array(y_test)"
   ]
  },
  {
   "cell_type": "code",
   "execution_count": 5,
   "id": "2b9d8063",
   "metadata": {
    "execution": {
     "iopub.execute_input": "2024-12-06T19:46:52.081912Z",
     "iopub.status.busy": "2024-12-06T19:46:52.081591Z",
     "iopub.status.idle": "2024-12-06T19:46:52.086852Z",
     "shell.execute_reply": "2024-12-06T19:46:52.085791Z"
    },
    "papermill": {
     "duration": 0.031159,
     "end_time": "2024-12-06T19:46:52.088588",
     "exception": false,
     "start_time": "2024-12-06T19:46:52.057429",
     "status": "completed"
    },
    "tags": []
   },
   "outputs": [
    {
     "name": "stdout",
     "output_type": "stream",
     "text": [
      "(4398, 380, 380, 3)\n",
      "(4398,)\n",
      "(486, 380, 380, 3)\n",
      "(486,)\n"
     ]
    }
   ],
   "source": [
    "print(X_train.shape)\n",
    "print(y_train.shape)\n",
    "print(X_test.shape)\n",
    "print(y_test.shape)"
   ]
  },
  {
   "cell_type": "code",
   "execution_count": 6,
   "id": "f35c2686",
   "metadata": {
    "execution": {
     "iopub.execute_input": "2024-12-06T19:46:52.124529Z",
     "iopub.status.busy": "2024-12-06T19:46:52.124163Z",
     "iopub.status.idle": "2024-12-06T19:46:52.130271Z",
     "shell.execute_reply": "2024-12-06T19:46:52.129491Z"
    },
    "papermill": {
     "duration": 0.025835,
     "end_time": "2024-12-06T19:46:52.131920",
     "exception": false,
     "start_time": "2024-12-06T19:46:52.106085",
     "status": "completed"
    },
    "tags": []
   },
   "outputs": [
    {
     "name": "stdout",
     "output_type": "stream",
     "text": [
      "['Early_Blight' 'Healthy' 'Late_Blight']\n",
      "['Early_Blight' 'Healthy' 'Late_Blight']\n"
     ]
    }
   ],
   "source": [
    "print(np.unique(y_test))\n",
    "print(np.unique(y_train))"
   ]
  },
  {
   "cell_type": "code",
   "execution_count": 7,
   "id": "2c01e924",
   "metadata": {
    "execution": {
     "iopub.execute_input": "2024-12-06T19:46:52.166283Z",
     "iopub.status.busy": "2024-12-06T19:46:52.165984Z",
     "iopub.status.idle": "2024-12-06T19:46:52.173217Z",
     "shell.execute_reply": "2024-12-06T19:46:52.172629Z"
    },
    "papermill": {
     "duration": 0.026169,
     "end_time": "2024-12-06T19:46:52.174820",
     "exception": false,
     "start_time": "2024-12-06T19:46:52.148651",
     "status": "completed"
    },
    "tags": []
   },
   "outputs": [],
   "source": [
    "y_train_new = []\n",
    "for i in y_train:\n",
    "    y_train_new.append(labels.index(i))\n",
    "y_train = y_train_new\n",
    "y_train = tf.keras.utils.to_categorical(y_train)\n",
    "\n",
    "\n",
    "y_test_new = []\n",
    "for i in y_test:\n",
    "    y_test_new.append(labels.index(i))\n",
    "y_test = y_test_new\n",
    "y_test = tf.keras.utils.to_categorical(y_test)"
   ]
  },
  {
   "cell_type": "code",
   "execution_count": 8,
   "id": "953f6b98",
   "metadata": {
    "execution": {
     "iopub.execute_input": "2024-12-06T19:46:52.211562Z",
     "iopub.status.busy": "2024-12-06T19:46:52.210847Z",
     "iopub.status.idle": "2024-12-06T19:46:52.221348Z",
     "shell.execute_reply": "2024-12-06T19:46:52.220365Z"
    },
    "papermill": {
     "duration": 0.030614,
     "end_time": "2024-12-06T19:46:52.222940",
     "exception": false,
     "start_time": "2024-12-06T19:46:52.192326",
     "status": "completed"
    },
    "tags": []
   },
   "outputs": [],
   "source": [
    "all_model = pd.DataFrame(columns=['Model', 'Accuracy (Train)', 'Precision (Train)', 'Recall (Train)', 'F1 Score (Train)', 'Accuracy (Test)', 'Precision (Test)', 'Recall (Test)', 'F1 Score (Test)', 'Training Time (s)', 'Testing Time (s)','Memory (MB)'])"
   ]
  },
  {
   "cell_type": "code",
   "execution_count": 9,
   "id": "aef21bc0",
   "metadata": {
    "execution": {
     "iopub.execute_input": "2024-12-06T19:46:52.259097Z",
     "iopub.status.busy": "2024-12-06T19:46:52.258755Z",
     "iopub.status.idle": "2024-12-06T19:46:52.271964Z",
     "shell.execute_reply": "2024-12-06T19:46:52.271228Z"
    },
    "papermill": {
     "duration": 0.033133,
     "end_time": "2024-12-06T19:46:52.273533",
     "exception": false,
     "start_time": "2024-12-06T19:46:52.240400",
     "status": "completed"
    },
    "tags": []
   },
   "outputs": [
    {
     "data": {
      "text/html": [
       "<div>\n",
       "<style scoped>\n",
       "    .dataframe tbody tr th:only-of-type {\n",
       "        vertical-align: middle;\n",
       "    }\n",
       "\n",
       "    .dataframe tbody tr th {\n",
       "        vertical-align: top;\n",
       "    }\n",
       "\n",
       "    .dataframe thead th {\n",
       "        text-align: right;\n",
       "    }\n",
       "</style>\n",
       "<table border=\"1\" class=\"dataframe\">\n",
       "  <thead>\n",
       "    <tr style=\"text-align: right;\">\n",
       "      <th></th>\n",
       "      <th>Model</th>\n",
       "      <th>Accuracy (Train)</th>\n",
       "      <th>Precision (Train)</th>\n",
       "      <th>Recall (Train)</th>\n",
       "      <th>F1 Score (Train)</th>\n",
       "      <th>Accuracy (Test)</th>\n",
       "      <th>Precision (Test)</th>\n",
       "      <th>Recall (Test)</th>\n",
       "      <th>F1 Score (Test)</th>\n",
       "      <th>Training Time (s)</th>\n",
       "      <th>Testing Time (s)</th>\n",
       "      <th>Memory (MB)</th>\n",
       "    </tr>\n",
       "  </thead>\n",
       "  <tbody>\n",
       "  </tbody>\n",
       "</table>\n",
       "</div>"
      ],
      "text/plain": [
       "Empty DataFrame\n",
       "Columns: [Model, Accuracy (Train), Precision (Train), Recall (Train), F1 Score (Train), Accuracy (Test), Precision (Test), Recall (Test), F1 Score (Test), Training Time (s), Testing Time (s), Memory (MB)]\n",
       "Index: []"
      ]
     },
     "execution_count": 9,
     "metadata": {},
     "output_type": "execute_result"
    }
   ],
   "source": [
    "all_model"
   ]
  },
  {
   "cell_type": "markdown",
   "id": "11b1c3b7",
   "metadata": {
    "papermill": {
     "duration": 0.016441,
     "end_time": "2024-12-06T19:46:52.307053",
     "exception": false,
     "start_time": "2024-12-06T19:46:52.290612",
     "status": "completed"
    },
    "tags": []
   },
   "source": [
    "**Feature Extraction from MobileNetV3Large**"
   ]
  },
  {
   "cell_type": "code",
   "execution_count": 10,
   "id": "01011066",
   "metadata": {
    "execution": {
     "iopub.execute_input": "2024-12-06T19:46:52.342676Z",
     "iopub.status.busy": "2024-12-06T19:46:52.342339Z",
     "iopub.status.idle": "2024-12-06T19:47:02.001210Z",
     "shell.execute_reply": "2024-12-06T19:47:01.999960Z"
    },
    "papermill": {
     "duration": 9.68056,
     "end_time": "2024-12-06T19:47:02.004240",
     "exception": false,
     "start_time": "2024-12-06T19:46:52.323680",
     "status": "completed"
    },
    "tags": []
   },
   "outputs": [
    {
     "name": "stdout",
     "output_type": "stream",
     "text": [
      "Downloading data from https://storage.googleapis.com/keras-applications/efficientnetb4_notop.h5\n",
      "71686520/71686520 [==============================] - 3s 0us/step\n"
     ]
    }
   ],
   "source": [
    "# Define the base model for feature extraction\n",
    "model = tf.keras.applications.EfficientNetB4(\n",
    "    include_top=False,  # Exclude fully connected layers\n",
    "    weights=\"imagenet\",  # Pretrained weights from ImageNet\n",
    "    input_shape=(image_size, image_size, 3),  # Input image size\n",
    "    pooling=\"avg\"  # Global average pooling layer to get feature vector\n",
    ")\n",
    "\n",
    "# Freeze the base model to prevent updates during feature extraction\n",
    "model.trainable = False\n"
   ]
  },
  {
   "cell_type": "code",
   "execution_count": 11,
   "id": "9f77a1bd",
   "metadata": {
    "execution": {
     "iopub.execute_input": "2024-12-06T19:47:02.066679Z",
     "iopub.status.busy": "2024-12-06T19:47:02.066102Z",
     "iopub.status.idle": "2024-12-06T19:47:42.819046Z",
     "shell.execute_reply": "2024-12-06T19:47:42.818053Z"
    },
    "papermill": {
     "duration": 40.784393,
     "end_time": "2024-12-06T19:47:42.821136",
     "exception": false,
     "start_time": "2024-12-06T19:47:02.036743",
     "status": "completed"
    },
    "tags": []
   },
   "outputs": [
    {
     "name": "stdout",
     "output_type": "stream",
     "text": [
      "138/138 [==============================] - 37s 219ms/step\n"
     ]
    }
   ],
   "source": [
    "# Use the base model to extract features\n",
    "X_train = model.predict(X_train, batch_size=32, verbose=1)"
   ]
  },
  {
   "cell_type": "code",
   "execution_count": 12,
   "id": "52041be5",
   "metadata": {
    "execution": {
     "iopub.execute_input": "2024-12-06T19:47:42.873153Z",
     "iopub.status.busy": "2024-12-06T19:47:42.872827Z",
     "iopub.status.idle": "2024-12-06T19:47:42.877377Z",
     "shell.execute_reply": "2024-12-06T19:47:42.876558Z"
    },
    "papermill": {
     "duration": 0.031644,
     "end_time": "2024-12-06T19:47:42.879043",
     "exception": false,
     "start_time": "2024-12-06T19:47:42.847399",
     "status": "completed"
    },
    "tags": []
   },
   "outputs": [],
   "source": [
    "# If labels are one-hot encoded, convert to class indices\n",
    "if y_train.shape[-1] > 1:\n",
    "    y_train = np.argmax(y_train, axis=1)"
   ]
  },
  {
   "cell_type": "code",
   "execution_count": 13,
   "id": "05134455",
   "metadata": {
    "execution": {
     "iopub.execute_input": "2024-12-06T19:47:42.929400Z",
     "iopub.status.busy": "2024-12-06T19:47:42.929073Z",
     "iopub.status.idle": "2024-12-06T19:47:42.933767Z",
     "shell.execute_reply": "2024-12-06T19:47:42.932906Z"
    },
    "papermill": {
     "duration": 0.031902,
     "end_time": "2024-12-06T19:47:42.935695",
     "exception": false,
     "start_time": "2024-12-06T19:47:42.903793",
     "status": "completed"
    },
    "tags": []
   },
   "outputs": [
    {
     "name": "stdout",
     "output_type": "stream",
     "text": [
      "Extracted features shape: (4398, 1792)\n",
      "Labels shape: (4398,)\n"
     ]
    }
   ],
   "source": [
    "# X_train now contains the extracted features, and y_train contains the labels\n",
    "print(\"Extracted features shape:\", X_train.shape)\n",
    "print(\"Labels shape:\", y_train.shape)"
   ]
  },
  {
   "cell_type": "code",
   "execution_count": 14,
   "id": "98f1c567",
   "metadata": {
    "execution": {
     "iopub.execute_input": "2024-12-06T19:47:42.987353Z",
     "iopub.status.busy": "2024-12-06T19:47:42.986520Z",
     "iopub.status.idle": "2024-12-06T19:47:47.010548Z",
     "shell.execute_reply": "2024-12-06T19:47:47.009875Z"
    },
    "papermill": {
     "duration": 4.051833,
     "end_time": "2024-12-06T19:47:47.012236",
     "exception": false,
     "start_time": "2024-12-06T19:47:42.960403",
     "status": "completed"
    },
    "tags": []
   },
   "outputs": [
    {
     "name": "stdout",
     "output_type": "stream",
     "text": [
      "16/16 [==============================] - 4s 253ms/step\n"
     ]
    }
   ],
   "source": [
    "# Use the base model to extract features from test data\n",
    "X_test = model.predict(X_test, batch_size=32, verbose=1)"
   ]
  },
  {
   "cell_type": "code",
   "execution_count": 15,
   "id": "7be84484",
   "metadata": {
    "execution": {
     "iopub.execute_input": "2024-12-06T19:47:47.064975Z",
     "iopub.status.busy": "2024-12-06T19:47:47.064692Z",
     "iopub.status.idle": "2024-12-06T19:47:47.068769Z",
     "shell.execute_reply": "2024-12-06T19:47:47.067959Z"
    },
    "papermill": {
     "duration": 0.03148,
     "end_time": "2024-12-06T19:47:47.070330",
     "exception": false,
     "start_time": "2024-12-06T19:47:47.038850",
     "status": "completed"
    },
    "tags": []
   },
   "outputs": [],
   "source": [
    "# If labels are one-hot encoded, convert to class indices\n",
    "if y_test.shape[-1] > 1:\n",
    "    y_test = np.argmax(y_test, axis=1)"
   ]
  },
  {
   "cell_type": "code",
   "execution_count": 16,
   "id": "51a24ee2",
   "metadata": {
    "execution": {
     "iopub.execute_input": "2024-12-06T19:47:47.121330Z",
     "iopub.status.busy": "2024-12-06T19:47:47.121074Z",
     "iopub.status.idle": "2024-12-06T19:47:47.125450Z",
     "shell.execute_reply": "2024-12-06T19:47:47.124544Z"
    },
    "papermill": {
     "duration": 0.031634,
     "end_time": "2024-12-06T19:47:47.126976",
     "exception": false,
     "start_time": "2024-12-06T19:47:47.095342",
     "status": "completed"
    },
    "tags": []
   },
   "outputs": [
    {
     "name": "stdout",
     "output_type": "stream",
     "text": [
      "Extracted features shape: (486, 1792)\n",
      "Labels shape: (486,)\n"
     ]
    }
   ],
   "source": [
    "# X_test now contains the extracted features, and y_test contains the labels\n",
    "print(\"Extracted features shape:\", X_test.shape)\n",
    "print(\"Labels shape:\", y_test.shape)"
   ]
  },
  {
   "cell_type": "code",
   "execution_count": 17,
   "id": "3770d85a",
   "metadata": {
    "execution": {
     "iopub.execute_input": "2024-12-06T19:47:47.181340Z",
     "iopub.status.busy": "2024-12-06T19:47:47.180698Z",
     "iopub.status.idle": "2024-12-06T19:47:47.651113Z",
     "shell.execute_reply": "2024-12-06T19:47:47.650439Z"
    },
    "papermill": {
     "duration": 0.500861,
     "end_time": "2024-12-06T19:47:47.653159",
     "exception": false,
     "start_time": "2024-12-06T19:47:47.152298",
     "status": "completed"
    },
    "tags": []
   },
   "outputs": [],
   "source": [
    "from sklearn.ensemble import StackingClassifier\n",
    "from sklearn.ensemble import RandomForestClassifier\n",
    "from sklearn.svm import SVC\n",
    "from sklearn.neighbors import KNeighborsClassifier\n",
    "from sklearn.linear_model import LogisticRegression\n",
    "from sklearn.neural_network import MLPClassifier\n",
    "from sklearn.tree import DecisionTreeClassifier\n",
    "from sklearn.naive_bayes import GaussianNB\n",
    "from sklearn.model_selection import train_test_split\n",
    "from sklearn.metrics import accuracy_score\n",
    "from sklearn.ensemble import GradientBoostingClassifier\n",
    "from xgboost import XGBClassifier\n",
    "\n",
    "# Define the Level 0 classifiers\n",
    "level_0_estimators = [\n",
    "    ('svm', SVC(kernel='rbf',C=1.0,gamma='scale',decision_function_shape='ovr')),\n",
    "    ('knn', KNeighborsClassifier()),\n",
    "    ('logistic', LogisticRegression(multi_class='multinomial',solver='lbfgs',C=1.0,max_iter=1000,random_state=42 )),\n",
    "    ('mlp', MLPClassifier(random_state=42)),\n",
    "    ('decision_tree', DecisionTreeClassifier(criterion='gini',max_depth=20,min_samples_split=5,min_samples_leaf=3,max_features='sqrt',random_state=42)),\n",
    "    ('naive_bayes', GaussianNB(var_smoothing=1e-8))\n",
    "]\n",
    "\n",
    "# Define the Level 1 classifier (meta-classifier)\n",
    "level_1_meta_classifier = XGBClassifier(\n",
    "    n_estimators=300,            \n",
    "    learning_rate=0.05,          \n",
    "    max_depth=6,                 \n",
    "    objective='multi:softprob',  \n",
    "    num_class=3,                \n",
    "    subsample=0.8,               \n",
    "    colsample_bytree=0.8,        \n",
    "    gamma=1,                     \n",
    "    min_child_weight=3,          \n",
    "    random_state=42              \n",
    ")\n",
    "\n",
    "# Create the Stacking Classifier\n",
    "stacking_clf = StackingClassifier(\n",
    "    estimators=level_0_estimators,\n",
    "    final_estimator=level_1_meta_classifier,\n",
    "    cv=5\n",
    ")"
   ]
  },
  {
   "cell_type": "code",
   "execution_count": 18,
   "id": "1dc62f6b",
   "metadata": {
    "execution": {
     "iopub.execute_input": "2024-12-06T19:47:47.706566Z",
     "iopub.status.busy": "2024-12-06T19:47:47.705877Z",
     "iopub.status.idle": "2024-12-06T19:49:26.594011Z",
     "shell.execute_reply": "2024-12-06T19:49:26.593050Z"
    },
    "papermill": {
     "duration": 98.941625,
     "end_time": "2024-12-06T19:49:26.620980",
     "exception": false,
     "start_time": "2024-12-06T19:47:47.679355",
     "status": "completed"
    },
    "tags": []
   },
   "outputs": [
    {
     "name": "stdout",
     "output_type": "stream",
     "text": [
      "Training Time: 98.88 seconds\n",
      "Memory Usage: 5778.94 MB\n"
     ]
    }
   ],
   "source": [
    "import time\n",
    "\n",
    "# Start timer\n",
    "start_time = time.time()\n",
    "\n",
    "# Train the stacking classifier\n",
    "stacking_clf.fit(X_train, y_train)\n",
    "\n",
    "# Measure training time\n",
    "training_time = time.time() - start_time\n",
    "print(f\"Training Time: {training_time:.2f} seconds\")\n",
    "\n",
    "# Evaluate memory usage (optional, requires `psutil` library)\n",
    "import psutil\n",
    "memory_usage = psutil.Process().memory_info().rss / 1024 / 1024\n",
    "print(f\"Memory Usage: {memory_usage:.2f} MB\")"
   ]
  },
  {
   "cell_type": "code",
   "execution_count": 19,
   "id": "05c02894",
   "metadata": {
    "execution": {
     "iopub.execute_input": "2024-12-06T19:49:26.672629Z",
     "iopub.status.busy": "2024-12-06T19:49:26.672371Z",
     "iopub.status.idle": "2024-12-06T19:49:27.453982Z",
     "shell.execute_reply": "2024-12-06T19:49:27.452659Z"
    },
    "papermill": {
     "duration": 0.811529,
     "end_time": "2024-12-06T19:49:27.457799",
     "exception": false,
     "start_time": "2024-12-06T19:49:26.646270",
     "status": "completed"
    },
    "tags": []
   },
   "outputs": [],
   "source": [
    "# make predictions on the test data\n",
    "start_time = time.time()\n",
    "y_pred = stacking_clf.predict(X_test)\n",
    "testing_time = time.time() - start_time"
   ]
  },
  {
   "cell_type": "code",
   "execution_count": 20,
   "id": "6e93180e",
   "metadata": {
    "execution": {
     "iopub.execute_input": "2024-12-06T19:49:27.588590Z",
     "iopub.status.busy": "2024-12-06T19:49:27.588283Z",
     "iopub.status.idle": "2024-12-06T19:49:27.905150Z",
     "shell.execute_reply": "2024-12-06T19:49:27.904230Z"
    },
    "papermill": {
     "duration": 0.354335,
     "end_time": "2024-12-06T19:49:27.906880",
     "exception": false,
     "start_time": "2024-12-06T19:49:27.552545",
     "status": "completed"
    },
    "tags": []
   },
   "outputs": [
    {
     "name": "stdout",
     "output_type": "stream",
     "text": [
      "Confusion matrix, without normalization\n"
     ]
    },
    {
     "data": {
      "image/png": "[encoded data removed]",
      "text/plain": [
       "<Figure size 500x500 with 2 Axes>"
      ]
     },
     "metadata": {},
     "output_type": "display_data"
    }
   ],
   "source": [
    "import itertools\n",
    "def plot_confusion_matrix(cm, classes,\n",
    "                          normalize=False,\n",
    "                          title='',\n",
    "                          cmap=plt.cm.Greens):\n",
    "    \"\"\"\n",
    "    This function prints and plots the confusion matrix.\n",
    "    Normalization can be applied by setting `normalize=True`.\n",
    "    \"\"\"\n",
    "    if normalize:\n",
    "        cm = cm.astype('float') / cm.sum(axis=1)[:, np.newaxis]\n",
    "        print(\"Normalized confusion matrix\")\n",
    "    else:\n",
    "        print('Confusion matrix, without normalization')\n",
    "\n",
    "    plt.imshow(cm, interpolation='nearest', cmap=cmap)\n",
    "    plt.title(title)\n",
    "    plt.colorbar()\n",
    "    tick_marks = np.arange(len(classes))\n",
    "    plt.xticks(tick_marks, classes, rotation=45,fontweight='bold')\n",
    "    plt.yticks(tick_marks, classes, fontweight='bold')\n",
    "\n",
    "    for i in range(cm.shape[0]):\n",
    "        for j in range(cm.shape[1]):\n",
    "            plt.text(j, i, format(cm[i, j], 'd'),\n",
    "                    ha=\"center\", va=\"center\", fontweight='bold',\n",
    "                    color=\"white\" if cm[i, j] > cm.max() / 2. else \"black\")\n",
    "\n",
    "    plt.tight_layout()\n",
    "    plt.ylabel('True label',fontweight='bold')\n",
    "    plt.xlabel('Predicted label',fontweight='bold')\n",
    "\n",
    "# Compute confusion matrix\n",
    "cnf_matrix = confusion_matrix(y_test, y_pred)\n",
    "np.set_printoptions(precision=2)\n",
    "\n",
    "# Plot non-normalized confusion matrix\n",
    "plt.figure(figsize=(5,5))\n",
    "plot_confusion_matrix(cnf_matrix, classes=['EB','H','LB']\n",
    "                      )\n",
    "plt.show()"
   ]
  },
  {
   "cell_type": "code",
   "execution_count": 21,
   "id": "f6c20d97",
   "metadata": {
    "execution": {
     "iopub.execute_input": "2024-12-06T19:49:27.961699Z",
     "iopub.status.busy": "2024-12-06T19:49:27.960901Z",
     "iopub.status.idle": "2024-12-06T19:49:27.966372Z",
     "shell.execute_reply": "2024-12-06T19:49:27.965551Z"
    },
    "papermill": {
     "duration": 0.034562,
     "end_time": "2024-12-06T19:49:27.968035",
     "exception": false,
     "start_time": "2024-12-06T19:49:27.933473",
     "status": "completed"
    },
    "tags": []
   },
   "outputs": [
    {
     "data": {
      "text/plain": [
       "(486,)"
      ]
     },
     "execution_count": 21,
     "metadata": {},
     "output_type": "execute_result"
    }
   ],
   "source": [
    "y_pred.shape"
   ]
  },
  {
   "cell_type": "code",
   "execution_count": 22,
   "id": "cdbad14a",
   "metadata": {
    "execution": {
     "iopub.execute_input": "2024-12-06T19:49:28.023130Z",
     "iopub.status.busy": "2024-12-06T19:49:28.022522Z",
     "iopub.status.idle": "2024-12-06T19:49:28.033238Z",
     "shell.execute_reply": "2024-12-06T19:49:28.032313Z"
    },
    "papermill": {
     "duration": 0.040167,
     "end_time": "2024-12-06T19:49:28.034910",
     "exception": false,
     "start_time": "2024-12-06T19:49:27.994743",
     "status": "completed"
    },
    "tags": []
   },
   "outputs": [
    {
     "name": "stdout",
     "output_type": "stream",
     "text": [
      "Accuracy (Test): 97.9424\n",
      "Precision (Test): 97.9728\n",
      "Recall (Test): 97.9424\n",
      "F1 score (Test): 97.9420\n"
     ]
    }
   ],
   "source": [
    "accuracy_test = accuracy_score(y_test, y_pred)*100\n",
    "precision_test = precision_score(y_test, y_pred, average='macro')*100\n",
    "recall_test = recall_score(y_test, y_pred, average='macro')*100\n",
    "f1_test = f1_score(y_test, y_pred, average='macro')*100\n",
    "\n",
    "print(\"Accuracy (Test): {:.4f}\".format(accuracy_test))\n",
    "print(\"Precision (Test): {:.4f}\".format(precision_test))\n",
    "print(\"Recall (Test): {:.4f}\".format(recall_test))\n",
    "print(\"F1 score (Test): {:.4f}\".format(f1_test))"
   ]
  },
  {
   "cell_type": "code",
   "execution_count": 23,
   "id": "f67403da",
   "metadata": {
    "execution": {
     "iopub.execute_input": "2024-12-06T19:49:28.088308Z",
     "iopub.status.busy": "2024-12-06T19:49:28.087749Z",
     "iopub.status.idle": "2024-12-06T19:49:34.690751Z",
     "shell.execute_reply": "2024-12-06T19:49:34.689944Z"
    },
    "papermill": {
     "duration": 6.63228,
     "end_time": "2024-12-06T19:49:34.693098",
     "exception": false,
     "start_time": "2024-12-06T19:49:28.060818",
     "status": "completed"
    },
    "tags": []
   },
   "outputs": [],
   "source": [
    "# make predictions on the train data\n",
    "y_pred = stacking_clf.predict(X_train)"
   ]
  },
  {
   "cell_type": "code",
   "execution_count": 24,
   "id": "26362366",
   "metadata": {
    "execution": {
     "iopub.execute_input": "2024-12-06T19:49:34.749201Z",
     "iopub.status.busy": "2024-12-06T19:49:34.748588Z",
     "iopub.status.idle": "2024-12-06T19:49:35.480472Z",
     "shell.execute_reply": "2024-12-06T19:49:35.479568Z"
    },
    "papermill": {
     "duration": 0.760506,
     "end_time": "2024-12-06T19:49:35.482319",
     "exception": false,
     "start_time": "2024-12-06T19:49:34.721813",
     "status": "completed"
    },
    "tags": []
   },
   "outputs": [
    {
     "name": "stdout",
     "output_type": "stream",
     "text": [
      "Confusion matrix, without normalization\n"
     ]
    },
    {
     "data": {
      "image/png": "[encoded data removed]",
      "text/plain": [
       "<Figure size 500x500 with 2 Axes>"
      ]
     },
     "metadata": {},
     "output_type": "display_data"
    }
   ],
   "source": [
    "def plot_confusion_matrix(cm, classes,\n",
    "                          normalize=False,\n",
    "                          title='',\n",
    "                          cmap=plt.cm.Greens):\n",
    "    \"\"\"\n",
    "    This function prints and plots the confusion matrix.\n",
    "    Normalization can be applied by setting `normalize=True`.\n",
    "    \"\"\"\n",
    "    if normalize:\n",
    "        cm = cm.astype('float') / cm.sum(axis=1)[:, np.newaxis]\n",
    "        print(\"Normalized confusion matrix\")\n",
    "    else:\n",
    "        print('Confusion matrix, without normalization')\n",
    "\n",
    "    plt.imshow(cm, interpolation='nearest', cmap=cmap)\n",
    "    plt.title(title)\n",
    "    plt.colorbar()\n",
    "    tick_marks = np.arange(len(classes))\n",
    "    plt.xticks(tick_marks, classes, rotation=45,fontweight='bold')\n",
    "    plt.yticks(tick_marks, classes, fontweight='bold')\n",
    "\n",
    "    for i in range(cm.shape[0]):\n",
    "        for j in range(cm.shape[1]):\n",
    "            plt.text(j, i, format(cm[i, j], 'd'),\n",
    "                    ha=\"center\", va=\"center\", fontweight='bold',\n",
    "                    color=\"white\" if cm[i, j] > cm.max() / 2. else \"black\")\n",
    "\n",
    "    plt.tight_layout()\n",
    "    plt.ylabel('True label',fontweight='bold')\n",
    "    plt.xlabel('Predicted label',fontweight='bold')\n",
    "\n",
    "# Compute confusion matrix\n",
    "cnf_matrix = confusion_matrix(y_train, y_pred)\n",
    "np.set_printoptions(precision=2)\n",
    "\n",
    "# Plot non-normalized confusion matrix\n",
    "plt.figure(figsize=(5,5))\n",
    "plot_confusion_matrix(cnf_matrix, classes=['EB','H','LB']\n",
    "                      )\n",
    "plt.show()"
   ]
  },
  {
   "cell_type": "code",
   "execution_count": 25,
   "id": "2db3eec9",
   "metadata": {
    "execution": {
     "iopub.execute_input": "2024-12-06T19:49:35.540914Z",
     "iopub.status.busy": "2024-12-06T19:49:35.540338Z",
     "iopub.status.idle": "2024-12-06T19:49:35.552844Z",
     "shell.execute_reply": "2024-12-06T19:49:35.551836Z"
    },
    "papermill": {
     "duration": 0.044505,
     "end_time": "2024-12-06T19:49:35.554490",
     "exception": false,
     "start_time": "2024-12-06T19:49:35.509985",
     "status": "completed"
    },
    "tags": []
   },
   "outputs": [
    {
     "name": "stdout",
     "output_type": "stream",
     "text": [
      "Accuracy (Train): 99.9545\n",
      "Precision (Train): 99.9546\n",
      "Recall (Train): 99.9545\n",
      "F1 score (Train): 99.9545\n"
     ]
    }
   ],
   "source": [
    "accuracy_train = accuracy_score(y_train, y_pred)*100\n",
    "precision_train = precision_score(y_train, y_pred, average='macro')*100\n",
    "recall_train = recall_score(y_train, y_pred, average='macro')*100\n",
    "f1_train = f1_score(y_train, y_pred, average='macro')*100\n",
    "\n",
    "print(\"Accuracy (Train): {:.4f}\".format(accuracy_train))\n",
    "print(\"Precision (Train): {:.4f}\".format(precision_train))\n",
    "print(\"Recall (Train): {:.4f}\".format(recall_train))\n",
    "print(\"F1 score (Train): {:.4f}\".format(f1_train))"
   ]
  },
  {
   "cell_type": "code",
   "execution_count": 26,
   "id": "4010f13d",
   "metadata": {
    "execution": {
     "iopub.execute_input": "2024-12-06T19:49:35.608441Z",
     "iopub.status.busy": "2024-12-06T19:49:35.608136Z",
     "iopub.status.idle": "2024-12-06T19:49:35.615307Z",
     "shell.execute_reply": "2024-12-06T19:49:35.614510Z"
    },
    "papermill": {
     "duration": 0.035915,
     "end_time": "2024-12-06T19:49:35.616829",
     "exception": false,
     "start_time": "2024-12-06T19:49:35.580914",
     "status": "completed"
    },
    "tags": []
   },
   "outputs": [],
   "source": [
    "model_name='EfficientNetB4'\n",
    "all_model.loc[len(all_model)] = [model_name, accuracy_train, precision_train, recall_train, f1_train, accuracy_test, precision_test, recall_test, f1_test, training_time, testing_time, memory_usage]"
   ]
  },
  {
   "cell_type": "code",
   "execution_count": 27,
   "id": "22d1700a",
   "metadata": {
    "execution": {
     "iopub.execute_input": "2024-12-06T19:49:35.672161Z",
     "iopub.status.busy": "2024-12-06T19:49:35.671815Z",
     "iopub.status.idle": "2024-12-06T19:49:35.685162Z",
     "shell.execute_reply": "2024-12-06T19:49:35.684287Z"
    },
    "papermill": {
     "duration": 0.043625,
     "end_time": "2024-12-06T19:49:35.686941",
     "exception": false,
     "start_time": "2024-12-06T19:49:35.643316",
     "status": "completed"
    },
    "tags": []
   },
   "outputs": [
    {
     "data": {
      "text/html": [
       "<div>\n",
       "<style scoped>\n",
       "    .dataframe tbody tr th:only-of-type {\n",
       "        vertical-align: middle;\n",
       "    }\n",
       "\n",
       "    .dataframe tbody tr th {\n",
       "        vertical-align: top;\n",
       "    }\n",
       "\n",
       "    .dataframe thead th {\n",
       "        text-align: right;\n",
       "    }\n",
       "</style>\n",
       "<table border=\"1\" class=\"dataframe\">\n",
       "  <thead>\n",
       "    <tr style=\"text-align: right;\">\n",
       "      <th></th>\n",
       "      <th>Model</th>\n",
       "      <th>Accuracy (Train)</th>\n",
       "      <th>Precision (Train)</th>\n",
       "      <th>Recall (Train)</th>\n",
       "      <th>F1 Score (Train)</th>\n",
       "      <th>Accuracy (Test)</th>\n",
       "      <th>Precision (Test)</th>\n",
       "      <th>Recall (Test)</th>\n",
       "      <th>F1 Score (Test)</th>\n",
       "      <th>Training Time (s)</th>\n",
       "      <th>Testing Time (s)</th>\n",
       "      <th>Memory (MB)</th>\n",
       "    </tr>\n",
       "  </thead>\n",
       "  <tbody>\n",
       "    <tr>\n",
       "      <th>0</th>\n",
       "      <td>EfficientNetB4</td>\n",
       "      <td>99.954525</td>\n",
       "      <td>99.954587</td>\n",
       "      <td>99.954525</td>\n",
       "      <td>99.954533</td>\n",
       "      <td>97.942387</td>\n",
       "      <td>97.972797</td>\n",
       "      <td>97.942387</td>\n",
       "      <td>97.942044</td>\n",
       "      <td>98.879802</td>\n",
       "      <td>0.777694</td>\n",
       "      <td>5778.941406</td>\n",
       "    </tr>\n",
       "  </tbody>\n",
       "</table>\n",
       "</div>"
      ],
      "text/plain": [
       "            Model  Accuracy (Train)  Precision (Train)  Recall (Train)  \\\n",
       "0  EfficientNetB4         99.954525          99.954587       99.954525   \n",
       "\n",
       "   F1 Score (Train)  Accuracy (Test)  Precision (Test)  Recall (Test)  \\\n",
       "0         99.954533        97.942387         97.972797      97.942387   \n",
       "\n",
       "   F1 Score (Test)  Training Time (s)  Testing Time (s)  Memory (MB)  \n",
       "0        97.942044          98.879802          0.777694  5778.941406  "
      ]
     },
     "execution_count": 27,
     "metadata": {},
     "output_type": "execute_result"
    }
   ],
   "source": [
    "all_model"
   ]
  }
 ],
 "metadata": {
  "kaggle": {
   "accelerator": "gpu",
   "dataSources": [
    {
     "datasetId": 1562973,
     "sourceId": 2574068,
     "sourceType": "datasetVersion"
    },
    {
     "datasetId": 6161628,
     "sourceId": 10008956,
     "sourceType": "datasetVersion"
    }
   ],
   "dockerImageVersionId": 30528,
   "isGpuEnabled": true,
   "isInternetEnabled": true,
   "language": "python",
   "sourceType": "notebook"
  },
  "kernelspec": {
   "display_name": "Python 3",
   "language": "python",
   "name": "python3"
  },
  "language_info": {
   "codemirror_mode": {
    "name": "ipython",
    "version": 3
   },
   "file_extension": ".py",
   "mimetype": "text/x-python",
   "name": "python",
   "nbconvert_exporter": "python",
   "pygments_lexer": "ipython3",
   "version": "3.10.12"
  },
  "papermill": {
   "default_parameters": {},
   "duration": 215.72359,
   "end_time": "2024-12-06T19:49:39.378063",
   "environment_variables": {},
   "exception": null,
   "input_path": "__notebook__.ipynb",
   "output_path": "__notebook__.ipynb",
   "parameters": {},
   "start_time": "2024-12-06T19:46:03.654473",
   "version": "2.4.0"
  }
 },
 "nbformat": 4,
 "nbformat_minor": 5
}
