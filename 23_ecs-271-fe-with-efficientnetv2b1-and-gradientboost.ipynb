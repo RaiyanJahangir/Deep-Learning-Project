{
 "cells": [
  {
   "cell_type": "code",
   "execution_count": 1,
   "id": "bc85817f",
   "metadata": {
    "_cell_guid": "b1076dfc-b9ad-4769-8c92-a6c4dae69d19",
    "_uuid": "8f2839f25d086af736a60e9eeb907d3b93b6e0e5",
    "execution": {
     "iopub.execute_input": "2024-12-06T03:47:27.251322Z",
     "iopub.status.busy": "2024-12-06T03:47:27.251013Z",
     "iopub.status.idle": "2024-12-06T03:47:27.258653Z",
     "shell.execute_reply": "2024-12-06T03:47:27.258070Z"
    },
    "papermill": {
     "duration": 0.015859,
     "end_time": "2024-12-06T03:47:27.260273",
     "exception": false,
     "start_time": "2024-12-06T03:47:27.244414",
     "status": "completed"
    },
    "tags": []
   },
   "outputs": [],
   "source": [
    "# This Python 3 environment comes with many helpful analytics libraries installed\n",
    "# It is defined by the kaggle/python Docker image: https://github.com/kaggle/docker-python\n",
    "# For example, here's several helpful packages to load\n",
    "\n",
    "import numpy as np # linear algebra\n",
    "import pandas as pd # data processing, CSV file I/O (e.g. pd.read_csv)\n",
    "\n",
    "# Input data files are available in the read-only \"../input/\" directory\n",
    "# For example, running this (by clicking run or pressing Shift+Enter) will list all files under the input directory\n",
    "\n",
    "# import os\n",
    "# for dirname, _, filenames in os.walk('/kaggle/input'):\n",
    "#     for filename in filenames:\n",
    "#         print(os.path.join(dirname, filename))\n",
    "\n",
    "# You can write up to 20GB to the current directory (/kaggle/working/) that gets preserved as output when you create a version using \"Save & Run All\" \n",
    "# You can also write temporary files to /kaggle/temp/, but they won't be saved outside of the current session"
   ]
  },
  {
   "cell_type": "code",
   "execution_count": 2,
   "id": "d153b2e4",
   "metadata": {
    "execution": {
     "iopub.execute_input": "2024-12-06T03:47:27.270618Z",
     "iopub.status.busy": "2024-12-06T03:47:27.270390Z",
     "iopub.status.idle": "2024-12-06T03:47:36.337130Z",
     "shell.execute_reply": "2024-12-06T03:47:36.336154Z"
    },
    "papermill": {
     "duration": 9.074661,
     "end_time": "2024-12-06T03:47:36.339768",
     "exception": false,
     "start_time": "2024-12-06T03:47:27.265107",
     "status": "completed"
    },
    "tags": []
   },
   "outputs": [
    {
     "name": "stderr",
     "output_type": "stream",
     "text": [
      "/opt/conda/lib/python3.10/site-packages/scipy/__init__.py:146: UserWarning: A NumPy version >=1.16.5 and <1.23.0 is required for this version of SciPy (detected version 1.23.5\n",
      "  warnings.warn(f\"A NumPy version >={np_minversion} and <{np_maxversion}\"\n",
      "/opt/conda/lib/python3.10/site-packages/tensorflow_io/python/ops/__init__.py:98: UserWarning: unable to load libtensorflow_io_plugins.so: unable to open file: libtensorflow_io_plugins.so, from paths: ['/opt/conda/lib/python3.10/site-packages/tensorflow_io/python/ops/libtensorflow_io_plugins.so']\n",
      "caused by: ['/opt/conda/lib/python3.10/site-packages/tensorflow_io/python/ops/libtensorflow_io_plugins.so: undefined symbol: _ZN3tsl6StatusC1EN10tensorflow5error4CodeESt17basic_string_viewIcSt11char_traitsIcEENS_14SourceLocationE']\n",
      "  warnings.warn(f\"unable to load libtensorflow_io_plugins.so: {e}\")\n",
      "/opt/conda/lib/python3.10/site-packages/tensorflow_io/python/ops/__init__.py:104: UserWarning: file system plugins are not loaded: unable to open file: libtensorflow_io.so, from paths: ['/opt/conda/lib/python3.10/site-packages/tensorflow_io/python/ops/libtensorflow_io.so']\n",
      "caused by: ['/opt/conda/lib/python3.10/site-packages/tensorflow_io/python/ops/libtensorflow_io.so: undefined symbol: _ZTVN10tensorflow13GcsFileSystemE']\n",
      "  warnings.warn(f\"file system plugins are not loaded: {e}\")\n"
     ]
    }
   ],
   "source": [
    "import matplotlib.pyplot as plt\n",
    "import numpy as np\n",
    "import pandas as pd\n",
    "import seaborn as sns\n",
    "import cv2\n",
    "import tensorflow as tf\n",
    "from tensorflow.keras.preprocessing.image import ImageDataGenerator\n",
    "from tqdm import tqdm\n",
    "import os\n",
    "from sklearn.utils import shuffle\n",
    "from sklearn.model_selection import train_test_split\n",
    "from tensorflow.keras.applications import EfficientNetB0, DenseNet201\n",
    "from tensorflow.keras.callbacks import EarlyStopping, ReduceLROnPlateau, TensorBoard, ModelCheckpoint\n",
    "from sklearn.metrics import classification_report,confusion_matrix\n",
    "import ipywidgets as widgets\n",
    "import io\n",
    "from PIL import Image\n",
    "from IPython.display import display,clear_output\n",
    "from warnings import filterwarnings\n",
    "from keras.models import Sequential\n",
    "from keras.layers import Dense, Flatten, Dropout\n",
    "from sklearn.metrics import accuracy_score, precision_score, recall_score, f1_score\n",
    "import time\n",
    "import psutil"
   ]
  },
  {
   "cell_type": "code",
   "execution_count": 3,
   "id": "0862feaa",
   "metadata": {
    "execution": {
     "iopub.execute_input": "2024-12-06T03:47:36.356556Z",
     "iopub.status.busy": "2024-12-06T03:47:36.355825Z",
     "iopub.status.idle": "2024-12-06T03:47:36.361057Z",
     "shell.execute_reply": "2024-12-06T03:47:36.360024Z"
    },
    "papermill": {
     "duration": 0.014148,
     "end_time": "2024-12-06T03:47:36.362748",
     "exception": false,
     "start_time": "2024-12-06T03:47:36.348600",
     "status": "completed"
    },
    "tags": []
   },
   "outputs": [],
   "source": [
    "labels = ['Early_Blight','Healthy','Late_Blight']"
   ]
  },
  {
   "cell_type": "code",
   "execution_count": 4,
   "id": "7e715b1f",
   "metadata": {
    "execution": {
     "iopub.execute_input": "2024-12-06T03:47:36.373377Z",
     "iopub.status.busy": "2024-12-06T03:47:36.373116Z",
     "iopub.status.idle": "2024-12-06T03:48:09.714584Z",
     "shell.execute_reply": "2024-12-06T03:48:09.713895Z"
    },
    "papermill": {
     "duration": 33.349132,
     "end_time": "2024-12-06T03:48:09.716641",
     "exception": false,
     "start_time": "2024-12-06T03:47:36.367509",
     "status": "completed"
    },
    "tags": []
   },
   "outputs": [
    {
     "name": "stderr",
     "output_type": "stream",
     "text": [
      "100%|██████████| 1303/1303 [00:09<00:00, 141.45it/s]\n",
      "100%|██████████| 1303/1303 [00:08<00:00, 155.24it/s]\n",
      "100%|██████████| 1303/1303 [00:08<00:00, 155.33it/s]\n",
      "100%|██████████| 162/162 [00:01<00:00, 145.71it/s]\n",
      "100%|██████████| 162/162 [00:01<00:00, 145.90it/s]\n",
      "100%|██████████| 162/162 [00:01<00:00, 147.52it/s]\n",
      "100%|██████████| 163/163 [00:01<00:00, 138.07it/s]\n",
      "100%|██████████| 163/163 [00:01<00:00, 122.85it/s]\n",
      "100%|██████████| 163/163 [00:01<00:00, 140.40it/s]\n"
     ]
    }
   ],
   "source": [
    "X_train = []\n",
    "y_train = []\n",
    "X_test = []\n",
    "y_test = []\n",
    "image_size = 224\n",
    "for i in labels:\n",
    "    folderPath = os.path.join('/kaggle/input/balanced-data/balanced_data','Training',i)\n",
    "    for j in tqdm(os.listdir(folderPath)):\n",
    "        img = cv2.imread(os.path.join(folderPath,j))\n",
    "        img = cv2.resize(img,(image_size, image_size))\n",
    "        X_train.append(img)\n",
    "        y_train.append(i)\n",
    "        \n",
    "for i in labels:\n",
    "    folderPath = os.path.join('/kaggle/input/balanced-data/balanced_data','Testing',i)\n",
    "    for j in tqdm(os.listdir(folderPath)):\n",
    "        img = cv2.imread(os.path.join(folderPath,j))\n",
    "        img = cv2.resize(img,(image_size,image_size))\n",
    "        X_test.append(img)\n",
    "        y_test.append(i)\n",
    "        \n",
    "for i in labels:\n",
    "    folderPath = os.path.join('/kaggle/input/balanced-data/balanced_data','Validation',i)\n",
    "    for j in tqdm(os.listdir(folderPath)):\n",
    "        img = cv2.imread(os.path.join(folderPath,j))\n",
    "        img = cv2.resize(img,(image_size,image_size))\n",
    "        X_train.append(img)\n",
    "        y_train.append(i)\n",
    "        \n",
    "X_train = np.array(X_train)\n",
    "y_train = np.array(y_train)\n",
    "X_test = np.array(X_test)\n",
    "y_test = np.array(y_test)"
   ]
  },
  {
   "cell_type": "code",
   "execution_count": 5,
   "id": "d308d65b",
   "metadata": {
    "execution": {
     "iopub.execute_input": "2024-12-06T03:48:09.754279Z",
     "iopub.status.busy": "2024-12-06T03:48:09.754010Z",
     "iopub.status.idle": "2024-12-06T03:48:09.758599Z",
     "shell.execute_reply": "2024-12-06T03:48:09.757686Z"
    },
    "papermill": {
     "duration": 0.025184,
     "end_time": "2024-12-06T03:48:09.760318",
     "exception": false,
     "start_time": "2024-12-06T03:48:09.735134",
     "status": "completed"
    },
    "tags": []
   },
   "outputs": [
    {
     "name": "stdout",
     "output_type": "stream",
     "text": [
      "(4398, 224, 224, 3)\n",
      "(4398,)\n",
      "(486, 224, 224, 3)\n",
      "(486,)\n"
     ]
    }
   ],
   "source": [
    "print(X_train.shape)\n",
    "print(y_train.shape)\n",
    "print(X_test.shape)\n",
    "print(y_test.shape)"
   ]
  },
  {
   "cell_type": "code",
   "execution_count": 6,
   "id": "d14da88f",
   "metadata": {
    "execution": {
     "iopub.execute_input": "2024-12-06T03:48:09.797134Z",
     "iopub.status.busy": "2024-12-06T03:48:09.796879Z",
     "iopub.status.idle": "2024-12-06T03:48:09.802559Z",
     "shell.execute_reply": "2024-12-06T03:48:09.801831Z"
    },
    "papermill": {
     "duration": 0.025724,
     "end_time": "2024-12-06T03:48:09.804157",
     "exception": false,
     "start_time": "2024-12-06T03:48:09.778433",
     "status": "completed"
    },
    "tags": []
   },
   "outputs": [
    {
     "name": "stdout",
     "output_type": "stream",
     "text": [
      "['Early_Blight' 'Healthy' 'Late_Blight']\n",
      "['Early_Blight' 'Healthy' 'Late_Blight']\n"
     ]
    }
   ],
   "source": [
    "print(np.unique(y_test))\n",
    "print(np.unique(y_train))"
   ]
  },
  {
   "cell_type": "code",
   "execution_count": 7,
   "id": "a64ccb5d",
   "metadata": {
    "execution": {
     "iopub.execute_input": "2024-12-06T03:48:09.841364Z",
     "iopub.status.busy": "2024-12-06T03:48:09.841116Z",
     "iopub.status.idle": "2024-12-06T03:48:09.848311Z",
     "shell.execute_reply": "2024-12-06T03:48:09.847641Z"
    },
    "papermill": {
     "duration": 0.028077,
     "end_time": "2024-12-06T03:48:09.850138",
     "exception": false,
     "start_time": "2024-12-06T03:48:09.822061",
     "status": "completed"
    },
    "tags": []
   },
   "outputs": [],
   "source": [
    "y_train_new = []\n",
    "for i in y_train:\n",
    "    y_train_new.append(labels.index(i))\n",
    "y_train = y_train_new\n",
    "y_train = tf.keras.utils.to_categorical(y_train)\n",
    "\n",
    "\n",
    "y_test_new = []\n",
    "for i in y_test:\n",
    "    y_test_new.append(labels.index(i))\n",
    "y_test = y_test_new\n",
    "y_test = tf.keras.utils.to_categorical(y_test)"
   ]
  },
  {
   "cell_type": "code",
   "execution_count": 8,
   "id": "5c65fe93",
   "metadata": {
    "execution": {
     "iopub.execute_input": "2024-12-06T03:48:09.888317Z",
     "iopub.status.busy": "2024-12-06T03:48:09.888056Z",
     "iopub.status.idle": "2024-12-06T03:48:09.898347Z",
     "shell.execute_reply": "2024-12-06T03:48:09.897621Z"
    },
    "papermill": {
     "duration": 0.030437,
     "end_time": "2024-12-06T03:48:09.899904",
     "exception": false,
     "start_time": "2024-12-06T03:48:09.869467",
     "status": "completed"
    },
    "tags": []
   },
   "outputs": [],
   "source": [
    "all_model = pd.DataFrame(columns=['Model', 'Accuracy (Train)', 'Precision (Train)', 'Recall (Train)', 'F1 Score (Train)', 'Accuracy (Test)', 'Precision (Test)', 'Recall (Test)', 'F1 Score (Test)', 'Training Time (s)', 'Testing Time (s)','Memory (MB)'])"
   ]
  },
  {
   "cell_type": "code",
   "execution_count": 9,
   "id": "f6169aa5",
   "metadata": {
    "execution": {
     "iopub.execute_input": "2024-12-06T03:48:09.936552Z",
     "iopub.status.busy": "2024-12-06T03:48:09.936288Z",
     "iopub.status.idle": "2024-12-06T03:48:09.949720Z",
     "shell.execute_reply": "2024-12-06T03:48:09.948964Z"
    },
    "papermill": {
     "duration": 0.03374,
     "end_time": "2024-12-06T03:48:09.951418",
     "exception": false,
     "start_time": "2024-12-06T03:48:09.917678",
     "status": "completed"
    },
    "tags": []
   },
   "outputs": [
    {
     "data": {
      "text/html": [
       "<div>\n",
       "<style scoped>\n",
       "    .dataframe tbody tr th:only-of-type {\n",
       "        vertical-align: middle;\n",
       "    }\n",
       "\n",
       "    .dataframe tbody tr th {\n",
       "        vertical-align: top;\n",
       "    }\n",
       "\n",
       "    .dataframe thead th {\n",
       "        text-align: right;\n",
       "    }\n",
       "</style>\n",
       "<table border=\"1\" class=\"dataframe\">\n",
       "  <thead>\n",
       "    <tr style=\"text-align: right;\">\n",
       "      <th></th>\n",
       "      <th>Model</th>\n",
       "      <th>Accuracy (Train)</th>\n",
       "      <th>Precision (Train)</th>\n",
       "      <th>Recall (Train)</th>\n",
       "      <th>F1 Score (Train)</th>\n",
       "      <th>Accuracy (Test)</th>\n",
       "      <th>Precision (Test)</th>\n",
       "      <th>Recall (Test)</th>\n",
       "      <th>F1 Score (Test)</th>\n",
       "      <th>Training Time (s)</th>\n",
       "      <th>Testing Time (s)</th>\n",
       "      <th>Memory (MB)</th>\n",
       "    </tr>\n",
       "  </thead>\n",
       "  <tbody>\n",
       "  </tbody>\n",
       "</table>\n",
       "</div>"
      ],
      "text/plain": [
       "Empty DataFrame\n",
       "Columns: [Model, Accuracy (Train), Precision (Train), Recall (Train), F1 Score (Train), Accuracy (Test), Precision (Test), Recall (Test), F1 Score (Test), Training Time (s), Testing Time (s), Memory (MB)]\n",
       "Index: []"
      ]
     },
     "execution_count": 9,
     "metadata": {},
     "output_type": "execute_result"
    }
   ],
   "source": [
    "all_model"
   ]
  },
  {
   "cell_type": "markdown",
   "id": "b22816c1",
   "metadata": {
    "papermill": {
     "duration": 0.017599,
     "end_time": "2024-12-06T03:48:09.987070",
     "exception": false,
     "start_time": "2024-12-06T03:48:09.969471",
     "status": "completed"
    },
    "tags": []
   },
   "source": [
    "**Feature Extraction from MobileNetV3Large**"
   ]
  },
  {
   "cell_type": "code",
   "execution_count": 10,
   "id": "fa6593ca",
   "metadata": {
    "execution": {
     "iopub.execute_input": "2024-12-06T03:48:10.024083Z",
     "iopub.status.busy": "2024-12-06T03:48:10.023761Z",
     "iopub.status.idle": "2024-12-06T03:48:15.155408Z",
     "shell.execute_reply": "2024-12-06T03:48:15.154386Z"
    },
    "papermill": {
     "duration": 5.152577,
     "end_time": "2024-12-06T03:48:15.157646",
     "exception": false,
     "start_time": "2024-12-06T03:48:10.005069",
     "status": "completed"
    },
    "tags": []
   },
   "outputs": [
    {
     "name": "stdout",
     "output_type": "stream",
     "text": [
      "Downloading data from https://storage.googleapis.com/tensorflow/keras-applications/efficientnet_v2/efficientnetv2-b1_notop.h5\n",
      "28456008/28456008 [==============================] - 0s 0us/step\n"
     ]
    }
   ],
   "source": [
    "# Define the base model for feature extraction\n",
    "model = tf.keras.applications.EfficientNetV2B1(\n",
    "    include_top=False,  # Exclude fully connected layers\n",
    "    weights=\"imagenet\",  # Pretrained weights from ImageNet\n",
    "    input_shape=(image_size, image_size, 3),  # Input image size\n",
    "    pooling=\"avg\"  # Global average pooling layer to get feature vector\n",
    ")\n",
    "\n",
    "# Freeze the base model to prevent updates during feature extraction\n",
    "model.trainable = False\n"
   ]
  },
  {
   "cell_type": "code",
   "execution_count": 11,
   "id": "b227983d",
   "metadata": {
    "execution": {
     "iopub.execute_input": "2024-12-06T03:48:15.196028Z",
     "iopub.status.busy": "2024-12-06T03:48:15.195703Z",
     "iopub.status.idle": "2024-12-06T03:48:26.234891Z",
     "shell.execute_reply": "2024-12-06T03:48:26.233914Z"
    },
    "papermill": {
     "duration": 11.060172,
     "end_time": "2024-12-06T03:48:26.236938",
     "exception": false,
     "start_time": "2024-12-06T03:48:15.176766",
     "status": "completed"
    },
    "tags": []
   },
   "outputs": [
    {
     "name": "stdout",
     "output_type": "stream",
     "text": [
      "138/138 [==============================] - 9s 32ms/step\n"
     ]
    }
   ],
   "source": [
    "# Use the base model to extract features\n",
    "X_train = model.predict(X_train, batch_size=32, verbose=1)"
   ]
  },
  {
   "cell_type": "code",
   "execution_count": 12,
   "id": "65189cad",
   "metadata": {
    "execution": {
     "iopub.execute_input": "2024-12-06T03:48:26.281218Z",
     "iopub.status.busy": "2024-12-06T03:48:26.280932Z",
     "iopub.status.idle": "2024-12-06T03:48:26.285148Z",
     "shell.execute_reply": "2024-12-06T03:48:26.284355Z"
    },
    "papermill": {
     "duration": 0.027875,
     "end_time": "2024-12-06T03:48:26.286716",
     "exception": false,
     "start_time": "2024-12-06T03:48:26.258841",
     "status": "completed"
    },
    "tags": []
   },
   "outputs": [],
   "source": [
    "# If labels are one-hot encoded, convert to class indices\n",
    "if y_train.shape[-1] > 1:\n",
    "    y_train = np.argmax(y_train, axis=1)"
   ]
  },
  {
   "cell_type": "code",
   "execution_count": 13,
   "id": "56317ecf",
   "metadata": {
    "execution": {
     "iopub.execute_input": "2024-12-06T03:48:26.329469Z",
     "iopub.status.busy": "2024-12-06T03:48:26.329230Z",
     "iopub.status.idle": "2024-12-06T03:48:26.333445Z",
     "shell.execute_reply": "2024-12-06T03:48:26.332656Z"
    },
    "papermill": {
     "duration": 0.027832,
     "end_time": "2024-12-06T03:48:26.335279",
     "exception": false,
     "start_time": "2024-12-06T03:48:26.307447",
     "status": "completed"
    },
    "tags": []
   },
   "outputs": [
    {
     "name": "stdout",
     "output_type": "stream",
     "text": [
      "Extracted features shape: (4398, 1280)\n",
      "Labels shape: (4398,)\n"
     ]
    }
   ],
   "source": [
    "# X_train now contains the extracted features, and y_train contains the labels\n",
    "print(\"Extracted features shape:\", X_train.shape)\n",
    "print(\"Labels shape:\", y_train.shape)"
   ]
  },
  {
   "cell_type": "code",
   "execution_count": 14,
   "id": "26371980",
   "metadata": {
    "execution": {
     "iopub.execute_input": "2024-12-06T03:48:26.378848Z",
     "iopub.status.busy": "2024-12-06T03:48:26.378579Z",
     "iopub.status.idle": "2024-12-06T03:48:27.348889Z",
     "shell.execute_reply": "2024-12-06T03:48:27.348144Z"
    },
    "papermill": {
     "duration": 0.994131,
     "end_time": "2024-12-06T03:48:27.350553",
     "exception": false,
     "start_time": "2024-12-06T03:48:26.356422",
     "status": "completed"
    },
    "tags": []
   },
   "outputs": [
    {
     "name": "stdout",
     "output_type": "stream",
     "text": [
      "16/16 [==============================] - 1s 56ms/step\n"
     ]
    }
   ],
   "source": [
    "# Use the base model to extract features from test data\n",
    "X_test = model.predict(X_test, batch_size=32, verbose=1)"
   ]
  },
  {
   "cell_type": "code",
   "execution_count": 15,
   "id": "b3181654",
   "metadata": {
    "execution": {
     "iopub.execute_input": "2024-12-06T03:48:27.395064Z",
     "iopub.status.busy": "2024-12-06T03:48:27.394760Z",
     "iopub.status.idle": "2024-12-06T03:48:27.398915Z",
     "shell.execute_reply": "2024-12-06T03:48:27.398183Z"
    },
    "papermill": {
     "duration": 0.027672,
     "end_time": "2024-12-06T03:48:27.400360",
     "exception": false,
     "start_time": "2024-12-06T03:48:27.372688",
     "status": "completed"
    },
    "tags": []
   },
   "outputs": [],
   "source": [
    "# If labels are one-hot encoded, convert to class indices\n",
    "if y_test.shape[-1] > 1:\n",
    "    y_test = np.argmax(y_test, axis=1)"
   ]
  },
  {
   "cell_type": "code",
   "execution_count": 16,
   "id": "bfcb5b8e",
   "metadata": {
    "execution": {
     "iopub.execute_input": "2024-12-06T03:48:27.444291Z",
     "iopub.status.busy": "2024-12-06T03:48:27.444036Z",
     "iopub.status.idle": "2024-12-06T03:48:27.448595Z",
     "shell.execute_reply": "2024-12-06T03:48:27.447696Z"
    },
    "papermill": {
     "duration": 0.028566,
     "end_time": "2024-12-06T03:48:27.450281",
     "exception": false,
     "start_time": "2024-12-06T03:48:27.421715",
     "status": "completed"
    },
    "tags": []
   },
   "outputs": [
    {
     "name": "stdout",
     "output_type": "stream",
     "text": [
      "Extracted features shape: (486, 1280)\n",
      "Labels shape: (486,)\n"
     ]
    }
   ],
   "source": [
    "# X_test now contains the extracted features, and y_test contains the labels\n",
    "print(\"Extracted features shape:\", X_test.shape)\n",
    "print(\"Labels shape:\", y_test.shape)"
   ]
  },
  {
   "cell_type": "code",
   "execution_count": 17,
   "id": "e1a56df8",
   "metadata": {
    "execution": {
     "iopub.execute_input": "2024-12-06T03:48:27.494098Z",
     "iopub.status.busy": "2024-12-06T03:48:27.493832Z",
     "iopub.status.idle": "2024-12-06T03:48:27.809681Z",
     "shell.execute_reply": "2024-12-06T03:48:27.809008Z"
    },
    "papermill": {
     "duration": 0.34019,
     "end_time": "2024-12-06T03:48:27.811762",
     "exception": false,
     "start_time": "2024-12-06T03:48:27.471572",
     "status": "completed"
    },
    "tags": []
   },
   "outputs": [],
   "source": [
    "from sklearn.ensemble import StackingClassifier\n",
    "from sklearn.ensemble import RandomForestClassifier\n",
    "from sklearn.svm import SVC\n",
    "from sklearn.neighbors import KNeighborsClassifier\n",
    "from sklearn.linear_model import LogisticRegression\n",
    "from sklearn.neural_network import MLPClassifier\n",
    "from sklearn.tree import DecisionTreeClassifier\n",
    "from sklearn.naive_bayes import GaussianNB\n",
    "from sklearn.model_selection import train_test_split\n",
    "from sklearn.metrics import accuracy_score\n",
    "from sklearn.ensemble import GradientBoostingClassifier\n",
    "\n",
    "# Define the Level 0 classifiers\n",
    "level_0_estimators = [\n",
    "    ('svm', SVC(kernel='rbf',C=1.0,gamma='scale',decision_function_shape='ovr')),\n",
    "    ('knn', KNeighborsClassifier()),\n",
    "    ('logistic', LogisticRegression(multi_class='multinomial',solver='lbfgs',C=1.0,max_iter=1000,random_state=42 )),\n",
    "    ('mlp', MLPClassifier(random_state=42)),\n",
    "    ('decision_tree', DecisionTreeClassifier(criterion='gini',max_depth=20,min_samples_split=5,min_samples_leaf=3,max_features='sqrt',random_state=42)),\n",
    "    ('naive_bayes', GaussianNB(var_smoothing=1e-8))\n",
    "]\n",
    "\n",
    "# Define the Level 1 classifier (meta-classifier)\n",
    "level_1_meta_classifier = GradientBoostingClassifier(\n",
    "    n_estimators=300,            \n",
    "    learning_rate=0.05,          \n",
    "    max_depth=5,                 \n",
    "    min_samples_split=5,         \n",
    "    min_samples_leaf=3,          \n",
    "    max_features='sqrt',         \n",
    "    subsample=0.9,               \n",
    "    random_state=42              \n",
    ")\n",
    "\n",
    "# Create the Stacking Classifier\n",
    "stacking_clf = StackingClassifier(\n",
    "    estimators=level_0_estimators,\n",
    "    final_estimator=level_1_meta_classifier,\n",
    "    cv=5\n",
    ")"
   ]
  },
  {
   "cell_type": "code",
   "execution_count": 18,
   "id": "e5c93f7f",
   "metadata": {
    "execution": {
     "iopub.execute_input": "2024-12-06T03:48:27.856423Z",
     "iopub.status.busy": "2024-12-06T03:48:27.856166Z",
     "iopub.status.idle": "2024-12-06T03:49:39.066872Z",
     "shell.execute_reply": "2024-12-06T03:49:39.066073Z"
    },
    "papermill": {
     "duration": 71.256919,
     "end_time": "2024-12-06T03:49:39.090680",
     "exception": false,
     "start_time": "2024-12-06T03:48:27.833761",
     "status": "completed"
    },
    "tags": []
   },
   "outputs": [
    {
     "name": "stdout",
     "output_type": "stream",
     "text": [
      "Training Time: 71.21 seconds\n",
      "Memory Usage: 3532.64 MB\n"
     ]
    }
   ],
   "source": [
    "import time\n",
    "\n",
    "# Start timer\n",
    "start_time = time.time()\n",
    "\n",
    "# Train the stacking classifier\n",
    "stacking_clf.fit(X_train, y_train)\n",
    "\n",
    "# Measure training time\n",
    "training_time = time.time() - start_time\n",
    "print(f\"Training Time: {training_time:.2f} seconds\")\n",
    "\n",
    "# Evaluate memory usage (optional, requires `psutil` library)\n",
    "import psutil\n",
    "memory_usage = psutil.Process().memory_info().rss / 1024 / 1024\n",
    "print(f\"Memory Usage: {memory_usage:.2f} MB\")"
   ]
  },
  {
   "cell_type": "code",
   "execution_count": 19,
   "id": "6104d6b9",
   "metadata": {
    "execution": {
     "iopub.execute_input": "2024-12-06T03:49:39.134984Z",
     "iopub.status.busy": "2024-12-06T03:49:39.134338Z",
     "iopub.status.idle": "2024-12-06T03:49:39.732020Z",
     "shell.execute_reply": "2024-12-06T03:49:39.730906Z"
    },
    "papermill": {
     "duration": 0.623959,
     "end_time": "2024-12-06T03:49:39.736221",
     "exception": false,
     "start_time": "2024-12-06T03:49:39.112262",
     "status": "completed"
    },
    "tags": []
   },
   "outputs": [],
   "source": [
    "# make predictions on the test data\n",
    "start_time = time.time()\n",
    "y_pred = stacking_clf.predict(X_test)\n",
    "testing_time = time.time() - start_time"
   ]
  },
  {
   "cell_type": "code",
   "execution_count": 20,
   "id": "db269339",
   "metadata": {
    "execution": {
     "iopub.execute_input": "2024-12-06T03:49:39.850235Z",
     "iopub.status.busy": "2024-12-06T03:49:39.849473Z",
     "iopub.status.idle": "2024-12-06T03:49:40.067414Z",
     "shell.execute_reply": "2024-12-06T03:49:40.066366Z"
    },
    "papermill": {
     "duration": 0.265876,
     "end_time": "2024-12-06T03:49:40.070119",
     "exception": false,
     "start_time": "2024-12-06T03:49:39.804243",
     "status": "completed"
    },
    "tags": []
   },
   "outputs": [
    {
     "name": "stdout",
     "output_type": "stream",
     "text": [
      "Confusion matrix, without normalization\n"
     ]
    },
    {
     "data": {
      "image/png": "[encoded data removed]",
      "text/plain": [
       "<Figure size 500x500 with 2 Axes>"
      ]
     },
     "metadata": {},
     "output_type": "display_data"
    }
   ],
   "source": [
    "import itertools\n",
    "def plot_confusion_matrix(cm, classes,\n",
    "                          normalize=False,\n",
    "                          title='',\n",
    "                          cmap=plt.cm.Greens):\n",
    "    \"\"\"\n",
    "    This function prints and plots the confusion matrix.\n",
    "    Normalization can be applied by setting `normalize=True`.\n",
    "    \"\"\"\n",
    "    if normalize:\n",
    "        cm = cm.astype('float') / cm.sum(axis=1)[:, np.newaxis]\n",
    "        print(\"Normalized confusion matrix\")\n",
    "    else:\n",
    "        print('Confusion matrix, without normalization')\n",
    "\n",
    "    plt.imshow(cm, interpolation='nearest', cmap=cmap)\n",
    "    plt.title(title)\n",
    "    plt.colorbar()\n",
    "    tick_marks = np.arange(len(classes))\n",
    "    plt.xticks(tick_marks, classes, rotation=45,fontweight='bold')\n",
    "    plt.yticks(tick_marks, classes, fontweight='bold')\n",
    "\n",
    "    for i in range(cm.shape[0]):\n",
    "        for j in range(cm.shape[1]):\n",
    "            plt.text(j, i, format(cm[i, j], 'd'),\n",
    "                    ha=\"center\", va=\"center\", fontweight='bold',\n",
    "                    color=\"white\" if cm[i, j] > cm.max() / 2. else \"black\")\n",
    "\n",
    "    plt.tight_layout()\n",
    "    plt.ylabel('True label',fontweight='bold')\n",
    "    plt.xlabel('Predicted label',fontweight='bold')\n",
    "\n",
    "# Compute confusion matrix\n",
    "cnf_matrix = confusion_matrix(y_test, y_pred)\n",
    "np.set_printoptions(precision=2)\n",
    "\n",
    "# Plot non-normalized confusion matrix\n",
    "plt.figure(figsize=(5,5))\n",
    "plot_confusion_matrix(cnf_matrix, classes=['EB','H','LB']\n",
    "                      )\n",
    "plt.show()"
   ]
  },
  {
   "cell_type": "code",
   "execution_count": 21,
   "id": "5410f33b",
   "metadata": {
    "execution": {
     "iopub.execute_input": "2024-12-06T03:49:40.120788Z",
     "iopub.status.busy": "2024-12-06T03:49:40.120282Z",
     "iopub.status.idle": "2024-12-06T03:49:40.125290Z",
     "shell.execute_reply": "2024-12-06T03:49:40.124585Z"
    },
    "papermill": {
     "duration": 0.029325,
     "end_time": "2024-12-06T03:49:40.126782",
     "exception": false,
     "start_time": "2024-12-06T03:49:40.097457",
     "status": "completed"
    },
    "tags": []
   },
   "outputs": [
    {
     "data": {
      "text/plain": [
       "(486,)"
      ]
     },
     "execution_count": 21,
     "metadata": {},
     "output_type": "execute_result"
    }
   ],
   "source": [
    "y_pred.shape"
   ]
  },
  {
   "cell_type": "code",
   "execution_count": 22,
   "id": "1e32729f",
   "metadata": {
    "execution": {
     "iopub.execute_input": "2024-12-06T03:49:40.171883Z",
     "iopub.status.busy": "2024-12-06T03:49:40.171648Z",
     "iopub.status.idle": "2024-12-06T03:49:40.181395Z",
     "shell.execute_reply": "2024-12-06T03:49:40.180561Z"
    },
    "papermill": {
     "duration": 0.034023,
     "end_time": "2024-12-06T03:49:40.183106",
     "exception": false,
     "start_time": "2024-12-06T03:49:40.149083",
     "status": "completed"
    },
    "tags": []
   },
   "outputs": [
    {
     "name": "stdout",
     "output_type": "stream",
     "text": [
      "Accuracy (Test): 97.7366\n",
      "Precision (Test): 97.7594\n",
      "Recall (Test): 97.7366\n",
      "F1 score (Test): 97.7364\n"
     ]
    }
   ],
   "source": [
    "accuracy_test = accuracy_score(y_test, y_pred)*100\n",
    "precision_test = precision_score(y_test, y_pred, average='macro')*100\n",
    "recall_test = recall_score(y_test, y_pred, average='macro')*100\n",
    "f1_test = f1_score(y_test, y_pred, average='macro')*100\n",
    "\n",
    "print(\"Accuracy (Test): {:.4f}\".format(accuracy_test))\n",
    "print(\"Precision (Test): {:.4f}\".format(precision_test))\n",
    "print(\"Recall (Test): {:.4f}\".format(recall_test))\n",
    "print(\"F1 score (Test): {:.4f}\".format(f1_test))"
   ]
  },
  {
   "cell_type": "code",
   "execution_count": 23,
   "id": "f5697b23",
   "metadata": {
    "execution": {
     "iopub.execute_input": "2024-12-06T03:49:40.229069Z",
     "iopub.status.busy": "2024-12-06T03:49:40.228589Z",
     "iopub.status.idle": "2024-12-06T03:49:45.733697Z",
     "shell.execute_reply": "2024-12-06T03:49:45.732905Z"
    },
    "papermill": {
     "duration": 5.530769,
     "end_time": "2024-12-06T03:49:45.736142",
     "exception": false,
     "start_time": "2024-12-06T03:49:40.205373",
     "status": "completed"
    },
    "tags": []
   },
   "outputs": [],
   "source": [
    "# make predictions on the train data\n",
    "y_pred = stacking_clf.predict(X_train)"
   ]
  },
  {
   "cell_type": "code",
   "execution_count": 24,
   "id": "0aa27858",
   "metadata": {
    "execution": {
     "iopub.execute_input": "2024-12-06T03:49:45.789829Z",
     "iopub.status.busy": "2024-12-06T03:49:45.789528Z",
     "iopub.status.idle": "2024-12-06T03:49:45.983054Z",
     "shell.execute_reply": "2024-12-06T03:49:45.982184Z"
    },
    "papermill": {
     "duration": 0.218541,
     "end_time": "2024-12-06T03:49:45.984776",
     "exception": false,
     "start_time": "2024-12-06T03:49:45.766235",
     "status": "completed"
    },
    "tags": []
   },
   "outputs": [
    {
     "name": "stdout",
     "output_type": "stream",
     "text": [
      "Confusion matrix, without normalization\n"
     ]
    },
    {
     "data": {
      "image/png": "[encoded data removed]",
      "text/plain": [
       "<Figure size 500x500 with 2 Axes>"
      ]
     },
     "metadata": {},
     "output_type": "display_data"
    }
   ],
   "source": [
    "def plot_confusion_matrix(cm, classes,\n",
    "                          normalize=False,\n",
    "                          title='',\n",
    "                          cmap=plt.cm.Greens):\n",
    "    \"\"\"\n",
    "    This function prints and plots the confusion matrix.\n",
    "    Normalization can be applied by setting `normalize=True`.\n",
    "    \"\"\"\n",
    "    if normalize:\n",
    "        cm = cm.astype('float') / cm.sum(axis=1)[:, np.newaxis]\n",
    "        print(\"Normalized confusion matrix\")\n",
    "    else:\n",
    "        print('Confusion matrix, without normalization')\n",
    "\n",
    "    plt.imshow(cm, interpolation='nearest', cmap=cmap)\n",
    "    plt.title(title)\n",
    "    plt.colorbar()\n",
    "    tick_marks = np.arange(len(classes))\n",
    "    plt.xticks(tick_marks, classes, rotation=45,fontweight='bold')\n",
    "    plt.yticks(tick_marks, classes, fontweight='bold')\n",
    "\n",
    "    for i in range(cm.shape[0]):\n",
    "        for j in range(cm.shape[1]):\n",
    "            plt.text(j, i, format(cm[i, j], 'd'),\n",
    "                    ha=\"center\", va=\"center\", fontweight='bold',\n",
    "                    color=\"white\" if cm[i, j] > cm.max() / 2. else \"black\")\n",
    "\n",
    "    plt.tight_layout()\n",
    "    plt.ylabel('True label',fontweight='bold')\n",
    "    plt.xlabel('Predicted label',fontweight='bold')\n",
    "\n",
    "# Compute confusion matrix\n",
    "cnf_matrix = confusion_matrix(y_train, y_pred)\n",
    "np.set_printoptions(precision=2)\n",
    "\n",
    "# Plot non-normalized confusion matrix\n",
    "plt.figure(figsize=(5,5))\n",
    "plot_confusion_matrix(cnf_matrix, classes=['EB','H','LB']\n",
    "                      )\n",
    "plt.show()"
   ]
  },
  {
   "cell_type": "code",
   "execution_count": 25,
   "id": "e537e4c6",
   "metadata": {
    "execution": {
     "iopub.execute_input": "2024-12-06T03:49:46.032209Z",
     "iopub.status.busy": "2024-12-06T03:49:46.031636Z",
     "iopub.status.idle": "2024-12-06T03:49:46.042927Z",
     "shell.execute_reply": "2024-12-06T03:49:46.041905Z"
    },
    "papermill": {
     "duration": 0.036356,
     "end_time": "2024-12-06T03:49:46.044497",
     "exception": false,
     "start_time": "2024-12-06T03:49:46.008141",
     "status": "completed"
    },
    "tags": []
   },
   "outputs": [
    {
     "name": "stdout",
     "output_type": "stream",
     "text": [
      "Accuracy (Train): 99.7726\n",
      "Precision (Train): 99.7742\n",
      "Recall (Train): 99.7726\n",
      "F1 score (Train): 99.7727\n"
     ]
    }
   ],
   "source": [
    "accuracy_train = accuracy_score(y_train, y_pred)*100\n",
    "precision_train = precision_score(y_train, y_pred, average='macro')*100\n",
    "recall_train = recall_score(y_train, y_pred, average='macro')*100\n",
    "f1_train = f1_score(y_train, y_pred, average='macro')*100\n",
    "\n",
    "print(\"Accuracy (Train): {:.4f}\".format(accuracy_train))\n",
    "print(\"Precision (Train): {:.4f}\".format(precision_train))\n",
    "print(\"Recall (Train): {:.4f}\".format(recall_train))\n",
    "print(\"F1 score (Train): {:.4f}\".format(f1_train))"
   ]
  },
  {
   "cell_type": "code",
   "execution_count": 26,
   "id": "55037960",
   "metadata": {
    "execution": {
     "iopub.execute_input": "2024-12-06T03:49:46.090444Z",
     "iopub.status.busy": "2024-12-06T03:49:46.090205Z",
     "iopub.status.idle": "2024-12-06T03:49:46.096628Z",
     "shell.execute_reply": "2024-12-06T03:49:46.095846Z"
    },
    "papermill": {
     "duration": 0.031389,
     "end_time": "2024-12-06T03:49:46.098306",
     "exception": false,
     "start_time": "2024-12-06T03:49:46.066917",
     "status": "completed"
    },
    "tags": []
   },
   "outputs": [],
   "source": [
    "model_name='EfficientNetV2B1-GB'\n",
    "all_model.loc[len(all_model)] = [model_name, accuracy_train, precision_train, recall_train, f1_train, accuracy_test, precision_test, recall_test, f1_test, training_time, testing_time, memory_usage]"
   ]
  },
  {
   "cell_type": "code",
   "execution_count": 27,
   "id": "73322ce2",
   "metadata": {
    "execution": {
     "iopub.execute_input": "2024-12-06T03:49:46.143981Z",
     "iopub.status.busy": "2024-12-06T03:49:46.143422Z",
     "iopub.status.idle": "2024-12-06T03:49:46.155217Z",
     "shell.execute_reply": "2024-12-06T03:49:46.154365Z"
    },
    "papermill": {
     "duration": 0.036229,
     "end_time": "2024-12-06T03:49:46.156824",
     "exception": false,
     "start_time": "2024-12-06T03:49:46.120595",
     "status": "completed"
    },
    "tags": []
   },
   "outputs": [
    {
     "data": {
      "text/html": [
       "<div>\n",
       "<style scoped>\n",
       "    .dataframe tbody tr th:only-of-type {\n",
       "        vertical-align: middle;\n",
       "    }\n",
       "\n",
       "    .dataframe tbody tr th {\n",
       "        vertical-align: top;\n",
       "    }\n",
       "\n",
       "    .dataframe thead th {\n",
       "        text-align: right;\n",
       "    }\n",
       "</style>\n",
       "<table border=\"1\" class=\"dataframe\">\n",
       "  <thead>\n",
       "    <tr style=\"text-align: right;\">\n",
       "      <th></th>\n",
       "      <th>Model</th>\n",
       "      <th>Accuracy (Train)</th>\n",
       "      <th>Precision (Train)</th>\n",
       "      <th>Recall (Train)</th>\n",
       "      <th>F1 Score (Train)</th>\n",
       "      <th>Accuracy (Test)</th>\n",
       "      <th>Precision (Test)</th>\n",
       "      <th>Recall (Test)</th>\n",
       "      <th>F1 Score (Test)</th>\n",
       "      <th>Training Time (s)</th>\n",
       "      <th>Testing Time (s)</th>\n",
       "      <th>Memory (MB)</th>\n",
       "    </tr>\n",
       "  </thead>\n",
       "  <tbody>\n",
       "    <tr>\n",
       "      <th>0</th>\n",
       "      <td>EfficientNetV2B1-GB</td>\n",
       "      <td>99.772624</td>\n",
       "      <td>99.774164</td>\n",
       "      <td>99.772624</td>\n",
       "      <td>99.772691</td>\n",
       "      <td>97.736626</td>\n",
       "      <td>97.759418</td>\n",
       "      <td>97.736626</td>\n",
       "      <td>97.736373</td>\n",
       "      <td>71.205624</td>\n",
       "      <td>0.591057</td>\n",
       "      <td>3532.644531</td>\n",
       "    </tr>\n",
       "  </tbody>\n",
       "</table>\n",
       "</div>"
      ],
      "text/plain": [
       "                 Model  Accuracy (Train)  Precision (Train)  Recall (Train)  \\\n",
       "0  EfficientNetV2B1-GB         99.772624          99.774164       99.772624   \n",
       "\n",
       "   F1 Score (Train)  Accuracy (Test)  Precision (Test)  Recall (Test)  \\\n",
       "0         99.772691        97.736626         97.759418      97.736626   \n",
       "\n",
       "   F1 Score (Test)  Training Time (s)  Testing Time (s)  Memory (MB)  \n",
       "0        97.736373          71.205624          0.591057  3532.644531  "
      ]
     },
     "execution_count": 27,
     "metadata": {},
     "output_type": "execute_result"
    }
   ],
   "source": [
    "all_model"
   ]
  }
 ],
 "metadata": {
  "kaggle": {
   "accelerator": "gpu",
   "dataSources": [
    {
     "datasetId": 1562973,
     "sourceId": 2574068,
     "sourceType": "datasetVersion"
    },
    {
     "datasetId": 6161628,
     "sourceId": 10008956,
     "sourceType": "datasetVersion"
    }
   ],
   "dockerImageVersionId": 30528,
   "isGpuEnabled": true,
   "isInternetEnabled": true,
   "language": "python",
   "sourceType": "notebook"
  },
  "kernelspec": {
   "display_name": "Python 3",
   "language": "python",
   "name": "python3"
  },
  "language_info": {
   "codemirror_mode": {
    "name": "ipython",
    "version": 3
   },
   "file_extension": ".py",
   "mimetype": "text/x-python",
   "name": "python",
   "nbconvert_exporter": "python",
   "pygments_lexer": "ipython3",
   "version": "3.10.12"
  },
  "papermill": {
   "default_parameters": {},
   "duration": 149.603472,
   "end_time": "2024-12-06T03:49:48.951447",
   "environment_variables": {},
   "exception": null,
   "input_path": "__notebook__.ipynb",
   "output_path": "__notebook__.ipynb",
   "parameters": {},
   "start_time": "2024-12-06T03:47:19.347975",
   "version": "2.4.0"
  }
 },
 "nbformat": 4,
 "nbformat_minor": 5
}
