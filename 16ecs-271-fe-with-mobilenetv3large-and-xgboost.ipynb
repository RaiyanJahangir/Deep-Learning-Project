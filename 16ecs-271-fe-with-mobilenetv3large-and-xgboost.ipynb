{
 "cells": [
  {
   "cell_type": "code",
   "execution_count": 1,
   "id": "b2f263d7",
   "metadata": {
    "_cell_guid": "b1076dfc-b9ad-4769-8c92-a6c4dae69d19",
    "_uuid": "8f2839f25d086af736a60e9eeb907d3b93b6e0e5",
    "execution": {
     "iopub.execute_input": "2024-12-02T00:00:05.130524Z",
     "iopub.status.busy": "2024-12-02T00:00:05.129686Z",
     "iopub.status.idle": "2024-12-02T00:00:05.138661Z",
     "shell.execute_reply": "2024-12-02T00:00:05.137995Z"
    },
    "papermill": {
     "duration": 0.01743,
     "end_time": "2024-12-02T00:00:05.140151",
     "exception": false,
     "start_time": "2024-12-02T00:00:05.122721",
     "status": "completed"
    },
    "tags": []
   },
   "outputs": [],
   "source": [
    "# This Python 3 environment comes with many helpful analytics libraries installed\n",
    "# It is defined by the kaggle/python Docker image: https://github.com/kaggle/docker-python\n",
    "# For example, here's several helpful packages to load\n",
    "\n",
    "import numpy as np # linear algebra\n",
    "import pandas as pd # data processing, CSV file I/O (e.g. pd.read_csv)\n",
    "\n",
    "# Input data files are available in the read-only \"../input/\" directory\n",
    "# For example, running this (by clicking run or pressing Shift+Enter) will list all files under the input directory\n",
    "\n",
    "# import os\n",
    "# for dirname, _, filenames in os.walk('/kaggle/input'):\n",
    "#     for filename in filenames:\n",
    "#         print(os.path.join(dirname, filename))\n",
    "\n",
    "# You can write up to 20GB to the current directory (/kaggle/working/) that gets preserved as output when you create a version using \"Save & Run All\" \n",
    "# You can also write temporary files to /kaggle/temp/, but they won't be saved outside of the current session"
   ]
  },
  {
   "cell_type": "code",
   "execution_count": 2,
   "id": "1b747033",
   "metadata": {
    "execution": {
     "iopub.execute_input": "2024-12-02T00:00:05.150480Z",
     "iopub.status.busy": "2024-12-02T00:00:05.150244Z",
     "iopub.status.idle": "2024-12-02T00:00:14.121446Z",
     "shell.execute_reply": "2024-12-02T00:00:14.120535Z"
    },
    "papermill": {
     "duration": 8.978657,
     "end_time": "2024-12-02T00:00:14.123565",
     "exception": false,
     "start_time": "2024-12-02T00:00:05.144908",
     "status": "completed"
    },
    "tags": []
   },
   "outputs": [
    {
     "name": "stderr",
     "output_type": "stream",
     "text": [
      "/opt/conda/lib/python3.10/site-packages/scipy/__init__.py:146: UserWarning: A NumPy version >=1.16.5 and <1.23.0 is required for this version of SciPy (detected version 1.23.5\n",
      "  warnings.warn(f\"A NumPy version >={np_minversion} and <{np_maxversion}\"\n",
      "/opt/conda/lib/python3.10/site-packages/tensorflow_io/python/ops/__init__.py:98: UserWarning: unable to load libtensorflow_io_plugins.so: unable to open file: libtensorflow_io_plugins.so, from paths: ['/opt/conda/lib/python3.10/site-packages/tensorflow_io/python/ops/libtensorflow_io_plugins.so']\n",
      "caused by: ['/opt/conda/lib/python3.10/site-packages/tensorflow_io/python/ops/libtensorflow_io_plugins.so: undefined symbol: _ZN3tsl6StatusC1EN10tensorflow5error4CodeESt17basic_string_viewIcSt11char_traitsIcEENS_14SourceLocationE']\n",
      "  warnings.warn(f\"unable to load libtensorflow_io_plugins.so: {e}\")\n",
      "/opt/conda/lib/python3.10/site-packages/tensorflow_io/python/ops/__init__.py:104: UserWarning: file system plugins are not loaded: unable to open file: libtensorflow_io.so, from paths: ['/opt/conda/lib/python3.10/site-packages/tensorflow_io/python/ops/libtensorflow_io.so']\n",
      "caused by: ['/opt/conda/lib/python3.10/site-packages/tensorflow_io/python/ops/libtensorflow_io.so: undefined symbol: _ZTVN10tensorflow13GcsFileSystemE']\n",
      "  warnings.warn(f\"file system plugins are not loaded: {e}\")\n"
     ]
    }
   ],
   "source": [
    "import matplotlib.pyplot as plt\n",
    "import numpy as np\n",
    "import pandas as pd\n",
    "import seaborn as sns\n",
    "import cv2\n",
    "import tensorflow as tf\n",
    "from tensorflow.keras.preprocessing.image import ImageDataGenerator\n",
    "from tqdm import tqdm\n",
    "import os\n",
    "from sklearn.utils import shuffle\n",
    "from sklearn.model_selection import train_test_split\n",
    "from tensorflow.keras.applications import EfficientNetB0, DenseNet201\n",
    "from tensorflow.keras.callbacks import EarlyStopping, ReduceLROnPlateau, TensorBoard, ModelCheckpoint\n",
    "from sklearn.metrics import classification_report,confusion_matrix\n",
    "import ipywidgets as widgets\n",
    "import io\n",
    "from PIL import Image\n",
    "from IPython.display import display,clear_output\n",
    "from warnings import filterwarnings\n",
    "from keras.models import Sequential\n",
    "from keras.layers import Dense, Flatten, Dropout\n",
    "from sklearn.metrics import accuracy_score, precision_score, recall_score, f1_score\n",
    "import time\n",
    "import psutil"
   ]
  },
  {
   "cell_type": "code",
   "execution_count": 3,
   "id": "8051db9f",
   "metadata": {
    "execution": {
     "iopub.execute_input": "2024-12-02T00:00:14.135374Z",
     "iopub.status.busy": "2024-12-02T00:00:14.134413Z",
     "iopub.status.idle": "2024-12-02T00:00:14.138535Z",
     "shell.execute_reply": "2024-12-02T00:00:14.137749Z"
    },
    "papermill": {
     "duration": 0.011374,
     "end_time": "2024-12-02T00:00:14.140038",
     "exception": false,
     "start_time": "2024-12-02T00:00:14.128664",
     "status": "completed"
    },
    "tags": []
   },
   "outputs": [],
   "source": [
    "labels = ['Early_Blight','Healthy','Late_Blight']"
   ]
  },
  {
   "cell_type": "code",
   "execution_count": 4,
   "id": "5e620659",
   "metadata": {
    "execution": {
     "iopub.execute_input": "2024-12-02T00:00:14.150143Z",
     "iopub.status.busy": "2024-12-02T00:00:14.149915Z",
     "iopub.status.idle": "2024-12-02T00:00:56.389424Z",
     "shell.execute_reply": "2024-12-02T00:00:56.388736Z"
    },
    "papermill": {
     "duration": 42.246956,
     "end_time": "2024-12-02T00:00:56.391600",
     "exception": false,
     "start_time": "2024-12-02T00:00:14.144644",
     "status": "completed"
    },
    "tags": []
   },
   "outputs": [
    {
     "name": "stderr",
     "output_type": "stream",
     "text": [
      "100%|██████████| 1303/1303 [00:14<00:00, 87.47it/s]\n",
      "100%|██████████| 1303/1303 [00:08<00:00, 147.27it/s]\n",
      "100%|██████████| 1303/1303 [00:12<00:00, 107.76it/s]\n",
      "100%|██████████| 162/162 [00:01<00:00, 148.82it/s]\n",
      "100%|██████████| 162/162 [00:01<00:00, 155.15it/s]\n",
      "100%|██████████| 162/162 [00:00<00:00, 168.07it/s]\n",
      "100%|██████████| 163/163 [00:00<00:00, 166.82it/s]\n",
      "100%|██████████| 163/163 [00:00<00:00, 169.29it/s]\n",
      "100%|██████████| 163/163 [00:01<00:00, 161.32it/s]\n"
     ]
    }
   ],
   "source": [
    "X_train = []\n",
    "y_train = []\n",
    "X_test = []\n",
    "y_test = []\n",
    "image_size = 224\n",
    "for i in labels:\n",
    "    folderPath = os.path.join('/kaggle/input/balanced-data/balanced_data','Training',i)\n",
    "    for j in tqdm(os.listdir(folderPath)):\n",
    "        img = cv2.imread(os.path.join(folderPath,j))\n",
    "        img = cv2.resize(img,(image_size, image_size))\n",
    "        X_train.append(img)\n",
    "        y_train.append(i)\n",
    "        \n",
    "for i in labels:\n",
    "    folderPath = os.path.join('/kaggle/input/balanced-data/balanced_data','Testing',i)\n",
    "    for j in tqdm(os.listdir(folderPath)):\n",
    "        img = cv2.imread(os.path.join(folderPath,j))\n",
    "        img = cv2.resize(img,(image_size,image_size))\n",
    "        X_test.append(img)\n",
    "        y_test.append(i)\n",
    "        \n",
    "for i in labels:\n",
    "    folderPath = os.path.join('/kaggle/input/balanced-data/balanced_data','Validation',i)\n",
    "    for j in tqdm(os.listdir(folderPath)):\n",
    "        img = cv2.imread(os.path.join(folderPath,j))\n",
    "        img = cv2.resize(img,(image_size,image_size))\n",
    "        X_train.append(img)\n",
    "        y_train.append(i)\n",
    "        \n",
    "X_train = np.array(X_train)\n",
    "y_train = np.array(y_train)\n",
    "X_test = np.array(X_test)\n",
    "y_test = np.array(y_test)"
   ]
  },
  {
   "cell_type": "code",
   "execution_count": 5,
   "id": "0e7213a3",
   "metadata": {
    "execution": {
     "iopub.execute_input": "2024-12-02T00:00:56.434194Z",
     "iopub.status.busy": "2024-12-02T00:00:56.433881Z",
     "iopub.status.idle": "2024-12-02T00:00:56.438723Z",
     "shell.execute_reply": "2024-12-02T00:00:56.437820Z"
    },
    "papermill": {
     "duration": 0.028081,
     "end_time": "2024-12-02T00:00:56.440312",
     "exception": false,
     "start_time": "2024-12-02T00:00:56.412231",
     "status": "completed"
    },
    "tags": []
   },
   "outputs": [
    {
     "name": "stdout",
     "output_type": "stream",
     "text": [
      "(4398, 224, 224, 3)\n",
      "(4398,)\n",
      "(486, 224, 224, 3)\n",
      "(486,)\n"
     ]
    }
   ],
   "source": [
    "print(X_train.shape)\n",
    "print(y_train.shape)\n",
    "print(X_test.shape)\n",
    "print(y_test.shape)"
   ]
  },
  {
   "cell_type": "code",
   "execution_count": 6,
   "id": "2f4d3d58",
   "metadata": {
    "execution": {
     "iopub.execute_input": "2024-12-02T00:00:56.481146Z",
     "iopub.status.busy": "2024-12-02T00:00:56.480677Z",
     "iopub.status.idle": "2024-12-02T00:00:56.487011Z",
     "shell.execute_reply": "2024-12-02T00:00:56.486081Z"
    },
    "papermill": {
     "duration": 0.028533,
     "end_time": "2024-12-02T00:00:56.488619",
     "exception": false,
     "start_time": "2024-12-02T00:00:56.460086",
     "status": "completed"
    },
    "tags": []
   },
   "outputs": [
    {
     "name": "stdout",
     "output_type": "stream",
     "text": [
      "['Early_Blight' 'Healthy' 'Late_Blight']\n",
      "['Early_Blight' 'Healthy' 'Late_Blight']\n"
     ]
    }
   ],
   "source": [
    "print(np.unique(y_test))\n",
    "print(np.unique(y_train))"
   ]
  },
  {
   "cell_type": "code",
   "execution_count": 7,
   "id": "4501c71b",
   "metadata": {
    "execution": {
     "iopub.execute_input": "2024-12-02T00:00:56.529476Z",
     "iopub.status.busy": "2024-12-02T00:00:56.529160Z",
     "iopub.status.idle": "2024-12-02T00:00:56.536802Z",
     "shell.execute_reply": "2024-12-02T00:00:56.536147Z"
    },
    "papermill": {
     "duration": 0.030176,
     "end_time": "2024-12-02T00:00:56.538562",
     "exception": false,
     "start_time": "2024-12-02T00:00:56.508386",
     "status": "completed"
    },
    "tags": []
   },
   "outputs": [],
   "source": [
    "y_train_new = []\n",
    "for i in y_train:\n",
    "    y_train_new.append(labels.index(i))\n",
    "y_train = y_train_new\n",
    "y_train = tf.keras.utils.to_categorical(y_train)\n",
    "\n",
    "\n",
    "y_test_new = []\n",
    "for i in y_test:\n",
    "    y_test_new.append(labels.index(i))\n",
    "y_test = y_test_new\n",
    "y_test = tf.keras.utils.to_categorical(y_test)"
   ]
  },
  {
   "cell_type": "code",
   "execution_count": 8,
   "id": "3fdbb01e",
   "metadata": {
    "execution": {
     "iopub.execute_input": "2024-12-02T00:00:56.579637Z",
     "iopub.status.busy": "2024-12-02T00:00:56.579419Z",
     "iopub.status.idle": "2024-12-02T00:00:56.589300Z",
     "shell.execute_reply": "2024-12-02T00:00:56.588474Z"
    },
    "papermill": {
     "duration": 0.031954,
     "end_time": "2024-12-02T00:00:56.590867",
     "exception": false,
     "start_time": "2024-12-02T00:00:56.558913",
     "status": "completed"
    },
    "tags": []
   },
   "outputs": [],
   "source": [
    "all_model = pd.DataFrame(columns=['Model', 'Accuracy (Train)', 'Precision (Train)', 'Recall (Train)', 'F1 Score (Train)', 'Accuracy (Test)', 'Precision (Test)', 'Recall (Test)', 'F1 Score (Test)', 'Training Time (s)', 'Testing Time (s)','Memory (MB)'])"
   ]
  },
  {
   "cell_type": "code",
   "execution_count": 9,
   "id": "6c79eb63",
   "metadata": {
    "execution": {
     "iopub.execute_input": "2024-12-02T00:00:56.632006Z",
     "iopub.status.busy": "2024-12-02T00:00:56.631720Z",
     "iopub.status.idle": "2024-12-02T00:00:56.645878Z",
     "shell.execute_reply": "2024-12-02T00:00:56.645098Z"
    },
    "papermill": {
     "duration": 0.036434,
     "end_time": "2024-12-02T00:00:56.647524",
     "exception": false,
     "start_time": "2024-12-02T00:00:56.611090",
     "status": "completed"
    },
    "tags": []
   },
   "outputs": [
    {
     "data": {
      "text/html": [
       "<div>\n",
       "<style scoped>\n",
       "    .dataframe tbody tr th:only-of-type {\n",
       "        vertical-align: middle;\n",
       "    }\n",
       "\n",
       "    .dataframe tbody tr th {\n",
       "        vertical-align: top;\n",
       "    }\n",
       "\n",
       "    .dataframe thead th {\n",
       "        text-align: right;\n",
       "    }\n",
       "</style>\n",
       "<table border=\"1\" class=\"dataframe\">\n",
       "  <thead>\n",
       "    <tr style=\"text-align: right;\">\n",
       "      <th></th>\n",
       "      <th>Model</th>\n",
       "      <th>Accuracy (Train)</th>\n",
       "      <th>Precision (Train)</th>\n",
       "      <th>Recall (Train)</th>\n",
       "      <th>F1 Score (Train)</th>\n",
       "      <th>Accuracy (Test)</th>\n",
       "      <th>Precision (Test)</th>\n",
       "      <th>Recall (Test)</th>\n",
       "      <th>F1 Score (Test)</th>\n",
       "      <th>Training Time (s)</th>\n",
       "      <th>Testing Time (s)</th>\n",
       "      <th>Memory (MB)</th>\n",
       "    </tr>\n",
       "  </thead>\n",
       "  <tbody>\n",
       "  </tbody>\n",
       "</table>\n",
       "</div>"
      ],
      "text/plain": [
       "Empty DataFrame\n",
       "Columns: [Model, Accuracy (Train), Precision (Train), Recall (Train), F1 Score (Train), Accuracy (Test), Precision (Test), Recall (Test), F1 Score (Test), Training Time (s), Testing Time (s), Memory (MB)]\n",
       "Index: []"
      ]
     },
     "execution_count": 9,
     "metadata": {},
     "output_type": "execute_result"
    }
   ],
   "source": [
    "all_model"
   ]
  },
  {
   "cell_type": "markdown",
   "id": "476c767d",
   "metadata": {
    "papermill": {
     "duration": 0.01982,
     "end_time": "2024-12-02T00:00:56.687447",
     "exception": false,
     "start_time": "2024-12-02T00:00:56.667627",
     "status": "completed"
    },
    "tags": []
   },
   "source": [
    "**Feature Extraction from MobileNetV3Large**"
   ]
  },
  {
   "cell_type": "code",
   "execution_count": 10,
   "id": "a3e910a8",
   "metadata": {
    "execution": {
     "iopub.execute_input": "2024-12-02T00:00:56.728840Z",
     "iopub.status.busy": "2024-12-02T00:00:56.728274Z",
     "iopub.status.idle": "2024-12-02T00:01:00.795715Z",
     "shell.execute_reply": "2024-12-02T00:01:00.794767Z"
    },
    "papermill": {
     "duration": 4.090797,
     "end_time": "2024-12-02T00:01:00.798321",
     "exception": false,
     "start_time": "2024-12-02T00:00:56.707524",
     "status": "completed"
    },
    "tags": []
   },
   "outputs": [
    {
     "name": "stdout",
     "output_type": "stream",
     "text": [
      "Downloading data from https://storage.googleapis.com/tensorflow/keras-applications/mobilenet_v3/weights_mobilenet_v3_large_224_1.0_float_no_top_v2.h5\n",
      "12683000/12683000 [==============================] - 0s 0us/step\n"
     ]
    }
   ],
   "source": [
    "# Define the base model for feature extraction\n",
    "model = tf.keras.applications.MobileNetV3Large(\n",
    "    include_top=False,  # Exclude fully connected layers\n",
    "    weights=\"imagenet\",  # Pretrained weights from ImageNet\n",
    "    input_shape=(image_size, image_size, 3),  # Input image size\n",
    "    pooling=\"avg\"  # Global average pooling layer to get feature vector\n",
    ")\n",
    "\n",
    "# Freeze the base model to prevent updates during feature extraction\n",
    "model.trainable = False\n"
   ]
  },
  {
   "cell_type": "code",
   "execution_count": 11,
   "id": "0ffd0468",
   "metadata": {
    "execution": {
     "iopub.execute_input": "2024-12-02T00:01:00.849329Z",
     "iopub.status.busy": "2024-12-02T00:01:00.849010Z",
     "iopub.status.idle": "2024-12-02T00:01:09.227905Z",
     "shell.execute_reply": "2024-12-02T00:01:09.227112Z"
    },
    "papermill": {
     "duration": 8.40244,
     "end_time": "2024-12-02T00:01:09.229994",
     "exception": false,
     "start_time": "2024-12-02T00:01:00.827554",
     "status": "completed"
    },
    "tags": []
   },
   "outputs": [
    {
     "name": "stdout",
     "output_type": "stream",
     "text": [
      "138/138 [==============================] - 7s 21ms/step\n"
     ]
    }
   ],
   "source": [
    "# Use the base model to extract features\n",
    "X_train = model.predict(X_train, batch_size=32, verbose=1)"
   ]
  },
  {
   "cell_type": "code",
   "execution_count": 12,
   "id": "9758110d",
   "metadata": {
    "execution": {
     "iopub.execute_input": "2024-12-02T00:01:09.277226Z",
     "iopub.status.busy": "2024-12-02T00:01:09.276910Z",
     "iopub.status.idle": "2024-12-02T00:01:09.281579Z",
     "shell.execute_reply": "2024-12-02T00:01:09.280682Z"
    },
    "papermill": {
     "duration": 0.030698,
     "end_time": "2024-12-02T00:01:09.283407",
     "exception": false,
     "start_time": "2024-12-02T00:01:09.252709",
     "status": "completed"
    },
    "tags": []
   },
   "outputs": [],
   "source": [
    "# If labels are one-hot encoded, convert to class indices\n",
    "if y_train.shape[-1] > 1:\n",
    "    y_train = np.argmax(y_train, axis=1)"
   ]
  },
  {
   "cell_type": "code",
   "execution_count": 13,
   "id": "863df820",
   "metadata": {
    "execution": {
     "iopub.execute_input": "2024-12-02T00:01:09.330852Z",
     "iopub.status.busy": "2024-12-02T00:01:09.330537Z",
     "iopub.status.idle": "2024-12-02T00:01:09.335183Z",
     "shell.execute_reply": "2024-12-02T00:01:09.334347Z"
    },
    "papermill": {
     "duration": 0.030381,
     "end_time": "2024-12-02T00:01:09.337034",
     "exception": false,
     "start_time": "2024-12-02T00:01:09.306653",
     "status": "completed"
    },
    "tags": []
   },
   "outputs": [
    {
     "name": "stdout",
     "output_type": "stream",
     "text": [
      "Extracted features shape: (4398, 960)\n",
      "Labels shape: (4398,)\n"
     ]
    }
   ],
   "source": [
    "# X_train now contains the extracted features, and y_train contains the labels\n",
    "print(\"Extracted features shape:\", X_train.shape)\n",
    "print(\"Labels shape:\", y_train.shape)"
   ]
  },
  {
   "cell_type": "code",
   "execution_count": 14,
   "id": "5ebe97b9",
   "metadata": {
    "execution": {
     "iopub.execute_input": "2024-12-02T00:01:09.383802Z",
     "iopub.status.busy": "2024-12-02T00:01:09.383134Z",
     "iopub.status.idle": "2024-12-02T00:01:10.147498Z",
     "shell.execute_reply": "2024-12-02T00:01:10.146588Z"
    },
    "papermill": {
     "duration": 0.789655,
     "end_time": "2024-12-02T00:01:10.149402",
     "exception": false,
     "start_time": "2024-12-02T00:01:09.359747",
     "status": "completed"
    },
    "tags": []
   },
   "outputs": [
    {
     "name": "stdout",
     "output_type": "stream",
     "text": [
      "16/16 [==============================] - 1s 42ms/step\n"
     ]
    }
   ],
   "source": [
    "# Use the base model to extract features from test data\n",
    "X_test = model.predict(X_test, batch_size=32, verbose=1)"
   ]
  },
  {
   "cell_type": "code",
   "execution_count": 15,
   "id": "0f74d085",
   "metadata": {
    "execution": {
     "iopub.execute_input": "2024-12-02T00:01:10.196535Z",
     "iopub.status.busy": "2024-12-02T00:01:10.195849Z",
     "iopub.status.idle": "2024-12-02T00:01:10.200060Z",
     "shell.execute_reply": "2024-12-02T00:01:10.199241Z"
    },
    "papermill": {
     "duration": 0.029327,
     "end_time": "2024-12-02T00:01:10.201687",
     "exception": false,
     "start_time": "2024-12-02T00:01:10.172360",
     "status": "completed"
    },
    "tags": []
   },
   "outputs": [],
   "source": [
    "# If labels are one-hot encoded, convert to class indices\n",
    "if y_test.shape[-1] > 1:\n",
    "    y_test = np.argmax(y_test, axis=1)"
   ]
  },
  {
   "cell_type": "code",
   "execution_count": 16,
   "id": "71fa9b01",
   "metadata": {
    "execution": {
     "iopub.execute_input": "2024-12-02T00:01:10.249483Z",
     "iopub.status.busy": "2024-12-02T00:01:10.249186Z",
     "iopub.status.idle": "2024-12-02T00:01:10.254106Z",
     "shell.execute_reply": "2024-12-02T00:01:10.252909Z"
    },
    "papermill": {
     "duration": 0.03118,
     "end_time": "2024-12-02T00:01:10.255895",
     "exception": false,
     "start_time": "2024-12-02T00:01:10.224715",
     "status": "completed"
    },
    "tags": []
   },
   "outputs": [
    {
     "name": "stdout",
     "output_type": "stream",
     "text": [
      "Extracted features shape: (486, 960)\n",
      "Labels shape: (486,)\n"
     ]
    }
   ],
   "source": [
    "# X_test now contains the extracted features, and y_test contains the labels\n",
    "print(\"Extracted features shape:\", X_test.shape)\n",
    "print(\"Labels shape:\", y_test.shape)"
   ]
  },
  {
   "cell_type": "code",
   "execution_count": 17,
   "id": "62af1883",
   "metadata": {
    "execution": {
     "iopub.execute_input": "2024-12-02T00:01:10.302591Z",
     "iopub.status.busy": "2024-12-02T00:01:10.302206Z",
     "iopub.status.idle": "2024-12-02T00:01:10.762860Z",
     "shell.execute_reply": "2024-12-02T00:01:10.762005Z"
    },
    "papermill": {
     "duration": 0.486056,
     "end_time": "2024-12-02T00:01:10.764826",
     "exception": false,
     "start_time": "2024-12-02T00:01:10.278770",
     "status": "completed"
    },
    "tags": []
   },
   "outputs": [],
   "source": [
    "from sklearn.ensemble import StackingClassifier\n",
    "from sklearn.ensemble import RandomForestClassifier\n",
    "from sklearn.svm import SVC\n",
    "from sklearn.neighbors import KNeighborsClassifier\n",
    "from sklearn.linear_model import LogisticRegression\n",
    "from sklearn.neural_network import MLPClassifier\n",
    "from sklearn.tree import DecisionTreeClassifier\n",
    "from sklearn.naive_bayes import GaussianNB\n",
    "from sklearn.model_selection import train_test_split\n",
    "from sklearn.metrics import accuracy_score\n",
    "from sklearn.ensemble import GradientBoostingClassifier\n",
    "from xgboost import XGBClassifier\n",
    "\n",
    "# Define the Level 0 classifiers\n",
    "level_0_estimators = [\n",
    "    ('svm', SVC(kernel='rbf',C=1.0,gamma='scale',decision_function_shape='ovr')),\n",
    "    ('knn', KNeighborsClassifier()),\n",
    "    ('logistic', LogisticRegression(multi_class='multinomial',solver='lbfgs',C=1.0,max_iter=1000,random_state=42 )),\n",
    "    ('mlp', MLPClassifier(random_state=42)),\n",
    "    ('decision_tree', DecisionTreeClassifier(criterion='gini',max_depth=20,min_samples_split=5,min_samples_leaf=3,max_features='sqrt',random_state=42)),\n",
    "    ('naive_bayes', GaussianNB(var_smoothing=1e-8))\n",
    "]\n",
    "\n",
    "# Define the Level 1 classifier (meta-classifier)\n",
    "level_1_meta_classifier = XGBClassifier(\n",
    "    n_estimators=300,            \n",
    "    learning_rate=0.05,          \n",
    "    max_depth=6,                 \n",
    "    objective='multi:softprob',  \n",
    "    num_class=3,                \n",
    "    subsample=0.8,               \n",
    "    colsample_bytree=0.8,        \n",
    "    gamma=1,                     \n",
    "    min_child_weight=3,          \n",
    "    random_state=42              \n",
    ")\n",
    "\n",
    "# Create the Stacking Classifier\n",
    "stacking_clf = StackingClassifier(\n",
    "    estimators=level_0_estimators,\n",
    "    final_estimator=level_1_meta_classifier,\n",
    "    cv=5\n",
    ")"
   ]
  },
  {
   "cell_type": "code",
   "execution_count": 18,
   "id": "e6c7fb74",
   "metadata": {
    "execution": {
     "iopub.execute_input": "2024-12-02T00:01:10.811896Z",
     "iopub.status.busy": "2024-12-02T00:01:10.811594Z",
     "iopub.status.idle": "2024-12-02T00:02:23.412903Z",
     "shell.execute_reply": "2024-12-02T00:02:23.412181Z"
    },
    "papermill": {
     "duration": 72.651252,
     "end_time": "2024-12-02T00:02:23.439044",
     "exception": false,
     "start_time": "2024-12-02T00:01:10.787792",
     "status": "completed"
    },
    "tags": []
   },
   "outputs": [
    {
     "name": "stdout",
     "output_type": "stream",
     "text": [
      "Training Time: 72.60 seconds\n",
      "Memory Usage: 3544.48 MB\n"
     ]
    }
   ],
   "source": [
    "import time\n",
    "\n",
    "# Start timer\n",
    "start_time = time.time()\n",
    "\n",
    "# Train the stacking classifier\n",
    "stacking_clf.fit(X_train, y_train)\n",
    "\n",
    "# Measure training time\n",
    "training_time = time.time() - start_time\n",
    "print(f\"Training Time: {training_time:.2f} seconds\")\n",
    "\n",
    "# Evaluate memory usage (optional, requires `psutil` library)\n",
    "import psutil\n",
    "memory_usage = psutil.Process().memory_info().rss / 1024 / 1024\n",
    "print(f\"Memory Usage: {memory_usage:.2f} MB\")"
   ]
  },
  {
   "cell_type": "code",
   "execution_count": 19,
   "id": "bda22d11",
   "metadata": {
    "execution": {
     "iopub.execute_input": "2024-12-02T00:02:23.489363Z",
     "iopub.status.busy": "2024-12-02T00:02:23.488658Z",
     "iopub.status.idle": "2024-12-02T00:02:23.951918Z",
     "shell.execute_reply": "2024-12-02T00:02:23.950606Z"
    },
    "papermill": {
     "duration": 0.494278,
     "end_time": "2024-12-02T00:02:23.957730",
     "exception": false,
     "start_time": "2024-12-02T00:02:23.463452",
     "status": "completed"
    },
    "tags": []
   },
   "outputs": [],
   "source": [
    "# make predictions on the test data\n",
    "start_time = time.time()\n",
    "y_pred = stacking_clf.predict(X_test)\n",
    "testing_time = time.time() - start_time"
   ]
  },
  {
   "cell_type": "code",
   "execution_count": 20,
   "id": "984ecabe",
   "metadata": {
    "execution": {
     "iopub.execute_input": "2024-12-02T00:02:24.082702Z",
     "iopub.status.busy": "2024-12-02T00:02:24.082393Z",
     "iopub.status.idle": "2024-12-02T00:02:24.368353Z",
     "shell.execute_reply": "2024-12-02T00:02:24.367429Z"
    },
    "papermill": {
     "duration": 0.332623,
     "end_time": "2024-12-02T00:02:24.370097",
     "exception": false,
     "start_time": "2024-12-02T00:02:24.037474",
     "status": "completed"
    },
    "tags": []
   },
   "outputs": [
    {
     "name": "stdout",
     "output_type": "stream",
     "text": [
      "Confusion matrix, without normalization\n"
     ]
    },
    {
     "data": {
      "image/png": "[encoded data removed]",
      "text/plain": [
       "<Figure size 500x500 with 2 Axes>"
      ]
     },
     "metadata": {},
     "output_type": "display_data"
    }
   ],
   "source": [
    "import itertools\n",
    "def plot_confusion_matrix(cm, classes,\n",
    "                          normalize=False,\n",
    "                          title='',\n",
    "                          cmap=plt.cm.Greens):\n",
    "    \"\"\"\n",
    "    This function prints and plots the confusion matrix.\n",
    "    Normalization can be applied by setting `normalize=True`.\n",
    "    \"\"\"\n",
    "    if normalize:\n",
    "        cm = cm.astype('float') / cm.sum(axis=1)[:, np.newaxis]\n",
    "        print(\"Normalized confusion matrix\")\n",
    "    else:\n",
    "        print('Confusion matrix, without normalization')\n",
    "\n",
    "    plt.imshow(cm, interpolation='nearest', cmap=cmap)\n",
    "    plt.title(title)\n",
    "    plt.colorbar()\n",
    "    tick_marks = np.arange(len(classes))\n",
    "    plt.xticks(tick_marks, classes, rotation=45,fontweight='bold')\n",
    "    plt.yticks(tick_marks, classes, fontweight='bold')\n",
    "\n",
    "    for i in range(cm.shape[0]):\n",
    "        for j in range(cm.shape[1]):\n",
    "            plt.text(j, i, format(cm[i, j], 'd'),\n",
    "                    ha=\"center\", va=\"center\", fontweight='bold',\n",
    "                    color=\"white\" if cm[i, j] > cm.max() / 2. else \"black\")\n",
    "\n",
    "    plt.tight_layout()\n",
    "    plt.ylabel('True label',fontweight='bold')\n",
    "    plt.xlabel('Predicted label',fontweight='bold')\n",
    "\n",
    "# Compute confusion matrix\n",
    "cnf_matrix = confusion_matrix(y_test, y_pred)\n",
    "np.set_printoptions(precision=2)\n",
    "\n",
    "# Plot non-normalized confusion matrix\n",
    "plt.figure(figsize=(5,5))\n",
    "plot_confusion_matrix(cnf_matrix, classes=['EB','H','LB']\n",
    "                      )\n",
    "plt.show()"
   ]
  },
  {
   "cell_type": "code",
   "execution_count": 21,
   "id": "064be9b6",
   "metadata": {
    "execution": {
     "iopub.execute_input": "2024-12-02T00:02:24.419553Z",
     "iopub.status.busy": "2024-12-02T00:02:24.418876Z",
     "iopub.status.idle": "2024-12-02T00:02:24.424038Z",
     "shell.execute_reply": "2024-12-02T00:02:24.423191Z"
    },
    "papermill": {
     "duration": 0.030832,
     "end_time": "2024-12-02T00:02:24.425661",
     "exception": false,
     "start_time": "2024-12-02T00:02:24.394829",
     "status": "completed"
    },
    "tags": []
   },
   "outputs": [
    {
     "data": {
      "text/plain": [
       "(486,)"
      ]
     },
     "execution_count": 21,
     "metadata": {},
     "output_type": "execute_result"
    }
   ],
   "source": [
    "y_pred.shape"
   ]
  },
  {
   "cell_type": "code",
   "execution_count": 22,
   "id": "0304c4e5",
   "metadata": {
    "execution": {
     "iopub.execute_input": "2024-12-02T00:02:24.473567Z",
     "iopub.status.busy": "2024-12-02T00:02:24.473321Z",
     "iopub.status.idle": "2024-12-02T00:02:24.484761Z",
     "shell.execute_reply": "2024-12-02T00:02:24.483827Z"
    },
    "papermill": {
     "duration": 0.037522,
     "end_time": "2024-12-02T00:02:24.486364",
     "exception": false,
     "start_time": "2024-12-02T00:02:24.448842",
     "status": "completed"
    },
    "tags": []
   },
   "outputs": [
    {
     "name": "stdout",
     "output_type": "stream",
     "text": [
      "Accuracy (Test): 98.7654\n",
      "Precision (Test): 98.7853\n",
      "Recall (Test): 98.7654\n",
      "F1 score (Test): 98.7653\n"
     ]
    }
   ],
   "source": [
    "accuracy_test = accuracy_score(y_test, y_pred)*100\n",
    "precision_test = precision_score(y_test, y_pred, average='macro')*100\n",
    "recall_test = recall_score(y_test, y_pred, average='macro')*100\n",
    "f1_test = f1_score(y_test, y_pred, average='macro')*100\n",
    "\n",
    "print(\"Accuracy (Test): {:.4f}\".format(accuracy_test))\n",
    "print(\"Precision (Test): {:.4f}\".format(precision_test))\n",
    "print(\"Recall (Test): {:.4f}\".format(recall_test))\n",
    "print(\"F1 score (Test): {:.4f}\".format(f1_test))"
   ]
  },
  {
   "cell_type": "code",
   "execution_count": 23,
   "id": "498b34c2",
   "metadata": {
    "execution": {
     "iopub.execute_input": "2024-12-02T00:02:24.535779Z",
     "iopub.status.busy": "2024-12-02T00:02:24.535467Z",
     "iopub.status.idle": "2024-12-02T00:02:28.429956Z",
     "shell.execute_reply": "2024-12-02T00:02:28.428722Z"
    },
    "papermill": {
     "duration": 3.925623,
     "end_time": "2024-12-02T00:02:28.436974",
     "exception": false,
     "start_time": "2024-12-02T00:02:24.511351",
     "status": "completed"
    },
    "tags": []
   },
   "outputs": [],
   "source": [
    "# make predictions on the train data\n",
    "y_pred = stacking_clf.predict(X_train)"
   ]
  },
  {
   "cell_type": "code",
   "execution_count": 24,
   "id": "9dfda742",
   "metadata": {
    "execution": {
     "iopub.execute_input": "2024-12-02T00:02:28.491117Z",
     "iopub.status.busy": "2024-12-02T00:02:28.490827Z",
     "iopub.status.idle": "2024-12-02T00:02:28.677790Z",
     "shell.execute_reply": "2024-12-02T00:02:28.676691Z"
    },
    "papermill": {
     "duration": 0.214863,
     "end_time": "2024-12-02T00:02:28.680949",
     "exception": false,
     "start_time": "2024-12-02T00:02:28.466086",
     "status": "completed"
    },
    "tags": []
   },
   "outputs": [
    {
     "name": "stdout",
     "output_type": "stream",
     "text": [
      "Confusion matrix, without normalization\n"
     ]
    },
    {
     "data": {
      "image/png": "[encoded data removed]",
      "text/plain": [
       "<Figure size 500x500 with 2 Axes>"
      ]
     },
     "metadata": {},
     "output_type": "display_data"
    }
   ],
   "source": [
    "def plot_confusion_matrix(cm, classes,\n",
    "                          normalize=False,\n",
    "                          title='',\n",
    "                          cmap=plt.cm.Greens):\n",
    "    \"\"\"\n",
    "    This function prints and plots the confusion matrix.\n",
    "    Normalization can be applied by setting `normalize=True`.\n",
    "    \"\"\"\n",
    "    if normalize:\n",
    "        cm = cm.astype('float') / cm.sum(axis=1)[:, np.newaxis]\n",
    "        print(\"Normalized confusion matrix\")\n",
    "    else:\n",
    "        print('Confusion matrix, without normalization')\n",
    "\n",
    "    plt.imshow(cm, interpolation='nearest', cmap=cmap)\n",
    "    plt.title(title)\n",
    "    plt.colorbar()\n",
    "    tick_marks = np.arange(len(classes))\n",
    "    plt.xticks(tick_marks, classes, rotation=45,fontweight='bold')\n",
    "    plt.yticks(tick_marks, classes, fontweight='bold')\n",
    "\n",
    "    for i in range(cm.shape[0]):\n",
    "        for j in range(cm.shape[1]):\n",
    "            plt.text(j, i, format(cm[i, j], 'd'),\n",
    "                    ha=\"center\", va=\"center\", fontweight='bold',\n",
    "                    color=\"white\" if cm[i, j] > cm.max() / 2. else \"black\")\n",
    "\n",
    "    plt.tight_layout()\n",
    "    plt.ylabel('True label',fontweight='bold')\n",
    "    plt.xlabel('Predicted label',fontweight='bold')\n",
    "\n",
    "# Compute confusion matrix\n",
    "cnf_matrix = confusion_matrix(y_train, y_pred)\n",
    "np.set_printoptions(precision=2)\n",
    "\n",
    "# Plot non-normalized confusion matrix\n",
    "plt.figure(figsize=(5,5))\n",
    "plot_confusion_matrix(cnf_matrix, classes=['EB','H','LB']\n",
    "                      )\n",
    "plt.show()"
   ]
  },
  {
   "cell_type": "code",
   "execution_count": 25,
   "id": "83737563",
   "metadata": {
    "execution": {
     "iopub.execute_input": "2024-12-02T00:02:28.740830Z",
     "iopub.status.busy": "2024-12-02T00:02:28.740531Z",
     "iopub.status.idle": "2024-12-02T00:02:28.753161Z",
     "shell.execute_reply": "2024-12-02T00:02:28.752108Z"
    },
    "papermill": {
     "duration": 0.038984,
     "end_time": "2024-12-02T00:02:28.754968",
     "exception": false,
     "start_time": "2024-12-02T00:02:28.715984",
     "status": "completed"
    },
    "tags": []
   },
   "outputs": [
    {
     "name": "stdout",
     "output_type": "stream",
     "text": [
      "Accuracy (Train): 99.9773\n",
      "Precision (Train): 99.9773\n",
      "Recall (Train): 99.9773\n",
      "F1 score (Train): 99.9773\n"
     ]
    }
   ],
   "source": [
    "accuracy_train = accuracy_score(y_train, y_pred)*100\n",
    "precision_train = precision_score(y_train, y_pred, average='macro')*100\n",
    "recall_train = recall_score(y_train, y_pred, average='macro')*100\n",
    "f1_train = f1_score(y_train, y_pred, average='macro')*100\n",
    "\n",
    "print(\"Accuracy (Train): {:.4f}\".format(accuracy_train))\n",
    "print(\"Precision (Train): {:.4f}\".format(precision_train))\n",
    "print(\"Recall (Train): {:.4f}\".format(recall_train))\n",
    "print(\"F1 score (Train): {:.4f}\".format(f1_train))"
   ]
  },
  {
   "cell_type": "code",
   "execution_count": 26,
   "id": "260e6278",
   "metadata": {
    "execution": {
     "iopub.execute_input": "2024-12-02T00:02:28.803526Z",
     "iopub.status.busy": "2024-12-02T00:02:28.803230Z",
     "iopub.status.idle": "2024-12-02T00:02:28.809961Z",
     "shell.execute_reply": "2024-12-02T00:02:28.809294Z"
    },
    "papermill": {
     "duration": 0.032396,
     "end_time": "2024-12-02T00:02:28.811452",
     "exception": false,
     "start_time": "2024-12-02T00:02:28.779056",
     "status": "completed"
    },
    "tags": []
   },
   "outputs": [],
   "source": [
    "model_name='MobileNetV3Large-XGB'\n",
    "all_model.loc[len(all_model)] = [model_name, accuracy_train, precision_train, recall_train, f1_train, accuracy_test, precision_test, recall_test, f1_test, training_time, testing_time, memory_usage]"
   ]
  },
  {
   "cell_type": "code",
   "execution_count": 27,
   "id": "778b04ab",
   "metadata": {
    "execution": {
     "iopub.execute_input": "2024-12-02T00:02:28.859091Z",
     "iopub.status.busy": "2024-12-02T00:02:28.858812Z",
     "iopub.status.idle": "2024-12-02T00:02:28.871424Z",
     "shell.execute_reply": "2024-12-02T00:02:28.870570Z"
    },
    "papermill": {
     "duration": 0.038268,
     "end_time": "2024-12-02T00:02:28.872930",
     "exception": false,
     "start_time": "2024-12-02T00:02:28.834662",
     "status": "completed"
    },
    "tags": []
   },
   "outputs": [
    {
     "data": {
      "text/html": [
       "<div>\n",
       "<style scoped>\n",
       "    .dataframe tbody tr th:only-of-type {\n",
       "        vertical-align: middle;\n",
       "    }\n",
       "\n",
       "    .dataframe tbody tr th {\n",
       "        vertical-align: top;\n",
       "    }\n",
       "\n",
       "    .dataframe thead th {\n",
       "        text-align: right;\n",
       "    }\n",
       "</style>\n",
       "<table border=\"1\" class=\"dataframe\">\n",
       "  <thead>\n",
       "    <tr style=\"text-align: right;\">\n",
       "      <th></th>\n",
       "      <th>Model</th>\n",
       "      <th>Accuracy (Train)</th>\n",
       "      <th>Precision (Train)</th>\n",
       "      <th>Recall (Train)</th>\n",
       "      <th>F1 Score (Train)</th>\n",
       "      <th>Accuracy (Test)</th>\n",
       "      <th>Precision (Test)</th>\n",
       "      <th>Recall (Test)</th>\n",
       "      <th>F1 Score (Test)</th>\n",
       "      <th>Training Time (s)</th>\n",
       "      <th>Testing Time (s)</th>\n",
       "      <th>Memory (MB)</th>\n",
       "    </tr>\n",
       "  </thead>\n",
       "  <tbody>\n",
       "    <tr>\n",
       "      <th>0</th>\n",
       "      <td>MobileNetV3Large-XGB</td>\n",
       "      <td>99.977262</td>\n",
       "      <td>99.977278</td>\n",
       "      <td>99.977262</td>\n",
       "      <td>99.977262</td>\n",
       "      <td>98.765432</td>\n",
       "      <td>98.785265</td>\n",
       "      <td>98.765432</td>\n",
       "      <td>98.765307</td>\n",
       "      <td>72.596139</td>\n",
       "      <td>0.458252</td>\n",
       "      <td>3544.480469</td>\n",
       "    </tr>\n",
       "  </tbody>\n",
       "</table>\n",
       "</div>"
      ],
      "text/plain": [
       "                  Model  Accuracy (Train)  Precision (Train)  Recall (Train)  \\\n",
       "0  MobileNetV3Large-XGB         99.977262          99.977278       99.977262   \n",
       "\n",
       "   F1 Score (Train)  Accuracy (Test)  Precision (Test)  Recall (Test)  \\\n",
       "0         99.977262        98.765432         98.785265      98.765432   \n",
       "\n",
       "   F1 Score (Test)  Training Time (s)  Testing Time (s)  Memory (MB)  \n",
       "0        98.765307          72.596139          0.458252  3544.480469  "
      ]
     },
     "execution_count": 27,
     "metadata": {},
     "output_type": "execute_result"
    }
   ],
   "source": [
    "all_model"
   ]
  }
 ],
 "metadata": {
  "kaggle": {
   "accelerator": "gpu",
   "dataSources": [
    {
     "datasetId": 1562973,
     "sourceId": 2574068,
     "sourceType": "datasetVersion"
    },
    {
     "datasetId": 6161628,
     "sourceId": 10008956,
     "sourceType": "datasetVersion"
    }
   ],
   "dockerImageVersionId": 30528,
   "isGpuEnabled": true,
   "isInternetEnabled": true,
   "language": "python",
   "sourceType": "notebook"
  },
  "kernelspec": {
   "display_name": "Python 3",
   "language": "python",
   "name": "python3"
  },
  "language_info": {
   "codemirror_mode": {
    "name": "ipython",
    "version": 3
   },
   "file_extension": ".py",
   "mimetype": "text/x-python",
   "name": "python",
   "nbconvert_exporter": "python",
   "pygments_lexer": "ipython3",
   "version": "3.10.12"
  },
  "papermill": {
   "default_parameters": {},
   "duration": 154.698328,
   "end_time": "2024-12-02T00:02:31.716611",
   "environment_variables": {},
   "exception": null,
   "input_path": "__notebook__.ipynb",
   "output_path": "__notebook__.ipynb",
   "parameters": {},
   "start_time": "2024-12-01T23:59:57.018283",
   "version": "2.4.0"
  }
 },
 "nbformat": 4,
 "nbformat_minor": 5
}
