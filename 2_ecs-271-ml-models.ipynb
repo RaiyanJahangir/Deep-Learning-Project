{
 "cells": [
  {
   "cell_type": "code",
   "execution_count": 1,
   "id": "25c94cee",
   "metadata": {
    "_cell_guid": "b1076dfc-b9ad-4769-8c92-a6c4dae69d19",
    "_uuid": "8f2839f25d086af736a60e9eeb907d3b93b6e0e5",
    "execution": {
     "iopub.execute_input": "2024-11-27T05:22:29.073702Z",
     "iopub.status.busy": "2024-11-27T05:22:29.073289Z",
     "iopub.status.idle": "2024-11-27T05:22:29.082649Z",
     "shell.execute_reply": "2024-11-27T05:22:29.081710Z"
    },
    "papermill": {
     "duration": 0.025047,
     "end_time": "2024-11-27T05:22:29.084738",
     "exception": false,
     "start_time": "2024-11-27T05:22:29.059691",
     "status": "completed"
    },
    "tags": []
   },
   "outputs": [],
   "source": [
    "# This Python 3 environment comes with many helpful analytics libraries installed\n",
    "# It is defined by the kaggle/python Docker image: https://github.com/kaggle/docker-python\n",
    "# For example, here's several helpful packages to load\n",
    "\n",
    "import numpy as np # linear algebra\n",
    "import pandas as pd # data processing, CSV file I/O (e.g. pd.read_csv)\n",
    "\n",
    "# Input data files are available in the read-only \"../input/\" directory\n",
    "# For example, running this (by clicking run or pressing Shift+Enter) will list all files under the input directory\n",
    "\n",
    "import os\n",
    "# for dirname, _, filenames in os.walk('/kaggle/input'):\n",
    "#     for filename in filenames:\n",
    "        # print(os.path.join(dirname, filename))\n",
    "\n",
    "# You can write up to 20GB to the current directory (/kaggle/working/) that gets preserved as output when you create a version using \"Save & Run All\" \n",
    "# You can also write temporary files to /kaggle/temp/, but they won't be saved outside of the current session"
   ]
  },
  {
   "cell_type": "code",
   "execution_count": 2,
   "id": "2887e384",
   "metadata": {
    "execution": {
     "iopub.execute_input": "2024-11-27T05:22:29.111283Z",
     "iopub.status.busy": "2024-11-27T05:22:29.110922Z",
     "iopub.status.idle": "2024-11-27T05:22:39.404361Z",
     "shell.execute_reply": "2024-11-27T05:22:39.403496Z"
    },
    "papermill": {
     "duration": 10.308909,
     "end_time": "2024-11-27T05:22:39.406925",
     "exception": false,
     "start_time": "2024-11-27T05:22:29.098016",
     "status": "completed"
    },
    "tags": []
   },
   "outputs": [
    {
     "name": "stderr",
     "output_type": "stream",
     "text": [
      "/opt/conda/lib/python3.10/site-packages/scipy/__init__.py:146: UserWarning: A NumPy version >=1.16.5 and <1.23.0 is required for this version of SciPy (detected version 1.23.5\n",
      "  warnings.warn(f\"A NumPy version >={np_minversion} and <{np_maxversion}\"\n",
      "/opt/conda/lib/python3.10/site-packages/tensorflow_io/python/ops/__init__.py:98: UserWarning: unable to load libtensorflow_io_plugins.so: unable to open file: libtensorflow_io_plugins.so, from paths: ['/opt/conda/lib/python3.10/site-packages/tensorflow_io/python/ops/libtensorflow_io_plugins.so']\n",
      "caused by: ['/opt/conda/lib/python3.10/site-packages/tensorflow_io/python/ops/libtensorflow_io_plugins.so: undefined symbol: _ZN3tsl6StatusC1EN10tensorflow5error4CodeESt17basic_string_viewIcSt11char_traitsIcEENS_14SourceLocationE']\n",
      "  warnings.warn(f\"unable to load libtensorflow_io_plugins.so: {e}\")\n",
      "/opt/conda/lib/python3.10/site-packages/tensorflow_io/python/ops/__init__.py:104: UserWarning: file system plugins are not loaded: unable to open file: libtensorflow_io.so, from paths: ['/opt/conda/lib/python3.10/site-packages/tensorflow_io/python/ops/libtensorflow_io.so']\n",
      "caused by: ['/opt/conda/lib/python3.10/site-packages/tensorflow_io/python/ops/libtensorflow_io.so: undefined symbol: _ZTVN10tensorflow13GcsFileSystemE']\n",
      "  warnings.warn(f\"file system plugins are not loaded: {e}\")\n"
     ]
    }
   ],
   "source": [
    "import matplotlib.pyplot as plt\n",
    "import numpy as np\n",
    "import pandas as pd\n",
    "import seaborn as sns\n",
    "import cv2\n",
    "import tensorflow as tf\n",
    "from tensorflow.keras.preprocessing.image import ImageDataGenerator\n",
    "from tqdm import tqdm\n",
    "import os\n",
    "from sklearn.utils import shuffle\n",
    "from sklearn.model_selection import train_test_split\n",
    "from tensorflow.keras.applications import EfficientNetB0, DenseNet201\n",
    "from tensorflow.keras.callbacks import EarlyStopping, ReduceLROnPlateau, TensorBoard, ModelCheckpoint\n",
    "from sklearn.metrics import classification_report,confusion_matrix, accuracy_score, precision_score, recall_score, f1_score\n",
    "import ipywidgets as widgets\n",
    "import io\n",
    "from PIL import Image\n",
    "from IPython.display import display,clear_output\n",
    "from warnings import filterwarnings\n",
    "from keras.models import Sequential\n",
    "from keras.layers import Dense, Flatten, Dropout\n",
    "import time\n",
    "import psutil"
   ]
  },
  {
   "cell_type": "code",
   "execution_count": 3,
   "id": "ad4ef253",
   "metadata": {
    "execution": {
     "iopub.execute_input": "2024-11-27T05:22:39.432971Z",
     "iopub.status.busy": "2024-11-27T05:22:39.431988Z",
     "iopub.status.idle": "2024-11-27T05:22:39.436979Z",
     "shell.execute_reply": "2024-11-27T05:22:39.435978Z"
    },
    "papermill": {
     "duration": 0.02021,
     "end_time": "2024-11-27T05:22:39.439220",
     "exception": false,
     "start_time": "2024-11-27T05:22:39.419010",
     "status": "completed"
    },
    "tags": []
   },
   "outputs": [],
   "source": [
    "labels = ['Early_Blight','Healthy','Late_Blight']"
   ]
  },
  {
   "cell_type": "code",
   "execution_count": 4,
   "id": "f4caa0a2",
   "metadata": {
    "execution": {
     "iopub.execute_input": "2024-11-27T05:22:39.464596Z",
     "iopub.status.busy": "2024-11-27T05:22:39.464200Z",
     "iopub.status.idle": "2024-11-27T05:23:09.760163Z",
     "shell.execute_reply": "2024-11-27T05:23:09.759305Z"
    },
    "papermill": {
     "duration": 30.311305,
     "end_time": "2024-11-27T05:23:09.762524",
     "exception": false,
     "start_time": "2024-11-27T05:22:39.451219",
     "status": "completed"
    },
    "tags": []
   },
   "outputs": [
    {
     "name": "stderr",
     "output_type": "stream",
     "text": [
      "100%|██████████| 1303/1303 [00:08<00:00, 160.79it/s]\n",
      "100%|██████████| 1303/1303 [00:08<00:00, 162.82it/s]\n",
      "100%|██████████| 1303/1303 [00:07<00:00, 166.69it/s]\n",
      "100%|██████████| 162/162 [00:01<00:00, 161.15it/s]\n",
      "100%|██████████| 162/162 [00:00<00:00, 185.46it/s]\n",
      "100%|██████████| 162/162 [00:01<00:00, 150.67it/s]\n",
      "100%|██████████| 163/163 [00:01<00:00, 159.85it/s]\n",
      "100%|██████████| 163/163 [00:01<00:00, 148.55it/s]\n",
      "100%|██████████| 163/163 [00:01<00:00, 155.05it/s]\n"
     ]
    }
   ],
   "source": [
    "X_train = []\n",
    "y_train = []\n",
    "X_test = []\n",
    "y_test = []\n",
    "image_size = 128\n",
    "for i in labels:\n",
    "    folderPath = os.path.join('/kaggle/input/balanced-data/balanced_data','Training',i)\n",
    "    for j in tqdm(os.listdir(folderPath)):\n",
    "        img = cv2.imread(os.path.join(folderPath,j))\n",
    "        img = cv2.resize(img,(image_size, image_size))\n",
    "        X_train.append(img)\n",
    "        y_train.append(i)\n",
    "        \n",
    "for i in labels:\n",
    "    folderPath = os.path.join('/kaggle/input/balanced-data/balanced_data','Testing',i)\n",
    "    for j in tqdm(os.listdir(folderPath)):\n",
    "        img = cv2.imread(os.path.join(folderPath,j))\n",
    "        img = cv2.resize(img,(image_size,image_size))\n",
    "        X_test.append(img)\n",
    "        y_test.append(i)\n",
    "        \n",
    "for i in labels:\n",
    "    folderPath = os.path.join('/kaggle/input/balanced-data/balanced_data','Validation',i)\n",
    "    for j in tqdm(os.listdir(folderPath)):\n",
    "        img = cv2.imread(os.path.join(folderPath,j))\n",
    "        img = cv2.resize(img,(image_size,image_size))\n",
    "        X_train.append(img)\n",
    "        y_train.append(i)\n",
    "        \n",
    "X_train = np.array(X_train)\n",
    "y_train = np.array(y_train)\n",
    "X_test = np.array(X_test)\n",
    "y_test = np.array(y_test)"
   ]
  },
  {
   "cell_type": "code",
   "execution_count": 5,
   "id": "f57e7e2f",
   "metadata": {
    "execution": {
     "iopub.execute_input": "2024-11-27T05:23:09.817403Z",
     "iopub.status.busy": "2024-11-27T05:23:09.816727Z",
     "iopub.status.idle": "2024-11-27T05:23:09.822126Z",
     "shell.execute_reply": "2024-11-27T05:23:09.821158Z"
    },
    "papermill": {
     "duration": 0.035185,
     "end_time": "2024-11-27T05:23:09.824292",
     "exception": false,
     "start_time": "2024-11-27T05:23:09.789107",
     "status": "completed"
    },
    "tags": []
   },
   "outputs": [
    {
     "name": "stdout",
     "output_type": "stream",
     "text": [
      "(4398, 128, 128, 3)\n",
      "(4398,)\n",
      "(486, 128, 128, 3)\n",
      "(486,)\n"
     ]
    }
   ],
   "source": [
    "print(X_train.shape)\n",
    "print(y_train.shape)\n",
    "print(X_test.shape)\n",
    "print(y_test.shape)"
   ]
  },
  {
   "cell_type": "code",
   "execution_count": 6,
   "id": "9b4d6b99",
   "metadata": {
    "execution": {
     "iopub.execute_input": "2024-11-27T05:23:09.879348Z",
     "iopub.status.busy": "2024-11-27T05:23:09.878586Z",
     "iopub.status.idle": "2024-11-27T05:23:09.883610Z",
     "shell.execute_reply": "2024-11-27T05:23:09.882682Z"
    },
    "papermill": {
     "duration": 0.035058,
     "end_time": "2024-11-27T05:23:09.885858",
     "exception": false,
     "start_time": "2024-11-27T05:23:09.850800",
     "status": "completed"
    },
    "tags": []
   },
   "outputs": [],
   "source": [
    "# Reshape X_train\n",
    "nsamples, nx, ny, nrgb = X_train.shape\n",
    "X_train = X_train.reshape((nsamples,nx*ny*nrgb))\n",
    "\n",
    "# Reshape X_test\n",
    "nsamples, nx, ny, nrgb= X_test.shape\n",
    "X_test = X_test.reshape(nsamples, nx*ny*nrgb)"
   ]
  },
  {
   "cell_type": "code",
   "execution_count": 7,
   "id": "96e0bc05",
   "metadata": {
    "execution": {
     "iopub.execute_input": "2024-11-27T05:23:09.941194Z",
     "iopub.status.busy": "2024-11-27T05:23:09.940471Z",
     "iopub.status.idle": "2024-11-27T05:23:09.945719Z",
     "shell.execute_reply": "2024-11-27T05:23:09.944725Z"
    },
    "papermill": {
     "duration": 0.035397,
     "end_time": "2024-11-27T05:23:09.947794",
     "exception": false,
     "start_time": "2024-11-27T05:23:09.912397",
     "status": "completed"
    },
    "tags": []
   },
   "outputs": [
    {
     "name": "stdout",
     "output_type": "stream",
     "text": [
      "(4398, 49152)\n",
      "(4398,)\n",
      "(486, 49152)\n",
      "(486,)\n"
     ]
    }
   ],
   "source": [
    "print(X_train.shape)\n",
    "print(y_train.shape)\n",
    "print(X_test.shape)\n",
    "print(y_test.shape)"
   ]
  },
  {
   "cell_type": "code",
   "execution_count": 8,
   "id": "cb511bdb",
   "metadata": {
    "execution": {
     "iopub.execute_input": "2024-11-27T05:23:10.003243Z",
     "iopub.status.busy": "2024-11-27T05:23:10.002324Z",
     "iopub.status.idle": "2024-11-27T05:23:10.017089Z",
     "shell.execute_reply": "2024-11-27T05:23:10.016284Z"
    },
    "papermill": {
     "duration": 0.044541,
     "end_time": "2024-11-27T05:23:10.019103",
     "exception": false,
     "start_time": "2024-11-27T05:23:09.974562",
     "status": "completed"
    },
    "tags": []
   },
   "outputs": [],
   "source": [
    "all_model = pd.DataFrame(columns=['Model', 'Accuracy (Train)', 'Precision (Train)', 'Recall (Train)', 'F1 Score (Train)', 'Accuracy (Test)', 'Precision (Test)', 'Recall (Test)', 'F1 Score (Test)', 'Training Time (s)', 'Testing Time (s)','Memory (MB)'])"
   ]
  },
  {
   "cell_type": "code",
   "execution_count": 9,
   "id": "f13931c3",
   "metadata": {
    "execution": {
     "iopub.execute_input": "2024-11-27T05:23:10.074243Z",
     "iopub.status.busy": "2024-11-27T05:23:10.073370Z",
     "iopub.status.idle": "2024-11-27T05:23:10.092059Z",
     "shell.execute_reply": "2024-11-27T05:23:10.090985Z"
    },
    "papermill": {
     "duration": 0.048333,
     "end_time": "2024-11-27T05:23:10.094126",
     "exception": false,
     "start_time": "2024-11-27T05:23:10.045793",
     "status": "completed"
    },
    "tags": []
   },
   "outputs": [
    {
     "data": {
      "text/html": [
       "<div>\n",
       "<style scoped>\n",
       "    .dataframe tbody tr th:only-of-type {\n",
       "        vertical-align: middle;\n",
       "    }\n",
       "\n",
       "    .dataframe tbody tr th {\n",
       "        vertical-align: top;\n",
       "    }\n",
       "\n",
       "    .dataframe thead th {\n",
       "        text-align: right;\n",
       "    }\n",
       "</style>\n",
       "<table border=\"1\" class=\"dataframe\">\n",
       "  <thead>\n",
       "    <tr style=\"text-align: right;\">\n",
       "      <th></th>\n",
       "      <th>Model</th>\n",
       "      <th>Accuracy (Train)</th>\n",
       "      <th>Precision (Train)</th>\n",
       "      <th>Recall (Train)</th>\n",
       "      <th>F1 Score (Train)</th>\n",
       "      <th>Accuracy (Test)</th>\n",
       "      <th>Precision (Test)</th>\n",
       "      <th>Recall (Test)</th>\n",
       "      <th>F1 Score (Test)</th>\n",
       "      <th>Training Time (s)</th>\n",
       "      <th>Testing Time (s)</th>\n",
       "      <th>Memory (MB)</th>\n",
       "    </tr>\n",
       "  </thead>\n",
       "  <tbody>\n",
       "  </tbody>\n",
       "</table>\n",
       "</div>"
      ],
      "text/plain": [
       "Empty DataFrame\n",
       "Columns: [Model, Accuracy (Train), Precision (Train), Recall (Train), F1 Score (Train), Accuracy (Test), Precision (Test), Recall (Test), F1 Score (Test), Training Time (s), Testing Time (s), Memory (MB)]\n",
       "Index: []"
      ]
     },
     "execution_count": 9,
     "metadata": {},
     "output_type": "execute_result"
    }
   ],
   "source": [
    "all_model"
   ]
  },
  {
   "cell_type": "markdown",
   "id": "779489a9",
   "metadata": {
    "papermill": {
     "duration": 0.027103,
     "end_time": "2024-11-27T05:23:10.147790",
     "exception": false,
     "start_time": "2024-11-27T05:23:10.120687",
     "status": "completed"
    },
    "tags": []
   },
   "source": [
    "**Machine Learning**"
   ]
  },
  {
   "cell_type": "markdown",
   "id": "76d464b7",
   "metadata": {
    "papermill": {
     "duration": 0.026114,
     "end_time": "2024-11-27T05:23:10.201856",
     "exception": false,
     "start_time": "2024-11-27T05:23:10.175742",
     "status": "completed"
    },
    "tags": []
   },
   "source": [
    "**SVM**"
   ]
  },
  {
   "cell_type": "code",
   "execution_count": 10,
   "id": "0b6f3454",
   "metadata": {
    "execution": {
     "iopub.execute_input": "2024-11-27T05:23:10.256564Z",
     "iopub.status.busy": "2024-11-27T05:23:10.255794Z",
     "iopub.status.idle": "2024-11-27T05:28:25.912424Z",
     "shell.execute_reply": "2024-11-27T05:28:25.911589Z"
    },
    "papermill": {
     "duration": 315.686608,
     "end_time": "2024-11-27T05:28:25.914892",
     "exception": false,
     "start_time": "2024-11-27T05:23:10.228284",
     "status": "completed"
    },
    "tags": []
   },
   "outputs": [],
   "source": [
    "from sklearn.svm import SVC\n",
    "\n",
    "# define the SVM model\n",
    "svm = SVC(\n",
    "    kernel='rbf',            \n",
    "    C=1.0,                    \n",
    "    gamma='scale',            \n",
    "    decision_function_shape='ovr'\n",
    ")\n",
    "\n",
    "# fit the model on the training data\n",
    "start_time = time.time()\n",
    "svm.fit(X_train, y_train)\n",
    "training_time = time.time() - start_time\n",
    "memory_usage = psutil.Process().memory_info().rss / 1024 / 1024"
   ]
  },
  {
   "cell_type": "code",
   "execution_count": 11,
   "id": "9bdd4f2f",
   "metadata": {
    "execution": {
     "iopub.execute_input": "2024-11-27T05:28:25.970224Z",
     "iopub.status.busy": "2024-11-27T05:28:25.969863Z",
     "iopub.status.idle": "2024-11-27T05:30:48.762875Z",
     "shell.execute_reply": "2024-11-27T05:30:48.761722Z"
    },
    "papermill": {
     "duration": 142.824609,
     "end_time": "2024-11-27T05:30:48.766461",
     "exception": false,
     "start_time": "2024-11-27T05:28:25.941852",
     "status": "completed"
    },
    "tags": []
   },
   "outputs": [],
   "source": [
    "# make predictions on the test data\n",
    "start_time = time.time()\n",
    "y_pred = svm.predict(X_test)\n",
    "testing_time = time.time() - start_time"
   ]
  },
  {
   "cell_type": "code",
   "execution_count": 12,
   "id": "7f549d2e",
   "metadata": {
    "execution": {
     "iopub.execute_input": "2024-11-27T05:30:48.874661Z",
     "iopub.status.busy": "2024-11-27T05:30:48.874144Z",
     "iopub.status.idle": "2024-11-27T05:30:49.203739Z",
     "shell.execute_reply": "2024-11-27T05:30:49.202727Z"
    },
    "papermill": {
     "duration": 0.386152,
     "end_time": "2024-11-27T05:30:49.205882",
     "exception": false,
     "start_time": "2024-11-27T05:30:48.819730",
     "status": "completed"
    },
    "tags": []
   },
   "outputs": [
    {
     "data": {
      "image/png": "[encoded data removed]",
      "text/plain": [
       "<Figure size 640x480 with 2 Axes>"
      ]
     },
     "metadata": {},
     "output_type": "display_data"
    }
   ],
   "source": [
    "classes=['EB','H','LB']\n",
    "# Compute the confusion matrix\n",
    "cm = confusion_matrix(y_test, y_pred)\n",
    "\n",
    "# Plot the confusion matrix\n",
    "fig, ax = plt.subplots()\n",
    "im = ax.imshow(cm, interpolation='nearest', cmap=plt.cm.Greens)\n",
    "ax.figure.colorbar(im, ax=ax)\n",
    "ax.set(xticks=np.arange(cm.shape[1]),\n",
    "       yticks=np.arange(cm.shape[0]),\n",
    "       xticklabels=classes,\n",
    "       yticklabels=classes,\n",
    "       xlabel='Predicted label',\n",
    "       ylabel='True label',\n",
    "       aspect='equal',\n",
    "       )\n",
    "plt.xticks(np.arange(cm.shape[1]),  rotation=45, fontweight='bold', color='black',fontsize=10)\n",
    "plt.yticks(np.arange(cm.shape[0]),  fontweight='bold', color='black',fontsize=10)\n",
    "plt.ylabel('True label', fontweight='bold', color='black',fontsize=10)\n",
    "plt.xlabel('Predicted label', fontweight='bold', color='black',fontsize=10)\n",
    "plt.setp(ax.get_xticklabels(), rotation=45, ha=\"right\",rotation_mode=\"anchor\")\n",
    "\n",
    "for i in range(cm.shape[0]):\n",
    "    for j in range(cm.shape[1]):\n",
    "        ax.text(j, i, format(cm[i, j], 'd'),\n",
    "                ha=\"center\", va=\"center\", fontweight='bold',\n",
    "                color=\"white\" if cm[i, j] > cm.max() / 2. else \"black\")\n",
    "fig.tight_layout()\n",
    "plt.show()"
   ]
  },
  {
   "cell_type": "code",
   "execution_count": 13,
   "id": "f8a57c17",
   "metadata": {
    "execution": {
     "iopub.execute_input": "2024-11-27T05:30:49.263243Z",
     "iopub.status.busy": "2024-11-27T05:30:49.262291Z",
     "iopub.status.idle": "2024-11-27T05:30:49.277353Z",
     "shell.execute_reply": "2024-11-27T05:30:49.276253Z"
    },
    "papermill": {
     "duration": 0.045533,
     "end_time": "2024-11-27T05:30:49.279602",
     "exception": false,
     "start_time": "2024-11-27T05:30:49.234069",
     "status": "completed"
    },
    "tags": []
   },
   "outputs": [
    {
     "name": "stdout",
     "output_type": "stream",
     "text": [
      "Accuracy (Test): 77.9835\n",
      "Precision (Test): 78.9054\n",
      "Recall (Test): 77.9835\n",
      "F1 score (Test): 78.1345\n"
     ]
    }
   ],
   "source": [
    "accuracy_test = accuracy_score(y_test, y_pred)*100\n",
    "precision_test = precision_score(y_test, y_pred, average='macro')*100\n",
    "recall_test = recall_score(y_test, y_pred, average='macro')*100\n",
    "f1_test = f1_score(y_test, y_pred, average='macro')*100\n",
    "\n",
    "print(\"Accuracy (Test): {:.4f}\".format(accuracy_test))\n",
    "print(\"Precision (Test): {:.4f}\".format(precision_test))\n",
    "print(\"Recall (Test): {:.4f}\".format(recall_test))\n",
    "print(\"F1 score (Test): {:.4f}\".format(f1_test))"
   ]
  },
  {
   "cell_type": "code",
   "execution_count": 14,
   "id": "08e7bc6f",
   "metadata": {
    "execution": {
     "iopub.execute_input": "2024-11-27T05:30:49.335816Z",
     "iopub.status.busy": "2024-11-27T05:30:49.334882Z",
     "iopub.status.idle": "2024-11-27T05:53:14.310839Z",
     "shell.execute_reply": "2024-11-27T05:53:14.309640Z"
    },
    "papermill": {
     "duration": 1345.007699,
     "end_time": "2024-11-27T05:53:14.314515",
     "exception": false,
     "start_time": "2024-11-27T05:30:49.306816",
     "status": "completed"
    },
    "tags": []
   },
   "outputs": [],
   "source": [
    "# make predictions on the train data\n",
    "y_pred = svm.predict(X_train)"
   ]
  },
  {
   "cell_type": "code",
   "execution_count": 15,
   "id": "8ca57101",
   "metadata": {
    "execution": {
     "iopub.execute_input": "2024-11-27T05:53:14.423323Z",
     "iopub.status.busy": "2024-11-27T05:53:14.422603Z",
     "iopub.status.idle": "2024-11-27T05:53:14.706494Z",
     "shell.execute_reply": "2024-11-27T05:53:14.705222Z"
    },
    "papermill": {
     "duration": 0.341108,
     "end_time": "2024-11-27T05:53:14.708773",
     "exception": false,
     "start_time": "2024-11-27T05:53:14.367665",
     "status": "completed"
    },
    "tags": []
   },
   "outputs": [
    {
     "data": {
      "image/png": "[encoded data removed]",
      "text/plain": [
       "<Figure size 640x480 with 2 Axes>"
      ]
     },
     "metadata": {},
     "output_type": "display_data"
    }
   ],
   "source": [
    "classes=['EB','H','LB']\n",
    "# Compute the confusion matrix\n",
    "cm = confusion_matrix(y_train, y_pred)\n",
    "\n",
    "# Plot the confusion matrix\n",
    "fig, ax = plt.subplots()\n",
    "im = ax.imshow(cm, interpolation='nearest', cmap=plt.cm.Greens)\n",
    "ax.figure.colorbar(im, ax=ax)\n",
    "ax.set(xticks=np.arange(cm.shape[1]),\n",
    "       yticks=np.arange(cm.shape[0]),\n",
    "       xticklabels=classes,\n",
    "       yticklabels=classes,\n",
    "       xlabel='Predicted label',\n",
    "       ylabel='True label',\n",
    "       aspect='equal',\n",
    "       )\n",
    "plt.xticks(np.arange(cm.shape[1]),  rotation=45, fontweight='bold', color='black',fontsize=10)\n",
    "plt.yticks(np.arange(cm.shape[0]),  fontweight='bold', color='black',fontsize=10)\n",
    "plt.ylabel('True label', fontweight='bold', color='black',fontsize=10)\n",
    "plt.xlabel('Predicted label', fontweight='bold', color='black',fontsize=10)\n",
    "plt.setp(ax.get_xticklabels(), rotation=45, ha=\"right\",rotation_mode=\"anchor\")\n",
    "\n",
    "for i in range(cm.shape[0]):\n",
    "    for j in range(cm.shape[1]):\n",
    "        ax.text(j, i, format(cm[i, j], 'd'),\n",
    "                ha=\"center\", va=\"center\", fontweight='bold',\n",
    "                color=\"white\" if cm[i, j] > cm.max() / 2. else \"black\")\n",
    "fig.tight_layout()\n",
    "plt.show()"
   ]
  },
  {
   "cell_type": "code",
   "execution_count": 16,
   "id": "18df3b44",
   "metadata": {
    "execution": {
     "iopub.execute_input": "2024-11-27T05:53:14.765965Z",
     "iopub.status.busy": "2024-11-27T05:53:14.765605Z",
     "iopub.status.idle": "2024-11-27T05:53:14.810500Z",
     "shell.execute_reply": "2024-11-27T05:53:14.809282Z"
    },
    "papermill": {
     "duration": 0.07596,
     "end_time": "2024-11-27T05:53:14.812630",
     "exception": false,
     "start_time": "2024-11-27T05:53:14.736670",
     "status": "completed"
    },
    "tags": []
   },
   "outputs": [
    {
     "name": "stdout",
     "output_type": "stream",
     "text": [
      "Accuracy (Train): 83.6517\n",
      "Precision (Train): 84.2570\n",
      "Recall (Train): 83.6517\n",
      "F1 score (Train): 83.7564\n"
     ]
    }
   ],
   "source": [
    "accuracy_train = accuracy_score(y_train, y_pred)*100\n",
    "precision_train = precision_score(y_train, y_pred, average='macro')*100\n",
    "recall_train = recall_score(y_train, y_pred, average='macro')*100\n",
    "f1_train = f1_score(y_train, y_pred, average='macro')*100\n",
    "\n",
    "print(\"Accuracy (Train): {:.4f}\".format(accuracy_train))\n",
    "print(\"Precision (Train): {:.4f}\".format(precision_train))\n",
    "print(\"Recall (Train): {:.4f}\".format(recall_train))\n",
    "print(\"F1 score (Train): {:.4f}\".format(f1_train))"
   ]
  },
  {
   "cell_type": "code",
   "execution_count": 17,
   "id": "5d6a5787",
   "metadata": {
    "execution": {
     "iopub.execute_input": "2024-11-27T05:53:14.879150Z",
     "iopub.status.busy": "2024-11-27T05:53:14.878568Z",
     "iopub.status.idle": "2024-11-27T05:53:14.888650Z",
     "shell.execute_reply": "2024-11-27T05:53:14.887426Z"
    },
    "papermill": {
     "duration": 0.051048,
     "end_time": "2024-11-27T05:53:14.891375",
     "exception": false,
     "start_time": "2024-11-27T05:53:14.840327",
     "status": "completed"
    },
    "tags": []
   },
   "outputs": [],
   "source": [
    "model_name='SVM'\n",
    "all_model.loc[len(all_model)] = [model_name, accuracy_train, precision_train, recall_train, f1_train, accuracy_test, precision_test, recall_test, f1_test, training_time, testing_time, memory_usage]"
   ]
  },
  {
   "cell_type": "code",
   "execution_count": 18,
   "id": "842d12d8",
   "metadata": {
    "execution": {
     "iopub.execute_input": "2024-11-27T05:53:14.950166Z",
     "iopub.status.busy": "2024-11-27T05:53:14.949823Z",
     "iopub.status.idle": "2024-11-27T05:53:14.975623Z",
     "shell.execute_reply": "2024-11-27T05:53:14.974487Z"
    },
    "papermill": {
     "duration": 0.057564,
     "end_time": "2024-11-27T05:53:14.978136",
     "exception": false,
     "start_time": "2024-11-27T05:53:14.920572",
     "status": "completed"
    },
    "tags": []
   },
   "outputs": [
    {
     "data": {
      "text/html": [
       "<div>\n",
       "<style scoped>\n",
       "    .dataframe tbody tr th:only-of-type {\n",
       "        vertical-align: middle;\n",
       "    }\n",
       "\n",
       "    .dataframe tbody tr th {\n",
       "        vertical-align: top;\n",
       "    }\n",
       "\n",
       "    .dataframe thead th {\n",
       "        text-align: right;\n",
       "    }\n",
       "</style>\n",
       "<table border=\"1\" class=\"dataframe\">\n",
       "  <thead>\n",
       "    <tr style=\"text-align: right;\">\n",
       "      <th></th>\n",
       "      <th>Model</th>\n",
       "      <th>Accuracy (Train)</th>\n",
       "      <th>Precision (Train)</th>\n",
       "      <th>Recall (Train)</th>\n",
       "      <th>F1 Score (Train)</th>\n",
       "      <th>Accuracy (Test)</th>\n",
       "      <th>Precision (Test)</th>\n",
       "      <th>Recall (Test)</th>\n",
       "      <th>F1 Score (Test)</th>\n",
       "      <th>Training Time (s)</th>\n",
       "      <th>Testing Time (s)</th>\n",
       "      <th>Memory (MB)</th>\n",
       "    </tr>\n",
       "  </thead>\n",
       "  <tbody>\n",
       "    <tr>\n",
       "      <th>0</th>\n",
       "      <td>SVM</td>\n",
       "      <td>83.65166</td>\n",
       "      <td>84.256971</td>\n",
       "      <td>83.65166</td>\n",
       "      <td>83.756435</td>\n",
       "      <td>77.983539</td>\n",
       "      <td>78.905391</td>\n",
       "      <td>77.983539</td>\n",
       "      <td>78.134467</td>\n",
       "      <td>315.554209</td>\n",
       "      <td>142.788555</td>\n",
       "      <td>2236.230469</td>\n",
       "    </tr>\n",
       "  </tbody>\n",
       "</table>\n",
       "</div>"
      ],
      "text/plain": [
       "  Model  Accuracy (Train)  Precision (Train)  Recall (Train)  \\\n",
       "0   SVM          83.65166          84.256971        83.65166   \n",
       "\n",
       "   F1 Score (Train)  Accuracy (Test)  Precision (Test)  Recall (Test)  \\\n",
       "0         83.756435        77.983539         78.905391      77.983539   \n",
       "\n",
       "   F1 Score (Test)  Training Time (s)  Testing Time (s)  Memory (MB)  \n",
       "0        78.134467         315.554209        142.788555  2236.230469  "
      ]
     },
     "execution_count": 18,
     "metadata": {},
     "output_type": "execute_result"
    }
   ],
   "source": [
    "all_model"
   ]
  },
  {
   "cell_type": "markdown",
   "id": "111385eb",
   "metadata": {
    "papermill": {
     "duration": 0.028676,
     "end_time": "2024-11-27T05:53:15.035637",
     "exception": false,
     "start_time": "2024-11-27T05:53:15.006961",
     "status": "completed"
    },
    "tags": []
   },
   "source": [
    "**KNN**"
   ]
  },
  {
   "cell_type": "code",
   "execution_count": 19,
   "id": "bbbf9b0e",
   "metadata": {
    "execution": {
     "iopub.execute_input": "2024-11-27T05:53:15.104659Z",
     "iopub.status.busy": "2024-11-27T05:53:15.104229Z",
     "iopub.status.idle": "2024-11-27T05:53:15.237497Z",
     "shell.execute_reply": "2024-11-27T05:53:15.236430Z"
    },
    "papermill": {
     "duration": 0.173145,
     "end_time": "2024-11-27T05:53:15.239875",
     "exception": false,
     "start_time": "2024-11-27T05:53:15.066730",
     "status": "completed"
    },
    "tags": []
   },
   "outputs": [],
   "source": [
    "from sklearn.neighbors import KNeighborsClassifier\n",
    "\n",
    "# define the KNN model\n",
    "knn = KNeighborsClassifier()\n",
    "\n",
    "# fit the model on the training data\n",
    "start_time = time.time()\n",
    "knn.fit(X_train, y_train)\n",
    "training_time = time.time() - start_time\n",
    "memory_usage = psutil.Process().memory_info().rss / 1024 / 1024"
   ]
  },
  {
   "cell_type": "code",
   "execution_count": 20,
   "id": "e903d841",
   "metadata": {
    "execution": {
     "iopub.execute_input": "2024-11-27T05:53:15.310777Z",
     "iopub.status.busy": "2024-11-27T05:53:15.309997Z",
     "iopub.status.idle": "2024-11-27T05:53:19.488583Z",
     "shell.execute_reply": "2024-11-27T05:53:19.487501Z"
    },
    "papermill": {
     "duration": 4.216489,
     "end_time": "2024-11-27T05:53:19.492174",
     "exception": false,
     "start_time": "2024-11-27T05:53:15.275685",
     "status": "completed"
    },
    "tags": []
   },
   "outputs": [],
   "source": [
    "# make predictions on the test data\n",
    "start_time = time.time()\n",
    "y_pred = knn.predict(X_test)\n",
    "testing_time = time.time() - start_time"
   ]
  },
  {
   "cell_type": "code",
   "execution_count": 21,
   "id": "7ac84da9",
   "metadata": {
    "execution": {
     "iopub.execute_input": "2024-11-27T05:53:19.566389Z",
     "iopub.status.busy": "2024-11-27T05:53:19.566035Z",
     "iopub.status.idle": "2024-11-27T05:53:19.792027Z",
     "shell.execute_reply": "2024-11-27T05:53:19.790986Z"
    },
    "papermill": {
     "duration": 0.257289,
     "end_time": "2024-11-27T05:53:19.794281",
     "exception": false,
     "start_time": "2024-11-27T05:53:19.536992",
     "status": "completed"
    },
    "tags": []
   },
   "outputs": [
    {
     "data": {
      "image/png": "[encoded data removed]",
      "text/plain": [
       "<Figure size 640x480 with 2 Axes>"
      ]
     },
     "metadata": {},
     "output_type": "display_data"
    }
   ],
   "source": [
    "classes=['EB','H','LB']\n",
    "# Compute the confusion matrix\n",
    "cm = confusion_matrix(y_test, y_pred)\n",
    "\n",
    "# Plot the confusion matrix\n",
    "fig, ax = plt.subplots()\n",
    "im = ax.imshow(cm, interpolation='nearest', cmap=plt.cm.Greens)\n",
    "ax.figure.colorbar(im, ax=ax)\n",
    "ax.set(xticks=np.arange(cm.shape[1]),\n",
    "       yticks=np.arange(cm.shape[0]),\n",
    "       xticklabels=classes,\n",
    "       yticklabels=classes,\n",
    "       xlabel='Predicted label',\n",
    "       ylabel='True label',\n",
    "       aspect='equal',\n",
    "       )\n",
    "plt.xticks(np.arange(cm.shape[1]),  rotation=45, fontweight='bold', color='black',fontsize=10)\n",
    "plt.yticks(np.arange(cm.shape[0]),  fontweight='bold', color='black',fontsize=10)\n",
    "plt.ylabel('True label', fontweight='bold', color='black',fontsize=10)\n",
    "plt.xlabel('Predicted label', fontweight='bold', color='black',fontsize=10)\n",
    "plt.setp(ax.get_xticklabels(), rotation=45, ha=\"right\",rotation_mode=\"anchor\")\n",
    "\n",
    "for i in range(cm.shape[0]):\n",
    "    for j in range(cm.shape[1]):\n",
    "        ax.text(j, i, format(cm[i, j], 'd'),\n",
    "                ha=\"center\", va=\"center\", fontweight='bold',\n",
    "                color=\"white\" if cm[i, j] > cm.max() / 2. else \"black\")\n",
    "fig.tight_layout()\n",
    "plt.show()"
   ]
  },
  {
   "cell_type": "code",
   "execution_count": 22,
   "id": "12fca031",
   "metadata": {
    "execution": {
     "iopub.execute_input": "2024-11-27T05:53:19.853053Z",
     "iopub.status.busy": "2024-11-27T05:53:19.851958Z",
     "iopub.status.idle": "2024-11-27T05:53:19.867494Z",
     "shell.execute_reply": "2024-11-27T05:53:19.866329Z"
    },
    "papermill": {
     "duration": 0.047142,
     "end_time": "2024-11-27T05:53:19.869599",
     "exception": false,
     "start_time": "2024-11-27T05:53:19.822457",
     "status": "completed"
    },
    "tags": []
   },
   "outputs": [
    {
     "name": "stdout",
     "output_type": "stream",
     "text": [
      "Accuracy (Test): 59.0535\n",
      "Precision (Test): 62.6711\n",
      "Recall (Test): 59.0535\n",
      "F1 score (Test): 52.8594\n"
     ]
    }
   ],
   "source": [
    "accuracy_test = accuracy_score(y_test, y_pred)*100\n",
    "precision_test = precision_score(y_test, y_pred, average='macro')*100\n",
    "recall_test = recall_score(y_test, y_pred, average='macro')*100\n",
    "f1_test = f1_score(y_test, y_pred, average='macro')*100\n",
    "\n",
    "print(\"Accuracy (Test): {:.4f}\".format(accuracy_test))\n",
    "print(\"Precision (Test): {:.4f}\".format(precision_test))\n",
    "print(\"Recall (Test): {:.4f}\".format(recall_test))\n",
    "print(\"F1 score (Test): {:.4f}\".format(f1_test))"
   ]
  },
  {
   "cell_type": "code",
   "execution_count": 23,
   "id": "b84fc15d",
   "metadata": {
    "execution": {
     "iopub.execute_input": "2024-11-27T05:53:19.928313Z",
     "iopub.status.busy": "2024-11-27T05:53:19.927951Z",
     "iopub.status.idle": "2024-11-27T05:53:34.420746Z",
     "shell.execute_reply": "2024-11-27T05:53:34.419627Z"
    },
    "papermill": {
     "duration": 14.524624,
     "end_time": "2024-11-27T05:53:34.423167",
     "exception": false,
     "start_time": "2024-11-27T05:53:19.898543",
     "status": "completed"
    },
    "tags": []
   },
   "outputs": [],
   "source": [
    "# make predictions on the train data\n",
    "y_pred = knn.predict(X_train)"
   ]
  },
  {
   "cell_type": "code",
   "execution_count": 24,
   "id": "d4c607e8",
   "metadata": {
    "execution": {
     "iopub.execute_input": "2024-11-27T05:53:34.481389Z",
     "iopub.status.busy": "2024-11-27T05:53:34.481032Z",
     "iopub.status.idle": "2024-11-27T05:53:34.752891Z",
     "shell.execute_reply": "2024-11-27T05:53:34.751797Z"
    },
    "papermill": {
     "duration": 0.303405,
     "end_time": "2024-11-27T05:53:34.755090",
     "exception": false,
     "start_time": "2024-11-27T05:53:34.451685",
     "status": "completed"
    },
    "tags": []
   },
   "outputs": [
    {
     "data": {
      "image/png": "[encoded data removed]",
      "text/plain": [
       "<Figure size 640x480 with 2 Axes>"
      ]
     },
     "metadata": {},
     "output_type": "display_data"
    }
   ],
   "source": [
    "classes=['EB','H','LB']\n",
    "# Compute the confusion matrix\n",
    "cm = confusion_matrix(y_train, y_pred)\n",
    "\n",
    "# Plot the confusion matrix\n",
    "fig, ax = plt.subplots()\n",
    "im = ax.imshow(cm, interpolation='nearest', cmap=plt.cm.Greens)\n",
    "ax.figure.colorbar(im, ax=ax)\n",
    "ax.set(xticks=np.arange(cm.shape[1]),\n",
    "       yticks=np.arange(cm.shape[0]),\n",
    "       xticklabels=classes,\n",
    "       yticklabels=classes,\n",
    "       xlabel='Predicted label',\n",
    "       ylabel='True label',\n",
    "       aspect='equal',\n",
    "       )\n",
    "plt.xticks(np.arange(cm.shape[1]),  rotation=45, fontweight='bold', color='black',fontsize=10)\n",
    "plt.yticks(np.arange(cm.shape[0]),  fontweight='bold', color='black',fontsize=10)\n",
    "plt.ylabel('True label', fontweight='bold', color='black',fontsize=10)\n",
    "plt.xlabel('Predicted label', fontweight='bold', color='black',fontsize=10)\n",
    "plt.setp(ax.get_xticklabels(), rotation=45, ha=\"right\",rotation_mode=\"anchor\")\n",
    "\n",
    "for i in range(cm.shape[0]):\n",
    "    for j in range(cm.shape[1]):\n",
    "        ax.text(j, i, format(cm[i, j], 'd'),\n",
    "                ha=\"center\", va=\"center\", fontweight='bold',\n",
    "                color=\"white\" if cm[i, j] > cm.max() / 2. else \"black\")\n",
    "fig.tight_layout()\n",
    "plt.show()"
   ]
  },
  {
   "cell_type": "code",
   "execution_count": 25,
   "id": "19eb499b",
   "metadata": {
    "execution": {
     "iopub.execute_input": "2024-11-27T05:53:34.813930Z",
     "iopub.status.busy": "2024-11-27T05:53:34.813575Z",
     "iopub.status.idle": "2024-11-27T05:53:34.857843Z",
     "shell.execute_reply": "2024-11-27T05:53:34.856697Z"
    },
    "papermill": {
     "duration": 0.076193,
     "end_time": "2024-11-27T05:53:34.860019",
     "exception": false,
     "start_time": "2024-11-27T05:53:34.783826",
     "status": "completed"
    },
    "tags": []
   },
   "outputs": [
    {
     "name": "stdout",
     "output_type": "stream",
     "text": [
      "Accuracy (Train): 69.6226\n",
      "Precision (Train): 75.4053\n",
      "Recall (Train): 69.6226\n",
      "F1 score (Train): 66.2109\n"
     ]
    }
   ],
   "source": [
    "accuracy_train = accuracy_score(y_train, y_pred)*100\n",
    "precision_train = precision_score(y_train, y_pred, average='macro')*100\n",
    "recall_train = recall_score(y_train, y_pred, average='macro')*100\n",
    "f1_train = f1_score(y_train, y_pred, average='macro')*100\n",
    "\n",
    "print(\"Accuracy (Train): {:.4f}\".format(accuracy_train))\n",
    "print(\"Precision (Train): {:.4f}\".format(precision_train))\n",
    "print(\"Recall (Train): {:.4f}\".format(recall_train))\n",
    "print(\"F1 score (Train): {:.4f}\".format(f1_train))"
   ]
  },
  {
   "cell_type": "code",
   "execution_count": 26,
   "id": "7b9746de",
   "metadata": {
    "execution": {
     "iopub.execute_input": "2024-11-27T05:53:34.919915Z",
     "iopub.status.busy": "2024-11-27T05:53:34.918976Z",
     "iopub.status.idle": "2024-11-27T05:53:34.929817Z",
     "shell.execute_reply": "2024-11-27T05:53:34.928503Z"
    },
    "papermill": {
     "duration": 0.043157,
     "end_time": "2024-11-27T05:53:34.931963",
     "exception": false,
     "start_time": "2024-11-27T05:53:34.888806",
     "status": "completed"
    },
    "tags": []
   },
   "outputs": [],
   "source": [
    "model_name='KNN'\n",
    "all_model.loc[len(all_model)] = [model_name, accuracy_train, precision_train, recall_train, f1_train, accuracy_test, precision_test, recall_test, f1_test, training_time, testing_time, memory_usage]"
   ]
  },
  {
   "cell_type": "code",
   "execution_count": 27,
   "id": "104953f3",
   "metadata": {
    "execution": {
     "iopub.execute_input": "2024-11-27T05:53:34.992112Z",
     "iopub.status.busy": "2024-11-27T05:53:34.991716Z",
     "iopub.status.idle": "2024-11-27T05:53:35.007552Z",
     "shell.execute_reply": "2024-11-27T05:53:35.006533Z"
    },
    "papermill": {
     "duration": 0.048096,
     "end_time": "2024-11-27T05:53:35.009580",
     "exception": false,
     "start_time": "2024-11-27T05:53:34.961484",
     "status": "completed"
    },
    "tags": []
   },
   "outputs": [
    {
     "data": {
      "text/html": [
       "<div>\n",
       "<style scoped>\n",
       "    .dataframe tbody tr th:only-of-type {\n",
       "        vertical-align: middle;\n",
       "    }\n",
       "\n",
       "    .dataframe tbody tr th {\n",
       "        vertical-align: top;\n",
       "    }\n",
       "\n",
       "    .dataframe thead th {\n",
       "        text-align: right;\n",
       "    }\n",
       "</style>\n",
       "<table border=\"1\" class=\"dataframe\">\n",
       "  <thead>\n",
       "    <tr style=\"text-align: right;\">\n",
       "      <th></th>\n",
       "      <th>Model</th>\n",
       "      <th>Accuracy (Train)</th>\n",
       "      <th>Precision (Train)</th>\n",
       "      <th>Recall (Train)</th>\n",
       "      <th>F1 Score (Train)</th>\n",
       "      <th>Accuracy (Test)</th>\n",
       "      <th>Precision (Test)</th>\n",
       "      <th>Recall (Test)</th>\n",
       "      <th>F1 Score (Test)</th>\n",
       "      <th>Training Time (s)</th>\n",
       "      <th>Testing Time (s)</th>\n",
       "      <th>Memory (MB)</th>\n",
       "    </tr>\n",
       "  </thead>\n",
       "  <tbody>\n",
       "    <tr>\n",
       "      <th>0</th>\n",
       "      <td>SVM</td>\n",
       "      <td>83.651660</td>\n",
       "      <td>84.256971</td>\n",
       "      <td>83.651660</td>\n",
       "      <td>83.756435</td>\n",
       "      <td>77.983539</td>\n",
       "      <td>78.905391</td>\n",
       "      <td>77.983539</td>\n",
       "      <td>78.134467</td>\n",
       "      <td>315.554209</td>\n",
       "      <td>142.788555</td>\n",
       "      <td>2236.230469</td>\n",
       "    </tr>\n",
       "    <tr>\n",
       "      <th>1</th>\n",
       "      <td>KNN</td>\n",
       "      <td>69.622556</td>\n",
       "      <td>75.405343</td>\n",
       "      <td>69.622556</td>\n",
       "      <td>66.210869</td>\n",
       "      <td>59.053498</td>\n",
       "      <td>62.671148</td>\n",
       "      <td>59.053498</td>\n",
       "      <td>52.859433</td>\n",
       "      <td>0.002137</td>\n",
       "      <td>4.173776</td>\n",
       "      <td>2242.195312</td>\n",
       "    </tr>\n",
       "  </tbody>\n",
       "</table>\n",
       "</div>"
      ],
      "text/plain": [
       "  Model  Accuracy (Train)  Precision (Train)  Recall (Train)  \\\n",
       "0   SVM         83.651660          84.256971       83.651660   \n",
       "1   KNN         69.622556          75.405343       69.622556   \n",
       "\n",
       "   F1 Score (Train)  Accuracy (Test)  Precision (Test)  Recall (Test)  \\\n",
       "0         83.756435        77.983539         78.905391      77.983539   \n",
       "1         66.210869        59.053498         62.671148      59.053498   \n",
       "\n",
       "   F1 Score (Test)  Training Time (s)  Testing Time (s)  Memory (MB)  \n",
       "0        78.134467         315.554209        142.788555  2236.230469  \n",
       "1        52.859433           0.002137          4.173776  2242.195312  "
      ]
     },
     "execution_count": 27,
     "metadata": {},
     "output_type": "execute_result"
    }
   ],
   "source": [
    "all_model"
   ]
  },
  {
   "cell_type": "markdown",
   "id": "36463a13",
   "metadata": {
    "papermill": {
     "duration": 0.029426,
     "end_time": "2024-11-27T05:53:35.068017",
     "exception": false,
     "start_time": "2024-11-27T05:53:35.038591",
     "status": "completed"
    },
    "tags": []
   },
   "source": [
    "**Logistic Regression**"
   ]
  },
  {
   "cell_type": "code",
   "execution_count": 28,
   "id": "23b999f6",
   "metadata": {
    "execution": {
     "iopub.execute_input": "2024-11-27T05:53:35.128233Z",
     "iopub.status.busy": "2024-11-27T05:53:35.127739Z",
     "iopub.status.idle": "2024-11-27T05:56:09.943963Z",
     "shell.execute_reply": "2024-11-27T05:56:09.942315Z"
    },
    "papermill": {
     "duration": 154.94298,
     "end_time": "2024-11-27T05:56:10.040234",
     "exception": false,
     "start_time": "2024-11-27T05:53:35.097254",
     "status": "completed"
    },
    "tags": []
   },
   "outputs": [
    {
     "name": "stderr",
     "output_type": "stream",
     "text": [
      "/opt/conda/lib/python3.10/site-packages/sklearn/linear_model/_logistic.py:458: ConvergenceWarning: lbfgs failed to converge (status=1):\n",
      "STOP: TOTAL NO. of ITERATIONS REACHED LIMIT.\n",
      "\n",
      "Increase the number of iterations (max_iter) or scale the data as shown in:\n",
      "    https://scikit-learn.org/stable/modules/preprocessing.html\n",
      "Please also refer to the documentation for alternative solver options:\n",
      "    https://scikit-learn.org/stable/modules/linear_model.html#logistic-regression\n",
      "  n_iter_i = _check_optimize_result(\n"
     ]
    }
   ],
   "source": [
    "from sklearn.linear_model import LogisticRegression\n",
    "\n",
    "# define the LR model\n",
    "lr = LogisticRegression(\n",
    "    multi_class='multinomial',  \n",
    "    solver='lbfgs',             \n",
    "    C=1.0,                      \n",
    "    max_iter=200,               \n",
    "    random_state=42             \n",
    ")\n",
    "\n",
    "\n",
    "# fit the model on the training data\n",
    "start_time = time.time()\n",
    "lr.fit(X_train, y_train)\n",
    "training_time = time.time() - start_time\n",
    "memory_usage = psutil.Process().memory_info().rss / 1024 / 1024"
   ]
  },
  {
   "cell_type": "code",
   "execution_count": 29,
   "id": "f15ae3b8",
   "metadata": {
    "execution": {
     "iopub.execute_input": "2024-11-27T05:56:10.100012Z",
     "iopub.status.busy": "2024-11-27T05:56:10.099665Z",
     "iopub.status.idle": "2024-11-27T05:56:10.175764Z",
     "shell.execute_reply": "2024-11-27T05:56:10.174461Z"
    },
    "papermill": {
     "duration": 0.10978,
     "end_time": "2024-11-27T05:56:10.178813",
     "exception": false,
     "start_time": "2024-11-27T05:56:10.069033",
     "status": "completed"
    },
    "tags": []
   },
   "outputs": [],
   "source": [
    "# make predictions on the test data\n",
    "start_time = time.time()\n",
    "y_pred = lr.predict(X_test)\n",
    "testing_time = time.time() - start_time"
   ]
  },
  {
   "cell_type": "code",
   "execution_count": 30,
   "id": "a84d9492",
   "metadata": {
    "execution": {
     "iopub.execute_input": "2024-11-27T05:56:10.293850Z",
     "iopub.status.busy": "2024-11-27T05:56:10.293082Z",
     "iopub.status.idle": "2024-11-27T05:56:10.567834Z",
     "shell.execute_reply": "2024-11-27T05:56:10.566793Z"
    },
    "papermill": {
     "duration": 0.334953,
     "end_time": "2024-11-27T05:56:10.569780",
     "exception": false,
     "start_time": "2024-11-27T05:56:10.234827",
     "status": "completed"
    },
    "tags": []
   },
   "outputs": [
    {
     "data": {
      "image/png": "[encoded data removed]",
      "text/plain": [
       "<Figure size 640x480 with 2 Axes>"
      ]
     },
     "metadata": {},
     "output_type": "display_data"
    }
   ],
   "source": [
    "classes=['EB','H','LB']\n",
    "# Compute the confusion matrix\n",
    "cm = confusion_matrix(y_test, y_pred)\n",
    "\n",
    "# Plot the confusion matrix\n",
    "fig, ax = plt.subplots()\n",
    "im = ax.imshow(cm, interpolation='nearest', cmap=plt.cm.Greens)\n",
    "ax.figure.colorbar(im, ax=ax)\n",
    "ax.set(xticks=np.arange(cm.shape[1]),\n",
    "       yticks=np.arange(cm.shape[0]),\n",
    "       xticklabels=classes,\n",
    "       yticklabels=classes,\n",
    "       xlabel='Predicted label',\n",
    "       ylabel='True label',\n",
    "       aspect='equal',\n",
    "       )\n",
    "plt.xticks(np.arange(cm.shape[1]),  rotation=45, fontweight='bold', color='black',fontsize=10)\n",
    "plt.yticks(np.arange(cm.shape[0]),  fontweight='bold', color='black',fontsize=10)\n",
    "plt.ylabel('True label', fontweight='bold', color='black',fontsize=10)\n",
    "plt.xlabel('Predicted label', fontweight='bold', color='black',fontsize=10)\n",
    "plt.setp(ax.get_xticklabels(), rotation=45, ha=\"right\",rotation_mode=\"anchor\")\n",
    "\n",
    "for i in range(cm.shape[0]):\n",
    "    for j in range(cm.shape[1]):\n",
    "        ax.text(j, i, format(cm[i, j], 'd'),\n",
    "                ha=\"center\", va=\"center\", fontweight='bold',\n",
    "                color=\"white\" if cm[i, j] > cm.max() / 2. else \"black\")\n",
    "fig.tight_layout()\n",
    "plt.show()"
   ]
  },
  {
   "cell_type": "code",
   "execution_count": 31,
   "id": "930c8929",
   "metadata": {
    "execution": {
     "iopub.execute_input": "2024-11-27T05:56:10.630243Z",
     "iopub.status.busy": "2024-11-27T05:56:10.629862Z",
     "iopub.status.idle": "2024-11-27T05:56:10.644665Z",
     "shell.execute_reply": "2024-11-27T05:56:10.643710Z"
    },
    "papermill": {
     "duration": 0.047478,
     "end_time": "2024-11-27T05:56:10.646565",
     "exception": false,
     "start_time": "2024-11-27T05:56:10.599087",
     "status": "completed"
    },
    "tags": []
   },
   "outputs": [
    {
     "name": "stdout",
     "output_type": "stream",
     "text": [
      "Accuracy (Test): 64.4033\n",
      "Precision (Test): 64.4281\n",
      "Recall (Test): 64.4033\n",
      "F1 score (Test): 64.2817\n"
     ]
    }
   ],
   "source": [
    "accuracy_test = accuracy_score(y_test, y_pred)*100\n",
    "precision_test = precision_score(y_test, y_pred, average='macro')*100\n",
    "recall_test = recall_score(y_test, y_pred, average='macro')*100\n",
    "f1_test = f1_score(y_test, y_pred, average='macro')*100\n",
    "\n",
    "print(\"Accuracy (Test): {:.4f}\".format(accuracy_test))\n",
    "print(\"Precision (Test): {:.4f}\".format(precision_test))\n",
    "print(\"Recall (Test): {:.4f}\".format(recall_test))\n",
    "print(\"F1 score (Test): {:.4f}\".format(f1_test))"
   ]
  },
  {
   "cell_type": "code",
   "execution_count": 32,
   "id": "d44bf5c0",
   "metadata": {
    "execution": {
     "iopub.execute_input": "2024-11-27T05:56:10.707085Z",
     "iopub.status.busy": "2024-11-27T05:56:10.706754Z",
     "iopub.status.idle": "2024-11-27T05:56:11.348620Z",
     "shell.execute_reply": "2024-11-27T05:56:11.347538Z"
    },
    "papermill": {
     "duration": 0.675616,
     "end_time": "2024-11-27T05:56:11.351683",
     "exception": false,
     "start_time": "2024-11-27T05:56:10.676067",
     "status": "completed"
    },
    "tags": []
   },
   "outputs": [],
   "source": [
    "# make predictions on the train data\n",
    "y_pred = lr.predict(X_train)"
   ]
  },
  {
   "cell_type": "code",
   "execution_count": 33,
   "id": "d56c857a",
   "metadata": {
    "execution": {
     "iopub.execute_input": "2024-11-27T05:56:11.465881Z",
     "iopub.status.busy": "2024-11-27T05:56:11.465177Z",
     "iopub.status.idle": "2024-11-27T05:56:11.739783Z",
     "shell.execute_reply": "2024-11-27T05:56:11.738797Z"
    },
    "papermill": {
     "duration": 0.332298,
     "end_time": "2024-11-27T05:56:11.741870",
     "exception": false,
     "start_time": "2024-11-27T05:56:11.409572",
     "status": "completed"
    },
    "tags": []
   },
   "outputs": [
    {
     "data": {
      "image/png": "[encoded data removed]",
      "text/plain": [
       "<Figure size 640x480 with 2 Axes>"
      ]
     },
     "metadata": {},
     "output_type": "display_data"
    }
   ],
   "source": [
    "classes=['EB','H','LB']\n",
    "# Compute the confusion matrix\n",
    "cm = confusion_matrix(y_train, y_pred)\n",
    "\n",
    "# Plot the confusion matrix\n",
    "fig, ax = plt.subplots()\n",
    "im = ax.imshow(cm, interpolation='nearest', cmap=plt.cm.Greens)\n",
    "ax.figure.colorbar(im, ax=ax)\n",
    "ax.set(xticks=np.arange(cm.shape[1]),\n",
    "       yticks=np.arange(cm.shape[0]),\n",
    "       xticklabels=classes,\n",
    "       yticklabels=classes,\n",
    "       xlabel='Predicted label',\n",
    "       ylabel='True label',\n",
    "       aspect='equal',\n",
    "       )\n",
    "plt.xticks(np.arange(cm.shape[1]),  rotation=45, fontweight='bold', color='black',fontsize=10)\n",
    "plt.yticks(np.arange(cm.shape[0]),  fontweight='bold', color='black',fontsize=10)\n",
    "plt.ylabel('True label', fontweight='bold', color='black',fontsize=10)\n",
    "plt.xlabel('Predicted label', fontweight='bold', color='black',fontsize=10)\n",
    "plt.setp(ax.get_xticklabels(), rotation=45, ha=\"right\",rotation_mode=\"anchor\")\n",
    "\n",
    "for i in range(cm.shape[0]):\n",
    "    for j in range(cm.shape[1]):\n",
    "        ax.text(j, i, format(cm[i, j], 'd'),\n",
    "                ha=\"center\", va=\"center\", fontweight='bold',\n",
    "                color=\"white\" if cm[i, j] > cm.max() / 2. else \"black\")\n",
    "fig.tight_layout()\n",
    "plt.show()"
   ]
  },
  {
   "cell_type": "code",
   "execution_count": 34,
   "id": "483a9bd5",
   "metadata": {
    "execution": {
     "iopub.execute_input": "2024-11-27T05:56:11.805315Z",
     "iopub.status.busy": "2024-11-27T05:56:11.804959Z",
     "iopub.status.idle": "2024-11-27T05:56:11.848633Z",
     "shell.execute_reply": "2024-11-27T05:56:11.847489Z"
    },
    "papermill": {
     "duration": 0.077945,
     "end_time": "2024-11-27T05:56:11.850714",
     "exception": false,
     "start_time": "2024-11-27T05:56:11.772769",
     "status": "completed"
    },
    "tags": []
   },
   "outputs": [
    {
     "name": "stdout",
     "output_type": "stream",
     "text": [
      "Accuracy (Train): 88.5857\n",
      "Precision (Train): 88.5918\n",
      "Recall (Train): 88.5857\n",
      "F1 score (Train): 88.5710\n"
     ]
    }
   ],
   "source": [
    "accuracy_train = accuracy_score(y_train, y_pred)*100\n",
    "precision_train = precision_score(y_train, y_pred, average='macro')*100\n",
    "recall_train = recall_score(y_train, y_pred, average='macro')*100\n",
    "f1_train = f1_score(y_train, y_pred, average='macro')*100\n",
    "\n",
    "print(\"Accuracy (Train): {:.4f}\".format(accuracy_train))\n",
    "print(\"Precision (Train): {:.4f}\".format(precision_train))\n",
    "print(\"Recall (Train): {:.4f}\".format(recall_train))\n",
    "print(\"F1 score (Train): {:.4f}\".format(f1_train))"
   ]
  },
  {
   "cell_type": "code",
   "execution_count": 35,
   "id": "19458ebb",
   "metadata": {
    "execution": {
     "iopub.execute_input": "2024-11-27T05:56:11.912846Z",
     "iopub.status.busy": "2024-11-27T05:56:11.912401Z",
     "iopub.status.idle": "2024-11-27T05:56:11.921472Z",
     "shell.execute_reply": "2024-11-27T05:56:11.920498Z"
    },
    "papermill": {
     "duration": 0.042704,
     "end_time": "2024-11-27T05:56:11.923572",
     "exception": false,
     "start_time": "2024-11-27T05:56:11.880868",
     "status": "completed"
    },
    "tags": []
   },
   "outputs": [],
   "source": [
    "model_name='LR'\n",
    "all_model.loc[len(all_model)] = [model_name, accuracy_train, precision_train, recall_train, f1_train, accuracy_test, precision_test, recall_test, f1_test, training_time, testing_time, memory_usage]"
   ]
  },
  {
   "cell_type": "code",
   "execution_count": 36,
   "id": "8566eba3",
   "metadata": {
    "execution": {
     "iopub.execute_input": "2024-11-27T05:56:11.986232Z",
     "iopub.status.busy": "2024-11-27T05:56:11.985190Z",
     "iopub.status.idle": "2024-11-27T05:56:12.001282Z",
     "shell.execute_reply": "2024-11-27T05:56:12.000336Z"
    },
    "papermill": {
     "duration": 0.04963,
     "end_time": "2024-11-27T05:56:12.003348",
     "exception": false,
     "start_time": "2024-11-27T05:56:11.953718",
     "status": "completed"
    },
    "tags": []
   },
   "outputs": [
    {
     "data": {
      "text/html": [
       "<div>\n",
       "<style scoped>\n",
       "    .dataframe tbody tr th:only-of-type {\n",
       "        vertical-align: middle;\n",
       "    }\n",
       "\n",
       "    .dataframe tbody tr th {\n",
       "        vertical-align: top;\n",
       "    }\n",
       "\n",
       "    .dataframe thead th {\n",
       "        text-align: right;\n",
       "    }\n",
       "</style>\n",
       "<table border=\"1\" class=\"dataframe\">\n",
       "  <thead>\n",
       "    <tr style=\"text-align: right;\">\n",
       "      <th></th>\n",
       "      <th>Model</th>\n",
       "      <th>Accuracy (Train)</th>\n",
       "      <th>Precision (Train)</th>\n",
       "      <th>Recall (Train)</th>\n",
       "      <th>F1 Score (Train)</th>\n",
       "      <th>Accuracy (Test)</th>\n",
       "      <th>Precision (Test)</th>\n",
       "      <th>Recall (Test)</th>\n",
       "      <th>F1 Score (Test)</th>\n",
       "      <th>Training Time (s)</th>\n",
       "      <th>Testing Time (s)</th>\n",
       "      <th>Memory (MB)</th>\n",
       "    </tr>\n",
       "  </thead>\n",
       "  <tbody>\n",
       "    <tr>\n",
       "      <th>0</th>\n",
       "      <td>SVM</td>\n",
       "      <td>83.651660</td>\n",
       "      <td>84.256971</td>\n",
       "      <td>83.651660</td>\n",
       "      <td>83.756435</td>\n",
       "      <td>77.983539</td>\n",
       "      <td>78.905391</td>\n",
       "      <td>77.983539</td>\n",
       "      <td>78.134467</td>\n",
       "      <td>315.554209</td>\n",
       "      <td>142.788555</td>\n",
       "      <td>2236.230469</td>\n",
       "    </tr>\n",
       "    <tr>\n",
       "      <th>1</th>\n",
       "      <td>KNN</td>\n",
       "      <td>69.622556</td>\n",
       "      <td>75.405343</td>\n",
       "      <td>69.622556</td>\n",
       "      <td>66.210869</td>\n",
       "      <td>59.053498</td>\n",
       "      <td>62.671148</td>\n",
       "      <td>59.053498</td>\n",
       "      <td>52.859433</td>\n",
       "      <td>0.002137</td>\n",
       "      <td>4.173776</td>\n",
       "      <td>2242.195312</td>\n",
       "    </tr>\n",
       "    <tr>\n",
       "      <th>2</th>\n",
       "      <td>LR</td>\n",
       "      <td>88.585721</td>\n",
       "      <td>88.591763</td>\n",
       "      <td>88.585721</td>\n",
       "      <td>88.570996</td>\n",
       "      <td>64.403292</td>\n",
       "      <td>64.428146</td>\n",
       "      <td>64.403292</td>\n",
       "      <td>64.281712</td>\n",
       "      <td>154.806865</td>\n",
       "      <td>0.070814</td>\n",
       "      <td>3911.617188</td>\n",
       "    </tr>\n",
       "  </tbody>\n",
       "</table>\n",
       "</div>"
      ],
      "text/plain": [
       "  Model  Accuracy (Train)  Precision (Train)  Recall (Train)  \\\n",
       "0   SVM         83.651660          84.256971       83.651660   \n",
       "1   KNN         69.622556          75.405343       69.622556   \n",
       "2    LR         88.585721          88.591763       88.585721   \n",
       "\n",
       "   F1 Score (Train)  Accuracy (Test)  Precision (Test)  Recall (Test)  \\\n",
       "0         83.756435        77.983539         78.905391      77.983539   \n",
       "1         66.210869        59.053498         62.671148      59.053498   \n",
       "2         88.570996        64.403292         64.428146      64.403292   \n",
       "\n",
       "   F1 Score (Test)  Training Time (s)  Testing Time (s)  Memory (MB)  \n",
       "0        78.134467         315.554209        142.788555  2236.230469  \n",
       "1        52.859433           0.002137          4.173776  2242.195312  \n",
       "2        64.281712         154.806865          0.070814  3911.617188  "
      ]
     },
     "execution_count": 36,
     "metadata": {},
     "output_type": "execute_result"
    }
   ],
   "source": [
    "all_model"
   ]
  },
  {
   "cell_type": "markdown",
   "id": "57ba2f0c",
   "metadata": {
    "papermill": {
     "duration": 0.031063,
     "end_time": "2024-11-27T05:56:12.065144",
     "exception": false,
     "start_time": "2024-11-27T05:56:12.034081",
     "status": "completed"
    },
    "tags": []
   },
   "source": [
    "**Gaussian Naive Bayes**"
   ]
  },
  {
   "cell_type": "code",
   "execution_count": 37,
   "id": "43d97953",
   "metadata": {
    "execution": {
     "iopub.execute_input": "2024-11-27T05:56:12.128038Z",
     "iopub.status.busy": "2024-11-27T05:56:12.127686Z",
     "iopub.status.idle": "2024-11-27T05:56:14.401706Z",
     "shell.execute_reply": "2024-11-27T05:56:14.400760Z"
    },
    "papermill": {
     "duration": 2.308448,
     "end_time": "2024-11-27T05:56:14.404253",
     "exception": false,
     "start_time": "2024-11-27T05:56:12.095805",
     "status": "completed"
    },
    "tags": []
   },
   "outputs": [],
   "source": [
    "from sklearn.naive_bayes import GaussianNB\n",
    "\n",
    "# define the GNB model\n",
    "gnb = GaussianNB(var_smoothing=1e-8)\n",
    "\n",
    "# fit the model on the training data\n",
    "start_time = time.time()\n",
    "gnb.fit(X_train, y_train)\n",
    "training_time = time.time() - start_time\n",
    "memory_usage = psutil.Process().memory_info().rss / 1024 / 1024"
   ]
  },
  {
   "cell_type": "code",
   "execution_count": 38,
   "id": "d214d5eb",
   "metadata": {
    "execution": {
     "iopub.execute_input": "2024-11-27T05:56:14.467187Z",
     "iopub.status.busy": "2024-11-27T05:56:14.466817Z",
     "iopub.status.idle": "2024-11-27T05:56:14.948096Z",
     "shell.execute_reply": "2024-11-27T05:56:14.946966Z"
    },
    "papermill": {
     "duration": 0.515447,
     "end_time": "2024-11-27T05:56:14.950622",
     "exception": false,
     "start_time": "2024-11-27T05:56:14.435175",
     "status": "completed"
    },
    "tags": []
   },
   "outputs": [],
   "source": [
    "# make predictions on the test data\n",
    "start_time = time.time()\n",
    "y_pred = gnb.predict(X_test)\n",
    "testing_time = time.time() - start_time"
   ]
  },
  {
   "cell_type": "code",
   "execution_count": 39,
   "id": "d872a857",
   "metadata": {
    "execution": {
     "iopub.execute_input": "2024-11-27T05:56:15.014248Z",
     "iopub.status.busy": "2024-11-27T05:56:15.013871Z",
     "iopub.status.idle": "2024-11-27T05:56:15.231809Z",
     "shell.execute_reply": "2024-11-27T05:56:15.230770Z"
    },
    "papermill": {
     "duration": 0.251958,
     "end_time": "2024-11-27T05:56:15.233936",
     "exception": false,
     "start_time": "2024-11-27T05:56:14.981978",
     "status": "completed"
    },
    "tags": []
   },
   "outputs": [
    {
     "data": {
      "image/png": "[encoded data removed]",
      "text/plain": [
       "<Figure size 640x480 with 2 Axes>"
      ]
     },
     "metadata": {},
     "output_type": "display_data"
    }
   ],
   "source": [
    "classes=['EB','H','LB']\n",
    "# Compute the confusion matrix\n",
    "cm = confusion_matrix(y_test, y_pred)\n",
    "\n",
    "# Plot the confusion matrix\n",
    "fig, ax = plt.subplots()\n",
    "im = ax.imshow(cm, interpolation='nearest', cmap=plt.cm.Greens)\n",
    "ax.figure.colorbar(im, ax=ax)\n",
    "ax.set(xticks=np.arange(cm.shape[1]),\n",
    "       yticks=np.arange(cm.shape[0]),\n",
    "       xticklabels=classes,\n",
    "       yticklabels=classes,\n",
    "       xlabel='Predicted label',\n",
    "       ylabel='True label',\n",
    "       aspect='equal',\n",
    "       )\n",
    "plt.xticks(np.arange(cm.shape[1]),  rotation=45, fontweight='bold', color='black',fontsize=10)\n",
    "plt.yticks(np.arange(cm.shape[0]),  fontweight='bold', color='black',fontsize=10)\n",
    "plt.ylabel('True label', fontweight='bold', color='black',fontsize=10)\n",
    "plt.xlabel('Predicted label', fontweight='bold', color='black',fontsize=10)\n",
    "plt.setp(ax.get_xticklabels(), rotation=45, ha=\"right\",rotation_mode=\"anchor\")\n",
    "\n",
    "for i in range(cm.shape[0]):\n",
    "    for j in range(cm.shape[1]):\n",
    "        ax.text(j, i, format(cm[i, j], 'd'),\n",
    "                ha=\"center\", va=\"center\", fontweight='bold',\n",
    "                color=\"white\" if cm[i, j] > cm.max() / 2. else \"black\")\n",
    "fig.tight_layout()\n",
    "plt.show()"
   ]
  },
  {
   "cell_type": "code",
   "execution_count": 40,
   "id": "336a7999",
   "metadata": {
    "execution": {
     "iopub.execute_input": "2024-11-27T05:56:15.302459Z",
     "iopub.status.busy": "2024-11-27T05:56:15.301542Z",
     "iopub.status.idle": "2024-11-27T05:56:15.316152Z",
     "shell.execute_reply": "2024-11-27T05:56:15.315116Z"
    },
    "papermill": {
     "duration": 0.050653,
     "end_time": "2024-11-27T05:56:15.318165",
     "exception": false,
     "start_time": "2024-11-27T05:56:15.267512",
     "status": "completed"
    },
    "tags": []
   },
   "outputs": [
    {
     "name": "stdout",
     "output_type": "stream",
     "text": [
      "Accuracy (Test): 64.6091\n",
      "Precision (Test): 65.8658\n",
      "Recall (Test): 64.6091\n",
      "F1 score (Test): 64.3701\n"
     ]
    }
   ],
   "source": [
    "accuracy_test = accuracy_score(y_test, y_pred)*100\n",
    "precision_test = precision_score(y_test, y_pred, average='macro')*100\n",
    "recall_test = recall_score(y_test, y_pred, average='macro')*100\n",
    "f1_test = f1_score(y_test, y_pred, average='macro')*100\n",
    "\n",
    "print(\"Accuracy (Test): {:.4f}\".format(accuracy_test))\n",
    "print(\"Precision (Test): {:.4f}\".format(precision_test))\n",
    "print(\"Recall (Test): {:.4f}\".format(recall_test))\n",
    "print(\"F1 score (Test): {:.4f}\".format(f1_test))"
   ]
  },
  {
   "cell_type": "code",
   "execution_count": 41,
   "id": "ed49dee8",
   "metadata": {
    "execution": {
     "iopub.execute_input": "2024-11-27T05:56:15.382970Z",
     "iopub.status.busy": "2024-11-27T05:56:15.382089Z",
     "iopub.status.idle": "2024-11-27T05:56:19.803268Z",
     "shell.execute_reply": "2024-11-27T05:56:19.802352Z"
    },
    "papermill": {
     "duration": 4.455999,
     "end_time": "2024-11-27T05:56:19.805570",
     "exception": false,
     "start_time": "2024-11-27T05:56:15.349571",
     "status": "completed"
    },
    "tags": []
   },
   "outputs": [],
   "source": [
    "# make predictions on the train data\n",
    "y_pred = gnb.predict(X_train)"
   ]
  },
  {
   "cell_type": "code",
   "execution_count": 42,
   "id": "bfe001f0",
   "metadata": {
    "execution": {
     "iopub.execute_input": "2024-11-27T05:56:19.869654Z",
     "iopub.status.busy": "2024-11-27T05:56:19.869246Z",
     "iopub.status.idle": "2024-11-27T05:56:20.146507Z",
     "shell.execute_reply": "2024-11-27T05:56:20.145424Z"
    },
    "papermill": {
     "duration": 0.311744,
     "end_time": "2024-11-27T05:56:20.148710",
     "exception": false,
     "start_time": "2024-11-27T05:56:19.836966",
     "status": "completed"
    },
    "tags": []
   },
   "outputs": [
    {
     "data": {
      "image/png": "[encoded data removed]",
      "text/plain": [
       "<Figure size 640x480 with 2 Axes>"
      ]
     },
     "metadata": {},
     "output_type": "display_data"
    }
   ],
   "source": [
    "classes=['EB','H','LB']\n",
    "# Compute the confusion matrix\n",
    "cm = confusion_matrix(y_train, y_pred)\n",
    "\n",
    "# Plot the confusion matrix\n",
    "fig, ax = plt.subplots()\n",
    "im = ax.imshow(cm, interpolation='nearest', cmap=plt.cm.Greens)\n",
    "ax.figure.colorbar(im, ax=ax)\n",
    "ax.set(xticks=np.arange(cm.shape[1]),\n",
    "       yticks=np.arange(cm.shape[0]),\n",
    "       xticklabels=classes,\n",
    "       yticklabels=classes,\n",
    "       xlabel='Predicted label',\n",
    "       ylabel='True label',\n",
    "       aspect='equal',\n",
    "       )\n",
    "plt.xticks(np.arange(cm.shape[1]),  rotation=45, fontweight='bold', color='black',fontsize=10)\n",
    "plt.yticks(np.arange(cm.shape[0]),  fontweight='bold', color='black',fontsize=10)\n",
    "plt.ylabel('True label', fontweight='bold', color='black',fontsize=10)\n",
    "plt.xlabel('Predicted label', fontweight='bold', color='black',fontsize=10)\n",
    "plt.setp(ax.get_xticklabels(), rotation=45, ha=\"right\",rotation_mode=\"anchor\")\n",
    "\n",
    "for i in range(cm.shape[0]):\n",
    "    for j in range(cm.shape[1]):\n",
    "        ax.text(j, i, format(cm[i, j], 'd'),\n",
    "                ha=\"center\", va=\"center\", fontweight='bold',\n",
    "                color=\"white\" if cm[i, j] > cm.max() / 2. else \"black\")\n",
    "fig.tight_layout()\n",
    "plt.show()"
   ]
  },
  {
   "cell_type": "code",
   "execution_count": 43,
   "id": "80562205",
   "metadata": {
    "execution": {
     "iopub.execute_input": "2024-11-27T05:56:20.213590Z",
     "iopub.status.busy": "2024-11-27T05:56:20.213191Z",
     "iopub.status.idle": "2024-11-27T05:56:20.258519Z",
     "shell.execute_reply": "2024-11-27T05:56:20.257189Z"
    },
    "papermill": {
     "duration": 0.080251,
     "end_time": "2024-11-27T05:56:20.260794",
     "exception": false,
     "start_time": "2024-11-27T05:56:20.180543",
     "status": "completed"
    },
    "tags": []
   },
   "outputs": [
    {
     "name": "stdout",
     "output_type": "stream",
     "text": [
      "Accuracy (Train): 62.6421\n",
      "Precision (Train): 63.4374\n",
      "Recall (Train): 62.6421\n",
      "F1 score (Train): 62.2219\n"
     ]
    }
   ],
   "source": [
    "accuracy_train = accuracy_score(y_train, y_pred)*100\n",
    "precision_train = precision_score(y_train, y_pred, average='macro')*100\n",
    "recall_train = recall_score(y_train, y_pred, average='macro')*100\n",
    "f1_train = f1_score(y_train, y_pred, average='macro')*100\n",
    "\n",
    "print(\"Accuracy (Train): {:.4f}\".format(accuracy_train))\n",
    "print(\"Precision (Train): {:.4f}\".format(precision_train))\n",
    "print(\"Recall (Train): {:.4f}\".format(recall_train))\n",
    "print(\"F1 score (Train): {:.4f}\".format(f1_train))"
   ]
  },
  {
   "cell_type": "code",
   "execution_count": 44,
   "id": "fc58c493",
   "metadata": {
    "execution": {
     "iopub.execute_input": "2024-11-27T05:56:20.329990Z",
     "iopub.status.busy": "2024-11-27T05:56:20.329597Z",
     "iopub.status.idle": "2024-11-27T05:56:20.338375Z",
     "shell.execute_reply": "2024-11-27T05:56:20.337324Z"
    },
    "papermill": {
     "duration": 0.045635,
     "end_time": "2024-11-27T05:56:20.340675",
     "exception": false,
     "start_time": "2024-11-27T05:56:20.295040",
     "status": "completed"
    },
    "tags": []
   },
   "outputs": [],
   "source": [
    "model_name='NB'\n",
    "all_model.loc[len(all_model)] = [model_name, accuracy_train, precision_train, recall_train, f1_train, accuracy_test, precision_test, recall_test, f1_test, training_time, testing_time, memory_usage]"
   ]
  },
  {
   "cell_type": "code",
   "execution_count": 45,
   "id": "8fd821ae",
   "metadata": {
    "execution": {
     "iopub.execute_input": "2024-11-27T05:56:20.406952Z",
     "iopub.status.busy": "2024-11-27T05:56:20.406589Z",
     "iopub.status.idle": "2024-11-27T05:56:20.422733Z",
     "shell.execute_reply": "2024-11-27T05:56:20.421788Z"
    },
    "papermill": {
     "duration": 0.052133,
     "end_time": "2024-11-27T05:56:20.424835",
     "exception": false,
     "start_time": "2024-11-27T05:56:20.372702",
     "status": "completed"
    },
    "tags": []
   },
   "outputs": [
    {
     "data": {
      "text/html": [
       "<div>\n",
       "<style scoped>\n",
       "    .dataframe tbody tr th:only-of-type {\n",
       "        vertical-align: middle;\n",
       "    }\n",
       "\n",
       "    .dataframe tbody tr th {\n",
       "        vertical-align: top;\n",
       "    }\n",
       "\n",
       "    .dataframe thead th {\n",
       "        text-align: right;\n",
       "    }\n",
       "</style>\n",
       "<table border=\"1\" class=\"dataframe\">\n",
       "  <thead>\n",
       "    <tr style=\"text-align: right;\">\n",
       "      <th></th>\n",
       "      <th>Model</th>\n",
       "      <th>Accuracy (Train)</th>\n",
       "      <th>Precision (Train)</th>\n",
       "      <th>Recall (Train)</th>\n",
       "      <th>F1 Score (Train)</th>\n",
       "      <th>Accuracy (Test)</th>\n",
       "      <th>Precision (Test)</th>\n",
       "      <th>Recall (Test)</th>\n",
       "      <th>F1 Score (Test)</th>\n",
       "      <th>Training Time (s)</th>\n",
       "      <th>Testing Time (s)</th>\n",
       "      <th>Memory (MB)</th>\n",
       "    </tr>\n",
       "  </thead>\n",
       "  <tbody>\n",
       "    <tr>\n",
       "      <th>0</th>\n",
       "      <td>SVM</td>\n",
       "      <td>83.651660</td>\n",
       "      <td>84.256971</td>\n",
       "      <td>83.651660</td>\n",
       "      <td>83.756435</td>\n",
       "      <td>77.983539</td>\n",
       "      <td>78.905391</td>\n",
       "      <td>77.983539</td>\n",
       "      <td>78.134467</td>\n",
       "      <td>315.554209</td>\n",
       "      <td>142.788555</td>\n",
       "      <td>2236.230469</td>\n",
       "    </tr>\n",
       "    <tr>\n",
       "      <th>1</th>\n",
       "      <td>KNN</td>\n",
       "      <td>69.622556</td>\n",
       "      <td>75.405343</td>\n",
       "      <td>69.622556</td>\n",
       "      <td>66.210869</td>\n",
       "      <td>59.053498</td>\n",
       "      <td>62.671148</td>\n",
       "      <td>59.053498</td>\n",
       "      <td>52.859433</td>\n",
       "      <td>0.002137</td>\n",
       "      <td>4.173776</td>\n",
       "      <td>2242.195312</td>\n",
       "    </tr>\n",
       "    <tr>\n",
       "      <th>2</th>\n",
       "      <td>LR</td>\n",
       "      <td>88.585721</td>\n",
       "      <td>88.591763</td>\n",
       "      <td>88.585721</td>\n",
       "      <td>88.570996</td>\n",
       "      <td>64.403292</td>\n",
       "      <td>64.428146</td>\n",
       "      <td>64.403292</td>\n",
       "      <td>64.281712</td>\n",
       "      <td>154.806865</td>\n",
       "      <td>0.070814</td>\n",
       "      <td>3911.617188</td>\n",
       "    </tr>\n",
       "    <tr>\n",
       "      <th>3</th>\n",
       "      <td>NB</td>\n",
       "      <td>62.642110</td>\n",
       "      <td>63.437389</td>\n",
       "      <td>62.642110</td>\n",
       "      <td>62.221922</td>\n",
       "      <td>64.609053</td>\n",
       "      <td>65.865832</td>\n",
       "      <td>64.609053</td>\n",
       "      <td>64.370103</td>\n",
       "      <td>2.259723</td>\n",
       "      <td>0.476847</td>\n",
       "      <td>2262.410156</td>\n",
       "    </tr>\n",
       "  </tbody>\n",
       "</table>\n",
       "</div>"
      ],
      "text/plain": [
       "  Model  Accuracy (Train)  Precision (Train)  Recall (Train)  \\\n",
       "0   SVM         83.651660          84.256971       83.651660   \n",
       "1   KNN         69.622556          75.405343       69.622556   \n",
       "2    LR         88.585721          88.591763       88.585721   \n",
       "3    NB         62.642110          63.437389       62.642110   \n",
       "\n",
       "   F1 Score (Train)  Accuracy (Test)  Precision (Test)  Recall (Test)  \\\n",
       "0         83.756435        77.983539         78.905391      77.983539   \n",
       "1         66.210869        59.053498         62.671148      59.053498   \n",
       "2         88.570996        64.403292         64.428146      64.403292   \n",
       "3         62.221922        64.609053         65.865832      64.609053   \n",
       "\n",
       "   F1 Score (Test)  Training Time (s)  Testing Time (s)  Memory (MB)  \n",
       "0        78.134467         315.554209        142.788555  2236.230469  \n",
       "1        52.859433           0.002137          4.173776  2242.195312  \n",
       "2        64.281712         154.806865          0.070814  3911.617188  \n",
       "3        64.370103           2.259723          0.476847  2262.410156  "
      ]
     },
     "execution_count": 45,
     "metadata": {},
     "output_type": "execute_result"
    }
   ],
   "source": [
    "all_model"
   ]
  },
  {
   "cell_type": "markdown",
   "id": "c9fdfb5d",
   "metadata": {
    "papermill": {
     "duration": 0.031818,
     "end_time": "2024-11-27T05:56:20.488892",
     "exception": false,
     "start_time": "2024-11-27T05:56:20.457074",
     "status": "completed"
    },
    "tags": []
   },
   "source": [
    "**Decision Tree**"
   ]
  },
  {
   "cell_type": "code",
   "execution_count": 46,
   "id": "c8fc7e38",
   "metadata": {
    "execution": {
     "iopub.execute_input": "2024-11-27T05:56:20.554207Z",
     "iopub.status.busy": "2024-11-27T05:56:20.553877Z",
     "iopub.status.idle": "2024-11-27T05:56:21.801162Z",
     "shell.execute_reply": "2024-11-27T05:56:21.800218Z"
    },
    "papermill": {
     "duration": 1.282688,
     "end_time": "2024-11-27T05:56:21.803532",
     "exception": false,
     "start_time": "2024-11-27T05:56:20.520844",
     "status": "completed"
    },
    "tags": []
   },
   "outputs": [],
   "source": [
    "from sklearn.tree import DecisionTreeClassifier\n",
    "\n",
    "# define the DT model\n",
    "dt = DecisionTreeClassifier(\n",
    "    criterion='gini',            \n",
    "    max_depth=20,                \n",
    "    min_samples_split=5,         \n",
    "    min_samples_leaf=3,          \n",
    "    max_features='sqrt',         \n",
    "    random_state=42              \n",
    ")\n",
    "\n",
    "# fit the model on the training data\n",
    "start_time = time.time()\n",
    "dt.fit(X_train, y_train)\n",
    "training_time = time.time() - start_time\n",
    "memory_usage = psutil.Process().memory_info().rss / 1024 / 1024"
   ]
  },
  {
   "cell_type": "code",
   "execution_count": 47,
   "id": "327d9f61",
   "metadata": {
    "execution": {
     "iopub.execute_input": "2024-11-27T05:56:21.869778Z",
     "iopub.status.busy": "2024-11-27T05:56:21.869376Z",
     "iopub.status.idle": "2024-11-27T05:56:21.911569Z",
     "shell.execute_reply": "2024-11-27T05:56:21.910302Z"
    },
    "papermill": {
     "duration": 0.077556,
     "end_time": "2024-11-27T05:56:21.913895",
     "exception": false,
     "start_time": "2024-11-27T05:56:21.836339",
     "status": "completed"
    },
    "tags": []
   },
   "outputs": [],
   "source": [
    "# make predictions on the test data\n",
    "start_time = time.time()\n",
    "y_pred = dt.predict(X_test)\n",
    "testing_time = time.time() - start_time"
   ]
  },
  {
   "cell_type": "code",
   "execution_count": 48,
   "id": "34e8af34",
   "metadata": {
    "execution": {
     "iopub.execute_input": "2024-11-27T05:56:21.980397Z",
     "iopub.status.busy": "2024-11-27T05:56:21.979987Z",
     "iopub.status.idle": "2024-11-27T05:56:22.194895Z",
     "shell.execute_reply": "2024-11-27T05:56:22.193861Z"
    },
    "papermill": {
     "duration": 0.250908,
     "end_time": "2024-11-27T05:56:22.197174",
     "exception": false,
     "start_time": "2024-11-27T05:56:21.946266",
     "status": "completed"
    },
    "tags": []
   },
   "outputs": [
    {
     "data": {
      "image/png": "[encoded data removed]",
      "text/plain": [
       "<Figure size 640x480 with 2 Axes>"
      ]
     },
     "metadata": {},
     "output_type": "display_data"
    }
   ],
   "source": [
    "classes=['EB','H','LB']\n",
    "# Compute the confusion matrix\n",
    "cm = confusion_matrix(y_test, y_pred)\n",
    "\n",
    "# Plot the confusion matrix\n",
    "fig, ax = plt.subplots()\n",
    "im = ax.imshow(cm, interpolation='nearest', cmap=plt.cm.Greens)\n",
    "ax.figure.colorbar(im, ax=ax)\n",
    "ax.set(xticks=np.arange(cm.shape[1]),\n",
    "       yticks=np.arange(cm.shape[0]),\n",
    "       xticklabels=classes,\n",
    "       yticklabels=classes,\n",
    "       xlabel='Predicted label',\n",
    "       ylabel='True label',\n",
    "       aspect='equal',\n",
    "       )\n",
    "plt.xticks(np.arange(cm.shape[1]),  rotation=45, fontweight='bold', color='black',fontsize=10)\n",
    "plt.yticks(np.arange(cm.shape[0]),  fontweight='bold', color='black',fontsize=10)\n",
    "plt.ylabel('True label', fontweight='bold', color='black',fontsize=10)\n",
    "plt.xlabel('Predicted label', fontweight='bold', color='black',fontsize=10)\n",
    "plt.setp(ax.get_xticklabels(), rotation=45, ha=\"right\",rotation_mode=\"anchor\")\n",
    "\n",
    "for i in range(cm.shape[0]):\n",
    "    for j in range(cm.shape[1]):\n",
    "        ax.text(j, i, format(cm[i, j], 'd'),\n",
    "                ha=\"center\", va=\"center\", fontweight='bold',\n",
    "                color=\"white\" if cm[i, j] > cm.max() / 2. else \"black\")\n",
    "fig.tight_layout()\n",
    "plt.show()"
   ]
  },
  {
   "cell_type": "code",
   "execution_count": 49,
   "id": "13d75a3e",
   "metadata": {
    "execution": {
     "iopub.execute_input": "2024-11-27T05:56:22.264332Z",
     "iopub.status.busy": "2024-11-27T05:56:22.263971Z",
     "iopub.status.idle": "2024-11-27T05:56:22.280159Z",
     "shell.execute_reply": "2024-11-27T05:56:22.279166Z"
    },
    "papermill": {
     "duration": 0.051738,
     "end_time": "2024-11-27T05:56:22.282241",
     "exception": false,
     "start_time": "2024-11-27T05:56:22.230503",
     "status": "completed"
    },
    "tags": []
   },
   "outputs": [
    {
     "name": "stdout",
     "output_type": "stream",
     "text": [
      "Accuracy (Test): 62.5514\n",
      "Precision (Test): 62.5516\n",
      "Recall (Test): 62.5514\n",
      "F1 score (Test): 62.5367\n"
     ]
    }
   ],
   "source": [
    "accuracy_test = accuracy_score(y_test, y_pred)*100\n",
    "precision_test = precision_score(y_test, y_pred, average='macro')*100\n",
    "recall_test = recall_score(y_test, y_pred, average='macro')*100\n",
    "f1_test = f1_score(y_test, y_pred, average='macro')*100\n",
    "\n",
    "print(\"Accuracy (Test): {:.4f}\".format(accuracy_test))\n",
    "print(\"Precision (Test): {:.4f}\".format(precision_test))\n",
    "print(\"Recall (Test): {:.4f}\".format(recall_test))\n",
    "print(\"F1 score (Test): {:.4f}\".format(f1_test))"
   ]
  },
  {
   "cell_type": "code",
   "execution_count": 50,
   "id": "b31eab00",
   "metadata": {
    "execution": {
     "iopub.execute_input": "2024-11-27T05:56:22.348687Z",
     "iopub.status.busy": "2024-11-27T05:56:22.348288Z",
     "iopub.status.idle": "2024-11-27T05:56:22.655521Z",
     "shell.execute_reply": "2024-11-27T05:56:22.654598Z"
    },
    "papermill": {
     "duration": 0.343082,
     "end_time": "2024-11-27T05:56:22.657840",
     "exception": false,
     "start_time": "2024-11-27T05:56:22.314758",
     "status": "completed"
    },
    "tags": []
   },
   "outputs": [],
   "source": [
    "# make predictions on the train data\n",
    "y_pred = dt.predict(X_train)"
   ]
  },
  {
   "cell_type": "code",
   "execution_count": 51,
   "id": "2c82ea22",
   "metadata": {
    "execution": {
     "iopub.execute_input": "2024-11-27T05:56:22.724530Z",
     "iopub.status.busy": "2024-11-27T05:56:22.724136Z",
     "iopub.status.idle": "2024-11-27T05:56:23.008181Z",
     "shell.execute_reply": "2024-11-27T05:56:23.007071Z"
    },
    "papermill": {
     "duration": 0.320048,
     "end_time": "2024-11-27T05:56:23.010338",
     "exception": false,
     "start_time": "2024-11-27T05:56:22.690290",
     "status": "completed"
    },
    "tags": []
   },
   "outputs": [
    {
     "data": {
      "image/png": "[encoded data removed]",
      "text/plain": [
       "<Figure size 640x480 with 2 Axes>"
      ]
     },
     "metadata": {},
     "output_type": "display_data"
    }
   ],
   "source": [
    "classes=['EB','H','LB']\n",
    "# Compute the confusion matrix\n",
    "cm = confusion_matrix(y_train, y_pred)\n",
    "\n",
    "# Plot the confusion matrix\n",
    "fig, ax = plt.subplots()\n",
    "im = ax.imshow(cm, interpolation='nearest', cmap=plt.cm.Greens)\n",
    "ax.figure.colorbar(im, ax=ax)\n",
    "ax.set(xticks=np.arange(cm.shape[1]),\n",
    "       yticks=np.arange(cm.shape[0]),\n",
    "       xticklabels=classes,\n",
    "       yticklabels=classes,\n",
    "       xlabel='Predicted label',\n",
    "       ylabel='True label',\n",
    "       aspect='equal',\n",
    "       )\n",
    "plt.xticks(np.arange(cm.shape[1]),  rotation=45, fontweight='bold', color='black',fontsize=10)\n",
    "plt.yticks(np.arange(cm.shape[0]),  fontweight='bold', color='black',fontsize=10)\n",
    "plt.ylabel('True label', fontweight='bold', color='black',fontsize=10)\n",
    "plt.xlabel('Predicted label', fontweight='bold', color='black',fontsize=10)\n",
    "plt.setp(ax.get_xticklabels(), rotation=45, ha=\"right\",rotation_mode=\"anchor\")\n",
    "\n",
    "for i in range(cm.shape[0]):\n",
    "    for j in range(cm.shape[1]):\n",
    "        ax.text(j, i, format(cm[i, j], 'd'),\n",
    "                ha=\"center\", va=\"center\", fontweight='bold',\n",
    "                color=\"white\" if cm[i, j] > cm.max() / 2. else \"black\")\n",
    "fig.tight_layout()\n",
    "plt.show()"
   ]
  },
  {
   "cell_type": "code",
   "execution_count": 52,
   "id": "1b6341fe",
   "metadata": {
    "execution": {
     "iopub.execute_input": "2024-11-27T05:56:23.078534Z",
     "iopub.status.busy": "2024-11-27T05:56:23.078135Z",
     "iopub.status.idle": "2024-11-27T05:56:23.121837Z",
     "shell.execute_reply": "2024-11-27T05:56:23.120759Z"
    },
    "papermill": {
     "duration": 0.080695,
     "end_time": "2024-11-27T05:56:23.124053",
     "exception": false,
     "start_time": "2024-11-27T05:56:23.043358",
     "status": "completed"
    },
    "tags": []
   },
   "outputs": [
    {
     "name": "stdout",
     "output_type": "stream",
     "text": [
      "Accuracy (Train): 94.0200\n",
      "Precision (Train): 94.0395\n",
      "Recall (Train): 94.0200\n",
      "F1 score (Train): 94.0219\n"
     ]
    }
   ],
   "source": [
    "accuracy_train = accuracy_score(y_train, y_pred)*100\n",
    "precision_train = precision_score(y_train, y_pred, average='macro')*100\n",
    "recall_train = recall_score(y_train, y_pred, average='macro')*100\n",
    "f1_train = f1_score(y_train, y_pred, average='macro')*100\n",
    "\n",
    "print(\"Accuracy (Train): {:.4f}\".format(accuracy_train))\n",
    "print(\"Precision (Train): {:.4f}\".format(precision_train))\n",
    "print(\"Recall (Train): {:.4f}\".format(recall_train))\n",
    "print(\"F1 score (Train): {:.4f}\".format(f1_train))"
   ]
  },
  {
   "cell_type": "code",
   "execution_count": 53,
   "id": "820b7cbb",
   "metadata": {
    "execution": {
     "iopub.execute_input": "2024-11-27T05:56:23.191864Z",
     "iopub.status.busy": "2024-11-27T05:56:23.191508Z",
     "iopub.status.idle": "2024-11-27T05:56:23.199719Z",
     "shell.execute_reply": "2024-11-27T05:56:23.198722Z"
    },
    "papermill": {
     "duration": 0.044488,
     "end_time": "2024-11-27T05:56:23.201589",
     "exception": false,
     "start_time": "2024-11-27T05:56:23.157101",
     "status": "completed"
    },
    "tags": []
   },
   "outputs": [],
   "source": [
    "model_name='DT'\n",
    "all_model.loc[len(all_model)] = [model_name, accuracy_train, precision_train, recall_train, f1_train, accuracy_test, precision_test, recall_test, f1_test, training_time, testing_time, memory_usage]"
   ]
  },
  {
   "cell_type": "code",
   "execution_count": 54,
   "id": "135ac855",
   "metadata": {
    "execution": {
     "iopub.execute_input": "2024-11-27T05:56:23.268820Z",
     "iopub.status.busy": "2024-11-27T05:56:23.268401Z",
     "iopub.status.idle": "2024-11-27T05:56:23.286817Z",
     "shell.execute_reply": "2024-11-27T05:56:23.285822Z"
    },
    "papermill": {
     "duration": 0.054492,
     "end_time": "2024-11-27T05:56:23.288980",
     "exception": false,
     "start_time": "2024-11-27T05:56:23.234488",
     "status": "completed"
    },
    "tags": []
   },
   "outputs": [
    {
     "data": {
      "text/html": [
       "<div>\n",
       "<style scoped>\n",
       "    .dataframe tbody tr th:only-of-type {\n",
       "        vertical-align: middle;\n",
       "    }\n",
       "\n",
       "    .dataframe tbody tr th {\n",
       "        vertical-align: top;\n",
       "    }\n",
       "\n",
       "    .dataframe thead th {\n",
       "        text-align: right;\n",
       "    }\n",
       "</style>\n",
       "<table border=\"1\" class=\"dataframe\">\n",
       "  <thead>\n",
       "    <tr style=\"text-align: right;\">\n",
       "      <th></th>\n",
       "      <th>Model</th>\n",
       "      <th>Accuracy (Train)</th>\n",
       "      <th>Precision (Train)</th>\n",
       "      <th>Recall (Train)</th>\n",
       "      <th>F1 Score (Train)</th>\n",
       "      <th>Accuracy (Test)</th>\n",
       "      <th>Precision (Test)</th>\n",
       "      <th>Recall (Test)</th>\n",
       "      <th>F1 Score (Test)</th>\n",
       "      <th>Training Time (s)</th>\n",
       "      <th>Testing Time (s)</th>\n",
       "      <th>Memory (MB)</th>\n",
       "    </tr>\n",
       "  </thead>\n",
       "  <tbody>\n",
       "    <tr>\n",
       "      <th>0</th>\n",
       "      <td>SVM</td>\n",
       "      <td>83.651660</td>\n",
       "      <td>84.256971</td>\n",
       "      <td>83.651660</td>\n",
       "      <td>83.756435</td>\n",
       "      <td>77.983539</td>\n",
       "      <td>78.905391</td>\n",
       "      <td>77.983539</td>\n",
       "      <td>78.134467</td>\n",
       "      <td>315.554209</td>\n",
       "      <td>142.788555</td>\n",
       "      <td>2236.230469</td>\n",
       "    </tr>\n",
       "    <tr>\n",
       "      <th>1</th>\n",
       "      <td>KNN</td>\n",
       "      <td>69.622556</td>\n",
       "      <td>75.405343</td>\n",
       "      <td>69.622556</td>\n",
       "      <td>66.210869</td>\n",
       "      <td>59.053498</td>\n",
       "      <td>62.671148</td>\n",
       "      <td>59.053498</td>\n",
       "      <td>52.859433</td>\n",
       "      <td>0.002137</td>\n",
       "      <td>4.173776</td>\n",
       "      <td>2242.195312</td>\n",
       "    </tr>\n",
       "    <tr>\n",
       "      <th>2</th>\n",
       "      <td>LR</td>\n",
       "      <td>88.585721</td>\n",
       "      <td>88.591763</td>\n",
       "      <td>88.585721</td>\n",
       "      <td>88.570996</td>\n",
       "      <td>64.403292</td>\n",
       "      <td>64.428146</td>\n",
       "      <td>64.403292</td>\n",
       "      <td>64.281712</td>\n",
       "      <td>154.806865</td>\n",
       "      <td>0.070814</td>\n",
       "      <td>3911.617188</td>\n",
       "    </tr>\n",
       "    <tr>\n",
       "      <th>3</th>\n",
       "      <td>NB</td>\n",
       "      <td>62.642110</td>\n",
       "      <td>63.437389</td>\n",
       "      <td>62.642110</td>\n",
       "      <td>62.221922</td>\n",
       "      <td>64.609053</td>\n",
       "      <td>65.865832</td>\n",
       "      <td>64.609053</td>\n",
       "      <td>64.370103</td>\n",
       "      <td>2.259723</td>\n",
       "      <td>0.476847</td>\n",
       "      <td>2262.410156</td>\n",
       "    </tr>\n",
       "    <tr>\n",
       "      <th>4</th>\n",
       "      <td>DT</td>\n",
       "      <td>94.020009</td>\n",
       "      <td>94.039459</td>\n",
       "      <td>94.020009</td>\n",
       "      <td>94.021887</td>\n",
       "      <td>62.551440</td>\n",
       "      <td>62.551608</td>\n",
       "      <td>62.551440</td>\n",
       "      <td>62.536707</td>\n",
       "      <td>1.196298</td>\n",
       "      <td>0.037713</td>\n",
       "      <td>2264.023438</td>\n",
       "    </tr>\n",
       "  </tbody>\n",
       "</table>\n",
       "</div>"
      ],
      "text/plain": [
       "  Model  Accuracy (Train)  Precision (Train)  Recall (Train)  \\\n",
       "0   SVM         83.651660          84.256971       83.651660   \n",
       "1   KNN         69.622556          75.405343       69.622556   \n",
       "2    LR         88.585721          88.591763       88.585721   \n",
       "3    NB         62.642110          63.437389       62.642110   \n",
       "4    DT         94.020009          94.039459       94.020009   \n",
       "\n",
       "   F1 Score (Train)  Accuracy (Test)  Precision (Test)  Recall (Test)  \\\n",
       "0         83.756435        77.983539         78.905391      77.983539   \n",
       "1         66.210869        59.053498         62.671148      59.053498   \n",
       "2         88.570996        64.403292         64.428146      64.403292   \n",
       "3         62.221922        64.609053         65.865832      64.609053   \n",
       "4         94.021887        62.551440         62.551608      62.551440   \n",
       "\n",
       "   F1 Score (Test)  Training Time (s)  Testing Time (s)  Memory (MB)  \n",
       "0        78.134467         315.554209        142.788555  2236.230469  \n",
       "1        52.859433           0.002137          4.173776  2242.195312  \n",
       "2        64.281712         154.806865          0.070814  3911.617188  \n",
       "3        64.370103           2.259723          0.476847  2262.410156  \n",
       "4        62.536707           1.196298          0.037713  2264.023438  "
      ]
     },
     "execution_count": 54,
     "metadata": {},
     "output_type": "execute_result"
    }
   ],
   "source": [
    "all_model"
   ]
  },
  {
   "cell_type": "markdown",
   "id": "b926d083",
   "metadata": {
    "papermill": {
     "duration": 0.032749,
     "end_time": "2024-11-27T05:56:23.355176",
     "exception": false,
     "start_time": "2024-11-27T05:56:23.322427",
     "status": "completed"
    },
    "tags": []
   },
   "source": [
    "**MLP**"
   ]
  },
  {
   "cell_type": "code",
   "execution_count": 55,
   "id": "586a5ee1",
   "metadata": {
    "execution": {
     "iopub.execute_input": "2024-11-27T05:56:23.424504Z",
     "iopub.status.busy": "2024-11-27T05:56:23.423823Z",
     "iopub.status.idle": "2024-11-27T06:00:20.718013Z",
     "shell.execute_reply": "2024-11-27T06:00:20.716779Z"
    },
    "papermill": {
     "duration": 237.333283,
     "end_time": "2024-11-27T06:00:20.721809",
     "exception": false,
     "start_time": "2024-11-27T05:56:23.388526",
     "status": "completed"
    },
    "tags": []
   },
   "outputs": [],
   "source": [
    "from sklearn.neural_network import MLPClassifier\n",
    "mlp =MLPClassifier(\n",
    "    hidden_layer_sizes=(128, 64),  \n",
    "    activation='relu',             \n",
    "    solver='adam',                 \n",
    "    alpha=0.0001,                  \n",
    "    batch_size=64,                 \n",
    "    learning_rate='adaptive',      \n",
    "    max_iter=300,                  \n",
    "    early_stopping=True,           \n",
    "    random_state=42                \n",
    ")\n",
    "start_time = time.time()\n",
    "mlp.fit(X_train, y_train)\n",
    "training_time = time.time() - start_time\n",
    "memory_usage = psutil.Process().memory_info().rss / 1024 / 1024"
   ]
  },
  {
   "cell_type": "code",
   "execution_count": 56,
   "id": "924a514c",
   "metadata": {
    "execution": {
     "iopub.execute_input": "2024-11-27T06:00:20.896677Z",
     "iopub.status.busy": "2024-11-27T06:00:20.896283Z",
     "iopub.status.idle": "2024-11-27T06:00:21.058804Z",
     "shell.execute_reply": "2024-11-27T06:00:21.057701Z"
    },
    "papermill": {
     "duration": 0.277099,
     "end_time": "2024-11-27T06:00:21.062375",
     "exception": false,
     "start_time": "2024-11-27T06:00:20.785276",
     "status": "completed"
    },
    "tags": []
   },
   "outputs": [],
   "source": [
    "# make predictions on the test data\n",
    "start_time = time.time()\n",
    "y_pred = mlp.predict(X_test)\n",
    "testing_time = time.time() - start_time"
   ]
  },
  {
   "cell_type": "code",
   "execution_count": 57,
   "id": "243ccd63",
   "metadata": {
    "execution": {
     "iopub.execute_input": "2024-11-27T06:00:21.188553Z",
     "iopub.status.busy": "2024-11-27T06:00:21.188148Z",
     "iopub.status.idle": "2024-11-27T06:00:21.456871Z",
     "shell.execute_reply": "2024-11-27T06:00:21.455861Z"
    },
    "papermill": {
     "duration": 0.330089,
     "end_time": "2024-11-27T06:00:21.459135",
     "exception": false,
     "start_time": "2024-11-27T06:00:21.129046",
     "status": "completed"
    },
    "tags": []
   },
   "outputs": [
    {
     "data": {
      "image/png": "[encoded data removed]",
      "text/plain": [
       "<Figure size 640x480 with 2 Axes>"
      ]
     },
     "metadata": {},
     "output_type": "display_data"
    }
   ],
   "source": [
    "classes=['EB','H','LB']\n",
    "# Compute the confusion matrix\n",
    "cm = confusion_matrix(y_test, y_pred)\n",
    "\n",
    "# Plot the confusion matrix\n",
    "fig, ax = plt.subplots()\n",
    "im = ax.imshow(cm, interpolation='nearest', cmap=plt.cm.Greens)\n",
    "ax.figure.colorbar(im, ax=ax)\n",
    "ax.set(xticks=np.arange(cm.shape[1]),\n",
    "       yticks=np.arange(cm.shape[0]),\n",
    "       xticklabels=classes,\n",
    "       yticklabels=classes,\n",
    "       xlabel='Predicted label',\n",
    "       ylabel='True label',\n",
    "       aspect='equal',\n",
    "       )\n",
    "plt.xticks(np.arange(cm.shape[1]),  rotation=45, fontweight='bold', color='black',fontsize=10)\n",
    "plt.yticks(np.arange(cm.shape[0]),  fontweight='bold', color='black',fontsize=10)\n",
    "plt.ylabel('True label', fontweight='bold', color='black',fontsize=10)\n",
    "plt.xlabel('Predicted label', fontweight='bold', color='black',fontsize=10)\n",
    "plt.setp(ax.get_xticklabels(), rotation=45, ha=\"right\",rotation_mode=\"anchor\")\n",
    "\n",
    "for i in range(cm.shape[0]):\n",
    "    for j in range(cm.shape[1]):\n",
    "        ax.text(j, i, format(cm[i, j], 'd'),\n",
    "                ha=\"center\", va=\"center\", fontweight='bold',\n",
    "                color=\"white\" if cm[i, j] > cm.max() / 2. else \"black\")\n",
    "fig.tight_layout()\n",
    "plt.show()"
   ]
  },
  {
   "cell_type": "code",
   "execution_count": 58,
   "id": "40964d5d",
   "metadata": {
    "execution": {
     "iopub.execute_input": "2024-11-27T06:00:21.528495Z",
     "iopub.status.busy": "2024-11-27T06:00:21.528094Z",
     "iopub.status.idle": "2024-11-27T06:00:21.543850Z",
     "shell.execute_reply": "2024-11-27T06:00:21.542735Z"
    },
    "papermill": {
     "duration": 0.052994,
     "end_time": "2024-11-27T06:00:21.545954",
     "exception": false,
     "start_time": "2024-11-27T06:00:21.492960",
     "status": "completed"
    },
    "tags": []
   },
   "outputs": [
    {
     "name": "stdout",
     "output_type": "stream",
     "text": [
      "Accuracy (Test): 62.3457\n",
      "Precision (Test): 63.1805\n",
      "Recall (Test): 62.3457\n",
      "F1 score (Test): 62.1880\n"
     ]
    }
   ],
   "source": [
    "accuracy_test = accuracy_score(y_test, y_pred)*100\n",
    "precision_test = precision_score(y_test, y_pred, average='macro')*100\n",
    "recall_test = recall_score(y_test, y_pred, average='macro')*100\n",
    "f1_test = f1_score(y_test, y_pred, average='macro')*100\n",
    "\n",
    "print(\"Accuracy (Test): {:.4f}\".format(accuracy_test))\n",
    "print(\"Precision (Test): {:.4f}\".format(precision_test))\n",
    "print(\"Recall (Test): {:.4f}\".format(recall_test))\n",
    "print(\"F1 score (Test): {:.4f}\".format(f1_test))"
   ]
  },
  {
   "cell_type": "code",
   "execution_count": 59,
   "id": "a81f9221",
   "metadata": {
    "execution": {
     "iopub.execute_input": "2024-11-27T06:00:21.615747Z",
     "iopub.status.busy": "2024-11-27T06:00:21.615027Z",
     "iopub.status.idle": "2024-11-27T06:00:23.020070Z",
     "shell.execute_reply": "2024-11-27T06:00:23.018995Z"
    },
    "papermill": {
     "duration": 1.443095,
     "end_time": "2024-11-27T06:00:23.023148",
     "exception": false,
     "start_time": "2024-11-27T06:00:21.580053",
     "status": "completed"
    },
    "tags": []
   },
   "outputs": [],
   "source": [
    "# make predictions on the train data\n",
    "y_pred = mlp.predict(X_train)"
   ]
  },
  {
   "cell_type": "code",
   "execution_count": 60,
   "id": "effe3918",
   "metadata": {
    "execution": {
     "iopub.execute_input": "2024-11-27T06:00:23.149480Z",
     "iopub.status.busy": "2024-11-27T06:00:23.148528Z",
     "iopub.status.idle": "2024-11-27T06:00:23.429195Z",
     "shell.execute_reply": "2024-11-27T06:00:23.428154Z"
    },
    "papermill": {
     "duration": 0.34345,
     "end_time": "2024-11-27T06:00:23.431262",
     "exception": false,
     "start_time": "2024-11-27T06:00:23.087812",
     "status": "completed"
    },
    "tags": []
   },
   "outputs": [
    {
     "data": {
      "image/png": "[encoded data removed]",
      "text/plain": [
       "<Figure size 640x480 with 2 Axes>"
      ]
     },
     "metadata": {},
     "output_type": "display_data"
    }
   ],
   "source": [
    "classes=['EB','H','LB']\n",
    "# Compute the confusion matrix\n",
    "cm = confusion_matrix(y_train, y_pred)\n",
    "\n",
    "# Plot the confusion matrix\n",
    "fig, ax = plt.subplots()\n",
    "im = ax.imshow(cm, interpolation='nearest', cmap=plt.cm.Greens)\n",
    "ax.figure.colorbar(im, ax=ax)\n",
    "ax.set(xticks=np.arange(cm.shape[1]),\n",
    "       yticks=np.arange(cm.shape[0]),\n",
    "       xticklabels=classes,\n",
    "       yticklabels=classes,\n",
    "       xlabel='Predicted label',\n",
    "       ylabel='True label',\n",
    "       aspect='equal',\n",
    "       )\n",
    "plt.xticks(np.arange(cm.shape[1]),  rotation=45, fontweight='bold', color='black',fontsize=10)\n",
    "plt.yticks(np.arange(cm.shape[0]),  fontweight='bold', color='black',fontsize=10)\n",
    "plt.ylabel('True label', fontweight='bold', color='black',fontsize=10)\n",
    "plt.xlabel('Predicted label', fontweight='bold', color='black',fontsize=10)\n",
    "plt.setp(ax.get_xticklabels(), rotation=45, ha=\"right\",rotation_mode=\"anchor\")\n",
    "\n",
    "for i in range(cm.shape[0]):\n",
    "    for j in range(cm.shape[1]):\n",
    "        ax.text(j, i, format(cm[i, j], 'd'),\n",
    "                ha=\"center\", va=\"center\", fontweight='bold',\n",
    "                color=\"white\" if cm[i, j] > cm.max() / 2. else \"black\")\n",
    "fig.tight_layout()\n",
    "plt.show()"
   ]
  },
  {
   "cell_type": "code",
   "execution_count": 61,
   "id": "bff14237",
   "metadata": {
    "execution": {
     "iopub.execute_input": "2024-11-27T06:00:23.502307Z",
     "iopub.status.busy": "2024-11-27T06:00:23.501378Z",
     "iopub.status.idle": "2024-11-27T06:00:23.547474Z",
     "shell.execute_reply": "2024-11-27T06:00:23.546345Z"
    },
    "papermill": {
     "duration": 0.083949,
     "end_time": "2024-11-27T06:00:23.549661",
     "exception": false,
     "start_time": "2024-11-27T06:00:23.465712",
     "status": "completed"
    },
    "tags": []
   },
   "outputs": [
    {
     "name": "stdout",
     "output_type": "stream",
     "text": [
      "Accuracy (Train): 63.0741\n",
      "Precision (Train): 64.5800\n",
      "Recall (Train): 63.0741\n",
      "F1 score (Train): 62.7732\n"
     ]
    }
   ],
   "source": [
    "accuracy_train = accuracy_score(y_train, y_pred)*100\n",
    "precision_train = precision_score(y_train, y_pred, average='macro')*100\n",
    "recall_train = recall_score(y_train, y_pred, average='macro')*100\n",
    "f1_train = f1_score(y_train, y_pred, average='macro')*100\n",
    "\n",
    "print(\"Accuracy (Train): {:.4f}\".format(accuracy_train))\n",
    "print(\"Precision (Train): {:.4f}\".format(precision_train))\n",
    "print(\"Recall (Train): {:.4f}\".format(recall_train))\n",
    "print(\"F1 score (Train): {:.4f}\".format(f1_train))"
   ]
  },
  {
   "cell_type": "code",
   "execution_count": 62,
   "id": "4653624b",
   "metadata": {
    "execution": {
     "iopub.execute_input": "2024-11-27T06:00:23.620483Z",
     "iopub.status.busy": "2024-11-27T06:00:23.620081Z",
     "iopub.status.idle": "2024-11-27T06:00:23.628843Z",
     "shell.execute_reply": "2024-11-27T06:00:23.627930Z"
    },
    "papermill": {
     "duration": 0.04675,
     "end_time": "2024-11-27T06:00:23.630849",
     "exception": false,
     "start_time": "2024-11-27T06:00:23.584099",
     "status": "completed"
    },
    "tags": []
   },
   "outputs": [],
   "source": [
    "model_name='MLP'\n",
    "all_model.loc[len(all_model)] = [model_name, accuracy_train, precision_train, recall_train, f1_train, accuracy_test, precision_test, recall_test, f1_test, training_time, testing_time, memory_usage]"
   ]
  },
  {
   "cell_type": "code",
   "execution_count": 63,
   "id": "0c049284",
   "metadata": {
    "execution": {
     "iopub.execute_input": "2024-11-27T06:00:23.701616Z",
     "iopub.status.busy": "2024-11-27T06:00:23.701226Z",
     "iopub.status.idle": "2024-11-27T06:00:23.717892Z",
     "shell.execute_reply": "2024-11-27T06:00:23.716862Z"
    },
    "papermill": {
     "duration": 0.054686,
     "end_time": "2024-11-27T06:00:23.719866",
     "exception": false,
     "start_time": "2024-11-27T06:00:23.665180",
     "status": "completed"
    },
    "tags": []
   },
   "outputs": [
    {
     "data": {
      "text/html": [
       "<div>\n",
       "<style scoped>\n",
       "    .dataframe tbody tr th:only-of-type {\n",
       "        vertical-align: middle;\n",
       "    }\n",
       "\n",
       "    .dataframe tbody tr th {\n",
       "        vertical-align: top;\n",
       "    }\n",
       "\n",
       "    .dataframe thead th {\n",
       "        text-align: right;\n",
       "    }\n",
       "</style>\n",
       "<table border=\"1\" class=\"dataframe\">\n",
       "  <thead>\n",
       "    <tr style=\"text-align: right;\">\n",
       "      <th></th>\n",
       "      <th>Model</th>\n",
       "      <th>Accuracy (Train)</th>\n",
       "      <th>Precision (Train)</th>\n",
       "      <th>Recall (Train)</th>\n",
       "      <th>F1 Score (Train)</th>\n",
       "      <th>Accuracy (Test)</th>\n",
       "      <th>Precision (Test)</th>\n",
       "      <th>Recall (Test)</th>\n",
       "      <th>F1 Score (Test)</th>\n",
       "      <th>Training Time (s)</th>\n",
       "      <th>Testing Time (s)</th>\n",
       "      <th>Memory (MB)</th>\n",
       "    </tr>\n",
       "  </thead>\n",
       "  <tbody>\n",
       "    <tr>\n",
       "      <th>0</th>\n",
       "      <td>SVM</td>\n",
       "      <td>83.651660</td>\n",
       "      <td>84.256971</td>\n",
       "      <td>83.651660</td>\n",
       "      <td>83.756435</td>\n",
       "      <td>77.983539</td>\n",
       "      <td>78.905391</td>\n",
       "      <td>77.983539</td>\n",
       "      <td>78.134467</td>\n",
       "      <td>315.554209</td>\n",
       "      <td>142.788555</td>\n",
       "      <td>2236.230469</td>\n",
       "    </tr>\n",
       "    <tr>\n",
       "      <th>1</th>\n",
       "      <td>KNN</td>\n",
       "      <td>69.622556</td>\n",
       "      <td>75.405343</td>\n",
       "      <td>69.622556</td>\n",
       "      <td>66.210869</td>\n",
       "      <td>59.053498</td>\n",
       "      <td>62.671148</td>\n",
       "      <td>59.053498</td>\n",
       "      <td>52.859433</td>\n",
       "      <td>0.002137</td>\n",
       "      <td>4.173776</td>\n",
       "      <td>2242.195312</td>\n",
       "    </tr>\n",
       "    <tr>\n",
       "      <th>2</th>\n",
       "      <td>LR</td>\n",
       "      <td>88.585721</td>\n",
       "      <td>88.591763</td>\n",
       "      <td>88.585721</td>\n",
       "      <td>88.570996</td>\n",
       "      <td>64.403292</td>\n",
       "      <td>64.428146</td>\n",
       "      <td>64.403292</td>\n",
       "      <td>64.281712</td>\n",
       "      <td>154.806865</td>\n",
       "      <td>0.070814</td>\n",
       "      <td>3911.617188</td>\n",
       "    </tr>\n",
       "    <tr>\n",
       "      <th>3</th>\n",
       "      <td>NB</td>\n",
       "      <td>62.642110</td>\n",
       "      <td>63.437389</td>\n",
       "      <td>62.642110</td>\n",
       "      <td>62.221922</td>\n",
       "      <td>64.609053</td>\n",
       "      <td>65.865832</td>\n",
       "      <td>64.609053</td>\n",
       "      <td>64.370103</td>\n",
       "      <td>2.259723</td>\n",
       "      <td>0.476847</td>\n",
       "      <td>2262.410156</td>\n",
       "    </tr>\n",
       "    <tr>\n",
       "      <th>4</th>\n",
       "      <td>DT</td>\n",
       "      <td>94.020009</td>\n",
       "      <td>94.039459</td>\n",
       "      <td>94.020009</td>\n",
       "      <td>94.021887</td>\n",
       "      <td>62.551440</td>\n",
       "      <td>62.551608</td>\n",
       "      <td>62.551440</td>\n",
       "      <td>62.536707</td>\n",
       "      <td>1.196298</td>\n",
       "      <td>0.037713</td>\n",
       "      <td>2264.023438</td>\n",
       "    </tr>\n",
       "    <tr>\n",
       "      <th>5</th>\n",
       "      <td>MLP</td>\n",
       "      <td>63.074125</td>\n",
       "      <td>64.580047</td>\n",
       "      <td>63.074125</td>\n",
       "      <td>62.773229</td>\n",
       "      <td>62.345679</td>\n",
       "      <td>63.180473</td>\n",
       "      <td>62.345679</td>\n",
       "      <td>62.187965</td>\n",
       "      <td>237.268486</td>\n",
       "      <td>0.158095</td>\n",
       "      <td>2423.171875</td>\n",
       "    </tr>\n",
       "  </tbody>\n",
       "</table>\n",
       "</div>"
      ],
      "text/plain": [
       "  Model  Accuracy (Train)  Precision (Train)  Recall (Train)  \\\n",
       "0   SVM         83.651660          84.256971       83.651660   \n",
       "1   KNN         69.622556          75.405343       69.622556   \n",
       "2    LR         88.585721          88.591763       88.585721   \n",
       "3    NB         62.642110          63.437389       62.642110   \n",
       "4    DT         94.020009          94.039459       94.020009   \n",
       "5   MLP         63.074125          64.580047       63.074125   \n",
       "\n",
       "   F1 Score (Train)  Accuracy (Test)  Precision (Test)  Recall (Test)  \\\n",
       "0         83.756435        77.983539         78.905391      77.983539   \n",
       "1         66.210869        59.053498         62.671148      59.053498   \n",
       "2         88.570996        64.403292         64.428146      64.403292   \n",
       "3         62.221922        64.609053         65.865832      64.609053   \n",
       "4         94.021887        62.551440         62.551608      62.551440   \n",
       "5         62.773229        62.345679         63.180473      62.345679   \n",
       "\n",
       "   F1 Score (Test)  Training Time (s)  Testing Time (s)  Memory (MB)  \n",
       "0        78.134467         315.554209        142.788555  2236.230469  \n",
       "1        52.859433           0.002137          4.173776  2242.195312  \n",
       "2        64.281712         154.806865          0.070814  3911.617188  \n",
       "3        64.370103           2.259723          0.476847  2262.410156  \n",
       "4        62.536707           1.196298          0.037713  2264.023438  \n",
       "5        62.187965         237.268486          0.158095  2423.171875  "
      ]
     },
     "execution_count": 63,
     "metadata": {},
     "output_type": "execute_result"
    }
   ],
   "source": [
    "all_model"
   ]
  }
 ],
 "metadata": {
  "kaggle": {
   "accelerator": "none",
   "dataSources": [
    {
     "datasetId": 1562973,
     "sourceId": 2574068,
     "sourceType": "datasetVersion"
    },
    {
     "datasetId": 6161628,
     "sourceId": 10008956,
     "sourceType": "datasetVersion"
    }
   ],
   "dockerImageVersionId": 30527,
   "isGpuEnabled": false,
   "isInternetEnabled": true,
   "language": "python",
   "sourceType": "notebook"
  },
  "kernelspec": {
   "display_name": "Python 3",
   "language": "python",
   "name": "python3"
  },
  "language_info": {
   "codemirror_mode": {
    "name": "ipython",
    "version": 3
   },
   "file_extension": ".py",
   "mimetype": "text/x-python",
   "name": "python",
   "nbconvert_exporter": "python",
   "pygments_lexer": "ipython3",
   "version": "3.10.12"
  },
  "papermill": {
   "default_parameters": {},
   "duration": 2286.442562,
   "end_time": "2024-11-27T06:00:25.684180",
   "environment_variables": {},
   "exception": null,
   "input_path": "__notebook__.ipynb",
   "output_path": "__notebook__.ipynb",
   "parameters": {},
   "start_time": "2024-11-27T05:22:19.241618",
   "version": "2.4.0"
  }
 },
 "nbformat": 4,
 "nbformat_minor": 5
}
