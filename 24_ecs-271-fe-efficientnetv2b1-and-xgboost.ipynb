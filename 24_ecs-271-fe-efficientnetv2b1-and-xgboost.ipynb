{
 "cells": [
  {
   "cell_type": "code",
   "execution_count": 1,
   "id": "19781c03",
   "metadata": {
    "_cell_guid": "b1076dfc-b9ad-4769-8c92-a6c4dae69d19",
    "_uuid": "8f2839f25d086af736a60e9eeb907d3b93b6e0e5",
    "execution": {
     "iopub.execute_input": "2024-12-06T03:29:31.143622Z",
     "iopub.status.busy": "2024-12-06T03:29:31.143348Z",
     "iopub.status.idle": "2024-12-06T03:29:31.832646Z",
     "shell.execute_reply": "2024-12-06T03:29:31.831967Z"
    },
    "papermill": {
     "duration": 0.698074,
     "end_time": "2024-12-06T03:29:31.834741",
     "exception": false,
     "start_time": "2024-12-06T03:29:31.136667",
     "status": "completed"
    },
    "tags": []
   },
   "outputs": [],
   "source": [
    "# This Python 3 environment comes with many helpful analytics libraries installed\n",
    "# It is defined by the kaggle/python Docker image: https://github.com/kaggle/docker-python\n",
    "# For example, here's several helpful packages to load\n",
    "\n",
    "import numpy as np # linear algebra\n",
    "import pandas as pd # data processing, CSV file I/O (e.g. pd.read_csv)\n",
    "\n",
    "# Input data files are available in the read-only \"../input/\" directory\n",
    "# For example, running this (by clicking run or pressing Shift+Enter) will list all files under the input directory\n",
    "\n",
    "# import os\n",
    "# for dirname, _, filenames in os.walk('/kaggle/input'):\n",
    "#     for filename in filenames:\n",
    "#         print(os.path.join(dirname, filename))\n",
    "\n",
    "# You can write up to 20GB to the current directory (/kaggle/working/) that gets preserved as output when you create a version using \"Save & Run All\" \n",
    "# You can also write temporary files to /kaggle/temp/, but they won't be saved outside of the current session"
   ]
  },
  {
   "cell_type": "code",
   "execution_count": 2,
   "id": "969d0439",
   "metadata": {
    "execution": {
     "iopub.execute_input": "2024-12-06T03:29:31.845847Z",
     "iopub.status.busy": "2024-12-06T03:29:31.845136Z",
     "iopub.status.idle": "2024-12-06T03:29:44.711223Z",
     "shell.execute_reply": "2024-12-06T03:29:44.710582Z"
    },
    "papermill": {
     "duration": 12.873596,
     "end_time": "2024-12-06T03:29:44.713287",
     "exception": false,
     "start_time": "2024-12-06T03:29:31.839691",
     "status": "completed"
    },
    "tags": []
   },
   "outputs": [],
   "source": [
    "import matplotlib.pyplot as plt\n",
    "import numpy as np\n",
    "import pandas as pd\n",
    "import seaborn as sns\n",
    "import cv2\n",
    "import tensorflow as tf\n",
    "from tensorflow.keras.preprocessing.image import ImageDataGenerator\n",
    "from tqdm import tqdm\n",
    "import os\n",
    "from sklearn.utils import shuffle\n",
    "from sklearn.model_selection import train_test_split\n",
    "from tensorflow.keras.applications import EfficientNetB0, DenseNet201\n",
    "from tensorflow.keras.callbacks import EarlyStopping, ReduceLROnPlateau, TensorBoard, ModelCheckpoint\n",
    "from sklearn.metrics import classification_report,confusion_matrix\n",
    "import ipywidgets as widgets\n",
    "import io\n",
    "from PIL import Image\n",
    "from IPython.display import display,clear_output\n",
    "from warnings import filterwarnings\n",
    "from keras.models import Sequential\n",
    "from keras.layers import Dense, Flatten, Dropout\n",
    "from sklearn.metrics import accuracy_score, precision_score, recall_score, f1_score\n",
    "import time\n",
    "import psutil"
   ]
  },
  {
   "cell_type": "code",
   "execution_count": 3,
   "id": "703d6fc5",
   "metadata": {
    "execution": {
     "iopub.execute_input": "2024-12-06T03:29:44.724938Z",
     "iopub.status.busy": "2024-12-06T03:29:44.724478Z",
     "iopub.status.idle": "2024-12-06T03:29:44.728194Z",
     "shell.execute_reply": "2024-12-06T03:29:44.727472Z"
    },
    "papermill": {
     "duration": 0.011644,
     "end_time": "2024-12-06T03:29:44.729769",
     "exception": false,
     "start_time": "2024-12-06T03:29:44.718125",
     "status": "completed"
    },
    "tags": []
   },
   "outputs": [],
   "source": [
    "labels = ['Early_Blight','Healthy','Late_Blight']"
   ]
  },
  {
   "cell_type": "code",
   "execution_count": 4,
   "id": "c30ef308",
   "metadata": {
    "execution": {
     "iopub.execute_input": "2024-12-06T03:29:44.739636Z",
     "iopub.status.busy": "2024-12-06T03:29:44.739397Z",
     "iopub.status.idle": "2024-12-06T03:30:41.056088Z",
     "shell.execute_reply": "2024-12-06T03:30:41.055403Z"
    },
    "papermill": {
     "duration": 56.32402,
     "end_time": "2024-12-06T03:30:41.058158",
     "exception": false,
     "start_time": "2024-12-06T03:29:44.734138",
     "status": "completed"
    },
    "tags": []
   },
   "outputs": [
    {
     "name": "stderr",
     "output_type": "stream",
     "text": [
      "100%|██████████| 1303/1303 [00:14<00:00, 88.04it/s]\n",
      "100%|██████████| 1303/1303 [00:14<00:00, 88.66it/s]\n",
      "100%|██████████| 1303/1303 [00:14<00:00, 88.04it/s]\n",
      "100%|██████████| 162/162 [00:01<00:00, 87.97it/s]\n",
      "100%|██████████| 162/162 [00:01<00:00, 91.56it/s]\n",
      "100%|██████████| 162/162 [00:01<00:00, 91.15it/s]\n",
      "100%|██████████| 163/163 [00:01<00:00, 88.98it/s]\n",
      "100%|██████████| 163/163 [00:01<00:00, 88.45it/s]\n",
      "100%|██████████| 163/163 [00:01<00:00, 86.07it/s]\n"
     ]
    }
   ],
   "source": [
    "X_train = []\n",
    "y_train = []\n",
    "X_test = []\n",
    "y_test = []\n",
    "image_size = 384\n",
    "for i in labels:\n",
    "    folderPath = os.path.join('/kaggle/input/balanced-data/balanced_data','Training',i)\n",
    "    for j in tqdm(os.listdir(folderPath)):\n",
    "        img = cv2.imread(os.path.join(folderPath,j))\n",
    "        img = cv2.resize(img,(image_size, image_size))\n",
    "        X_train.append(img)\n",
    "        y_train.append(i)\n",
    "        \n",
    "for i in labels:\n",
    "    folderPath = os.path.join('/kaggle/input/balanced-data/balanced_data','Testing',i)\n",
    "    for j in tqdm(os.listdir(folderPath)):\n",
    "        img = cv2.imread(os.path.join(folderPath,j))\n",
    "        img = cv2.resize(img,(image_size,image_size))\n",
    "        X_test.append(img)\n",
    "        y_test.append(i)\n",
    "        \n",
    "for i in labels:\n",
    "    folderPath = os.path.join('/kaggle/input/balanced-data/balanced_data','Validation',i)\n",
    "    for j in tqdm(os.listdir(folderPath)):\n",
    "        img = cv2.imread(os.path.join(folderPath,j))\n",
    "        img = cv2.resize(img,(image_size,image_size))\n",
    "        X_train.append(img)\n",
    "        y_train.append(i)\n",
    "        \n",
    "X_train = np.array(X_train)\n",
    "y_train = np.array(y_train)\n",
    "X_test = np.array(X_test)\n",
    "y_test = np.array(y_test)"
   ]
  },
  {
   "cell_type": "code",
   "execution_count": 5,
   "id": "038de49f",
   "metadata": {
    "execution": {
     "iopub.execute_input": "2024-12-06T03:30:41.114056Z",
     "iopub.status.busy": "2024-12-06T03:30:41.113728Z",
     "iopub.status.idle": "2024-12-06T03:30:41.118996Z",
     "shell.execute_reply": "2024-12-06T03:30:41.117952Z"
    },
    "papermill": {
     "duration": 0.034862,
     "end_time": "2024-12-06T03:30:41.120788",
     "exception": false,
     "start_time": "2024-12-06T03:30:41.085926",
     "status": "completed"
    },
    "tags": []
   },
   "outputs": [
    {
     "name": "stdout",
     "output_type": "stream",
     "text": [
      "(4398, 384, 384, 3)\n",
      "(4398,)\n",
      "(486, 384, 384, 3)\n",
      "(486,)\n"
     ]
    }
   ],
   "source": [
    "print(X_train.shape)\n",
    "print(y_train.shape)\n",
    "print(X_test.shape)\n",
    "print(y_test.shape)"
   ]
  },
  {
   "cell_type": "code",
   "execution_count": 6,
   "id": "97735c39",
   "metadata": {
    "execution": {
     "iopub.execute_input": "2024-12-06T03:30:41.175576Z",
     "iopub.status.busy": "2024-12-06T03:30:41.175218Z",
     "iopub.status.idle": "2024-12-06T03:30:41.180882Z",
     "shell.execute_reply": "2024-12-06T03:30:41.180084Z"
    },
    "papermill": {
     "duration": 0.034825,
     "end_time": "2024-12-06T03:30:41.182540",
     "exception": false,
     "start_time": "2024-12-06T03:30:41.147715",
     "status": "completed"
    },
    "tags": []
   },
   "outputs": [
    {
     "name": "stdout",
     "output_type": "stream",
     "text": [
      "['Early_Blight' 'Healthy' 'Late_Blight']\n",
      "['Early_Blight' 'Healthy' 'Late_Blight']\n"
     ]
    }
   ],
   "source": [
    "print(np.unique(y_test))\n",
    "print(np.unique(y_train))"
   ]
  },
  {
   "cell_type": "code",
   "execution_count": 7,
   "id": "f6c9b367",
   "metadata": {
    "execution": {
     "iopub.execute_input": "2024-12-06T03:30:41.236918Z",
     "iopub.status.busy": "2024-12-06T03:30:41.236596Z",
     "iopub.status.idle": "2024-12-06T03:30:41.243883Z",
     "shell.execute_reply": "2024-12-06T03:30:41.243282Z"
    },
    "papermill": {
     "duration": 0.036401,
     "end_time": "2024-12-06T03:30:41.245449",
     "exception": false,
     "start_time": "2024-12-06T03:30:41.209048",
     "status": "completed"
    },
    "tags": []
   },
   "outputs": [],
   "source": [
    "y_train_new = []\n",
    "for i in y_train:\n",
    "    y_train_new.append(labels.index(i))\n",
    "y_train = y_train_new\n",
    "y_train = tf.keras.utils.to_categorical(y_train)\n",
    "\n",
    "\n",
    "y_test_new = []\n",
    "for i in y_test:\n",
    "    y_test_new.append(labels.index(i))\n",
    "y_test = y_test_new\n",
    "y_test = tf.keras.utils.to_categorical(y_test)"
   ]
  },
  {
   "cell_type": "code",
   "execution_count": 8,
   "id": "5b3c0d3a",
   "metadata": {
    "execution": {
     "iopub.execute_input": "2024-12-06T03:30:41.299296Z",
     "iopub.status.busy": "2024-12-06T03:30:41.298960Z",
     "iopub.status.idle": "2024-12-06T03:30:41.307154Z",
     "shell.execute_reply": "2024-12-06T03:30:41.306318Z"
    },
    "papermill": {
     "duration": 0.037053,
     "end_time": "2024-12-06T03:30:41.308783",
     "exception": false,
     "start_time": "2024-12-06T03:30:41.271730",
     "status": "completed"
    },
    "tags": []
   },
   "outputs": [],
   "source": [
    "all_model = pd.DataFrame(columns=['Model', 'Accuracy (Train)', 'Precision (Train)', 'Recall (Train)', 'F1 Score (Train)', 'Accuracy (Test)', 'Precision (Test)', 'Recall (Test)', 'F1 Score (Test)', 'Training Time (s)', 'Testing Time (s)','Memory (MB)'])"
   ]
  },
  {
   "cell_type": "code",
   "execution_count": 9,
   "id": "d664910c",
   "metadata": {
    "execution": {
     "iopub.execute_input": "2024-12-06T03:30:41.362823Z",
     "iopub.status.busy": "2024-12-06T03:30:41.362490Z",
     "iopub.status.idle": "2024-12-06T03:30:41.378187Z",
     "shell.execute_reply": "2024-12-06T03:30:41.377413Z"
    },
    "papermill": {
     "duration": 0.044809,
     "end_time": "2024-12-06T03:30:41.379743",
     "exception": false,
     "start_time": "2024-12-06T03:30:41.334934",
     "status": "completed"
    },
    "tags": []
   },
   "outputs": [
    {
     "data": {
      "text/html": [
       "<div>\n",
       "<style scoped>\n",
       "    .dataframe tbody tr th:only-of-type {\n",
       "        vertical-align: middle;\n",
       "    }\n",
       "\n",
       "    .dataframe tbody tr th {\n",
       "        vertical-align: top;\n",
       "    }\n",
       "\n",
       "    .dataframe thead th {\n",
       "        text-align: right;\n",
       "    }\n",
       "</style>\n",
       "<table border=\"1\" class=\"dataframe\">\n",
       "  <thead>\n",
       "    <tr style=\"text-align: right;\">\n",
       "      <th></th>\n",
       "      <th>Model</th>\n",
       "      <th>Accuracy (Train)</th>\n",
       "      <th>Precision (Train)</th>\n",
       "      <th>Recall (Train)</th>\n",
       "      <th>F1 Score (Train)</th>\n",
       "      <th>Accuracy (Test)</th>\n",
       "      <th>Precision (Test)</th>\n",
       "      <th>Recall (Test)</th>\n",
       "      <th>F1 Score (Test)</th>\n",
       "      <th>Training Time (s)</th>\n",
       "      <th>Testing Time (s)</th>\n",
       "      <th>Memory (MB)</th>\n",
       "    </tr>\n",
       "  </thead>\n",
       "  <tbody>\n",
       "  </tbody>\n",
       "</table>\n",
       "</div>"
      ],
      "text/plain": [
       "Empty DataFrame\n",
       "Columns: [Model, Accuracy (Train), Precision (Train), Recall (Train), F1 Score (Train), Accuracy (Test), Precision (Test), Recall (Test), F1 Score (Test), Training Time (s), Testing Time (s), Memory (MB)]\n",
       "Index: []"
      ]
     },
     "execution_count": 9,
     "metadata": {},
     "output_type": "execute_result"
    }
   ],
   "source": [
    "all_model"
   ]
  },
  {
   "cell_type": "markdown",
   "id": "780df7e4",
   "metadata": {
    "papermill": {
     "duration": 0.026197,
     "end_time": "2024-12-06T03:30:41.433363",
     "exception": false,
     "start_time": "2024-12-06T03:30:41.407166",
     "status": "completed"
    },
    "tags": []
   },
   "source": [
    "**Feature Extraction from EfficientNetV2B1**"
   ]
  },
  {
   "cell_type": "code",
   "execution_count": 10,
   "id": "e508738e",
   "metadata": {
    "execution": {
     "iopub.execute_input": "2024-12-06T03:30:41.487325Z",
     "iopub.status.busy": "2024-12-06T03:30:41.486990Z",
     "iopub.status.idle": "2024-12-06T03:30:43.999399Z",
     "shell.execute_reply": "2024-12-06T03:30:43.998475Z"
    },
    "papermill": {
     "duration": 2.541781,
     "end_time": "2024-12-06T03:30:44.001355",
     "exception": false,
     "start_time": "2024-12-06T03:30:41.459574",
     "status": "completed"
    },
    "tags": []
   },
   "outputs": [
    {
     "name": "stdout",
     "output_type": "stream",
     "text": [
      "Downloading data from https://storage.googleapis.com/tensorflow/keras-applications/efficientnet_v2/efficientnetv2-b1_notop.h5\n",
      "\u001b[1m28456008/28456008\u001b[0m \u001b[32m━━━━━━━━━━━━━━━━━━━━\u001b[0m\u001b[37m\u001b[0m \u001b[1m0s\u001b[0m 0us/step\n"
     ]
    }
   ],
   "source": [
    "# Define the base model for feature extraction\n",
    "model = tf.keras.applications.EfficientNetV2B1(\n",
    "    include_top=False,  # Exclude fully connected layers\n",
    "    weights=\"imagenet\",  # Pretrained weights from ImageNet\n",
    "    input_shape=(image_size, image_size, 3),  # Input image size\n",
    "    pooling=\"avg\"  # Global average pooling layer to get feature vector\n",
    ")\n",
    "\n",
    "# Freeze the base model to prevent updates during feature extraction\n",
    "model.trainable = False\n"
   ]
  },
  {
   "cell_type": "code",
   "execution_count": 11,
   "id": "aff038ce",
   "metadata": {
    "execution": {
     "iopub.execute_input": "2024-12-06T03:30:44.057438Z",
     "iopub.status.busy": "2024-12-06T03:30:44.056600Z",
     "iopub.status.idle": "2024-12-06T03:31:13.176054Z",
     "shell.execute_reply": "2024-12-06T03:31:13.175314Z"
    },
    "papermill": {
     "duration": 29.149516,
     "end_time": "2024-12-06T03:31:13.178112",
     "exception": false,
     "start_time": "2024-12-06T03:30:44.028596",
     "status": "completed"
    },
    "tags": []
   },
   "outputs": [
    {
     "name": "stderr",
     "output_type": "stream",
     "text": [
      "WARNING: All log messages before absl::InitializeLog() is called are written to STDERR\n",
      "I0000 00:00:1733455851.322054      68 service.cc:145] XLA service 0x781a1000baf0 initialized for platform CUDA (this does not guarantee that XLA will be used). Devices:\n",
      "I0000 00:00:1733455851.322109      68 service.cc:153]   StreamExecutor device (0): Tesla P100-PCIE-16GB, Compute Capability 6.0\n"
     ]
    },
    {
     "name": "stdout",
     "output_type": "stream",
     "text": [
      "\u001b[1m  4/138\u001b[0m \u001b[37m━━━━━━━━━━━━━━━━━━━━\u001b[0m \u001b[1m5s\u001b[0m 42ms/step"
     ]
    },
    {
     "name": "stderr",
     "output_type": "stream",
     "text": [
      "I0000 00:00:1733455858.476110      68 device_compiler.h:188] Compiled cluster using XLA!  This line is logged at most once for the lifetime of the process.\n"
     ]
    },
    {
     "name": "stdout",
     "output_type": "stream",
     "text": [
      "\u001b[1m138/138\u001b[0m \u001b[32m━━━━━━━━━━━━━━━━━━━━\u001b[0m\u001b[37m\u001b[0m \u001b[1m24s\u001b[0m 105ms/step\n"
     ]
    }
   ],
   "source": [
    "# Use the base model to extract features\n",
    "X_train = model.predict(X_train, batch_size=32, verbose=1)"
   ]
  },
  {
   "cell_type": "code",
   "execution_count": 12,
   "id": "4cf12874",
   "metadata": {
    "execution": {
     "iopub.execute_input": "2024-12-06T03:31:13.247928Z",
     "iopub.status.busy": "2024-12-06T03:31:13.247613Z",
     "iopub.status.idle": "2024-12-06T03:31:13.252480Z",
     "shell.execute_reply": "2024-12-06T03:31:13.251762Z"
    },
    "papermill": {
     "duration": 0.04099,
     "end_time": "2024-12-06T03:31:13.254194",
     "exception": false,
     "start_time": "2024-12-06T03:31:13.213204",
     "status": "completed"
    },
    "tags": []
   },
   "outputs": [],
   "source": [
    "# If labels are one-hot encoded, convert to class indices\n",
    "if y_train.shape[-1] > 1:\n",
    "    y_train = np.argmax(y_train, axis=1)"
   ]
  },
  {
   "cell_type": "code",
   "execution_count": 13,
   "id": "23e1f3c1",
   "metadata": {
    "execution": {
     "iopub.execute_input": "2024-12-06T03:31:13.321461Z",
     "iopub.status.busy": "2024-12-06T03:31:13.320779Z",
     "iopub.status.idle": "2024-12-06T03:31:13.325531Z",
     "shell.execute_reply": "2024-12-06T03:31:13.324663Z"
    },
    "papermill": {
     "duration": 0.040115,
     "end_time": "2024-12-06T03:31:13.327182",
     "exception": false,
     "start_time": "2024-12-06T03:31:13.287067",
     "status": "completed"
    },
    "tags": []
   },
   "outputs": [
    {
     "name": "stdout",
     "output_type": "stream",
     "text": [
      "Extracted features shape: (4398, 1280)\n",
      "Labels shape: (4398,)\n"
     ]
    }
   ],
   "source": [
    "# X_train now contains the extracted features, and y_train contains the labels\n",
    "print(\"Extracted features shape:\", X_train.shape)\n",
    "print(\"Labels shape:\", y_train.shape)"
   ]
  },
  {
   "cell_type": "code",
   "execution_count": 14,
   "id": "5ed9076b",
   "metadata": {
    "execution": {
     "iopub.execute_input": "2024-12-06T03:31:13.395231Z",
     "iopub.status.busy": "2024-12-06T03:31:13.394942Z",
     "iopub.status.idle": "2024-12-06T03:31:18.360018Z",
     "shell.execute_reply": "2024-12-06T03:31:18.359293Z"
    },
    "papermill": {
     "duration": 5.001194,
     "end_time": "2024-12-06T03:31:18.361616",
     "exception": false,
     "start_time": "2024-12-06T03:31:13.360422",
     "status": "completed"
    },
    "tags": []
   },
   "outputs": [
    {
     "name": "stdout",
     "output_type": "stream",
     "text": [
      "\u001b[1m16/16\u001b[0m \u001b[32m━━━━━━━━━━━━━━━━━━━━\u001b[0m\u001b[37m\u001b[0m \u001b[1m5s\u001b[0m 314ms/step\n"
     ]
    }
   ],
   "source": [
    "# Use the base model to extract features from test data\n",
    "X_test = model.predict(X_test, batch_size=32, verbose=1)"
   ]
  },
  {
   "cell_type": "code",
   "execution_count": 15,
   "id": "b3d9849e",
   "metadata": {
    "execution": {
     "iopub.execute_input": "2024-12-06T03:31:18.430971Z",
     "iopub.status.busy": "2024-12-06T03:31:18.430649Z",
     "iopub.status.idle": "2024-12-06T03:31:18.434810Z",
     "shell.execute_reply": "2024-12-06T03:31:18.434073Z"
    },
    "papermill": {
     "duration": 0.040934,
     "end_time": "2024-12-06T03:31:18.436306",
     "exception": false,
     "start_time": "2024-12-06T03:31:18.395372",
     "status": "completed"
    },
    "tags": []
   },
   "outputs": [],
   "source": [
    "# If labels are one-hot encoded, convert to class indices\n",
    "if y_test.shape[-1] > 1:\n",
    "    y_test = np.argmax(y_test, axis=1)"
   ]
  },
  {
   "cell_type": "code",
   "execution_count": 16,
   "id": "6b2052dc",
   "metadata": {
    "execution": {
     "iopub.execute_input": "2024-12-06T03:31:18.505032Z",
     "iopub.status.busy": "2024-12-06T03:31:18.504705Z",
     "iopub.status.idle": "2024-12-06T03:31:18.509300Z",
     "shell.execute_reply": "2024-12-06T03:31:18.508447Z"
    },
    "papermill": {
     "duration": 0.041488,
     "end_time": "2024-12-06T03:31:18.510961",
     "exception": false,
     "start_time": "2024-12-06T03:31:18.469473",
     "status": "completed"
    },
    "tags": []
   },
   "outputs": [
    {
     "name": "stdout",
     "output_type": "stream",
     "text": [
      "Extracted features shape: (486, 1280)\n",
      "Labels shape: (486,)\n"
     ]
    }
   ],
   "source": [
    "# X_test now contains the extracted features, and y_test contains the labels\n",
    "print(\"Extracted features shape:\", X_test.shape)\n",
    "print(\"Labels shape:\", y_test.shape)"
   ]
  },
  {
   "cell_type": "code",
   "execution_count": 17,
   "id": "40b9e67e",
   "metadata": {
    "execution": {
     "iopub.execute_input": "2024-12-06T03:31:18.626933Z",
     "iopub.status.busy": "2024-12-06T03:31:18.626604Z",
     "iopub.status.idle": "2024-12-06T03:31:19.017491Z",
     "shell.execute_reply": "2024-12-06T03:31:19.016762Z"
    },
    "papermill": {
     "duration": 0.474306,
     "end_time": "2024-12-06T03:31:19.019371",
     "exception": false,
     "start_time": "2024-12-06T03:31:18.545065",
     "status": "completed"
    },
    "tags": []
   },
   "outputs": [],
   "source": [
    "from sklearn.ensemble import StackingClassifier\n",
    "from sklearn.ensemble import RandomForestClassifier\n",
    "from sklearn.svm import SVC\n",
    "from sklearn.neighbors import KNeighborsClassifier\n",
    "from sklearn.linear_model import LogisticRegression\n",
    "from sklearn.neural_network import MLPClassifier\n",
    "from sklearn.tree import DecisionTreeClassifier\n",
    "from sklearn.naive_bayes import GaussianNB\n",
    "from sklearn.model_selection import train_test_split\n",
    "from sklearn.metrics import accuracy_score\n",
    "from sklearn.ensemble import GradientBoostingClassifier\n",
    "from xgboost import XGBClassifier\n",
    "\n",
    "# Define the Level 0 classifiers\n",
    "level_0_estimators = [\n",
    "    ('svm', SVC(kernel='rbf',C=1.0,gamma='scale',decision_function_shape='ovr')),\n",
    "    ('knn', KNeighborsClassifier()),\n",
    "    ('logistic', LogisticRegression(multi_class='multinomial',solver='lbfgs',C=1.0,max_iter=1000,random_state=42 )),\n",
    "    ('mlp', MLPClassifier(random_state=42)),\n",
    "    ('decision_tree', DecisionTreeClassifier(criterion='gini',max_depth=20,min_samples_split=5,min_samples_leaf=3,max_features='sqrt',random_state=42)),\n",
    "    ('naive_bayes', GaussianNB(var_smoothing=1e-8))\n",
    "]\n",
    "\n",
    "# Define the Level 1 classifier (meta-classifier)\n",
    "level_1_meta_classifier = XGBClassifier(\n",
    "    n_estimators=300,            \n",
    "    learning_rate=0.05,          \n",
    "    max_depth=6,                 \n",
    "    objective='multi:softprob',  \n",
    "    num_class=3,                \n",
    "    subsample=0.8,               \n",
    "    colsample_bytree=0.8,        \n",
    "    gamma=1,                     \n",
    "    min_child_weight=3,          \n",
    "    random_state=42              \n",
    ")\n",
    "\n",
    "# Create the Stacking Classifier\n",
    "stacking_clf = StackingClassifier(\n",
    "    estimators=level_0_estimators,\n",
    "    final_estimator=level_1_meta_classifier,\n",
    "    cv=5\n",
    ")"
   ]
  },
  {
   "cell_type": "code",
   "execution_count": 18,
   "id": "ed07aa41",
   "metadata": {
    "execution": {
     "iopub.execute_input": "2024-12-06T03:31:19.089321Z",
     "iopub.status.busy": "2024-12-06T03:31:19.088620Z",
     "iopub.status.idle": "2024-12-06T03:32:32.250128Z",
     "shell.execute_reply": "2024-12-06T03:32:32.249304Z"
    },
    "papermill": {
     "duration": 73.231226,
     "end_time": "2024-12-06T03:32:32.284742",
     "exception": false,
     "start_time": "2024-12-06T03:31:19.053516",
     "status": "completed"
    },
    "tags": []
   },
   "outputs": [
    {
     "name": "stdout",
     "output_type": "stream",
     "text": [
      "Training Time: 73.15 seconds\n",
      "Memory Usage: 3634.70 MB\n"
     ]
    }
   ],
   "source": [
    "import time\n",
    "\n",
    "# Start timer\n",
    "start_time = time.time()\n",
    "\n",
    "# Train the stacking classifier\n",
    "stacking_clf.fit(X_train, y_train)\n",
    "\n",
    "# Measure training time\n",
    "training_time = time.time() - start_time\n",
    "print(f\"Training Time: {training_time:.2f} seconds\")\n",
    "\n",
    "# Evaluate memory usage (optional, requires `psutil` library)\n",
    "import psutil\n",
    "memory_usage = psutil.Process().memory_info().rss / 1024 / 1024\n",
    "print(f\"Memory Usage: {memory_usage:.2f} MB\")"
   ]
  },
  {
   "cell_type": "code",
   "execution_count": 19,
   "id": "320c6e69",
   "metadata": {
    "execution": {
     "iopub.execute_input": "2024-12-06T03:32:32.352723Z",
     "iopub.status.busy": "2024-12-06T03:32:32.351985Z",
     "iopub.status.idle": "2024-12-06T03:32:32.951651Z",
     "shell.execute_reply": "2024-12-06T03:32:32.947478Z"
    },
    "papermill": {
     "duration": 0.635579,
     "end_time": "2024-12-06T03:32:32.953886",
     "exception": false,
     "start_time": "2024-12-06T03:32:32.318307",
     "status": "completed"
    },
    "tags": []
   },
   "outputs": [],
   "source": [
    "# make predictions on the test data\n",
    "start_time = time.time()\n",
    "y_pred = stacking_clf.predict(X_test)\n",
    "testing_time = time.time() - start_time"
   ]
  },
  {
   "cell_type": "code",
   "execution_count": 20,
   "id": "93f06949",
   "metadata": {
    "execution": {
     "iopub.execute_input": "2024-12-06T03:32:33.092066Z",
     "iopub.status.busy": "2024-12-06T03:32:33.091775Z",
     "iopub.status.idle": "2024-12-06T03:32:33.312417Z",
     "shell.execute_reply": "2024-12-06T03:32:33.311492Z"
    },
    "papermill": {
     "duration": 0.25785,
     "end_time": "2024-12-06T03:32:33.314165",
     "exception": false,
     "start_time": "2024-12-06T03:32:33.056315",
     "status": "completed"
    },
    "tags": []
   },
   "outputs": [
    {
     "name": "stdout",
     "output_type": "stream",
     "text": [
      "Confusion matrix, without normalization\n"
     ]
    },
    {
     "data": {
      "image/png": "[encoded data removed]",
      "text/plain": [
       "<Figure size 500x500 with 2 Axes>"
      ]
     },
     "metadata": {},
     "output_type": "display_data"
    }
   ],
   "source": [
    "import itertools\n",
    "def plot_confusion_matrix(cm, classes,\n",
    "                          normalize=False,\n",
    "                          title='',\n",
    "                          cmap=plt.cm.Greens):\n",
    "    \"\"\"\n",
    "    This function prints and plots the confusion matrix.\n",
    "    Normalization can be applied by setting `normalize=True`.\n",
    "    \"\"\"\n",
    "    if normalize:\n",
    "        cm = cm.astype('float') / cm.sum(axis=1)[:, np.newaxis]\n",
    "        print(\"Normalized confusion matrix\")\n",
    "    else:\n",
    "        print('Confusion matrix, without normalization')\n",
    "\n",
    "    plt.imshow(cm, interpolation='nearest', cmap=cmap)\n",
    "    plt.title(title)\n",
    "    plt.colorbar()\n",
    "    tick_marks = np.arange(len(classes))\n",
    "    plt.xticks(tick_marks, classes, rotation=45,fontweight='bold')\n",
    "    plt.yticks(tick_marks, classes, fontweight='bold')\n",
    "\n",
    "    for i in range(cm.shape[0]):\n",
    "        for j in range(cm.shape[1]):\n",
    "            plt.text(j, i, format(cm[i, j], 'd'),\n",
    "                    ha=\"center\", va=\"center\", fontweight='bold',\n",
    "                    color=\"white\" if cm[i, j] > cm.max() / 2. else \"black\")\n",
    "\n",
    "    plt.tight_layout()\n",
    "    plt.ylabel('True label',fontweight='bold')\n",
    "    plt.xlabel('Predicted label',fontweight='bold')\n",
    "\n",
    "# Compute confusion matrix\n",
    "cnf_matrix = confusion_matrix(y_test, y_pred)\n",
    "np.set_printoptions(precision=2)\n",
    "\n",
    "# Plot non-normalized confusion matrix\n",
    "plt.figure(figsize=(5,5))\n",
    "plot_confusion_matrix(cnf_matrix, classes=['EB','H','LB']\n",
    "                      )\n",
    "plt.show()"
   ]
  },
  {
   "cell_type": "code",
   "execution_count": 21,
   "id": "8506dfbf",
   "metadata": {
    "execution": {
     "iopub.execute_input": "2024-12-06T03:32:33.383487Z",
     "iopub.status.busy": "2024-12-06T03:32:33.382937Z",
     "iopub.status.idle": "2024-12-06T03:32:33.388085Z",
     "shell.execute_reply": "2024-12-06T03:32:33.387290Z"
    },
    "papermill": {
     "duration": 0.041259,
     "end_time": "2024-12-06T03:32:33.389735",
     "exception": false,
     "start_time": "2024-12-06T03:32:33.348476",
     "status": "completed"
    },
    "tags": []
   },
   "outputs": [
    {
     "data": {
      "text/plain": [
       "(486,)"
      ]
     },
     "execution_count": 21,
     "metadata": {},
     "output_type": "execute_result"
    }
   ],
   "source": [
    "y_pred.shape"
   ]
  },
  {
   "cell_type": "code",
   "execution_count": 22,
   "id": "8437fa62",
   "metadata": {
    "execution": {
     "iopub.execute_input": "2024-12-06T03:32:33.458020Z",
     "iopub.status.busy": "2024-12-06T03:32:33.457762Z",
     "iopub.status.idle": "2024-12-06T03:32:33.467904Z",
     "shell.execute_reply": "2024-12-06T03:32:33.466990Z"
    },
    "papermill": {
     "duration": 0.046337,
     "end_time": "2024-12-06T03:32:33.469568",
     "exception": false,
     "start_time": "2024-12-06T03:32:33.423231",
     "status": "completed"
    },
    "tags": []
   },
   "outputs": [
    {
     "name": "stdout",
     "output_type": "stream",
     "text": [
      "Accuracy (Test): 98.1481\n",
      "Precision (Test): 98.1630\n",
      "Recall (Test): 98.1481\n",
      "F1 score (Test): 98.1499\n"
     ]
    }
   ],
   "source": [
    "accuracy_test = accuracy_score(y_test, y_pred)*100\n",
    "precision_test = precision_score(y_test, y_pred, average='macro')*100\n",
    "recall_test = recall_score(y_test, y_pred, average='macro')*100\n",
    "f1_test = f1_score(y_test, y_pred, average='macro')*100\n",
    "\n",
    "print(\"Accuracy (Test): {:.4f}\".format(accuracy_test))\n",
    "print(\"Precision (Test): {:.4f}\".format(precision_test))\n",
    "print(\"Recall (Test): {:.4f}\".format(recall_test))\n",
    "print(\"F1 score (Test): {:.4f}\".format(f1_test))"
   ]
  },
  {
   "cell_type": "code",
   "execution_count": 23,
   "id": "abd36aa0",
   "metadata": {
    "execution": {
     "iopub.execute_input": "2024-12-06T03:32:33.538975Z",
     "iopub.status.busy": "2024-12-06T03:32:33.538726Z",
     "iopub.status.idle": "2024-12-06T03:32:38.089051Z",
     "shell.execute_reply": "2024-12-06T03:32:38.088284Z"
    },
    "papermill": {
     "duration": 4.587073,
     "end_time": "2024-12-06T03:32:38.091695",
     "exception": false,
     "start_time": "2024-12-06T03:32:33.504622",
     "status": "completed"
    },
    "tags": []
   },
   "outputs": [],
   "source": [
    "# make predictions on the train data\n",
    "y_pred = stacking_clf.predict(X_train)"
   ]
  },
  {
   "cell_type": "code",
   "execution_count": 24,
   "id": "1d93ab4b",
   "metadata": {
    "execution": {
     "iopub.execute_input": "2024-12-06T03:32:38.163997Z",
     "iopub.status.busy": "2024-12-06T03:32:38.163707Z",
     "iopub.status.idle": "2024-12-06T03:32:38.436303Z",
     "shell.execute_reply": "2024-12-06T03:32:38.435468Z"
    },
    "papermill": {
     "duration": 0.309058,
     "end_time": "2024-12-06T03:32:38.438054",
     "exception": false,
     "start_time": "2024-12-06T03:32:38.128996",
     "status": "completed"
    },
    "tags": []
   },
   "outputs": [
    {
     "name": "stdout",
     "output_type": "stream",
     "text": [
      "Confusion matrix, without normalization\n"
     ]
    },
    {
     "data": {
      "image/png": "[encoded data removed]",
      "text/plain": [
       "<Figure size 500x500 with 2 Axes>"
      ]
     },
     "metadata": {},
     "output_type": "display_data"
    }
   ],
   "source": [
    "def plot_confusion_matrix(cm, classes,\n",
    "                          normalize=False,\n",
    "                          title='',\n",
    "                          cmap=plt.cm.Greens):\n",
    "    \"\"\"\n",
    "    This function prints and plots the confusion matrix.\n",
    "    Normalization can be applied by setting `normalize=True`.\n",
    "    \"\"\"\n",
    "    if normalize:\n",
    "        cm = cm.astype('float') / cm.sum(axis=1)[:, np.newaxis]\n",
    "        print(\"Normalized confusion matrix\")\n",
    "    else:\n",
    "        print('Confusion matrix, without normalization')\n",
    "\n",
    "    plt.imshow(cm, interpolation='nearest', cmap=cmap)\n",
    "    plt.title(title)\n",
    "    plt.colorbar()\n",
    "    tick_marks = np.arange(len(classes))\n",
    "    plt.xticks(tick_marks, classes, rotation=45,fontweight='bold')\n",
    "    plt.yticks(tick_marks, classes, fontweight='bold')\n",
    "\n",
    "    for i in range(cm.shape[0]):\n",
    "        for j in range(cm.shape[1]):\n",
    "            plt.text(j, i, format(cm[i, j], 'd'),\n",
    "                    ha=\"center\", va=\"center\", fontweight='bold',\n",
    "                    color=\"white\" if cm[i, j] > cm.max() / 2. else \"black\")\n",
    "\n",
    "    plt.tight_layout()\n",
    "    plt.ylabel('True label',fontweight='bold')\n",
    "    plt.xlabel('Predicted label',fontweight='bold')\n",
    "\n",
    "# Compute confusion matrix\n",
    "cnf_matrix = confusion_matrix(y_train, y_pred)\n",
    "np.set_printoptions(precision=2)\n",
    "\n",
    "# Plot non-normalized confusion matrix\n",
    "plt.figure(figsize=(5,5))\n",
    "plot_confusion_matrix(cnf_matrix, classes=['EB','H','LB']\n",
    "                      )\n",
    "plt.show()"
   ]
  },
  {
   "cell_type": "code",
   "execution_count": 25,
   "id": "04fff545",
   "metadata": {
    "execution": {
     "iopub.execute_input": "2024-12-06T03:32:38.508017Z",
     "iopub.status.busy": "2024-12-06T03:32:38.507746Z",
     "iopub.status.idle": "2024-12-06T03:32:38.519092Z",
     "shell.execute_reply": "2024-12-06T03:32:38.518228Z"
    },
    "papermill": {
     "duration": 0.047893,
     "end_time": "2024-12-06T03:32:38.520618",
     "exception": false,
     "start_time": "2024-12-06T03:32:38.472725",
     "status": "completed"
    },
    "tags": []
   },
   "outputs": [
    {
     "name": "stdout",
     "output_type": "stream",
     "text": [
      "Accuracy (Train): 99.9773\n",
      "Precision (Train): 99.9773\n",
      "Recall (Train): 99.9773\n",
      "F1 score (Train): 99.9773\n"
     ]
    }
   ],
   "source": [
    "accuracy_train = accuracy_score(y_train, y_pred)*100\n",
    "precision_train = precision_score(y_train, y_pred, average='macro')*100\n",
    "recall_train = recall_score(y_train, y_pred, average='macro')*100\n",
    "f1_train = f1_score(y_train, y_pred, average='macro')*100\n",
    "\n",
    "print(\"Accuracy (Train): {:.4f}\".format(accuracy_train))\n",
    "print(\"Precision (Train): {:.4f}\".format(precision_train))\n",
    "print(\"Recall (Train): {:.4f}\".format(recall_train))\n",
    "print(\"F1 score (Train): {:.4f}\".format(f1_train))"
   ]
  },
  {
   "cell_type": "code",
   "execution_count": 26,
   "id": "cd7687fd",
   "metadata": {
    "execution": {
     "iopub.execute_input": "2024-12-06T03:32:38.590459Z",
     "iopub.status.busy": "2024-12-06T03:32:38.590201Z",
     "iopub.status.idle": "2024-12-06T03:32:38.595160Z",
     "shell.execute_reply": "2024-12-06T03:32:38.594523Z"
    },
    "papermill": {
     "duration": 0.042051,
     "end_time": "2024-12-06T03:32:38.596707",
     "exception": false,
     "start_time": "2024-12-06T03:32:38.554656",
     "status": "completed"
    },
    "tags": []
   },
   "outputs": [],
   "source": [
    "model_name='EfficientNetV2B1'\n",
    "all_model.loc[len(all_model)] = [model_name, accuracy_train, precision_train, recall_train, f1_train, accuracy_test, precision_test, recall_test, f1_test, training_time, testing_time, memory_usage]"
   ]
  },
  {
   "cell_type": "code",
   "execution_count": 27,
   "id": "42b2ed5b",
   "metadata": {
    "execution": {
     "iopub.execute_input": "2024-12-06T03:32:38.665473Z",
     "iopub.status.busy": "2024-12-06T03:32:38.665218Z",
     "iopub.status.idle": "2024-12-06T03:32:38.677500Z",
     "shell.execute_reply": "2024-12-06T03:32:38.676770Z"
    },
    "papermill": {
     "duration": 0.048467,
     "end_time": "2024-12-06T03:32:38.679107",
     "exception": false,
     "start_time": "2024-12-06T03:32:38.630640",
     "status": "completed"
    },
    "tags": []
   },
   "outputs": [
    {
     "data": {
      "text/html": [
       "<div>\n",
       "<style scoped>\n",
       "    .dataframe tbody tr th:only-of-type {\n",
       "        vertical-align: middle;\n",
       "    }\n",
       "\n",
       "    .dataframe tbody tr th {\n",
       "        vertical-align: top;\n",
       "    }\n",
       "\n",
       "    .dataframe thead th {\n",
       "        text-align: right;\n",
       "    }\n",
       "</style>\n",
       "<table border=\"1\" class=\"dataframe\">\n",
       "  <thead>\n",
       "    <tr style=\"text-align: right;\">\n",
       "      <th></th>\n",
       "      <th>Model</th>\n",
       "      <th>Accuracy (Train)</th>\n",
       "      <th>Precision (Train)</th>\n",
       "      <th>Recall (Train)</th>\n",
       "      <th>F1 Score (Train)</th>\n",
       "      <th>Accuracy (Test)</th>\n",
       "      <th>Precision (Test)</th>\n",
       "      <th>Recall (Test)</th>\n",
       "      <th>F1 Score (Test)</th>\n",
       "      <th>Training Time (s)</th>\n",
       "      <th>Testing Time (s)</th>\n",
       "      <th>Memory (MB)</th>\n",
       "    </tr>\n",
       "  </thead>\n",
       "  <tbody>\n",
       "    <tr>\n",
       "      <th>0</th>\n",
       "      <td>EfficientNetV2B1</td>\n",
       "      <td>99.977262</td>\n",
       "      <td>99.977278</td>\n",
       "      <td>99.977262</td>\n",
       "      <td>99.977262</td>\n",
       "      <td>98.148148</td>\n",
       "      <td>98.162971</td>\n",
       "      <td>98.148148</td>\n",
       "      <td>98.149948</td>\n",
       "      <td>73.152944</td>\n",
       "      <td>0.591148</td>\n",
       "      <td>3634.703125</td>\n",
       "    </tr>\n",
       "  </tbody>\n",
       "</table>\n",
       "</div>"
      ],
      "text/plain": [
       "              Model  Accuracy (Train)  Precision (Train)  Recall (Train)  \\\n",
       "0  EfficientNetV2B1         99.977262          99.977278       99.977262   \n",
       "\n",
       "   F1 Score (Train)  Accuracy (Test)  Precision (Test)  Recall (Test)  \\\n",
       "0         99.977262        98.148148         98.162971      98.148148   \n",
       "\n",
       "   F1 Score (Test)  Training Time (s)  Testing Time (s)  Memory (MB)  \n",
       "0        98.149948          73.152944          0.591148  3634.703125  "
      ]
     },
     "execution_count": 27,
     "metadata": {},
     "output_type": "execute_result"
    }
   ],
   "source": [
    "all_model"
   ]
  }
 ],
 "metadata": {
  "kaggle": {
   "accelerator": "gpu",
   "dataSources": [
    {
     "datasetId": 1562973,
     "sourceId": 2574068,
     "sourceType": "datasetVersion"
    },
    {
     "datasetId": 6161628,
     "sourceId": 10008956,
     "sourceType": "datasetVersion"
    }
   ],
   "dockerImageVersionId": 30787,
   "isGpuEnabled": true,
   "isInternetEnabled": true,
   "language": "python",
   "sourceType": "notebook"
  },
  "kernelspec": {
   "display_name": "Python 3",
   "language": "python",
   "name": "python3"
  },
  "language_info": {
   "codemirror_mode": {
    "name": "ipython",
    "version": 3
   },
   "file_extension": ".py",
   "mimetype": "text/x-python",
   "name": "python",
   "nbconvert_exporter": "python",
   "pygments_lexer": "ipython3",
   "version": "3.10.14"
  },
  "papermill": {
   "default_parameters": {},
   "duration": 192.778849,
   "end_time": "2024-12-06T03:32:41.509943",
   "environment_variables": {},
   "exception": null,
   "input_path": "__notebook__.ipynb",
   "output_path": "__notebook__.ipynb",
   "parameters": {},
   "start_time": "2024-12-06T03:29:28.731094",
   "version": "2.6.0"
  }
 },
 "nbformat": 4,
 "nbformat_minor": 5
}
