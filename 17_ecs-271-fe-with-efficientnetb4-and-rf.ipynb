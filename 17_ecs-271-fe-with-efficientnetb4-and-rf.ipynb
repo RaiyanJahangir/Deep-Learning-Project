{
 "cells": [
  {
   "cell_type": "code",
   "execution_count": 1,
   "id": "c7a440ab",
   "metadata": {
    "_cell_guid": "b1076dfc-b9ad-4769-8c92-a6c4dae69d19",
    "_uuid": "8f2839f25d086af736a60e9eeb907d3b93b6e0e5",
    "execution": {
     "iopub.execute_input": "2024-12-06T19:39:56.636296Z",
     "iopub.status.busy": "2024-12-06T19:39:56.636015Z",
     "iopub.status.idle": "2024-12-06T19:39:56.643573Z",
     "shell.execute_reply": "2024-12-06T19:39:56.642782Z"
    },
    "papermill": {
     "duration": 0.015134,
     "end_time": "2024-12-06T19:39:56.645234",
     "exception": false,
     "start_time": "2024-12-06T19:39:56.630100",
     "status": "completed"
    },
    "tags": []
   },
   "outputs": [],
   "source": [
    "# This Python 3 environment comes with many helpful analytics libraries installed\n",
    "# It is defined by the kaggle/python Docker image: https://github.com/kaggle/docker-python\n",
    "# For example, here's several helpful packages to load\n",
    "\n",
    "import numpy as np # linear algebra\n",
    "import pandas as pd # data processing, CSV file I/O (e.g. pd.read_csv)\n",
    "\n",
    "# Input data files are available in the read-only \"../input/\" directory\n",
    "# For example, running this (by clicking run or pressing Shift+Enter) will list all files under the input directory\n",
    "\n",
    "# import os\n",
    "# for dirname, _, filenames in os.walk('/kaggle/input'):\n",
    "#     for filename in filenames:\n",
    "#         print(os.path.join(dirname, filename))\n",
    "\n",
    "# You can write up to 20GB to the current directory (/kaggle/working/) that gets preserved as output when you create a version using \"Save & Run All\" \n",
    "# You can also write temporary files to /kaggle/temp/, but they won't be saved outside of the current session"
   ]
  },
  {
   "cell_type": "code",
   "execution_count": 2,
   "id": "2488c8ae",
   "metadata": {
    "execution": {
     "iopub.execute_input": "2024-12-06T19:39:56.655261Z",
     "iopub.status.busy": "2024-12-06T19:39:56.655017Z",
     "iopub.status.idle": "2024-12-06T19:40:05.243041Z",
     "shell.execute_reply": "2024-12-06T19:40:05.242012Z"
    },
    "papermill": {
     "duration": 8.595443,
     "end_time": "2024-12-06T19:40:05.245242",
     "exception": false,
     "start_time": "2024-12-06T19:39:56.649799",
     "status": "completed"
    },
    "tags": []
   },
   "outputs": [
    {
     "name": "stderr",
     "output_type": "stream",
     "text": [
      "/opt/conda/lib/python3.10/site-packages/scipy/__init__.py:146: UserWarning: A NumPy version >=1.16.5 and <1.23.0 is required for this version of SciPy (detected version 1.23.5\n",
      "  warnings.warn(f\"A NumPy version >={np_minversion} and <{np_maxversion}\"\n",
      "/opt/conda/lib/python3.10/site-packages/tensorflow_io/python/ops/__init__.py:98: UserWarning: unable to load libtensorflow_io_plugins.so: unable to open file: libtensorflow_io_plugins.so, from paths: ['/opt/conda/lib/python3.10/site-packages/tensorflow_io/python/ops/libtensorflow_io_plugins.so']\n",
      "caused by: ['/opt/conda/lib/python3.10/site-packages/tensorflow_io/python/ops/libtensorflow_io_plugins.so: undefined symbol: _ZN3tsl6StatusC1EN10tensorflow5error4CodeESt17basic_string_viewIcSt11char_traitsIcEENS_14SourceLocationE']\n",
      "  warnings.warn(f\"unable to load libtensorflow_io_plugins.so: {e}\")\n",
      "/opt/conda/lib/python3.10/site-packages/tensorflow_io/python/ops/__init__.py:104: UserWarning: file system plugins are not loaded: unable to open file: libtensorflow_io.so, from paths: ['/opt/conda/lib/python3.10/site-packages/tensorflow_io/python/ops/libtensorflow_io.so']\n",
      "caused by: ['/opt/conda/lib/python3.10/site-packages/tensorflow_io/python/ops/libtensorflow_io.so: undefined symbol: _ZTVN10tensorflow13GcsFileSystemE']\n",
      "  warnings.warn(f\"file system plugins are not loaded: {e}\")\n"
     ]
    }
   ],
   "source": [
    "import matplotlib.pyplot as plt\n",
    "import numpy as np\n",
    "import pandas as pd\n",
    "import seaborn as sns\n",
    "import cv2\n",
    "import tensorflow as tf\n",
    "from tensorflow.keras.preprocessing.image import ImageDataGenerator\n",
    "from tqdm import tqdm\n",
    "import os\n",
    "from sklearn.utils import shuffle\n",
    "from sklearn.model_selection import train_test_split\n",
    "from tensorflow.keras.applications import EfficientNetB0, DenseNet201\n",
    "from tensorflow.keras.callbacks import EarlyStopping, ReduceLROnPlateau, TensorBoard, ModelCheckpoint\n",
    "from sklearn.metrics import classification_report,confusion_matrix\n",
    "import ipywidgets as widgets\n",
    "import io\n",
    "from PIL import Image\n",
    "from IPython.display import display,clear_output\n",
    "from warnings import filterwarnings\n",
    "from keras.models import Sequential\n",
    "from keras.layers import Dense, Flatten, Dropout\n",
    "import time\n",
    "import psutil\n",
    "from sklearn.metrics import accuracy_score, precision_score, recall_score, f1_score"
   ]
  },
  {
   "cell_type": "code",
   "execution_count": 3,
   "id": "b0177054",
   "metadata": {
    "execution": {
     "iopub.execute_input": "2024-12-06T19:40:05.257019Z",
     "iopub.status.busy": "2024-12-06T19:40:05.255741Z",
     "iopub.status.idle": "2024-12-06T19:40:05.260052Z",
     "shell.execute_reply": "2024-12-06T19:40:05.259393Z"
    },
    "papermill": {
     "duration": 0.011627,
     "end_time": "2024-12-06T19:40:05.261759",
     "exception": false,
     "start_time": "2024-12-06T19:40:05.250132",
     "status": "completed"
    },
    "tags": []
   },
   "outputs": [],
   "source": [
    "labels = ['Early_Blight','Healthy','Late_Blight']"
   ]
  },
  {
   "cell_type": "code",
   "execution_count": 4,
   "id": "605ad9e1",
   "metadata": {
    "execution": {
     "iopub.execute_input": "2024-12-06T19:40:05.272988Z",
     "iopub.status.busy": "2024-12-06T19:40:05.272703Z",
     "iopub.status.idle": "2024-12-06T19:40:42.823050Z",
     "shell.execute_reply": "2024-12-06T19:40:42.822346Z"
    },
    "papermill": {
     "duration": 37.558582,
     "end_time": "2024-12-06T19:40:42.825149",
     "exception": false,
     "start_time": "2024-12-06T19:40:05.266567",
     "status": "completed"
    },
    "tags": []
   },
   "outputs": [
    {
     "name": "stderr",
     "output_type": "stream",
     "text": [
      "100%|██████████| 1303/1303 [00:10<00:00, 127.61it/s]\n",
      "100%|██████████| 1303/1303 [00:09<00:00, 133.25it/s]\n",
      "100%|██████████| 1303/1303 [00:09<00:00, 134.34it/s]\n",
      "100%|██████████| 162/162 [00:01<00:00, 132.09it/s]\n",
      "100%|██████████| 162/162 [00:01<00:00, 140.71it/s]\n",
      "100%|██████████| 162/162 [00:01<00:00, 139.91it/s]\n",
      "100%|██████████| 163/163 [00:01<00:00, 136.03it/s]\n",
      "100%|██████████| 163/163 [00:01<00:00, 136.83it/s]\n",
      "100%|██████████| 163/163 [00:01<00:00, 137.09it/s]\n"
     ]
    }
   ],
   "source": [
    "X_train = []\n",
    "y_train = []\n",
    "X_test = []\n",
    "y_test = []\n",
    "image_size = 380\n",
    "for i in labels:\n",
    "    folderPath = os.path.join('/kaggle/input/balanced-data/balanced_data','Training',i)\n",
    "    for j in tqdm(os.listdir(folderPath)):\n",
    "        img = cv2.imread(os.path.join(folderPath,j))\n",
    "        img = cv2.resize(img,(image_size, image_size))\n",
    "        X_train.append(img)\n",
    "        y_train.append(i)\n",
    "        \n",
    "for i in labels:\n",
    "    folderPath = os.path.join('/kaggle/input/balanced-data/balanced_data','Testing',i)\n",
    "    for j in tqdm(os.listdir(folderPath)):\n",
    "        img = cv2.imread(os.path.join(folderPath,j))\n",
    "        img = cv2.resize(img,(image_size,image_size))\n",
    "        X_test.append(img)\n",
    "        y_test.append(i)\n",
    "        \n",
    "for i in labels:\n",
    "    folderPath = os.path.join('/kaggle/input/balanced-data/balanced_data','Validation',i)\n",
    "    for j in tqdm(os.listdir(folderPath)):\n",
    "        img = cv2.imread(os.path.join(folderPath,j))\n",
    "        img = cv2.resize(img,(image_size,image_size))\n",
    "        X_train.append(img)\n",
    "        y_train.append(i)\n",
    "        \n",
    "X_train = np.array(X_train)\n",
    "y_train = np.array(y_train)\n",
    "X_test = np.array(X_test)\n",
    "y_test = np.array(y_test)"
   ]
  },
  {
   "cell_type": "code",
   "execution_count": 5,
   "id": "2b06cc3f",
   "metadata": {
    "execution": {
     "iopub.execute_input": "2024-12-06T19:40:42.865469Z",
     "iopub.status.busy": "2024-12-06T19:40:42.865176Z",
     "iopub.status.idle": "2024-12-06T19:40:42.870118Z",
     "shell.execute_reply": "2024-12-06T19:40:42.869110Z"
    },
    "papermill": {
     "duration": 0.026922,
     "end_time": "2024-12-06T19:40:42.871831",
     "exception": false,
     "start_time": "2024-12-06T19:40:42.844909",
     "status": "completed"
    },
    "tags": []
   },
   "outputs": [
    {
     "name": "stdout",
     "output_type": "stream",
     "text": [
      "(4398, 380, 380, 3)\n",
      "(4398,)\n",
      "(486, 380, 380, 3)\n",
      "(486,)\n"
     ]
    }
   ],
   "source": [
    "print(X_train.shape)\n",
    "print(y_train.shape)\n",
    "print(X_test.shape)\n",
    "print(y_test.shape)"
   ]
  },
  {
   "cell_type": "code",
   "execution_count": 6,
   "id": "67f37827",
   "metadata": {
    "execution": {
     "iopub.execute_input": "2024-12-06T19:40:42.910334Z",
     "iopub.status.busy": "2024-12-06T19:40:42.910058Z",
     "iopub.status.idle": "2024-12-06T19:40:42.915730Z",
     "shell.execute_reply": "2024-12-06T19:40:42.915070Z"
    },
    "papermill": {
     "duration": 0.026781,
     "end_time": "2024-12-06T19:40:42.917276",
     "exception": false,
     "start_time": "2024-12-06T19:40:42.890495",
     "status": "completed"
    },
    "tags": []
   },
   "outputs": [
    {
     "name": "stdout",
     "output_type": "stream",
     "text": [
      "['Early_Blight' 'Healthy' 'Late_Blight']\n",
      "['Early_Blight' 'Healthy' 'Late_Blight']\n"
     ]
    }
   ],
   "source": [
    "print(np.unique(y_test))\n",
    "print(np.unique(y_train))"
   ]
  },
  {
   "cell_type": "code",
   "execution_count": 7,
   "id": "f5c9adc4",
   "metadata": {
    "execution": {
     "iopub.execute_input": "2024-12-06T19:40:42.956037Z",
     "iopub.status.busy": "2024-12-06T19:40:42.955808Z",
     "iopub.status.idle": "2024-12-06T19:40:42.962814Z",
     "shell.execute_reply": "2024-12-06T19:40:42.962176Z"
    },
    "papermill": {
     "duration": 0.028087,
     "end_time": "2024-12-06T19:40:42.964286",
     "exception": false,
     "start_time": "2024-12-06T19:40:42.936199",
     "status": "completed"
    },
    "tags": []
   },
   "outputs": [],
   "source": [
    "y_train_new = []\n",
    "for i in y_train:\n",
    "    y_train_new.append(labels.index(i))\n",
    "y_train = y_train_new\n",
    "y_train = tf.keras.utils.to_categorical(y_train)\n",
    "\n",
    "\n",
    "y_test_new = []\n",
    "for i in y_test:\n",
    "    y_test_new.append(labels.index(i))\n",
    "y_test = y_test_new\n",
    "y_test = tf.keras.utils.to_categorical(y_test)"
   ]
  },
  {
   "cell_type": "code",
   "execution_count": 8,
   "id": "fe80fd9c",
   "metadata": {
    "execution": {
     "iopub.execute_input": "2024-12-06T19:40:43.003227Z",
     "iopub.status.busy": "2024-12-06T19:40:43.002959Z",
     "iopub.status.idle": "2024-12-06T19:40:43.013204Z",
     "shell.execute_reply": "2024-12-06T19:40:43.012575Z"
    },
    "papermill": {
     "duration": 0.031517,
     "end_time": "2024-12-06T19:40:43.014821",
     "exception": false,
     "start_time": "2024-12-06T19:40:42.983304",
     "status": "completed"
    },
    "tags": []
   },
   "outputs": [],
   "source": [
    "all_model = pd.DataFrame(columns=['Model', 'Accuracy (Train)', 'Precision (Train)', 'Recall (Train)', 'F1 Score (Train)', 'Accuracy (Test)', 'Precision (Test)', 'Recall (Test)', 'F1 Score (Test)', 'Training Time (s)', 'Testing Time (s)','Memory (MB)'])"
   ]
  },
  {
   "cell_type": "code",
   "execution_count": 9,
   "id": "3486511e",
   "metadata": {
    "execution": {
     "iopub.execute_input": "2024-12-06T19:40:43.054627Z",
     "iopub.status.busy": "2024-12-06T19:40:43.054313Z",
     "iopub.status.idle": "2024-12-06T19:40:43.067400Z",
     "shell.execute_reply": "2024-12-06T19:40:43.066571Z"
    },
    "papermill": {
     "duration": 0.035149,
     "end_time": "2024-12-06T19:40:43.068991",
     "exception": false,
     "start_time": "2024-12-06T19:40:43.033842",
     "status": "completed"
    },
    "tags": []
   },
   "outputs": [
    {
     "data": {
      "text/html": [
       "<div>\n",
       "<style scoped>\n",
       "    .dataframe tbody tr th:only-of-type {\n",
       "        vertical-align: middle;\n",
       "    }\n",
       "\n",
       "    .dataframe tbody tr th {\n",
       "        vertical-align: top;\n",
       "    }\n",
       "\n",
       "    .dataframe thead th {\n",
       "        text-align: right;\n",
       "    }\n",
       "</style>\n",
       "<table border=\"1\" class=\"dataframe\">\n",
       "  <thead>\n",
       "    <tr style=\"text-align: right;\">\n",
       "      <th></th>\n",
       "      <th>Model</th>\n",
       "      <th>Accuracy (Train)</th>\n",
       "      <th>Precision (Train)</th>\n",
       "      <th>Recall (Train)</th>\n",
       "      <th>F1 Score (Train)</th>\n",
       "      <th>Accuracy (Test)</th>\n",
       "      <th>Precision (Test)</th>\n",
       "      <th>Recall (Test)</th>\n",
       "      <th>F1 Score (Test)</th>\n",
       "      <th>Training Time (s)</th>\n",
       "      <th>Testing Time (s)</th>\n",
       "      <th>Memory (MB)</th>\n",
       "    </tr>\n",
       "  </thead>\n",
       "  <tbody>\n",
       "  </tbody>\n",
       "</table>\n",
       "</div>"
      ],
      "text/plain": [
       "Empty DataFrame\n",
       "Columns: [Model, Accuracy (Train), Precision (Train), Recall (Train), F1 Score (Train), Accuracy (Test), Precision (Test), Recall (Test), F1 Score (Test), Training Time (s), Testing Time (s), Memory (MB)]\n",
       "Index: []"
      ]
     },
     "execution_count": 9,
     "metadata": {},
     "output_type": "execute_result"
    }
   ],
   "source": [
    "all_model"
   ]
  },
  {
   "cell_type": "markdown",
   "id": "0a22c354",
   "metadata": {
    "papermill": {
     "duration": 0.018981,
     "end_time": "2024-12-06T19:40:43.107778",
     "exception": false,
     "start_time": "2024-12-06T19:40:43.088797",
     "status": "completed"
    },
    "tags": []
   },
   "source": [
    "**Feature Extraction from MobileNetV3Large**"
   ]
  },
  {
   "cell_type": "code",
   "execution_count": 10,
   "id": "eb561f3d",
   "metadata": {
    "execution": {
     "iopub.execute_input": "2024-12-06T19:40:43.147611Z",
     "iopub.status.busy": "2024-12-06T19:40:43.147287Z",
     "iopub.status.idle": "2024-12-06T19:40:52.447444Z",
     "shell.execute_reply": "2024-12-06T19:40:52.446720Z"
    },
    "papermill": {
     "duration": 9.322464,
     "end_time": "2024-12-06T19:40:52.449392",
     "exception": false,
     "start_time": "2024-12-06T19:40:43.126928",
     "status": "completed"
    },
    "tags": []
   },
   "outputs": [
    {
     "name": "stdout",
     "output_type": "stream",
     "text": [
      "Downloading data from https://storage.googleapis.com/keras-applications/efficientnetb4_notop.h5\n",
      "71686520/71686520 [==============================] - 4s 0us/step\n"
     ]
    }
   ],
   "source": [
    "# Define the base model for feature extraction\n",
    "model = tf.keras.applications.EfficientNetB4(\n",
    "    include_top=False,  # Exclude fully connected layers\n",
    "    weights=\"imagenet\",  # Pretrained weights from ImageNet\n",
    "    input_shape=(image_size, image_size, 3),  # Input image size\n",
    "    pooling=\"avg\"  # Global average pooling layer to get feature vector\n",
    ")\n",
    "\n",
    "# Freeze the base model to prevent updates during feature extraction\n",
    "model.trainable = False\n"
   ]
  },
  {
   "cell_type": "code",
   "execution_count": 11,
   "id": "d494cee7",
   "metadata": {
    "execution": {
     "iopub.execute_input": "2024-12-06T19:40:52.495866Z",
     "iopub.status.busy": "2024-12-06T19:40:52.495585Z",
     "iopub.status.idle": "2024-12-06T19:41:32.948006Z",
     "shell.execute_reply": "2024-12-06T19:41:32.947303Z"
    },
    "papermill": {
     "duration": 40.477627,
     "end_time": "2024-12-06T19:41:32.950193",
     "exception": false,
     "start_time": "2024-12-06T19:40:52.472566",
     "status": "completed"
    },
    "tags": []
   },
   "outputs": [
    {
     "name": "stdout",
     "output_type": "stream",
     "text": [
      "138/138 [==============================] - 36s 218ms/step\n"
     ]
    }
   ],
   "source": [
    "# Use the base model to extract features\n",
    "X_train = model.predict(X_train, batch_size=32, verbose=1)"
   ]
  },
  {
   "cell_type": "code",
   "execution_count": 12,
   "id": "0f78f2e1",
   "metadata": {
    "execution": {
     "iopub.execute_input": "2024-12-06T19:41:33.007330Z",
     "iopub.status.busy": "2024-12-06T19:41:33.006742Z",
     "iopub.status.idle": "2024-12-06T19:41:33.011308Z",
     "shell.execute_reply": "2024-12-06T19:41:33.010463Z"
    },
    "papermill": {
     "duration": 0.034587,
     "end_time": "2024-12-06T19:41:33.013010",
     "exception": false,
     "start_time": "2024-12-06T19:41:32.978423",
     "status": "completed"
    },
    "tags": []
   },
   "outputs": [],
   "source": [
    "# If labels are one-hot encoded, convert to class indices\n",
    "if y_train.shape[-1] > 1:\n",
    "    y_train = np.argmax(y_train, axis=1)"
   ]
  },
  {
   "cell_type": "code",
   "execution_count": 13,
   "id": "72e8671d",
   "metadata": {
    "execution": {
     "iopub.execute_input": "2024-12-06T19:41:33.069884Z",
     "iopub.status.busy": "2024-12-06T19:41:33.069091Z",
     "iopub.status.idle": "2024-12-06T19:41:33.073999Z",
     "shell.execute_reply": "2024-12-06T19:41:33.072990Z"
    },
    "papermill": {
     "duration": 0.035349,
     "end_time": "2024-12-06T19:41:33.075743",
     "exception": false,
     "start_time": "2024-12-06T19:41:33.040394",
     "status": "completed"
    },
    "tags": []
   },
   "outputs": [
    {
     "name": "stdout",
     "output_type": "stream",
     "text": [
      "Extracted features shape: (4398, 1792)\n",
      "Labels shape: (4398,)\n"
     ]
    }
   ],
   "source": [
    "# X_train now contains the extracted features, and y_train contains the labels\n",
    "print(\"Extracted features shape:\", X_train.shape)\n",
    "print(\"Labels shape:\", y_train.shape)"
   ]
  },
  {
   "cell_type": "code",
   "execution_count": 14,
   "id": "0616ed31",
   "metadata": {
    "execution": {
     "iopub.execute_input": "2024-12-06T19:41:33.132238Z",
     "iopub.status.busy": "2024-12-06T19:41:33.131625Z",
     "iopub.status.idle": "2024-12-06T19:41:37.099601Z",
     "shell.execute_reply": "2024-12-06T19:41:37.098919Z"
    },
    "papermill": {
     "duration": 3.998025,
     "end_time": "2024-12-06T19:41:37.101383",
     "exception": false,
     "start_time": "2024-12-06T19:41:33.103358",
     "status": "completed"
    },
    "tags": []
   },
   "outputs": [
    {
     "name": "stdout",
     "output_type": "stream",
     "text": [
      "16/16 [==============================] - 4s 252ms/step\n"
     ]
    }
   ],
   "source": [
    "# Use the base model to extract features from test data\n",
    "X_test = model.predict(X_test, batch_size=32, verbose=1)"
   ]
  },
  {
   "cell_type": "code",
   "execution_count": 15,
   "id": "6e3a7b7a",
   "metadata": {
    "execution": {
     "iopub.execute_input": "2024-12-06T19:41:37.159489Z",
     "iopub.status.busy": "2024-12-06T19:41:37.158904Z",
     "iopub.status.idle": "2024-12-06T19:41:37.162960Z",
     "shell.execute_reply": "2024-12-06T19:41:37.162235Z"
    },
    "papermill": {
     "duration": 0.03435,
     "end_time": "2024-12-06T19:41:37.164521",
     "exception": false,
     "start_time": "2024-12-06T19:41:37.130171",
     "status": "completed"
    },
    "tags": []
   },
   "outputs": [],
   "source": [
    "# If labels are one-hot encoded, convert to class indices\n",
    "if y_test.shape[-1] > 1:\n",
    "    y_test = np.argmax(y_test, axis=1)"
   ]
  },
  {
   "cell_type": "code",
   "execution_count": 16,
   "id": "6de57a89",
   "metadata": {
    "execution": {
     "iopub.execute_input": "2024-12-06T19:41:37.221644Z",
     "iopub.status.busy": "2024-12-06T19:41:37.221407Z",
     "iopub.status.idle": "2024-12-06T19:41:37.225538Z",
     "shell.execute_reply": "2024-12-06T19:41:37.224688Z"
    },
    "papermill": {
     "duration": 0.034684,
     "end_time": "2024-12-06T19:41:37.227198",
     "exception": false,
     "start_time": "2024-12-06T19:41:37.192514",
     "status": "completed"
    },
    "tags": []
   },
   "outputs": [
    {
     "name": "stdout",
     "output_type": "stream",
     "text": [
      "Extracted features shape: (486, 1792)\n",
      "Labels shape: (486,)\n"
     ]
    }
   ],
   "source": [
    "# X_test now contains the extracted features, and y_test contains the labels\n",
    "print(\"Extracted features shape:\", X_test.shape)\n",
    "print(\"Labels shape:\", y_test.shape)"
   ]
  },
  {
   "cell_type": "code",
   "execution_count": 17,
   "id": "2e641665",
   "metadata": {
    "execution": {
     "iopub.execute_input": "2024-12-06T19:41:37.285146Z",
     "iopub.status.busy": "2024-12-06T19:41:37.284564Z",
     "iopub.status.idle": "2024-12-06T19:41:37.591142Z",
     "shell.execute_reply": "2024-12-06T19:41:37.590107Z"
    },
    "papermill": {
     "duration": 0.338372,
     "end_time": "2024-12-06T19:41:37.593927",
     "exception": false,
     "start_time": "2024-12-06T19:41:37.255555",
     "status": "completed"
    },
    "tags": []
   },
   "outputs": [],
   "source": [
    "from sklearn.ensemble import StackingClassifier\n",
    "from sklearn.ensemble import RandomForestClassifier\n",
    "from sklearn.svm import SVC\n",
    "from sklearn.neighbors import KNeighborsClassifier\n",
    "from sklearn.linear_model import LogisticRegression\n",
    "from sklearn.neural_network import MLPClassifier\n",
    "from sklearn.tree import DecisionTreeClassifier\n",
    "from sklearn.naive_bayes import GaussianNB\n",
    "from sklearn.model_selection import train_test_split\n",
    "from sklearn.metrics import accuracy_score\n",
    "\n",
    "# Define the Level 0 classifiers\n",
    "level_0_estimators = [\n",
    "    ('svm', SVC(kernel='rbf',C=1.0,gamma='scale',decision_function_shape='ovr')),\n",
    "    ('knn', KNeighborsClassifier()),\n",
    "    ('logistic', LogisticRegression(multi_class='multinomial',solver='lbfgs',C=1.0,max_iter=1000,random_state=42 )),\n",
    "    ('mlp', MLPClassifier(random_state=42)),\n",
    "    ('decision_tree', DecisionTreeClassifier(criterion='gini',max_depth=20,min_samples_split=5,min_samples_leaf=3,max_features='sqrt',random_state=42)),\n",
    "    ('naive_bayes', GaussianNB(var_smoothing=1e-8))\n",
    "]\n",
    "\n",
    "# Define the Level 1 classifier (meta-classifier)\n",
    "level_1_meta_classifier = RandomForestClassifier(n_estimators=300,           \n",
    "    criterion='gini',           \n",
    "    max_depth=20,               \n",
    "    min_samples_split=5,        \n",
    "    min_samples_leaf=3,         \n",
    "    max_features='sqrt',        \n",
    "    bootstrap=True,             \n",
    "    oob_score=True,             \n",
    "    random_state=42\n",
    ")\n",
    "\n",
    "# Create the Stacking Classifier\n",
    "stacking_clf = StackingClassifier(\n",
    "    estimators=level_0_estimators,\n",
    "    final_estimator=level_1_meta_classifier,\n",
    "    cv=5\n",
    ")"
   ]
  },
  {
   "cell_type": "code",
   "execution_count": 18,
   "id": "c0e8bb9a",
   "metadata": {
    "execution": {
     "iopub.execute_input": "2024-12-06T19:41:37.677056Z",
     "iopub.status.busy": "2024-12-06T19:41:37.676736Z",
     "iopub.status.idle": "2024-12-06T19:43:19.371225Z",
     "shell.execute_reply": "2024-12-06T19:43:19.370327Z"
    },
    "papermill": {
     "duration": 101.767195,
     "end_time": "2024-12-06T19:43:19.401873",
     "exception": false,
     "start_time": "2024-12-06T19:41:37.634678",
     "status": "completed"
    },
    "tags": []
   },
   "outputs": [
    {
     "name": "stdout",
     "output_type": "stream",
     "text": [
      "Training Time: 101.69 seconds\n",
      "Memory Usage: 3737.42 MB\n"
     ]
    }
   ],
   "source": [
    "import time\n",
    "\n",
    "# Start timer\n",
    "start_time = time.time()\n",
    "\n",
    "# Train the stacking classifier\n",
    "stacking_clf.fit(X_train, y_train)\n",
    "\n",
    "# Measure training time\n",
    "training_time = time.time() - start_time\n",
    "print(f\"Training Time: {training_time:.2f} seconds\")\n",
    "\n",
    "# Evaluate memory usage (optional, requires `psutil` library)\n",
    "import psutil\n",
    "memory_usage = psutil.Process().memory_info().rss / 1024 / 1024\n",
    "print(f\"Memory Usage: {memory_usage:.2f} MB\")"
   ]
  },
  {
   "cell_type": "code",
   "execution_count": 19,
   "id": "32e16b2e",
   "metadata": {
    "execution": {
     "iopub.execute_input": "2024-12-06T19:43:19.459205Z",
     "iopub.status.busy": "2024-12-06T19:43:19.458911Z",
     "iopub.status.idle": "2024-12-06T19:43:20.431328Z",
     "shell.execute_reply": "2024-12-06T19:43:20.430156Z"
    },
    "papermill": {
     "duration": 1.00486,
     "end_time": "2024-12-06T19:43:20.434720",
     "exception": false,
     "start_time": "2024-12-06T19:43:19.429860",
     "status": "completed"
    },
    "tags": []
   },
   "outputs": [],
   "source": [
    "# make predictions on the test data\n",
    "start_time = time.time()\n",
    "y_pred = stacking_clf.predict(X_test)\n",
    "testing_time = time.time() - start_time"
   ]
  },
  {
   "cell_type": "code",
   "execution_count": 20,
   "id": "81e31fa1",
   "metadata": {
    "execution": {
     "iopub.execute_input": "2024-12-06T19:43:20.534909Z",
     "iopub.status.busy": "2024-12-06T19:43:20.534653Z",
     "iopub.status.idle": "2024-12-06T19:43:20.762656Z",
     "shell.execute_reply": "2024-12-06T19:43:20.761553Z"
    },
    "papermill": {
     "duration": 0.259938,
     "end_time": "2024-12-06T19:43:20.765614",
     "exception": false,
     "start_time": "2024-12-06T19:43:20.505676",
     "status": "completed"
    },
    "tags": []
   },
   "outputs": [
    {
     "name": "stdout",
     "output_type": "stream",
     "text": [
      "Confusion matrix, without normalization\n"
     ]
    },
    {
     "data": {
      "image/png": "[encoded data removed]",
      "text/plain": [
       "<Figure size 500x500 with 2 Axes>"
      ]
     },
     "metadata": {},
     "output_type": "display_data"
    }
   ],
   "source": [
    "import itertools\n",
    "def plot_confusion_matrix(cm, classes,\n",
    "                          normalize=False,\n",
    "                          title='',\n",
    "                          cmap=plt.cm.Greens):\n",
    "    \"\"\"\n",
    "    This function prints and plots the confusion matrix.\n",
    "    Normalization can be applied by setting `normalize=True`.\n",
    "    \"\"\"\n",
    "    if normalize:\n",
    "        cm = cm.astype('float') / cm.sum(axis=1)[:, np.newaxis]\n",
    "        print(\"Normalized confusion matrix\")\n",
    "    else:\n",
    "        print('Confusion matrix, without normalization')\n",
    "\n",
    "    plt.imshow(cm, interpolation='nearest', cmap=cmap)\n",
    "    plt.title(title)\n",
    "    plt.colorbar()\n",
    "    tick_marks = np.arange(len(classes))\n",
    "    plt.xticks(tick_marks, classes, rotation=45,fontweight='bold')\n",
    "    plt.yticks(tick_marks, classes, fontweight='bold')\n",
    "\n",
    "    for i in range(cm.shape[0]):\n",
    "        for j in range(cm.shape[1]):\n",
    "            plt.text(j, i, format(cm[i, j], 'd'),\n",
    "                    ha=\"center\", va=\"center\", fontweight='bold',\n",
    "                    color=\"white\" if cm[i, j] > cm.max() / 2. else \"black\")\n",
    "\n",
    "    plt.tight_layout()\n",
    "    plt.ylabel('True label',fontweight='bold')\n",
    "    plt.xlabel('Predicted label',fontweight='bold')\n",
    "\n",
    "# Compute confusion matrix\n",
    "cnf_matrix = confusion_matrix(y_test, y_pred)\n",
    "np.set_printoptions(precision=2)\n",
    "\n",
    "# Plot non-normalized confusion matrix\n",
    "plt.figure(figsize=(5,5))\n",
    "plot_confusion_matrix(cnf_matrix, classes=['EB','H','LB']\n",
    "                      )\n",
    "plt.show()"
   ]
  },
  {
   "cell_type": "code",
   "execution_count": 21,
   "id": "3203edaa",
   "metadata": {
    "execution": {
     "iopub.execute_input": "2024-12-06T19:43:20.824426Z",
     "iopub.status.busy": "2024-12-06T19:43:20.824158Z",
     "iopub.status.idle": "2024-12-06T19:43:20.829236Z",
     "shell.execute_reply": "2024-12-06T19:43:20.828312Z"
    },
    "papermill": {
     "duration": 0.035988,
     "end_time": "2024-12-06T19:43:20.830789",
     "exception": false,
     "start_time": "2024-12-06T19:43:20.794801",
     "status": "completed"
    },
    "tags": []
   },
   "outputs": [
    {
     "data": {
      "text/plain": [
       "(486,)"
      ]
     },
     "execution_count": 21,
     "metadata": {},
     "output_type": "execute_result"
    }
   ],
   "source": [
    "y_pred.shape"
   ]
  },
  {
   "cell_type": "code",
   "execution_count": 22,
   "id": "16f3fc93",
   "metadata": {
    "execution": {
     "iopub.execute_input": "2024-12-06T19:43:20.888306Z",
     "iopub.status.busy": "2024-12-06T19:43:20.888027Z",
     "iopub.status.idle": "2024-12-06T19:43:20.898562Z",
     "shell.execute_reply": "2024-12-06T19:43:20.897824Z"
    },
    "papermill": {
     "duration": 0.040961,
     "end_time": "2024-12-06T19:43:20.899994",
     "exception": false,
     "start_time": "2024-12-06T19:43:20.859033",
     "status": "completed"
    },
    "tags": []
   },
   "outputs": [
    {
     "name": "stdout",
     "output_type": "stream",
     "text": [
      "Accuracy (Test): 97.9424\n",
      "Precision (Test): 97.9657\n",
      "Recall (Test): 97.9424\n",
      "F1 score (Test): 97.9408\n"
     ]
    }
   ],
   "source": [
    "accuracy_test = accuracy_score(y_test, y_pred)*100\n",
    "precision_test = precision_score(y_test, y_pred, average='macro')*100\n",
    "recall_test = recall_score(y_test, y_pred, average='macro')*100\n",
    "f1_test = f1_score(y_test, y_pred, average='macro')*100\n",
    "\n",
    "print(\"Accuracy (Test): {:.4f}\".format(accuracy_test))\n",
    "print(\"Precision (Test): {:.4f}\".format(precision_test))\n",
    "print(\"Recall (Test): {:.4f}\".format(recall_test))\n",
    "print(\"F1 score (Test): {:.4f}\".format(f1_test))"
   ]
  },
  {
   "cell_type": "code",
   "execution_count": 23,
   "id": "4f07cfd3",
   "metadata": {
    "execution": {
     "iopub.execute_input": "2024-12-06T19:43:20.958464Z",
     "iopub.status.busy": "2024-12-06T19:43:20.957862Z",
     "iopub.status.idle": "2024-12-06T19:43:29.076331Z",
     "shell.execute_reply": "2024-12-06T19:43:29.075368Z"
    },
    "papermill": {
     "duration": 8.149879,
     "end_time": "2024-12-06T19:43:29.078378",
     "exception": false,
     "start_time": "2024-12-06T19:43:20.928499",
     "status": "completed"
    },
    "tags": []
   },
   "outputs": [],
   "source": [
    "# make predictions on the train data\n",
    "y_pred = stacking_clf.predict(X_train)"
   ]
  },
  {
   "cell_type": "code",
   "execution_count": 24,
   "id": "2f9e7f8c",
   "metadata": {
    "execution": {
     "iopub.execute_input": "2024-12-06T19:43:29.139027Z",
     "iopub.status.busy": "2024-12-06T19:43:29.138229Z",
     "iopub.status.idle": "2024-12-06T19:43:29.419600Z",
     "shell.execute_reply": "2024-12-06T19:43:29.418805Z"
    },
    "papermill": {
     "duration": 0.313258,
     "end_time": "2024-12-06T19:43:29.421208",
     "exception": false,
     "start_time": "2024-12-06T19:43:29.107950",
     "status": "completed"
    },
    "tags": []
   },
   "outputs": [
    {
     "name": "stdout",
     "output_type": "stream",
     "text": [
      "Confusion matrix, without normalization\n"
     ]
    },
    {
     "data": {
      "image/png": "[encoded data removed]",
      "text/plain": [
       "<Figure size 500x500 with 2 Axes>"
      ]
     },
     "metadata": {},
     "output_type": "display_data"
    }
   ],
   "source": [
    "def plot_confusion_matrix(cm, classes,\n",
    "                          normalize=False,\n",
    "                          title='',\n",
    "                          cmap=plt.cm.Greens):\n",
    "    \"\"\"\n",
    "    This function prints and plots the confusion matrix.\n",
    "    Normalization can be applied by setting `normalize=True`.\n",
    "    \"\"\"\n",
    "    if normalize:\n",
    "        cm = cm.astype('float') / cm.sum(axis=1)[:, np.newaxis]\n",
    "        print(\"Normalized confusion matrix\")\n",
    "    else:\n",
    "        print('Confusion matrix, without normalization')\n",
    "\n",
    "    plt.imshow(cm, interpolation='nearest', cmap=cmap)\n",
    "    plt.title(title)\n",
    "    plt.colorbar()\n",
    "    tick_marks = np.arange(len(classes))\n",
    "    plt.xticks(tick_marks, classes, rotation=45,fontweight='bold')\n",
    "    plt.yticks(tick_marks, classes, fontweight='bold')\n",
    "\n",
    "    for i in range(cm.shape[0]):\n",
    "        for j in range(cm.shape[1]):\n",
    "            plt.text(j, i, format(cm[i, j], 'd'),\n",
    "                    ha=\"center\", va=\"center\", fontweight='bold',\n",
    "                    color=\"white\" if cm[i, j] > cm.max() / 2. else \"black\")\n",
    "\n",
    "    plt.tight_layout()\n",
    "    plt.ylabel('True label',fontweight='bold')\n",
    "    plt.xlabel('Predicted label',fontweight='bold')\n",
    "\n",
    "# Compute confusion matrix\n",
    "cnf_matrix = confusion_matrix(y_train, y_pred)\n",
    "np.set_printoptions(precision=2)\n",
    "\n",
    "# Plot non-normalized confusion matrix\n",
    "plt.figure(figsize=(5,5))\n",
    "plot_confusion_matrix(cnf_matrix, classes=['EB','H','LB']\n",
    "                      )\n",
    "plt.show()"
   ]
  },
  {
   "cell_type": "code",
   "execution_count": 25,
   "id": "eea79664",
   "metadata": {
    "execution": {
     "iopub.execute_input": "2024-12-06T19:43:29.480492Z",
     "iopub.status.busy": "2024-12-06T19:43:29.479924Z",
     "iopub.status.idle": "2024-12-06T19:43:29.491693Z",
     "shell.execute_reply": "2024-12-06T19:43:29.490933Z"
    },
    "papermill": {
     "duration": 0.043058,
     "end_time": "2024-12-06T19:43:29.493385",
     "exception": false,
     "start_time": "2024-12-06T19:43:29.450327",
     "status": "completed"
    },
    "tags": []
   },
   "outputs": [
    {
     "name": "stdout",
     "output_type": "stream",
     "text": [
      "Accuracy (Train): 99.9545\n",
      "Precision (Train): 99.9546\n",
      "Recall (Train): 99.9545\n",
      "F1 score (Train): 99.9545\n"
     ]
    }
   ],
   "source": [
    "accuracy_train = accuracy_score(y_train, y_pred)*100\n",
    "precision_train = precision_score(y_train, y_pred, average='macro')*100\n",
    "recall_train = recall_score(y_train, y_pred, average='macro')*100\n",
    "f1_train = f1_score(y_train, y_pred, average='macro')*100\n",
    "\n",
    "print(\"Accuracy (Train): {:.4f}\".format(accuracy_train))\n",
    "print(\"Precision (Train): {:.4f}\".format(precision_train))\n",
    "print(\"Recall (Train): {:.4f}\".format(recall_train))\n",
    "print(\"F1 score (Train): {:.4f}\".format(f1_train))"
   ]
  },
  {
   "cell_type": "code",
   "execution_count": 26,
   "id": "28c5d9b7",
   "metadata": {
    "execution": {
     "iopub.execute_input": "2024-12-06T19:43:29.553718Z",
     "iopub.status.busy": "2024-12-06T19:43:29.553444Z",
     "iopub.status.idle": "2024-12-06T19:43:29.560238Z",
     "shell.execute_reply": "2024-12-06T19:43:29.559379Z"
    },
    "papermill": {
     "duration": 0.038379,
     "end_time": "2024-12-06T19:43:29.561859",
     "exception": false,
     "start_time": "2024-12-06T19:43:29.523480",
     "status": "completed"
    },
    "tags": []
   },
   "outputs": [],
   "source": [
    "model_name='EfficientNetB4-RF'\n",
    "all_model.loc[len(all_model)] = [model_name, accuracy_train, precision_train, recall_train, f1_train, accuracy_test, precision_test, recall_test, f1_test, training_time, testing_time, memory_usage]"
   ]
  },
  {
   "cell_type": "code",
   "execution_count": 27,
   "id": "213b2b0d",
   "metadata": {
    "execution": {
     "iopub.execute_input": "2024-12-06T19:43:29.622490Z",
     "iopub.status.busy": "2024-12-06T19:43:29.621581Z",
     "iopub.status.idle": "2024-12-06T19:43:29.634531Z",
     "shell.execute_reply": "2024-12-06T19:43:29.633802Z"
    },
    "papermill": {
     "duration": 0.044705,
     "end_time": "2024-12-06T19:43:29.636173",
     "exception": false,
     "start_time": "2024-12-06T19:43:29.591468",
     "status": "completed"
    },
    "tags": []
   },
   "outputs": [
    {
     "data": {
      "text/html": [
       "<div>\n",
       "<style scoped>\n",
       "    .dataframe tbody tr th:only-of-type {\n",
       "        vertical-align: middle;\n",
       "    }\n",
       "\n",
       "    .dataframe tbody tr th {\n",
       "        vertical-align: top;\n",
       "    }\n",
       "\n",
       "    .dataframe thead th {\n",
       "        text-align: right;\n",
       "    }\n",
       "</style>\n",
       "<table border=\"1\" class=\"dataframe\">\n",
       "  <thead>\n",
       "    <tr style=\"text-align: right;\">\n",
       "      <th></th>\n",
       "      <th>Model</th>\n",
       "      <th>Accuracy (Train)</th>\n",
       "      <th>Precision (Train)</th>\n",
       "      <th>Recall (Train)</th>\n",
       "      <th>F1 Score (Train)</th>\n",
       "      <th>Accuracy (Test)</th>\n",
       "      <th>Precision (Test)</th>\n",
       "      <th>Recall (Test)</th>\n",
       "      <th>F1 Score (Test)</th>\n",
       "      <th>Training Time (s)</th>\n",
       "      <th>Testing Time (s)</th>\n",
       "      <th>Memory (MB)</th>\n",
       "    </tr>\n",
       "  </thead>\n",
       "  <tbody>\n",
       "    <tr>\n",
       "      <th>0</th>\n",
       "      <td>EfficientNetB4-RF</td>\n",
       "      <td>99.954525</td>\n",
       "      <td>99.954556</td>\n",
       "      <td>99.954525</td>\n",
       "      <td>99.954517</td>\n",
       "      <td>97.942387</td>\n",
       "      <td>97.965674</td>\n",
       "      <td>97.942387</td>\n",
       "      <td>97.940843</td>\n",
       "      <td>101.688852</td>\n",
       "      <td>0.968226</td>\n",
       "      <td>3737.417969</td>\n",
       "    </tr>\n",
       "  </tbody>\n",
       "</table>\n",
       "</div>"
      ],
      "text/plain": [
       "               Model  Accuracy (Train)  Precision (Train)  Recall (Train)  \\\n",
       "0  EfficientNetB4-RF         99.954525          99.954556       99.954525   \n",
       "\n",
       "   F1 Score (Train)  Accuracy (Test)  Precision (Test)  Recall (Test)  \\\n",
       "0         99.954517        97.942387         97.965674      97.942387   \n",
       "\n",
       "   F1 Score (Test)  Training Time (s)  Testing Time (s)  Memory (MB)  \n",
       "0        97.940843         101.688852          0.968226  3737.417969  "
      ]
     },
     "execution_count": 27,
     "metadata": {},
     "output_type": "execute_result"
    }
   ],
   "source": [
    "all_model"
   ]
  }
 ],
 "metadata": {
  "kaggle": {
   "accelerator": "gpu",
   "dataSources": [
    {
     "datasetId": 1562973,
     "sourceId": 2574068,
     "sourceType": "datasetVersion"
    },
    {
     "datasetId": 6161628,
     "sourceId": 10008956,
     "sourceType": "datasetVersion"
    }
   ],
   "dockerImageVersionId": 30528,
   "isGpuEnabled": true,
   "isInternetEnabled": true,
   "language": "python",
   "sourceType": "notebook"
  },
  "kernelspec": {
   "display_name": "Python 3",
   "language": "python",
   "name": "python3"
  },
  "language_info": {
   "codemirror_mode": {
    "name": "ipython",
    "version": 3
   },
   "file_extension": ".py",
   "mimetype": "text/x-python",
   "name": "python",
   "nbconvert_exporter": "python",
   "pygments_lexer": "ipython3",
   "version": "3.10.12"
  },
  "papermill": {
   "default_parameters": {},
   "duration": 224.628359,
   "end_time": "2024-12-06T19:43:33.407575",
   "environment_variables": {},
   "exception": null,
   "input_path": "__notebook__.ipynb",
   "output_path": "__notebook__.ipynb",
   "parameters": {},
   "start_time": "2024-12-06T19:39:48.779216",
   "version": "2.4.0"
  }
 },
 "nbformat": 4,
 "nbformat_minor": 5
}
