{
 "cells": [
  {
   "cell_type": "code",
   "execution_count": 1,
   "id": "93a555fb",
   "metadata": {
    "_cell_guid": "b1076dfc-b9ad-4769-8c92-a6c4dae69d19",
    "_uuid": "8f2839f25d086af736a60e9eeb907d3b93b6e0e5",
    "execution": {
     "iopub.execute_input": "2024-12-06T19:41:11.103185Z",
     "iopub.status.busy": "2024-12-06T19:41:11.102801Z",
     "iopub.status.idle": "2024-12-06T19:41:11.112473Z",
     "shell.execute_reply": "2024-12-06T19:41:11.111475Z"
    },
    "papermill": {
     "duration": 0.019356,
     "end_time": "2024-12-06T19:41:11.114539",
     "exception": false,
     "start_time": "2024-12-06T19:41:11.095183",
     "status": "completed"
    },
    "tags": []
   },
   "outputs": [],
   "source": [
    "# This Python 3 environment comes with many helpful analytics libraries installed\n",
    "# It is defined by the kaggle/python Docker image: https://github.com/kaggle/docker-python\n",
    "# For example, here's several helpful packages to load\n",
    "\n",
    "import numpy as np # linear algebra\n",
    "import pandas as pd # data processing, CSV file I/O (e.g. pd.read_csv)\n",
    "\n",
    "# Input data files are available in the read-only \"../input/\" directory\n",
    "# For example, running this (by clicking run or pressing Shift+Enter) will list all files under the input directory\n",
    "\n",
    "# import os\n",
    "# for dirname, _, filenames in os.walk('/kaggle/input'):\n",
    "#     for filename in filenames:\n",
    "#         print(os.path.join(dirname, filename))\n",
    "\n",
    "# You can write up to 20GB to the current directory (/kaggle/working/) that gets preserved as output when you create a version using \"Save & Run All\" \n",
    "# You can also write temporary files to /kaggle/temp/, but they won't be saved outside of the current session"
   ]
  },
  {
   "cell_type": "code",
   "execution_count": 2,
   "id": "8dab68bf",
   "metadata": {
    "execution": {
     "iopub.execute_input": "2024-12-06T19:41:11.127447Z",
     "iopub.status.busy": "2024-12-06T19:41:11.127068Z",
     "iopub.status.idle": "2024-12-06T19:41:21.263933Z",
     "shell.execute_reply": "2024-12-06T19:41:21.263006Z"
    },
    "papermill": {
     "duration": 10.14612,
     "end_time": "2024-12-06T19:41:21.266561",
     "exception": false,
     "start_time": "2024-12-06T19:41:11.120441",
     "status": "completed"
    },
    "tags": []
   },
   "outputs": [
    {
     "name": "stderr",
     "output_type": "stream",
     "text": [
      "/opt/conda/lib/python3.10/site-packages/scipy/__init__.py:146: UserWarning: A NumPy version >=1.16.5 and <1.23.0 is required for this version of SciPy (detected version 1.23.5\n",
      "  warnings.warn(f\"A NumPy version >={np_minversion} and <{np_maxversion}\"\n",
      "/opt/conda/lib/python3.10/site-packages/tensorflow_io/python/ops/__init__.py:98: UserWarning: unable to load libtensorflow_io_plugins.so: unable to open file: libtensorflow_io_plugins.so, from paths: ['/opt/conda/lib/python3.10/site-packages/tensorflow_io/python/ops/libtensorflow_io_plugins.so']\n",
      "caused by: ['/opt/conda/lib/python3.10/site-packages/tensorflow_io/python/ops/libtensorflow_io_plugins.so: undefined symbol: _ZN3tsl6StatusC1EN10tensorflow5error4CodeESt17basic_string_viewIcSt11char_traitsIcEENS_14SourceLocationE']\n",
      "  warnings.warn(f\"unable to load libtensorflow_io_plugins.so: {e}\")\n",
      "/opt/conda/lib/python3.10/site-packages/tensorflow_io/python/ops/__init__.py:104: UserWarning: file system plugins are not loaded: unable to open file: libtensorflow_io.so, from paths: ['/opt/conda/lib/python3.10/site-packages/tensorflow_io/python/ops/libtensorflow_io.so']\n",
      "caused by: ['/opt/conda/lib/python3.10/site-packages/tensorflow_io/python/ops/libtensorflow_io.so: undefined symbol: _ZTVN10tensorflow13GcsFileSystemE']\n",
      "  warnings.warn(f\"file system plugins are not loaded: {e}\")\n"
     ]
    }
   ],
   "source": [
    "import matplotlib.pyplot as plt\n",
    "import numpy as np\n",
    "import pandas as pd\n",
    "import seaborn as sns\n",
    "import cv2\n",
    "import tensorflow as tf\n",
    "from tensorflow.keras.preprocessing.image import ImageDataGenerator\n",
    "from tqdm import tqdm\n",
    "import os\n",
    "from sklearn.utils import shuffle\n",
    "from sklearn.model_selection import train_test_split\n",
    "from tensorflow.keras.applications import EfficientNetB0, DenseNet201\n",
    "from tensorflow.keras.callbacks import EarlyStopping, ReduceLROnPlateau, TensorBoard, ModelCheckpoint\n",
    "from sklearn.metrics import classification_report,confusion_matrix\n",
    "import ipywidgets as widgets\n",
    "import io\n",
    "from PIL import Image\n",
    "from IPython.display import display,clear_output\n",
    "from warnings import filterwarnings\n",
    "from keras.models import Sequential\n",
    "from keras.layers import Dense, Flatten, Dropout\n",
    "from sklearn.metrics import accuracy_score, precision_score, recall_score, f1_score\n",
    "import time\n",
    "import psutil"
   ]
  },
  {
   "cell_type": "code",
   "execution_count": 3,
   "id": "022981de",
   "metadata": {
    "execution": {
     "iopub.execute_input": "2024-12-06T19:41:21.281137Z",
     "iopub.status.busy": "2024-12-06T19:41:21.280418Z",
     "iopub.status.idle": "2024-12-06T19:41:21.285147Z",
     "shell.execute_reply": "2024-12-06T19:41:21.284176Z"
    },
    "papermill": {
     "duration": 0.01399,
     "end_time": "2024-12-06T19:41:21.287309",
     "exception": false,
     "start_time": "2024-12-06T19:41:21.273319",
     "status": "completed"
    },
    "tags": []
   },
   "outputs": [],
   "source": [
    "labels = ['Early_Blight','Healthy','Late_Blight']"
   ]
  },
  {
   "cell_type": "code",
   "execution_count": 4,
   "id": "55e1c028",
   "metadata": {
    "execution": {
     "iopub.execute_input": "2024-12-06T19:41:21.300532Z",
     "iopub.status.busy": "2024-12-06T19:41:21.300180Z",
     "iopub.status.idle": "2024-12-06T19:42:15.556062Z",
     "shell.execute_reply": "2024-12-06T19:42:15.555058Z"
    },
    "papermill": {
     "duration": 54.265282,
     "end_time": "2024-12-06T19:42:15.558465",
     "exception": false,
     "start_time": "2024-12-06T19:41:21.293183",
     "status": "completed"
    },
    "tags": []
   },
   "outputs": [
    {
     "name": "stderr",
     "output_type": "stream",
     "text": [
      "100%|██████████| 1303/1303 [00:13<00:00, 93.17it/s]\n",
      "100%|██████████| 1303/1303 [00:13<00:00, 93.88it/s]\n",
      "100%|██████████| 1303/1303 [00:14<00:00, 88.36it/s]\n",
      "100%|██████████| 162/162 [00:01<00:00, 82.52it/s]\n",
      "100%|██████████| 162/162 [00:01<00:00, 87.64it/s]\n",
      "100%|██████████| 162/162 [00:01<00:00, 95.51it/s]\n",
      "100%|██████████| 163/163 [00:01<00:00, 93.05it/s]\n",
      "100%|██████████| 163/163 [00:01<00:00, 98.99it/s]\n",
      "100%|██████████| 163/163 [00:01<00:00, 97.23it/s]\n"
     ]
    }
   ],
   "source": [
    "X_train = []\n",
    "y_train = []\n",
    "X_test = []\n",
    "y_test = []\n",
    "image_size = 380\n",
    "for i in labels:\n",
    "    folderPath = os.path.join('/kaggle/input/balanced-data/balanced_data','Training',i)\n",
    "    for j in tqdm(os.listdir(folderPath)):\n",
    "        img = cv2.imread(os.path.join(folderPath,j))\n",
    "        img = cv2.resize(img,(image_size, image_size))\n",
    "        X_train.append(img)\n",
    "        y_train.append(i)\n",
    "        \n",
    "for i in labels:\n",
    "    folderPath = os.path.join('/kaggle/input/balanced-data/balanced_data','Testing',i)\n",
    "    for j in tqdm(os.listdir(folderPath)):\n",
    "        img = cv2.imread(os.path.join(folderPath,j))\n",
    "        img = cv2.resize(img,(image_size,image_size))\n",
    "        X_test.append(img)\n",
    "        y_test.append(i)\n",
    "        \n",
    "for i in labels:\n",
    "    folderPath = os.path.join('/kaggle/input/balanced-data/balanced_data','Validation',i)\n",
    "    for j in tqdm(os.listdir(folderPath)):\n",
    "        img = cv2.imread(os.path.join(folderPath,j))\n",
    "        img = cv2.resize(img,(image_size,image_size))\n",
    "        X_train.append(img)\n",
    "        y_train.append(i)\n",
    "        \n",
    "X_train = np.array(X_train)\n",
    "y_train = np.array(y_train)\n",
    "X_test = np.array(X_test)\n",
    "y_test = np.array(y_test)"
   ]
  },
  {
   "cell_type": "code",
   "execution_count": 5,
   "id": "b10e37b9",
   "metadata": {
    "execution": {
     "iopub.execute_input": "2024-12-06T19:42:15.613398Z",
     "iopub.status.busy": "2024-12-06T19:42:15.613034Z",
     "iopub.status.idle": "2024-12-06T19:42:15.618149Z",
     "shell.execute_reply": "2024-12-06T19:42:15.617139Z"
    },
    "papermill": {
     "duration": 0.033909,
     "end_time": "2024-12-06T19:42:15.619966",
     "exception": false,
     "start_time": "2024-12-06T19:42:15.586057",
     "status": "completed"
    },
    "tags": []
   },
   "outputs": [
    {
     "name": "stdout",
     "output_type": "stream",
     "text": [
      "(4398, 380, 380, 3)\n",
      "(4398,)\n",
      "(486, 380, 380, 3)\n",
      "(486,)\n"
     ]
    }
   ],
   "source": [
    "print(X_train.shape)\n",
    "print(y_train.shape)\n",
    "print(X_test.shape)\n",
    "print(y_test.shape)"
   ]
  },
  {
   "cell_type": "code",
   "execution_count": 6,
   "id": "afe57280",
   "metadata": {
    "execution": {
     "iopub.execute_input": "2024-12-06T19:42:15.675218Z",
     "iopub.status.busy": "2024-12-06T19:42:15.674636Z",
     "iopub.status.idle": "2024-12-06T19:42:15.683843Z",
     "shell.execute_reply": "2024-12-06T19:42:15.682962Z"
    },
    "papermill": {
     "duration": 0.039523,
     "end_time": "2024-12-06T19:42:15.685694",
     "exception": false,
     "start_time": "2024-12-06T19:42:15.646171",
     "status": "completed"
    },
    "tags": []
   },
   "outputs": [
    {
     "name": "stdout",
     "output_type": "stream",
     "text": [
      "['Early_Blight' 'Healthy' 'Late_Blight']\n",
      "['Early_Blight' 'Healthy' 'Late_Blight']\n"
     ]
    }
   ],
   "source": [
    "print(np.unique(y_test))\n",
    "print(np.unique(y_train))"
   ]
  },
  {
   "cell_type": "code",
   "execution_count": 7,
   "id": "cce95e2a",
   "metadata": {
    "execution": {
     "iopub.execute_input": "2024-12-06T19:42:15.745676Z",
     "iopub.status.busy": "2024-12-06T19:42:15.745359Z",
     "iopub.status.idle": "2024-12-06T19:42:15.753421Z",
     "shell.execute_reply": "2024-12-06T19:42:15.752641Z"
    },
    "papermill": {
     "duration": 0.040016,
     "end_time": "2024-12-06T19:42:15.755297",
     "exception": false,
     "start_time": "2024-12-06T19:42:15.715281",
     "status": "completed"
    },
    "tags": []
   },
   "outputs": [],
   "source": [
    "y_train_new = []\n",
    "for i in y_train:\n",
    "    y_train_new.append(labels.index(i))\n",
    "y_train = y_train_new\n",
    "y_train = tf.keras.utils.to_categorical(y_train)\n",
    "\n",
    "\n",
    "y_test_new = []\n",
    "for i in y_test:\n",
    "    y_test_new.append(labels.index(i))\n",
    "y_test = y_test_new\n",
    "y_test = tf.keras.utils.to_categorical(y_test)"
   ]
  },
  {
   "cell_type": "code",
   "execution_count": 8,
   "id": "0121d509",
   "metadata": {
    "execution": {
     "iopub.execute_input": "2024-12-06T19:42:15.815189Z",
     "iopub.status.busy": "2024-12-06T19:42:15.814836Z",
     "iopub.status.idle": "2024-12-06T19:42:15.824969Z",
     "shell.execute_reply": "2024-12-06T19:42:15.824316Z"
    },
    "papermill": {
     "duration": 0.040795,
     "end_time": "2024-12-06T19:42:15.826618",
     "exception": false,
     "start_time": "2024-12-06T19:42:15.785823",
     "status": "completed"
    },
    "tags": []
   },
   "outputs": [],
   "source": [
    "all_model = pd.DataFrame(columns=['Model', 'Accuracy (Train)', 'Precision (Train)', 'Recall (Train)', 'F1 Score (Train)', 'Accuracy (Test)', 'Precision (Test)', 'Recall (Test)', 'F1 Score (Test)', 'Training Time (s)', 'Testing Time (s)','Memory (MB)'])"
   ]
  },
  {
   "cell_type": "code",
   "execution_count": 9,
   "id": "32870146",
   "metadata": {
    "execution": {
     "iopub.execute_input": "2024-12-06T19:42:15.884927Z",
     "iopub.status.busy": "2024-12-06T19:42:15.884572Z",
     "iopub.status.idle": "2024-12-06T19:42:15.900133Z",
     "shell.execute_reply": "2024-12-06T19:42:15.899157Z"
    },
    "papermill": {
     "duration": 0.047498,
     "end_time": "2024-12-06T19:42:15.902177",
     "exception": false,
     "start_time": "2024-12-06T19:42:15.854679",
     "status": "completed"
    },
    "tags": []
   },
   "outputs": [
    {
     "data": {
      "text/html": [
       "<div>\n",
       "<style scoped>\n",
       "    .dataframe tbody tr th:only-of-type {\n",
       "        vertical-align: middle;\n",
       "    }\n",
       "\n",
       "    .dataframe tbody tr th {\n",
       "        vertical-align: top;\n",
       "    }\n",
       "\n",
       "    .dataframe thead th {\n",
       "        text-align: right;\n",
       "    }\n",
       "</style>\n",
       "<table border=\"1\" class=\"dataframe\">\n",
       "  <thead>\n",
       "    <tr style=\"text-align: right;\">\n",
       "      <th></th>\n",
       "      <th>Model</th>\n",
       "      <th>Accuracy (Train)</th>\n",
       "      <th>Precision (Train)</th>\n",
       "      <th>Recall (Train)</th>\n",
       "      <th>F1 Score (Train)</th>\n",
       "      <th>Accuracy (Test)</th>\n",
       "      <th>Precision (Test)</th>\n",
       "      <th>Recall (Test)</th>\n",
       "      <th>F1 Score (Test)</th>\n",
       "      <th>Training Time (s)</th>\n",
       "      <th>Testing Time (s)</th>\n",
       "      <th>Memory (MB)</th>\n",
       "    </tr>\n",
       "  </thead>\n",
       "  <tbody>\n",
       "  </tbody>\n",
       "</table>\n",
       "</div>"
      ],
      "text/plain": [
       "Empty DataFrame\n",
       "Columns: [Model, Accuracy (Train), Precision (Train), Recall (Train), F1 Score (Train), Accuracy (Test), Precision (Test), Recall (Test), F1 Score (Test), Training Time (s), Testing Time (s), Memory (MB)]\n",
       "Index: []"
      ]
     },
     "execution_count": 9,
     "metadata": {},
     "output_type": "execute_result"
    }
   ],
   "source": [
    "all_model"
   ]
  },
  {
   "cell_type": "markdown",
   "id": "f93d77d5",
   "metadata": {
    "papermill": {
     "duration": 0.028451,
     "end_time": "2024-12-06T19:42:15.960492",
     "exception": false,
     "start_time": "2024-12-06T19:42:15.932041",
     "status": "completed"
    },
    "tags": []
   },
   "source": [
    "**Feature Extraction from MobileNetV3Large**"
   ]
  },
  {
   "cell_type": "code",
   "execution_count": 10,
   "id": "200d4eed",
   "metadata": {
    "execution": {
     "iopub.execute_input": "2024-12-06T19:42:16.016861Z",
     "iopub.status.busy": "2024-12-06T19:42:16.016259Z",
     "iopub.status.idle": "2024-12-06T19:42:22.567104Z",
     "shell.execute_reply": "2024-12-06T19:42:22.566057Z"
    },
    "papermill": {
     "duration": 6.581504,
     "end_time": "2024-12-06T19:42:22.569316",
     "exception": false,
     "start_time": "2024-12-06T19:42:15.987812",
     "status": "completed"
    },
    "tags": []
   },
   "outputs": [
    {
     "name": "stdout",
     "output_type": "stream",
     "text": [
      "Downloading data from https://storage.googleapis.com/keras-applications/efficientnetb4_notop.h5\n",
      "71686520/71686520 [==============================] - 0s 0us/step\n"
     ]
    }
   ],
   "source": [
    "# Define the base model for feature extraction\n",
    "model = tf.keras.applications.EfficientNetB4(\n",
    "    include_top=False,  # Exclude fully connected layers\n",
    "    weights=\"imagenet\",  # Pretrained weights from ImageNet\n",
    "    input_shape=(image_size, image_size, 3),  # Input image size\n",
    "    pooling=\"avg\"  # Global average pooling layer to get feature vector\n",
    ")\n",
    "\n",
    "# Freeze the base model to prevent updates during feature extraction\n",
    "model.trainable = False\n"
   ]
  },
  {
   "cell_type": "code",
   "execution_count": 11,
   "id": "49107413",
   "metadata": {
    "execution": {
     "iopub.execute_input": "2024-12-06T19:42:22.628074Z",
     "iopub.status.busy": "2024-12-06T19:42:22.627726Z",
     "iopub.status.idle": "2024-12-06T19:43:03.811602Z",
     "shell.execute_reply": "2024-12-06T19:43:03.810560Z"
    },
    "papermill": {
     "duration": 41.215364,
     "end_time": "2024-12-06T19:43:03.813833",
     "exception": false,
     "start_time": "2024-12-06T19:42:22.598469",
     "status": "completed"
    },
    "tags": []
   },
   "outputs": [
    {
     "name": "stdout",
     "output_type": "stream",
     "text": [
      "138/138 [==============================] - 37s 219ms/step\n"
     ]
    }
   ],
   "source": [
    "# Use the base model to extract features\n",
    "X_train = model.predict(X_train, batch_size=32, verbose=1)"
   ]
  },
  {
   "cell_type": "code",
   "execution_count": 12,
   "id": "1e943b6c",
   "metadata": {
    "execution": {
     "iopub.execute_input": "2024-12-06T19:43:03.886711Z",
     "iopub.status.busy": "2024-12-06T19:43:03.885445Z",
     "iopub.status.idle": "2024-12-06T19:43:03.890754Z",
     "shell.execute_reply": "2024-12-06T19:43:03.890089Z"
    },
    "papermill": {
     "duration": 0.043387,
     "end_time": "2024-12-06T19:43:03.892684",
     "exception": false,
     "start_time": "2024-12-06T19:43:03.849297",
     "status": "completed"
    },
    "tags": []
   },
   "outputs": [],
   "source": [
    "# If labels are one-hot encoded, convert to class indices\n",
    "if y_train.shape[-1] > 1:\n",
    "    y_train = np.argmax(y_train, axis=1)"
   ]
  },
  {
   "cell_type": "code",
   "execution_count": 13,
   "id": "f09426d0",
   "metadata": {
    "execution": {
     "iopub.execute_input": "2024-12-06T19:43:03.961981Z",
     "iopub.status.busy": "2024-12-06T19:43:03.961645Z",
     "iopub.status.idle": "2024-12-06T19:43:03.966535Z",
     "shell.execute_reply": "2024-12-06T19:43:03.965686Z"
    },
    "papermill": {
     "duration": 0.042229,
     "end_time": "2024-12-06T19:43:03.968521",
     "exception": false,
     "start_time": "2024-12-06T19:43:03.926292",
     "status": "completed"
    },
    "tags": []
   },
   "outputs": [
    {
     "name": "stdout",
     "output_type": "stream",
     "text": [
      "Extracted features shape: (4398, 1792)\n",
      "Labels shape: (4398,)\n"
     ]
    }
   ],
   "source": [
    "# X_train now contains the extracted features, and y_train contains the labels\n",
    "print(\"Extracted features shape:\", X_train.shape)\n",
    "print(\"Labels shape:\", y_train.shape)"
   ]
  },
  {
   "cell_type": "code",
   "execution_count": 14,
   "id": "0c65367d",
   "metadata": {
    "execution": {
     "iopub.execute_input": "2024-12-06T19:43:04.037491Z",
     "iopub.status.busy": "2024-12-06T19:43:04.037042Z",
     "iopub.status.idle": "2024-12-06T19:43:08.097033Z",
     "shell.execute_reply": "2024-12-06T19:43:08.096310Z"
    },
    "papermill": {
     "duration": 4.096775,
     "end_time": "2024-12-06T19:43:08.099022",
     "exception": false,
     "start_time": "2024-12-06T19:43:04.002247",
     "status": "completed"
    },
    "tags": []
   },
   "outputs": [
    {
     "name": "stdout",
     "output_type": "stream",
     "text": [
      "16/16 [==============================] - 4s 254ms/step\n"
     ]
    }
   ],
   "source": [
    "# Use the base model to extract features from test data\n",
    "X_test = model.predict(X_test, batch_size=32, verbose=1)"
   ]
  },
  {
   "cell_type": "code",
   "execution_count": 15,
   "id": "003cf5d9",
   "metadata": {
    "execution": {
     "iopub.execute_input": "2024-12-06T19:43:08.178132Z",
     "iopub.status.busy": "2024-12-06T19:43:08.177309Z",
     "iopub.status.idle": "2024-12-06T19:43:08.181950Z",
     "shell.execute_reply": "2024-12-06T19:43:08.181145Z"
    },
    "papermill": {
     "duration": 0.047617,
     "end_time": "2024-12-06T19:43:08.184074",
     "exception": false,
     "start_time": "2024-12-06T19:43:08.136457",
     "status": "completed"
    },
    "tags": []
   },
   "outputs": [],
   "source": [
    "# If labels are one-hot encoded, convert to class indices\n",
    "if y_test.shape[-1] > 1:\n",
    "    y_test = np.argmax(y_test, axis=1)"
   ]
  },
  {
   "cell_type": "code",
   "execution_count": 16,
   "id": "e6d5d054",
   "metadata": {
    "execution": {
     "iopub.execute_input": "2024-12-06T19:43:08.256724Z",
     "iopub.status.busy": "2024-12-06T19:43:08.255863Z",
     "iopub.status.idle": "2024-12-06T19:43:08.261086Z",
     "shell.execute_reply": "2024-12-06T19:43:08.260317Z"
    },
    "papermill": {
     "duration": 0.041871,
     "end_time": "2024-12-06T19:43:08.262923",
     "exception": false,
     "start_time": "2024-12-06T19:43:08.221052",
     "status": "completed"
    },
    "tags": []
   },
   "outputs": [
    {
     "name": "stdout",
     "output_type": "stream",
     "text": [
      "Extracted features shape: (486, 1792)\n",
      "Labels shape: (486,)\n"
     ]
    }
   ],
   "source": [
    "# X_test now contains the extracted features, and y_test contains the labels\n",
    "print(\"Extracted features shape:\", X_test.shape)\n",
    "print(\"Labels shape:\", y_test.shape)"
   ]
  },
  {
   "cell_type": "code",
   "execution_count": 17,
   "id": "d0ea03e3",
   "metadata": {
    "execution": {
     "iopub.execute_input": "2024-12-06T19:43:08.356313Z",
     "iopub.status.busy": "2024-12-06T19:43:08.355306Z",
     "iopub.status.idle": "2024-12-06T19:43:08.701704Z",
     "shell.execute_reply": "2024-12-06T19:43:08.700968Z"
    },
    "papermill": {
     "duration": 0.400678,
     "end_time": "2024-12-06T19:43:08.703730",
     "exception": false,
     "start_time": "2024-12-06T19:43:08.303052",
     "status": "completed"
    },
    "tags": []
   },
   "outputs": [],
   "source": [
    "from sklearn.ensemble import StackingClassifier\n",
    "from sklearn.ensemble import RandomForestClassifier\n",
    "from sklearn.svm import SVC\n",
    "from sklearn.neighbors import KNeighborsClassifier\n",
    "from sklearn.linear_model import LogisticRegression\n",
    "from sklearn.neural_network import MLPClassifier\n",
    "from sklearn.tree import DecisionTreeClassifier\n",
    "from sklearn.naive_bayes import GaussianNB\n",
    "from sklearn.model_selection import train_test_split\n",
    "from sklearn.metrics import accuracy_score\n",
    "from sklearn.ensemble import AdaBoostClassifier\n",
    "\n",
    "# Define the Level 0 classifiers\n",
    "level_0_estimators = [\n",
    "    ('svm', SVC(kernel='rbf',C=1.0,gamma='scale',decision_function_shape='ovr')),\n",
    "    ('knn', KNeighborsClassifier()),\n",
    "    ('logistic', LogisticRegression(multi_class='multinomial',solver='lbfgs',C=1.0,max_iter=1000,random_state=42 )),\n",
    "    ('mlp', MLPClassifier(random_state=42)),\n",
    "    ('decision_tree', DecisionTreeClassifier(criterion='gini',max_depth=20,min_samples_split=5,min_samples_leaf=3,max_features='sqrt',random_state=42)),\n",
    "    ('naive_bayes', GaussianNB(var_smoothing=1e-8))\n",
    "]\n",
    "\n",
    "# Define the Level 1 classifier (meta-classifier)\n",
    "level_1_meta_classifier = AdaBoostClassifier(       \n",
    "    base_estimator=DecisionTreeClassifier(max_depth=3), \n",
    "    n_estimators=200,                                    \n",
    "    learning_rate=0.5,                                   \n",
    "    algorithm='SAMME.R',                                 \n",
    "    random_state=42  \n",
    ")\n",
    "\n",
    "# Create the Stacking Classifier\n",
    "stacking_clf = StackingClassifier(\n",
    "    estimators=level_0_estimators,\n",
    "    final_estimator=level_1_meta_classifier,\n",
    "    cv=5\n",
    ")"
   ]
  },
  {
   "cell_type": "code",
   "execution_count": 18,
   "id": "e909b422",
   "metadata": {
    "execution": {
     "iopub.execute_input": "2024-12-06T19:43:08.774659Z",
     "iopub.status.busy": "2024-12-06T19:43:08.774324Z",
     "iopub.status.idle": "2024-12-06T19:45:06.120295Z",
     "shell.execute_reply": "2024-12-06T19:45:06.119243Z"
    },
    "papermill": {
     "duration": 117.382759,
     "end_time": "2024-12-06T19:45:06.122160",
     "exception": false,
     "start_time": "2024-12-06T19:43:08.739401",
     "status": "completed"
    },
    "tags": []
   },
   "outputs": [
    {
     "name": "stderr",
     "output_type": "stream",
     "text": [
      "/opt/conda/lib/python3.10/site-packages/sklearn/ensemble/_base.py:166: FutureWarning: `base_estimator` was renamed to `estimator` in version 1.2 and will be removed in 1.4.\n",
      "  warnings.warn(\n"
     ]
    },
    {
     "name": "stdout",
     "output_type": "stream",
     "text": [
      "Training Time: 117.34 seconds\n",
      "Memory Usage: 3747.42 MB\n"
     ]
    }
   ],
   "source": [
    "import time\n",
    "\n",
    "# Start timer\n",
    "start_time = time.time()\n",
    "\n",
    "# Train the stacking classifier\n",
    "stacking_clf.fit(X_train, y_train)\n",
    "\n",
    "# Measure training time\n",
    "training_time = time.time() - start_time\n",
    "print(f\"Training Time: {training_time:.2f} seconds\")\n",
    "\n",
    "# Evaluate memory usage (optional, requires `psutil` library)\n",
    "import psutil\n",
    "memory_usage = psutil.Process().memory_info().rss / 1024 / 1024\n",
    "print(f\"Memory Usage: {memory_usage:.2f} MB\")"
   ]
  },
  {
   "cell_type": "code",
   "execution_count": 19,
   "id": "1adfa1d8",
   "metadata": {
    "execution": {
     "iopub.execute_input": "2024-12-06T19:45:06.194208Z",
     "iopub.status.busy": "2024-12-06T19:45:06.193822Z",
     "iopub.status.idle": "2024-12-06T19:45:07.349764Z",
     "shell.execute_reply": "2024-12-06T19:45:07.349084Z"
    },
    "papermill": {
     "duration": 1.195265,
     "end_time": "2024-12-06T19:45:07.352237",
     "exception": false,
     "start_time": "2024-12-06T19:45:06.156972",
     "status": "completed"
    },
    "tags": []
   },
   "outputs": [],
   "source": [
    "# make predictions on the test data\n",
    "start_time = time.time()\n",
    "y_pred = stacking_clf.predict(X_test)\n",
    "testing_time = time.time() - start_time"
   ]
  },
  {
   "cell_type": "code",
   "execution_count": 20,
   "id": "a0d551f1",
   "metadata": {
    "execution": {
     "iopub.execute_input": "2024-12-06T19:45:07.426123Z",
     "iopub.status.busy": "2024-12-06T19:45:07.425771Z",
     "iopub.status.idle": "2024-12-06T19:45:07.794457Z",
     "shell.execute_reply": "2024-12-06T19:45:07.793498Z"
    },
    "papermill": {
     "duration": 0.407382,
     "end_time": "2024-12-06T19:45:07.796383",
     "exception": false,
     "start_time": "2024-12-06T19:45:07.389001",
     "status": "completed"
    },
    "tags": []
   },
   "outputs": [
    {
     "name": "stdout",
     "output_type": "stream",
     "text": [
      "Confusion matrix, without normalization\n"
     ]
    },
    {
     "data": {
      "image/png": "[encoded data removed]",
      "text/plain": [
       "<Figure size 500x500 with 2 Axes>"
      ]
     },
     "metadata": {},
     "output_type": "display_data"
    }
   ],
   "source": [
    "import itertools\n",
    "def plot_confusion_matrix(cm, classes,\n",
    "                          normalize=False,\n",
    "                          title='',\n",
    "                          cmap=plt.cm.Greens):\n",
    "    \"\"\"\n",
    "    This function prints and plots the confusion matrix.\n",
    "    Normalization can be applied by setting `normalize=True`.\n",
    "    \"\"\"\n",
    "    if normalize:\n",
    "        cm = cm.astype('float') / cm.sum(axis=1)[:, np.newaxis]\n",
    "        print(\"Normalized confusion matrix\")\n",
    "    else:\n",
    "        print('Confusion matrix, without normalization')\n",
    "\n",
    "    plt.imshow(cm, interpolation='nearest', cmap=cmap)\n",
    "    plt.title(title)\n",
    "    plt.colorbar()\n",
    "    tick_marks = np.arange(len(classes))\n",
    "    plt.xticks(tick_marks, classes, rotation=45,fontweight='bold')\n",
    "    plt.yticks(tick_marks, classes, fontweight='bold')\n",
    "\n",
    "    for i in range(cm.shape[0]):\n",
    "        for j in range(cm.shape[1]):\n",
    "            plt.text(j, i, format(cm[i, j], 'd'),\n",
    "                    ha=\"center\", va=\"center\", fontweight='bold',\n",
    "                    color=\"white\" if cm[i, j] > cm.max() / 2. else \"black\")\n",
    "\n",
    "    plt.tight_layout()\n",
    "    plt.ylabel('True label',fontweight='bold')\n",
    "    plt.xlabel('Predicted label',fontweight='bold')\n",
    "\n",
    "# Compute confusion matrix\n",
    "cnf_matrix = confusion_matrix(y_test, y_pred)\n",
    "np.set_printoptions(precision=2)\n",
    "\n",
    "# Plot non-normalized confusion matrix\n",
    "plt.figure(figsize=(5,5))\n",
    "plot_confusion_matrix(cnf_matrix, classes=['EB','H','LB']\n",
    "                      )\n",
    "plt.show()"
   ]
  },
  {
   "cell_type": "code",
   "execution_count": 21,
   "id": "97e1c65c",
   "metadata": {
    "execution": {
     "iopub.execute_input": "2024-12-06T19:45:07.871309Z",
     "iopub.status.busy": "2024-12-06T19:45:07.870880Z",
     "iopub.status.idle": "2024-12-06T19:45:07.876480Z",
     "shell.execute_reply": "2024-12-06T19:45:07.875742Z"
    },
    "papermill": {
     "duration": 0.045341,
     "end_time": "2024-12-06T19:45:07.878228",
     "exception": false,
     "start_time": "2024-12-06T19:45:07.832887",
     "status": "completed"
    },
    "tags": []
   },
   "outputs": [
    {
     "data": {
      "text/plain": [
       "(486,)"
      ]
     },
     "execution_count": 21,
     "metadata": {},
     "output_type": "execute_result"
    }
   ],
   "source": [
    "y_pred.shape"
   ]
  },
  {
   "cell_type": "code",
   "execution_count": 22,
   "id": "c865f3a7",
   "metadata": {
    "execution": {
     "iopub.execute_input": "2024-12-06T19:45:07.951319Z",
     "iopub.status.busy": "2024-12-06T19:45:07.950848Z",
     "iopub.status.idle": "2024-12-06T19:45:07.963022Z",
     "shell.execute_reply": "2024-12-06T19:45:07.962137Z"
    },
    "papermill": {
     "duration": 0.0518,
     "end_time": "2024-12-06T19:45:07.965031",
     "exception": false,
     "start_time": "2024-12-06T19:45:07.913231",
     "status": "completed"
    },
    "tags": []
   },
   "outputs": [
    {
     "name": "stdout",
     "output_type": "stream",
     "text": [
      "Accuracy (Test): 97.1193\n",
      "Precision (Test): 97.2326\n",
      "Recall (Test): 97.1193\n",
      "F1 score (Test): 97.1305\n"
     ]
    }
   ],
   "source": [
    "accuracy_test = accuracy_score(y_test, y_pred)*100\n",
    "precision_test = precision_score(y_test, y_pred, average='macro')*100\n",
    "recall_test = recall_score(y_test, y_pred, average='macro')*100\n",
    "f1_test = f1_score(y_test, y_pred, average='macro')*100\n",
    "\n",
    "print(\"Accuracy (Test): {:.4f}\".format(accuracy_test))\n",
    "print(\"Precision (Test): {:.4f}\".format(precision_test))\n",
    "print(\"Recall (Test): {:.4f}\".format(recall_test))\n",
    "print(\"F1 score (Test): {:.4f}\".format(f1_test))"
   ]
  },
  {
   "cell_type": "code",
   "execution_count": 23,
   "id": "17649898",
   "metadata": {
    "execution": {
     "iopub.execute_input": "2024-12-06T19:45:08.038796Z",
     "iopub.status.busy": "2024-12-06T19:45:08.038459Z",
     "iopub.status.idle": "2024-12-06T19:45:16.381592Z",
     "shell.execute_reply": "2024-12-06T19:45:16.380778Z"
    },
    "papermill": {
     "duration": 8.381235,
     "end_time": "2024-12-06T19:45:16.383831",
     "exception": false,
     "start_time": "2024-12-06T19:45:08.002596",
     "status": "completed"
    },
    "tags": []
   },
   "outputs": [],
   "source": [
    "# make predictions on the train data\n",
    "y_pred = stacking_clf.predict(X_train)"
   ]
  },
  {
   "cell_type": "code",
   "execution_count": 24,
   "id": "cf874873",
   "metadata": {
    "execution": {
     "iopub.execute_input": "2024-12-06T19:45:16.455780Z",
     "iopub.status.busy": "2024-12-06T19:45:16.455425Z",
     "iopub.status.idle": "2024-12-06T19:45:16.775991Z",
     "shell.execute_reply": "2024-12-06T19:45:16.775004Z"
    },
    "papermill": {
     "duration": 0.3584,
     "end_time": "2024-12-06T19:45:16.778078",
     "exception": false,
     "start_time": "2024-12-06T19:45:16.419678",
     "status": "completed"
    },
    "tags": []
   },
   "outputs": [
    {
     "name": "stdout",
     "output_type": "stream",
     "text": [
      "Confusion matrix, without normalization\n"
     ]
    },
    {
     "data": {
      "image/png": "[encoded data removed]",
      "text/plain": [
       "<Figure size 500x500 with 2 Axes>"
      ]
     },
     "metadata": {},
     "output_type": "display_data"
    }
   ],
   "source": [
    "def plot_confusion_matrix(cm, classes,\n",
    "                          normalize=False,\n",
    "                          title='',\n",
    "                          cmap=plt.cm.Greens):\n",
    "    \"\"\"\n",
    "    This function prints and plots the confusion matrix.\n",
    "    Normalization can be applied by setting `normalize=True`.\n",
    "    \"\"\"\n",
    "    if normalize:\n",
    "        cm = cm.astype('float') / cm.sum(axis=1)[:, np.newaxis]\n",
    "        print(\"Normalized confusion matrix\")\n",
    "    else:\n",
    "        print('Confusion matrix, without normalization')\n",
    "\n",
    "    plt.imshow(cm, interpolation='nearest', cmap=cmap)\n",
    "    plt.title(title)\n",
    "    plt.colorbar()\n",
    "    tick_marks = np.arange(len(classes))\n",
    "    plt.xticks(tick_marks, classes, rotation=45,fontweight='bold')\n",
    "    plt.yticks(tick_marks, classes, fontweight='bold')\n",
    "\n",
    "    for i in range(cm.shape[0]):\n",
    "        for j in range(cm.shape[1]):\n",
    "            plt.text(j, i, format(cm[i, j], 'd'),\n",
    "                    ha=\"center\", va=\"center\", fontweight='bold',\n",
    "                    color=\"white\" if cm[i, j] > cm.max() / 2. else \"black\")\n",
    "\n",
    "    plt.tight_layout()\n",
    "    plt.ylabel('True label',fontweight='bold')\n",
    "    plt.xlabel('Predicted label',fontweight='bold')\n",
    "\n",
    "# Compute confusion matrix\n",
    "cnf_matrix = confusion_matrix(y_train, y_pred)\n",
    "np.set_printoptions(precision=2)\n",
    "\n",
    "# Plot non-normalized confusion matrix\n",
    "plt.figure(figsize=(5,5))\n",
    "plot_confusion_matrix(cnf_matrix, classes=['EB','H','LB']\n",
    "                      )\n",
    "plt.show()"
   ]
  },
  {
   "cell_type": "code",
   "execution_count": 25,
   "id": "e615753d",
   "metadata": {
    "execution": {
     "iopub.execute_input": "2024-12-06T19:45:16.854948Z",
     "iopub.status.busy": "2024-12-06T19:45:16.854580Z",
     "iopub.status.idle": "2024-12-06T19:45:16.868480Z",
     "shell.execute_reply": "2024-12-06T19:45:16.867606Z"
    },
    "papermill": {
     "duration": 0.054699,
     "end_time": "2024-12-06T19:45:16.870456",
     "exception": false,
     "start_time": "2024-12-06T19:45:16.815757",
     "status": "completed"
    },
    "tags": []
   },
   "outputs": [
    {
     "name": "stdout",
     "output_type": "stream",
     "text": [
      "Accuracy (Train): 99.6362\n",
      "Precision (Train): 99.6365\n",
      "Recall (Train): 99.6362\n",
      "F1 score (Train): 99.6361\n"
     ]
    }
   ],
   "source": [
    "accuracy_train = accuracy_score(y_train, y_pred)*100\n",
    "precision_train = precision_score(y_train, y_pred, average='macro')*100\n",
    "recall_train = recall_score(y_train, y_pred, average='macro')*100\n",
    "f1_train = f1_score(y_train, y_pred, average='macro')*100\n",
    "\n",
    "print(\"Accuracy (Train): {:.4f}\".format(accuracy_train))\n",
    "print(\"Precision (Train): {:.4f}\".format(precision_train))\n",
    "print(\"Recall (Train): {:.4f}\".format(recall_train))\n",
    "print(\"F1 score (Train): {:.4f}\".format(f1_train))"
   ]
  },
  {
   "cell_type": "code",
   "execution_count": 26,
   "id": "237afd01",
   "metadata": {
    "execution": {
     "iopub.execute_input": "2024-12-06T19:45:16.948839Z",
     "iopub.status.busy": "2024-12-06T19:45:16.948514Z",
     "iopub.status.idle": "2024-12-06T19:45:16.956200Z",
     "shell.execute_reply": "2024-12-06T19:45:16.955379Z"
    },
    "papermill": {
     "duration": 0.046664,
     "end_time": "2024-12-06T19:45:16.957904",
     "exception": false,
     "start_time": "2024-12-06T19:45:16.911240",
     "status": "completed"
    },
    "tags": []
   },
   "outputs": [],
   "source": [
    "model_name='EfficientNetB4-AB'\n",
    "all_model.loc[len(all_model)] = [model_name, accuracy_train, precision_train, recall_train, f1_train, accuracy_test, precision_test, recall_test, f1_test, training_time, testing_time, memory_usage]"
   ]
  },
  {
   "cell_type": "code",
   "execution_count": 27,
   "id": "9d44f582",
   "metadata": {
    "execution": {
     "iopub.execute_input": "2024-12-06T19:45:17.036579Z",
     "iopub.status.busy": "2024-12-06T19:45:17.035785Z",
     "iopub.status.idle": "2024-12-06T19:45:17.050668Z",
     "shell.execute_reply": "2024-12-06T19:45:17.049778Z"
    },
    "papermill": {
     "duration": 0.055557,
     "end_time": "2024-12-06T19:45:17.052305",
     "exception": false,
     "start_time": "2024-12-06T19:45:16.996748",
     "status": "completed"
    },
    "tags": []
   },
   "outputs": [
    {
     "data": {
      "text/html": [
       "<div>\n",
       "<style scoped>\n",
       "    .dataframe tbody tr th:only-of-type {\n",
       "        vertical-align: middle;\n",
       "    }\n",
       "\n",
       "    .dataframe tbody tr th {\n",
       "        vertical-align: top;\n",
       "    }\n",
       "\n",
       "    .dataframe thead th {\n",
       "        text-align: right;\n",
       "    }\n",
       "</style>\n",
       "<table border=\"1\" class=\"dataframe\">\n",
       "  <thead>\n",
       "    <tr style=\"text-align: right;\">\n",
       "      <th></th>\n",
       "      <th>Model</th>\n",
       "      <th>Accuracy (Train)</th>\n",
       "      <th>Precision (Train)</th>\n",
       "      <th>Recall (Train)</th>\n",
       "      <th>F1 Score (Train)</th>\n",
       "      <th>Accuracy (Test)</th>\n",
       "      <th>Precision (Test)</th>\n",
       "      <th>Recall (Test)</th>\n",
       "      <th>F1 Score (Test)</th>\n",
       "      <th>Training Time (s)</th>\n",
       "      <th>Testing Time (s)</th>\n",
       "      <th>Memory (MB)</th>\n",
       "    </tr>\n",
       "  </thead>\n",
       "  <tbody>\n",
       "    <tr>\n",
       "      <th>0</th>\n",
       "      <td>EfficientNetB4-AB</td>\n",
       "      <td>99.636198</td>\n",
       "      <td>99.636488</td>\n",
       "      <td>99.636198</td>\n",
       "      <td>99.636058</td>\n",
       "      <td>97.119342</td>\n",
       "      <td>97.232601</td>\n",
       "      <td>97.119342</td>\n",
       "      <td>97.130487</td>\n",
       "      <td>117.340052</td>\n",
       "      <td>1.151789</td>\n",
       "      <td>3747.421875</td>\n",
       "    </tr>\n",
       "  </tbody>\n",
       "</table>\n",
       "</div>"
      ],
      "text/plain": [
       "               Model  Accuracy (Train)  Precision (Train)  Recall (Train)  \\\n",
       "0  EfficientNetB4-AB         99.636198          99.636488       99.636198   \n",
       "\n",
       "   F1 Score (Train)  Accuracy (Test)  Precision (Test)  Recall (Test)  \\\n",
       "0         99.636058        97.119342         97.232601      97.119342   \n",
       "\n",
       "   F1 Score (Test)  Training Time (s)  Testing Time (s)  Memory (MB)  \n",
       "0        97.130487         117.340052          1.151789  3747.421875  "
      ]
     },
     "execution_count": 27,
     "metadata": {},
     "output_type": "execute_result"
    }
   ],
   "source": [
    "all_model"
   ]
  }
 ],
 "metadata": {
  "kaggle": {
   "accelerator": "gpu",
   "dataSources": [
    {
     "datasetId": 1562973,
     "sourceId": 2574068,
     "sourceType": "datasetVersion"
    },
    {
     "datasetId": 6161628,
     "sourceId": 10008956,
     "sourceType": "datasetVersion"
    }
   ],
   "dockerImageVersionId": 30528,
   "isGpuEnabled": true,
   "isInternetEnabled": true,
   "language": "python",
   "sourceType": "notebook"
  },
  "kernelspec": {
   "display_name": "Python 3",
   "language": "python",
   "name": "python3"
  },
  "language_info": {
   "codemirror_mode": {
    "name": "ipython",
    "version": 3
   },
   "file_extension": ".py",
   "mimetype": "text/x-python",
   "name": "python",
   "nbconvert_exporter": "python",
   "pygments_lexer": "ipython3",
   "version": "3.10.12"
  },
  "papermill": {
   "default_parameters": {},
   "duration": 258.996185,
   "end_time": "2024-12-06T19:45:20.456965",
   "environment_variables": {},
   "exception": null,
   "input_path": "__notebook__.ipynb",
   "output_path": "__notebook__.ipynb",
   "parameters": {},
   "start_time": "2024-12-06T19:41:01.460780",
   "version": "2.4.0"
  }
 },
 "nbformat": 4,
 "nbformat_minor": 5
}
